{
 "cells": [
  {
   "cell_type": "code",
   "execution_count": 1,
   "id": "2dbfc032",
   "metadata": {},
   "outputs": [
    {
     "name": "stdout",
     "output_type": "stream",
     "text": [
      "1\n",
      "100\n",
      "200\n",
      "4\n"
     ]
    }
   ],
   "source": [
    "#Longest Consecutive Sequence\n",
    "A = [100, 4, 200, 1, 3, 2]\n",
    "unique = set(A)\n",
    "ans = 0\n",
    "for i in unique:\n",
    "    if(i-1 not in unique):\n",
    "        temp = 1\n",
    "        print(i)\n",
    "        ele = i+1\n",
    "        while(True):\n",
    "            if(ele in unique):\n",
    "                ele += 1\n",
    "                temp += 1\n",
    "            else:\n",
    "                break\n",
    "        ans = max(ans,temp)\n",
    "print(ans)"
   ]
  },
  {
   "cell_type": "code",
   "execution_count": null,
   "id": "08ebadbb",
   "metadata": {},
   "outputs": [],
   "source": []
  }
 ],
 "metadata": {
  "kernelspec": {
   "display_name": "Python 3 (ipykernel)",
   "language": "python",
   "name": "python3"
  },
  "language_info": {
   "codemirror_mode": {
    "name": "ipython",
    "version": 3
   },
   "file_extension": ".py",
   "mimetype": "text/x-python",
   "name": "python",
   "nbconvert_exporter": "python",
   "pygments_lexer": "ipython3",
   "version": "3.9.7"
  }
 },
 "nbformat": 4,
 "nbformat_minor": 5
}
