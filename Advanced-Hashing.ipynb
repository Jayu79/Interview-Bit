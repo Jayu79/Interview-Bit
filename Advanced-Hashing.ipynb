{
 "cells": [
  {
   "cell_type": "code",
   "execution_count": 1,
   "id": "2dbfc032",
   "metadata": {},
   "outputs": [
    {
     "name": "stdout",
     "output_type": "stream",
     "text": [
      "1\n",
      "100\n",
      "200\n",
      "4\n"
     ]
    }
   ],
   "source": [
    "#Longest Consecutive Sequence\n",
    "A = [100, 4, 200, 1, 3, 2]\n",
    "unique = set(A)\n",
    "ans = 0\n",
    "for i in unique:\n",
    "    if(i-1 not in unique):\n",
    "        temp = 1\n",
    "        print(i)\n",
    "        ele = i+1\n",
    "        while(True):\n",
    "            if(ele in unique):\n",
    "                ele += 1\n",
    "                temp += 1\n",
    "            else:\n",
    "                break\n",
    "        ans = max(ans,temp)\n",
    "print(ans)"
   ]
  },
  {
   "cell_type": "code",
   "execution_count": 6,
   "id": "08ebadbb",
   "metadata": {},
   "outputs": [
    {
     "name": "stdout",
     "output_type": "stream",
     "text": [
      "27\n",
      "0 0\n",
      "0 1\n",
      "1 1\n",
      "1 1\n",
      "1 1\n",
      "1 1\n",
      "1 1\n",
      "1 1\n",
      "1 2\n",
      "2 2\n",
      "2 2\n",
      "2 2\n",
      "2 2\n",
      "2 2\n",
      "2 2\n",
      "2 2\n",
      "2 2\n",
      "2 2\n",
      "2 2\n",
      "2 2\n",
      "2 2\n",
      "2 2\n",
      "2 2\n",
      "2 2\n",
      "2 2\n",
      "2 2\n",
      "2 2\n",
      "{-8: 0, 0: 1, -1: 2, -17: 3, -45: 4, -72: 5, -57: 6, -71: 7, -84: 9, -89: 10, -95: 11, -120: 12, -131: 13, -103: 14, -74: 15, -77: 16, -102: 17, -85: 18, -110: 19, -106: 20, -126: 21, -124: 22, -123: 23, -140: 24, -150: 25, -175: 26} 2 6 8\n",
      "[-14, 14]\n"
     ]
    }
   ],
   "source": [
    "#Largest Continuous Sequence Zero Sum\n",
    "# A = [1,2,-2,4,-4,2,3,-3]\n",
    "A = [ -8, 8, -1, -16, -28, -27, 15, -14, 14, -27, -5, -6, -25, -11, 28, 29, -3, -25, 17, -25, 4, -20, 2, 1, -17, -10, -25 ]\n",
    "# A = [ 10, 13, -1, 8, 29, 1, 24, 8, 21, 20, 21, -23, -21, 0 ]\n",
    "print(len(A))\n",
    "S = 0\n",
    "seq_sum = {}\n",
    "ans = 0\n",
    "start = 0\n",
    "end = 0\n",
    "temp_start = 0\n",
    "temp_end = 0\n",
    "for i in range(len(A)):\n",
    "    S += A[i]\n",
    "#     print(S,i)\n",
    "    if(S==0):\n",
    "        seq_sum[S] = i\n",
    "        temp_start = 0\n",
    "        temp_end = i\n",
    "    elif(S in seq_sum):\n",
    "        diff = i - seq_sum[S]\n",
    "        if(diff>ans):\n",
    "            ans = diff\n",
    "            temp_start = seq_sum[S]\n",
    "            temp_end = i\n",
    "    else:\n",
    "        seq_sum[S] = i\n",
    "    diff_1 = end - start\n",
    "    diff_2 = temp_end - temp_start\n",
    "    print(diff_1,diff_2)\n",
    "    if(diff_1<=diff_2):\n",
    "        if(diff_1 == diff_2 and start<temp_start):\n",
    "                continue\n",
    "        start,end = temp_start,temp_end\n",
    "print(seq_sum,ans,start,end)\n",
    "print(A[start+1:end+1])"
   ]
  },
  {
   "cell_type": "code",
   "execution_count": 12,
   "id": "316294c0",
   "metadata": {},
   "outputs": [
    {
     "name": "stdout",
     "output_type": "stream",
     "text": [
      "10 1 0\n",
      "[0]\n"
     ]
    }
   ],
   "source": [
    "#Largest Continuous Sequence Zero Sum\n",
    "# A = [ -8, 8, -1, -16, -28, -27, 15, -14, 14, -27, -5, -6, -25, -11, 28, 29, -3, -25, 17, -25, 4, -20, 2, 1, -17, -10, -25 ]\n",
    "A = [ 0, -10, 20, 3, 23, 10, -20, 2, 19, -29, 0 ]\n",
    "N = len(A)\n",
    "counter = {0:-1}\n",
    "maxLen = 0\n",
    "idx = -1\n",
    "total = 0\n",
    "for i in range(N):\n",
    "    total += A[i]\n",
    "    if total in counter:\n",
    "        startIdx = counter[total]+1\n",
    "        endIdx = i\n",
    "        if(endIdx-startIdx+1)>maxLen:\n",
    "            maxLen = endIdx-startIdx+1\n",
    "            idx = startIdx\n",
    "    else:\n",
    "        counter[total] = i\n",
    "print(startIdx,maxLen,idx)\n",
    "print(A[idx:idx+maxLen])"
   ]
  },
  {
   "cell_type": "code",
   "execution_count": 19,
   "id": "c891aeb1",
   "metadata": {},
   "outputs": [
    {
     "name": "stdout",
     "output_type": "stream",
     "text": [
      "8 15\n"
     ]
    }
   ],
   "source": [
    "# Longest Substring Without Repeat\n",
    "s = 'abcghigklmhabko'\n",
    "i = 0\n",
    "j = 0\n",
    "ans = 0\n",
    "hs = set()\n",
    "while(j<len(s)):\n",
    "    if(s[j] not in hs):\n",
    "        hs.add(s[j])\n",
    "        j+=1\n",
    "        ans = max(ans,len(hs))\n",
    "    else:\n",
    "        hs.remove(s[i])\n",
    "        i+=1\n",
    "print(ans,len(s))        "
   ]
  },
  {
   "cell_type": "code",
   "execution_count": 21,
   "id": "8ea18067",
   "metadata": {},
   "outputs": [
    {
     "name": "stdout",
     "output_type": "stream",
     "text": [
      "{1: 2, 2: 1, 3: 2}\n",
      "{1: 3, 2: 2}\n",
      "6\n"
     ]
    }
   ],
   "source": [
    "# Count Right Triangles\n",
    "A = [1, 1, 2, 3, 3]\n",
    "B = [1, 2, 1, 2, 1]\n",
    "cx = {}\n",
    "cy = {}\n",
    "ans = 0\n",
    "for i in range(len(A)):\n",
    "    if(A[i] in cx):\n",
    "        cx[A[i]] += 1\n",
    "    else:\n",
    "        cx[A[i]] = 1\n",
    "for i in range(len(B)):\n",
    "    if(B[i] in cy):\n",
    "        cy[B[i]] += 1\n",
    "    else:\n",
    "        cy[B[i]] = 1\n",
    "print(cx)\n",
    "print(cy)\n",
    "for i in range(len(A)):\n",
    "    x,y = A[i],B[i]\n",
    "    c_x = cx[x]\n",
    "    c_y = cy[y]\n",
    "    ans += (c_x - 1)*(c_y - 1)\n",
    "print(ans)"
   ]
  },
  {
   "cell_type": "code",
   "execution_count": 25,
   "id": "015dbf63",
   "metadata": {},
   "outputs": [
    {
     "name": "stdout",
     "output_type": "stream",
     "text": [
      "0\n"
     ]
    }
   ],
   "source": [
    "# Replicating Substring\n",
    "A = 2\n",
    "B = \"bbaabb\"\n",
    "c = 0\n",
    "freq = {}\n",
    "for i in range(len(B)):\n",
    "    if(B[i] not in freq):\n",
    "        freq[B[i]] = 1\n",
    "    else:\n",
    "        freq[B[i]] += 1\n",
    "for i in freq:\n",
    "    if(freq[i]%A!=0):\n",
    "        c+=1\n",
    "print(c)"
   ]
  },
  {
   "cell_type": "code",
   "execution_count": 38,
   "id": "3a95e3d1",
   "metadata": {},
   "outputs": [
    {
     "name": "stdout",
     "output_type": "stream",
     "text": [
      "{'2@1', '2@2', '1@2', '1@1'}\n",
      "2\n"
     ]
    }
   ],
   "source": [
    "# Count Rectangles\n",
    "# A = [1, 1, 2, 2, 3, 3]\n",
    "# B = [1, 2, 1, 2, 1, 2]\n",
    "A = [1, 1, 2, 2]\n",
    "B = [1, 2, 1, 2]\n",
    "points = set()\n",
    "for i in range(len(A)):\n",
    "    points.add(str(A[i])+'@'+str(B[i]))\n",
    "print(points)\n",
    "c = 0\n",
    "for i in range(len(A)):\n",
    "    for j in range(i+1,len(B)):\n",
    "        x1,y1 = str(A[i]),str(B[i])\n",
    "        x2,y2 = str(A[j]),str(B[j])\n",
    "        if(y1==y2 or x1==x2):\n",
    "            continue\n",
    "        p1 = x2+'@'+y1\n",
    "        p2 = x1+'@'+y2\n",
    "        if(p1 in points and p2 in points):\n",
    "            c+=1\n",
    "print(c)"
   ]
  },
  {
   "cell_type": "code",
   "execution_count": 33,
   "id": "b6fe0759",
   "metadata": {},
   "outputs": [
    {
     "name": "stdout",
     "output_type": "stream",
     "text": [
      "{'2@8', '-1@-1', '5@6', '7@7', '2@-3'}\n"
     ]
    }
   ],
   "source": [
    "# Unique 2D points\n",
    "A = [[5, 6],[2, 8],[-1, -1],[2, -3],[2, 8],[7, 7],[2, -3]]\n",
    "p = set()\n",
    "# print(len(A))\n",
    "for i in range(len(A)):\n",
    "    p.add(str(A[i][0])+'@'+str(A[i][1]))\n",
    "print(p)"
   ]
  },
  {
   "cell_type": "code",
   "execution_count": null,
   "id": "2e418188",
   "metadata": {},
   "outputs": [],
   "source": []
  }
 ],
 "metadata": {
  "kernelspec": {
   "display_name": "Python 3 (ipykernel)",
   "language": "python",
   "name": "python3"
  },
  "language_info": {
   "codemirror_mode": {
    "name": "ipython",
    "version": 3
   },
   "file_extension": ".py",
   "mimetype": "text/x-python",
   "name": "python",
   "nbconvert_exporter": "python",
   "pygments_lexer": "ipython3",
   "version": "3.9.7"
  }
 },
 "nbformat": 4,
 "nbformat_minor": 5
}
