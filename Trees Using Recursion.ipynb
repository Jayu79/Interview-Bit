{
 "cells": [
  {
   "cell_type": "code",
   "execution_count": 1,
   "id": "ce3f860a",
   "metadata": {},
   "outputs": [],
   "source": [
    "#Inorder Traversal\n",
    "# Definition for a  binary tree node\n",
    "# class TreeNode:\n",
    "#\tdef __init__(self, x):\n",
    "#\t\tself.val = x\n",
    "#\t\tself.left = None\n",
    "#\t\tself.right = None\n",
    "\n",
    "class Solution:\n",
    "\tdef inorder(A,l):\n",
    "\t\tif(A==None):\n",
    "\t\t\treturn\n",
    "\t\tSolution.inorder(A.left,l)\n",
    "\t\tl.append(A.val)\n",
    "\t\tSolution.inorder(A.right,l)\n",
    "\t\treturn l\n",
    "\t# @param A : root node of tree\n",
    "\t# @return a list of integers\n",
    "\tdef inorderTraversal(self, A):\n",
    "\t\tl = []\n",
    "\t\treturn Solution.inorder(A,l)"
   ]
  },
  {
   "cell_type": "code",
   "execution_count": null,
   "id": "c58bddcd",
   "metadata": {},
   "outputs": [],
   "source": []
  }
 ],
 "metadata": {
  "kernelspec": {
   "display_name": "Python 3 (ipykernel)",
   "language": "python",
   "name": "python3"
  },
  "language_info": {
   "codemirror_mode": {
    "name": "ipython",
    "version": 3
   },
   "file_extension": ".py",
   "mimetype": "text/x-python",
   "name": "python",
   "nbconvert_exporter": "python",
   "pygments_lexer": "ipython3",
   "version": "3.9.7"
  }
 },
 "nbformat": 4,
 "nbformat_minor": 5
}
