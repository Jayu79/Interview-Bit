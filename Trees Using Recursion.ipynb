{
 "cells": [
  {
   "cell_type": "code",
   "execution_count": null,
   "id": "3fb1a893",
   "metadata": {},
   "outputs": [],
   "source": [
    "#Inorder Traversal\n",
    "# Definition for a  binary tree node\n",
    "# class TreeNode:\n",
    "#\tdef __init__(self, x):\n",
    "#\t\tself.val = x\n",
    "#\t\tself.left = None\n",
    "#\t\tself.right = None\n",
    "\n",
    "class Solution:\n",
    "\tdef inorder(A,l):\n",
    "\t\tif(A==None):\n",
    "\t\t\treturn\n",
    "\t\tSolution.inorder(A.left,l)\n",
    "\t\tl.append(A.val)\n",
    "\t\tSolution.inorder(A.right,l)\n",
    "\t\treturn l\n",
    "\t# @param A : root node of tree\n",
    "\t# @return a list of integers\n",
    "\tdef inorderTraversal(self, A):\n",
    "\t\tl = []\n",
    "\t\treturn Solution.inorder(A,l)"
   ]
  },
  {
   "cell_type": "code",
   "execution_count": null,
   "id": "73a4aae2",
   "metadata": {},
   "outputs": [],
   "source": [
    "#Pre order Traversal\n",
    "# Definition for a  binary tree node\n",
    "# class TreeNode:\n",
    "#\tdef __init__(self, x):\n",
    "#\t\tself.val = x\n",
    "#\t\tself.left = None\n",
    "#\t\tself.right = None\n",
    "\n",
    "class Solution:\n",
    "    def preorder(A,l):\n",
    "\t\tif(A==None):\n",
    "\t\t\treturn\n",
    "        l.append(A.val)\n",
    "\t\tSolution.preorder(A.left,l)\n",
    "\t\tSolution.preorder(A.right,l)\n",
    "\t\treturn l\n",
    "\t# @param A : root node of tree\n",
    "\t# @return a list of integers\n",
    "\tdef preorderTraversal(self, A):\n",
    "        l = []\n",
    "        return Solution.preorder(A,l)"
   ]
  },
  {
   "cell_type": "code",
   "execution_count": null,
   "id": "e6261cce",
   "metadata": {},
   "outputs": [],
   "source": []
  }
 ],
 "metadata": {
  "kernelspec": {
   "display_name": "Python 3 (ipykernel)",
   "language": "python",
   "name": "python3"
  },
  "language_info": {
   "codemirror_mode": {
    "name": "ipython",
    "version": 3
   },
   "file_extension": ".py",
   "mimetype": "text/x-python",
   "name": "python",
   "nbconvert_exporter": "python",
   "pygments_lexer": "ipython3",
   "version": "3.9.7"
  }
 },
 "nbformat": 4,
 "nbformat_minor": 5
}
