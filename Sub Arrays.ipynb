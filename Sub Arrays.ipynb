{
 "cells": [
  {
   "cell_type": "code",
   "execution_count": 1,
   "id": "58b90d0e",
   "metadata": {},
   "outputs": [
    {
     "name": "stdout",
     "output_type": "stream",
     "text": [
      "20\n"
     ]
    }
   ],
   "source": [
    "#Sum of all Sub Arrays\n",
    "A = [1,2,3]\n",
    "N = len(A)\n",
    "S = 0\n",
    "for i in range(0,N):\n",
    "#     print(A[i],(i+1)*(N-i))\n",
    "    S = S + (A[i]*(i+1)*(N-i))\n",
    "print(S)"
   ]
  },
  {
   "cell_type": "code",
   "execution_count": 2,
   "id": "02d11730",
   "metadata": {},
   "outputs": [
    {
     "name": "stdout",
     "output_type": "stream",
     "text": [
      "0\n"
     ]
    }
   ],
   "source": [
    "#Sub Array with least Average\n",
    "A = [ 5, 15, 7, 6, 3, 4, 18, 14, 13, 7, 3, 7, 2, 18 ]\n",
    "B = 6\n",
    "S_min = 0\n",
    "index = 0\n",
    "S_cur = 0\n",
    "for i in range(0,B):\n",
    "    S_min = S_min + A[i]\n",
    "S_cur = S_min\n",
    "for i in range(1,len(A)-B+1):\n",
    "    j = i + B\n",
    "    S_cur = S_cur - A[i-1] + A[j-1]\n",
    "    if(S_cur<S_min):\n",
    "        S_min = S_cur\n",
    "        index = i\n",
    "print(index)"
   ]
  },
  {
   "cell_type": "code",
   "execution_count": 3,
   "id": "d308c407",
   "metadata": {},
   "outputs": [
    {
     "name": "stdout",
     "output_type": "stream",
     "text": [
      "7\n"
     ]
    }
   ],
   "source": [
    "#Maximum Sub Array\n",
    "B = 7\n",
    "C = [ 3, 8, 8, 9, 7 ]\n",
    "g_sum = 0\n",
    "for i in range(0,len(C)):\n",
    "    temp_sum = 0\n",
    "    for j in range(i+1,len(C)+1):\n",
    "        temp_sum = temp_sum + C[j-1]\n",
    "#         print(C[i:j],sum(C[i:j]),temp_sum)\n",
    "        if(temp_sum>g_sum and temp_sum<=B):\n",
    "            g_sum = temp_sum\n",
    "print(g_sum)"
   ]
  },
  {
   "cell_type": "code",
   "execution_count": 4,
   "id": "17c067ef",
   "metadata": {},
   "outputs": [
    {
     "name": "stdout",
     "output_type": "stream",
     "text": [
      "6\n"
     ]
    }
   ],
   "source": [
    "#max sum contigious Sub Array\n",
    "A = [-2, 1, -3, 4, -1, 2, 1, -5, 4] \n",
    "g_max = float('-inf')\n",
    "cur_max = 0\n",
    "for i in range(0,len(A)):\n",
    "    cur_max = cur_max + A[i]\n",
    "    if(g_max<cur_max):\n",
    "        g_max = cur_max\n",
    "    if(cur_max<0):\n",
    "        cur_max = 0\n",
    "print(g_max)"
   ]
  }
 ],
 "metadata": {
  "kernelspec": {
   "display_name": "Python 3 (ipykernel)",
   "language": "python",
   "name": "python3"
  },
  "language_info": {
   "codemirror_mode": {
    "name": "ipython",
    "version": 3
   },
   "file_extension": ".py",
   "mimetype": "text/x-python",
   "name": "python",
   "nbconvert_exporter": "python",
   "pygments_lexer": "ipython3",
   "version": "3.9.7"
  }
 },
 "nbformat": 4,
 "nbformat_minor": 5
}
