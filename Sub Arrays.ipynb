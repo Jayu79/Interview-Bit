{
 "cells": [
  {
   "cell_type": "code",
   "execution_count": 1,
   "id": "559b704a",
   "metadata": {},
   "outputs": [
    {
     "name": "stdout",
     "output_type": "stream",
     "text": [
      "20\n"
     ]
    }
   ],
   "source": [
    "#Sum of all Sub Arrays\n",
    "A = [1,2,3]\n",
    "N = len(A)\n",
    "S = 0\n",
    "for i in range(0,N):\n",
    "#     print(A[i],(i+1)*(N-i))\n",
    "    S = S + (A[i]*(i+1)*(N-i))\n",
    "print(S)"
   ]
  },
  {
   "cell_type": "code",
   "execution_count": 2,
   "id": "a66907f9",
   "metadata": {},
   "outputs": [
    {
     "name": "stdout",
     "output_type": "stream",
     "text": [
      "0\n"
     ]
    }
   ],
   "source": [
    "#Sub Array with least Average\n",
    "A = [ 5, 15, 7, 6, 3, 4, 18, 14, 13, 7, 3, 7, 2, 18 ]\n",
    "B = 6\n",
    "S_min = 0\n",
    "index = 0\n",
    "S_cur = 0\n",
    "for i in range(0,B):\n",
    "    S_min = S_min + A[i]\n",
    "S_cur = S_min\n",
    "for i in range(1,len(A)-B+1):\n",
    "    j = i + B\n",
    "    S_cur = S_cur - A[i-1] + A[j-1]\n",
    "    if(S_cur<S_min):\n",
    "        S_min = S_cur\n",
    "        index = i\n",
    "print(index)"
   ]
  },
  {
   "cell_type": "code",
   "execution_count": 3,
   "id": "12c49423",
   "metadata": {},
   "outputs": [
    {
     "name": "stdout",
     "output_type": "stream",
     "text": [
      "7\n"
     ]
    }
   ],
   "source": [
    "#Maximum Sub Array\n",
    "B = 7\n",
    "C = [ 3, 8, 8, 9, 7 ]\n",
    "g_sum = 0\n",
    "for i in range(0,len(C)):\n",
    "    temp_sum = 0\n",
    "    for j in range(i+1,len(C)+1):\n",
    "        temp_sum = temp_sum + C[j-1]\n",
    "#         print(C[i:j],sum(C[i:j]),temp_sum)\n",
    "        if(temp_sum>g_sum and temp_sum<=B):\n",
    "            g_sum = temp_sum\n",
    "print(g_sum)"
   ]
  },
  {
   "cell_type": "code",
   "execution_count": 4,
   "id": "8754f073",
   "metadata": {},
   "outputs": [
    {
     "name": "stdout",
     "output_type": "stream",
     "text": [
      "6\n"
     ]
    }
   ],
   "source": [
    "#max sum contigious Sub Array\n",
    "A = [-2, 1, -3, 4, -1, 2, 1, -5, 4] \n",
    "g_max = float('-inf')\n",
    "cur_max = 0\n",
    "for i in range(0,len(A)):\n",
    "    cur_max = cur_max + A[i]\n",
    "    if(g_max<cur_max):\n",
    "        g_max = cur_max\n",
    "    if(cur_max<0):\n",
    "        cur_max = 0\n",
    "print(g_max)"
   ]
  },
  {
   "cell_type": "code",
   "execution_count": 109,
   "id": "b4fb599b",
   "metadata": {},
   "outputs": [
    {
     "ename": "IndexError",
     "evalue": "list index out of range",
     "output_type": "error",
     "traceback": [
      "\u001b[0;31m---------------------------------------------------------------------------\u001b[0m",
      "\u001b[0;31mIndexError\u001b[0m                                Traceback (most recent call last)",
      "\u001b[0;32m/var/folders/sp/db53lvqn0yj19k4cjcz37j5h0000gn/T/ipykernel_8248/712310277.py\u001b[0m in \u001b[0;36m<module>\u001b[0;34m\u001b[0m\n\u001b[1;32m      8\u001b[0m     \u001b[0mcount\u001b[0m \u001b[0;34m=\u001b[0m \u001b[0;36m0\u001b[0m\u001b[0;34m\u001b[0m\u001b[0;34m\u001b[0m\u001b[0m\n\u001b[1;32m      9\u001b[0m     \u001b[0;32mfor\u001b[0m \u001b[0mk\u001b[0m \u001b[0;32min\u001b[0m \u001b[0mrange\u001b[0m\u001b[0;34m(\u001b[0m\u001b[0mi\u001b[0m\u001b[0;34m+\u001b[0m\u001b[0;36m1\u001b[0m\u001b[0;34m,\u001b[0m\u001b[0mj\u001b[0m\u001b[0;34m)\u001b[0m\u001b[0;34m:\u001b[0m\u001b[0;34m\u001b[0m\u001b[0;34m\u001b[0m\u001b[0m\n\u001b[0;32m---> 10\u001b[0;31m         \u001b[0;32mif\u001b[0m\u001b[0;34m(\u001b[0m\u001b[0mA\u001b[0m\u001b[0;34m[\u001b[0m\u001b[0mk\u001b[0m\u001b[0;34m-\u001b[0m\u001b[0;36m1\u001b[0m\u001b[0;34m]\u001b[0m\u001b[0;34m==\u001b[0m\u001b[0mA\u001b[0m\u001b[0;34m[\u001b[0m\u001b[0mk\u001b[0m\u001b[0;34m]\u001b[0m\u001b[0;34m)\u001b[0m\u001b[0;34m:\u001b[0m\u001b[0;34m\u001b[0m\u001b[0;34m\u001b[0m\u001b[0m\n\u001b[0m\u001b[1;32m     11\u001b[0m             \u001b[0mcount\u001b[0m \u001b[0;34m=\u001b[0m \u001b[0mcount\u001b[0m \u001b[0;34m+\u001b[0m \u001b[0;36m1\u001b[0m\u001b[0;34m\u001b[0m\u001b[0;34m\u001b[0m\u001b[0m\n\u001b[1;32m     12\u001b[0m     \u001b[0;32mif\u001b[0m\u001b[0;34m(\u001b[0m\u001b[0mcount\u001b[0m\u001b[0;34m==\u001b[0m\u001b[0;36m0\u001b[0m\u001b[0;34m)\u001b[0m\u001b[0;34m:\u001b[0m\u001b[0;34m\u001b[0m\u001b[0;34m\u001b[0m\u001b[0m\n",
      "\u001b[0;31mIndexError\u001b[0m: list index out of range"
     ]
    }
   ],
   "source": [
    "A = [ 0, 0, 0, 1, 0, 0, 0, 1, 0, 1, 1 ]\n",
    "B = 1\n",
    "count = 0\n",
    "list_A = []\n",
    "le = (2*B) + 1\n",
    "for i in range(0,len(A)-2*B):\n",
    "    j = j + le\n",
    "    count = 0\n",
    "    for k in range(i+1,j):\n",
    "        if(A[k-1]==A[k]):\n",
    "            count = count + 1\n",
    "    if(count==0):\n",
    "        list_A.append(int((i+j)/2))\n",
    "print(list_A)"
   ]
  },
  {
   "cell_type": "code",
   "execution_count": null,
   "id": "818791fa",
   "metadata": {},
   "outputs": [],
   "source": [
    "count = 0\n",
    "7\n",
    "        g_count = 0\n",
    "8\n",
    "        list_A = []\n",
    "9\n",
    "        le = (2*B) + 1\n",
    "10\n",
    "        for i in range(0,len(A)-B-1):\n",
    "11\n",
    "            j = i+le\n",
    "12\n",
    "            count = 0\n",
    "13\n",
    "            for k in range(i+1,j):\n",
    "14\n",
    "                if(A[k-1]==A[k]):\n",
    "15\n",
    "                    count = count + 1\n",
    "16\n",
    "            if(count==0):\n",
    "17\n",
    "                list_A.append(int((i+j)/2))\n",
    "18\n",
    "        return list_A"
   ]
  }
 ],
 "metadata": {
  "kernelspec": {
   "display_name": "Python 3 (ipykernel)",
   "language": "python",
   "name": "python3"
  },
  "language_info": {
   "codemirror_mode": {
    "name": "ipython",
    "version": 3
   },
   "file_extension": ".py",
   "mimetype": "text/x-python",
   "name": "python",
   "nbconvert_exporter": "python",
   "pygments_lexer": "ipython3",
   "version": "3.9.7"
  }
 },
 "nbformat": 4,
 "nbformat_minor": 5
}
