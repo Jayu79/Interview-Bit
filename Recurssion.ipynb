{
 "cells": [
  {
   "cell_type": "code",
   "execution_count": 8,
   "id": "5c29fb44",
   "metadata": {
    "scrolled": true
   },
   "outputs": [
    {
     "data": {
      "text/plain": [
       "3"
      ]
     },
     "execution_count": 8,
     "metadata": {},
     "output_type": "execute_result"
    }
   ],
   "source": [
    "#Find Fibonacci\n",
    "def fibo(N):\n",
    "    if(N==1 or N==2):\n",
    "        return 1\n",
    "#     print(N)\n",
    "    return fibo(N-2)+fibo(N-1)\n",
    "fibo(4)"
   ]
  },
  {
   "cell_type": "code",
   "execution_count": 11,
   "id": "c8c74d0d",
   "metadata": {},
   "outputs": [
    {
     "data": {
      "text/plain": [
       "120"
      ]
     },
     "execution_count": 11,
     "metadata": {},
     "output_type": "execute_result"
    }
   ],
   "source": [
    "def fact(N):\n",
    "    if(N==1 or N==0):\n",
    "        return 1\n",
    "    return N*fact(N-1)\n",
    "fact(5)"
   ]
  },
  {
   "cell_type": "code",
   "execution_count": 34,
   "id": "d7260232",
   "metadata": {},
   "outputs": [
    {
     "name": "stdout",
     "output_type": "stream",
     "text": [
      "cool\n",
      "l\n",
      "o\n",
      "o\n",
      "c\n",
      "\n"
     ]
    }
   ],
   "source": [
    "def rev(le,li,A):\n",
    "    if(le == 0):\n",
    "        return\n",
    "    print(A[le-1])\n",
    "    li = li + A[le-1]\n",
    "    return rev(le-1,li,A)\n",
    "A = input()\n",
    "li = \"\"\n",
    "rev(len(A),li,A)\n",
    "print(li)"
   ]
  },
  {
   "cell_type": "code",
   "execution_count": 72,
   "id": "7fe92825",
   "metadata": {},
   "outputs": [
    {
     "data": {
      "text/plain": [
       "10"
      ]
     },
     "execution_count": 72,
     "metadata": {},
     "output_type": "execute_result"
    }
   ],
   "source": [
    "#Sum of Digits\n",
    "def digits(N):\n",
    "    if(N==0):\n",
    "        return 0\n",
    "    else:\n",
    "        return (N%10) + digits(N//10)\n",
    "digits(55)"
   ]
  },
  {
   "cell_type": "code",
   "execution_count": null,
   "id": "c5df20f1",
   "metadata": {},
   "outputs": [],
   "source": []
  }
 ],
 "metadata": {
  "kernelspec": {
   "display_name": "Python 3 (ipykernel)",
   "language": "python",
   "name": "python3"
  },
  "language_info": {
   "codemirror_mode": {
    "name": "ipython",
    "version": 3
   },
   "file_extension": ".py",
   "mimetype": "text/x-python",
   "name": "python",
   "nbconvert_exporter": "python",
   "pygments_lexer": "ipython3",
   "version": "3.9.7"
  }
 },
 "nbformat": 4,
 "nbformat_minor": 5
}
