{
 "cells": [
  {
   "cell_type": "code",
   "execution_count": 8,
   "id": "5c29fb44",
   "metadata": {
    "scrolled": true
   },
   "outputs": [
    {
     "data": {
      "text/plain": [
       "3"
      ]
     },
     "execution_count": 8,
     "metadata": {},
     "output_type": "execute_result"
    }
   ],
   "source": [
    "#Find Fibonacci\n",
    "def fibo(N):\n",
    "    if(N==1 or N==2):\n",
    "        return 1\n",
    "#     print(N)\n",
    "    return fibo(N-2)+fibo(N-1)\n",
    "fibo(4)"
   ]
  },
  {
   "cell_type": "code",
   "execution_count": 11,
   "id": "c8c74d0d",
   "metadata": {},
   "outputs": [
    {
     "data": {
      "text/plain": [
       "120"
      ]
     },
     "execution_count": 11,
     "metadata": {},
     "output_type": "execute_result"
    }
   ],
   "source": [
    "def fact(N):\n",
    "    if(N==1 or N==0):\n",
    "        return 1\n",
    "    return N*fact(N-1)\n",
    "fact(5)"
   ]
  },
  {
   "cell_type": "code",
   "execution_count": 34,
   "id": "d7260232",
   "metadata": {},
   "outputs": [
    {
     "name": "stdout",
     "output_type": "stream",
     "text": [
      "cool\n",
      "l\n",
      "o\n",
      "o\n",
      "c\n",
      "\n"
     ]
    }
   ],
   "source": [
    "def rev(le,li,A):\n",
    "    if(le == 0):\n",
    "        return\n",
    "    print(A[le-1])\n",
    "    li = li + A[le-1]\n",
    "    return rev(le-1,li,A)\n",
    "A = input()\n",
    "li = \"\"\n",
    "rev(len(A),li,A)\n",
    "print(li)"
   ]
  },
  {
   "cell_type": "code",
   "execution_count": 72,
   "id": "7fe92825",
   "metadata": {},
   "outputs": [
    {
     "data": {
      "text/plain": [
       "10"
      ]
     },
     "execution_count": 72,
     "metadata": {},
     "output_type": "execute_result"
    }
   ],
   "source": [
    "#Sum of Digits\n",
    "def digits(N):\n",
    "    if(N==0):\n",
    "        return 0\n",
    "    else:\n",
    "        return (N%10) + digits(N//10)\n",
    "digits(55)"
   ]
  },
  {
   "cell_type": "code",
   "execution_count": 79,
   "id": "c5df20f1",
   "metadata": {},
   "outputs": [
    {
     "name": "stdout",
     "output_type": "stream",
     "text": [
      "1\n"
     ]
    }
   ],
   "source": [
    "#Check Paliandrome\n",
    "def pal(A,start,end):\n",
    "    if(start>=end):\n",
    "        return 1\n",
    "    if(A[start]==A[end] and pal(A,start+1,end-1)):\n",
    "        return 1\n",
    "    else:\n",
    "        return 0\n",
    "A = 'abcba'\n",
    "end = len(A) - 1\n",
    "start = 0 \n",
    "print(pal(A,start,end))"
   ]
  },
  {
   "cell_type": "code",
   "execution_count": 1,
   "id": "f8a1529f",
   "metadata": {},
   "outputs": [
    {
     "data": {
      "text/plain": [
       "20805472"
      ]
     },
     "execution_count": 1,
     "metadata": {},
     "output_type": "execute_result"
    }
   ],
   "source": [
    "#power function\n",
    "def power(A,B,C):\n",
    "    if(A==0):\n",
    "        return 0\n",
    "    if(B==0):\n",
    "        return 1\n",
    "    P = power(A,B//2,C)\n",
    "    if(B%2 == 0):\n",
    "        return ((P%C)*(P%C))%C\n",
    "    else:\n",
    "        return (A*(P*P))%C\n",
    "\n",
    "A = 71045970\n",
    "B = 41535484\n",
    "C = 64735492\n",
    "power(A,B,C)"
   ]
  },
  {
   "cell_type": "code",
   "execution_count": 102,
   "id": "72e5f401",
   "metadata": {},
   "outputs": [
    {
     "name": "stdout",
     "output_type": "stream",
     "text": [
      "not magic\n"
     ]
    }
   ],
   "source": [
    "#Magic Number\n",
    "def magic(A):\n",
    "    if(A==0):\n",
    "        return 0\n",
    "    return (A%10) + magic(A//10)\n",
    "    \n",
    "A = 12345\n",
    "while(A>9):\n",
    "    A = magic(A)\n",
    "if(A==1):\n",
    "    print(\"magic\")\n",
    "else:\n",
    "    print(\"not magic\")"
   ]
  },
  {
   "cell_type": "code",
   "execution_count": 126,
   "id": "3f74ee4f",
   "metadata": {},
   "outputs": [
    {
     "name": "stdout",
     "output_type": "stream",
     "text": [
      "2 2 even\n"
     ]
    },
    {
     "data": {
      "text/plain": [
       "1"
      ]
     },
     "execution_count": 126,
     "metadata": {},
     "output_type": "execute_result"
    }
   ],
   "source": [
    "#Kth Symbol\n",
    "def find(n,k):\n",
    "    if(k==1):\n",
    "        return 0\n",
    "    if(k%2==0 and k!=0):\n",
    "        print(n,k,\"even\")\n",
    "        p = find(n-1,k//2)\n",
    "#     elif(k%2==1 and k!= 1):\n",
    "#         print(n,k,\"1\")\n",
    "#         p = 1\n",
    "    else:\n",
    "        p = find(n-1,(k+1)//2)\n",
    "    if(k%2==1):\n",
    "        return p\n",
    "    else:\n",
    "        return 1-p\n",
    "find(3,3)"
   ]
  },
  {
   "cell_type": "code",
   "execution_count": 12,
   "id": "e7860bd5",
   "metadata": {},
   "outputs": [
    {
     "name": "stdout",
     "output_type": "stream",
     "text": [
      "2 2 [0, 1, 3, 2]\n",
      "4 3 [0, 1, 3, 2, 6, 7, 5, 4]\n",
      "8 4 [0, 1, 3, 2, 6, 7, 5, 4, 12, 13, 15, 14, 10, 11, 9, 8]\n"
     ]
    },
    {
     "data": {
      "text/plain": [
       "[0, 1, 3, 2, 6, 7, 5, 4, 12, 13, 15, 14, 10, 11, 9, 8]"
      ]
     },
     "execution_count": 12,
     "metadata": {},
     "output_type": "execute_result"
    }
   ],
   "source": [
    "#Gray Code\n",
    "def gray_code(A):\n",
    "    if(A==1):\n",
    "        return [0,1]\n",
    "    res = gray_code(A-1)\n",
    "    msb = 2**(A-1)\n",
    "    for i in range(len(res)-1, -1, -1):\n",
    "        res.append(msb+res[i])\n",
    "    print(msb,A,res)\n",
    "    return res\n",
    "gray_code(4)"
   ]
  },
  {
   "cell_type": "code",
   "execution_count": null,
   "id": "019faf13",
   "metadata": {},
   "outputs": [],
   "source": []
  }
 ],
 "metadata": {
  "kernelspec": {
   "display_name": "Python 3 (ipykernel)",
   "language": "python",
   "name": "python3"
  },
  "language_info": {
   "codemirror_mode": {
    "name": "ipython",
    "version": 3
   },
   "file_extension": ".py",
   "mimetype": "text/x-python",
   "name": "python",
   "nbconvert_exporter": "python",
   "pygments_lexer": "ipython3",
   "version": "3.9.7"
  }
 },
 "nbformat": 4,
 "nbformat_minor": 5
}
