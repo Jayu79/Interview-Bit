{
 "cells": [
  {
   "cell_type": "code",
   "execution_count": 17,
   "id": "dc70f9a7",
   "metadata": {},
   "outputs": [
    {
     "name": "stdout",
     "output_type": "stream",
     "text": [
      "0 2 3 6\n",
      "1 1 2 2\n",
      "2 0 1 1\n",
      "3 0 0 1\n",
      "14\n"
     ]
    }
   ],
   "source": [
    "# Sorted Permutation Rank\n",
    "def factorial(A):\n",
    "    if(A==0):\n",
    "        return 1\n",
    "    else:\n",
    "        return A*factorial(A-1)\n",
    "\n",
    "def count_smaller_than_ch(A,i):\n",
    "    count = 0\n",
    "    for j in range(i+1,len(A)):\n",
    "        if(A[j]<A[i]):\n",
    "            count += 1\n",
    "    return count\n",
    "A = 'view'\n",
    "ans = 0\n",
    "n = len(A)\n",
    "for i in range(n):\n",
    "    count = count_smaller_than_ch(A,i)\n",
    "    rest_len = n - i - 1\n",
    "    fact = factorial(rest_len)\n",
    "    print(i,count,rest_len,fact)\n",
    "    ans += count*fact\n",
    "print(ans)"
   ]
  },
  {
   "cell_type": "code",
   "execution_count": 52,
   "id": "9c8b1908",
   "metadata": {},
   "outputs": [
    {
     "name": "stdout",
     "output_type": "stream",
     "text": [
      "3\n"
     ]
    }
   ],
   "source": [
    "# Sorted permutation Rank with repetetion\n",
    "def count_smaller(A,i):\n",
    "    smaller = set()\n",
    "    for j in range(i+1,len(A)):\n",
    "        if(A[j]<A[i]):\n",
    "            smaller.add(A[j])\n",
    "    return smaller\n",
    "\n",
    "def freq_dict(A,i):\n",
    "    freq = {}\n",
    "    for j in range(i,len(A)):\n",
    "        if(A[j] not in freq):\n",
    "            freq[A[j]] = 1\n",
    "        else:\n",
    "            freq[A[j]] += 1\n",
    "    return freq\n",
    "\n",
    "def cal_rank(smaller_set,count_dict,pos):\n",
    "    rank = 0\n",
    "    num = factorial(pos)\n",
    "    for i in smaller_set:\n",
    "        den = 1\n",
    "        for j in count_dict:\n",
    "            if(i==j):\n",
    "                den *= factorial(count_dict[j]-1)\n",
    "            else:\n",
    "                den *= factorial(count_dict[j])\n",
    "        rank += num//den\n",
    "    return rank\n",
    "A = 'bca'\n",
    "n = len(A)\n",
    "ans = 0\n",
    "for i in range(n):\n",
    "    smaller_set = count_smaller(A,i)\n",
    "    count_dict = freq_dict(A,i)\n",
    "    pos = n-i-1\n",
    "    ans += cal_rank(smaller_set,count_dict,pos)\n",
    "print(ans)"
   ]
  },
  {
   "cell_type": "code",
   "execution_count": null,
   "id": "b6690240",
   "metadata": {},
   "outputs": [],
   "source": []
  }
 ],
 "metadata": {
  "kernelspec": {
   "display_name": "Python 3 (ipykernel)",
   "language": "python",
   "name": "python3"
  },
  "language_info": {
   "codemirror_mode": {
    "name": "ipython",
    "version": 3
   },
   "file_extension": ".py",
   "mimetype": "text/x-python",
   "name": "python",
   "nbconvert_exporter": "python",
   "pygments_lexer": "ipython3",
   "version": "3.9.7"
  }
 },
 "nbformat": 4,
 "nbformat_minor": 5
}
