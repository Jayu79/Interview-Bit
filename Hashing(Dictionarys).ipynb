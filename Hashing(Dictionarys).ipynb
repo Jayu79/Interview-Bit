{
 "cells": [
  {
   "cell_type": "code",
   "execution_count": null,
   "id": "2d76e433",
   "metadata": {},
   "outputs": [],
   "source": [
    "#Common Elements using dictionarys\n",
    "A = [1, 2, 2, 1]\n",
    "B = [2, 3, 1, 2]\n",
    "C = []\n",
    "dict_a = {}\n",
    "dict_b = {}\n",
    "for i in A:\n",
    "    dict_a[i] = 0\n",
    "for i in A:\n",
    "    dict_a[i] = dict_a[i] + 1\n",
    "print(dict_A)\n",
    "for i in B:\n",
    "    dict_b[i] = 0\n",
    "for i in B:\n",
    "    dict_b[i] = dict_b[i] + 1\n",
    "print(dict_b)\n",
    "print(dict_a.keys())\n",
    "for i in dict_a:\n",
    "    if i in dict_b:\n",
    "        print(i)\n",
    "        if(dict_a[i]<dict_b[i]):\n",
    "            for j in range(dict_a[i]):\n",
    "                C.append(i)\n",
    "        else:\n",
    "            for j in range(dict_b[i]):\n",
    "                C.append(i)\n",
    "print(C)"
   ]
  },
  {
   "cell_type": "code",
   "execution_count": null,
   "id": "36dccda8",
   "metadata": {},
   "outputs": [],
   "source": [
    "#First repeating Element\n",
    "A = [10, 5, 3, 4, 3, 5, 6]\n",
    "dict_a = {}\n",
    "for i in A:\n",
    "    dict_a[i] = 0\n",
    "for i in A:\n",
    "    dict_a[i] += 1\n",
    "for i in A:\n",
    "    if(dict_a[i] > 1):\n",
    "        print(i)\n",
    "        break"
   ]
  },
  {
   "cell_type": "code",
   "execution_count": 4,
   "id": "5125da75",
   "metadata": {},
   "outputs": [
    {
     "name": "stdout",
     "output_type": "stream",
     "text": [
      "4 [2, -2, 4, -4] 5 {1: 0, 3: 1, 5: 3}\n"
     ]
    }
   ],
   "source": [
    "# Largest Continuous Sequence Zero Sum\n",
    "# A = [1,2,-3,3]\n",
    "A = [1,2,-2,4,-4]\n",
    "dict_a = {}\n",
    "cur_sum = 0\n",
    "max_len = 0\n",
    "for i in range(len(A)):\n",
    "    cur_sum = cur_sum + A[i]\n",
    "    if(A[i]==0 and cur_sum == 0):\n",
    "        max_len = max_len + 1\n",
    "    if(cur_sum == 0):\n",
    "        max_len = i + 1\n",
    "        end = i + 1\n",
    "    if cur_sum in dict_a:\n",
    "#         max_len = max(max_len,i-dict_a[cur_sum])\n",
    "#         end = i\n",
    "#         start = dict_a[cur_sum]\n",
    "        if(max_len < i - dict_a[cur_sum]):\n",
    "            max_len = i - dict_a[cur_sum]\n",
    "            end = i + 1\n",
    "            start = dict_a[cur_sum]\n",
    "    else:\n",
    "        dict_a[cur_sum] = i\n",
    "print(max_len,A[end - max_len:end],end,dict_a)"
   ]
  },
  {
   "cell_type": "code",
   "execution_count": null,
   "id": "12e42110",
   "metadata": {},
   "outputs": [],
   "source": [
    "#Sub Array with 0 sum\n",
    "# A = [1,2,-3,4,-4]\n",
    "A = [-1,1]\n",
    "B = set()\n",
    "cur_sum = 0\n",
    "for i in range(len(A)):\n",
    "#     print(cur_sum)\n",
    "    if(A[i] == 0):\n",
    "        print(0)\n",
    "    cur_sum = cur_sum + A[i]\n",
    "    if(cur_sum == 0):\n",
    "        print(1)\n",
    "    if cur_sum in B:\n",
    "        print(1)\n",
    "    else:\n",
    "        B.add(cur_sum)\n",
    "print(-1,B)"
   ]
  },
  {
   "cell_type": "code",
   "execution_count": null,
   "id": "a1a3f57c",
   "metadata": {},
   "outputs": [],
   "source": [
    "#Shaggy and Distances\n",
    "A = [7, 1, 3, 4, 2, 7]\n",
    "dict_a = {}\n",
    "length = 0\n",
    "min_len = len(A)\n",
    "for i in range(len(A)):\n",
    "    if A[i] not in dict_a:\n",
    "        dict_a[A[i]] = i\n",
    "    elif A[i] in dict_a:\n",
    "        print(i,dict_a[A[i]])\n",
    "        length = i - dict_a[A[i]]\n",
    "        min_len = min(min_len,length)\n",
    "print(dict_a,min_len)"
   ]
  },
  {
   "cell_type": "code",
   "execution_count": 16,
   "id": "01dbdc5d",
   "metadata": {},
   "outputs": [
    {
     "name": "stdout",
     "output_type": "stream",
     "text": [
      "-1\n"
     ]
    }
   ],
   "source": [
    "#K occurences\n",
    "A = [1,2,3,4,5]\n",
    "K = 2\n",
    "N = 5\n",
    "dict_a = {}\n",
    "for i in A:\n",
    "    dict_a[i] = 0\n",
    "for i in A:\n",
    "    dict_a[i] = dict_a[i] + 1\n",
    "ans = 0\n",
    "count = 0\n",
    "for i in dict_a:\n",
    "    if(dict_a[i] == K):\n",
    "        count = count + 1\n",
    "        ans = ans + i\n",
    "if(ans>=0 and count>0):\n",
    "    print(ans)\n",
    "else:\n",
    "    print(-1)"
   ]
  },
  {
   "cell_type": "code",
   "execution_count": 20,
   "id": "fff86742",
   "metadata": {},
   "outputs": [
    {
     "name": "stdout",
     "output_type": "stream",
     "text": [
      "{'a': 2, 'b': 2, 'e': 2, 'g': 1, 'h': 1}\n",
      "2\n"
     ]
    }
   ],
   "source": [
    "#Check Paliandrome\n",
    "A = 'abbaee'\n",
    "dict_a = {}\n",
    "for i in range(len(A)):\n",
    "    dict_a[A[i]] = 0\n",
    "for i in range(len(A)):\n",
    "    dict_a[A[i]] += 1\n",
    "print(dict_a)\n",
    "c_o = 0\n",
    "for i in dict_a:\n",
    "    if(dict_a[i]%2==1):\n",
    "        c_o += 1\n",
    "print(c_o)"
   ]
  },
  {
   "cell_type": "code",
   "execution_count": null,
   "id": "7c3a7517",
   "metadata": {},
   "outputs": [],
   "source": []
  }
 ],
 "metadata": {
  "kernelspec": {
   "display_name": "Python 3 (ipykernel)",
   "language": "python",
   "name": "python3"
  },
  "language_info": {
   "codemirror_mode": {
    "name": "ipython",
    "version": 3
   },
   "file_extension": ".py",
   "mimetype": "text/x-python",
   "name": "python",
   "nbconvert_exporter": "python",
   "pygments_lexer": "ipython3",
   "version": "3.9.7"
  }
 },
 "nbformat": 4,
 "nbformat_minor": 5
}
