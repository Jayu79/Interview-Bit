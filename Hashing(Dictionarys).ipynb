{
 "cells": [
  {
   "cell_type": "code",
   "execution_count": null,
   "id": "2a94e291",
   "metadata": {},
   "outputs": [],
   "source": [
    "#Common Elements using dictionarys\n",
    "A = [1, 2, 2, 1]\n",
    "B = [2, 3, 1, 2]\n",
    "C = []\n",
    "dict_a = {}\n",
    "dict_b = {}\n",
    "for i in A:\n",
    "    dict_a[i] = 0\n",
    "for i in A:\n",
    "    dict_a[i] = dict_a[i] + 1\n",
    "print(dict_A)\n",
    "for i in B:\n",
    "    dict_b[i] = 0\n",
    "for i in B:\n",
    "    dict_b[i] = dict_b[i] + 1\n",
    "print(dict_b)\n",
    "print(dict_a.keys())\n",
    "for i in dict_a:\n",
    "    if i in dict_b:\n",
    "        print(i)\n",
    "        if(dict_a[i]<dict_b[i]):\n",
    "            for j in range(dict_a[i]):\n",
    "                C.append(i)\n",
    "        else:\n",
    "            for j in range(dict_b[i]):\n",
    "                C.append(i)\n",
    "print(C)"
   ]
  },
  {
   "cell_type": "code",
   "execution_count": null,
   "id": "2ac948bd",
   "metadata": {},
   "outputs": [],
   "source": [
    "#First repeating Element\n",
    "A = [10, 5, 3, 4, 3, 5, 6]\n",
    "dict_a = {}\n",
    "for i in A:\n",
    "    dict_a[i] = 0\n",
    "for i in A:\n",
    "    dict_a[i] += 1\n",
    "for i in A:\n",
    "    if(dict_a[i] > 1):\n",
    "        print(i)\n",
    "        break"
   ]
  },
  {
   "cell_type": "code",
   "execution_count": 4,
   "id": "8d5aa5d5",
   "metadata": {},
   "outputs": [
    {
     "name": "stdout",
     "output_type": "stream",
     "text": [
      "4 [2, -2, 4, -4] 5 {1: 0, 3: 1, 5: 3}\n"
     ]
    }
   ],
   "source": [
    "# Largest Continuous Sequence Zero Sum\n",
    "# A = [1,2,-3,3]\n",
    "A = [1,2,-2,4,-4]\n",
    "dict_a = {}\n",
    "cur_sum = 0\n",
    "max_len = 0\n",
    "for i in range(len(A)):\n",
    "    cur_sum = cur_sum + A[i]\n",
    "    if(A[i]==0 and cur_sum == 0):\n",
    "        max_len = max_len + 1\n",
    "    if(cur_sum == 0):\n",
    "        max_len = i + 1\n",
    "        end = i + 1\n",
    "    if cur_sum in dict_a:\n",
    "#         max_len = max(max_len,i-dict_a[cur_sum])\n",
    "#         end = i\n",
    "#         start = dict_a[cur_sum]\n",
    "        if(max_len < i - dict_a[cur_sum]):\n",
    "            max_len = i - dict_a[cur_sum]\n",
    "            end = i + 1\n",
    "#             start = dict_a[cur_sum]\n",
    "    else:\n",
    "        dict_a[cur_sum] = i\n",
    "print(max_len,A[end - max_len:end],end,dict_a)"
   ]
  },
  {
   "cell_type": "code",
   "execution_count": null,
   "id": "7c4e8c0b",
   "metadata": {},
   "outputs": [],
   "source": [
    "#Sub Array with 0 sum\n",
    "# A = [1,2,-3,4,-4]\n",
    "A = [-1,1]\n",
    "B = set()\n",
    "cur_sum = 0\n",
    "for i in range(len(A)):\n",
    "#     print(cur_sum)\n",
    "    if(A[i] == 0):\n",
    "        print(0)\n",
    "    cur_sum = cur_sum + A[i]\n",
    "    if(cur_sum == 0):\n",
    "        print(1)\n",
    "    if cur_sum in B:\n",
    "        print(1)\n",
    "    else:\n",
    "        B.add(cur_sum)\n",
    "print(-1,B)"
   ]
  },
  {
   "cell_type": "code",
   "execution_count": null,
   "id": "0e41f97d",
   "metadata": {},
   "outputs": [],
   "source": [
    "#Shaggy and Distances\n",
    "A = [7, 1, 3, 4, 2, 7]\n",
    "dict_a = {}\n",
    "length = 0\n",
    "min_len = len(A)\n",
    "for i in range(len(A)):\n",
    "    if A[i] not in dict_a:\n",
    "        dict_a[A[i]] = i\n",
    "    elif A[i] in dict_a:\n",
    "        print(i,dict_a[A[i]])\n",
    "        length = i - dict_a[A[i]]\n",
    "        min_len = min(min_len,length)\n",
    "print(dict_a,min_len)"
   ]
  },
  {
   "cell_type": "code",
   "execution_count": 16,
   "id": "07fc7e17",
   "metadata": {},
   "outputs": [
    {
     "name": "stdout",
     "output_type": "stream",
     "text": [
      "-1\n"
     ]
    }
   ],
   "source": [
    "#K occurences\n",
    "A = [1,2,3,4,5]\n",
    "K = 2\n",
    "N = 5\n",
    "dict_a = {}\n",
    "for i in A:\n",
    "    dict_a[i] = 0\n",
    "for i in A:\n",
    "    dict_a[i] = dict_a[i] + 1\n",
    "ans = 0\n",
    "count = 0\n",
    "for i in dict_a:\n",
    "    if(dict_a[i] == K):\n",
    "        count = count + 1\n",
    "        ans = ans + i\n",
    "if(ans>=0 and count>0):\n",
    "    print(ans)\n",
    "else:\n",
    "    print(-1)"
   ]
  },
  {
   "cell_type": "code",
   "execution_count": 20,
   "id": "afc6345d",
   "metadata": {},
   "outputs": [
    {
     "name": "stdout",
     "output_type": "stream",
     "text": [
      "{'a': 2, 'b': 2, 'e': 2, 'g': 1, 'h': 1}\n",
      "2\n"
     ]
    }
   ],
   "source": [
    "#Check Paliandrome\n",
    "A = 'abbaee'\n",
    "dict_a = {}\n",
    "for i in range(len(A)):\n",
    "    dict_a[A[i]] = 0\n",
    "for i in range(len(A)):\n",
    "    dict_a[A[i]] += 1\n",
    "print(dict_a)\n",
    "c_o = 0\n",
    "for i in dict_a:\n",
    "    if(dict_a[i]%2==1):\n",
    "        c_o += 1\n",
    "print(c_o)"
   ]
  },
  {
   "cell_type": "code",
   "execution_count": 46,
   "id": "bd7c8ad8",
   "metadata": {},
   "outputs": [
    {
     "name": "stdout",
     "output_type": "stream",
     "text": [
      "0\n",
      "42\n",
      "51\n",
      "89\n",
      "125\n",
      "131\n",
      "117\n",
      "117\n",
      "119\n",
      "124\n",
      "96\n",
      "109\n",
      "96\n",
      "129\n",
      "129\n",
      "88\n",
      "113\n",
      "130\n",
      "142\n",
      "[50, 50]\n"
     ]
    }
   ],
   "source": [
    "#Sub Array with Given sum\n",
    "A = [ 42, 9, 38, 36, 48, 33, 36, 50, 38, 8, 13, 37, 33, 38, 17, 25, 50, 50, 41, 29, 34, 18, 16, 6, 49, 16, 21, 29, 41, 7, 37, 14, 5, 30, 35, 26, 38, 35, 9, 36, 34, 39, 9, 4, 41, 40, 3, 50, 27, 17, 14, 5, 31, 42, 5, 39, 38, 38, 47, 24, 41, 5, 50, 9, 29, 14, 19, 27, 6, 23, 17, 1, 22, 38, 35, 6, 35, 41, 34, 21, 30, 45, 48, 45, 37 ]\n",
    "# A = [ 1, 1000000000 ]\n",
    "B = 100\n",
    "N = len(A)\n",
    "end = 0\n",
    "start = 0\n",
    "Sum = 0\n",
    "while end<=N:\n",
    "#     print(Sum)\n",
    "    while(Sum>B and start < N):\n",
    "        Sum = Sum - A[start]\n",
    "        start += 1\n",
    "    if(Sum == B):\n",
    "        print(A[start:end])\n",
    "        break\n",
    "    elif(Sum<B and end<N):\n",
    "        Sum = Sum + A[end]\n",
    "    end += 1"
   ]
  },
  {
   "cell_type": "code",
   "execution_count": 68,
   "id": "b24a467d",
   "metadata": {},
   "outputs": [
    {
     "name": "stdout",
     "output_type": "stream",
     "text": [
      "4 8\n"
     ]
    }
   ],
   "source": [
    "# 2 Sum\n",
    "A = [ 4, 7, -4, 2, 2, 2, 3, -5, -3, 9, -4, 9, -7, 7, -1, 9, 9, 4, 1, -4, -2, 3, -3, -5, 4, -7, 7, 9, -4, 4, -8 ]\n",
    "B = -3\n",
    "ans_1 = len(A)\n",
    "ans_2 = len(A)\n",
    "dict_a = {}\n",
    "freq = {}\n",
    "start = 0\n",
    "end = 0\n",
    "max_index = {}\n",
    "for i in range(len(A)):\n",
    "    if A[i] not in freq:\n",
    "        freq[A[i]] = 1\n",
    "    else:\n",
    "        freq[A[i]] += 1\n",
    "    max_index[A[i]] = i\n",
    "for i in range(len(A)):\n",
    "    if A[i] not in dict_a:\n",
    "        dict_a[A[i]] = i\n",
    "# print(dict_a,freq,max_index)\n",
    "for i in range(len(A)):\n",
    "#     print(A[i])\n",
    "    i_1 = A[i]\n",
    "    i_2 = B - i_1\n",
    "    if(i_1 == i_2):\n",
    "        if(freq[i_2]>1):\n",
    "            start = dict_a[i_1] + 1\n",
    "            end = max_index[i_2] + 1\n",
    "    else:\n",
    "        if i_2 in dict_a:\n",
    "            start = dict_a[i_1] + 1\n",
    "            end = dict_a[i_2] + 1\n",
    "            if(end<ans_2 and start<ans_2):\n",
    "#                 print(ans_1,ans_2)\n",
    "                ans_1 = start\n",
    "                ans_2 = end\n",
    "            if(end == ans_2):\n",
    "                if(start<ans_1):\n",
    "                    ans_1 = start\n",
    "                    ans_2 = end\n",
    "print(ans_1,ans_2)"
   ]
  },
  {
   "cell_type": "code",
   "execution_count": 73,
   "id": "a6ffa02c",
   "metadata": {},
   "outputs": [
    {
     "name": "stdout",
     "output_type": "stream",
     "text": [
      "3 3 1\n",
      "3 3 1\n"
     ]
    }
   ],
   "source": [
    "#Diffk 11\n",
    "A = [1,5,3,4,3]\n",
    "K = 0\n",
    "freq = {}\n",
    "for i in range(len(A)):\n",
    "    if A[i] not in freq:\n",
    "        freq[A[i]] = 1\n",
    "    else:\n",
    "        freq[A[i]] += 1\n",
    "for i in range(len(A)):\n",
    "    i_1 = A[i]\n",
    "    i_2 = i_1 - K\n",
    "    if(i_2 == i_1):\n",
    "        if(freq[i_2] > 1):\n",
    "            print(i_1,i_2,1)\n",
    "    else:\n",
    "        if i_2 in freq:\n",
    "            print(i_1,i_2,1)"
   ]
  },
  {
   "cell_type": "code",
   "execution_count": 95,
   "id": "4c34b756",
   "metadata": {},
   "outputs": [
    {
     "name": "stdout",
     "output_type": "stream",
     "text": [
      "{1: 2, 2: 1}\n",
      "{1: 2, 2: 1} [2, 1, 3]\n",
      "{1: 1, 2: 1, 3: 1} [1, 3, 4]\n",
      "{1: 1, 3: 1, 4: 1} [3, 4, 3]\n",
      "{3: 2, 4: 1} [4, 3, 5]\n",
      "{3: 1, 4: 1, 5: 1} [3, 5, 6]\n",
      "[2, 3, 3, 2, 3, 3]\n"
     ]
    }
   ],
   "source": [
    "A = [1, 2, 1, 3, 4, 3,5,6]\n",
    "B = 3\n",
    "ans = []\n",
    "unq = {}\n",
    "for i in range(B):\n",
    "    if A[i] not in unq:\n",
    "        unq[A[i]] = 1\n",
    "    else:\n",
    "        unq[A[i]] += 1\n",
    "print(unq)\n",
    "ans.append(len(unq.keys()))\n",
    "for i in range(1,len(A)-B+1):\n",
    "    print(unq,A[i:i+B])\n",
    "    unq[A[i-1]] -= 1\n",
    "    if(unq[A[i-1]] == 0):\n",
    "        unq.pop(A[i-1])\n",
    "    if A[i+B-1] not in unq:\n",
    "        unq[A[i+B-1]] = 1\n",
    "    else:\n",
    "        unq[A[i+B-1]] += 1\n",
    "    ans.append(len(unq.keys()))\n",
    "print(ans)"
   ]
  },
  {
   "cell_type": "code",
   "execution_count": 130,
   "id": "0fbaddd0",
   "metadata": {},
   "outputs": [
    {
     "name": "stdout",
     "output_type": "stream",
     "text": [
      "h s 2 8\n",
      "s i 8 16\n",
      "None\n"
     ]
    }
   ],
   "source": [
    "#Is Dictionary\n",
    "\n",
    "def check_dict(a,b,dict_a):\n",
    "    if(len(a)>len(b)):\n",
    "        print(\"Length is greater\")\n",
    "        return False\n",
    "    for j in range(len(a)):\n",
    "        if(a[j] != b[j]):\n",
    "            print(a[j],b[j],dict_a[a[j]],dict_a[b[j]])\n",
    "            if(dict_a[a[j]] > dict_a[b[j]]):\n",
    "                return False\n",
    "            break\n",
    "    \n",
    "A = [\"hello\", \"scaler\", \"interviewbit\"]\n",
    "B = \"adhbcfegskjlponmirqtxwuvzy\"\n",
    "alphabets = {}\n",
    "for i in range(len(B)):\n",
    "    alphabets[B[i]] = i\n",
    "# print(alphabets)\n",
    "for i in range(len(A)-1):\n",
    "#     print(A[i],A[i+1])\n",
    "    ans = check_dict(A[i],A[i+1],alphabets)\n",
    "    if(ans == False):\n",
    "        print(False)\n",
    "print(ans)"
   ]
  },
  {
   "cell_type": "code",
   "execution_count": 17,
   "id": "ac12ca4d",
   "metadata": {},
   "outputs": [
    {
     "name": "stdout",
     "output_type": "stream",
     "text": [
      "6\n"
     ]
    }
   ],
   "source": [
    "# Pairs with given XOR\n",
    "A = [5, 4, 10, 15, 7, 6]\n",
    "B = 0\n",
    "ans = {}\n",
    "set_a = set(A)\n",
    "for i in range(len(A)):\n",
    "    C = A[i]^B\n",
    "    if (C in set_a and C not in ans):\n",
    "        ans[A[i]] = C\n",
    "print(len(ans.keys()))"
   ]
  },
  {
   "cell_type": "code",
   "execution_count": 22,
   "id": "539e73fa",
   "metadata": {},
   "outputs": [
    {
     "name": "stdout",
     "output_type": "stream",
     "text": [
      "{'5in col 0': True, '5in row 0': True, '5in box 00': True, '3in col 1': True, '3in row 0': True, '3in box 00': True, '7in col 4': True, '7in row 0': True, '7in box 01': True, '6in col 0': True, '6in row 1': True, '6in box 00': True, '1in col 3': True, '1in row 1': True, '1in box 01': True, '9in col 4': True, '9in row 1': True, '9in box 01': True, '5in col 5': True, '5in row 1': True, '5in box 01': True, '9in col 1': True, '9in row 2': True, '9in box 00': True, '8in col 2': True, '8in row 2': True, '8in box 00': True, '6in col 7': True, '6in row 2': True, '6in box 02': True, '8in col 0': True, '8in row 3': True, '8in box 10': True, '6in col 4': True, '6in row 3': True, '6in box 11': True, '3in col 8': True, '3in row 3': True, '3in box 12': True, '4in col 0': True, '4in row 4': True, '4in box 10': True, '8in col 3': True, '8in row 4': True, '8in box 11': True, '3in col 5': True, '3in row 4': True, '3in box 11': True, '1in col 8': True, '1in row 4': True, '1in box 12': True, '7in col 0': True, '7in row 5': True, '7in box 10': True, '2in col 4': True, '2in row 5': True, '2in box 11': True, '6in col 8': True, '6in row 5': True, '6in box 12': True, '6in col 1': True, '6in row 6': True, '6in box 20': True, '2in col 6': True, '2in row 6': True, '2in box 22': True, '8in col 7': True, '8in row 6': True, '8in box 22': True, '4in col 3': True, '4in row 7': True, '4in box 21': True, '1in col 4': True, '1in row 7': True, '1in box 21': True, '9in col 5': True, '9in row 7': True, '9in box 21': True, '5in col 8': True, '5in row 7': True, '5in box 22': True, '8in col 4': True, '8in row 8': True, '8in box 21': True, '7in col 7': True, '7in row 8': True, '7in box 22': True, '9in col 8': True, '9in row 8': True, '9in box 22': True}\n"
     ]
    }
   ],
   "source": [
    "# Valid Sudoku\n",
    "A = [\"53..7....\", \"6..195...\", \".98....6.\", \"8...6...3\", \"4..8.3..1\", \"7...2...6\", \".6....28.\", \"...419..5\", \"....8..79\"]\n",
    "seen = {}\n",
    "for i in range(9):\n",
    "    for j in range(9):\n",
    "        ele = A[i][j]\n",
    "        if ele != \".\":\n",
    "            row = ele + \"in row \" + str(i)\n",
    "            col = ele + \"in col \" + str(j)\n",
    "            sq = ele + \"in box \" + str(i//3) + str(j//3)\n",
    "            if row in seen or col in seen or sq in seen:\n",
    "                print(False)\n",
    "            seen[col] = True\n",
    "            seen[row] = True\n",
    "            seen[sq] = True\n",
    "print(seen)\n",
    "\n"
   ]
  },
  {
   "cell_type": "code",
   "execution_count": null,
   "id": "5e6ea4e4",
   "metadata": {},
   "outputs": [],
   "source": []
  }
 ],
 "metadata": {
  "kernelspec": {
   "display_name": "Python 3 (ipykernel)",
   "language": "python",
   "name": "python3"
  },
  "language_info": {
   "codemirror_mode": {
    "name": "ipython",
    "version": 3
   },
   "file_extension": ".py",
   "mimetype": "text/x-python",
   "name": "python",
   "nbconvert_exporter": "python",
   "pygments_lexer": "ipython3",
   "version": "3.9.7"
  }
 },
 "nbformat": 4,
 "nbformat_minor": 5
}
