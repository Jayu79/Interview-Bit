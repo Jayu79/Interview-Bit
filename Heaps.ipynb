{
 "cells": [
  {
   "cell_type": "code",
   "execution_count": 29,
   "id": "3ab3ce32",
   "metadata": {},
   "outputs": [
    {
     "name": "stdout",
     "output_type": "stream",
     "text": [
      "10 10 [-8, -5, -6, -2, -4]\n",
      "8 18 [-6, -5, -4, -2, -4]\n",
      "6 24 [-5, -4, -4, -2, -3]\n",
      "5 29 [-4, -4, -3, -2, -2]\n",
      "4 33 [-4, -2, -3, -2, -2]\n",
      "33\n"
     ]
    }
   ],
   "source": [
    "# Magician and Chocolates\n",
    "from heapq import heappop,heappush,heapify\n",
    "# A = 3\n",
    "# B = [6, 5]\n",
    "A = 5\n",
    "B = [2, 4, 6, 8, 10]\n",
    "ans = 0\n",
    "max_heap = []\n",
    "for i in range(len(B)):\n",
    "    max_heap.append(B[i]*-1)\n",
    "heapify(max_heap)\n",
    "while(A):\n",
    "    x = heappop(max_heap)\n",
    "    x = x*-1\n",
    "    ans += x\n",
    "    heappush(max_heap,(x//2)*-1)\n",
    "    A = A-1\n",
    "    print(x,ans,max_heap)\n",
    "print(ans)"
   ]
  },
  {
   "cell_type": "code",
   "execution_count": 46,
   "id": "81c32ec9",
   "metadata": {},
   "outputs": [
    {
     "name": "stdout",
     "output_type": "stream",
     "text": [
      "2 5 7\n",
      "6 7 20\n",
      "8 10 38\n",
      "11 13 62\n",
      "18 24 104\n",
      "104\n"
     ]
    }
   ],
   "source": [
    "# Connect ropes\n",
    "from heapq import heapify,heappop,heappush\n",
    "# A = [1, 2, 3, 4, 5]\n",
    "A = [5, 17, 100, 11]\n",
    "heapify(A)\n",
    "ans = 0\n",
    "while(len(A)>1):\n",
    "    temp = 0\n",
    "    num1 = heappop(A)\n",
    "    num2 = heappop(A)\n",
    "    temp = num1 + num2\n",
    "    ans += temp\n",
    "    print(num1,num2,ans)\n",
    "    heappush(A,temp)\n",
    "print(ans)"
   ]
  },
  {
   "cell_type": "code",
   "execution_count": 50,
   "id": "da2eea68",
   "metadata": {},
   "outputs": [
    {
     "name": "stdout",
     "output_type": "stream",
     "text": [
      "[5, 11, 6]\n",
      "5 6 11 [-1, -1, 330, 330]\n",
      "6 8 11 [-1, -1, 330, 330, 528]\n",
      "8 10 11 [-1, -1, 330, 330, 528, 880]\n",
      "[-1, -1, 330, 330, 528, 880]\n"
     ]
    }
   ],
   "source": [
    "# Product of 3\n",
    "# A = [1, 2, 3, 4, 5]\n",
    "# A = [10,2,13,4]\n",
    "A = [ 11, 5, 6, 2, 8, 10 ]\n",
    "prod = []\n",
    "heapify(prod)\n",
    "heappush(prod,A[0])\n",
    "heappush(prod,A[1])\n",
    "heappush(prod,A[2])\n",
    "ans = []\n",
    "ans.append(-1)\n",
    "ans.append(-1)\n",
    "ans.append(A[0]*A[1]*A[2])\n",
    "print(prod)\n",
    "for i in range(3,len(A)):\n",
    "    num1 = heappop(prod)\n",
    "    if(num1<A[i]):\n",
    "        heappush(prod,A[i])\n",
    "        num1 = heappop(prod)\n",
    "    num2 = heappop(prod)\n",
    "    num3 = heappop(prod)\n",
    "    ans.append(num1*num2*num3)\n",
    "    print(num1,num2,num3,ans)\n",
    "    heappush(prod,num1)\n",
    "    heappush(prod,num2)\n",
    "    heappush(prod,num3)\n",
    "print(ans)"
   ]
  },
  {
   "cell_type": "code",
   "execution_count": 55,
   "id": "a02d34db",
   "metadata": {},
   "outputs": [
    {
     "name": "stdout",
     "output_type": "stream",
     "text": [
      "[-68, -9, -29, 24, 84]\n",
      "[-9, 24, 84, 68, 29]\n",
      "196\n"
     ]
    }
   ],
   "source": [
    "# Maximum array sum after B negations\n",
    "A = [24, -68, -29, -9, 84]\n",
    "B = 4\n",
    "# A = [57, 3, -14, -87, 42, 38, 31, -7, -28, -61]\n",
    "# B = 10\n",
    "heapify(A)\n",
    "# print(A)\n",
    "while(B):\n",
    "    x = heappop(A)\n",
    "    x = x*(-1)\n",
    "    heappush(A,x)\n",
    "    B = B-1\n",
    "ans = 0\n",
    "# print(A)\n",
    "for i in A:\n",
    "    ans += i\n",
    "print(ans)"
   ]
  },
  {
   "cell_type": "code",
   "execution_count": null,
   "id": "ef673b9f",
   "metadata": {},
   "outputs": [],
   "source": []
  }
 ],
 "metadata": {
  "kernelspec": {
   "display_name": "Python 3 (ipykernel)",
   "language": "python",
   "name": "python3"
  },
  "language_info": {
   "codemirror_mode": {
    "name": "ipython",
    "version": 3
   },
   "file_extension": ".py",
   "mimetype": "text/x-python",
   "name": "python",
   "nbconvert_exporter": "python",
   "pygments_lexer": "ipython3",
   "version": "3.9.7"
  }
 },
 "nbformat": 4,
 "nbformat_minor": 5
}
