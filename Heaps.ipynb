{
 "cells": [
  {
   "cell_type": "code",
   "execution_count": 29,
   "id": "bc09d988",
   "metadata": {},
   "outputs": [
    {
     "name": "stdout",
     "output_type": "stream",
     "text": [
      "10 10 [-8, -5, -6, -2, -4]\n",
      "8 18 [-6, -5, -4, -2, -4]\n",
      "6 24 [-5, -4, -4, -2, -3]\n",
      "5 29 [-4, -4, -3, -2, -2]\n",
      "4 33 [-4, -2, -3, -2, -2]\n",
      "33\n"
     ]
    }
   ],
   "source": [
    "# Magician and Chocolates\n",
    "from heapq import heappop,heappush,heapify\n",
    "# A = 3\n",
    "# B = [6, 5]\n",
    "A = 5\n",
    "B = [2, 4, 6, 8, 10]\n",
    "ans = 0\n",
    "max_heap = []\n",
    "for i in range(len(B)):\n",
    "    max_heap.append(B[i]*-1)\n",
    "heapify(max_heap)\n",
    "while(A):\n",
    "    x = heappop(max_heap)\n",
    "    x = x*-1\n",
    "    ans += x\n",
    "    heappush(max_heap,(x//2)*-1)\n",
    "    A = A-1\n",
    "    print(x,ans,max_heap)\n",
    "print(ans)"
   ]
  },
  {
   "cell_type": "code",
   "execution_count": 46,
   "id": "020040f9",
   "metadata": {},
   "outputs": [
    {
     "name": "stdout",
     "output_type": "stream",
     "text": [
      "2 5 7\n",
      "6 7 20\n",
      "8 10 38\n",
      "11 13 62\n",
      "18 24 104\n",
      "104\n"
     ]
    }
   ],
   "source": [
    "# Connect ropes\n",
    "from heapq import heapify,heappop,heappush\n",
    "# A = [1, 2, 3, 4, 5]\n",
    "A = [5, 17, 100, 11]\n",
    "heapify(A)\n",
    "ans = 0\n",
    "while(len(A)>1):\n",
    "    temp = 0\n",
    "    num1 = heappop(A)\n",
    "    num2 = heappop(A)\n",
    "    temp = num1 + num2\n",
    "    ans += temp\n",
    "    print(num1,num2,ans)\n",
    "    heappush(A,temp)\n",
    "print(ans)"
   ]
  },
  {
   "cell_type": "code",
   "execution_count": 50,
   "id": "8f0da63f",
   "metadata": {},
   "outputs": [
    {
     "name": "stdout",
     "output_type": "stream",
     "text": [
      "[5, 11, 6]\n",
      "5 6 11 [-1, -1, 330, 330]\n",
      "6 8 11 [-1, -1, 330, 330, 528]\n",
      "8 10 11 [-1, -1, 330, 330, 528, 880]\n",
      "[-1, -1, 330, 330, 528, 880]\n"
     ]
    }
   ],
   "source": [
    "# Product of 3\n",
    "# A = [1, 2, 3, 4, 5]\n",
    "# A = [10,2,13,4]\n",
    "A = [ 11, 5, 6, 2, 8, 10 ]\n",
    "prod = []\n",
    "heapify(prod)\n",
    "heappush(prod,A[0])\n",
    "heappush(prod,A[1])\n",
    "heappush(prod,A[2])\n",
    "ans = []\n",
    "ans.append(-1)\n",
    "ans.append(-1)\n",
    "ans.append(A[0]*A[1]*A[2])\n",
    "print(prod)\n",
    "for i in range(3,len(A)):\n",
    "    num1 = heappop(prod)\n",
    "    if(num1<A[i]):\n",
    "        heappush(prod,A[i])\n",
    "        num1 = heappop(prod)\n",
    "    num2 = heappop(prod)\n",
    "    num3 = heappop(prod)\n",
    "    ans.append(num1*num2*num3)\n",
    "    print(num1,num2,num3,ans)\n",
    "    heappush(prod,num1)\n",
    "    heappush(prod,num2)\n",
    "    heappush(prod,num3)\n",
    "print(ans)"
   ]
  },
  {
   "cell_type": "code",
   "execution_count": 55,
   "id": "2cfbe38a",
   "metadata": {},
   "outputs": [
    {
     "name": "stdout",
     "output_type": "stream",
     "text": [
      "[-68, -9, -29, 24, 84]\n",
      "[-9, 24, 84, 68, 29]\n",
      "196\n"
     ]
    }
   ],
   "source": [
    "# Maximum array sum after B negations\n",
    "A = [24, -68, -29, -9, 84]\n",
    "B = 4\n",
    "# A = [57, 3, -14, -87, 42, 38, 31, -7, -28, -61]\n",
    "# B = 10\n",
    "heapify(A)\n",
    "# print(A)\n",
    "while(B):\n",
    "    x = heappop(A)\n",
    "    x = x*(-1)\n",
    "    heappush(A,x)\n",
    "    B = B-1\n",
    "ans = 0\n",
    "# print(A)\n",
    "for i in A:\n",
    "    ans += i\n",
    "print(ans)"
   ]
  },
  {
   "cell_type": "code",
   "execution_count": 56,
   "id": "a1557156",
   "metadata": {},
   "outputs": [
    {
     "name": "stdout",
     "output_type": "stream",
     "text": [
      "[[-2, 2], [1, 3]]\n"
     ]
    }
   ],
   "source": [
    "points = [ [1, 3],[-2, 2]]\n",
    "heapify(points)\n",
    "print(points)"
   ]
  },
  {
   "cell_type": "code",
   "execution_count": 93,
   "id": "058d0904",
   "metadata": {},
   "outputs": [
    {
     "name": "stdout",
     "output_type": "stream",
     "text": [
      "{3725: [0, 6], 52: [1], 677: [2], 2125: [3], 637: [4], 377: [5], 1853: [7], 685: [8], 14692: [9], 10053: [10], 17960: [11], 19730: [12], 15293: [13], 13949: [14], 10237: [15], 15381: [16], 17210: [17], 17440: [18], 8065: [19], 17377: [20], 19517: [21], 8224: [22], 8986: [23], 11885: [24]}\n",
      "(52, [1])\n",
      "(377, [5])\n",
      "(637, [4])\n",
      "(677, [2])\n",
      "(685, [8])\n",
      "(1853, [7])\n",
      "(2125, [3])\n",
      "(3725, [0, 6])\n",
      "[[6, 4], [16, 11], [21, 14], [1, 26], [26, 3], [22, 37], [35, 30], [50, 35], [50, 35]]\n"
     ]
    }
   ],
   "source": [
    "# B Closest Points to Origin\n",
    "# A = [ [1, 3],[-2, 2] ]\n",
    "# B = 1\n",
    "A =[\n",
    "  [50, 35],\n",
    "  [6, 4],\n",
    "  [1, 26],\n",
    "  [35, 30],\n",
    "  [21, 14],\n",
    "  [16, 11],\n",
    "  [50, 35],\n",
    "  [22, 37],\n",
    "  [26, 3],\n",
    "  [96, 74],\n",
    "  [78, 63],\n",
    "  [82, 106],\n",
    "  [91, 107],\n",
    "  [62, 107],\n",
    "  [85, 82],\n",
    "  [74, 69],\n",
    "  [66, 105],\n",
    "  [109, 73],\n",
    "  [76, 108],\n",
    "  [63, 64],\n",
    "  [81, 104],\n",
    "  [91, 106],\n",
    "  [68, 60],\n",
    "  [69, 65],\n",
    "  [86, 67]\n",
    "]\n",
    "B = 9\n",
    "hm = {}\n",
    "for i in range(len(A)):\n",
    "    num1 = A[i][0]*A[i][0]\n",
    "    num2 = A[i][1]*A[i][1]\n",
    "    sq = num1 + num2\n",
    "    if(sq not in hm):\n",
    "        hm[sq] = [i]\n",
    "    else:\n",
    "        hm[sq].append(i)\n",
    "print(hm)\n",
    "hm_list = [(num1,num2) for num1,num2 in hm.items()]\n",
    "heapify(hm_list)\n",
    "ans = []\n",
    "while(B):\n",
    "    x = heappop(hm_list)\n",
    "    print(x)\n",
    "    if(len(x[1])>1):\n",
    "        k = len(x[1])\n",
    "        for i in range(k):\n",
    "            ans.append(A[x[1][i]])\n",
    "            B -= 1\n",
    "    else:\n",
    "        ans.append(A[x[1][0]])\n",
    "        B -= 1\n",
    "print(ans)"
   ]
  },
  {
   "cell_type": "code",
   "execution_count": 111,
   "id": "0cac38d3",
   "metadata": {},
   "outputs": [
    {
     "name": "stdout",
     "output_type": "stream",
     "text": [
      "1 [2, 2] 0\n",
      "2 [3] 1\n"
     ]
    }
   ],
   "source": [
    "# Misha and Candies\n",
    "# A = [3, 2, 3]\n",
    "# B = 4\n",
    "A = [1, 2, 1]\n",
    "B = 2\n",
    "# A = [705]\n",
    "# B = 895\n",
    "heapify(A)\n",
    "# print(A)\n",
    "ans = 0\n",
    "while(len(A)>0):\n",
    "    x = heappop(A)\n",
    "    if(x>B):\n",
    "        break\n",
    "    floor = x//2\n",
    "    ans += floor\n",
    "    if(len(A)>0):\n",
    "        y = heappop(A)\n",
    "        y = y+(x-floor)\n",
    "        heappush(A,y)\n",
    "    print(x,A,ans)"
   ]
  },
  {
   "cell_type": "code",
   "execution_count": 113,
   "id": "120824d8",
   "metadata": {},
   "outputs": [
    {
     "name": "stdout",
     "output_type": "stream",
     "text": [
      "0.4\n"
     ]
    }
   ],
   "source": [
    "print(2/5)"
   ]
  },
  {
   "cell_type": "code",
   "execution_count": 114,
   "id": "595e69b1",
   "metadata": {},
   "outputs": [
    {
     "ename": "SyntaxError",
     "evalue": "invalid syntax (3445577192.py, line 10)",
     "output_type": "error",
     "traceback": [
      "\u001b[0;36m  File \u001b[0;32m\"/var/folders/sp/db53lvqn0yj19k4cjcz37j5h0000gn/T/ipykernel_40397/3445577192.py\"\u001b[0;36m, line \u001b[0;32m10\u001b[0m\n\u001b[0;31m    prev[A[i]] = A[i - <span style=“color:#1c00cf;”>1</span>]\u001b[0m\n\u001b[0m                       ^\u001b[0m\n\u001b[0;31mSyntaxError\u001b[0m\u001b[0;31m:\u001b[0m invalid syntax\n"
     ]
    }
   ],
   "source": [
    "# B-th Smallest Prime Fraction\n",
    "A = [1,2,3,4,5]\n",
    "min_heap = []\n",
    "heapify(min_heap)\n",
    "\n",
    "prev = {}\n",
    "n = len(A)\n",
    "\n",
    "for i in range(n - 1, 0, -1):\n",
    "    prev[A[i]] = A[i]\n",
    "print(prev)\n"
   ]
  },
  {
   "cell_type": "code",
   "execution_count": 151,
   "id": "5e6339c2",
   "metadata": {},
   "outputs": [
    {
     "name": "stdout",
     "output_type": "stream",
     "text": [
      "21\n"
     ]
    }
   ],
   "source": [
    "# Kth Smallest Element in a Sorted Matrix\n",
    "A = [  [5, 9, 11],\n",
    "        [9, 11, 13],\n",
    "        [10, 12, 15],\n",
    "        [13, 14, 16],\n",
    "        [16, 20, 21] ]\n",
    "B = 15\n",
    "hm = {}\n",
    "for i in range(len(A)):\n",
    "    for j in range(len(A[0])):\n",
    "        if(A[i][j] not in hm):\n",
    "            hm[A[i][j]] = [[i,j]]\n",
    "        else:\n",
    "            hm[A[i][j]].append([i,j])\n",
    "# print(hm)\n",
    "hm_list = [(a,b) for (a,b) in hm.items()]\n",
    "# print('')\n",
    "# print(hm_list)\n",
    "heapify(hm_list)\n",
    "# print('')\n",
    "while(B>0):\n",
    "    x = heappop(hm_list)\n",
    "#     print(x,len(x[1]),\"value of B is\",B)\n",
    "    if(len(x[1])>1):\n",
    "        for i in range(len(x[1])):\n",
    "            B -= 1\n",
    "            if(B==0):\n",
    "                break\n",
    "    else:\n",
    "        B -= 1\n",
    "        if(B==0):\n",
    "            break\n",
    "print(x[0])"
   ]
  },
  {
   "cell_type": "code",
   "execution_count": 158,
   "id": "a6bdc509",
   "metadata": {},
   "outputs": [
    {
     "name": "stdout",
     "output_type": "stream",
     "text": [
      "[[0.2, [1, 5]], [0.3333333333333333, [1, 3]], [0.5, [1, 2]], [0.6666666666666666, [2, 3]], [0.4, [2, 5]], [0.6, [3, 5]]]\n",
      "[2, 5]\n"
     ]
    }
   ],
   "source": [
    "# B-th Smallest Prime Fraction\n",
    "A = [1, 2, 3, 5]\n",
    "B = 3\n",
    "li1 = []\n",
    "n = len(A)\n",
    "for i in range(n):\n",
    "    for j in range(i+1,n):\n",
    "        num1 = A[i]\n",
    "        num2 = A[j]\n",
    "        li1.append([num1/num2,[num1,num2]])\n",
    "# print(li1)\n",
    "heapify(li1)\n",
    "# print('')\n",
    "print(li1)\n",
    "while(B):\n",
    "    x = heappop(li1)\n",
    "    B -= 1\n",
    "print(x[1])"
   ]
  },
  {
   "cell_type": "code",
   "execution_count": 192,
   "id": "6df95d02",
   "metadata": {},
   "outputs": [
    {
     "name": "stdout",
     "output_type": "stream",
     "text": [
      "[-69]\n",
      "[-69] []\n",
      "\n",
      "[-69, -52]\n",
      "[-52] [69]\n",
      "\n",
      "[-52, -34]\n",
      "[-52, -34] [69]\n",
      "\n",
      "[-52, -34, -19]\n",
      "[-34, -19] [52, 69]\n",
      "\n",
      "[-56, -19, -34]\n",
      "[-34, -19] [52, 69, 56]\n",
      "[-52, -19, -34] [56, 69]\n",
      "\n",
      "[-57, -52, -34, -19]\n",
      "[-52, -19, -34] [56, 69, 57]\n",
      "[-52, -19, -34] [56, 69, 57]\n",
      "\n",
      "[-52, -19, -34, -5]\n",
      "[-52, -34, -5, -19] [56, 69, 57]\n",
      "\n",
      "[-52, -34, -5, -19, -3]\n",
      "[-34, -19, -5, -3] [52, 56, 57, 69]\n",
      "\n",
      "[-83, -34, -5, -3, -19]\n",
      "[-34, -19, -5, -3] [52, 56, 57, 83, 69]\n",
      "[-52, -34, -5, -3, -19] [56, 69, 57, 83]\n",
      "\n",
      "[-56, -34, -52, -3, -19, -5]\n",
      "[-52, -34, -5, -3, -19] [56, 56, 83, 69, 57]\n",
      "[-52, -34, -5, -3, -19] [56, 56, 83, 69, 57]\n",
      "\n",
      "[69, 52, 52, 34, 52, 52, 52, 34, 52, 52]\n"
     ]
    }
   ],
   "source": [
    "# Running Median\n",
    "from heapq import heapify,heappop,heappush\n",
    "mini = []\n",
    "maxi = []\n",
    "heapify(maxi)\n",
    "heapify(mini)\n",
    "# A = [1, 2, 5, 4, 3]\n",
    "# A = [6,5,4,3,2,1]\n",
    "A = [ 69, 52, 34, 19, 56, 57, 5, 3, 83, 56 ]\n",
    "ans = []\n",
    "for i in range(len(A)):\n",
    "    heappush(mini,A[i]*-1)\n",
    "    mini_max = -1\n",
    "    maxi_min = -1\n",
    "    print(mini)\n",
    "    if(len(mini)>0 and len(maxi)>0):\n",
    "        mini_max = heappop(mini)*-1\n",
    "        maxi_min = heappop(maxi)\n",
    "    if(mini_max!= -1 and maxi_min!=-1 and mini_max>=maxi_min):\n",
    "        heappush(maxi,mini_max)\n",
    "        heappush(maxi,maxi_min)\n",
    "        print(mini,maxi)\n",
    "    elif(mini_max!= -1 and maxi_min!=-1 and mini_max<maxi_min):\n",
    "        heappush(mini,mini_max*-1)\n",
    "        heappush(maxi,maxi_min)\n",
    "    if(len(mini)-len(maxi)>1):\n",
    "        x = heappop(mini)\n",
    "        heappush(maxi,x*-1)\n",
    "    elif(len(mini)-len(maxi)<0):\n",
    "        x = heappop(maxi)\n",
    "        heappush(mini,x*-1)\n",
    "    x = heappop(mini)\n",
    "    ans.append(x*-1)\n",
    "    heappush(mini,x)\n",
    "    print(mini,maxi)\n",
    "    print('')\n",
    "print(ans)"
   ]
  },
  {
   "cell_type": "code",
   "execution_count": 197,
   "id": "4f30ee1a",
   "metadata": {},
   "outputs": [
    {
     "name": "stdout",
     "output_type": "stream",
     "text": [
      "[1, 2, 3, 40] []\n"
     ]
    }
   ],
   "source": [
    "# K Places Apart\n",
    "A = [1, 40, 2, 3]\n",
    "B = 2\n",
    "k_heap = []\n",
    "heapify(k_heap)\n",
    "ans = []\n",
    "for i in range(B):\n",
    "    heappush(k_heap,A[i])\n",
    "for i in range(B,len(A)):\n",
    "    heappush(k_heap,A[i])\n",
    "    x = heappop(k_heap)\n",
    "    ans.append(x)\n",
    "while(k_heap):\n",
    "    x = heappop(k_heap)\n",
    "    ans.append(x)\n",
    "print(ans)"
   ]
  },
  {
   "cell_type": "code",
   "execution_count": 257,
   "id": "a2ffa5bd",
   "metadata": {},
   "outputs": [
    {
     "name": "stdout",
     "output_type": "stream",
     "text": [
      "[-1, 15, 20, 20]\n"
     ]
    }
   ],
   "source": [
    "# Ath Largest Element\n",
    "# A = 4  \n",
    "# B = [1,2,3,4,5,6]\n",
    "A = 2\n",
    "B = [15,20,99,1]\n",
    "n = len(B)\n",
    "ans = []\n",
    "heap = []\n",
    "heapify(heap)\n",
    "for i in range(n):\n",
    "    if(len(heap)<A):\n",
    "        heappush(heap,B[i])\n",
    "    else:\n",
    "         if(B[i]>heap[0]):\n",
    "            heappop(heap)\n",
    "            heappush(heap,B[i])\n",
    "    if(len(heap)<A):\n",
    "        ans.append(-1)\n",
    "    else:\n",
    "        ans.append(heap[0])\n",
    "print(ans)"
   ]
  },
  {
   "cell_type": "code",
   "execution_count": 242,
   "id": "e99afa44",
   "metadata": {},
   "outputs": [
    {
     "name": "stdout",
     "output_type": "stream",
     "text": [
      "[4, 3, 2, 1]\n",
      "[5, 4, 3, 2]\n",
      "[6, 5, 4, 3]\n",
      "[-1, -1, -1, 1, 2, 3]\n"
     ]
    }
   ],
   "source": [
    "from heapq import nlargest\n",
    "A = [1,2,3,4,5,6]\n",
    "B = 4\n",
    "# A = [15,20,99,1]\n",
    "# B = 2\n",
    "ans = []\n",
    "C = []\n",
    "heapify(ans)\n",
    "nlargest(B,ans)\n",
    "for i in range(len(A)):\n",
    "    C.append(A[i])\n",
    "    if(i<B-1):\n",
    "        ans.append(-1)\n",
    "    else:\n",
    "        print(nlargest(B,C))\n",
    "        ans.append((nlargest(B,C)[B-1]))\n",
    "print(ans)"
   ]
  },
  {
   "cell_type": "code",
   "execution_count": null,
   "id": "766c73c8",
   "metadata": {},
   "outputs": [],
   "source": []
  }
 ],
 "metadata": {
  "kernelspec": {
   "display_name": "Python 3 (ipykernel)",
   "language": "python",
   "name": "python3"
  },
  "language_info": {
   "codemirror_mode": {
    "name": "ipython",
    "version": 3
   },
   "file_extension": ".py",
   "mimetype": "text/x-python",
   "name": "python",
   "nbconvert_exporter": "python",
   "pygments_lexer": "ipython3",
   "version": "3.9.7"
  }
 },
 "nbformat": 4,
 "nbformat_minor": 5
}
