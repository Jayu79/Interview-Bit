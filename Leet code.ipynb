{
 "cells": [
  {
   "cell_type": "code",
   "execution_count": 7,
   "id": "a0e0237b",
   "metadata": {},
   "outputs": [
    {
     "name": "stdout",
     "output_type": "stream",
     "text": [
      "{'a'}\n",
      "{'a', 'b'}\n",
      "{'c', 'a', 'b'}\n",
      "3\n"
     ]
    }
   ],
   "source": [
    "# Longest Substring Without Repeating Characters\n",
    "s = 'abcabcbb'\n",
    "# s = 'pwwkew'\n",
    "ans = 0\n",
    "p1 = 0\n",
    "p2 = 0\n",
    "hset = set()\n",
    "while(p2<len(s)):\n",
    "    if(s[p2] not in hset):\n",
    "        hset.add(s[p2])\n",
    "        print(hset)\n",
    "        ans = max(ans,len(hset))\n",
    "        p2+=1\n",
    "    else:\n",
    "        while(s[p1]!=s[p2]):\n",
    "            hset.remove(s[p1])\n",
    "            p1 = p1+1\n",
    "        p1 = p1 + 1\n",
    "        length = p2-p1+1\n",
    "        ans = max(ans,length)\n",
    "        p2+=1\n",
    "print(ans)"
   ]
  },
  {
   "cell_type": "code",
   "execution_count": 9,
   "id": "a9241860",
   "metadata": {},
   "outputs": [
    {
     "name": "stdout",
     "output_type": "stream",
     "text": [
      "{1: 1, 2: 2, 3: 3, 4: 4}\n"
     ]
    }
   ],
   "source": [
    "# Minimum largest element\n",
    "A = [1, 2, 3, 4] \n",
    "B = 3\n",
    "hm = {}\n",
    "for i in A:\n",
    "    hm[i] = i\n",
    "print(hm)\n",
    "heap = [(a,b) for (a,b) in ]"
   ]
  },
  {
   "cell_type": "code",
   "execution_count": 17,
   "id": "4724a2c9",
   "metadata": {},
   "outputs": [
    {
     "name": "stdout",
     "output_type": "stream",
     "text": [
      "[0, 1, 1]\n"
     ]
    }
   ],
   "source": [
    "# Counting Bits\n",
    "A = 2\n",
    "dp = []\n",
    "dp.append(0)\n",
    "dp.append(1)\n",
    "for i in range(2,A+1):\n",
    "    if(i&1==1):\n",
    "        num = i//2\n",
    "        dp.append(dp[num]+1)\n",
    "    else:\n",
    "        num = i//2\n",
    "        dp.append(dp[num])\n",
    "print(dp)"
   ]
  },
  {
   "cell_type": "code",
   "execution_count": 34,
   "id": "64a37bc9",
   "metadata": {},
   "outputs": [
    {
     "name": "stdout",
     "output_type": "stream",
     "text": [
      "[[1], [1, 1], [1, 2, 1]]\n"
     ]
    }
   ],
   "source": [
    "# Pascal's Triangle\n",
    "numRows = 3\n",
    "pt = [[1]]\n",
    "for i in range(1,numRows):\n",
    "    temp = []\n",
    "    for j in range(i+1):\n",
    "        if(j==0):\n",
    "            temp.append(1)\n",
    "        elif(j==i):\n",
    "            temp.append(1)\n",
    "        else:\n",
    "            temp.append(pt[i-1][j-1]+pt[i-1][j])\n",
    "    pt.append(temp)\n",
    "print(pt)"
   ]
  },
  {
   "cell_type": "code",
   "execution_count": 35,
   "id": "343b43a8",
   "metadata": {},
   "outputs": [
    {
     "name": "stdout",
     "output_type": "stream",
     "text": [
      "2\n"
     ]
    }
   ],
   "source": [
    "# Min Cost Climbing Stairs\n",
    "cost = [0,2,2,1]\n",
    "n = len(cost)\n",
    "dp = [0]*len(cost)\n",
    "dp[0] = 0\n",
    "dp[1] = 0\n",
    "for i in range(2,n):\n",
    "    if(cost[i-1]+dp[i-1]<cost[i-2]+dp[i-2]):\n",
    "        dp[i] = dp[i-1]+cost[i-1]\n",
    "    else:\n",
    "        dp[i] = dp[i-2]+cost[i-2]\n",
    "if(cost[n-1]+dp[n-1]<cost[n-2]+dp[n-2]):\n",
    "        ans = cost[n-1]+dp[n-1]\n",
    "else:\n",
    "    ans = dp[n-2]+cost[n-2]\n",
    "print(ans)"
   ]
  },
  {
   "cell_type": "code",
   "execution_count": 48,
   "id": "67c94d2a",
   "metadata": {},
   "outputs": [
    {
     "name": "stdout",
     "output_type": "stream",
     "text": [
      "12\n"
     ]
    }
   ],
   "source": [
    "# Maximum Width of Binary Tree\n",
    "class TreeNode:\n",
    "    def __init__(self, x):\n",
    "        self.val = x\n",
    "        self.left = None\n",
    "        self.right = None \n",
    "\n",
    "root = TreeNode(1)\n",
    "root.right = TreeNode(2)\n",
    "root.right.right = TreeNode(9)\n",
    "root.right.right.left = TreeNode(7)\n",
    "root.left = TreeNode(3)\n",
    "root.left.left = TreeNode(5)\n",
    "root.left.left.left = TreeNode(6)\n",
    "root.left.right = TreeNode(3)\n",
    "root.left.left.left.right = TreeNode(10)\n",
    "root.right.right.left.left = TreeNode(11)\n",
    "\n",
    "from collections import deque\n",
    "queue = deque()\n",
    "if(root is not None):\n",
    "    queue.append(root)\n",
    "queue.append(None)\n",
    "max_width = 1\n",
    "temp = []\n",
    "while(len(queue)>1):\n",
    "    ele = queue.popleft()\n",
    "    if(ele is None):\n",
    "        i = 0\n",
    "        j = len(temp)-1\n",
    "        while(i<=len(temp) and temp[i]==-101):\n",
    "            i+=1\n",
    "            if(i==len(temp)-1):\n",
    "                break\n",
    "        while(j>=0 and temp[j]==-101):\n",
    "            j-=1\n",
    "            if(j==0):\n",
    "                break\n",
    "        if(i>=j and temp[i]==temp[j]==-101):\n",
    "            break\n",
    "        max_width = max(max_width,j-i+1)\n",
    "        temp = []\n",
    "        queue.append(None)\n",
    "    else:\n",
    "        if(ele.left is not None):\n",
    "            queue.append(ele.left)\n",
    "            temp.append(ele.left.val)\n",
    "        else:\n",
    "            ele.left = TreeNode(-101)\n",
    "            queue.append(ele.left)\n",
    "            temp.append(-101)\n",
    "        if(ele.right is not None):\n",
    "            queue.append(ele.right)\n",
    "            temp.append(ele.right.val)\n",
    "        else:\n",
    "            ele.right = TreeNode(-101)\n",
    "            queue.append(ele.right)\n",
    "            temp.append(-101)\n",
    "#         print(ele,temp,queue)\n",
    "        \n",
    "print(max_width)"
   ]
  },
  {
   "cell_type": "code",
   "execution_count": 60,
   "id": "4288a473",
   "metadata": {},
   "outputs": [
    {
     "name": "stdout",
     "output_type": "stream",
     "text": [
      "4\n"
     ]
    }
   ],
   "source": [
    "# Maximum Width of Binary Tree\n",
    "\n",
    "class TreeNode:\n",
    "    def __init__(self, x):\n",
    "        self.val = x\n",
    "        self.left = None\n",
    "        self.right = None \n",
    "\n",
    "root = TreeNode(1)\n",
    "root.right = TreeNode(2)\n",
    "root.right.right = TreeNode(9)\n",
    "# root.right.right.left = TreeNode(7)\n",
    "root.left = TreeNode(3)\n",
    "root.left.left = TreeNode(5)\n",
    "# root.left.left.left = TreeNode(6)\n",
    "root.left.right = TreeNode(3)\n",
    "# root.left.left.left.right = TreeNode(10)\n",
    "# root.right.right.left.left = TreeNode(11)\n",
    "\n",
    "\n",
    "queue = deque()\n",
    "if root is not None:\n",
    "    queue.append([1,root])\n",
    "queue.append(None)\n",
    "max_width = 1\n",
    "while(len(queue)>1):\n",
    "    ele = queue.popleft()\n",
    "    if(ele is None):\n",
    "        n = len(temp)-1\n",
    "        max_width = max(max_width,temp[n][0]-temp[0][0]+1)\n",
    "        temp = []\n",
    "        queue.append(None)\n",
    "    else:\n",
    "        num = ele[0]\n",
    "        node = ele[1]\n",
    "        if(node.left is not None):\n",
    "            queue.append([num*2,node.left])\n",
    "            temp.append([num*2,node.left.val])\n",
    "        if(node.right is not None):\n",
    "            queue.append([num*2+1,node.right])\n",
    "            temp.append([num*2+1,node.right.val])\n",
    "print(max_width)"
   ]
  },
  {
   "cell_type": "code",
   "execution_count": 3,
   "id": "8760efa5",
   "metadata": {},
   "outputs": [
    {
     "name": "stdout",
     "output_type": "stream",
     "text": [
      "{'a': 3, 'b': 1, 'c': 3, 'd': 1}\n",
      "{'a': 2, 'b': 1, 'c': 2, 'd': 1}\n"
     ]
    }
   ],
   "source": [
    "# String Compression II\n",
    "s = \"aaabcccd\"\n",
    "k = 2\n",
    "freq = {}\n",
    "for i in s:\n",
    "    if i in freq:\n",
    "        freq[i] += 1\n",
    "    else:\n",
    "        freq[i] = 1\n",
    "print(freq)\n",
    "len_b = {}\n",
    "for i in freq:\n",
    "    if(freq[i]==1):\n",
    "        len_b[i] = 1\n",
    "    elif(freq[i]>1 and freq[i]<=9):\n",
    "        len_b[i] = 2\n",
    "    elif(10<=freq[i]<=99):\n",
    "        leb_b[i] = 3\n",
    "    elif(freq[i]>99):\n",
    "        len_b[i] = 4\n",
    "print(len_b)"
   ]
  },
  {
   "cell_type": "code",
   "execution_count": 11,
   "id": "45eef148",
   "metadata": {},
   "outputs": [
    {
     "data": {
      "text/plain": [
       "'1211'"
      ]
     },
     "execution_count": 11,
     "metadata": {},
     "output_type": "execute_result"
    }
   ],
   "source": [
    "# Count and Say 1 11 21 1211 111221\n",
    "\n",
    "def cns(string):\n",
    "    res = ''\n",
    "    string += '@'\n",
    "    count = 1\n",
    "    for i in range(len(string)-1):\n",
    "        if(string[i]==string[i+1]):\n",
    "            count+=1\n",
    "        else:\n",
    "            res += str(count)+string[i]\n",
    "            count = 1\n",
    "    return res\n",
    "\n",
    "n = 4\n",
    "ans = '1'\n",
    "for i in range(1,n-1):\n",
    "    ans = cns(ans)\n",
    "cns(ans)"
   ]
  },
  {
   "cell_type": "code",
   "execution_count": 41,
   "id": "86477b65",
   "metadata": {},
   "outputs": [
    {
     "name": "stdout",
     "output_type": "stream",
     "text": [
      "[(<__main__.Element object at 0x7fecd0f8ff40>, 'love'), (<__main__.Element object at 0x7fece08a2f70>, 'i')]\n",
      "['i', 'love']\n"
     ]
    }
   ],
   "source": [
    "# Top K Frequent Words\n",
    "from collections import Counter\n",
    "import heapq\n",
    "\n",
    "class Element:\n",
    "    def __init__(self,word,count):\n",
    "        self.count = count\n",
    "        self.word = word\n",
    "    \n",
    "    def __lt__(self,other):\n",
    "        if(self.count==other.count):\n",
    "            return self.word>other.word\n",
    "        return self.count<other.count\n",
    "    \n",
    "    def __eq__(self,other):\n",
    "        return self.count==other.count and self.word==other.word\n",
    "\n",
    "\n",
    "words = [\"i\",\"love\",\"leetcode\",\"i\",\"love\",\"coding\"] \n",
    "k = 2\n",
    "counts = Counter(words)\n",
    "freqs = []\n",
    "heapq.heapify(freqs)\n",
    "for word,count in counts.items():\n",
    "    heapq.heappush(freqs,(Element(word,count),word))\n",
    "    if(len(freqs)>k):\n",
    "        heapq.heappop(freqs)\n",
    "print(freqs)\n",
    "res = []\n",
    "for i in range(k):\n",
    "    res.append(heapq.heappop(freqs)[1])\n",
    "print(res[::-1])"
   ]
  },
  {
   "cell_type": "code",
   "execution_count": 70,
   "id": "45b780df",
   "metadata": {},
   "outputs": [
    {
     "name": "stdout",
     "output_type": "stream",
     "text": [
      "LVIII\n"
     ]
    }
   ],
   "source": [
    "# Integer to Roman\n",
    "num = 58\n",
    "ans = ''\n",
    "while(num>0):\n",
    "    if(num//1000>0):\n",
    "        num = num - 1000\n",
    "        ans += 'M'\n",
    "    elif(num//500>0):\n",
    "        if(num>=900 and num<1000):\n",
    "            ans += 'CM'\n",
    "            num -= 900\n",
    "            continue\n",
    "        num = num - 500\n",
    "        ans += 'D'\n",
    "    elif(num//100>0):\n",
    "        if(num>=400 and num<500):\n",
    "            ans += 'CD'\n",
    "            num -= 400\n",
    "            continue\n",
    "        num = num - 100\n",
    "        ans += 'C'\n",
    "    elif(num//50>0):\n",
    "        if(num>=90 and num<100):\n",
    "            ans += 'XC'\n",
    "            num -= 90\n",
    "            continue\n",
    "        num = num - 50\n",
    "        ans += 'L'\n",
    "    elif(num//10>0):\n",
    "        if(num>=40 and num<50):\n",
    "            ans += 'XL'\n",
    "            num -= 40\n",
    "            continue\n",
    "        num = num - 10\n",
    "        ans += 'X'\n",
    "    elif(num//5>0):\n",
    "        if(num>8 and num<10):\n",
    "            ans += 'IX'\n",
    "            num -= 9\n",
    "            continue\n",
    "        num = num - 5\n",
    "        ans += 'V'\n",
    "    elif(num<5):\n",
    "        if(num==4):\n",
    "            ans += 'IV'\n",
    "            num -= 4\n",
    "            continue\n",
    "        num = num - 1\n",
    "        ans += 'I'\n",
    "print(ans)"
   ]
  },
  {
   "cell_type": "code",
   "execution_count": 15,
   "id": "618e6a17",
   "metadata": {},
   "outputs": [
    {
     "name": "stdout",
     "output_type": "stream",
     "text": [
      "0 -1 2 inf -inf 1\n",
      "-1 0 -inf 2 1 3\n",
      "2\n"
     ]
    }
   ],
   "source": [
    "# Median of 2 sorted Arrays\n",
    "\n",
    "# A = [1,2,3,4,5]\n",
    "# B = [6,7,8]\n",
    "A = [1,3]\n",
    "B = [2]\n",
    "total = len(A)+len(B)\n",
    "half = total//2\n",
    "if(len(B)<len(A)):\n",
    "    A,B = B,A\n",
    "l,r = 0,len(A)-1\n",
    "ans = 0\n",
    "while(True):\n",
    "    i = (l+r)//2\n",
    "    j = half - i - 2\n",
    "    Aleft = A[i] if i>=0 else float('-inf')\n",
    "    Aright = A[i+1] if i+1<len(A) else float('inf')\n",
    "    Bleft = B[j] if j>=0 else float('-inf')\n",
    "    Bright = B[j+1] if j+1<len(B) else float('inf')\n",
    "    print(i,j,Aleft,Aright,Bleft,Bright)\n",
    "    if(Aleft<=Bright and Bleft<=Aright):\n",
    "        if(total%2==0):\n",
    "            ans = (max(Aleft,Bleft) + min(Aright,Bright))/2\n",
    "            break\n",
    "        else:\n",
    "            ans = min(Aright,Bright)\n",
    "            break\n",
    "    elif(Aleft>Bright):\n",
    "        r = i-1\n",
    "    else:\n",
    "        l = i+1\n",
    "print(ans)"
   ]
  },
  {
   "cell_type": "code",
   "execution_count": 25,
   "id": "3ebc6180",
   "metadata": {},
   "outputs": [
    {
     "name": "stdout",
     "output_type": "stream",
     "text": [
      "BANC\n"
     ]
    }
   ],
   "source": [
    "# Minimum Window Substring\n",
    "\n",
    "from collections import Counter\n",
    "A = \"ADOBECODEBANCKJ\"\n",
    "B = \"ABC\"\n",
    "\n",
    "MapB = Counter(B)\n",
    "l,r = 0,0\n",
    "n,k = len(A),len(B)\n",
    "count = k\n",
    "min_len = n\n",
    "start,end = 0, n-1\n",
    "found = False\n",
    "while(r<n):\n",
    "    if A[r] in MapB:\n",
    "        MapB[A[r]] -= 1\n",
    "        if(MapB[A[r]]>=0):\n",
    "            count -= 1\n",
    "    r += 1\n",
    "    \n",
    "    if(count>0):\n",
    "        continue\n",
    "    while(count==0):\n",
    "        if A[l] in MapB:\n",
    "            MapB[A[l]] += 1\n",
    "            if(MapB[A[l]]>0):\n",
    "                count += 1\n",
    "        l += 1\n",
    "    if (r-l)<min_len:\n",
    "        found = True\n",
    "        start = l\n",
    "        end = r\n",
    "        min_len = r-l\n",
    "\n",
    "if(found):\n",
    "    if(start==1):\n",
    "        A[start:end]\n",
    "    print(A[start-1:end])"
   ]
  },
  {
   "cell_type": "code",
   "execution_count": 34,
   "id": "52dfbfa0",
   "metadata": {},
   "outputs": [
    {
     "name": "stdout",
     "output_type": "stream",
     "text": [
      "[1, 2]\n"
     ]
    }
   ],
   "source": [
    "# Set Mismatch\n",
    "# nums = [1,2,2,4]\n",
    "nums = [1,1]\n",
    "ans = [0,0]\n",
    "li = {}\n",
    "for i in range(len(nums)):\n",
    "    li[i+1] = 1\n",
    "for i in nums:\n",
    "    if(i not in li):\n",
    "        ans[1] = i\n",
    "    else:\n",
    "        li[i] -= 1\n",
    "for i in li:\n",
    "    if(li[i]==-1):\n",
    "        ans[0] = i\n",
    "    elif(li[i]==1):\n",
    "        ans[1] = i\n",
    "print(ans)"
   ]
  },
  {
   "cell_type": "code",
   "execution_count": 35,
   "id": "f577cd05",
   "metadata": {},
   "outputs": [
    {
     "data": {
      "text/plain": [
       "26"
      ]
     },
     "execution_count": 35,
     "metadata": {},
     "output_type": "execute_result"
    }
   ],
   "source": [
    "# Maximum Length of a Concatenated String with Unique Characters\n",
    "\n",
    "def max_len(arr,ans,S,n):\n",
    "#     print(S,ans,len(S),len(set(S)),n)\n",
    "    if(n>=len(arr)):\n",
    "        if(len(S)==len(set(S))):\n",
    "            ans[0] = max(ans[0],len(S))\n",
    "            return ans[0]\n",
    "        else:\n",
    "            return 0\n",
    "    if(len(S)==len(set(S))):\n",
    "        ans[0] = max(ans[0],len(S))\n",
    "    \n",
    "    max_len(arr,ans,S,n+1)\n",
    "    S += arr[n]\n",
    "    max_len(arr,ans,S,n+1)\n",
    "    return ans[0]\n",
    "\n",
    "\n",
    "\n",
    "# arr = [\"cha\",\"r\",\"act\",\"ers\"]\n",
    "# arr = [\"un\",\"iq\",\"ue\"]\n",
    "arr = [\"abcdefghijklmnopqrstuvwxyz\"]\n",
    "# arr = [\"aaaaa\",\"aaaa\",\"aa\"]\n",
    "ans = [0]\n",
    "S = \"\"\n",
    "n = 0\n",
    "max_len(arr,ans,S,n)"
   ]
  },
  {
   "cell_type": "code",
   "execution_count": 79,
   "id": "402439d8",
   "metadata": {},
   "outputs": [
    {
     "name": "stdout",
     "output_type": "stream",
     "text": [
      "{0: 0, 1: 1, 3: 2}\n",
      "False\n"
     ]
    }
   ],
   "source": [
    "# Continuous Subarray Sum\n",
    "# nums = [23,2,4,6,6]\n",
    "# k = 7\n",
    "nums = [1,2,12]\n",
    "k = 6\n",
    "N = len(nums)\n",
    "ans = False\n",
    "rem = {0:0}\n",
    "s = 0\n",
    "for i in range(N):\n",
    "    s += nums[i]\n",
    "    if(s%k not in rem):\n",
    "        rem[s%k] = i+1\n",
    "    elif(rem[s%k]<i):\n",
    "        ans = True\n",
    "\n",
    "print(rem)\n",
    "print(ans)"
   ]
  },
  {
   "cell_type": "code",
   "execution_count": 80,
   "id": "9af8d47e",
   "metadata": {},
   "outputs": [
    {
     "name": "stdout",
     "output_type": "stream",
     "text": [
      "[[-1, -1, 2], [-1, 0, 1]]\n"
     ]
    }
   ],
   "source": [
    "# 3Sum\n",
    "A = [-1,0,1,2,-1,4]\n",
    "A.sort()\n",
    "N = len(A)\n",
    "res = []\n",
    "for i in range(N - 2):\n",
    "    l = i + 1\n",
    "    h = N - 1\n",
    "    while l < h:\n",
    "        summ = A[l] + A[h] + A[i]\n",
    "        if summ == 0:\n",
    "            if [A[i], A[l], A[h]] not in res:\n",
    "                res.append([A[i], A[l], A[h]])\n",
    "        if summ <= 0:\n",
    "            l += 1\n",
    "        else:\n",
    "            h -= 1\n",
    "print(res)"
   ]
  },
  {
   "cell_type": "code",
   "execution_count": 95,
   "id": "b49a5ab5",
   "metadata": {},
   "outputs": [
    {
     "name": "stdout",
     "output_type": "stream",
     "text": [
      "28\n"
     ]
    }
   ],
   "source": [
    "# Container With Most Water\n",
    "# height = [1,8,6,2,5,4,8,3,7]\n",
    "# height = [1,1]\n",
    "# height = [1,2,3,4,5,6,7]\n",
    "height = [7,6,5,4,1,2,3,4]\n",
    "N = len(height)\n",
    "hl = [0]*N\n",
    "hr = [0]*N\n",
    "hl[0] = height[0]\n",
    "for i in range(1,N):\n",
    "    hl[i] = max(hl[i-1],height[i])\n",
    "hr[N-1] = height[N-1]\n",
    "for i in range(N-2,-1,-1):\n",
    "    hr[i] = max(hr[i+1],height[i])\n",
    "ans = 0\n",
    "p1 = 0\n",
    "p2 = N-1\n",
    "while(p1<p2):\n",
    "    h = min(hl[p1],hr[p2])\n",
    "    w = p2-p1\n",
    "    ans = max(ans,h*w)\n",
    "    if(hl[p1]<hr[p2]):\n",
    "        p1+=1\n",
    "    else:\n",
    "        p2-=1\n",
    "print(ans)"
   ]
  },
  {
   "cell_type": "code",
   "execution_count": 105,
   "id": "39d9e2f1",
   "metadata": {},
   "outputs": [
    {
     "name": "stdout",
     "output_type": "stream",
     "text": [
      "[['eat', 'tea', 'ate'], ['tan', 'nat'], ['bat']]\n"
     ]
    }
   ],
   "source": [
    "# Group Anagrams\n",
    "strs = [\"eat\",\"tea\",\"tan\",\"ate\",\"nat\",\"bat\"]\n",
    "ana = {}\n",
    "for i in range(len(strs)):\n",
    "    A = strs[i]\n",
    "    B = strs[i]\n",
    "    A = ''.join(sorted(A))\n",
    "    if(A in ana):\n",
    "        ana[A].append(B)\n",
    "    else:\n",
    "        ana[A] = [B]\n",
    "ans = []\n",
    "for i in ana:\n",
    "    ans.append(ana[i])\n",
    "print(ans)"
   ]
  },
  {
   "cell_type": "code",
   "execution_count": 48,
   "id": "a8d81408",
   "metadata": {},
   "outputs": [
    {
     "name": "stdout",
     "output_type": "stream",
     "text": [
      "4\n"
     ]
    }
   ],
   "source": [
    "# Max Steps\n",
    "def max_steps(A,i,j,N,M,ans): \n",
    "    if(i+1<N and A[i+1][j]>A[i][j]):\n",
    "        a = max_steps(A,i+1,j,N,M,ans+1)\n",
    "    else:\n",
    "        a = ans\n",
    "    if(j+1<M and A[i][j+1]>A[i][j]):\n",
    "        b = max_steps(A,i,j+1,N,M,ans+1)\n",
    "    else:\n",
    "        b = ans\n",
    "    if(i-1>=0 and A[i-1][j]>A[i][j]):\n",
    "        c = max_steps(A,i-1,j,N,M,ans+1)\n",
    "    else:\n",
    "        c = ans\n",
    "    if(j-1>=0 and A[i][j-1]>A[i][j]):\n",
    "        d = max_steps(A,i,j-1,N,M,ans+1)\n",
    "    else:\n",
    "        d = ans\n",
    "#     print(a,b,c,d)\n",
    "    return max(a,b,c,d)\n",
    "\n",
    "A = [['t', 'o', 'y'], \n",
    "     ['c', 'a', 't'], \n",
    "     ['t', 'o' , 'p']]\n",
    "# A = [['d', 'b'], \n",
    "#      ['c', 'a']]\n",
    "# A = [['a'],['b']]\n",
    "min_ele = A[0][0]\n",
    "N = len(A)\n",
    "M = len(A[0])\n",
    "min_idx = []\n",
    "min_ele = A[0][0]\n",
    "min_ele = min(min(A))\n",
    "for i in range(N):\n",
    "    for j in range(M):\n",
    "        if(A[i][j]==min_ele):\n",
    "            min_idx.append([i,j])\n",
    "# print(min_ele,min_idx)\n",
    "# print(min_idx)\n",
    "ans = 0\n",
    "for i in min_idx:\n",
    "    temp = 0\n",
    "    ans = max(ans,max_steps(A,i[0],i[1],N,M,temp))\n",
    "print(ans)"
   ]
  },
  {
   "cell_type": "code",
   "execution_count": 61,
   "id": "ceb77792",
   "metadata": {},
   "outputs": [
    {
     "name": "stdout",
     "output_type": "stream",
     "text": [
      "2\n"
     ]
    }
   ],
   "source": [
    "# Earliest Possible Day of Full Bloom\n",
    "# plantTime = [1,2,3,2]\n",
    "# growTime = [2,1,2,1]\n",
    "# plantTime = [1,4,3]\n",
    "# growTime = [2,3,1]\n",
    "plantTime = [1]\n",
    "growTime = [1]\n",
    "times = list(zip(plantTime, growTime))\n",
    "# print(times)\n",
    "times.sort(key = lambda x:-x[1])\n",
    "# print(times)\n",
    "cur_plant_time = 0\n",
    "ans = 0\n",
    "for i in times:\n",
    "    plant_time = i[0]\n",
    "    grow_time = i[1]\n",
    "    cur_plant_time += plant_time\n",
    "    ans = max(ans,cur_plant_time+grow_time)\n",
    "print(ans)"
   ]
  },
  {
   "cell_type": "code",
   "execution_count": 1,
   "id": "a6cf8137",
   "metadata": {},
   "outputs": [
    {
     "data": {
      "text/plain": [
       "[1, -1, -1, -1, -1]"
      ]
     },
     "execution_count": 1,
     "metadata": {},
     "output_type": "execute_result"
    }
   ],
   "source": [
    "# Where Will the Ball Fall\n",
    "\n",
    "def findBall(grid):\n",
    "    m, n = len(grid), len(grid[0])\n",
    "    def helper(r, c):\n",
    "        if r == m:\n",
    "            return c\n",
    "        elif grid[r][c] == 1 and c+1 < n and grid[r][c+1] == 1:\n",
    "            return helper(r+1, c+1)\n",
    "        elif grid[r][c] == -1 and 0 <= c-1 and grid[r][c-1] == -1:\n",
    "            return helper(r+1, c-1)\n",
    "        else:\n",
    "            return -1\n",
    "\n",
    "    return [helper(0, j) for j in range(n)]\n",
    "\n",
    "\n",
    "grid = [[1,1,1,-1,-1],[1,1,1,-1,-1],[-1,-1,-1,1,1],[1,1,1,1,-1],[-1,-1,-1,-1,-1]]\n",
    "findBall(grid)"
   ]
  },
  {
   "cell_type": "code",
   "execution_count": 6,
   "id": "84b1efa2",
   "metadata": {},
   "outputs": [
    {
     "name": "stdout",
     "output_type": "stream",
     "text": [
      "2\n"
     ]
    }
   ],
   "source": [
    "# Minimum Genetic Mutation\n",
    "start = \"AACCGGTT\" \n",
    "end = \"AAACGGTA\" \n",
    "bank = [\"AACCGGTA\",\"AACCGCTA\",\"AAACGGTA\"]\n",
    "queue = []\n",
    "queue.append((start,0))\n",
    "bankSet = set(bank)\n",
    "ans = -1\n",
    "while queue:\n",
    "    curr, step = queue.pop(0)\n",
    "    if curr == end:\n",
    "        ans = step\n",
    "        break\n",
    "    for i in range(len(curr)):\n",
    "        for c in \"AGCT\":\n",
    "            mutation = curr[:i] + c + curr[i+1:]\n",
    "#             print(mutation)\n",
    "            if mutation in bankSet:\n",
    "                bankSet.remove(mutation)\n",
    "                queue.append((mutation,step+1))\n",
    "\n",
    "print(ans)"
   ]
  },
  {
   "cell_type": "code",
   "execution_count": 36,
   "id": "43ba3fc5",
   "metadata": {},
   "outputs": [
    {
     "name": "stdout",
     "output_type": "stream",
     "text": [
      "[[1, 4]]\n"
     ]
    }
   ],
   "source": [
    "# Merge Intervals\n",
    "    \n",
    "# intervals = [[1,3],[2,6],[8,10],[9,11],[12,13],[15,18],[17,21]]\n",
    "# intervals = [[1,4],[4,5]]\n",
    "intervals = [[1,4],[2,3]]\n",
    "intervals.sort()\n",
    "intervals.sort()\n",
    "merged = []\n",
    "for i in range(len(intervals)):\n",
    "    if merged == []:\n",
    "        merged.append(intervals[i])\n",
    "    else:\n",
    "        previous_end = merged[-1][1]\n",
    "        current_start = intervals[i][0]\n",
    "        current_end = intervals[i][1]\n",
    "        if previous_end >= current_start: # overlap\n",
    "            merged[-1][1] = max(previous_end,current_end)\n",
    "        else:\n",
    "            merged.append(intervals[i])\n",
    "print(merged)"
   ]
  },
  {
   "cell_type": "code",
   "execution_count": 70,
   "id": "59a16a7c",
   "metadata": {},
   "outputs": [
    {
     "name": "stdout",
     "output_type": "stream",
     "text": [
      "Counter({'ab': 2, 'ty': 1, 'yt': 1, 'lc': 1, 'cl': 1})\n",
      "8\n"
     ]
    }
   ],
   "source": [
    "# Longest Palindrome by Concatenating Two Letter Words\n",
    "from collections import Counter\n",
    "words = [\"ab\",\"ty\",\"yt\",\"lc\",\"cl\",\"ab\"]\n",
    "# words = [\"lc\",\"cl\",\"gg\"]\n",
    "# words = [\"cc\",\"ll\",\"xx\"]\n",
    "# words = [\"dd\",\"aa\",\"bb\",\"dd\",\"aa\",\"dd\",\"bb\",\"dd\",\"aa\",\"cc\",\"bb\",\"cc\",\"dd\",\"cc\"]\n",
    "# words = [\"em\",\"pe\",\"mp\",\"ee\",\"pp\",\"me\",\"ep\",\"em\",\"em\",\"me\"]\n",
    "words_set = set(words)\n",
    "counts = Counter(words)\n",
    "print(counts)\n",
    "flag = False\n",
    "ans = 0\n",
    "for i in counts:\n",
    "    if(i[0]==i[1]):\n",
    "        if(counts[i]%2==1 and flag is False):\n",
    "            ans += counts[i]*2\n",
    "            flag = True\n",
    "        elif(counts[i]%2==1):\n",
    "            ans += (counts[i]-1)*2\n",
    "        elif(counts[i]%2==0):\n",
    "            ans += counts[i]*2\n",
    "    elif(i[::-1] in words_set):\n",
    "        ans += min(counts[i],counts[i[::-1]])*2\n",
    "print(ans)"
   ]
  },
  {
   "cell_type": "code",
   "execution_count": 71,
   "id": "bac2780d",
   "metadata": {},
   "outputs": [
    {
     "name": "stdout",
     "output_type": "stream",
     "text": [
      "holle\n"
     ]
    }
   ],
   "source": [
    "#  Reverse Vowels of a String\n",
    "\n",
    "s = \"hello\"\n",
    "s = list(s)\n",
    "p1 = 0\n",
    "p2 = len(s)-1\n",
    "vowels = set({'a','e','i','o','u','A','E','I','O','U'})\n",
    "# print(set(vowels))\n",
    "while(p1<p2):\n",
    "    # print(s[p1],s[p2],p1,p2)\n",
    "    if(s[p1] in vowels and s[p2] in vowels):\n",
    "        s[p1],s[p2] = s[p2],s[p1]\n",
    "        p1 += 1\n",
    "        p2 -= 1\n",
    "        # print(s,\"inside first if\")\n",
    "    elif(s[p1] in vowels and s[p2] not in vowels):\n",
    "        p2 -= 1\n",
    "    elif(s[p2] in vowels and s[p1] not in vowels):\n",
    "        p1 += 1\n",
    "    else:\n",
    "        p1+=1\n",
    "        p2 -= 1\n",
    "print(''.join(s))"
   ]
  },
  {
   "cell_type": "code",
   "execution_count": 72,
   "id": "3c768a2a",
   "metadata": {},
   "outputs": [
    {
     "name": "stdout",
     "output_type": "stream",
     "text": [
      "9969\n"
     ]
    }
   ],
   "source": [
    "# Maximum 69 Number\n",
    "num = 9669\n",
    "li = list(str(num))\n",
    "for i in range(len(li)):\n",
    "    if(li[i]=='6'):\n",
    "        li[i] = '9'\n",
    "        break\n",
    "div = 1\n",
    "ans = 0\n",
    "for i in range(len(li)-1,-1,-1):\n",
    "    ans += div*int(li[i])\n",
    "    div *= 10\n",
    "print(ans)"
   ]
  },
  {
   "cell_type": "code",
   "execution_count": 1,
   "id": "7ba84bff",
   "metadata": {},
   "outputs": [
    {
     "name": "stdout",
     "output_type": "stream",
     "text": [
      "leetcode\n"
     ]
    }
   ],
   "source": [
    "# Make The String Great\n",
    "s = \"leEeetcode\"\n",
    "stack = []        \n",
    "for char in s:\n",
    "    if stack and stack[-1] == char.swapcase():\n",
    "        stack.pop()\n",
    "    else:\n",
    "        stack.append(char)\n",
    "print(''.join(stack))"
   ]
  },
  {
   "cell_type": "code",
   "execution_count": 19,
   "id": "0e528f2c",
   "metadata": {},
   "outputs": [
    {
     "name": "stdout",
     "output_type": "stream",
     "text": [
      "ca\n"
     ]
    }
   ],
   "source": [
    "# Remove All Adjacent Duplicates In String\n",
    "s = 'abbaca'\n",
    "stack = []\n",
    "for i in s:\n",
    "    if(stack and stack[-1]==i):\n",
    "        stack.pop()\n",
    "    else:\n",
    "        stack.append(i)\n",
    "print(''.join(stack))"
   ]
  },
  {
   "cell_type": "code",
   "execution_count": 29,
   "id": "ca0a9447",
   "metadata": {},
   "outputs": [
    {
     "name": "stdout",
     "output_type": "stream",
     "text": [
      "['a', 'good', 'example']\n",
      "example good a\n"
     ]
    }
   ],
   "source": [
    "# Reverse Words in a String\n",
    "\n",
    "# s = \"the sky is blue\"\n",
    "# s = \"  hello   world  \"\n",
    "s = \"a good   example\"\n",
    "\n",
    "\n",
    "li = []\n",
    "p1 = 0\n",
    "\n",
    "i = 0\n",
    "while(s[i]==' '):\n",
    "    i += 1\n",
    "s = s[i:]\n",
    "\n",
    "i = len(s)-1\n",
    "while(s[i]==' '):\n",
    "    i -= 1\n",
    "\n",
    "s = s[:i+1]\n",
    "    \n",
    "i = 0\n",
    "while(i<len(s)):\n",
    "    if(s[i]==' '):\n",
    "        li.append(s[p1:i])\n",
    "        while(i+1<len(s) and s[i+1]==' '):\n",
    "            i += 1\n",
    "        p1 = i+1\n",
    "    i += 1\n",
    "\n",
    "li.append(s[p1:i+1])\n",
    "print(li)\n",
    "ans = ' '.join(li[::-1])\n",
    "print(ans)"
   ]
  },
  {
   "cell_type": "code",
   "execution_count": 91,
   "id": "fc732a8a",
   "metadata": {},
   "outputs": [
    {
     "data": {
      "text/plain": [
       "3"
      ]
     },
     "execution_count": 91,
     "metadata": {},
     "output_type": "execute_result"
    }
   ],
   "source": [
    "# Most Stones Removed with Same Row or Column\n",
    "\n",
    "from collections import defaultdict\n",
    "\n",
    "def removeStones(stones) -> int:\n",
    "        n = len(stones)\n",
    "        visited = [False]*n\n",
    "        rows = defaultdict(list)\n",
    "        cols = defaultdict(list)\n",
    "        ans = 0\n",
    "        for i,point in enumerate(stones):\n",
    "            rows[point[0]].append(i)\n",
    "            cols[point[1]].append(i)\n",
    "        \n",
    "#         print(rows)\n",
    "#         print(cols)\n",
    "        \n",
    "        def dfs(node):\n",
    "            visited[node] = True\n",
    "            count = 1\n",
    "            for x in rows[stones[node][0]]:\n",
    "                if visited[x] == False:\n",
    "                    count += dfs(x)\n",
    "            for x in cols[stones[node][1]]:\n",
    "                if visited[x] == False:\n",
    "                    count += dfs(x)\n",
    "            return count\n",
    "            \n",
    "        for i in range(n):\n",
    "            if visited[i] == False:\n",
    "                size = dfs(i)\n",
    "                ans += size-1\n",
    "        return ans\n",
    "\n",
    "# stones = [[0,0],[0,1],[1,0],[1,2],[2,1],[2,2]]\n",
    "stones = [[0,0],[0,2],[1,1],[2,0],[2,2]]\n",
    "\n",
    "removeStones(stones)"
   ]
  },
  {
   "cell_type": "code",
   "execution_count": null,
   "id": "a9bfe9ae",
   "metadata": {},
   "outputs": [],
   "source": []
  }
 ],
 "metadata": {
  "kernelspec": {
   "display_name": "Python 3 (ipykernel)",
   "language": "python",
   "name": "python3"
  },
  "language_info": {
   "codemirror_mode": {
    "name": "ipython",
    "version": 3
   },
   "file_extension": ".py",
   "mimetype": "text/x-python",
   "name": "python",
   "nbconvert_exporter": "python",
   "pygments_lexer": "ipython3",
   "version": "3.9.7"
  }
 },
 "nbformat": 4,
 "nbformat_minor": 5
}
