{
 "cells": [
  {
   "cell_type": "code",
   "execution_count": 7,
   "id": "a0e0237b",
   "metadata": {},
   "outputs": [
    {
     "name": "stdout",
     "output_type": "stream",
     "text": [
      "{'a'}\n",
      "{'a', 'b'}\n",
      "{'c', 'a', 'b'}\n",
      "3\n"
     ]
    }
   ],
   "source": [
    "# Longest Substring Without Repeating Characters\n",
    "s = 'abcabcbb'\n",
    "# s = 'pwwkew'\n",
    "ans = 0\n",
    "p1 = 0\n",
    "p2 = 0\n",
    "hset = set()\n",
    "while(p2<len(s)):\n",
    "    if(s[p2] not in hset):\n",
    "        hset.add(s[p2])\n",
    "        print(hset)\n",
    "        ans = max(ans,len(hset))\n",
    "        p2+=1\n",
    "    else:\n",
    "        while(s[p1]!=s[p2]):\n",
    "            hset.remove(s[p1])\n",
    "            p1 = p1+1\n",
    "        p1 = p1 + 1\n",
    "        length = p2-p1+1\n",
    "        ans = max(ans,length)\n",
    "        p2+=1\n",
    "print(ans)"
   ]
  },
  {
   "cell_type": "code",
   "execution_count": 9,
   "id": "a9241860",
   "metadata": {},
   "outputs": [
    {
     "name": "stdout",
     "output_type": "stream",
     "text": [
      "{1: 1, 2: 2, 3: 3, 4: 4}\n"
     ]
    }
   ],
   "source": [
    "# Minimum largest element\n",
    "A = [1, 2, 3, 4] \n",
    "B = 3\n",
    "hm = {}\n",
    "for i in A:\n",
    "    hm[i] = i\n",
    "print(hm)\n",
    "heap = [(a,b) for (a,b) in ]"
   ]
  },
  {
   "cell_type": "code",
   "execution_count": 17,
   "id": "4724a2c9",
   "metadata": {},
   "outputs": [
    {
     "name": "stdout",
     "output_type": "stream",
     "text": [
      "[0, 1, 1]\n"
     ]
    }
   ],
   "source": [
    "# Counting Bits\n",
    "A = 2\n",
    "dp = []\n",
    "dp.append(0)\n",
    "dp.append(1)\n",
    "for i in range(2,A+1):\n",
    "    if(i&1==1):\n",
    "        num = i//2\n",
    "        dp.append(dp[num]+1)\n",
    "    else:\n",
    "        num = i//2\n",
    "        dp.append(dp[num])\n",
    "print(dp)"
   ]
  },
  {
   "cell_type": "code",
   "execution_count": 34,
   "id": "64a37bc9",
   "metadata": {},
   "outputs": [
    {
     "name": "stdout",
     "output_type": "stream",
     "text": [
      "[[1], [1, 1], [1, 2, 1]]\n"
     ]
    }
   ],
   "source": [
    "# Pascal's Triangle\n",
    "numRows = 3\n",
    "pt = [[1]]\n",
    "for i in range(1,numRows):\n",
    "    temp = []\n",
    "    for j in range(i+1):\n",
    "        if(j==0):\n",
    "            temp.append(1)\n",
    "        elif(j==i):\n",
    "            temp.append(1)\n",
    "        else:\n",
    "            temp.append(pt[i-1][j-1]+pt[i-1][j])\n",
    "    pt.append(temp)\n",
    "print(pt)"
   ]
  },
  {
   "cell_type": "code",
   "execution_count": 35,
   "id": "343b43a8",
   "metadata": {},
   "outputs": [
    {
     "name": "stdout",
     "output_type": "stream",
     "text": [
      "2\n"
     ]
    }
   ],
   "source": [
    "# Min Cost Climbing Stairs\n",
    "cost = [0,2,2,1]\n",
    "n = len(cost)\n",
    "dp = [0]*len(cost)\n",
    "dp[0] = 0\n",
    "dp[1] = 0\n",
    "for i in range(2,n):\n",
    "    if(cost[i-1]+dp[i-1]<cost[i-2]+dp[i-2]):\n",
    "        dp[i] = dp[i-1]+cost[i-1]\n",
    "    else:\n",
    "        dp[i] = dp[i-2]+cost[i-2]\n",
    "if(cost[n-1]+dp[n-1]<cost[n-2]+dp[n-2]):\n",
    "        ans = cost[n-1]+dp[n-1]\n",
    "else:\n",
    "    ans = dp[n-2]+cost[n-2]\n",
    "print(ans)"
   ]
  },
  {
   "cell_type": "code",
   "execution_count": 48,
   "id": "67c94d2a",
   "metadata": {},
   "outputs": [
    {
     "name": "stdout",
     "output_type": "stream",
     "text": [
      "12\n"
     ]
    }
   ],
   "source": [
    "# Maximum Width of Binary Tree\n",
    "class TreeNode:\n",
    "    def __init__(self, x):\n",
    "        self.val = x\n",
    "        self.left = None\n",
    "        self.right = None \n",
    "\n",
    "root = TreeNode(1)\n",
    "root.right = TreeNode(2)\n",
    "root.right.right = TreeNode(9)\n",
    "root.right.right.left = TreeNode(7)\n",
    "root.left = TreeNode(3)\n",
    "root.left.left = TreeNode(5)\n",
    "root.left.left.left = TreeNode(6)\n",
    "root.left.right = TreeNode(3)\n",
    "root.left.left.left.right = TreeNode(10)\n",
    "root.right.right.left.left = TreeNode(11)\n",
    "\n",
    "from collections import deque\n",
    "queue = deque()\n",
    "if(root is not None):\n",
    "    queue.append(root)\n",
    "queue.append(None)\n",
    "max_width = 1\n",
    "temp = []\n",
    "while(len(queue)>1):\n",
    "    ele = queue.popleft()\n",
    "    if(ele is None):\n",
    "        i = 0\n",
    "        j = len(temp)-1\n",
    "        while(i<=len(temp) and temp[i]==-101):\n",
    "            i+=1\n",
    "            if(i==len(temp)-1):\n",
    "                break\n",
    "        while(j>=0 and temp[j]==-101):\n",
    "            j-=1\n",
    "            if(j==0):\n",
    "                break\n",
    "        if(i>=j and temp[i]==temp[j]==-101):\n",
    "            break\n",
    "        max_width = max(max_width,j-i+1)\n",
    "        temp = []\n",
    "        queue.append(None)\n",
    "    else:\n",
    "        if(ele.left is not None):\n",
    "            queue.append(ele.left)\n",
    "            temp.append(ele.left.val)\n",
    "        else:\n",
    "            ele.left = TreeNode(-101)\n",
    "            queue.append(ele.left)\n",
    "            temp.append(-101)\n",
    "        if(ele.right is not None):\n",
    "            queue.append(ele.right)\n",
    "            temp.append(ele.right.val)\n",
    "        else:\n",
    "            ele.right = TreeNode(-101)\n",
    "            queue.append(ele.right)\n",
    "            temp.append(-101)\n",
    "#         print(ele,temp,queue)\n",
    "        \n",
    "print(max_width)"
   ]
  },
  {
   "cell_type": "code",
   "execution_count": 60,
   "id": "4288a473",
   "metadata": {},
   "outputs": [
    {
     "name": "stdout",
     "output_type": "stream",
     "text": [
      "4\n"
     ]
    }
   ],
   "source": [
    "# Maximum Width of Binary Tree\n",
    "\n",
    "class TreeNode:\n",
    "    def __init__(self, x):\n",
    "        self.val = x\n",
    "        self.left = None\n",
    "        self.right = None \n",
    "\n",
    "root = TreeNode(1)\n",
    "root.right = TreeNode(2)\n",
    "root.right.right = TreeNode(9)\n",
    "# root.right.right.left = TreeNode(7)\n",
    "root.left = TreeNode(3)\n",
    "root.left.left = TreeNode(5)\n",
    "# root.left.left.left = TreeNode(6)\n",
    "root.left.right = TreeNode(3)\n",
    "# root.left.left.left.right = TreeNode(10)\n",
    "# root.right.right.left.left = TreeNode(11)\n",
    "\n",
    "\n",
    "queue = deque()\n",
    "if root is not None:\n",
    "    queue.append([1,root])\n",
    "queue.append(None)\n",
    "max_width = 1\n",
    "while(len(queue)>1):\n",
    "    ele = queue.popleft()\n",
    "    if(ele is None):\n",
    "        n = len(temp)-1\n",
    "        max_width = max(max_width,temp[n][0]-temp[0][0]+1)\n",
    "        temp = []\n",
    "        queue.append(None)\n",
    "    else:\n",
    "        num = ele[0]\n",
    "        node = ele[1]\n",
    "        if(node.left is not None):\n",
    "            queue.append([num*2,node.left])\n",
    "            temp.append([num*2,node.left.val])\n",
    "        if(node.right is not None):\n",
    "            queue.append([num*2+1,node.right])\n",
    "            temp.append([num*2+1,node.right.val])\n",
    "print(max_width)"
   ]
  },
  {
   "cell_type": "code",
   "execution_count": 3,
   "id": "8760efa5",
   "metadata": {},
   "outputs": [
    {
     "name": "stdout",
     "output_type": "stream",
     "text": [
      "{'a': 3, 'b': 1, 'c': 3, 'd': 1}\n",
      "{'a': 2, 'b': 1, 'c': 2, 'd': 1}\n"
     ]
    }
   ],
   "source": [
    "# String Compression II\n",
    "s = \"aaabcccd\"\n",
    "k = 2\n",
    "freq = {}\n",
    "for i in s:\n",
    "    if i in freq:\n",
    "        freq[i] += 1\n",
    "    else:\n",
    "        freq[i] = 1\n",
    "print(freq)\n",
    "len_b = {}\n",
    "for i in freq:\n",
    "    if(freq[i]==1):\n",
    "        len_b[i] = 1\n",
    "    elif(freq[i]>1 and freq[i]<=9):\n",
    "        len_b[i] = 2\n",
    "    elif(10<=freq[i]<=99):\n",
    "        leb_b[i] = 3\n",
    "    elif(freq[i]>99):\n",
    "        len_b[i] = 4\n",
    "print(len_b)"
   ]
  },
  {
   "cell_type": "code",
   "execution_count": 11,
   "id": "45eef148",
   "metadata": {},
   "outputs": [
    {
     "data": {
      "text/plain": [
       "'1211'"
      ]
     },
     "execution_count": 11,
     "metadata": {},
     "output_type": "execute_result"
    }
   ],
   "source": [
    "# Count and Say 1 11 21 1211 111221\n",
    "\n",
    "def cns(string):\n",
    "    res = ''\n",
    "    string += '@'\n",
    "    count = 1\n",
    "    for i in range(len(string)-1):\n",
    "        if(string[i]==string[i+1]):\n",
    "            count+=1\n",
    "        else:\n",
    "            res += str(count)+string[i]\n",
    "            count = 1\n",
    "    return res\n",
    "\n",
    "n = 4\n",
    "ans = '1'\n",
    "for i in range(1,n-1):\n",
    "    ans = cns(ans)\n",
    "cns(ans)"
   ]
  },
  {
   "cell_type": "code",
   "execution_count": 41,
   "id": "86477b65",
   "metadata": {},
   "outputs": [
    {
     "name": "stdout",
     "output_type": "stream",
     "text": [
      "[(<__main__.Element object at 0x7fecd0f8ff40>, 'love'), (<__main__.Element object at 0x7fece08a2f70>, 'i')]\n",
      "['i', 'love']\n"
     ]
    }
   ],
   "source": [
    "# Top K Frequent Words\n",
    "from collections import Counter\n",
    "import heapq\n",
    "\n",
    "class Element:\n",
    "    def __init__(self,word,count):\n",
    "        self.count = count\n",
    "        self.word = word\n",
    "    \n",
    "    def __lt__(self,other):\n",
    "        if(self.count==other.count):\n",
    "            return self.word>other.word\n",
    "        return self.count<other.count\n",
    "    \n",
    "    def __eq__(self,other):\n",
    "        return self.count==other.count and self.word==other.word\n",
    "\n",
    "\n",
    "words = [\"i\",\"love\",\"leetcode\",\"i\",\"love\",\"coding\"] \n",
    "k = 2\n",
    "counts = Counter(words)\n",
    "freqs = []\n",
    "heapq.heapify(freqs)\n",
    "for word,count in counts.items():\n",
    "    heapq.heappush(freqs,(Element(word,count),word))\n",
    "    if(len(freqs)>k):\n",
    "        heapq.heappop(freqs)\n",
    "print(freqs)\n",
    "res = []\n",
    "for i in range(k):\n",
    "    res.append(heapq.heappop(freqs)[1])\n",
    "print(res[::-1])"
   ]
  },
  {
   "cell_type": "code",
   "execution_count": 70,
   "id": "45b780df",
   "metadata": {},
   "outputs": [
    {
     "name": "stdout",
     "output_type": "stream",
     "text": [
      "LVIII\n"
     ]
    }
   ],
   "source": [
    "# Integer to Roman\n",
    "num = 58\n",
    "ans = ''\n",
    "while(num>0):\n",
    "    if(num//1000>0):\n",
    "        num = num - 1000\n",
    "        ans += 'M'\n",
    "    elif(num//500>0):\n",
    "        if(num>=900 and num<1000):\n",
    "            ans += 'CM'\n",
    "            num -= 900\n",
    "            continue\n",
    "        num = num - 500\n",
    "        ans += 'D'\n",
    "    elif(num//100>0):\n",
    "        if(num>=400 and num<500):\n",
    "            ans += 'CD'\n",
    "            num -= 400\n",
    "            continue\n",
    "        num = num - 100\n",
    "        ans += 'C'\n",
    "    elif(num//50>0):\n",
    "        if(num>=90 and num<100):\n",
    "            ans += 'XC'\n",
    "            num -= 90\n",
    "            continue\n",
    "        num = num - 50\n",
    "        ans += 'L'\n",
    "    elif(num//10>0):\n",
    "        if(num>=40 and num<50):\n",
    "            ans += 'XL'\n",
    "            num -= 40\n",
    "            continue\n",
    "        num = num - 10\n",
    "        ans += 'X'\n",
    "    elif(num//5>0):\n",
    "        if(num>8 and num<10):\n",
    "            ans += 'IX'\n",
    "            num -= 9\n",
    "            continue\n",
    "        num = num - 5\n",
    "        ans += 'V'\n",
    "    elif(num<5):\n",
    "        if(num==4):\n",
    "            ans += 'IV'\n",
    "            num -= 4\n",
    "            continue\n",
    "        num = num - 1\n",
    "        ans += 'I'\n",
    "print(ans)"
   ]
  },
  {
   "cell_type": "code",
   "execution_count": 15,
   "id": "618e6a17",
   "metadata": {},
   "outputs": [
    {
     "name": "stdout",
     "output_type": "stream",
     "text": [
      "0 -1 2 inf -inf 1\n",
      "-1 0 -inf 2 1 3\n",
      "2\n"
     ]
    }
   ],
   "source": [
    "# Median of 2 sorted Arrays\n",
    "\n",
    "# A = [1,2,3,4,5]\n",
    "# B = [6,7,8]\n",
    "A = [1,3]\n",
    "B = [2]\n",
    "total = len(A)+len(B)\n",
    "half = total//2\n",
    "if(len(B)<len(A)):\n",
    "    A,B = B,A\n",
    "l,r = 0,len(A)-1\n",
    "ans = 0\n",
    "while(True):\n",
    "    i = (l+r)//2\n",
    "    j = half - i - 2\n",
    "    Aleft = A[i] if i>=0 else float('-inf')\n",
    "    Aright = A[i+1] if i+1<len(A) else float('inf')\n",
    "    Bleft = B[j] if j>=0 else float('-inf')\n",
    "    Bright = B[j+1] if j+1<len(B) else float('inf')\n",
    "    print(i,j,Aleft,Aright,Bleft,Bright)\n",
    "    if(Aleft<=Bright and Bleft<=Aright):\n",
    "        if(total%2==0):\n",
    "            ans = (max(Aleft,Bleft) + min(Aright,Bright))/2\n",
    "            break\n",
    "        else:\n",
    "            ans = min(Aright,Bright)\n",
    "            break\n",
    "    elif(Aleft>Bright):\n",
    "        r = i-1\n",
    "    else:\n",
    "        l = i+1\n",
    "print(ans)"
   ]
  },
  {
   "cell_type": "code",
   "execution_count": null,
   "id": "90d0c4d8",
   "metadata": {},
   "outputs": [],
   "source": []
  }
 ],
 "metadata": {
  "kernelspec": {
   "display_name": "Python 3 (ipykernel)",
   "language": "python",
   "name": "python3"
  },
  "language_info": {
   "codemirror_mode": {
    "name": "ipython",
    "version": 3
   },
   "file_extension": ".py",
   "mimetype": "text/x-python",
   "name": "python",
   "nbconvert_exporter": "python",
   "pygments_lexer": "ipython3",
   "version": "3.9.7"
  }
 },
 "nbformat": 4,
 "nbformat_minor": 5
}
