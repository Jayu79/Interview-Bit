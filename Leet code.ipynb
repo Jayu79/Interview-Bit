{
 "cells": [
  {
   "cell_type": "code",
   "execution_count": 7,
   "id": "a0e0237b",
   "metadata": {},
   "outputs": [
    {
     "name": "stdout",
     "output_type": "stream",
     "text": [
      "{'a'}\n",
      "{'a', 'b'}\n",
      "{'c', 'a', 'b'}\n",
      "3\n"
     ]
    }
   ],
   "source": [
    "# Longest Substring Without Repeating Characters\n",
    "s = 'abcabcbb'\n",
    "# s = 'pwwkew'\n",
    "ans = 0\n",
    "p1 = 0\n",
    "p2 = 0\n",
    "hset = set()\n",
    "while(p2<len(s)):\n",
    "    if(s[p2] not in hset):\n",
    "        hset.add(s[p2])\n",
    "        print(hset)\n",
    "        ans = max(ans,len(hset))\n",
    "        p2+=1\n",
    "    else:\n",
    "        while(s[p1]!=s[p2]):\n",
    "            hset.remove(s[p1])\n",
    "            p1 = p1+1\n",
    "        p1 = p1 + 1\n",
    "        length = p2-p1+1\n",
    "        ans = max(ans,length)\n",
    "        p2+=1\n",
    "print(ans)"
   ]
  },
  {
   "cell_type": "code",
   "execution_count": 9,
   "id": "a9241860",
   "metadata": {},
   "outputs": [
    {
     "name": "stdout",
     "output_type": "stream",
     "text": [
      "{1: 1, 2: 2, 3: 3, 4: 4}\n"
     ]
    }
   ],
   "source": [
    "# Minimum largest element\n",
    "A = [1, 2, 3, 4] \n",
    "B = 3\n",
    "hm = {}\n",
    "for i in A:\n",
    "    hm[i] = i\n",
    "print(hm)\n",
    "heap = [(a,b) for (a,b) in ]"
   ]
  },
  {
   "cell_type": "code",
   "execution_count": 17,
   "id": "4724a2c9",
   "metadata": {},
   "outputs": [
    {
     "name": "stdout",
     "output_type": "stream",
     "text": [
      "[0, 1, 1]\n"
     ]
    }
   ],
   "source": [
    "# Counting Bits\n",
    "A = 2\n",
    "dp = []\n",
    "dp.append(0)\n",
    "dp.append(1)\n",
    "for i in range(2,A+1):\n",
    "    if(i&1==1):\n",
    "        num = i//2\n",
    "        dp.append(dp[num]+1)\n",
    "    else:\n",
    "        num = i//2\n",
    "        dp.append(dp[num])\n",
    "print(dp)"
   ]
  },
  {
   "cell_type": "code",
   "execution_count": 34,
   "id": "d5e44669",
   "metadata": {},
   "outputs": [
    {
     "name": "stdout",
     "output_type": "stream",
     "text": [
      "[[1], [1, 1], [1, 2, 1]]\n"
     ]
    }
   ],
   "source": [
    "# Pascal's Triangle\n",
    "numRows = 3\n",
    "pt = [[1]]\n",
    "for i in range(1,numRows):\n",
    "    temp = []\n",
    "    for j in range(i+1):\n",
    "        if(j==0):\n",
    "            temp.append(1)\n",
    "        elif(j==i):\n",
    "            temp.append(1)\n",
    "        else:\n",
    "            temp.append(pt[i-1][j-1]+pt[i-1][j])\n",
    "    pt.append(temp)\n",
    "print(pt)"
   ]
  },
  {
   "cell_type": "code",
   "execution_count": 35,
   "id": "df047284",
   "metadata": {},
   "outputs": [
    {
     "name": "stdout",
     "output_type": "stream",
     "text": [
      "2\n"
     ]
    }
   ],
   "source": [
    "# Min Cost Climbing Stairs\n",
    "cost = [0,2,2,1]\n",
    "n = len(cost)\n",
    "dp = [0]*len(cost)\n",
    "dp[0] = 0\n",
    "dp[1] = 0\n",
    "for i in range(2,n):\n",
    "    if(cost[i-1]+dp[i-1]<cost[i-2]+dp[i-2]):\n",
    "        dp[i] = dp[i-1]+cost[i-1]\n",
    "    else:\n",
    "        dp[i] = dp[i-2]+cost[i-2]\n",
    "if(cost[n-1]+dp[n-1]<cost[n-2]+dp[n-2]):\n",
    "        ans = cost[n-1]+dp[n-1]\n",
    "else:\n",
    "    ans = dp[n-2]+cost[n-2]\n",
    "print(ans)"
   ]
  },
  {
   "cell_type": "code",
   "execution_count": null,
   "id": "0395ec40",
   "metadata": {},
   "outputs": [],
   "source": []
  }
 ],
 "metadata": {
  "kernelspec": {
   "display_name": "Python 3 (ipykernel)",
   "language": "python",
   "name": "python3"
  },
  "language_info": {
   "codemirror_mode": {
    "name": "ipython",
    "version": 3
   },
   "file_extension": ".py",
   "mimetype": "text/x-python",
   "name": "python",
   "nbconvert_exporter": "python",
   "pygments_lexer": "ipython3",
   "version": "3.9.7"
  }
 },
 "nbformat": 4,
 "nbformat_minor": 5
}
