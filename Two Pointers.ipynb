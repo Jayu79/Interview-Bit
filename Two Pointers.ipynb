{
 "cells": [
  {
   "cell_type": "code",
   "execution_count": 11,
   "id": "fbf47d85",
   "metadata": {},
   "outputs": [
    {
     "name": "stdout",
     "output_type": "stream",
     "text": [
      "120 2 3\n",
      "[20, 100]\n"
     ]
    }
   ],
   "source": [
    "#Subarray with given sum\n",
    "A = [5, 10, 20, 100, 105]\n",
    "B = 120\n",
    "p1 = 0\n",
    "p2 = 1\n",
    "S = A[p1]+A[p2]\n",
    "while(p2<len(A)):\n",
    "    if(S==B):\n",
    "        break\n",
    "    elif(S<B):\n",
    "        p2 = p2 + 1\n",
    "        if(p2<len(A)):\n",
    "            S += A[p2]\n",
    "    else:\n",
    "        S -= A[p1]\n",
    "        p1 += 1\n",
    "print(S,p1,p2)\n",
    "print(A[p1:p2+1])"
   ]
  },
  {
   "cell_type": "code",
   "execution_count": null,
   "id": "57daf57f",
   "metadata": {},
   "outputs": [],
   "source": []
  }
 ],
 "metadata": {
  "kernelspec": {
   "display_name": "Python 3 (ipykernel)",
   "language": "python",
   "name": "python3"
  },
  "language_info": {
   "codemirror_mode": {
    "name": "ipython",
    "version": 3
   },
   "file_extension": ".py",
   "mimetype": "text/x-python",
   "name": "python",
   "nbconvert_exporter": "python",
   "pygments_lexer": "ipython3",
   "version": "3.9.7"
  }
 },
 "nbformat": 4,
 "nbformat_minor": 5
}
