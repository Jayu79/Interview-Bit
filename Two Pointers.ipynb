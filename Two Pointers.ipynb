{
 "cells": [
  {
   "cell_type": "code",
   "execution_count": 11,
   "id": "c9c290c4",
   "metadata": {},
   "outputs": [
    {
     "name": "stdout",
     "output_type": "stream",
     "text": [
      "120 2 3\n",
      "[20, 100]\n"
     ]
    }
   ],
   "source": [
    "#Subarray with given sum\n",
    "A = [5, 10, 20, 100, 105]\n",
    "B = 120\n",
    "p1 = 0\n",
    "p2 = 1\n",
    "S = A[p1]+A[p2]\n",
    "while(p2<len(A)):\n",
    "    if(S==B):\n",
    "        break\n",
    "    elif(S<B):\n",
    "        p2 = p2 + 1\n",
    "        if(p2<len(A)):\n",
    "            S += A[p2]\n",
    "    else:\n",
    "        S -= A[p1]\n",
    "        p1 += 1\n",
    "print(S,p1,p2)\n",
    "print(A[p1:p2+1])"
   ]
  },
  {
   "cell_type": "code",
   "execution_count": 16,
   "id": "327b7329",
   "metadata": {},
   "outputs": [
    {
     "name": "stdout",
     "output_type": "stream",
     "text": [
      "0\n"
     ]
    }
   ],
   "source": [
    "#Container With Most Water\n",
    "A = [1, 5, 4, 3]\n",
    "# A = [1]\n",
    "p1 = 0\n",
    "p2 = len(A)-1\n",
    "ans = 0\n",
    "while(p1<p2):\n",
    "    minimum = min(A[p1],A[p2])\n",
    "    width = p2-p1\n",
    "    area = minimum*width\n",
    "    ans = max(ans,area)\n",
    "    if(A[p1]<A[p2]):\n",
    "        p1 += 1\n",
    "    else:\n",
    "        p2 -= 1\n",
    "print(ans)"
   ]
  },
  {
   "cell_type": "code",
   "execution_count": 24,
   "id": "25270751",
   "metadata": {},
   "outputs": [
    {
     "name": "stdout",
     "output_type": "stream",
     "text": [
      "2\n"
     ]
    }
   ],
   "source": [
    "# Count of pairs with the given sum\n",
    "A = [1,2,3,4,5]\n",
    "B = 5\n",
    "N = len(A)\n",
    "p1 = 0\n",
    "p2 = N-1\n",
    "ans = 0\n",
    "while(p1<p2):\n",
    "    summ = A[p1]+A[p2]\n",
    "    if(summ==B):\n",
    "        ans += 1\n",
    "        p1+=1\n",
    "        p2-=1\n",
    "    elif(summ<B):\n",
    "        p1 += 1\n",
    "    else:\n",
    "        p2 -= 1\n",
    "print(ans)"
   ]
  },
  {
   "cell_type": "code",
   "execution_count": 22,
   "id": "6bc1f3ba",
   "metadata": {},
   "outputs": [
    {
     "name": "stdout",
     "output_type": "stream",
     "text": [
      "0\n"
     ]
    }
   ],
   "source": [
    "#Pairs with given sum II\n",
    "# A = [1,1]\n",
    "# B = 2\n",
    "A = [ 2, 3, 5, 6, 10 ]\n",
    "B = 6\n",
    "N = len(A)\n",
    "p1 = 0\n",
    "p2 = N-1\n",
    "ans = 0\n",
    "while(p1<p2):\n",
    "#     print(p1,p2)\n",
    "    summ = A[p1]+A[p2]\n",
    "    if(summ<B):\n",
    "        p1 += 1\n",
    "    elif(summ>B):\n",
    "        p2 -= 1\n",
    "    else:\n",
    "        if(A[p1]==A[p2]):\n",
    "            x = p2-p1+1\n",
    "            total = (x*(x-1))//2\n",
    "            ans += total\n",
    "            break\n",
    "        else:\n",
    "            num1 = 1\n",
    "            p1 += 1\n",
    "            while(A[p1]==A[p1-1]):\n",
    "                p1+=1\n",
    "                num1+=1\n",
    "            \n",
    "            num2 = 1\n",
    "            p2 -= 1\n",
    "            while(A[p2]==A[p2+1]):\n",
    "                p2 -= 1\n",
    "                num2 += 1\n",
    "            ans += (num1*num2)\n",
    "print(ans)"
   ]
  },
  {
   "cell_type": "code",
   "execution_count": null,
   "id": "5ab63452",
   "metadata": {},
   "outputs": [],
   "source": []
  }
 ],
 "metadata": {
  "kernelspec": {
   "display_name": "Python 3 (ipykernel)",
   "language": "python",
   "name": "python3"
  },
  "language_info": {
   "codemirror_mode": {
    "name": "ipython",
    "version": 3
   },
   "file_extension": ".py",
   "mimetype": "text/x-python",
   "name": "python",
   "nbconvert_exporter": "python",
   "pygments_lexer": "ipython3",
   "version": "3.9.7"
  }
 },
 "nbformat": 4,
 "nbformat_minor": 5
}
