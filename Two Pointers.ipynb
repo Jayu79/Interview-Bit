{
 "cells": [
  {
   "cell_type": "code",
   "execution_count": null,
   "id": "eca0e6c6",
   "metadata": {},
   "outputs": [],
   "source": [
    "#Subarray with given sum\n",
    "A = [5, 10, 20, 100, 105]\n",
    "B = 120\n",
    "p1 = 0\n",
    "p2 = 1\n",
    "S = A[p1]+A[p2]\n",
    "while(p2<len(A)):\n",
    "    if(S==B):\n",
    "        break\n",
    "    elif(S<B):\n",
    "        p2 = p2 + 1\n",
    "        if(p2<len(A)):\n",
    "            S += A[p2]\n",
    "    else:\n",
    "        S -= A[p1]\n",
    "        p1 += 1\n",
    "print(S,p1,p2)\n",
    "print(A[p1:p2+1])"
   ]
  },
  {
   "cell_type": "code",
   "execution_count": null,
   "id": "c7f5b862",
   "metadata": {},
   "outputs": [],
   "source": [
    "#Container With Most Water\n",
    "A = [1, 5, 4, 3]\n",
    "# A = [1]\n",
    "p1 = 0\n",
    "p2 = len(A)-1\n",
    "ans = 0\n",
    "while(p1<p2):\n",
    "    minimum = min(A[p1],A[p2])\n",
    "    width = p2-p1\n",
    "    area = minimum*width\n",
    "    ans = max(ans,area)\n",
    "    if(A[p1]<A[p2]):\n",
    "        p1 += 1\n",
    "    else:\n",
    "        p2 -= 1\n",
    "print(ans)"
   ]
  },
  {
   "cell_type": "code",
   "execution_count": null,
   "id": "521a69af",
   "metadata": {},
   "outputs": [],
   "source": [
    "# Count of pairs with the given sum\n",
    "A = [1,2,3,4,5]\n",
    "B = 5\n",
    "N = len(A)\n",
    "p1 = 0\n",
    "p2 = N-1\n",
    "ans = 0\n",
    "while(p1<p2):\n",
    "    summ = A[p1]+A[p2]\n",
    "    if(summ==B):\n",
    "        ans += 1\n",
    "        p1+=1\n",
    "        p2-=1\n",
    "    elif(summ<B):\n",
    "        p1 += 1\n",
    "    else:\n",
    "        p2 -= 1\n",
    "print(ans)"
   ]
  },
  {
   "cell_type": "code",
   "execution_count": null,
   "id": "8e747cd1",
   "metadata": {},
   "outputs": [],
   "source": [
    "#Pairs with given sum II\n",
    "# A = [1,1]\n",
    "# B = 2\n",
    "A = [ 2, 3, 5, 6, 10 ]\n",
    "B = 6\n",
    "N = len(A)\n",
    "p1 = 0\n",
    "p2 = N-1\n",
    "ans = 0\n",
    "while(p1<p2):\n",
    "#     print(p1,p2)\n",
    "    summ = A[p1]+A[p2]\n",
    "    if(summ<B):\n",
    "        p1 += 1\n",
    "    elif(summ>B):\n",
    "        p2 -= 1\n",
    "    else:\n",
    "        if(A[p1]==A[p2]):\n",
    "            x = p2-p1+1\n",
    "            total = (x*(x-1))//2\n",
    "            ans += total\n",
    "            break\n",
    "        else:\n",
    "            num1 = 1\n",
    "            p1 += 1\n",
    "            while(A[p1]==A[p1-1]):\n",
    "                p1+=1\n",
    "                num1+=1\n",
    "            \n",
    "            num2 = 1\n",
    "            p2 -= 1\n",
    "            while(A[p2]==A[p2+1]):\n",
    "                p2 -= 1\n",
    "                num2 += 1\n",
    "            ans += (num1*num2)\n",
    "print(ans)"
   ]
  },
  {
   "cell_type": "code",
   "execution_count": null,
   "id": "128c864a",
   "metadata": {},
   "outputs": [],
   "source": [
    "# Array 3 Pointers\n",
    "# A = [1,4,10]\n",
    "# B = [2,15,20]\n",
    "# C = [10,12]\n",
    "A = [3, 5, 6]\n",
    "B = [2]\n",
    "C = [3, 4]\n",
    "p1 = 0\n",
    "p2 = 0\n",
    "p3 = 0\n",
    "ans = float('inf')\n",
    "while(p1<len(A) and p2<len(B) and p3<len(C)):\n",
    "#     print(p1,p2,p3)\n",
    "#     print(max(A[p1],B[p2],C[p3]) - min(A[p1],B[p2],C[p3]))\n",
    "    ans = min(ans,max(A[p1],B[p2],C[p3]) - min(A[p1],B[p2],C[p3]))\n",
    "    if(A[p1]<B[p2] and A[p1]<C[p3]):\n",
    "        p1 += 1\n",
    "    elif(B[p2]<A[p1] and B[p2]<C[p3]):\n",
    "        p2 += 1\n",
    "    elif(C[p3]<A[p1] and C[p3]<B[p2]):\n",
    "        p3 += 1\n",
    "    elif(A[p1]<C[p3] and B[p2]<C[p3] and A[p1]==B[p2]):\n",
    "        p1+=1\n",
    "        p2+=1\n",
    "    elif(B[p2]<A[p1] and C[p3]<A[p1] and C[p3]==B[p2]):\n",
    "        p2+=1\n",
    "        p3+=1\n",
    "    elif(A[p1]<B[p2] and A[p1]<B[p2] and A[p1]==C[p3]):\n",
    "        p1+=1\n",
    "        p3+=1\n",
    "    else:\n",
    "        p1+=1\n",
    "        p2+=1\n",
    "        p3+=1\n",
    "print(ans)"
   ]
  },
  {
   "cell_type": "code",
   "execution_count": null,
   "id": "3e51a1f6",
   "metadata": {},
   "outputs": [],
   "source": [
    "#Closest pair from sorted arrays\n",
    "A = [1, 2, 3, 4, 5]\n",
    "B = [2, 4, 6, 8]\n",
    "C = 9\n",
    "p1 = 0\n",
    "p2 = len(B)-1\n",
    "ans = float('inf')\n",
    "i,j = 0,0\n",
    "while(p1<p2):\n",
    "    diff = abs((A[p1] + B[p2]) - C)\n",
    "    if(diff<ans):\n",
    "        i = p1\n",
    "        j = p2\n",
    "    "
   ]
  },
  {
   "cell_type": "code",
   "execution_count": null,
   "id": "292a329a",
   "metadata": {},
   "outputs": [],
   "source": [
    "# 3 Sum Zero\n",
    "A = [-1,0,1,2,-1,4]\n",
    "A.sort()\n",
    "N = len(A)\n",
    "res = []\n",
    "for i in range(N - 2):\n",
    "    l = i + 1\n",
    "    h = N - 1\n",
    "    while l < h:\n",
    "        summ = A[l] + A[h] + A[i]\n",
    "        if summ == 0:\n",
    "            if [A[i], A[l], A[h]] not in res:\n",
    "                res.append([A[i], A[l], A[h]])\n",
    "        if summ <= 0:\n",
    "            l += 1\n",
    "        else:\n",
    "            h -= 1\n",
    "print(res)"
   ]
  },
  {
   "cell_type": "code",
   "execution_count": 1,
   "id": "a751e72d",
   "metadata": {},
   "outputs": [
    {
     "name": "stdout",
     "output_type": "stream",
     "text": [
      "1 4 4\n",
      "2 2 4\n",
      "3 1 3\n",
      "4 1 4\n",
      "8\n"
     ]
    }
   ],
   "source": [
    "# Another Count Rectangles\n",
    "A = [1,2,3,4,5]\n",
    "B = 5\n",
    "ans = 0\n",
    "for i in range(len(A)):\n",
    "    for j in range(len(A)-1,-1,-1):\n",
    "        area = A[i]*A[j]\n",
    "        if(area<B):\n",
    "            print(A[i],A[j],area)\n",
    "            ans += j+1\n",
    "            break\n",
    "print(ans)"
   ]
  },
  {
   "cell_type": "code",
   "execution_count": 6,
   "id": "c6ba66c4",
   "metadata": {},
   "outputs": [
    {
     "name": "stdout",
     "output_type": "stream",
     "text": [
      "3\n",
      "1\n",
      "0\n",
      "0\n",
      "8\n"
     ]
    }
   ],
   "source": [
    "# Another Count Rectangles\n",
    "A = [1,2,3,4,5]\n",
    "B = 5\n",
    "ans = 0\n",
    "p1 = 0\n",
    "n = len(A)\n",
    "p2 = n-1\n",
    "while(p1<n and p2>-1):\n",
    "#     print(p1,p2)\n",
    "    if(A[p1]*A[p2]<B):\n",
    "        print(p2)\n",
    "        ans += p2+1\n",
    "        p1+=1\n",
    "    else:\n",
    "        p2 -= 1\n",
    "print(ans)"
   ]
  },
  {
   "cell_type": "code",
   "execution_count": 27,
   "id": "ff699c09",
   "metadata": {},
   "outputs": [
    {
     "name": "stdout",
     "output_type": "stream",
     "text": [
      "2\n"
     ]
    }
   ],
   "source": [
    "# 3 Sum\n",
    "# A = [1,2,3]\n",
    "# B = 6\n",
    "A = [-1, 2, 1, -4]\n",
    "B = 1\n",
    "p1=0\n",
    "n = len(A)\n",
    "ans = float('inf')\n",
    "A.sort()\n",
    "for p1 in range(n-2):\n",
    "    p2 = p1 + 1\n",
    "    p3 = n-1\n",
    "    while(p2<p3):\n",
    "        S = A[p1]+A[p2]+A[p3]\n",
    "        if(S>B):\n",
    "            p3 -= 1\n",
    "        if(abs(ans-B)>abs(S-B)):\n",
    "            ans = S\n",
    "        if(S>B):\n",
    "            p3 -= 1\n",
    "        else:\n",
    "            p2 += 1\n",
    "print(ans)"
   ]
  },
  {
   "cell_type": "code",
   "execution_count": null,
   "id": "536c2477",
   "metadata": {},
   "outputs": [],
   "source": []
  }
 ],
 "metadata": {
  "kernelspec": {
   "display_name": "Python 3 (ipykernel)",
   "language": "python",
   "name": "python3"
  },
  "language_info": {
   "codemirror_mode": {
    "name": "ipython",
    "version": 3
   },
   "file_extension": ".py",
   "mimetype": "text/x-python",
   "name": "python",
   "nbconvert_exporter": "python",
   "pygments_lexer": "ipython3",
   "version": "3.9.7"
  }
 },
 "nbformat": 4,
 "nbformat_minor": 5
}
