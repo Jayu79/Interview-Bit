{
 "cells": [
  {
   "cell_type": "code",
   "execution_count": 22,
   "id": "382e6b59",
   "metadata": {},
   "outputs": [
    {
     "name": "stdout",
     "output_type": "stream",
     "text": [
      "4\n"
     ]
    }
   ],
   "source": [
    "#Pair Sum divisible by M\n",
    "A = [1,2,3,4,5]\n",
    "B = 2\n",
    "# A = [5,17,100,11]\n",
    "# B = 28\n",
    "# A = [ 93, 9, 46, 79, 56, 24, 10, 26, 9, 93, 31, 93, 75, 7, 4, 80, 19, 67, 49, 84, 62, 100, 17, 40, 35, 84, 14, 81, 99, 31, 100, 66, 70, 2, 11, 84, 60, 89, 13, 57, 47, 60, 59, 60, 42, 67, 89, 29, 85, 83, 42, 47, 66, 80, 88, 85, 83, 82, 16, 23, 21, 55, 26, 2, 21, 92, 85, 26, 46, 3, 7, 95, 50, 22, 84, 52, 57, 44, 4, 23, 25, 55, 41, 49 ]\n",
    "# B = 37\n",
    "rem = {}\n",
    "ans = 0\n",
    "for i in range(len(A)):\n",
    "    if((A[i]%B) in rem):\n",
    "        rem[A[i]%B] += 1\n",
    "    else:\n",
    "        rem[A[i]%B] = 1\n",
    "# print(rem)\n",
    "\n",
    "for i in rem:\n",
    "    if(i == 0):\n",
    "        ans += (rem[0]*(rem[0]-1))\n",
    "    elif(B&1==0 and i==B//2):\n",
    "        ans += (rem[B//2]*(rem[B//2]-1))\n",
    "    elif(B-i in rem):\n",
    "        ans += rem[i]*rem[B-i]\n",
    "print(ans//2)"
   ]
  },
  {
   "cell_type": "code",
   "execution_count": 25,
   "id": "04baa82d",
   "metadata": {},
   "outputs": [
    {
     "name": "stdout",
     "output_type": "stream",
     "text": [
      "[2, 0]\n",
      "[2, 1]\n",
      "[0, 1]\n"
     ]
    }
   ],
   "source": [
    "#Rearrange Array\n",
    "A = [1,0]\n",
    "N = len(A)\n",
    "for i in range(len(A)):\n",
    "    A[i] = A[i]*N\n",
    "print(A)\n",
    "for i in range(len(A)):\n",
    "    idx = A[i]//N\n",
    "    val = A[idx]//N\n",
    "    A[i] = A[i]+val\n",
    "print(A)\n",
    "for i in range(len(A)):\n",
    "    A[i] = A[i]%N\n",
    "print(A)"
   ]
  },
  {
   "cell_type": "code",
   "execution_count": 26,
   "id": "7f816a18",
   "metadata": {},
   "outputs": [],
   "source": [
    "#Power function\n",
    "def power(A,B,C):\n",
    "    if(B==0):\n",
    "        return 1\n",
    "    P = power(A,B//2,C)\n",
    "    if(B&1 == 0):\n",
    "        return (P*P)%C\n",
    "    else:\n",
    "        return (A*((P*P)%C))%C"
   ]
  },
  {
   "cell_type": "code",
   "execution_count": 28,
   "id": "c5be0c33",
   "metadata": {},
   "outputs": [
    {
     "name": "stdout",
     "output_type": "stream",
     "text": [
      "2\n"
     ]
    }
   ],
   "source": [
    "print(power(2,3,3))"
   ]
  },
  {
   "cell_type": "code",
   "execution_count": 39,
   "id": "7c53c4e8",
   "metadata": {},
   "outputs": [
    {
     "name": "stdout",
     "output_type": "stream",
     "text": [
      "134217728 27\n",
      "67108864 26\n",
      "33554432 25\n",
      "16777216 24\n",
      "8388608 23\n",
      "4194304 22\n",
      "2097152 21\n",
      "1048576 20\n",
      "524288 19\n",
      "262144 18\n",
      "131072 17\n",
      "65536 16\n",
      "32768 15\n",
      "16384 14\n",
      "8192 13\n",
      "4096 12\n",
      "2048 11\n",
      "1024 10\n",
      "512 9\n",
      "256 8\n",
      "128 7\n",
      "64 6\n",
      "32 5\n",
      "16 4\n",
      "8 3\n",
      "4 2\n",
      "2 1\n",
      "742004924\n"
     ]
    }
   ],
   "source": [
    "def fact_pow(A,B):\n",
    "    if(B==0):\n",
    "        return 1\n",
    "    else:\n",
    "        P = power_1(A,B)\n",
    "        print(P,B)\n",
    "        return ((P%1000000007)*fact_pow(A,B-1))%1000000007\n",
    "def power_1(A,B):\n",
    "    if(A==0):\n",
    "        return 0\n",
    "    if(B==0):\n",
    "        return 1\n",
    "    P = power_1(A,B//2)\n",
    "    if(B&1 == 0):\n",
    "        return (P*P)%1000000007\n",
    "    else:\n",
    "        return (A*((P*P)%1000000007))%1000000007\n",
    "print(fact_pow(2,27))"
   ]
  },
  {
   "cell_type": "code",
   "execution_count": 40,
   "id": "b9e3c290",
   "metadata": {},
   "outputs": [
    {
     "name": "stdout",
     "output_type": "stream",
     "text": [
      "[2, 2, 3, 2]\n"
     ]
    }
   ],
   "source": [
    "#Count of divisors\n",
    "def divisors(n):\n",
    "    count = 2\n",
    "    i = 2\n",
    "    while i**2 < n:\n",
    "        if(n%i == 0):\n",
    "            count += 2\n",
    "        i+=1\n",
    "    if i**2 == n:\n",
    "        count += 1\n",
    "    return count\n",
    "\n",
    "A = [2, 3, 4, 5]\n",
    "res = []\n",
    "for i in range(len(A)):\n",
    "    div = divisors(A[i])\n",
    "    res.append(div)\n",
    "print(res)"
   ]
  },
  {
   "cell_type": "code",
   "execution_count": 44,
   "id": "982628f0",
   "metadata": {},
   "outputs": [
    {
     "name": "stdout",
     "output_type": "stream",
     "text": [
      "3\n",
      "0 0\n",
      "1 3\n",
      "2 1\n",
      "3 4\n",
      "4 2\n"
     ]
    }
   ],
   "source": [
    "# Prime Modulo Inverse\n",
    "A = 3\n",
    "B = 5\n",
    "mod = A % B\n",
    "print(mod)\n",
    "for i in range(0,B):\n",
    "    print(i,(mod*(i%B))%B)"
   ]
  },
  {
   "cell_type": "code",
   "execution_count": null,
   "id": "1529f5c1",
   "metadata": {},
   "outputs": [],
   "source": []
  }
 ],
 "metadata": {
  "kernelspec": {
   "display_name": "Python 3 (ipykernel)",
   "language": "python",
   "name": "python3"
  },
  "language_info": {
   "codemirror_mode": {
    "name": "ipython",
    "version": 3
   },
   "file_extension": ".py",
   "mimetype": "text/x-python",
   "name": "python",
   "nbconvert_exporter": "python",
   "pygments_lexer": "ipython3",
   "version": "3.9.7"
  }
 },
 "nbformat": 4,
 "nbformat_minor": 5
}
