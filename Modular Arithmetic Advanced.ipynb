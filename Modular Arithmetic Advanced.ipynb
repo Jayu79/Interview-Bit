{
 "cells": [
  {
   "cell_type": "code",
   "execution_count": 22,
   "id": "739e637b",
   "metadata": {},
   "outputs": [
    {
     "name": "stdout",
     "output_type": "stream",
     "text": [
      "4\n"
     ]
    }
   ],
   "source": [
    "#Pair Sum divisible by M\n",
    "A = [1,2,3,4,5]\n",
    "B = 2\n",
    "# A = [5,17,100,11]\n",
    "# B = 28\n",
    "# A = [ 93, 9, 46, 79, 56, 24, 10, 26, 9, 93, 31, 93, 75, 7, 4, 80, 19, 67, 49, 84, 62, 100, 17, 40, 35, 84, 14, 81, 99, 31, 100, 66, 70, 2, 11, 84, 60, 89, 13, 57, 47, 60, 59, 60, 42, 67, 89, 29, 85, 83, 42, 47, 66, 80, 88, 85, 83, 82, 16, 23, 21, 55, 26, 2, 21, 92, 85, 26, 46, 3, 7, 95, 50, 22, 84, 52, 57, 44, 4, 23, 25, 55, 41, 49 ]\n",
    "# B = 37\n",
    "rem = {}\n",
    "ans = 0\n",
    "for i in range(len(A)):\n",
    "    if((A[i]%B) in rem):\n",
    "        rem[A[i]%B] += 1\n",
    "    else:\n",
    "        rem[A[i]%B] = 1\n",
    "# print(rem)\n",
    "\n",
    "for i in rem:\n",
    "    if(i == 0):\n",
    "        ans += (rem[0]*(rem[0]-1))\n",
    "    elif(B&1==0 and i==B//2):\n",
    "        ans += (rem[B//2]*(rem[B//2]-1))\n",
    "    elif(B-i in rem):\n",
    "        ans += rem[i]*rem[B-i]\n",
    "print(ans//2)"
   ]
  },
  {
   "cell_type": "code",
   "execution_count": 25,
   "id": "94a11131",
   "metadata": {},
   "outputs": [
    {
     "name": "stdout",
     "output_type": "stream",
     "text": [
      "[2, 0]\n",
      "[2, 1]\n",
      "[0, 1]\n"
     ]
    }
   ],
   "source": [
    "#Rearrange Array\n",
    "A = [1,0]\n",
    "N = len(A)\n",
    "for i in range(len(A)):\n",
    "    A[i] = A[i]*N\n",
    "print(A)\n",
    "for i in range(len(A)):\n",
    "    idx = A[i]//N\n",
    "    val = A[idx]//N\n",
    "    A[i] = A[i]+val\n",
    "print(A)\n",
    "for i in range(len(A)):\n",
    "    A[i] = A[i]%N\n",
    "print(A)"
   ]
  },
  {
   "cell_type": "code",
   "execution_count": 26,
   "id": "979c7ab4",
   "metadata": {},
   "outputs": [],
   "source": [
    "#Power function\n",
    "def power(A,B,C):\n",
    "    if(B==0):\n",
    "        return 1\n",
    "    P = power(A,B//2,C)\n",
    "    if(B&1 == 0):\n",
    "        return (P*P)%C\n",
    "    else:\n",
    "        return (A*((P*P)%C))%C"
   ]
  },
  {
   "cell_type": "code",
   "execution_count": 27,
   "id": "33ff34b4",
   "metadata": {},
   "outputs": [
    {
     "name": "stdout",
     "output_type": "stream",
     "text": [
      "2\n"
     ]
    }
   ],
   "source": [
    "print(power(2,3,3))"
   ]
  },
  {
   "cell_type": "code",
   "execution_count": null,
   "id": "7d8e2de8",
   "metadata": {},
   "outputs": [],
   "source": []
  }
 ],
 "metadata": {
  "kernelspec": {
   "display_name": "Python 3 (ipykernel)",
   "language": "python",
   "name": "python3"
  },
  "language_info": {
   "codemirror_mode": {
    "name": "ipython",
    "version": 3
   },
   "file_extension": ".py",
   "mimetype": "text/x-python",
   "name": "python",
   "nbconvert_exporter": "python",
   "pygments_lexer": "ipython3",
   "version": "3.9.7"
  }
 },
 "nbformat": 4,
 "nbformat_minor": 5
}
