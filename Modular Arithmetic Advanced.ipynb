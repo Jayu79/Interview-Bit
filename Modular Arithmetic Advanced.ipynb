{
 "cells": [
  {
   "cell_type": "code",
   "execution_count": null,
   "id": "aeb98c31",
   "metadata": {},
   "outputs": [],
   "source": [
    "#Pair Sum divisible by M\n",
    "A = [1,2,3,4,5]\n",
    "B = 2\n",
    "# A = [5,17,100,11]\n",
    "# B = 28\n",
    "# A = [ 93, 9, 46, 79, 56, 24, 10, 26, 9, 93, 31, 93, 75, 7, 4, 80, 19, 67, 49, 84, 62, 100, 17, 40, 35, 84, 14, 81, 99, 31, 100, 66, 70, 2, 11, 84, 60, 89, 13, 57, 47, 60, 59, 60, 42, 67, 89, 29, 85, 83, 42, 47, 66, 80, 88, 85, 83, 82, 16, 23, 21, 55, 26, 2, 21, 92, 85, 26, 46, 3, 7, 95, 50, 22, 84, 52, 57, 44, 4, 23, 25, 55, 41, 49 ]\n",
    "# B = 37\n",
    "rem = {}\n",
    "ans = 0\n",
    "for i in range(len(A)):\n",
    "    if((A[i]%B) in rem):\n",
    "        rem[A[i]%B] += 1\n",
    "    else:\n",
    "        rem[A[i]%B] = 1\n",
    "# print(rem)\n",
    "\n",
    "for i in rem:\n",
    "    if(i == 0):\n",
    "        ans += (rem[0]*(rem[0]-1))\n",
    "    elif(B&1==0 and i==B//2):\n",
    "        ans += (rem[B//2]*(rem[B//2]-1))\n",
    "    elif(B-i in rem):\n",
    "        ans += rem[i]*rem[B-i]\n",
    "print(ans//2)"
   ]
  },
  {
   "cell_type": "code",
   "execution_count": null,
   "id": "de1065ae",
   "metadata": {},
   "outputs": [],
   "source": [
    "#Rearrange Array\n",
    "A = [1,0]\n",
    "N = len(A)\n",
    "for i in range(len(A)):\n",
    "    A[i] = A[i]*N\n",
    "print(A)\n",
    "for i in range(len(A)):\n",
    "    idx = A[i]//N\n",
    "    val = A[idx]//N\n",
    "    A[i] = A[i]+val\n",
    "print(A)\n",
    "for i in range(len(A)):\n",
    "    A[i] = A[i]%N\n",
    "print(A)"
   ]
  },
  {
   "cell_type": "code",
   "execution_count": null,
   "id": "3aaffba4",
   "metadata": {},
   "outputs": [],
   "source": [
    "#Power function\n",
    "def power(A,B,C):\n",
    "    if(B==0):\n",
    "        return 1\n",
    "    P = power(A,B//2,C)\n",
    "    if(B&1 == 0):\n",
    "        return (P*P)%C\n",
    "    else:\n",
    "        return (A*((P*P)%C))%C"
   ]
  },
  {
   "cell_type": "code",
   "execution_count": null,
   "id": "8d3dae3a",
   "metadata": {},
   "outputs": [],
   "source": [
    "print(power(2,3,3))"
   ]
  },
  {
   "cell_type": "code",
   "execution_count": null,
   "id": "7c030708",
   "metadata": {},
   "outputs": [],
   "source": [
    "def fact_pow(A,B):\n",
    "    if(B==0 or B==1):\n",
    "        return 1\n",
    "    else:\n",
    "        P = power_1(A,B)\n",
    "#         print(P,B)\n",
    "        return ((P%1000000007)*fact_pow(A,B-1))%1000000007\n",
    "def power_1(A,B):\n",
    "    if(A==0):\n",
    "        return 0\n",
    "    if(B==0):\n",
    "        return 1\n",
    "    P = power_1(A,B//2)\n",
    "    if(B&1 == 0):\n",
    "        return (P*P)%1000000007\n",
    "    else:\n",
    "        return (A*((P*P)%1000000007))%1000000007\n",
    "# print(fact_pow(2,27))\n",
    "print(power_1(2,26))"
   ]
  },
  {
   "cell_type": "code",
   "execution_count": null,
   "id": "58edb85b",
   "metadata": {},
   "outputs": [],
   "source": [
    "#Count of divisors\n",
    "def divisors(n):\n",
    "    count = 2\n",
    "    i = 2\n",
    "    while i**2 < n:\n",
    "        if(n%i == 0):\n",
    "            count += 2\n",
    "        i+=1\n",
    "    if i**2 == n:\n",
    "        count += 1\n",
    "    return count\n",
    "\n",
    "A = [2, 3, 4, 5]\n",
    "res = []\n",
    "for i in range(len(A)):\n",
    "    div = divisors(A[i])\n",
    "    res.append(div)\n",
    "print(res)"
   ]
  },
  {
   "cell_type": "code",
   "execution_count": null,
   "id": "0f5a25fc",
   "metadata": {},
   "outputs": [],
   "source": [
    "# Prime Modulo Inverse\n",
    "A = 3\n",
    "B = 5\n",
    "mod = A % B\n",
    "print(mod)\n",
    "for i in range(0,B):\n",
    "    print(i,(mod*(i%B))%B)"
   ]
  },
  {
   "cell_type": "code",
   "execution_count": 1,
   "id": "2f042263",
   "metadata": {},
   "outputs": [
    {
     "data": {
      "text/plain": [
       "666348826"
      ]
     },
     "execution_count": 1,
     "metadata": {},
     "output_type": "execute_result"
    }
   ],
   "source": [
    "import sys\n",
    "sys.setrecursionlimit(10**6)\n",
    "#Very Large Power\n",
    "A = 2\n",
    "B = 27\n",
    "prime = (1000000000 + 7)\n",
    "def fact(B):\n",
    "    prime = (1000000000 + 7)\n",
    "    if B<=1:\n",
    "        return 1\n",
    "    factorial = 1\n",
    "    for x in range(2, B+1):\n",
    "        factorial*=x\n",
    "        factorial%=(prime-1)\n",
    "    return factorial\n",
    "# print(B)\n",
    "def power(a,p,m):\n",
    "    if p == 0:\n",
    "        return 1                \n",
    "    if a == 0:\n",
    "        return 0\n",
    "    # for handling -ve values\n",
    "    if p == 1 and a < 0:\n",
    "        return a + p\n",
    "    if p & 1 == 0:\n",
    "        return power(a * a % m, p // 2, m)\n",
    "    else:\n",
    "        return a * power(a * a % m, (p - 1) // 2, m) % m\n",
    "r =fact(B)\n",
    "prime = (1000000000 + 7)\n",
    "power(A,r,prime)"
   ]
  },
  {
   "cell_type": "code",
   "execution_count": null,
   "id": "62fc1d02",
   "metadata": {},
   "outputs": [],
   "source": [
    "#Prime modulo inverse\n",
    "def power(A,B,r):\n",
    "    if(r==0 or r==1):\n",
    "        return A\n",
    "    else:\n",
    "        P = power(A,B,r-1)\n",
    "        print(P)\n",
    "        return ((A%B)*power(A,B,r-1))%B\n",
    "\n",
    "A = 12\n",
    "B = 55557209\n",
    "X = power(A,B,B-2)\n",
    "ans = X%B\n",
    "print(ans)"
   ]
  },
  {
   "cell_type": "code",
   "execution_count": null,
   "id": "6af67103",
   "metadata": {},
   "outputs": [],
   "source": [
    "#Prime modulo inverse\n",
    "def fast_pow(a, p, m):\n",
    "    # base case\n",
    "    if p == 0:\n",
    "        return 1                \n",
    "    if a == 0:\n",
    "        return 0\n",
    "    # for handling -ve values\n",
    "    if p == 1 and a < 0:\n",
    "        return a + p\n",
    "    if p & 1 == 0:\n",
    "        return fast_pow(a * a % m, p // 2, m)\n",
    "    else:\n",
    "        return a * fast_pow(a * a % m, (p - 1) // 2, m) % m\n",
    "A = 7\n",
    "B = 2\n",
    "fast_pow(a=A, p=B-2, m=B)"
   ]
  },
  {
   "cell_type": "code",
   "execution_count": 2,
   "id": "ae45dc8d",
   "metadata": {},
   "outputs": [
    {
     "name": "stdout",
     "output_type": "stream",
     "text": [
      "2\n"
     ]
    }
   ],
   "source": [
    "# Compute nCr % m\n",
    "A = 6\n",
    "B = 2\n",
    "C = 13\n",
    "max_val = max(A, B)\n",
    "denom = 1\n",
    "num = 1\n",
    "for i in range(0, B):\n",
    "    num *= (max_val - i)\n",
    "\n",
    "for j in range(1, B + 1):\n",
    "    denom *= j\n",
    "final_val = num // denom\n",
    "print(final_val%C)"
   ]
  },
  {
   "cell_type": "code",
   "execution_count": null,
   "id": "1994d264",
   "metadata": {},
   "outputs": [],
   "source": []
  }
 ],
 "metadata": {
  "kernelspec": {
   "display_name": "Python 3 (ipykernel)",
   "language": "python",
   "name": "python3"
  },
  "language_info": {
   "codemirror_mode": {
    "name": "ipython",
    "version": 3
   },
   "file_extension": ".py",
   "mimetype": "text/x-python",
   "name": "python",
   "nbconvert_exporter": "python",
   "pygments_lexer": "ipython3",
   "version": "3.9.7"
  }
 },
 "nbformat": 4,
 "nbformat_minor": 5
}
