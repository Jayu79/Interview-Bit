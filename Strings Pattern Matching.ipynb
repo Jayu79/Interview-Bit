{
 "cells": [
  {
   "cell_type": "code",
   "execution_count": 3,
   "id": "6535b2fb",
   "metadata": {},
   "outputs": [
    {
     "name": "stdout",
     "output_type": "stream",
     "text": [
      "[0, 0, 1, 0, 1, 1, 2, 3, 4, 0]\n"
     ]
    }
   ],
   "source": [
    "#  LPS Array\n",
    "S = 'abacaabacd'\n",
    "n = len(S)\n",
    "lps = [0]*len(S)\n",
    "for i in range(1,n):\n",
    "    x = lps[i-1]\n",
    "    while(S[i]!=S[x]):\n",
    "        if(x==0):\n",
    "            x = x-1\n",
    "            break\n",
    "        x = lps[x-1]\n",
    "    lps[i] = x+1\n",
    "print(lps)"
   ]
  },
  {
   "cell_type": "code",
   "execution_count": 17,
   "id": "661c418f",
   "metadata": {},
   "outputs": [
    {
     "name": "stdout",
     "output_type": "stream",
     "text": [
      "0\n"
     ]
    }
   ],
   "source": [
    "# Make String Paliandrome\n",
    "string = 'bb'\n",
    "# S = 'bb@bb'\n",
    "string_inv = string[::-1]\n",
    "S = string+'@'+string_inv\n",
    "n = len(S)\n",
    "lps = [0]*len(S)\n",
    "for i in range(1,n):\n",
    "    x = lps[i-1]\n",
    "    while(S[i]!=S[x]):\n",
    "        if(x==0):\n",
    "            x = x-1\n",
    "            break\n",
    "        x = lps[x-1]\n",
    "    lps[i] = x+1\n",
    "print(len(string)-lps[-1])"
   ]
  },
  {
   "cell_type": "code",
   "execution_count": 30,
   "id": "a0af1b6e",
   "metadata": {},
   "outputs": [
    {
     "name": "stdout",
     "output_type": "stream",
     "text": [
      "[0, 0, 1, 0, 1, 2, 3, 1, 2, 3, 1]\n"
     ]
    }
   ],
   "source": [
    "# Period of a string\n",
    "# S = 'aabababab'\n",
    "S = 'aca@acaacaa'\n",
    "n = len(S)\n",
    "lps = [0]*len(S)\n",
    "for i in range(1,n):\n",
    "    x = lps[i-1]\n",
    "    while(S[i]!=S[x]):\n",
    "        if(x==0):\n",
    "            x = x-1\n",
    "            break\n",
    "        x = lps[x-1]\n",
    "    lps[i] = x+1\n",
    "print(lps)"
   ]
  },
  {
   "cell_type": "code",
   "execution_count": 34,
   "id": "2ef3a573",
   "metadata": {},
   "outputs": [
    {
     "name": "stdout",
     "output_type": "stream",
     "text": [
      "1\n"
     ]
    }
   ],
   "source": [
    "# Cyclic Permutations\n",
    "A = \"1001\"\n",
    "B = \"0011\"\n",
    "S = B+'$'+A+A\n",
    "n = len(S)\n",
    "lps = [0]*len(S)\n",
    "for i in range(1,n):\n",
    "    x = lps[i-1]\n",
    "    while(S[i]!=S[x]):\n",
    "        if(x==0):\n",
    "            x = x-1\n",
    "            break\n",
    "        x = lps[x-1]\n",
    "    lps[i] = x+1\n",
    "start = len(B)+1+len(A)\n",
    "ans = 0\n",
    "# print(lps[start])\n",
    "# print(lps)\n",
    "for i in range(start,len(lps)):\n",
    "    if(lps[i]==len(A)):\n",
    "        ans += 1\n",
    "print(ans)"
   ]
  },
  {
   "cell_type": "code",
   "execution_count": 37,
   "id": "2892e20e",
   "metadata": {},
   "outputs": [
    {
     "name": "stdout",
     "output_type": "stream",
     "text": [
      "[0, 0, 0, 0, 1, 0, 1, 2, 3, 4, 5]\n"
     ]
    }
   ],
   "source": [
    "# Closest Paliandrome\n",
    "string = 'abbba'\n",
    "# S = 'bb@bb'\n",
    "string_inv = string[::-1]\n",
    "S = string+'@'+string_inv\n",
    "n = len(S)\n",
    "lps = [0]*len(S)\n",
    "for i in range(1,n):\n",
    "    x = lps[i-1]\n",
    "    while(S[i]!=S[x]):\n",
    "        if(x==0):\n",
    "            x = x-1\n",
    "            break\n",
    "        x = lps[x-1]\n",
    "    lps[i] = x+1\n",
    "print(lps)"
   ]
  },
  {
   "cell_type": "code",
   "execution_count": null,
   "id": "cea76601",
   "metadata": {},
   "outputs": [],
   "source": []
  }
 ],
 "metadata": {
  "kernelspec": {
   "display_name": "Python 3 (ipykernel)",
   "language": "python",
   "name": "python3"
  },
  "language_info": {
   "codemirror_mode": {
    "name": "ipython",
    "version": 3
   },
   "file_extension": ".py",
   "mimetype": "text/x-python",
   "name": "python",
   "nbconvert_exporter": "python",
   "pygments_lexer": "ipython3",
   "version": "3.9.7"
  }
 },
 "nbformat": 4,
 "nbformat_minor": 5
}
