{
 "cells": [
  {
   "cell_type": "code",
   "execution_count": 3,
   "id": "4c27f114",
   "metadata": {},
   "outputs": [
    {
     "name": "stdout",
     "output_type": "stream",
     "text": [
      "[0, 0, 1, 0, 1, 1, 2, 3, 4, 0]\n"
     ]
    }
   ],
   "source": [
    "#  LPS Array\n",
    "S = 'abacaabacd'\n",
    "n = len(S)\n",
    "lps = [0]*len(S)\n",
    "for i in range(1,n):\n",
    "    x = lps[i-1]\n",
    "    while(S[i]!=S[x]):\n",
    "        if(x==0):\n",
    "            x = x-1\n",
    "            break\n",
    "        x = lps[x-1]\n",
    "    lps[i] = x+1\n",
    "print(lps)"
   ]
  },
  {
   "cell_type": "code",
   "execution_count": 17,
   "id": "ed9af8d1",
   "metadata": {},
   "outputs": [
    {
     "name": "stdout",
     "output_type": "stream",
     "text": [
      "0\n"
     ]
    }
   ],
   "source": [
    "# Make String Paliandrome\n",
    "string = 'bb'\n",
    "# S = 'bb@bb'\n",
    "string_inv = string[::-1]\n",
    "S = string+'@'+string_inv\n",
    "n = len(S)\n",
    "lps = [0]*len(S)\n",
    "for i in range(1,n):\n",
    "    x = lps[i-1]\n",
    "    while(S[i]!=S[x]):\n",
    "        if(x==0):\n",
    "            x = x-1\n",
    "            break\n",
    "        x = lps[x-1]\n",
    "    lps[i] = x+1\n",
    "print(len(string)-lps[-1])"
   ]
  },
  {
   "cell_type": "code",
   "execution_count": 30,
   "id": "36880c47",
   "metadata": {},
   "outputs": [
    {
     "name": "stdout",
     "output_type": "stream",
     "text": [
      "[0, 0, 1, 0, 1, 2, 3, 1, 2, 3, 1]\n"
     ]
    }
   ],
   "source": [
    "# Period of a string\n",
    "# S = 'aabababab'\n",
    "S = 'aca@acaacaa'\n",
    "n = len(S)\n",
    "lps = [0]*len(S)\n",
    "for i in range(1,n):\n",
    "    x = lps[i-1]\n",
    "    while(S[i]!=S[x]):\n",
    "        if(x==0):\n",
    "            x = x-1\n",
    "            break\n",
    "        x = lps[x-1]\n",
    "    lps[i] = x+1\n",
    "print(lps)"
   ]
  },
  {
   "cell_type": "code",
   "execution_count": 34,
   "id": "88e67067",
   "metadata": {},
   "outputs": [
    {
     "name": "stdout",
     "output_type": "stream",
     "text": [
      "1\n"
     ]
    }
   ],
   "source": [
    "# Cyclic Permutations\n",
    "A = \"1001\"\n",
    "B = \"0011\"\n",
    "S = B+'$'+A+A\n",
    "n = len(S)\n",
    "lps = [0]*len(S)\n",
    "for i in range(1,n):\n",
    "    x = lps[i-1]\n",
    "    while(S[i]!=S[x]):\n",
    "        if(x==0):\n",
    "            x = x-1\n",
    "            break\n",
    "        x = lps[x-1]\n",
    "    lps[i] = x+1\n",
    "start = len(B)+1+len(A)\n",
    "ans = 0\n",
    "# print(lps[start])\n",
    "# print(lps)\n",
    "for i in range(start,len(lps)):\n",
    "    if(lps[i]==len(A)):\n",
    "        ans += 1\n",
    "print(ans)"
   ]
  },
  {
   "cell_type": "code",
   "execution_count": 61,
   "id": "54fca35f",
   "metadata": {},
   "outputs": [
    {
     "name": "stdout",
     "output_type": "stream",
     "text": [
      "6 2\n",
      "0\n"
     ]
    }
   ],
   "source": [
    "# Same Format String\n",
    "A = \"HIRE\"\n",
    "B = \"HHHIIIR\"\n",
    "# B = \"DDHHHHIIIIRRRRREEEEDDD\"\n",
    "# A = \"ABC\"\n",
    "# B = \"BCA\"\n",
    "count = 1\n",
    "j = 0\n",
    "if(A==B):\n",
    "    count = 1\n",
    "for i in range(len(B)):\n",
    "    if(B[i]==A[j]):\n",
    "        continue\n",
    "    else:\n",
    "        if(i!=0):\n",
    "            j += 1\n",
    "        if(j==len(A)):\n",
    "            continue\n",
    "        if(B[i]==A[j]):\n",
    "            continue\n",
    "        else:\n",
    "            count = 0\n",
    "            break\n",
    "# print(i,j)\n",
    "if(count == 1 and j==len(A)-1):\n",
    "    count = 1\n",
    "else:\n",
    "    count = 0\n",
    "print(count)"
   ]
  },
  {
   "cell_type": "code",
   "execution_count": 64,
   "id": "80143f37",
   "metadata": {},
   "outputs": [
    {
     "name": "stdout",
     "output_type": "stream",
     "text": [
      "a b a b\n",
      "0\n"
     ]
    }
   ],
   "source": [
    "#Booring substring\n",
    "# A = 'abcd'\n",
    "A = 'aab'\n",
    "max_odd = '!'\n",
    "max_even = '!'\n",
    "min_odd = '~'\n",
    "min_even = '~'\n",
    "ans = 0\n",
    "for ch in A:\n",
    "    if(ord(ch)&1):\n",
    "        max_odd = max(max_odd,ch)\n",
    "        min_odd = min(min_odd,ch)\n",
    "    else:\n",
    "        max_even = max(max_even,ch)\n",
    "        min_even = min(min_even,ch)\n",
    "# print(max_odd,max_even,min_odd,min_even)\n",
    "if(ord(max_odd)-ord(min_even)>1):\n",
    "    ans = 1\n",
    "if(ord(max_even)-ord(min_odd)>1):\n",
    "    ans = 1\n",
    "print(ans)"
   ]
  },
  {
   "cell_type": "code",
   "execution_count": 92,
   "id": "8205bf71",
   "metadata": {},
   "outputs": [
    {
     "name": "stdout",
     "output_type": "stream",
     "text": [
      "2\n"
     ]
    }
   ],
   "source": [
    "# Permutations of A in B\n",
    "def hm_compare(hm_a,hm_b):\n",
    "    if(hm_a.keys()==hm_b.keys()):\n",
    "        for i in hm_a:\n",
    "            if(hm_a[i]!=hm_b[i]):\n",
    "                return False\n",
    "        return True\n",
    "    return False\n",
    "\n",
    "# A = \"abc\"\n",
    "# B = \"abcbacabc\"\n",
    "A = \"aca\"\n",
    "B = \"acaa\"\n",
    "hm_a = {}\n",
    "hm_b = {}\n",
    "ans = 0\n",
    "for i in range(len(A)):\n",
    "    if(A[i] not in hm_a):\n",
    "        hm_a[A[i]] = 1\n",
    "    else:\n",
    "        hm_a[A[i]] += 1\n",
    "for j in range(len(A)):\n",
    "    if(B[j] not in hm_b):\n",
    "        hm_b[B[j]] = 1\n",
    "    else:\n",
    "        hm_b[B[j]] += 1\n",
    "i = 0\n",
    "if(hm_compare(hm_a,hm_b)):\n",
    "    ans += 1\n",
    "for j in range(len(A),len(B)):\n",
    "    hm_b[B[i]] -= 1\n",
    "    if(hm_b[B[i]]==0):\n",
    "        hm_b.pop(B[i])\n",
    "    i+=1\n",
    "    if(B[j] not in hm_b):\n",
    "        hm_b[B[j]] = 1\n",
    "    else:\n",
    "        hm_b[B[j]] += 1\n",
    "    if(hm_compare(hm_a,hm_b)):\n",
    "        ans += 1\n",
    "print(ans)"
   ]
  },
  {
   "cell_type": "code",
   "execution_count": 116,
   "id": "7ee16b17",
   "metadata": {},
   "outputs": [
    {
     "name": "stdout",
     "output_type": "stream",
     "text": [
      "0\n"
     ]
    }
   ],
   "source": [
    "# Hidden Pattern\n",
    "# A = \"mississipi\"\n",
    "# B = \"ss\"\n",
    "A = \"hello\"\n",
    "B = \"hi\"\n",
    "list_B = list(B)\n",
    "list_A = []\n",
    "ans = 0\n",
    "for i in range(len(B)):\n",
    "#     print(i)\n",
    "    list_A.append(A[i])\n",
    "# print(list_A)\n",
    "i = 1\n",
    "if(list_A==list_B):\n",
    "    ans += 1\n",
    "for j in range(len(B),len(A)):\n",
    "    list_A.remove(list_A[0])\n",
    "    list_A.append(A[j])\n",
    "    if(list_A==list_B):\n",
    "        ans += 1\n",
    "print(ans)"
   ]
  },
  {
   "cell_type": "code",
   "execution_count": 130,
   "id": "cc62ac6d",
   "metadata": {},
   "outputs": [
    {
     "name": "stdout",
     "output_type": "stream",
     "text": [
      "[0, 0, 0, 0, 1, 2, 3, 4, 5, 6, 7, 8, 9, 10, 11, 12, 13, 14, 15, 16]\n",
      "4\n"
     ]
    }
   ],
   "source": [
    "# Period of a string\n",
    "A = \"abcdabcdabcdabcdabcd\"\n",
    "# A = \"abababababb\"\n",
    "S = A\n",
    "n = len(S)\n",
    "lps = [0]*len(S)\n",
    "for i in range(1,n):\n",
    "    x = lps[i-1]\n",
    "    while(S[i]!=S[x]):\n",
    "        if(x==0):\n",
    "            x = x-1\n",
    "            break\n",
    "        x = lps[x-1]\n",
    "    lps[i] = x+1\n",
    "print(lps)\n",
    "ans = n - lps[n-1]\n",
    "print(ans)"
   ]
  },
  {
   "cell_type": "code",
   "execution_count": 1,
   "id": "02c92a44",
   "metadata": {},
   "outputs": [
    {
     "name": "stdout",
     "output_type": "stream",
     "text": [
      "3\n"
     ]
    }
   ],
   "source": [
    "# Count A\n",
    "A = 'aab'\n",
    "count_a = 0\n",
    "for i in A:\n",
    "    if(i=='a'):\n",
    "        count_a += 1\n",
    "ans = ((count_a)*(count_a+1))//2\n",
    "print(ans)"
   ]
  },
  {
   "cell_type": "code",
   "execution_count": null,
   "id": "9c10d2fd",
   "metadata": {},
   "outputs": [],
   "source": []
  }
 ],
 "metadata": {
  "kernelspec": {
   "display_name": "Python 3 (ipykernel)",
   "language": "python",
   "name": "python3"
  },
  "language_info": {
   "codemirror_mode": {
    "name": "ipython",
    "version": 3
   },
   "file_extension": ".py",
   "mimetype": "text/x-python",
   "name": "python",
   "nbconvert_exporter": "python",
   "pygments_lexer": "ipython3",
   "version": "3.9.7"
  }
 },
 "nbformat": 4,
 "nbformat_minor": 5
}
