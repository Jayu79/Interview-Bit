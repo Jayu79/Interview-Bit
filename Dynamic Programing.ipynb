{
 "cells": [
  {
   "cell_type": "code",
   "execution_count": 7,
   "id": "b15bd408",
   "metadata": {},
   "outputs": [
    {
     "name": "stdout",
     "output_type": "stream",
     "text": [
      "2\n"
     ]
    }
   ],
   "source": [
    "# Stairs\n",
    "A = 2\n",
    "s = 1\n",
    "e = 1\n",
    "for i in range(2,A+1):\n",
    "    c = s+e\n",
    "    s = e\n",
    "    e = c\n",
    "print(c)"
   ]
  },
  {
   "cell_type": "code",
   "execution_count": 17,
   "id": "3ba50b08",
   "metadata": {},
   "outputs": [
    {
     "name": "stdout",
     "output_type": "stream",
     "text": [
      "2\n",
      "1\n"
     ]
    }
   ],
   "source": [
    "# Fibonacci\n",
    "A = int(input())\n",
    "s = 0\n",
    "e = 1\n",
    "if(A==0):\n",
    "    print(0)\n",
    "elif(A==1):\n",
    "    print(1)\n",
    "else:\n",
    "    for i in range(2,A+1):\n",
    "        c = s+e\n",
    "        s = e\n",
    "        e = c\n",
    "    print(c)"
   ]
  },
  {
   "cell_type": "code",
   "execution_count": 21,
   "id": "e82e3b7c",
   "metadata": {},
   "outputs": [
    {
     "name": "stdout",
     "output_type": "stream",
     "text": [
      "[0, 1, 2, 3, 1, 2, 3]\n"
     ]
    }
   ],
   "source": [
    "# Minimum Number of Square\n",
    "A = 6\n",
    "dp = [A]*(A+1)\n",
    "dp[0],dp[1] = 0,1\n",
    "for i in range(2,A+1):\n",
    "    j = 1\n",
    "    while j*j<=i:\n",
    "        dp[i] = min(dp[i],1+dp[i-j*j])\n",
    "        j+=1\n",
    "print(dp)"
   ]
  },
  {
   "cell_type": "code",
   "execution_count": 22,
   "id": "8fb97d3c",
   "metadata": {},
   "outputs": [
    {
     "name": "stdout",
     "output_type": "stream",
     "text": [
      "8\n"
     ]
    }
   ],
   "source": [
    "# Max Product Sub Array\n",
    "A = [4, 2, -5, 1]\n",
    "min_ending = A[0]\n",
    "max_ending = A[0]\n",
    "max_till_now = A[0]\n",
    "for i in range(1,len(A)):\n",
    "    temp = max(max(A[i],max_ending*A[i]),min_ending*A[i])\n",
    "    min_ending = min(min(A[i],min_ending*A[i]),max_ending*A[i])\n",
    "    max_ending = temp\n",
    "    max_till_now = max(max_ending,max_till_now)\n",
    "print(max_till_now)"
   ]
  },
  {
   "cell_type": "code",
   "execution_count": 54,
   "id": "b0e3c6f3",
   "metadata": {},
   "outputs": [
    {
     "name": "stdout",
     "output_type": "stream",
     "text": [
      "[[1, 1, 1, 1, 1, 0, 0, 0, 0]]\n",
      "0\n"
     ]
    }
   ],
   "source": [
    "# # Unique Paths in a Grid\n",
    "# A = [\n",
    "#         [0, 0, 0],\n",
    "#         [0, 1, 0],\n",
    "#         [0, 0, 0]\n",
    "#      ]\n",
    "A = [[0, 0, 0, 0, 0, 1, 0, 0, 0]]\n",
    "dp = []\n",
    "n = len(A)\n",
    "m = len(A[0])\n",
    "for i in range(len(A)):\n",
    "    temp = []\n",
    "    for j in range(len(A[0])):\n",
    "        temp.append(0)\n",
    "    dp.append(temp)\n",
    "if(A[0][0]==0):\n",
    "    dp[0][0] = 1\n",
    "else:\n",
    "    dp[0][0] = 0\n",
    "for i in range(1,len(A)):\n",
    "    if(A[i][0]==1):\n",
    "        dp[i][0] = 0\n",
    "    elif(A[i-1][0]!=1 and dp[i-1][0]!=0):\n",
    "        dp[i][0] = 1\n",
    "for i in range(1,len(A[0])):\n",
    "    if(A[0][i]==1):\n",
    "        dp[0][i] = 0\n",
    "    elif(A[0][i-1]!=1 and dp[0][i-1]!=0):\n",
    "        dp[0][i] = 1\n",
    "# print(dp)\n",
    "for i in range(1,len(A)):\n",
    "    for j in range(1,len(A[0])):\n",
    "        if(A[i][j]==1):\n",
    "            dp[i][j] = 0\n",
    "        elif(A[i-1][j]!=1 and A[i][j-1]!=1):\n",
    "            dp[i][j] = dp[i-1][j]+dp[i][j-1]\n",
    "        elif(A[i-1][j]==1):\n",
    "            dp[i][j] = dp[i][j-1]\n",
    "        elif(A[i][j-1]==1):\n",
    "            dp[i][j] = dp[i-1][j]\n",
    "print(dp)\n",
    "print(dp[n-1][m-1])"
   ]
  },
  {
   "cell_type": "code",
   "execution_count": null,
   "id": "d6137d47",
   "metadata": {},
   "outputs": [],
   "source": []
  }
 ],
 "metadata": {
  "kernelspec": {
   "display_name": "Python 3 (ipykernel)",
   "language": "python",
   "name": "python3"
  },
  "language_info": {
   "codemirror_mode": {
    "name": "ipython",
    "version": 3
   },
   "file_extension": ".py",
   "mimetype": "text/x-python",
   "name": "python",
   "nbconvert_exporter": "python",
   "pygments_lexer": "ipython3",
   "version": "3.9.7"
  }
 },
 "nbformat": 4,
 "nbformat_minor": 5
}
