{
 "cells": [
  {
   "cell_type": "code",
   "execution_count": 7,
   "id": "e744ba55",
   "metadata": {},
   "outputs": [
    {
     "name": "stdout",
     "output_type": "stream",
     "text": [
      "2\n"
     ]
    }
   ],
   "source": [
    "# Stairs\n",
    "A = 2\n",
    "s = 1\n",
    "e = 1\n",
    "for i in range(2,A+1):\n",
    "    c = s+e\n",
    "    s = e\n",
    "    e = c\n",
    "print(c)"
   ]
  },
  {
   "cell_type": "code",
   "execution_count": 17,
   "id": "c058747c",
   "metadata": {},
   "outputs": [
    {
     "name": "stdout",
     "output_type": "stream",
     "text": [
      "2\n",
      "1\n"
     ]
    }
   ],
   "source": [
    "# Fibonacci\n",
    "A = int(input())\n",
    "s = 0\n",
    "e = 1\n",
    "if(A==0):\n",
    "    print(0)\n",
    "elif(A==1):\n",
    "    print(1)\n",
    "else:\n",
    "    for i in range(2,A+1):\n",
    "        c = s+e\n",
    "        s = e\n",
    "        e = c\n",
    "    print(c)"
   ]
  },
  {
   "cell_type": "code",
   "execution_count": 21,
   "id": "153fc30b",
   "metadata": {},
   "outputs": [
    {
     "name": "stdout",
     "output_type": "stream",
     "text": [
      "[0, 1, 2, 3, 1, 2, 3]\n"
     ]
    }
   ],
   "source": [
    "# Minimum Number of Square\n",
    "A = 6\n",
    "dp = [A]*(A+1)\n",
    "dp[0],dp[1] = 0,1\n",
    "for i in range(2,A+1):\n",
    "    j = 1\n",
    "    while j*j<=i:\n",
    "        dp[i] = min(dp[i],1+dp[i-j*j])\n",
    "        j+=1\n",
    "print(dp)"
   ]
  },
  {
   "cell_type": "code",
   "execution_count": 22,
   "id": "0c90510d",
   "metadata": {},
   "outputs": [
    {
     "name": "stdout",
     "output_type": "stream",
     "text": [
      "8\n"
     ]
    }
   ],
   "source": [
    "# Max Product Sub Array\n",
    "A = [4, 2, -5, 1]\n",
    "min_ending = A[0]\n",
    "max_ending = A[0]\n",
    "max_till_now = A[0]\n",
    "for i in range(1,len(A)):\n",
    "    temp = max(max(A[i],max_ending*A[i]),min_ending*A[i])\n",
    "    min_ending = min(min(A[i],min_ending*A[i]),max_ending*A[i])\n",
    "    max_ending = temp\n",
    "    max_till_now = max(max_ending,max_till_now)\n",
    "print(max_till_now)"
   ]
  },
  {
   "cell_type": "code",
   "execution_count": 54,
   "id": "e87c8376",
   "metadata": {},
   "outputs": [
    {
     "name": "stdout",
     "output_type": "stream",
     "text": [
      "[[1, 1, 1, 1, 1, 0, 0, 0, 0]]\n",
      "0\n"
     ]
    }
   ],
   "source": [
    "# # Unique Paths in a Grid\n",
    "# A = [\n",
    "#         [0, 0, 0],\n",
    "#         [0, 1, 0],\n",
    "#         [0, 0, 0]\n",
    "#      ]\n",
    "A = [[0, 0, 0, 0, 0, 1, 0, 0, 0]]\n",
    "dp = []\n",
    "n = len(A)\n",
    "m = len(A[0])\n",
    "for i in range(len(A)):\n",
    "    temp = []\n",
    "    for j in range(len(A[0])):\n",
    "        temp.append(0)\n",
    "    dp.append(temp)\n",
    "if(A[0][0]==0):\n",
    "    dp[0][0] = 1\n",
    "else:\n",
    "    dp[0][0] = 0\n",
    "for i in range(1,len(A)):\n",
    "    if(A[i][0]==1):\n",
    "        dp[i][0] = 0\n",
    "    elif(A[i-1][0]!=1 and dp[i-1][0]!=0):\n",
    "        dp[i][0] = 1\n",
    "for i in range(1,len(A[0])):\n",
    "    if(A[0][i]==1):\n",
    "        dp[0][i] = 0\n",
    "    elif(A[0][i-1]!=1 and dp[0][i-1]!=0):\n",
    "        dp[0][i] = 1\n",
    "# print(dp)\n",
    "for i in range(1,len(A)):\n",
    "    for j in range(1,len(A[0])):\n",
    "        if(A[i][j]==1):\n",
    "            dp[i][j] = 0\n",
    "        elif(A[i-1][j]!=1 and A[i][j-1]!=1):\n",
    "            dp[i][j] = dp[i-1][j]+dp[i][j-1]\n",
    "        elif(A[i-1][j]==1):\n",
    "            dp[i][j] = dp[i][j-1]\n",
    "        elif(A[i][j-1]==1):\n",
    "            dp[i][j] = dp[i-1][j]\n",
    "print(dp)\n",
    "print(dp[n-1][m-1])"
   ]
  },
  {
   "cell_type": "code",
   "execution_count": 72,
   "id": "1a8f64d2",
   "metadata": {},
   "outputs": [
    {
     "name": "stdout",
     "output_type": "stream",
     "text": [
      "11\n"
     ]
    }
   ],
   "source": [
    "# Min Sum Path in Triangle\n",
    "A = [ \n",
    "         [2],\n",
    "        [3, 4],\n",
    "       [6, 5, 7],\n",
    "      [4, 1, 8, 3]\n",
    "    ]\n",
    "# A = [[1]]\n",
    "dp = []\n",
    "n = len(A)\n",
    "for i in A:\n",
    "    temp = [0]*len(i)\n",
    "    dp.append(temp)\n",
    "# print(dp)\n",
    "for i in range(len(A)):\n",
    "    for j in range(len(A[i])):\n",
    "        a,b = float('inf'),float('inf')\n",
    "        if(i==0 and j==0):\n",
    "            dp[i][j] = A[i][j]\n",
    "            continue\n",
    "        if(i>0 and j<len(A[i-1])):\n",
    "            b = dp[i-1][j]\n",
    "        if(i>0 and j>0):\n",
    "            a = dp[i-1][j-1]\n",
    "        dp[i][j] = min(a,b)+A[i][j]\n",
    "print(min(dp[n-1]))"
   ]
  },
  {
   "cell_type": "code",
   "execution_count": 115,
   "id": "c549e8eb",
   "metadata": {},
   "outputs": [
    {
     "name": "stdout",
     "output_type": "stream",
     "text": [
      "[[0, 0, -1], [0, 0, -4], [35, 25, -5]]\n",
      "[[-2, -3, -1], [0, 0, -4], [35, 25, -5]]\n"
     ]
    }
   ],
   "source": [
    "# Dungeon Princess\n",
    "A = [ \n",
    "       [-2, -3, 3],\n",
    "       [-5, -10, 1],\n",
    "       [10, 30, -5]\n",
    "     ]\n",
    "# A = [ \n",
    "#        [1, -1, 0],\n",
    "#        [-1, 1, -1],\n",
    "#        [1, 0, -1]\n",
    "#      ]\n",
    "dp = []\n",
    "rows = len(A)\n",
    "cols = len(A[0])\n",
    "for i in A:\n",
    "    dp.append([0]*len(i))\n",
    "dp[rows-1][cols-1] = A[rows-1][cols-1]\n",
    "for i in range(rows-2,-1,-1):\n",
    "    dp[i][cols-1] = dp[i+1][cols-1]+A[i][cols-1]\n",
    "for i in range(cols-2,-1,-1):\n",
    "    dp[rows-1][i] = dp[rows-1][i+1]+A[rows-1][i]\n",
    "print(dp)\n",
    "for i in range(rows-2,-1,-1):\n",
    "    for j in range(cols-2,-1,-1):\n",
    "        a = dp[i+1][j]\n",
    "        b = dp[i][j+1]\n",
    "        max_health = max(a,b)+A[i][j]\n",
    "        if(max_health>0):\n",
    "            dp[i][j]=0\n",
    "        else:\n",
    "            dp[i][j] = max_health\n",
    "print(dp)"
   ]
  },
  {
   "cell_type": "code",
   "execution_count": 121,
   "id": "34e766b1",
   "metadata": {},
   "outputs": [
    {
     "name": "stdout",
     "output_type": "stream",
     "text": [
      "[6, 4, 5, 3, 5, 3, 4, 2, 4, 3, 3, 2, 3, 2, 2, 1] 6\n"
     ]
    }
   ],
   "source": [
    "# Longest Increasing Subsequence\n",
    "A = [0, 8, 4, 12, 2, 10, 6, 14, 1, 9, 5, 13, 3, 11, 7, 15]\n",
    "n = len(A)\n",
    "dp = [0]*n\n",
    "maxi = 1\n",
    "for i in range(n-1,-1,-1):\n",
    "    dp[i] = 1\n",
    "    for j in range(i+1,n):\n",
    "        if(A[j]>A[i]):\n",
    "            dp[i] = max(dp[i],1+dp[j])\n",
    "    maxi = max(dp[i],maxi)\n",
    "print(dp,maxi)"
   ]
  },
  {
   "cell_type": "code",
   "execution_count": 125,
   "id": "d1c3d6ca",
   "metadata": {},
   "outputs": [
    {
     "name": "stdout",
     "output_type": "stream",
     "text": [
      "8\n"
     ]
    }
   ],
   "source": [
    "# Min Sum Path in Matrix\n",
    "A = [\n",
    "       [1, 3, 2],\n",
    "       [4, 3, 1],\n",
    "       [5, 6, 1]\n",
    "     ]\n",
    "dp = []\n",
    "for i in A:\n",
    "    dp.append([0]*len(i))\n",
    "dp[0][0] = A[0][0]\n",
    "for i in range(1,len(A)):\n",
    "    dp[i][0] = dp[i-1][0]+A[i][0]\n",
    "for i in range(1,len(A[0])):\n",
    "    dp[0][i] = dp[0][i-1]+A[0][i]\n",
    "for i in range(1,len(A)):\n",
    "    for j in range(1,len(A[0])):\n",
    "        a = dp[i-1][j]\n",
    "        b = dp[i][j-1]\n",
    "        dp[i][j] = min(a,b)+A[i][j]\n",
    "print(dp[len(A)-1][len(A[0])-1])"
   ]
  },
  {
   "cell_type": "code",
   "execution_count": 129,
   "id": "d244812e",
   "metadata": {},
   "outputs": [
    {
     "name": "stdout",
     "output_type": "stream",
     "text": [
      "502\n"
     ]
    }
   ],
   "source": [
    "# Let's Party\n",
    "A = 73253\n",
    "dp_n2 = 2\n",
    "dp_n1 = 1\n",
    "for i in range(3,A+1):\n",
    "    dp_n = (dp_n2 + ((i-1)*dp_n1)%10003)%10003\n",
    "    dp_n1 = dp_n2\n",
    "    dp_n2 = dp_n\n",
    "print(dp_n%10003)"
   ]
  },
  {
   "cell_type": "code",
   "execution_count": 153,
   "id": "d30fad93",
   "metadata": {},
   "outputs": [
    {
     "name": "stdout",
     "output_type": "stream",
     "text": [
      "13\n"
     ]
    }
   ],
   "source": [
    "# Minimum Falling Path Sum II\n",
    "\n",
    "def get_min(dp,j,i,n):\n",
    "    prev_row = i-1\n",
    "    mini = min(dp[prev_row][:j]+dp[prev_row][j+1:])\n",
    "    return mini\n",
    "\n",
    "\n",
    "A =  [ [1, 2, 3],\n",
    "        [4, 5, 6],\n",
    "        [7, 8, 9] ]\n",
    "# A =  [ [17, 14, 19],\n",
    "#         [12, 18, 9],\n",
    "#         [20, 10, 1] ]\n",
    "# A = [[1,2],[6,4]]\n",
    "\n",
    "dp = []\n",
    "n = len(A)\n",
    "for i in A:\n",
    "    dp.append([0]*len(i))\n",
    "for i in range(n):\n",
    "    dp[0][i] = A[0][i]\n",
    "for i in range(1,n):\n",
    "    for j in range(len(A[0])):\n",
    "        dp[i][j] = get_min(dp,j,i,n) + A[i][j]\n",
    "print(min(dp[n-1]))"
   ]
  },
  {
   "cell_type": "code",
   "execution_count": 158,
   "id": "67cff23d",
   "metadata": {},
   "outputs": [
    {
     "name": "stdout",
     "output_type": "stream",
     "text": [
      "5\n"
     ]
    }
   ],
   "source": [
    "# Longest Common Subsequence\n",
    "def lcs(A,B,i,j,dp):\n",
    "    if(i==-1 or j==-1):\n",
    "        return 0\n",
    "    if(dp[i][j]!=-1):\n",
    "        return dp[i][j]\n",
    "    if(A[i]==B[j]):\n",
    "        dp[i][j] = 1 + lcs(A,B,i-1,j-1,dp)\n",
    "        return dp[i][j]\n",
    "    else:\n",
    "        dp[i][j] = max(lcs(A,B,i,j-1,dp),lcs(A,B,i-1,j,dp))\n",
    "        return dp[i][j]\n",
    "\n",
    "\n",
    "A = \"abbcdgf\"\n",
    "B = \"bbadcgf\"\n",
    "dp = []\n",
    "for i in range(len(A)):\n",
    "    temp = []\n",
    "    for j in range(len(B)):\n",
    "        temp.append(-1)\n",
    "    dp.append(temp)\n",
    "i,n = len(A)-1,len(A)-1\n",
    "j,m = len(B)-1,len(B)-1\n",
    "lcs(A,B,i,j,dp)\n",
    "print(dp[n][m])"
   ]
  },
  {
   "cell_type": "code",
   "execution_count": 179,
   "id": "1546a532",
   "metadata": {},
   "outputs": [
    {
     "name": "stdout",
     "output_type": "stream",
     "text": [
      "[[1, 1, 1], [1, 0, 0], [1, 0, 0], [1, 0, 0], [1, 0, 0]]\n",
      "3\n"
     ]
    }
   ],
   "source": [
    "# Longest Common Subsequence\n",
    "A = \"abcde\"\n",
    "B = \"ace\"\n",
    "dp = []\n",
    "for i in range(len(A)):\n",
    "    temp = []\n",
    "    for j in range(len(B)):\n",
    "        temp.append(0)\n",
    "    dp.append(temp)\n",
    "n = len(A)\n",
    "m = len(B)\n",
    "if(A[0]==B[0]):\n",
    "    dp[0][0] = 1\n",
    "for i in range(1,len(A)):\n",
    "    if(A[i]==B[0]):\n",
    "        dp[i][0] = 1\n",
    "    else:\n",
    "        dp[i][0] = dp[i-1][0]\n",
    "\n",
    "for i in range(1,len(B)):\n",
    "    if(B[i]==A[0]):\n",
    "        dp[0][i] = 1\n",
    "    else:\n",
    "        dp[0][i] = dp[0][i-1]\n",
    "# print(dp)\n",
    "i = 1\n",
    "j = 1\n",
    "print(dp)\n",
    "for i in range(1,n):\n",
    "    for j in range(1,m):\n",
    "        if(A[i]==B[j]):\n",
    "            dp[i][j] = 1+dp[i-1][j-1]\n",
    "        else:\n",
    "            dp[i][j] = max(dp[i-1][j],dp[i][j-1])\n",
    "print(dp[n-1][m-1])"
   ]
  },
  {
   "cell_type": "code",
   "execution_count": 195,
   "id": "c6ab8d06",
   "metadata": {},
   "outputs": [
    {
     "data": {
      "text/plain": [
       "3"
      ]
     },
     "execution_count": 195,
     "metadata": {},
     "output_type": "execute_result"
    }
   ],
   "source": [
    "# Distinct Subsequences\n",
    "\n",
    "def subsequence(A,B,i,j,dp):\n",
    "    if(dp[i][j]!=-1):\n",
    "        return dp[i][j]\n",
    "    if(j==0):\n",
    "        dp[i][j] = 1\n",
    "    elif(i==0):\n",
    "        dp[i][j] = 0\n",
    "    else:\n",
    "        if(A[i-1]!=B[j-1]):\n",
    "            dp[i][j] = subsequence(A,B,i-1,j,dp)\n",
    "        else:\n",
    "            dp[i][j] = subsequence(A,B,i-1,j,dp)+subsequence(A,B,i-1,j-1,dp)\n",
    "            \n",
    "    return dp[i][j]\n",
    "\n",
    "A = \"rabbbit\" \n",
    "B = \"rabbit\"\n",
    "n = len(A)\n",
    "m = len(B)\n",
    "dp = [[-1]*(m+1) for _ in range(n+1)]\n",
    "subsequence(A,B,n,m,dp)"
   ]
  },
  {
   "cell_type": "code",
   "execution_count": null,
   "id": "6ac268cc",
   "metadata": {},
   "outputs": [],
   "source": []
  }
 ],
 "metadata": {
  "kernelspec": {
   "display_name": "Python 3 (ipykernel)",
   "language": "python",
   "name": "python3"
  },
  "language_info": {
   "codemirror_mode": {
    "name": "ipython",
    "version": 3
   },
   "file_extension": ".py",
   "mimetype": "text/x-python",
   "name": "python",
   "nbconvert_exporter": "python",
   "pygments_lexer": "ipython3",
   "version": "3.9.7"
  }
 },
 "nbformat": 4,
 "nbformat_minor": 5
}
