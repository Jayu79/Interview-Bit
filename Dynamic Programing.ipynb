{
 "cells": [
  {
   "cell_type": "code",
   "execution_count": 7,
   "id": "594e5607",
   "metadata": {},
   "outputs": [
    {
     "name": "stdout",
     "output_type": "stream",
     "text": [
      "2\n"
     ]
    }
   ],
   "source": [
    "# Stairs\n",
    "A = 2\n",
    "s = 1\n",
    "e = 1\n",
    "for i in range(2,A+1):\n",
    "    c = s+e\n",
    "    s = e\n",
    "    e = c\n",
    "print(c)"
   ]
  },
  {
   "cell_type": "code",
   "execution_count": 17,
   "id": "98a9b4e6",
   "metadata": {},
   "outputs": [
    {
     "name": "stdout",
     "output_type": "stream",
     "text": [
      "2\n",
      "1\n"
     ]
    }
   ],
   "source": [
    "# Fibonacci\n",
    "A = int(input())\n",
    "s = 0\n",
    "e = 1\n",
    "if(A==0):\n",
    "    print(0)\n",
    "elif(A==1):\n",
    "    print(1)\n",
    "else:\n",
    "    for i in range(2,A+1):\n",
    "        c = s+e\n",
    "        s = e\n",
    "        e = c\n",
    "    print(c)"
   ]
  },
  {
   "cell_type": "code",
   "execution_count": 21,
   "id": "b27aa8d4",
   "metadata": {},
   "outputs": [
    {
     "name": "stdout",
     "output_type": "stream",
     "text": [
      "[0, 1, 2, 3, 1, 2, 3]\n"
     ]
    }
   ],
   "source": [
    "# Minimum Number of Square\n",
    "A = 6\n",
    "dp = [A]*(A+1)\n",
    "dp[0],dp[1] = 0,1\n",
    "for i in range(2,A+1):\n",
    "    j = 1\n",
    "    while j*j<=i:\n",
    "        dp[i] = min(dp[i],1+dp[i-j*j])\n",
    "        j+=1\n",
    "print(dp)"
   ]
  },
  {
   "cell_type": "code",
   "execution_count": 22,
   "id": "322cedbe",
   "metadata": {},
   "outputs": [
    {
     "name": "stdout",
     "output_type": "stream",
     "text": [
      "8\n"
     ]
    }
   ],
   "source": [
    "# Max Product Sub Array\n",
    "A = [4, 2, -5, 1]\n",
    "min_ending = A[0]\n",
    "max_ending = A[0]\n",
    "max_till_now = A[0]\n",
    "for i in range(1,len(A)):\n",
    "    temp = max(max(A[i],max_ending*A[i]),min_ending*A[i])\n",
    "    min_ending = min(min(A[i],min_ending*A[i]),max_ending*A[i])\n",
    "    max_ending = temp\n",
    "    max_till_now = max(max_ending,max_till_now)\n",
    "print(max_till_now)"
   ]
  },
  {
   "cell_type": "code",
   "execution_count": 54,
   "id": "41715c0d",
   "metadata": {},
   "outputs": [
    {
     "name": "stdout",
     "output_type": "stream",
     "text": [
      "[[1, 1, 1, 1, 1, 0, 0, 0, 0]]\n",
      "0\n"
     ]
    }
   ],
   "source": [
    "# # Unique Paths in a Grid\n",
    "# A = [\n",
    "#         [0, 0, 0],\n",
    "#         [0, 1, 0],\n",
    "#         [0, 0, 0]\n",
    "#      ]\n",
    "A = [[0, 0, 0, 0, 0, 1, 0, 0, 0]]\n",
    "dp = []\n",
    "n = len(A)\n",
    "m = len(A[0])\n",
    "for i in range(len(A)):\n",
    "    temp = []\n",
    "    for j in range(len(A[0])):\n",
    "        temp.append(0)\n",
    "    dp.append(temp)\n",
    "if(A[0][0]==0):\n",
    "    dp[0][0] = 1\n",
    "else:\n",
    "    dp[0][0] = 0\n",
    "for i in range(1,len(A)):\n",
    "    if(A[i][0]==1):\n",
    "        dp[i][0] = 0\n",
    "    elif(A[i-1][0]!=1 and dp[i-1][0]!=0):\n",
    "        dp[i][0] = 1\n",
    "for i in range(1,len(A[0])):\n",
    "    if(A[0][i]==1):\n",
    "        dp[0][i] = 0\n",
    "    elif(A[0][i-1]!=1 and dp[0][i-1]!=0):\n",
    "        dp[0][i] = 1\n",
    "# print(dp)\n",
    "for i in range(1,len(A)):\n",
    "    for j in range(1,len(A[0])):\n",
    "        if(A[i][j]==1):\n",
    "            dp[i][j] = 0\n",
    "        elif(A[i-1][j]!=1 and A[i][j-1]!=1):\n",
    "            dp[i][j] = dp[i-1][j]+dp[i][j-1]\n",
    "        elif(A[i-1][j]==1):\n",
    "            dp[i][j] = dp[i][j-1]\n",
    "        elif(A[i][j-1]==1):\n",
    "            dp[i][j] = dp[i-1][j]\n",
    "print(dp)\n",
    "print(dp[n-1][m-1])"
   ]
  },
  {
   "cell_type": "code",
   "execution_count": 72,
   "id": "9b64f1f3",
   "metadata": {},
   "outputs": [
    {
     "name": "stdout",
     "output_type": "stream",
     "text": [
      "11\n"
     ]
    }
   ],
   "source": [
    "# Min Sum Path in Triangle\n",
    "A = [ \n",
    "         [2],\n",
    "        [3, 4],\n",
    "       [6, 5, 7],\n",
    "      [4, 1, 8, 3]\n",
    "    ]\n",
    "# A = [[1]]\n",
    "dp = []\n",
    "n = len(A)\n",
    "for i in A:\n",
    "    temp = [0]*len(i)\n",
    "    dp.append(temp)\n",
    "# print(dp)\n",
    "for i in range(len(A)):\n",
    "    for j in range(len(A[i])):\n",
    "        a,b = float('inf'),float('inf')\n",
    "        if(i==0 and j==0):\n",
    "            dp[i][j] = A[i][j]\n",
    "            continue\n",
    "        if(i>0 and j<len(A[i-1])):\n",
    "            b = dp[i-1][j]\n",
    "        if(i>0 and j>0):\n",
    "            a = dp[i-1][j-1]\n",
    "        dp[i][j] = min(a,b)+A[i][j]\n",
    "print(min(dp[n-1]))"
   ]
  },
  {
   "cell_type": "code",
   "execution_count": 115,
   "id": "5aa7138b",
   "metadata": {},
   "outputs": [
    {
     "name": "stdout",
     "output_type": "stream",
     "text": [
      "[[0, 0, -1], [0, 0, -4], [35, 25, -5]]\n",
      "[[-2, -3, -1], [0, 0, -4], [35, 25, -5]]\n"
     ]
    }
   ],
   "source": [
    "# Dungeon Princess\n",
    "A = [ \n",
    "       [-2, -3, 3],\n",
    "       [-5, -10, 1],\n",
    "       [10, 30, -5]\n",
    "     ]\n",
    "# A = [ \n",
    "#        [1, -1, 0],\n",
    "#        [-1, 1, -1],\n",
    "#        [1, 0, -1]\n",
    "#      ]\n",
    "dp = []\n",
    "rows = len(A)\n",
    "cols = len(A[0])\n",
    "for i in A:\n",
    "    dp.append([0]*len(i))\n",
    "dp[rows-1][cols-1] = A[rows-1][cols-1]\n",
    "for i in range(rows-2,-1,-1):\n",
    "    dp[i][cols-1] = dp[i+1][cols-1]+A[i][cols-1]\n",
    "for i in range(cols-2,-1,-1):\n",
    "    dp[rows-1][i] = dp[rows-1][i+1]+A[rows-1][i]\n",
    "print(dp)\n",
    "for i in range(rows-2,-1,-1):\n",
    "    for j in range(cols-2,-1,-1):\n",
    "        a = dp[i+1][j]\n",
    "        b = dp[i][j+1]\n",
    "        max_health = max(a,b)+A[i][j]\n",
    "        if(max_health>0):\n",
    "            dp[i][j]=0\n",
    "        else:\n",
    "            dp[i][j] = max_health\n",
    "print(dp)"
   ]
  },
  {
   "cell_type": "code",
   "execution_count": 121,
   "id": "a8824f2b",
   "metadata": {},
   "outputs": [
    {
     "name": "stdout",
     "output_type": "stream",
     "text": [
      "[6, 4, 5, 3, 5, 3, 4, 2, 4, 3, 3, 2, 3, 2, 2, 1] 6\n"
     ]
    }
   ],
   "source": [
    "# Longest Increasing Subsequence\n",
    "A = [0, 8, 4, 12, 2, 10, 6, 14, 1, 9, 5, 13, 3, 11, 7, 15]\n",
    "n = len(A)\n",
    "dp = [0]*n\n",
    "maxi = 1\n",
    "for i in range(n-1,-1,-1):\n",
    "    dp[i] = 1\n",
    "    for j in range(i+1,n):\n",
    "        if(A[j]>A[i]):\n",
    "            dp[i] = max(dp[i],1+dp[j])\n",
    "    maxi = max(dp[i],maxi)\n",
    "print(dp,maxi)"
   ]
  },
  {
   "cell_type": "code",
   "execution_count": null,
   "id": "bd5c82e1",
   "metadata": {},
   "outputs": [],
   "source": []
  }
 ],
 "metadata": {
  "kernelspec": {
   "display_name": "Python 3 (ipykernel)",
   "language": "python",
   "name": "python3"
  },
  "language_info": {
   "codemirror_mode": {
    "name": "ipython",
    "version": 3
   },
   "file_extension": ".py",
   "mimetype": "text/x-python",
   "name": "python",
   "nbconvert_exporter": "python",
   "pygments_lexer": "ipython3",
   "version": "3.9.7"
  }
 },
 "nbformat": 4,
 "nbformat_minor": 5
}
