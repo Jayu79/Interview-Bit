{
 "cells": [
  {
   "cell_type": "code",
   "execution_count": 7,
   "id": "e744ba55",
   "metadata": {},
   "outputs": [
    {
     "name": "stdout",
     "output_type": "stream",
     "text": [
      "2\n"
     ]
    }
   ],
   "source": [
    "# Stairs\n",
    "A = 2\n",
    "s = 1\n",
    "e = 1\n",
    "for i in range(2,A+1):\n",
    "    c = s+e\n",
    "    s = e\n",
    "    e = c\n",
    "print(c)"
   ]
  },
  {
   "cell_type": "code",
   "execution_count": 17,
   "id": "c058747c",
   "metadata": {},
   "outputs": [
    {
     "name": "stdout",
     "output_type": "stream",
     "text": [
      "2\n",
      "1\n"
     ]
    }
   ],
   "source": [
    "# Fibonacci\n",
    "A = int(input())\n",
    "s = 0\n",
    "e = 1\n",
    "if(A==0):\n",
    "    print(0)\n",
    "elif(A==1):\n",
    "    print(1)\n",
    "else:\n",
    "    for i in range(2,A+1):\n",
    "        c = s+e\n",
    "        s = e\n",
    "        e = c\n",
    "    print(c)"
   ]
  },
  {
   "cell_type": "code",
   "execution_count": 21,
   "id": "153fc30b",
   "metadata": {},
   "outputs": [
    {
     "name": "stdout",
     "output_type": "stream",
     "text": [
      "[0, 1, 2, 3, 1, 2, 3]\n"
     ]
    }
   ],
   "source": [
    "# Minimum Number of Square\n",
    "A = 6\n",
    "dp = [A]*(A+1)\n",
    "dp[0],dp[1] = 0,1\n",
    "for i in range(2,A+1):\n",
    "    j = 1\n",
    "    while j*j<=i:\n",
    "        dp[i] = min(dp[i],1+dp[i-j*j])\n",
    "        j+=1\n",
    "print(dp)"
   ]
  },
  {
   "cell_type": "code",
   "execution_count": 22,
   "id": "0c90510d",
   "metadata": {},
   "outputs": [
    {
     "name": "stdout",
     "output_type": "stream",
     "text": [
      "8\n"
     ]
    }
   ],
   "source": [
    "# Max Product Sub Array\n",
    "A = [4, 2, -5, 1]\n",
    "min_ending = A[0]\n",
    "max_ending = A[0]\n",
    "max_till_now = A[0]\n",
    "for i in range(1,len(A)):\n",
    "    temp = max(max(A[i],max_ending*A[i]),min_ending*A[i])\n",
    "    min_ending = min(min(A[i],min_ending*A[i]),max_ending*A[i])\n",
    "    max_ending = temp\n",
    "    max_till_now = max(max_ending,max_till_now)\n",
    "print(max_till_now)"
   ]
  },
  {
   "cell_type": "code",
   "execution_count": 54,
   "id": "e87c8376",
   "metadata": {},
   "outputs": [
    {
     "name": "stdout",
     "output_type": "stream",
     "text": [
      "[[1, 1, 1, 1, 1, 0, 0, 0, 0]]\n",
      "0\n"
     ]
    }
   ],
   "source": [
    "# # Unique Paths in a Grid\n",
    "# A = [\n",
    "#         [0, 0, 0],\n",
    "#         [0, 1, 0],\n",
    "#         [0, 0, 0]\n",
    "#      ]\n",
    "A = [[0, 0, 0, 0, 0, 1, 0, 0, 0]]\n",
    "dp = []\n",
    "n = len(A)\n",
    "m = len(A[0])\n",
    "for i in range(len(A)):\n",
    "    temp = []\n",
    "    for j in range(len(A[0])):\n",
    "        temp.append(0)\n",
    "    dp.append(temp)\n",
    "if(A[0][0]==0):\n",
    "    dp[0][0] = 1\n",
    "else:\n",
    "    dp[0][0] = 0\n",
    "for i in range(1,len(A)):\n",
    "    if(A[i][0]==1):\n",
    "        dp[i][0] = 0\n",
    "    elif(A[i-1][0]!=1 and dp[i-1][0]!=0):\n",
    "        dp[i][0] = 1\n",
    "for i in range(1,len(A[0])):\n",
    "    if(A[0][i]==1):\n",
    "        dp[0][i] = 0\n",
    "    elif(A[0][i-1]!=1 and dp[0][i-1]!=0):\n",
    "        dp[0][i] = 1\n",
    "# print(dp)\n",
    "for i in range(1,len(A)):\n",
    "    for j in range(1,len(A[0])):\n",
    "        if(A[i][j]==1):\n",
    "            dp[i][j] = 0\n",
    "        elif(A[i-1][j]!=1 and A[i][j-1]!=1):\n",
    "            dp[i][j] = dp[i-1][j]+dp[i][j-1]\n",
    "        elif(A[i-1][j]==1):\n",
    "            dp[i][j] = dp[i][j-1]\n",
    "        elif(A[i][j-1]==1):\n",
    "            dp[i][j] = dp[i-1][j]\n",
    "print(dp)\n",
    "print(dp[n-1][m-1])"
   ]
  },
  {
   "cell_type": "code",
   "execution_count": 72,
   "id": "1a8f64d2",
   "metadata": {},
   "outputs": [
    {
     "name": "stdout",
     "output_type": "stream",
     "text": [
      "11\n"
     ]
    }
   ],
   "source": [
    "# Min Sum Path in Triangle\n",
    "A = [ \n",
    "         [2],\n",
    "        [3, 4],\n",
    "       [6, 5, 7],\n",
    "      [4, 1, 8, 3]\n",
    "    ]\n",
    "# A = [[1]]\n",
    "dp = []\n",
    "n = len(A)\n",
    "for i in A:\n",
    "    temp = [0]*len(i)\n",
    "    dp.append(temp)\n",
    "# print(dp)\n",
    "for i in range(len(A)):\n",
    "    for j in range(len(A[i])):\n",
    "        a,b = float('inf'),float('inf')\n",
    "        if(i==0 and j==0):\n",
    "            dp[i][j] = A[i][j]\n",
    "            continue\n",
    "        if(i>0 and j<len(A[i-1])):\n",
    "            b = dp[i-1][j]\n",
    "        if(i>0 and j>0):\n",
    "            a = dp[i-1][j-1]\n",
    "        dp[i][j] = min(a,b)+A[i][j]\n",
    "print(min(dp[n-1]))"
   ]
  },
  {
   "cell_type": "code",
   "execution_count": 119,
   "id": "c549e8eb",
   "metadata": {},
   "outputs": [
    {
     "name": "stdout",
     "output_type": "stream",
     "text": [
      "[[0], [0]]\n"
     ]
    }
   ],
   "source": [
    "# Dungeon Princess\n",
    "# A = [ \n",
    "#        [-2, -3, 3],\n",
    "#        [-5, -10, 1],\n",
    "#        [10, 30, -5]\n",
    "#      ]\n",
    "# A = [ \n",
    "#        [1, -1, 0],\n",
    "#        [-1, 1, -1],\n",
    "#        [1, 0, -1]\n",
    "#      ]\n",
    "A =[[2],[1]]\n",
    "m = len(A)\n",
    "n = len(A[0])\n",
    "dp = [[-1 for j in range(n)] for i in range(m)]\n",
    "dp[m-1][n-1] = A[m-1][n-1] if A[m-1][n-1]<0 else 0\n",
    "for i in range(m-1,-1,-1):\n",
    "    for j in range(n-1,-1,-1):\n",
    "        if(i==m-1 and j==n-1):\n",
    "            continue\n",
    "        else:\n",
    "            down = dp[i+1][j] if i+1<m else float('-inf')\n",
    "            right = dp[i][j+1] if j+1<n else float('-inf')\n",
    "            ans = max(down,right) + A[i][j]\n",
    "            if(ans>0):\n",
    "                dp[i][j] = 0\n",
    "            else:\n",
    "                dp[i][j] = ans\n",
    "print(dp)"
   ]
  },
  {
   "cell_type": "code",
   "execution_count": 121,
   "id": "34e766b1",
   "metadata": {},
   "outputs": [
    {
     "name": "stdout",
     "output_type": "stream",
     "text": [
      "[6, 4, 5, 3, 5, 3, 4, 2, 4, 3, 3, 2, 3, 2, 2, 1] 6\n"
     ]
    }
   ],
   "source": [
    "# Longest Increasing Subsequence\n",
    "A = [0, 8, 4, 12, 2, 10, 6, 14, 1, 9, 5, 13, 3, 11, 7, 15]\n",
    "n = len(A)\n",
    "dp = [0]*n\n",
    "maxi = 1\n",
    "for i in range(n-1,-1,-1):\n",
    "    dp[i] = 1\n",
    "    for j in range(i+1,n):\n",
    "        if(A[j]>A[i]):\n",
    "            dp[i] = max(dp[i],1+dp[j])\n",
    "    maxi = max(dp[i],maxi)\n",
    "print(dp,maxi)"
   ]
  },
  {
   "cell_type": "code",
   "execution_count": 125,
   "id": "d1c3d6ca",
   "metadata": {},
   "outputs": [
    {
     "name": "stdout",
     "output_type": "stream",
     "text": [
      "8\n"
     ]
    }
   ],
   "source": [
    "# Min Sum Path in Matrix\n",
    "A = [\n",
    "       [1, 3, 2],\n",
    "       [4, 3, 1],\n",
    "       [5, 6, 1]\n",
    "     ]\n",
    "dp = []\n",
    "for i in A:\n",
    "    dp.append([0]*len(i))\n",
    "dp[0][0] = A[0][0]\n",
    "for i in range(1,len(A)):\n",
    "    dp[i][0] = dp[i-1][0]+A[i][0]\n",
    "for i in range(1,len(A[0])):\n",
    "    dp[0][i] = dp[0][i-1]+A[0][i]\n",
    "for i in range(1,len(A)):\n",
    "    for j in range(1,len(A[0])):\n",
    "        a = dp[i-1][j]\n",
    "        b = dp[i][j-1]\n",
    "        dp[i][j] = min(a,b)+A[i][j]\n",
    "print(dp[len(A)-1][len(A[0])-1])"
   ]
  },
  {
   "cell_type": "code",
   "execution_count": 129,
   "id": "d244812e",
   "metadata": {},
   "outputs": [
    {
     "name": "stdout",
     "output_type": "stream",
     "text": [
      "502\n"
     ]
    }
   ],
   "source": [
    "# Let's Party\n",
    "A = 73253\n",
    "dp_n2 = 2\n",
    "dp_n1 = 1\n",
    "for i in range(3,A+1):\n",
    "    dp_n = (dp_n2 + ((i-1)*dp_n1)%10003)%10003\n",
    "    dp_n1 = dp_n2\n",
    "    dp_n2 = dp_n\n",
    "print(dp_n%10003)"
   ]
  },
  {
   "cell_type": "code",
   "execution_count": 153,
   "id": "d30fad93",
   "metadata": {},
   "outputs": [
    {
     "name": "stdout",
     "output_type": "stream",
     "text": [
      "13\n"
     ]
    }
   ],
   "source": [
    "# Minimum Falling Path Sum II\n",
    "\n",
    "def get_min(dp,j,i,n):\n",
    "    prev_row = i-1\n",
    "    mini = min(dp[prev_row][:j]+dp[prev_row][j+1:])\n",
    "    return mini\n",
    "\n",
    "\n",
    "A =  [ [1, 2, 3],\n",
    "        [4, 5, 6],\n",
    "        [7, 8, 9] ]\n",
    "# A =  [ [17, 14, 19],\n",
    "#         [12, 18, 9],\n",
    "#         [20, 10, 1] ]\n",
    "# A = [[1,2],[6,4]]\n",
    "\n",
    "dp = []\n",
    "n = len(A)\n",
    "for i in A:\n",
    "    dp.append([0]*len(i))\n",
    "for i in range(n):\n",
    "    dp[0][i] = A[0][i]\n",
    "for i in range(1,n):\n",
    "    for j in range(len(A[0])):\n",
    "        dp[i][j] = get_min(dp,j,i,n) + A[i][j]\n",
    "print(min(dp[n-1]))"
   ]
  },
  {
   "cell_type": "code",
   "execution_count": 158,
   "id": "67cff23d",
   "metadata": {},
   "outputs": [
    {
     "name": "stdout",
     "output_type": "stream",
     "text": [
      "5\n"
     ]
    }
   ],
   "source": [
    "# Longest Common Subsequence\n",
    "def lcs(A,B,i,j,dp):\n",
    "    if(i==-1 or j==-1):\n",
    "        return 0\n",
    "    if(dp[i][j]!=-1):\n",
    "        return dp[i][j]\n",
    "    if(A[i]==B[j]):\n",
    "        dp[i][j] = 1 + lcs(A,B,i-1,j-1,dp)\n",
    "        return dp[i][j]\n",
    "    else:\n",
    "        dp[i][j] = max(lcs(A,B,i,j-1,dp),lcs(A,B,i-1,j,dp))\n",
    "        return dp[i][j]\n",
    "\n",
    "\n",
    "A = \"abbcdgf\"\n",
    "B = \"bbadcgf\"\n",
    "dp = []\n",
    "for i in range(len(A)):\n",
    "    temp = []\n",
    "    for j in range(len(B)):\n",
    "        temp.append(-1)\n",
    "    dp.append(temp)\n",
    "i,n = len(A)-1,len(A)-1\n",
    "j,m = len(B)-1,len(B)-1\n",
    "lcs(A,B,i,j,dp)\n",
    "print(dp[n][m])"
   ]
  },
  {
   "cell_type": "code",
   "execution_count": 179,
   "id": "1546a532",
   "metadata": {},
   "outputs": [
    {
     "name": "stdout",
     "output_type": "stream",
     "text": [
      "[[1, 1, 1], [1, 0, 0], [1, 0, 0], [1, 0, 0], [1, 0, 0]]\n",
      "3\n"
     ]
    }
   ],
   "source": [
    "# Longest Common Subsequence\n",
    "A = \"abcde\"\n",
    "B = \"ace\"\n",
    "dp = []\n",
    "for i in range(len(A)):\n",
    "    temp = []\n",
    "    for j in range(len(B)):\n",
    "        temp.append(0)\n",
    "    dp.append(temp)\n",
    "n = len(A)\n",
    "m = len(B)\n",
    "if(A[0]==B[0]):\n",
    "    dp[0][0] = 1\n",
    "for i in range(1,len(A)):\n",
    "    if(A[i]==B[0]):\n",
    "        dp[i][0] = 1\n",
    "    else:\n",
    "        dp[i][0] = dp[i-1][0]\n",
    "\n",
    "for i in range(1,len(B)):\n",
    "    if(B[i]==A[0]):\n",
    "        dp[0][i] = 1\n",
    "    else:\n",
    "        dp[0][i] = dp[0][i-1]\n",
    "# print(dp)\n",
    "i = 1\n",
    "j = 1\n",
    "print(dp)\n",
    "for i in range(1,n):\n",
    "    for j in range(1,m):\n",
    "        if(A[i]==B[j]):\n",
    "            dp[i][j] = 1+dp[i-1][j-1]\n",
    "        else:\n",
    "            dp[i][j] = max(dp[i-1][j],dp[i][j-1])\n",
    "print(dp[n-1][m-1])"
   ]
  },
  {
   "cell_type": "code",
   "execution_count": 195,
   "id": "c6ab8d06",
   "metadata": {},
   "outputs": [
    {
     "data": {
      "text/plain": [
       "3"
      ]
     },
     "execution_count": 195,
     "metadata": {},
     "output_type": "execute_result"
    }
   ],
   "source": [
    "# Distinct Subsequences\n",
    "\n",
    "def subsequence(A,B,i,j,dp):\n",
    "    if(dp[i][j]!=-1):\n",
    "        return dp[i][j]\n",
    "    if(j==0):\n",
    "        dp[i][j] = 1\n",
    "    elif(i==0):\n",
    "        dp[i][j] = 0\n",
    "    else:\n",
    "        if(A[i-1]!=B[j-1]):\n",
    "            dp[i][j] = subsequence(A,B,i-1,j,dp)\n",
    "        else:\n",
    "            dp[i][j] = subsequence(A,B,i-1,j,dp)+subsequence(A,B,i-1,j-1,dp)\n",
    "            \n",
    "    return dp[i][j]\n",
    "\n",
    "A = \"rabbbit\" \n",
    "B = \"rabbit\"\n",
    "n = len(A)\n",
    "m = len(B)\n",
    "dp = [[-1]*(m+1) for _ in range(n+1)]\n",
    "subsequence(A,B,n,m,dp)"
   ]
  },
  {
   "cell_type": "code",
   "execution_count": 199,
   "id": "6ac268cc",
   "metadata": {},
   "outputs": [
    {
     "name": "stdout",
     "output_type": "stream",
     "text": [
      "[2, 3, 6, 8]\n"
     ]
    }
   ],
   "source": [
    "# Max Sum Without Adjacent Elements\n",
    "A = [   \n",
    "        [1, 2, 3, 4],\n",
    "        [2, 3, 4, 5]    \n",
    "     ]\n",
    "B = []\n",
    "n = len(A[0])\n",
    "for i in range(n):\n",
    "    B.append(max(A[0][i],A[1][i]))\n",
    "dp = [-1]*n\n",
    "dp[0] = B[0]\n",
    "if(n>1):\n",
    "    dp[1] = max(dp[0],B[1])\n",
    "for i in range(2,n):\n",
    "    dp[i] = max(dp[i-1],dp[i-2]+B[i])\n",
    "print(dp)"
   ]
  },
  {
   "cell_type": "code",
   "execution_count": 359,
   "id": "87a65590",
   "metadata": {},
   "outputs": [
    {
     "name": "stdout",
     "output_type": "stream",
     "text": [
      "[[0, 0, 0, 0, 0, 0], [-1, -1, -1, -1, -1, -1], [-1, -1, -1, -1, -1, -1], [-1, -1, -1, -1, -1, -1], [-1, -1, -1, -1, -1, -1]] 0\n",
      "[[0, 0, 0, 0, 0, 0], [0, 6, 6, 6, 6, 6], [-1, -1, -1, -1, -1, -1], [-1, -1, -1, -1, -1, -1], [-1, -1, -1, -1, -1, -1]] 1\n",
      "[[0, 0, 0, 0, 0, 0], [0, 6, 6, 6, 6, 6], [0, 6, 10, 16, 16, 16], [-1, -1, -1, -1, -1, -1], [-1, -1, -1, -1, -1, -1]] 2\n",
      "[[0, 0, 0, 0, 0, 0], [0, 6, 6, 6, 6, 6], [0, 6, 10, 16, 16, 16], [0, 6, 10, 16, 18, 22], [-1, -1, -1, -1, -1, -1]] 3\n",
      "[[0, 0, 0, 0, 0, 0], [0, 6, 6, 6, 6, 6], [0, 6, 10, 16, 16, 16], [0, 6, 10, 16, 18, 22], [0, 6, 10, 16, 18, 22]] 4\n",
      "22\n"
     ]
    }
   ],
   "source": [
    "# 0-1 Knapsack\n",
    "A = [6, 10, 12,15]\n",
    "B = [1, 2, 3,4]\n",
    "C = 5\n",
    "# B = [3,6,5,2,4]\n",
    "# A = [12,20,15,6,10]\n",
    "# C = 8\n",
    "# A = [10, 20, 30, 40]\n",
    "# B = [12, 13, 15, 19]\n",
    "# C = 10\n",
    "dp = []\n",
    "n = len(A)\n",
    "for i in range(n+1):\n",
    "    temp = []\n",
    "    for j in range(C+1):\n",
    "        temp.append(-1)\n",
    "    dp.append(temp)\n",
    "    \n",
    "for i in range(len(dp)):\n",
    "    for j in range(len(dp[0])):\n",
    "        if(i==0 or j==0):\n",
    "            dp[i][j] = 0\n",
    "            continue\n",
    "        else:\n",
    "            rejection = dp[i-1][j]\n",
    "            selection = 0\n",
    "            if(j-B[i-1]>=0):\n",
    "                selection = A[i-1]+dp[i-1][j-B[i-1]]\n",
    "            dp[i][j] = max(selection,rejection)\n",
    "    print(dp,i)\n",
    "print(dp[n][C])"
   ]
  },
  {
   "cell_type": "code",
   "execution_count": 241,
   "id": "3b03e929",
   "metadata": {},
   "outputs": [
    {
     "name": "stdout",
     "output_type": "stream",
     "text": [
      "[0, 0, 0, 0, 0, 0, 0, 0, 0, 0, 0]\n",
      "[0, 0, 0, 0, 0, 0, 0, 0, 0, 0, 5]\n"
     ]
    }
   ],
   "source": [
    "# Unbounded Knapsack\n",
    "# A = 10\n",
    "# B = [6, 7]\n",
    "# C = [5, 5]\n",
    "A = 10\n",
    "B = [5]\n",
    "C = [10]\n",
    "dp = []\n",
    "n = len(B)\n",
    "for i in range(A+1):\n",
    "    dp.append(0)\n",
    "print(dp)\n",
    "for i in range(A+1):\n",
    "    maxi = 0\n",
    "    for j in range(n):\n",
    "        if(i-C[j]>=0):\n",
    "            maxi = max(maxi,B[j]+dp[i-C[j]])\n",
    "    dp[i] = maxi\n",
    "print(dp)"
   ]
  },
  {
   "cell_type": "code",
   "execution_count": 248,
   "id": "704e701c",
   "metadata": {},
   "outputs": [
    {
     "name": "stdout",
     "output_type": "stream",
     "text": [
      "[0, 0, 0, 0, 0, 0, 0, 0, 0, 0, 10, 10, 10, 10, 10, 10, 10, 10, 10, 10, 20, 20, 20, 20, 20, 20, 20, 20, 20, 20, 30, 30, 30, 30, 30, 30, 30, 30, 30, 30, 40, 40, 40, 40, 40, 40, 40, 40, 40, 40, 50, 50, 50, 50, 50, 50, 50, 50, 50, 50, 60, 60, 60, 60, 60, 60, 60, 60, 60, 60, 70, 70, 70, 70, 70, 70, 70, 70, 70, 70, 80, 80, 80, 80, 80, 80, 80, 80, 80, 80, 90, 90, 90, 90, 90, 90, 90, 90, 90, 90]\n"
     ]
    }
   ],
   "source": [
    "# Buying Candies\n",
    "# A = [1, 2, 3]\n",
    "# B = [2, 2, 10]\n",
    "# C = [2, 3, 9]\n",
    "# D = 8\n",
    "A = [2]\n",
    "B = [5]\n",
    "C = [10]\n",
    "D = 99\n",
    "ps = []\n",
    "for i in range(len(A)):\n",
    "    ps.append(A[i]*B[i])\n",
    "n = len(A)\n",
    "dp = []\n",
    "for i in range(D+1):\n",
    "    dp.append(0)\n",
    "for i in range(D+1):\n",
    "    maxi = 0\n",
    "    for j in range(n):\n",
    "        if(i-C[j]>=0):\n",
    "            maxi = max(maxi,ps[j]+dp[i-C[j]])\n",
    "    dp[i] = maxi\n",
    "print(dp)"
   ]
  },
  {
   "cell_type": "code",
   "execution_count": 267,
   "id": "d6d114f6",
   "metadata": {},
   "outputs": [
    {
     "name": "stdout",
     "output_type": "stream",
     "text": [
      "[0, 10, 2, 1, 4, 3] 20\n"
     ]
    }
   ],
   "source": [
    "# Tushar's Birthday Party\n",
    "# A = [2, 4, 6]\n",
    "# B = [2, 1, 3]\n",
    "# C = [2, 5, 3]\n",
    "A = [ 2, 3, 1, 5, 4 ]\n",
    "B = [ 3, 2, 4, 1 ]\n",
    "C = [ 1, 2, 5, 10 ]\n",
    "num = max(A)\n",
    "dp = []\n",
    "n = len(B)\n",
    "for i in range(num+1):\n",
    "    dp.append(0)\n",
    "for i in range(num+1):\n",
    "    mini = float('inf')\n",
    "    for j in range(n):\n",
    "        if(i-B[j]>=0):\n",
    "            mini = min(mini,C[j]+dp[i-B[j]])\n",
    "    if(mini == float('inf')):\n",
    "        dp[i] = 0\n",
    "    else:\n",
    "        dp[i] = mini\n",
    "ans = 0\n",
    "for i in A:\n",
    "    ans += dp[i]\n",
    "print(dp,ans)"
   ]
  },
  {
   "cell_type": "code",
   "execution_count": 270,
   "id": "8b3ad28f",
   "metadata": {},
   "outputs": [
    {
     "name": "stdout",
     "output_type": "stream",
     "text": [
      "3\n"
     ]
    }
   ],
   "source": [
    "# Ways to send the signal\n",
    "A = 2\n",
    "a = 1\n",
    "b = 2\n",
    "for i in range(2,A+1):\n",
    "    c = a+b\n",
    "    a = b\n",
    "    b = c\n",
    "print(c)"
   ]
  },
  {
   "cell_type": "code",
   "execution_count": 294,
   "id": "691d6f54",
   "metadata": {},
   "outputs": [
    {
     "name": "stdout",
     "output_type": "stream",
     "text": [
      "[[0, 1, 2, 3, 4, 5, 6, 7, 8, 9], [1, 0, 1, 2, 3, 4, 5, 6, 7, 8], [2, 1, 0, 1, 2, 3, 4, 5, 6, 7], [3, 2, 1, 1, 2, 3, 4, 5, 6, 7], [4, 3, 2, 2, 2, 2, 3, 4, 5, 6], [5, 4, 3, 3, 3, 3, 2, 3, 4, 5], [6, 5, 4, 4, 4, 4, 3, 2, 3, 4], [7, 6, 5, 5, 5, 5, 4, 3, 2, 3], [8, 7, 6, 6, 6, 6, 5, 4, 3, 2]]\n"
     ]
    }
   ],
   "source": [
    "# Edit Distance\n",
    "A = 'Anshuman'\n",
    "B = 'Antihuman'\n",
    "n=len(A)\n",
    "m=len(B)\n",
    "dp=[[-1 for j in range(m+1)] for i in range(n+1)]\n",
    "for i in range(n+1):\n",
    "    for j in range(m+1):\n",
    "        if i == 0:\n",
    "            dp[i][j] = j\n",
    "            continue\n",
    "        elif j == 0:\n",
    "            dp[i][j] = i\n",
    "            continue\n",
    "        if A[i-1] == B[j-1]:\n",
    "            dp[i][j] = dp[i-1][j-1]\n",
    "        else:\n",
    "            dp[i][j] = 1 + min(dp[i-1][j], dp[i-1][j-1], dp[i][j-1])\n",
    "print(dp)"
   ]
  },
  {
   "cell_type": "code",
   "execution_count": 303,
   "id": "a8500ac8",
   "metadata": {},
   "outputs": [
    {
     "name": "stdout",
     "output_type": "stream",
     "text": [
      "11\n"
     ]
    }
   ],
   "source": [
    "# Cutting a Rod\n",
    "# A = [3, 4, 1, 6, 2]\n",
    "A = [1, 5, 2, 5, 6]\n",
    "dp = []\n",
    "n = len(A)\n",
    "for i in range(n+1):\n",
    "    dp.append(0)\n",
    "for i in range(1,n+1):\n",
    "    val = A[i-1]\n",
    "    for j in range(1,i//2+1):\n",
    "        val = max(val,dp[j]+dp[i-j])\n",
    "    dp[i] = val\n",
    "print(dp[n])"
   ]
  },
  {
   "cell_type": "code",
   "execution_count": 317,
   "id": "de107112",
   "metadata": {},
   "outputs": [
    {
     "name": "stdout",
     "output_type": "stream",
     "text": [
      "[1, 1, 1, 1, 1]\n",
      "[1, 1, 2, 2, 3]\n",
      "[1, 1, 2, 3, 4]\n",
      "[1, 1, 2, 3, 4]\n"
     ]
    }
   ],
   "source": [
    "# Coin Sum Infinite\n",
    "A = [1,2,3]\n",
    "B = 4\n",
    "dp = []\n",
    "for i in range(B+1):\n",
    "    dp.append(0)\n",
    "dp[0] = 1\n",
    "for a in A:\n",
    "    for i in range(a,B+1):\n",
    "        dp[i] += dp[i-a]\n",
    "    print(dp)\n",
    "print(dp)"
   ]
  },
  {
   "cell_type": "code",
   "execution_count": 404,
   "id": "ee2ab70b",
   "metadata": {},
   "outputs": [
    {
     "data": {
      "text/plain": [
       "27"
      ]
     },
     "execution_count": 404,
     "metadata": {},
     "output_type": "execute_result"
    }
   ],
   "source": [
    "# 0-1 Knapsack II\n",
    "\n",
    "def knapsack(dp,i,j,B):\n",
    "    if(dp[i][j]!=-1):\n",
    "        return dp[i][j]\n",
    "    elif(i==0 or j==0):\n",
    "        dp[i][j] = 0\n",
    "        return dp[i][j]\n",
    "    else:\n",
    "        rejection = knapsack(dp,i-1,j,B)\n",
    "        selection = 0\n",
    "        if(j-B[i-1]>=0):\n",
    "            selection = A[i-1]+knapsack(dp,i-1,j-B[i-1],B)\n",
    "        dp[i][j] = max(selection,rejection)\n",
    "        return dp[i][j]\n",
    "\n",
    "\n",
    "# A = [2, 3, 4]\n",
    "# B = [1, 2, 3]\n",
    "# C = 5\n",
    "# A = [ 18, 35, 1, 20, 25, 29, 9, 13, 15, 6, 46, 32, 28, 12, 42, 46, 43, 28, 37, 42, 5, 3, 4, 43, 33, 22, 17, 19, 46, 48, 27, 22, 39, 20, 13, 18, 50, 36, 45, 4, 12, 23, 34, 24, 15, 42, 12, 4, 19, 48, 45, 13, 8, 38, 10, 24, 42, 30, 29, 17, 36, 41, 43, 39, 7, 41, 43, 15, 49, 47, 6, 41, 30, 21, 1, 7, 2, 44, 49, 30, 24, 35, 5, 7, 41, 17, 27, 32, 9, 45, 40, 27, 24, 38, 39, 19, 33, 30, 42, 34, 16, 40, 9, 5, 31, 28, 7, 24, 37, 22, 46, 25, 23, 21, 30, 28, 24, 48, 13, 37, 41, 12, 37, 6, 18, 6, 25, 32, 3, 1, 1, 42, 25, 17, 31, 8, 42, 8, 38, 8, 38 ]\n",
    "# B = [ 3652, 5620, 2574, 3471, 3957, 4692, 4855, 3740, 991, 5446, 5089, 2066, 4314, 1740, 2476, 1798, 4994, 3206, 5406, 4370, 3471, 3350, 5458, 6175, 4982, 4908, 3504, 4251, 3804, 893, 5139, 3420, 3263, 2234, 2851, 1815, 5971, 1644, 3276, 1454, 2193, 1766, 4670, 1177, 2712, 1593, 5798, 3759, 4293, 5488, 5232, 4670, 2768, 5252, 1561, 5195, 3396, 206, 5801, 5381, 4786, 3923, 2488, 4077, 1170, 3607, 2707, 4420, 5189, 1150, 2848, 4085, 1618, 1004, 5853, 1801, 4675, 2103, 4535, 5587, 3603, 4176, 4239, 5384, 3981, 1067, 5498, 4585, 5126, 5766, 2509, 3762, 3696, 3845, 5401, 4180, 1494, 1705, 4219, 3584, 252, 1672, 4467, 5470, 5473, 1460, 1743, 1637, 1292, 2491, 1367, 1531, 4693, 5524, 1604, 2675, 3483, 5577, 1390, 5271, 2833, 931, 3553, 3622, 2825, 3333, 4988, 3127, 451, 3774, 5249, 1886, 3543, 2042, 3272, 2971, 3624, 4364, 3204, 5095, 4711 ]\n",
    "# C = 809580\n",
    "B = [3,6,5,2,4]\n",
    "A = [12,20,15,6,10]\n",
    "C = 8\n",
    "# A = [10, 20, 30, 40]\n",
    "# B = [12, 13, 15, 19]\n",
    "# C = 10\n",
    "n = len(A)\n",
    "dp = []\n",
    "for i in range(n+1):\n",
    "    temp = []\n",
    "    for j in range(C+1):\n",
    "        temp.append(-1)\n",
    "    dp.append(temp)\n",
    "knapsack(dp,n,C,B)\n",
    "# print(dp)"
   ]
  },
  {
   "cell_type": "code",
   "execution_count": 380,
   "id": "38d82baf",
   "metadata": {},
   "outputs": [
    {
     "name": "stdout",
     "output_type": "stream",
     "text": [
      "4 4\n",
      "[[0, 0, 0, 0, 0, 0, 0, 0, 0, 0, 0], [-1, -1, -1, -1, -1, -1, -1, -1, -1, -1, -1]] 0\n",
      "[[0, 0, 0, 0, 0, 0, 0, 0, 0, 0, 0], [0, 0, 0, 0, 0, 0, 0, 0, 0, 0, 0]] 1\n",
      "[[0, 0, 0, 0, 0, 0, 0, 0, 0, 0, 0], [0, 0, 0, 0, 0, 0, 0, 0, 0, 0, 0]] 2\n",
      "[[0, 0, 0, 0, 0, 0, 0, 0, 0, 0, 0], [0, 0, 0, 0, 0, 0, 0, 0, 0, 0, 0]] 3\n",
      "[[0, 0, 0, 0, 0, 0, 0, 0, 0, 0, 0], [0, 0, 0, 0, 0, 0, 0, 0, 0, 0, 0]] 4\n",
      "0\n"
     ]
    }
   ],
   "source": [
    "# 0-1 Knapsack II space optimized\n",
    "\n",
    "A = [10, 20, 30, 40]\n",
    "B = [12, 13, 15, 19]\n",
    "C = 10\n",
    "# A = [60, 100, 120]\n",
    "# B = [1, 2, 3]\n",
    "# C = 5\n",
    "# A = [ 18, 35, 1, 20, 25, 29, 9, 13, 15, 6, 46, 32, 28, 12, 42, 46, 43, 28, 37, 42, 5, 3, 4, 43, 33, 22, 17, 19, 46, 48, 27, 22, 39, 20, 13, 18, 50, 36, 45, 4, 12, 23, 34, 24, 15, 42, 12, 4, 19, 48, 45, 13, 8, 38, 10, 24, 42, 30, 29, 17, 36, 41, 43, 39, 7, 41, 43, 15, 49, 47, 6, 41, 30, 21, 1, 7, 2, 44, 49, 30, 24, 35, 5, 7, 41, 17, 27, 32, 9, 45, 40, 27, 24, 38, 39, 19, 33, 30, 42, 34, 16, 40, 9, 5, 31, 28, 7, 24, 37, 22, 46, 25, 23, 21, 30, 28, 24, 48, 13, 37, 41, 12, 37, 6, 18, 6, 25, 32, 3, 1, 1, 42, 25, 17, 31, 8, 42, 8, 38, 8, 38 ]\n",
    "# B = [ 3652, 5620, 2574, 3471, 3957, 4692, 4855, 3740, 991, 5446, 5089, 2066, 4314, 1740, 2476, 1798, 4994, 3206, 5406, 4370, 3471, 3350, 5458, 6175, 4982, 4908, 3504, 4251, 3804, 893, 5139, 3420, 3263, 2234, 2851, 1815, 5971, 1644, 3276, 1454, 2193, 1766, 4670, 1177, 2712, 1593, 5798, 3759, 4293, 5488, 5232, 4670, 2768, 5252, 1561, 5195, 3396, 206, 5801, 5381, 4786, 3923, 2488, 4077, 1170, 3607, 2707, 4420, 5189, 1150, 2848, 4085, 1618, 1004, 5853, 1801, 4675, 2103, 4535, 5587, 3603, 4176, 4239, 5384, 3981, 1067, 5498, 4585, 5126, 5766, 2509, 3762, 3696, 3845, 5401, 4180, 1494, 1705, 4219, 3584, 252, 1672, 4467, 5470, 5473, 1460, 1743, 1637, 1292, 2491, 1367, 1531, 4693, 5524, 1604, 2675, 3483, 5577, 1390, 5271, 2833, 931, 3553, 3622, 2825, 3333, 4988, 3127, 451, 3774, 5249, 1886, 3543, 2042, 3272, 2971, 3624, 4364, 3204, 5095, 4711 ]\n",
    "# C = 809580\n",
    "\n",
    "dp = []\n",
    "n = len(A)\n",
    "for i in range(2):\n",
    "    temp = []\n",
    "    for j in range(C+1):\n",
    "        temp.append(-1)\n",
    "    dp.append(temp)\n",
    "print(len(A),len(B))\n",
    "i = 0\n",
    "while(i<=n):\n",
    "    for j in range(len(dp[0])):\n",
    "        if(i==0 or j==0):\n",
    "            dp[i%2][j] = 0\n",
    "            continue\n",
    "        else:\n",
    "            rejection = dp[(i-1)%2][j]\n",
    "            selection = 0\n",
    "            if(j-B[i-1]>=0):\n",
    "                selection = A[i-1]+dp[(i-1)%2][j-B[i-1]]\n",
    "            dp[(i%2)][j] = max(selection,rejection)\n",
    "    print(dp,i)\n",
    "    i += 1\n",
    "print(dp[1][C])"
   ]
  },
  {
   "cell_type": "code",
   "execution_count": 420,
   "id": "50ee2bbf",
   "metadata": {},
   "outputs": [
    {
     "name": "stdout",
     "output_type": "stream",
     "text": [
      "[[0, inf, inf, inf, inf, inf, inf, inf, inf, inf], [0, inf, 1, inf, inf, inf, inf, inf, inf, inf], [0, inf, 1, 2, inf, 3, inf, inf, inf, inf], [0, inf, 1, 2, 3, 3, 4, 5, inf, 6]]\n",
      "5 7\n",
      "4 6\n",
      "3 5\n",
      "3 4\n",
      "2 3\n",
      "1 2\n",
      "0 0\n",
      "0\n"
     ]
    }
   ],
   "source": [
    "# 0-1 Knapsack II using values\n",
    "val = [2,3,4]\n",
    "wt = [1,2,3]\n",
    "C = 5\n",
    "# val = [60, 100, 120]\n",
    "# wt = [1, 2, 3]\n",
    "# C = 5\n",
    "# val = [10, 20, 30, 40]\n",
    "# wt = [12, 13, 15, 19]\n",
    "# C = 10\n",
    "# wt = [3,6,5,2,4]\n",
    "# val = [12,20,15,6,10]\n",
    "# C = 8\n",
    "n = len(val)\n",
    "max_val = sum(val)\n",
    "dp = [[-1 for j in range(max_val+1)]for i in range(n+1)]\n",
    "for i in range(n+1):\n",
    "    for j in range(max_val+1):\n",
    "        if(i==0 and j==0):\n",
    "            dp[i][j] = 0\n",
    "        elif(i==0):\n",
    "            dp[i][j] = float('inf')\n",
    "        elif(j==0):\n",
    "            dp[i][j] = 0\n",
    "        else:\n",
    "#             dp[i][j] = min(dp[i-1][j],wt[i-1]+dp[i-1][j-val[i-1]])\n",
    "            rejection = dp[i-1][j]\n",
    "            selection = float('inf')\n",
    "            if(j-val[i-1]>=0):\n",
    "                selection = wt[i-1]+dp[i-1][j-val[i-1]]\n",
    "            dp[i][j] = min(selection,rejection)\n",
    "print(dp)\n",
    "for val in range(max_val,-1,-1):\n",
    "    if(dp[n][val]<=C):\n",
    "        ans = val\n",
    "        print(dp[n][val],val)\n",
    "print(ans)"
   ]
  },
  {
   "cell_type": "code",
   "execution_count": 429,
   "id": "1d4b5427",
   "metadata": {},
   "outputs": [
    {
     "name": "stdout",
     "output_type": "stream",
     "text": [
      "1\n"
     ]
    }
   ],
   "source": [
    "# Flip Array\n",
    "A = [15, 10, 6]\n",
    "summ = sum(A)\n",
    "req_sum = summ//2\n",
    "n = len(A)\n",
    "dp = [[-1 for i in range(req_sum+1)]for j in range(n+1)]\n",
    "for i in range(n+1):\n",
    "    for j in range(req_sum+1):\n",
    "        if(j==0):\n",
    "            dp[i][j] = 0\n",
    "            continue\n",
    "        elif(i==0):\n",
    "            dp[i][j] = float('inf')\n",
    "        else:\n",
    "            rejection = dp[i-1][j]\n",
    "            selection = float('inf')\n",
    "            if(j-A[i-1]>=0):\n",
    "                selection = 1 + dp[i-1][j-A[i-1]]\n",
    "            dp[i][j] = min(selection,rejection)\n",
    "k = req_sum\n",
    "while(dp[n][k]==float('inf')):\n",
    "    k -= 1\n",
    "print(dp[n][k])"
   ]
  },
  {
   "cell_type": "code",
   "execution_count": 2,
   "id": "8d04c6e3",
   "metadata": {},
   "outputs": [
    {
     "ename": "KeyboardInterrupt",
     "evalue": "",
     "output_type": "error",
     "traceback": [
      "\u001b[0;31m---------------------------------------------------------------------------\u001b[0m",
      "\u001b[0;31mKeyboardInterrupt\u001b[0m                         Traceback (most recent call last)",
      "\u001b[0;32m/var/folders/sp/db53lvqn0yj19k4cjcz37j5h0000gn/T/ipykernel_33419/2919596612.py\u001b[0m in \u001b[0;36m<module>\u001b[0;34m\u001b[0m\n\u001b[1;32m      9\u001b[0m \u001b[0mStr\u001b[0m \u001b[0;34m=\u001b[0m \u001b[0;34m[\u001b[0m\u001b[0mi\u001b[0m \u001b[0;32mfor\u001b[0m \u001b[0mi\u001b[0m \u001b[0;32min\u001b[0m \u001b[0ms\u001b[0m\u001b[0;34m]\u001b[0m\u001b[0;34m\u001b[0m\u001b[0;34m\u001b[0m\u001b[0m\n\u001b[1;32m     10\u001b[0m \u001b[0mh\u001b[0m \u001b[0;34m=\u001b[0m \u001b[0mlen\u001b[0m\u001b[0;34m(\u001b[0m\u001b[0ms\u001b[0m\u001b[0;34m)\u001b[0m\u001b[0;34m-\u001b[0m\u001b[0;36m1\u001b[0m\u001b[0;34m\u001b[0m\u001b[0;34m\u001b[0m\u001b[0m\n\u001b[0;32m---> 11\u001b[0;31m \u001b[0mcheck_pal\u001b[0m\u001b[0;34m(\u001b[0m\u001b[0mStr\u001b[0m\u001b[0;34m,\u001b[0m\u001b[0;36m0\u001b[0m\u001b[0;34m,\u001b[0m\u001b[0mh\u001b[0m\u001b[0;34m)\u001b[0m\u001b[0;34m\u001b[0m\u001b[0;34m\u001b[0m\u001b[0m\n\u001b[0m",
      "\u001b[0;32m/var/folders/sp/db53lvqn0yj19k4cjcz37j5h0000gn/T/ipykernel_33419/2919596612.py\u001b[0m in \u001b[0;36mcheck_pal\u001b[0;34m(s, l, h)\u001b[0m\n\u001b[1;32m      1\u001b[0m \u001b[0;32mdef\u001b[0m \u001b[0mcheck_pal\u001b[0m\u001b[0;34m(\u001b[0m\u001b[0ms\u001b[0m\u001b[0;34m,\u001b[0m\u001b[0ml\u001b[0m\u001b[0;34m,\u001b[0m\u001b[0mh\u001b[0m\u001b[0;34m)\u001b[0m\u001b[0;34m:\u001b[0m\u001b[0;34m\u001b[0m\u001b[0;34m\u001b[0m\u001b[0m\n\u001b[1;32m      2\u001b[0m     \u001b[0;32mwhile\u001b[0m \u001b[0;34m(\u001b[0m\u001b[0mh\u001b[0m \u001b[0;34m>\u001b[0m \u001b[0ml\u001b[0m\u001b[0;34m)\u001b[0m\u001b[0;34m:\u001b[0m\u001b[0;34m\u001b[0m\u001b[0;34m\u001b[0m\u001b[0m\n\u001b[0;32m----> 3\u001b[0;31m         \u001b[0;32mif\u001b[0m \u001b[0;34m(\u001b[0m\u001b[0mStr\u001b[0m\u001b[0;34m[\u001b[0m\u001b[0ml\u001b[0m\u001b[0;34m]\u001b[0m \u001b[0;34m!=\u001b[0m \u001b[0mStr\u001b[0m\u001b[0;34m[\u001b[0m\u001b[0mh\u001b[0m\u001b[0;34m]\u001b[0m\u001b[0;34m)\u001b[0m\u001b[0;34m:\u001b[0m\u001b[0;34m\u001b[0m\u001b[0;34m\u001b[0m\u001b[0m\n\u001b[0m\u001b[1;32m      4\u001b[0m             \u001b[0ml\u001b[0m \u001b[0;34m+=\u001b[0m \u001b[0;36m1\u001b[0m\u001b[0;34m\u001b[0m\u001b[0;34m\u001b[0m\u001b[0m\n\u001b[1;32m      5\u001b[0m             \u001b[0mh\u001b[0m \u001b[0;34m-=\u001b[0m \u001b[0;36m1\u001b[0m\u001b[0;34m\u001b[0m\u001b[0;34m\u001b[0m\u001b[0m\n",
      "\u001b[0;31mKeyboardInterrupt\u001b[0m: "
     ]
    }
   ],
   "source": [
    "def check_pal(s,l,h):\n",
    "    while (h > l):\n",
    "        if (Str[l] != Str[h]):\n",
    "            l += 1\n",
    "            h -= 1\n",
    "            return False\n",
    "    return True\n",
    "s = 'ABCCCBA'\n",
    "Str = [i for i in s]\n",
    "h = len(s)-1\n",
    "check_pal(Str,0,h)"
   ]
  },
  {
   "cell_type": "code",
   "execution_count": 35,
   "id": "228f9eb7",
   "metadata": {},
   "outputs": [
    {
     "name": "stdout",
     "output_type": "stream",
     "text": [
      "['A', 'B', 'C', 'C', 'B', 'A'] 6\n",
      "Repeated Subsequence Doesn't Exists\n"
     ]
    }
   ],
   "source": [
    "# Repeating Subsequence\n",
    "MAX_CHAR = 256\n",
    "def isPalindrome(Str, l, h):\n",
    "    while (h > l):\n",
    "        if (Str[l] == Str[h]):\n",
    "            l += 1\n",
    "            h -= 1\n",
    "        else:\n",
    "            return False\n",
    "    return True\n",
    "def check(Str):\n",
    "    n = len(Str)\n",
    "    freq = [0 for i in range(MAX_CHAR)]\n",
    "    for i in range(n):\n",
    "        freq[ord(Str[i])] += 1\n",
    "        if (freq[ord(Str[i])] > 2):\n",
    "            return True\n",
    "    k = 0\n",
    "    for i in range(n):\n",
    "        if (freq[ord(Str[i])] > 1):\n",
    "            Str[k] = Str[i]\n",
    "            k += 1\n",
    "    if(k<n):\n",
    "        Str[k] = '\\0'\n",
    "    print(Str,k)\n",
    "    if (isPalindrome(Str, 0, k - 1)):\n",
    "        if (k & 1):\n",
    "            return Str[k // 2] == Str[k // 2 - 1]\n",
    "        return False\n",
    "    return True\n",
    "S = 'ABCCBA'\n",
    "Str = [i for i in S]\n",
    "if (check(Str)):\n",
    "    print(\"Repeated Subsequence Exists\")\n",
    "else:\n",
    "    print(\"Repeated Subsequence Doesn't Exists\")"
   ]
  },
  {
   "cell_type": "code",
   "execution_count": 39,
   "id": "b9402167",
   "metadata": {},
   "outputs": [
    {
     "name": "stdout",
     "output_type": "stream",
     "text": [
      "[[0, 0, 0, 0, 0, 0, 0, 0], [0, 0, 0, 0, 0, 0, 0, 1], [0, 0, 0, 0, 0, 0, 1, 1], [0, 0, 0, 0, 1, 1, 1, 1], [0, 0, 0, 1, 1, 2, 2, 2], [0, 0, 0, 1, 2, 2, 2, 2], [0, 0, 1, 1, 2, 2, 2, 2], [0, 1, 1, 1, 2, 2, 2, 2]]\n",
      "1\n"
     ]
    }
   ],
   "source": [
    "# Repeating Subsequence using DP O(N^2)\n",
    "S = 'ABCCCBA'\n",
    "n = len(S)\n",
    "dp = [[-1 for i in range(n+1)]for j in range(n+1)]\n",
    "for i in range(n+1):\n",
    "    for j in range(n+1):\n",
    "        if(i==0 or j==0):\n",
    "            dp[i][j] = 0\n",
    "        elif(S[i-1]==S[j-1] and i!=j):\n",
    "            dp[i][j] = dp[i-1][j-1]+1\n",
    "        else:\n",
    "            dp[i][j] = max(dp[i-1][j],dp[i][j-1])\n",
    "print(dp)\n",
    "if(dp[n][n]>1):\n",
    "    print(1)\n",
    "else:\n",
    "    print(0)"
   ]
  },
  {
   "cell_type": "code",
   "execution_count": 52,
   "id": "04e7ebcb",
   "metadata": {},
   "outputs": [
    {
     "name": "stdout",
     "output_type": "stream",
     "text": [
      "492\n"
     ]
    }
   ],
   "source": [
    "# Dice throw\n",
    "A = 10\n",
    "dp = [0]*(A+1)\n",
    "dp[0] = 1\n",
    "dp[1] = 1\n",
    "for i in range(2,A+1):\n",
    "    s = 0\n",
    "    for j in range(i+1):\n",
    "        if(j>6):\n",
    "            break\n",
    "        else:\n",
    "            s = s+dp[i-j]\n",
    "    dp[i] = s\n",
    "print(dp[A])"
   ]
  },
  {
   "cell_type": "code",
   "execution_count": 77,
   "id": "b3fb102f",
   "metadata": {},
   "outputs": [
    {
     "name": "stdout",
     "output_type": "stream",
     "text": [
      "60\n"
     ]
    }
   ],
   "source": [
    "# Longest Increasing Subsequence\n",
    "\n",
    "def lcs(A,i,dp,n):\n",
    "    if(i==0):\n",
    "        return 1\n",
    "    if(i==n):\n",
    "        return dp\n",
    "    if(dp[i]!=-1):\n",
    "        return dp[i]\n",
    "    C = 1\n",
    "    for j in range(0,i):\n",
    "        if(A[j]<A[i]):\n",
    "            C = max(C,lcs(A,j,dp,n)+1)\n",
    "    dp[i] = C\n",
    "    lcs(A,i+1,dp,n)\n",
    "    return dp\n",
    "\n",
    "\n",
    "# A = [0, 8, 4, 12, 2, 10, 6, 14, 1, 9, 5, 13, 3, 11, 7, 15]\n",
    "# A = [10,3,12,7,2,9,11,20,11,13,6,8]\n",
    "A = [ 1239, 1182, 1147, 714, 226, 25, 1301, 317, 207, 1089, 1317, 989, 946, 692, 1653, 299, 1344, 1567, 10, 1161, 1907, 1366, 933, 725, 573, 1408, 559, 1188, 107, 1798, 1264, 21, 837, 1445, 1964, 973, 1657, 108, 1746, 1963, 1760, 855, 339, 85, 604, 506, 358, 660, 915, 120, 177, 833, 1339, 563, 1174, 1108, 1311, 51, 328, 143, 1064, 486, 729, 890, 1168, 800, 525, 774, 942, 1418, 871, 888, 151, 1223, 246, 694, 999, 868, 284, 1092, 386, 662, 1305, 1682, 479, 1374, 475, 704, 883, 960, 1942, 911, 330, 351, 504, 1238, 818, 146, 1350, 16, 517, 1083, 1157, 833, 1499, 1986, 1206, 1602, 761, 1915, 1281, 1154, 380, 890, 137, 1358, 1749, 138, 1456, 338, 1227, 461, 425, 1507, 1627, 465, 654, 1318, 351, 645, 1724, 64, 1990, 1194, 1777, 515, 1466, 1062, 612, 400, 1581, 1446, 591, 731, 299, 582, 1453, 375, 658, 1945, 179, 1238, 1260, 1466, 1831, 1033, 1577, 963, 32, 828, 1286, 579, 253, 462, 492, 589, 1799, 1602, 710, 1191, 1195, 1265, 1727, 1440, 365, 1434, 968, 1803, 797, 976, 1657, 1485, 1118, 632, 188, 357, 786, 260, 1942, 1047, 71, 711, 312, 1383, 1469, 529, 1073, 1915, 1768, 1609, 1142, 664, 1897, 1900, 501, 113, 1455, 1943, 639, 1160, 269, 851, 1400, 929, 779, 764, 1516, 1859, 70, 290, 636, 1139, 871, 1504, 1899, 1389, 629, 1058, 650, 101, 1938, 291, 602, 1235, 95, 818, 1485, 749, 1648, 259, 361, 620, 1900, 862, 1581, 769, 861, 581, 941, 553, 1737, 1849, 1407, 1283, 611, 70, 1021, 376, 258, 934, 567, 840, 19, 552, 774, 1016, 1132, 1488, 1461, 874, 1169, 1057, 144, 1098, 1226, 639, 457, 1267, 580, 1785, 1457, 1909, 251, 526, 1883, 1261, 707, 1901, 610, 272, 298, 480, 1080, 1034, 622, 838, 774, 688, 1637, 1735, 1773, 1122, 753, 1931, 3, 1036, 1222, 1171, 17, 1458, 2000, 790, 1447, 297, 1765, 192, 1056, 549, 454, 1870, 1494, 1749, 1204, 1607, 491, 442, 115, 407, 452, 83, 1948, 1224, 1148, 11, 1722, 367, 437, 634, 441, 1177, 577, 1975, 1386, 723, 1801, 251, 1594, 200, 647, 1430, 1690, 708, 1059, 223, 1804, 1657, 540, 1399, 1454, 1405, 1212, 1698, 606, 1127, 1407, 392, 1762, 773, 104, 17, 181, 264, 1164, 1610, 768, 1427, 397, 812, 1405, 1909, 437, 899, 1810, 1018, 394, 534, 1823, 1252, 1204, 41, 1335, 819, 1653, 1606, 1726, 622, 889, 166, 1925, 333, 782, 136, 645, 1295, 1927, 736, 60, 1528, 1665, 1649, 75, 1510, 789, 891, 1436, 564, 117, 353, 1028, 1871, 1649, 712, 1279, 242, 418, 1905, 1763, 211, 497, 1691, 968, 99, 677, 1200, 1573, 113, 518, 1351, 1877, 647, 1919, 798, 1763, 733, 1012, 1673, 939, 421, 263, 534, 230, 203, 305, 668, 1977, 594, 1530, 497, 2, 785, 773, 779, 317, 1041, 1643, 197, 1792, 113, 427, 142, 1601, 949, 286, 174, 1367, 1221, 740, 1947, 1153, 439, 1171, 118, 814, 1345, 1782, 1321, 1311, 1764, 557, 665, 378, 325, 1808, 608, 579, 660, 314, 341, 159, 1939, 1430, 1473, 946, 541, 521, 753, 451, 487, 969, 893, 364, 1741, 27, 1185, 1154, 1535, 126, 349, 959, 833, 98, 1905, 1979, 1248, 942, 1164, 1829, 1676, 718, 746, 1455, 574, 1534, 407, 1036, 861, 648, 1351, 1748, 1288, 1218, 1869, 1539, 636, 1419, 1663, 365, 430, 1307, 1273, 1300, 987, 1620, 53, 1481, 1537, 1962, 1704, 530, 668, 50, 690, 1980, 1041, 663, 1354, 775, 1722, 818, 1727, 342, 852, 358, 1403, 1379, 1280, 1098, 856, 512, 92, 1178, 958, 1778, 1695, 1265, 1204, 1389, 370, 732, 692, 540, 301, 1862, 1626, 1419, 505, 668, 1550, 1760, 768, 169, 104, 943, 859, 41, 1775, 1552, 1137, 601, 1375, 1046, 1906, 145, 894, 388, 1329, 315, 1693, 807, 893, 366, 1, 1123, 846, 812, 1513, 1532, 1244, 848, 769, 772, 1563, 775, 1103, 1412, 1085, 229, 442, 1727, 1275, 298, 1450, 77, 1703, 170, 864, 1633, 1609, 111, 1492, 141, 1237, 1812, 1189, 1529, 374, 783, 48, 905, 1977, 529, 1501, 1822, 633, 713, 779, 1830, 48, 90, 502, 1331, 341, 1233, 1020, 786, 623, 413, 1062, 1101, 1854, 462, 779, 479, 917, 70, 1304, 788, 598, 1009, 619, 407, 1693, 1235, 1731, 1129, 123, 1305, 1474, 473, 1783, 273, 1097, 1306, 955, 916, 884, 1513, 1537, 1352, 1702, 468, 1965, 920, 645, 1161, 1353, 1684, 1479, 293, 1572, 964, 496, 1316, 4, 1298, 173, 692, 1705, 429, 1190, 528, 1846, 1688, 427, 389, 1168, 1936, 763, 1456, 652, 1260, 911, 824, 1312, 492, 640, 1168, 1091, 1237, 514, 1357, 251, 823, 1288, 443, 1479, 143, 1763, 419, 241, 535, 1402, 1998, 1706, 1889, 1137, 615, 1097, 960, 635, 1786, 1670, 1465, 398, 1271, 143, 1067, 1889, 1803, 860, 200, 1971, 30, 1473, 963, 1368, 266, 1615, 459, 679, 528, 541, 567, 345, 578, 486, 996, 1457, 1819, 391, 1852, 1362, 646, 260, 1581, 735, 1564, 1166, 703, 1512, 396, 1152, 470, 1923, 640, 5, 330, 593, 740, 368, 117, 1318, 1485, 1279, 91, 1187, 20, 1847, 685, 895, 180, 907, 191, 1582, 731, 246, 408, 394, 394, 1656, 362, 1796, 709, 1056, 355, 1197, 87, 1521, 307, 1725, 501, 943, 1902, 103, 966, 1938, 29, 623, 1719, 1674, 59, 1215, 114, 613, 1832, 109, 477, 724, 465, 1216, 779, 816, 995, 620, 510, 908, 1297, 492, 1159, 123, 1623, 1747, 685, 1624, 1891, 772, 428, 1885, 435, 966, 1172, 812, 1601, 188, 115, 956, 634, 1456, 478, 289, 1301, 521, 30, 1048, 58, 1860, 1059, 1883, 1710, 576, 1262, 1763, 1966, 1835, 1482, 1212, 813, 1145, 88, 1262, 100, 1336, 1471, 249, 1747, 1470, 1984, 1306, 37, 270, 1180, 922, 1154, 978, 285, 702, 902, 63, 1775, 716, 1659, 623, 1357, 1971, 676, 383, 571, 1993, 371, 423, 821, 1667, 1271, 470, 999, 480, 480, 1896, 1875, 1059, 1590, 563, 1068, 1064, 493, 1309, 998, 693, 753, 1120, 113, 1718, 657, 187, 635, 1800, 1519, 1841, 1985, 1704, 587, 279, 129, 1041, 50, 1474, 1804, 1802, 335, 510, 163, 516, 319, 1576, 442, 37, 1305, 1513, 103, 1754, 1494, 1599, 1578, 480, 709, 1057, 1400, 1522, 999, 950, 1590, 1100, 693, 381, 438, 1077, 1594, 1916, 759, 205, 228, 1479, 1164, 1671, 595, 1934, 107, 1441, 891, 36, 957, 1046, 39, 1707, 310, 287, 1152, 1190, 278, 743, 1898, 885, 1205, 777, 204, 1586, 273, 75, 885, 1872, 242, 792, 1327, 1488, 1780, 1266, 1399, 487, 1232, 1991, 540, 172, 988, 1345, 511, 728, 698, 1692, 1995, 1138, 192, 1115, 1354, 1753, 741, 1746, 1377, 752, 561, 1099, 1242, 1385, 198, 816, 1327, 1059, 772, 690, 570, 1825, 107, 141, 1398, 1628, 1591, 99, 601, 1605, 49, 1572, 514, 1811, 458, 1292, 503, 1138, 675, 1086, 114, 160, 155, 1302, 1775, 1174, 5, 853, 1751, 1441, 537, 173, 92, 829, 535, 477, 1539, 1597, 1762, 1664, 1366, 1400, 463, 297, 318, 667, 1775, 895, 1551, 1544, 68, 217, 406, 890, 206, 696, 289, 374, 795, 1680, 1615, 183, 1265, 1208, 1154, 220, 717, 683, 1319, 1076, 732, 977, 515, 1571, 1940, 256, 1140, 803, 162, 1473, 587, 733, 448, 567, 951, 316, 1010, 1733, 1521, 181, 744, 1664, 552, 244 ]\n",
    "# A = [1]\n",
    "n = len(A)\n",
    "dp = [-1]*n\n",
    "dp[0] = 1\n",
    "lcs(A,1,dp,n)\n",
    "print(max(dp))"
   ]
  },
  {
   "cell_type": "code",
   "execution_count": 90,
   "id": "0353cecb",
   "metadata": {},
   "outputs": [
    {
     "name": "stdout",
     "output_type": "stream",
     "text": [
      "4\n"
     ]
    }
   ],
   "source": [
    "# Longest Paliandromic Subsequence\n",
    "A = \"bebeeed\"\n",
    "B = A[::-1]\n",
    "n = len(A)\n",
    "dp = [[-1 for i in range(n+1)]for j in range(n+1)]\n",
    "for i in range(n+1):\n",
    "    for j in range(n+1):\n",
    "        if(i==0 or j==0):\n",
    "            dp[i][j] = 0\n",
    "        else:\n",
    "            if(A[i-1]==B[j-1]):\n",
    "                dp[i][j] = dp[i-1][j-1]+1\n",
    "            else:\n",
    "                dp[i][j] = max(dp[i-1][j],dp[i][j-1])\n",
    "print(dp[n][n])"
   ]
  },
  {
   "cell_type": "code",
   "execution_count": 92,
   "id": "17fec622",
   "metadata": {},
   "outputs": [
    {
     "name": "stdout",
     "output_type": "stream",
     "text": [
      "[[-1, 0, 0, 0, 0, -1, -1, -1], [0, 0, 0, 0, -1, 1, -1, -1], [0, 0, 1, 1, 1, -1, 2, -1], [0, 0, 1, 1, -1, 2, -1, 3], [0, 0, 1, 2, 2, 2, 3, 3], [0, 0, 1, 2, 3, 3, 3, 3], [0, -1, 1, 2, 3, 3, 4, 4], [-1, 1, 1, 2, 3, 3, 4, 4]]\n"
     ]
    }
   ],
   "source": [
    "# Longest Paliandromic Subsequence using recursion\n",
    "def long_pal(s,B,i,j,dp):\n",
    "    if(i==0 or j==0):\n",
    "        dp[i][j] = 0\n",
    "        return dp[i][j]\n",
    "    elif(dp[i][j]!=-1):\n",
    "        return dp[i][j]\n",
    "    if(s[i-1]==B[j-1]):\n",
    "        dp[i][j] = long_pal(s,B,i-1,j-1,dp)+1\n",
    "        return dp[i][j]\n",
    "    else:\n",
    "        dp[i][j] = max(long_pal(s,B,i-1,j,dp),long_pal(s,B,i,j-1,dp))\n",
    "        return dp[i][j]\n",
    "A = \"bebeeed\"\n",
    "B = A[::-1]\n",
    "n = len(A)\n",
    "dp = [[-1 for i in range(n+1)]for j in range(n+1)]\n",
    "long_pal(A,B,n,n,dp)\n",
    "print(dp)"
   ]
  },
  {
   "cell_type": "code",
   "execution_count": 132,
   "id": "5c2c89ff",
   "metadata": {},
   "outputs": [
    {
     "name": "stdout",
     "output_type": "stream",
     "text": [
      "[[-inf, -inf, -inf], [-1276, -616, -1804], [-1189, -574, -1681], [29, 14, 41], [29, 419, 41]]\n"
     ]
    }
   ],
   "source": [
    "# Maximum Sum Value\n",
    "# A = [1, 5, -3, 4, -2]\n",
    "# B = 2\n",
    "# C = 1\n",
    "# D = -1\n",
    "# A = [3, 2, 1]\n",
    "# B = 1\n",
    "# C = -10\n",
    "# D = 3\n",
    "# A = [ -22, 28, 25, -16, -24, -35 ]\n",
    "# B = 14\n",
    "# C = 5\n",
    "# D = 11\n",
    "# A = [ -29, 1, -44, -21 ]\n",
    "# B = -24\n",
    "# C = -29\n",
    "# D = -28\n",
    "A = [ -44, -41, 1, -26 ]\n",
    "B = 29\n",
    "C = -15\n",
    "D = 27\n",
    "n = len(A)\n",
    "dp = [[float('-inf') for j in range(3)]for i in range(n+1)]\n",
    "for i in range(1,n+1):\n",
    "    dp[i][0] = max(dp[i-1][0],A[i-1]*B)\n",
    "    dp[i][1] = max(dp[i-1][1],dp[i][0]+A[i-1]*C)\n",
    "    dp[i][2] = max(dp[i-1][2],dp[i][1]+A[i-1]*D)\n",
    "print(dp)"
   ]
  },
  {
   "cell_type": "code",
   "execution_count": 13,
   "id": "9b38afc5",
   "metadata": {},
   "outputs": [
    {
     "name": "stdout",
     "output_type": "stream",
     "text": [
      "[3, 3] [4, 4] 0 0 252 252\n",
      "[2, 2] [3, 4] 0 252 210 462\n",
      "[2, 2] [3, 3] 0 0 360 360\n",
      "[2, 3] [4, 4] 360 0 840 462\n",
      "[1, 1] [2, 4] 0 462 280 742\n",
      "[1, 1] [2, 2] 0 0 120 120\n",
      "[1, 2] [3, 4] 120 252 84 456\n",
      "[1, 1] [2, 3] 0 360 480 840\n",
      "[1, 2] [3, 3] 120 0 144 264\n",
      "[1, 3] [4, 4] 264 0 336 456\n",
      "[0, 0] [1, 4] 0 456 196 652\n",
      "[0, 0] [1, 1] 0 0 280 280\n",
      "[0, 1] [2, 4] 280 462 490 652\n",
      "[0, 0] [1, 2] 0 120 84 204\n",
      "[0, 1] [2, 2] 280 0 210 204\n",
      "[0, 2] [3, 4] 204 252 147 603\n",
      "[0, 0] [1, 3] 0 264 336 600\n",
      "[0, 1] [2, 3] 280 360 840 600\n",
      "[0, 2] [3, 3] 204 0 252 456\n",
      "[0, 3] [4, 4] 456 0 588 603\n",
      "[[0, 280, 204, 456, 603], [-1, 0, 120, 264, 456], [-1, -1, 0, 360, 462], [-1, -1, -1, 0, 252], [-1, -1, -1, -1, 0]]\n",
      "[[-1, 0, 0, 2, 2], [-1, -1, 1, 2, 2], [-1, -1, -1, 2, 2], [-1, -1, -1, -1, 3], [-1, -1, -1, -1, -1]]\n",
      "456\n"
     ]
    }
   ],
   "source": [
    "# Matrix Chain Multiplication\n",
    "\n",
    "def min_cost(A,dp,s_matrix,i,j):\n",
    "    if(i==j):\n",
    "        dp[i][j] = 0\n",
    "        return dp[i][j]\n",
    "    if(dp[i][j]!= -1):\n",
    "        return dp[i][j]\n",
    "    ans = float('inf')\n",
    "    for k in range(i,j):\n",
    "        l = min_cost(A,dp,s_matrix,i,k)\n",
    "        r = min_cost(A,dp,s_matrix,k+1,j)\n",
    "        c = A[i-1]*A[k]*A[j]\n",
    "#         print([i,k],[k+1,j],l,r,c)\n",
    "        if(l+r+c<ans):\n",
    "            s_min = k\n",
    "            ans = l+r+c\n",
    "#         ans = min(ans,l+r+c)\n",
    "        print([i,k],[k+1,j],l,r,c,ans)\n",
    "        \n",
    "    dp[i][j] = ans\n",
    "    s_matrix[i][j] = s_min\n",
    "    return dp[i][j]\n",
    "\n",
    "# A = [40, 20, 30, 10, 30]\n",
    "A = [4,10,3,12,7]\n",
    "n = len(A)\n",
    "dp = [[-1 for i in range(n)]for j in range(n)]\n",
    "s_matrix = [[-1 for i in range(n)]for j in range(n)]\n",
    "min_cost(A,dp,s_matrix,0,n-1)\n",
    "print(dp)\n",
    "print(s_matrix)\n",
    "print(dp[1][n-1])"
   ]
  },
  {
   "cell_type": "code",
   "execution_count": 1,
   "id": "8f2721a5",
   "metadata": {},
   "outputs": [
    {
     "name": "stdout",
     "output_type": "stream",
     "text": [
      "[[2, 3], [3, 5], [5, 4], [6, 7], [6, 4]]\n",
      "0 []\n",
      "1 [3]\n",
      "1 [3, 5]\n",
      "2 [3, 4]\n",
      "1 [3, 4, 7]\n",
      "[3, 4, 7]\n"
     ]
    }
   ],
   "source": [
    "# Russian Doll Envelopes\n",
    "from bisect import *\n",
    "envelopes = [[5, 4],[6, 4],[6, 7],[2, 3],[3,5]]\n",
    "# A = [    [8, 9],[8, 18]    ]\n",
    "# envelopes =[[3, 12],[19, 8],[14, 17],[15, 18],[18, 15],[10, 7],[20, 20],[14, 1],[19, 15],[5, 6]]\n",
    "# A = [[3, 12], [5, 6], [10, 7], [14, 17], [14, 1], [15, 18], [18, 15], [19, 8], [19, 15], [20, 20]]\n",
    "envelopes.sort(key=lambda x: (x[0], -x[1]))        \n",
    "res = []\n",
    "print(envelopes)\n",
    "for _, h in envelopes:\n",
    "    idx = bisect_left(res, h)\n",
    "    print(idx,res)\n",
    "    if idx == len(res):\n",
    "        res.append(h)\n",
    "    else:\n",
    "        res[idx]=h\n",
    "print(res)"
   ]
  },
  {
   "cell_type": "code",
   "execution_count": 34,
   "id": "9a28fe45",
   "metadata": {},
   "outputs": [
    {
     "name": "stdout",
     "output_type": "stream",
     "text": [
      "[[0, 0, 0], [1, 1, 1], [3, 2, 2]]\n"
     ]
    }
   ],
   "source": [
    "# Ways to have fun\n",
    "A = 2\n",
    "dp = [[0 for j in range(3)]for i in range(A+1)]\n",
    "# print(dp)\n",
    "for i in range(1,len(dp)):\n",
    "    if(i==1):\n",
    "        dp[i][0] = 1\n",
    "        dp[i][1] = 1\n",
    "        dp[i][2] = 1\n",
    "    else:\n",
    "        dp[i][0] = dp[i-1][0]+dp[i-1][1]+dp[i-1][2]\n",
    "        dp[i][1] = dp[i-1][0]+dp[i-1][2]\n",
    "        dp[i][2] = dp[i-1][0]+dp[i-1][1]-(2*dp[i-2][2])\n",
    "print(dp)"
   ]
  },
  {
   "cell_type": "code",
   "execution_count": 33,
   "id": "1a3a74ee",
   "metadata": {},
   "outputs": [
    {
     "name": "stdout",
     "output_type": "stream",
     "text": [
      "[[1, 1, 1], [3, 2, 2], [0, 0, 0]]\n",
      "7\n"
     ]
    }
   ],
   "source": [
    "# Ways to have fun space optimisation\n",
    "A = 2\n",
    "dp = [[0 for j in range(3)]for i in range(3)]\n",
    "# print(dp)\n",
    "dp[0][0]=1\n",
    "dp[0][1]=1\n",
    "dp[0][2]=1\n",
    "for i in range(1,A):\n",
    "    dp[i%3][0] = dp[(i-1)%3][0]+dp[(i-1)%3][1]+dp[(i-1)%3][2]\n",
    "    dp[i%3][1] = dp[(i-1)%3][0]+dp[(i-1)%3][2]\n",
    "    dp[i%3][2] = dp[(i-1)%3][0]+dp[(i-1)%3][1]-(2*dp[(i-2)%3][2])\n",
    "print(dp)\n",
    "print(sum(dp[A%3-1]))"
   ]
  },
  {
   "cell_type": "code",
   "execution_count": 67,
   "id": "074cbcb0",
   "metadata": {},
   "outputs": [
    {
     "name": "stdout",
     "output_type": "stream",
     "text": [
      "7 0 2\n",
      "9 0 3\n",
      "9 0 4\n",
      "7 0 5\n",
      "3 0 6\n",
      "3 0 7\n",
      "[1, 0, 0, 0, 0, 0, 0, 0]\n"
     ]
    }
   ],
   "source": [
    "# Ways to Decode\n",
    "# A = \"210\"\n",
    "# A = \"2611055971756562\"\n",
    "A = \"0799733\"\n",
    "dp = [0]*(len(A)+1)\n",
    "n = len(A)\n",
    "dp[0] = 1\n",
    "if(A[0]!='0'):\n",
    "    dp[1] = 1\n",
    "for i in range(2,n+1):\n",
    "    if(A[i-1]!='0'):\n",
    "        dp[i] = dp[i-1]\n",
    "    if(A[i-2]=='1' or (A[i-2]=='2' and A[i-1]<='6')):\n",
    "        dp[i] += dp[i-2]\n",
    "    print(A[i-1],dp[i],i)\n",
    "print(dp)"
   ]
  },
  {
   "cell_type": "code",
   "execution_count": 98,
   "id": "8051591c",
   "metadata": {},
   "outputs": [
    {
     "name": "stdout",
     "output_type": "stream",
     "text": [
      "[[1, 0, 0, 0], [-1, -1, -1, 1]]\n"
     ]
    }
   ],
   "source": [
    "# N digit numbers\n",
    "\n",
    "def count_digits(digit,max_sum,dp):\n",
    "    if(dp[digit][max_sum]!= -1):\n",
    "        return dp[digit][max_sum]\n",
    "    if(digit==0 and max_sum==0):\n",
    "        dp[digit][max_sum] = 1\n",
    "        return dp[digit][max_sum]\n",
    "    elif(digit==0 and max_sum!=0):\n",
    "        dp[digit][max_sum] = 0\n",
    "        return dp[digit][max_sum]\n",
    "    elif(digit!=0 and max_sum==0):\n",
    "        dp[digit][max_sum] = 0\n",
    "        return dp[digit][max_sum]\n",
    "    else:\n",
    "        ans = 0\n",
    "        for i in range(0,10):\n",
    "            if(max_sum-i>=0):\n",
    "                ans += count_digits(digit-1,max_sum - i,dp)\n",
    "        dp[digit][max_sum] = ans\n",
    "    return dp[digit][max_sum]\n",
    "\n",
    "A = 1\n",
    "B = 3\n",
    "dp = [[-1 for j in range(B+1)]for i in range(A+1)]\n",
    "count_digits(A,B,dp)\n",
    "print(dp)"
   ]
  },
  {
   "cell_type": "code",
   "execution_count": 9,
   "id": "5228ad36",
   "metadata": {},
   "outputs": [
    {
     "name": "stdout",
     "output_type": "stream",
     "text": [
      "[[1, 2, 3], [0, 1, 2], [1, 0, 0]]\n",
      "4\n"
     ]
    }
   ],
   "source": [
    "# Max Rectangle in Binary Matrix\n",
    "\n",
    "A = [\n",
    "       [1, 1, 1],\n",
    "       [0, 1, 1],\n",
    "       [1, 0, 0] \n",
    "     ]\n",
    "\n",
    "n = len(A)\n",
    "m = len(A[0])\n",
    "Area = 0\n",
    "for j in range(m):\n",
    "    for i in range(n):\n",
    "        if A[i][j] == 1 and j>=1:\n",
    "            A[i][j] += A[i][j-1]\n",
    "print(A)\n",
    "for i in range(n):\n",
    "    for j in range(m):\n",
    "        if A[i][j] != 0:\n",
    "            w = A[i][j]\n",
    "            h = 1\n",
    "            k = i\n",
    "\n",
    "            while(k>=0):\n",
    "                h = i-k + 1\n",
    "                w = min(w, A[k][j])\n",
    "                Area = max(Area, w*h)\n",
    "                k -= 1\n",
    "print(Area)"
   ]
  },
  {
   "cell_type": "code",
   "execution_count": 182,
   "id": "43d9fef1",
   "metadata": {},
   "outputs": [
    {
     "name": "stdout",
     "output_type": "stream",
     "text": [
      "[[1, -1, -1], [-1, 1, 1], [-1, 0, 1], [-1, 0, 1]]\n"
     ]
    }
   ],
   "source": [
    "# Regular Expression Match\n",
    "\n",
    "def reg_ex_match(A,B,i,j,dp):\n",
    "    if(dp[i][j]!=-1):\n",
    "        return dp[i][j]\n",
    "    if(i==0 and j==0):\n",
    "        dp[i][j]=1\n",
    "        return dp[i][j]\n",
    "    if(j==0):\n",
    "        dp[i][j] = 0\n",
    "        return dp[i][j]\n",
    "    if(i==0):\n",
    "        for k in range(j):\n",
    "            if(B[k]!='*'):\n",
    "                dp[i][j] = 0\n",
    "                return dp[i][j]\n",
    "        dp[i][j] = 1\n",
    "        return dp[i][j]\n",
    "    elif(A[i-1]==B[j-1] or B[j-1]=='?'):\n",
    "        dp[i][j] = reg_ex_match(A,B,i-1,j-1,dp)\n",
    "        return dp[i][j]\n",
    "    elif(B[j-1]=='*'):\n",
    "        dp[i][j] = reg_ex_match(A,B,i,j-1,dp) or reg_ex_match(A,B,i-1,j,dp)\n",
    "        return dp[i][j]\n",
    "    else:\n",
    "        dp[i][j] = 0\n",
    "        return dp[i][j]\n",
    "\n",
    "A = \"acz\"\n",
    "B = \"a*\"\n",
    "n = len(A)\n",
    "m = len(B)\n",
    "dp = [[-1 for j in range(m+1)]for i in range(n+1)]\n",
    "reg_ex_match(A,B,n,m,dp)\n",
    "print(dp)"
   ]
  },
  {
   "cell_type": "code",
   "execution_count": 187,
   "id": "a9d1dcc6",
   "metadata": {},
   "outputs": [
    {
     "name": "stdout",
     "output_type": "stream",
     "text": [
      "3 [[-1, -1, -1], [-1, -1, -1]] 1 2\n",
      "3 [[-1, -1, -1], [-1, -1, -1]] 1 1\n",
      "2 [[-1, -1, -1], [-1, 0, -1]] 0 2\n",
      "2 [[-1, -1, -1], [-1, 0, -1]] 0 1\n",
      "1 [[-1, 0, -1], [-1, 0, -1]] 1 2\n",
      "1 [[-1, 0, -1], [-1, 0, -1]] 1 1\n",
      "0 [[-1, 0, -1], [-1, 0, -1]] 0 2\n",
      "[[-1, 0, 0], [-1, 0, 0]]\n"
     ]
    }
   ],
   "source": [
    "# Regular Expression Match\n",
    "\n",
    "def reg_ex_match(A,B,i,j,dp):\n",
    "    print(i,dp,i%2,j)\n",
    "    if(dp[i%2][j]!=-1):\n",
    "        return dp[i%2][j]\n",
    "    if(i==0 and j==0):\n",
    "        dp[i%2][j]=1\n",
    "        return dp[i%2][j]\n",
    "    if(j==0):\n",
    "        dp[i%2][j] = 0\n",
    "        return dp[i%2][j]\n",
    "    if(i==0):\n",
    "        for k in range(j):\n",
    "            if(B[k]!='*'):\n",
    "                dp[i%2][j] = 0\n",
    "                return dp[i%2][j]\n",
    "        dp[i%2][j] = 1\n",
    "        return dp[i%2][j]\n",
    "    elif(A[i-1]==B[j-1] or B[j-1]=='?'):\n",
    "        dp[i%2][j] = reg_ex_match(A,B,i-1,j-1,dp)\n",
    "        return dp[i%2][j]\n",
    "    elif(B[j-1]=='*'):\n",
    "        dp[i%2][j] = reg_ex_match(A,B,i,j-1,dp) or reg_ex_match(A,B,i-1,j,dp)\n",
    "        return dp[i%2][j]\n",
    "    else:\n",
    "        dp[i%2][j] = 0\n",
    "        return dp[i%2][j]\n",
    "\n",
    "A = \"acz\"\n",
    "B = \"a*\"\n",
    "n = len(A)\n",
    "m = len(B)\n",
    "dp = [[-1 for j in range(m+1)]for i in range(2)]\n",
    "reg_ex_match(A,B,n,m,dp)\n",
    "print(dp)"
   ]
  },
  {
   "cell_type": "code",
   "execution_count": 180,
   "id": "3375c856",
   "metadata": {},
   "outputs": [
    {
     "name": "stdout",
     "output_type": "stream",
     "text": [
      "3 2 [-1, -1, -1, -1] [-1, -1, -1]\n",
      "3 1 [-1, -1, -1, -1] [-1, -1, -1]\n",
      "3 2 [0, 0]\n",
      "[-1, -1, -1, 0] [-1, 0, 0]\n"
     ]
    }
   ],
   "source": [
    "# Regular Expression Match\n",
    "\n",
    "def reg_ex_match(A,B,i,j,dp_i,dp_j):\n",
    "    print(i,j,dp_i,dp_j)\n",
    "    if(dp_i[i]!=-1 and dp_j[j]!= -1):\n",
    "        return [dp_i[i],dp_j[j]]\n",
    "    if(i==0 and j==0):\n",
    "        dp_i[i] = 1\n",
    "        dp_j[j] = 1\n",
    "        return [dp_i[i],dp_j[j]]\n",
    "    if(j==0):\n",
    "        dp_i[i] = 0\n",
    "        dp_j[j] = 0\n",
    "        return [dp_i[i],dp_j[j]]\n",
    "    if(i==0):\n",
    "        for k in range(j):\n",
    "            if(B[k]!='*'):\n",
    "                dp_i[i] = 0\n",
    "                dp_j[j] = 0\n",
    "                return [dp_i[i],dp_j[j]]\n",
    "        dp_i[i] = 1\n",
    "        dp_j[j] = 1\n",
    "        return [dp_i[i],dp_j[j]]\n",
    "    elif(A[i-1]==B[j-1] or B[j-1]=='?'):\n",
    "        k = reg_ex_match(A,B,i-1,j-1,dp_i,dp_j)\n",
    "        dp_i[i] = k[0]\n",
    "        dp_j[j] = k[1]\n",
    "        return [dp_i[i],dp_j[j]]\n",
    "    elif(B[j-1]=='*'):\n",
    "        k = reg_ex_match(A,B,i,j-1,dp_i,dp_j) or reg_ex_match(A,B,i-1,j,dp_i,dp_j)\n",
    "        print(i,j,k)\n",
    "        dp_i[i] = k[0]\n",
    "        dp_j[j] = k[1]\n",
    "        return [dp_i[i],dp_j[j]]\n",
    "    else:\n",
    "        dp_i[i] = 0\n",
    "        dp_j[j] = 0\n",
    "        return [dp_i[i],dp_j[j]]\n",
    "\n",
    "A = \"acz\"\n",
    "B = \"a*\"\n",
    "n = len(A)\n",
    "m = len(B)\n",
    "dp_i = [-1]*(n+1)\n",
    "dp_j = [-1]*(m+1)\n",
    "# dp = [[-1 for j in range(m+1)]for i in range(n+1)]\n",
    "reg_ex_match(A,B,n,m,dp_i,dp_j)\n",
    "print(dp_i,dp_j)"
   ]
  },
  {
   "cell_type": "code",
   "execution_count": 8,
   "id": "6b5d2e91",
   "metadata": {},
   "outputs": [
    {
     "name": "stdout",
     "output_type": "stream",
     "text": [
      "inside else 2\n",
      "inside else 2\n",
      "inside else 2\n",
      "inside else 2\n",
      "inside else 2\n",
      "inside else 2\n",
      "inside else 2\n",
      "inside else 2\n",
      "[[True, False, False, False, False, False, False, False, False], [False, True, False, False, False, False, False, False, False], [True, True, True, True, True, True, True, True, True]]\n"
     ]
    }
   ],
   "source": [
    "# Regular Expression Match\n",
    "\n",
    "s = \"caabccca\"\n",
    "p = \"c*\"\n",
    "table = [[False] * (len(s) + 1) for _ in range(len(p) + 1)]\n",
    "table[0][0] = True\n",
    "for i in range(2, len(p) + 1):\n",
    "    table[i][0] = table[i - 2][0] and p[i - 1] == '*'\n",
    "for i in range(1, len(p) + 1):\n",
    "    for j in range(1, len(s) + 1):\n",
    "        if p[i - 1] != \"*\":\n",
    "            table[i][j] = table[i - 1][j - 1] and \\\n",
    "                          (p[i - 1] == s[j - 1] or p[i - 1] == '?')\n",
    "        else:\n",
    "            print(\"inside else\",i)\n",
    "            table[i][j] = table[i - 2][j] or table[i - 1][j] or table[i][j-1]\n",
    "            if p[i - 2] == s[j - 1] or p[i - 2] == '?':\n",
    "                table[i][j] |= table[i][j - 1]\n",
    "print(table)"
   ]
  },
  {
   "cell_type": "code",
   "execution_count": 7,
   "id": "68e184bd",
   "metadata": {},
   "outputs": [
    {
     "name": "stdout",
     "output_type": "stream",
     "text": [
      "[1, 1, 2, 5, 14, 42]\n"
     ]
    }
   ],
   "source": [
    "# Intersecting Chords in a Circle\n",
    "A = 5\n",
    "dp = [0]*(A+1)\n",
    "dp[1] = 1\n",
    "dp[0] = 1\n",
    "for i in range(2,A+1):\n",
    "    s = 0\n",
    "    k = 0\n",
    "    for j in range(i-1,-1,-1):\n",
    "        s += dp[j]*dp[k]\n",
    "        k += 1\n",
    "    dp[i] = s\n",
    "print(dp)"
   ]
  },
  {
   "cell_type": "code",
   "execution_count": 7,
   "id": "fd8cd35c",
   "metadata": {},
   "outputs": [
    {
     "name": "stdout",
     "output_type": "stream",
     "text": [
      "True\n"
     ]
    }
   ],
   "source": [
    "# Interleaving Strings\n",
    "\n",
    "A = \"aabcc\"\n",
    "B = \"dbbca\"\n",
    "C = \"aadbbcbcac\"\n",
    "\n",
    "if(len(A)+len(B) != len(C)):\n",
    "    print(False)\n",
    "\n",
    "dp = [[False for j in range(len(B)+1)]for i in range(len(A)+1)]\n",
    "dp[len(A)][len(B)] = True\n",
    "\n",
    "for i in range(len(A),-1,-1):\n",
    "    for j in range(len(B),-1,-1):\n",
    "#         print(i,j)\n",
    "        if(i<len(A) and A[i]==C[i+j] and dp[i+1][j]):\n",
    "            dp[i][j] = True\n",
    "        if(j<len(B) and B[j]==C[i+j] and dp[i][j+1]):\n",
    "            dp[i][j] = True\n",
    "    \n",
    "print(dp[0][0])"
   ]
  },
  {
   "cell_type": "code",
   "execution_count": 23,
   "id": "c8842d0b",
   "metadata": {},
   "outputs": [
    {
     "name": "stdout",
     "output_type": "stream",
     "text": [
      "[[True, False, False, False, True, False, False, False, False, False, False], [False, True, False, True, False, False, False, False, False, False, False], [False, False, True, False, False, False, False, False, False, False, False], [False, False, False, True, False, True, False, False, False, False, False], [False, False, False, False, True, False, True, False, False, True, False], [False, False, False, False, False, True, False, False, True, False, False], [False, False, False, False, False, False, True, True, False, False, True], [False, False, False, False, False, False, False, True, False, True, False], [False, False, False, False, False, False, False, False, True, False, False], [False, False, False, False, False, False, False, False, False, True, True], [False, False, False, False, False, False, False, False, False, False, True]]\n"
     ]
    }
   ],
   "source": [
    "# Paliandrome Partitioning\n",
    "\n",
    "s = 'abcbabaabaa'\n",
    "n = len(s)\n",
    "\n",
    "dp = [[False for j in range(n)]for i in range(n)]\n",
    "\n",
    "for i in range(n):\n",
    "    dp[i][i] = True\n",
    "    \n",
    "# print(dp)\n",
    "\n",
    "for i in range(n-1,-1,-1):\n",
    "    for j in range(n-1,i,-1):\n",
    "#         print(i,j)\n",
    "        if(j==i+1):\n",
    "            if(s[i]==s[j]):\n",
    "                dp[i][j] = True           \n",
    "        elif(s[i]==s[j] and dp[i+1][j-1] is True):\n",
    "            dp[i][j] = True\n",
    "\n"
   ]
  },
  {
   "cell_type": "code",
   "execution_count": 30,
   "id": "715d43f2",
   "metadata": {},
   "outputs": [
    {
     "name": "stdout",
     "output_type": "stream",
     "text": [
      "[0, 1, 2, 1, 0, 1, 2, 2, 1, 2, 2]\n"
     ]
    }
   ],
   "source": [
    "# paliandrome partitioning II\n",
    "\n",
    "s = 'abcbabaabaa'\n",
    "n = len(s)\n",
    "\n",
    "dp2 = [-1]*n\n",
    "\n",
    "\n",
    "for i in range(n):\n",
    "    ans = n\n",
    "    for j in range(i,-1,-1):\n",
    "        if(dp[j][i]):\n",
    "            ans = min(ans,dp2[j-1]+1)\n",
    "    dp2[i] = ans\n",
    "\n",
    "print(dp2)"
   ]
  },
  {
   "cell_type": "code",
   "execution_count": 9,
   "id": "8389e090",
   "metadata": {},
   "outputs": [
    {
     "name": "stdout",
     "output_type": "stream",
     "text": [
      "3\n"
     ]
    }
   ],
   "source": [
    "# House Robber II\n",
    "\n",
    "def robber_helper(nums):\n",
    "    \n",
    "    count = len(nums)\n",
    "    \n",
    "    if(count==0):\n",
    "        return 0\n",
    "    \n",
    "    elif(count==1):\n",
    "        return nums[0]\n",
    "    \n",
    "    elif(count==2):\n",
    "        return max(nums[0],nums[1])\n",
    "    \n",
    "    dp = nums[:]\n",
    "    dp[1] = max(dp[0],dp[1])\n",
    "    \n",
    "    \n",
    "    for i in range(2,len(nums)):\n",
    "        dp[i] = max(nums[i]+dp[i-2],dp[i-1])\n",
    "    \n",
    "    return dp[count-1]\n",
    "    \n",
    "    \n",
    "\n",
    "# nums = [1,2,3,1]\n",
    "nums = [2,3,2]\n",
    "\n",
    "num1 = robber_helper(nums[1:])\n",
    "num2 = nums[0] + robber_helper(nums[2:-1])\n",
    "print(max(num1,num2))"
   ]
  },
  {
   "cell_type": "code",
   "execution_count": 7,
   "id": "16f9ea77",
   "metadata": {},
   "outputs": [
    {
     "name": "stdout",
     "output_type": "stream",
     "text": [
      "3\n"
     ]
    }
   ],
   "source": [
    "n = 12345\n",
    "stirng = str(n)\n",
    "ans = 0\n",
    "flag = True\n",
    "for i in string:\n",
    "    if(flag):\n",
    "        ans += int(i)\n",
    "        flag = False\n",
    "    else:\n",
    "        ans -= int(i)\n",
    "        flag = True\n",
    "print(ans)"
   ]
  },
  {
   "cell_type": "code",
   "execution_count": 19,
   "id": "dc49ca5c",
   "metadata": {},
   "outputs": [
    {
     "name": "stdout",
     "output_type": "stream",
     "text": [
      "[[10, 6, 9, 1], [7, 5, 11, 2], [4, 8, 3, 15]]\n",
      "[[7, 5, 11, 2], [10, 6, 9, 1], [4, 8, 3, 15]]\n"
     ]
    }
   ],
   "source": [
    "score = [[10,6,9,1],[7,5,11,2],[4,8,3,15]]\n",
    "\n",
    "print(score)\n",
    "k = 2\n",
    "# sorted(score,key = lambda x:x[2])\n",
    "score.sort(key = lambda x:x[2],reverse = True)\n",
    "print(score)"
   ]
  },
  {
   "cell_type": "code",
   "execution_count": 48,
   "id": "b0ed0fd4",
   "metadata": {},
   "outputs": [
    {
     "name": "stdout",
     "output_type": "stream",
     "text": [
      "[[4, inf, inf, inf, inf, inf, inf], [inf, 4, inf, inf, inf, inf, inf], [inf, inf, 4, inf, inf, inf, inf], [inf, inf, inf, 4, inf, inf, inf], [inf, inf, inf, inf, 4, inf, inf], [inf, inf, inf, inf, inf, 4, inf], [inf, inf, inf, inf, inf, inf, 4]]\n"
     ]
    }
   ],
   "source": [
    "# Minimum Cost to Split an Array\n",
    "\n",
    "nums = [1,2,1,2,1,3,3]\n",
    "k = 3\n",
    "\n",
    "n = len(nums)\n",
    "counts = {}\n",
    "for i in nums:\n",
    "    if(i not in counts):\n",
    "        counts[i] = 1\n",
    "    else:\n",
    "        counts[i]+= 1\n",
    "\n",
    "# print(counts)\n",
    "dp = [[float('inf') for i in range(n)]for j in range(n)]\n",
    "# print(dp)\n",
    "\n",
    "for i in range(n):\n",
    "    dp[i][i] = k + 1\n",
    "\n",
    "# length = i, i = j\n",
    "print(dp)    \n",
    "\n",
    "for i in range(2, n + 1):\n",
    "    for j in range(n - i + 1):\n",
    "        \n",
    "        end_point = i+j-1\n",
    "        \n",
    "        value = k\n",
    "        for num in nums[j:end_point+1]:\n",
    "            if(counts[num]>1):\n",
    "                value += 1\n",
    "        for k in range(j,end_point):\n",
    "            dp[j][end_point] = min(dp[j][end_point],dp[end_point][k]+dp[k+1][end_point]+value)\n"
   ]
  },
  {
   "cell_type": "code",
   "execution_count": 1,
   "id": "30eeed13",
   "metadata": {},
   "outputs": [
    {
     "name": "stdout",
     "output_type": "stream",
     "text": [
      "[[0, 0, 0, 0, 0], [0, 1, 2, 3, 3], [0, 0, 2, 3, 3], [0, 0, 0, 3, 3], [0, 0, 0, 0, 4]]\n",
      "[[0, 0, 0, 0, 0], [0.07, 0.33, 0.78, 1.58, 2.2199999999999998], [0, 0.07, 0.4, 1.08, 1.7200000000000002], [0, 0, 0.07, 0.56, 1.2], [0, 0, 0, 0.06, 0.44], [0, 0, 0, 0, 0.06]]\n",
      "[[0, 0, 0, 0, 0], [0.07, 0.19, 0.38, 0.74, 1.0], [0, 0.07, 0.26, 0.6200000000000001, 0.8800000000000001], [0, 0, 0.07, 0.43, 0.69], [0, 0, 0, 0.06, 0.32], [0, 0, 0, 0, 0.06]]\n"
     ]
    }
   ],
   "source": [
    "# Optimal Binary Serach Tree\n",
    "ki = [0,1,2,3,4]\n",
    "pi = [0,0.05,0.12,0.3,0.2]\n",
    "qi = [0.07,0.07,0.07,0.06,0.06]\n",
    "\n",
    "n = len(ki)\n",
    "w = [[0 for i in range(n)]for j in range(n+1)]\n",
    "c = [[0 for i in range(n)]for j in range(n+1)]\n",
    "root = [[0 for j in range(n)] for i in range(n)]\n",
    "\n",
    "for index in range(1,n+1):\n",
    "    w[index][index-1] = qi[index-1]\n",
    "    c[index][index-1] = qi[index-1]\n",
    "\n",
    "# print(c)\n",
    "\n",
    "for l in range(1,n):\n",
    "    for i in range(1,n-l+1):\n",
    "        j = i+l-1\n",
    "        c[i][j] = float('inf')\n",
    "        w[i][j] = w[i][j-1]+pi[j]+qi[j]\n",
    "        for r in range(i,j+1):\n",
    "            t = c[i][r-1]+c[r+1][j]+w[i][j]\n",
    "            if(t<c[i][j]):\n",
    "                c[i][j] = t\n",
    "                root[i][j] = ki[r]\n",
    "            \n",
    "print(root)\n",
    "print(c)\n",
    "print(w)"
   ]
  },
  {
   "cell_type": "code",
   "execution_count": null,
   "id": "b20c0be9",
   "metadata": {},
   "outputs": [],
   "source": []
  }
 ],
 "metadata": {
  "kernelspec": {
   "display_name": "Python 3 (ipykernel)",
   "language": "python",
   "name": "python3"
  },
  "language_info": {
   "codemirror_mode": {
    "name": "ipython",
    "version": 3
   },
   "file_extension": ".py",
   "mimetype": "text/x-python",
   "name": "python",
   "nbconvert_exporter": "python",
   "pygments_lexer": "ipython3",
   "version": "3.9.7"
  }
 },
 "nbformat": 4,
 "nbformat_minor": 5
}
