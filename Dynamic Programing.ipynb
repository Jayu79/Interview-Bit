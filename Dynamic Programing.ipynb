{
 "cells": [
  {
   "cell_type": "code",
   "execution_count": 7,
   "id": "9742a916",
   "metadata": {},
   "outputs": [
    {
     "name": "stdout",
     "output_type": "stream",
     "text": [
      "2\n"
     ]
    }
   ],
   "source": [
    "# Stairs\n",
    "A = 2\n",
    "s = 1\n",
    "e = 1\n",
    "for i in range(2,A+1):\n",
    "    c = s+e\n",
    "    s = e\n",
    "    e = c\n",
    "print(c)"
   ]
  },
  {
   "cell_type": "code",
   "execution_count": 17,
   "id": "91a10ed1",
   "metadata": {},
   "outputs": [
    {
     "name": "stdout",
     "output_type": "stream",
     "text": [
      "2\n",
      "1\n"
     ]
    }
   ],
   "source": [
    "# Fibonacci\n",
    "A = int(input())\n",
    "s = 0\n",
    "e = 1\n",
    "if(A==0):\n",
    "    print(0)\n",
    "elif(A==1):\n",
    "    print(1)\n",
    "else:\n",
    "    for i in range(2,A+1):\n",
    "        c = s+e\n",
    "        s = e\n",
    "        e = c\n",
    "    print(c)"
   ]
  },
  {
   "cell_type": "code",
   "execution_count": 21,
   "id": "f1b132f5",
   "metadata": {},
   "outputs": [
    {
     "name": "stdout",
     "output_type": "stream",
     "text": [
      "[0, 1, 2, 3, 1, 2, 3]\n"
     ]
    }
   ],
   "source": [
    "# Minimum Number of Square\n",
    "A = 6\n",
    "dp = [A]*(A+1)\n",
    "dp[0],dp[1] = 0,1\n",
    "for i in range(2,A+1):\n",
    "    j = 1\n",
    "    while j*j<=i:\n",
    "        dp[i] = min(dp[i],1+dp[i-j*j])\n",
    "        j+=1\n",
    "print(dp)"
   ]
  },
  {
   "cell_type": "code",
   "execution_count": null,
   "id": "c93f8ec5",
   "metadata": {},
   "outputs": [],
   "source": []
  }
 ],
 "metadata": {
  "kernelspec": {
   "display_name": "Python 3 (ipykernel)",
   "language": "python",
   "name": "python3"
  },
  "language_info": {
   "codemirror_mode": {
    "name": "ipython",
    "version": 3
   },
   "file_extension": ".py",
   "mimetype": "text/x-python",
   "name": "python",
   "nbconvert_exporter": "python",
   "pygments_lexer": "ipython3",
   "version": "3.9.7"
  }
 },
 "nbformat": 4,
 "nbformat_minor": 5
}
