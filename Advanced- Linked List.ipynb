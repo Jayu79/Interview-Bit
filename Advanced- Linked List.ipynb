{
 "cells": [
  {
   "cell_type": "code",
   "execution_count": 186,
   "id": "ae558ab9",
   "metadata": {},
   "outputs": [],
   "source": [
    "class Node:\n",
    "    def __init__(self,x):\n",
    "        self.value = x\n",
    "        self.next = None\n",
    "global head\n",
    "head = None\n",
    "def append(x):\n",
    "    global head\n",
    "    if head is None:\n",
    "        head = Node(x)\n",
    "    else:\n",
    "        start = head\n",
    "        while(start.next is not None):\n",
    "            start = start.next\n",
    "        temp = Node(x)\n",
    "        start.next = temp\n",
    "append(3)\n",
    "append(4)\n",
    "append(1)\n",
    "append(2)\n",
    "append(6)\n",
    "append(7)\n",
    "append(9)\n",
    "append(11)\n",
    "append(12)\n",
    "# append(1)\n",
    "# append(2)\n",
    "# append(3)"
   ]
  },
  {
   "cell_type": "code",
   "execution_count": 93,
   "id": "704fd5a4",
   "metadata": {},
   "outputs": [
    {
     "name": "stdout",
     "output_type": "stream",
     "text": [
      "3\n",
      "4\n",
      "1\n",
      "2\n",
      "6\n",
      "7\n"
     ]
    }
   ],
   "source": [
    "def print_ll():\n",
    "    global head\n",
    "    start = head\n",
    "    while (start is not None):\n",
    "        print(start.value)\n",
    "        start = start.next\n",
    "print_ll()"
   ]
  },
  {
   "cell_type": "code",
   "execution_count": 25,
   "id": "ec30e583",
   "metadata": {},
   "outputs": [
    {
     "name": "stdout",
     "output_type": "stream",
     "text": [
      "7\n",
      "6\n",
      "2\n",
      "1\n",
      "4\n",
      "3\n"
     ]
    }
   ],
   "source": [
    "# Reverse a Linked List\n",
    "def reverse_ll():\n",
    "    global head\n",
    "    prev = None\n",
    "    curr = head\n",
    "    while(curr != None):\n",
    "        temp = curr.next\n",
    "        curr.next = prev\n",
    "        prev = curr\n",
    "        curr = temp\n",
    "    head = prev\n",
    "reverse_ll()\n",
    "print_ll()"
   ]
  },
  {
   "cell_type": "code",
   "execution_count": 57,
   "id": "78c12926",
   "metadata": {},
   "outputs": [
    {
     "data": {
      "text/plain": [
       "2"
      ]
     },
     "execution_count": 57,
     "metadata": {},
     "output_type": "execute_result"
    }
   ],
   "source": [
    "# Middle Element of a Linked List\n",
    "def middle_element():\n",
    "    global head\n",
    "    start = head\n",
    "    ll_len = 0\n",
    "    while(start is not None):\n",
    "        start = start.next\n",
    "        ll_len += 1\n",
    "    start = head\n",
    "    k = ll_len//2\n",
    "    while(k>0):\n",
    "        k -= 1\n",
    "        start = start.next\n",
    "    return start.value\n",
    "\n",
    "middle_element()"
   ]
  },
  {
   "cell_type": "code",
   "execution_count": 45,
   "id": "8079040e",
   "metadata": {},
   "outputs": [],
   "source": [
    "# Delete middle node of a Linked List\n",
    "def del_middle_node():\n",
    "    global head\n",
    "    start = head\n",
    "    ll_len = 0\n",
    "    while(start is not None):\n",
    "        start = start.next\n",
    "        ll_len += 1\n",
    "    start = head\n",
    "    k = ll_len//2\n",
    "    while(k>1):\n",
    "        k -= 1\n",
    "        start = start.next\n",
    "    if(start.next is not None):\n",
    "        start.next = start.next.next\n",
    "    else:\n",
    "        head = None\n",
    "\n",
    "\n",
    "del_middle_node()"
   ]
  },
  {
   "cell_type": "code",
   "execution_count": 162,
   "id": "6c261414",
   "metadata": {},
   "outputs": [],
   "source": [
    "# K reverse linked list\n",
    "global head\n",
    "start = head\n",
    "prev = None\n",
    "curr = start\n",
    "k = 3\n",
    "# chunks = 2\n",
    "# while(chunks>0):\n",
    "#     k = num\n",
    "while(k>0):\n",
    "    temp = curr.next\n",
    "    curr.next = prev\n",
    "    prev = curr\n",
    "    curr = temp\n",
    "    k -= 1\n",
    "start = curr\n",
    "head.next = curr\n",
    "head = prev"
   ]
  },
  {
   "cell_type": "code",
   "execution_count": 163,
   "id": "85677d54",
   "metadata": {},
   "outputs": [
    {
     "name": "stdout",
     "output_type": "stream",
     "text": [
      "1\n",
      "4\n",
      "3\n",
      "2\n",
      "6\n",
      "7\n",
      "9\n",
      "11\n",
      "12\n"
     ]
    }
   ],
   "source": [
    "print_ll()"
   ]
  },
  {
   "cell_type": "code",
   "execution_count": 113,
   "id": "dd2f921a",
   "metadata": {},
   "outputs": [
    {
     "name": "stdout",
     "output_type": "stream",
     "text": [
      "2\n"
     ]
    }
   ],
   "source": [
    "print(start.value)"
   ]
  },
  {
   "cell_type": "code",
   "execution_count": 184,
   "id": "515d5756",
   "metadata": {},
   "outputs": [],
   "source": [
    "# Reverse Link List II\n",
    "def reverse_ll_interval(B,C):\n",
    "    global head\n",
    "    start = head\n",
    "    i = 1\n",
    "    while(i<B-1):\n",
    "        start = start.next\n",
    "        i += 1\n",
    "    j = 1\n",
    "    end = head\n",
    "    while(j<C+1 and end is not None):\n",
    "        end = end.next\n",
    "        j+=1\n",
    "    diff = C - B + 1\n",
    "    prev = end\n",
    "    if(B!=1):\n",
    "        curr = start.next\n",
    "    else:\n",
    "        curr = start\n",
    "    while(diff>0):\n",
    "        temp = curr.next\n",
    "        curr.next = prev\n",
    "        prev = curr\n",
    "        curr = temp\n",
    "        diff -= 1\n",
    "    if(B==1):\n",
    "        head = prev\n",
    "    else:\n",
    "        start.next = prev\n",
    "    \n",
    "reverse_ll_interval(1,2)"
   ]
  },
  {
   "cell_type": "code",
   "execution_count": null,
   "id": "c4c53017",
   "metadata": {},
   "outputs": [],
   "source": []
  }
 ],
 "metadata": {
  "kernelspec": {
   "display_name": "Python 3 (ipykernel)",
   "language": "python",
   "name": "python3"
  },
  "language_info": {
   "codemirror_mode": {
    "name": "ipython",
    "version": 3
   },
   "file_extension": ".py",
   "mimetype": "text/x-python",
   "name": "python",
   "nbconvert_exporter": "python",
   "pygments_lexer": "ipython3",
   "version": "3.9.7"
  }
 },
 "nbformat": 4,
 "nbformat_minor": 5
}
