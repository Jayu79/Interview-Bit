{
 "cells": [
  {
   "cell_type": "code",
   "execution_count": 67,
   "id": "c6cb60a4",
   "metadata": {},
   "outputs": [],
   "source": [
    "class Node:\n",
    "    def __init__(self,x):\n",
    "        self.value = x\n",
    "        self.next = None\n",
    "global head\n",
    "head = None\n",
    "def append(x):\n",
    "    global head\n",
    "    if head is None:\n",
    "        head = Node(x)\n",
    "    else:\n",
    "        start = head\n",
    "        while(start.next is not None):\n",
    "            start = start.next\n",
    "        temp = Node(x)\n",
    "        start.next = temp\n",
    "append(3)\n",
    "append(4)\n",
    "append(1)\n",
    "append(2)\n",
    "append(6)\n",
    "append(7)\n",
    "append(9)\n",
    "append(11)\n",
    "append(12)\n",
    "# append(1)\n",
    "# append(1)\n",
    "# append(2)\n",
    "# append(3)\n",
    "# append(3)\n",
    "# append(4)\n",
    "# append(4)"
   ]
  },
  {
   "cell_type": "code",
   "execution_count": 57,
   "id": "fb73c305",
   "metadata": {},
   "outputs": [
    {
     "name": "stdout",
     "output_type": "stream",
     "text": [
      "3 4 1 2 6 7 9 11 12 "
     ]
    }
   ],
   "source": [
    "def print_ll():\n",
    "    global head\n",
    "    start = head\n",
    "    while (start is not None):\n",
    "        print(start.value,end = ' ')\n",
    "        start = start.next\n",
    "print_ll()"
   ]
  },
  {
   "cell_type": "code",
   "execution_count": 25,
   "id": "f77495c0",
   "metadata": {},
   "outputs": [
    {
     "name": "stdout",
     "output_type": "stream",
     "text": [
      "7\n",
      "6\n",
      "2\n",
      "1\n",
      "4\n",
      "3\n"
     ]
    }
   ],
   "source": [
    "# Reverse a Linked List\n",
    "def reverse_ll():\n",
    "    global head\n",
    "    prev = None\n",
    "    curr = head\n",
    "    while(curr != None):\n",
    "        temp = curr.next\n",
    "        curr.next = prev\n",
    "        prev = curr\n",
    "        curr = temp\n",
    "    head = prev\n",
    "reverse_ll()\n",
    "print_ll()"
   ]
  },
  {
   "cell_type": "code",
   "execution_count": 57,
   "id": "33e8acbc",
   "metadata": {},
   "outputs": [
    {
     "data": {
      "text/plain": [
       "2"
      ]
     },
     "execution_count": 57,
     "metadata": {},
     "output_type": "execute_result"
    }
   ],
   "source": [
    "# Middle Element of a Linked List\n",
    "def middle_element():\n",
    "    global head\n",
    "    start = head\n",
    "    ll_len = 0\n",
    "    while(start is not None):\n",
    "        start = start.next\n",
    "        ll_len += 1\n",
    "    start = head\n",
    "    k = ll_len//2\n",
    "    while(k>0):\n",
    "        k -= 1\n",
    "        start = start.next\n",
    "    return start.value\n",
    "\n",
    "middle_element()"
   ]
  },
  {
   "cell_type": "code",
   "execution_count": 45,
   "id": "05f5c15c",
   "metadata": {},
   "outputs": [],
   "source": [
    "# Delete middle node of a Linked List\n",
    "def del_middle_node():\n",
    "    global head\n",
    "    start = head\n",
    "    ll_len = 0\n",
    "    while(start is not None):\n",
    "        start = start.next\n",
    "        ll_len += 1\n",
    "    start = head\n",
    "    k = ll_len//2\n",
    "    while(k>1):\n",
    "        k -= 1\n",
    "        start = start.next\n",
    "    if(start.next is not None):\n",
    "        start.next = start.next.next\n",
    "    else:\n",
    "        head = None\n",
    "\n",
    "\n",
    "del_middle_node()"
   ]
  },
  {
   "cell_type": "code",
   "execution_count": 162,
   "id": "ebddd944",
   "metadata": {},
   "outputs": [],
   "source": [
    "# K reverse linked list\n",
    "global head\n",
    "start = head\n",
    "prev = None\n",
    "curr = start\n",
    "k = 3\n",
    "# chunks = 2\n",
    "# while(chunks>0):\n",
    "#     k = num\n",
    "while(k>0):\n",
    "    temp = curr.next\n",
    "    curr.next = prev\n",
    "    prev = curr\n",
    "    curr = temp\n",
    "    k -= 1\n",
    "start = curr\n",
    "head.next = curr\n",
    "head = prev"
   ]
  },
  {
   "cell_type": "code",
   "execution_count": 163,
   "id": "5be70f49",
   "metadata": {},
   "outputs": [
    {
     "name": "stdout",
     "output_type": "stream",
     "text": [
      "1\n",
      "4\n",
      "3\n",
      "2\n",
      "6\n",
      "7\n",
      "9\n",
      "11\n",
      "12\n"
     ]
    }
   ],
   "source": [
    "print_ll()"
   ]
  },
  {
   "cell_type": "code",
   "execution_count": 113,
   "id": "9493e40d",
   "metadata": {},
   "outputs": [
    {
     "name": "stdout",
     "output_type": "stream",
     "text": [
      "2\n"
     ]
    }
   ],
   "source": [
    "print(start.value)"
   ]
  },
  {
   "cell_type": "code",
   "execution_count": 184,
   "id": "91cf91f2",
   "metadata": {},
   "outputs": [],
   "source": [
    "# Reverse Link List II\n",
    "def reverse_ll_interval(B,C):\n",
    "    global head\n",
    "    start = head\n",
    "    i = 1\n",
    "    while(i<B-1):\n",
    "        start = start.next\n",
    "        i += 1\n",
    "    j = 1\n",
    "    end = head\n",
    "    while(j<C+1 and end is not None):\n",
    "        end = end.next\n",
    "        j+=1\n",
    "    diff = C - B + 1\n",
    "    prev = end\n",
    "    if(B!=1):\n",
    "        curr = start.next\n",
    "    else:\n",
    "        curr = start\n",
    "    while(diff>0):\n",
    "        temp = curr.next\n",
    "        curr.next = prev\n",
    "        prev = curr\n",
    "        curr = temp\n",
    "        diff -= 1\n",
    "    if(B==1):\n",
    "        head = prev\n",
    "    else:\n",
    "        start.next = prev\n",
    "    \n",
    "reverse_ll_interval(1,2)"
   ]
  },
  {
   "cell_type": "code",
   "execution_count": 242,
   "id": "124692eb",
   "metadata": {},
   "outputs": [
    {
     "name": "stdout",
     "output_type": "stream",
     "text": [
      "0\n"
     ]
    }
   ],
   "source": [
    "# Remove Nth Node from List End\n",
    "def remove_nth_node_from_end(B):\n",
    "    global head\n",
    "    start = head\n",
    "    ll_length = 0\n",
    "    while(start is not None):\n",
    "        start = start.next\n",
    "        ll_length+=1\n",
    "    node_num = ll_length - B\n",
    "    start = head\n",
    "    print(node_num)\n",
    "    if(B>=ll_length):\n",
    "        head = head.next\n",
    "    else:\n",
    "        while(node_num>1):\n",
    "            start = start.next\n",
    "            node_num -= 1\n",
    "        start.next = start.next.next\n",
    "\n",
    "remove_nth_node_from_end(5)"
   ]
  },
  {
   "cell_type": "code",
   "execution_count": 33,
   "id": "47fec494",
   "metadata": {},
   "outputs": [
    {
     "name": "stdout",
     "output_type": "stream",
     "text": [
      "1\n",
      "2\n",
      "3\n",
      "4\n"
     ]
    }
   ],
   "source": [
    "print_ll()"
   ]
  },
  {
   "cell_type": "code",
   "execution_count": 32,
   "id": "45b969a6",
   "metadata": {},
   "outputs": [],
   "source": [
    "# Remove Duplicates from Sorted List\n",
    "def reomve_diplicates:\n",
    "    global head\n",
    "    start = head\n",
    "    temp = start.next\n",
    "    while(temp.next is not None):\n",
    "        if(temp.value==start.value):\n",
    "            temp = temp.next\n",
    "        else:\n",
    "            start.next = temp\n",
    "            start = temp\n",
    "            temp = temp.next\n",
    "    if(temp.value!=start.value):\n",
    "        start.next = temp\n",
    "        start = temp\n",
    "    else:\n",
    "        start.next = None"
   ]
  },
  {
   "cell_type": "code",
   "execution_count": 53,
   "id": "1ace4876",
   "metadata": {},
   "outputs": [
    {
     "name": "stdout",
     "output_type": "stream",
     "text": [
      "3 3\n",
      " \n",
      "3\n",
      "4\n",
      "1\n",
      "Inside head function 1\n",
      "2 2\n",
      " \n",
      "2\n",
      "6\n",
      "7\n",
      "9 9\n",
      " \n",
      "9\n",
      "11\n",
      "12\n"
     ]
    }
   ],
   "source": [
    "# K reverse linked list\n",
    "global head\n",
    "k = 3\n",
    "prev = None\n",
    "curr = head\n",
    "start = head\n",
    "first = True\n",
    "while start is not None:\n",
    "    num = k\n",
    "    print(start.value,curr.value)\n",
    "    print(\" \")\n",
    "    while(num>0):\n",
    "        temp = curr.next\n",
    "        print(curr.value)\n",
    "        curr.next = prev\n",
    "        prev = curr\n",
    "        curr = temp\n",
    "        num -= 1\n",
    "    if first is True:\n",
    "        head = prev\n",
    "        print(\"Inside head function\",head.value)\n",
    "        first = False\n",
    "    start.next = curr\n",
    "    start = curr\n",
    "    prev = None"
   ]
  },
  {
   "cell_type": "code",
   "execution_count": 74,
   "id": "f1a64788",
   "metadata": {},
   "outputs": [
    {
     "name": "stdout",
     "output_type": "stream",
     "text": [
      "1 4 3 7 6 2 12 11 9 "
     ]
    }
   ],
   "source": [
    "print_ll()"
   ]
  },
  {
   "cell_type": "code",
   "execution_count": 73,
   "id": "51d11332",
   "metadata": {},
   "outputs": [],
   "source": [
    "# K reversed Linked List\n",
    "dummy = Node(-1)\n",
    "dummy.next = head\n",
    "prev = dummy\n",
    "curr = dummy\n",
    "next = dummy\n",
    "count = 0\n",
    "toLoop = 0\n",
    "i = 0\n",
    "k = 3\n",
    "while curr:\n",
    "    curr = curr.next\n",
    "    count += 1\n",
    "while next:\n",
    "    curr = prev.next\n",
    "    next = curr.next\n",
    "    toLoop = count > k and k or count - 1\n",
    "    for i in range(1,toLoop):\n",
    "        curr.next = next.next\n",
    "        next.next = prev.next\n",
    "        prev.next = next\n",
    "        next = curr.next\n",
    "    prev = curr\n",
    "    count -= k\n",
    "head = dummy.next"
   ]
  },
  {
   "cell_type": "code",
   "execution_count": null,
   "id": "4a4147db",
   "metadata": {},
   "outputs": [],
   "source": []
  }
 ],
 "metadata": {
  "kernelspec": {
   "display_name": "Python 3 (ipykernel)",
   "language": "python",
   "name": "python3"
  },
  "language_info": {
   "codemirror_mode": {
    "name": "ipython",
    "version": 3
   },
   "file_extension": ".py",
   "mimetype": "text/x-python",
   "name": "python",
   "nbconvert_exporter": "python",
   "pygments_lexer": "ipython3",
   "version": "3.9.7"
  }
 },
 "nbformat": 4,
 "nbformat_minor": 5
}
