{
 "cells": [
  {
   "cell_type": "code",
   "execution_count": 13,
   "id": "e3dc3543",
   "metadata": {},
   "outputs": [
    {
     "name": "stdout",
     "output_type": "stream",
     "text": [
      "11\n",
      "22\n",
      "1111\n",
      "1221\n",
      "1221\n"
     ]
    }
   ],
   "source": [
    "# Perfect Numbers\n",
    "from collections import deque\n",
    "A = 4\n",
    "que = deque()\n",
    "que.append(1)\n",
    "que.append(2)\n",
    "while A > 0:\n",
    "    temp = que.popleft()\n",
    "    ans = str(temp) + str(temp)[::-1]\n",
    "    print(ans)\n",
    "    for i in range(1,3):\n",
    "        que.append((temp * 10) + i)\n",
    "    A -= 1\n",
    "print(ans)"
   ]
  },
  {
   "cell_type": "code",
   "execution_count": 8,
   "id": "0480c2c3",
   "metadata": {},
   "outputs": [
    {
     "name": "stdout",
     "output_type": "stream",
     "text": [
      "10\n"
     ]
    }
   ],
   "source": [
    "# Task Scheduling\n",
    "A = [2, 3, 1, 5, 4]\n",
    "B = [1, 3, 5, 4, 2]\n",
    "cnt = 0\n",
    "que = deque(A)\n",
    "for i in range(len(B)):\n",
    "    while(que[0]!=B[i]):\n",
    "        temp = que.popleft()\n",
    "        que.append(temp)\n",
    "        cnt += 1\n",
    "    que.popleft()\n",
    "    cnt += 1\n",
    "print(cnt)"
   ]
  },
  {
   "cell_type": "code",
   "execution_count": 45,
   "id": "2d2131a3",
   "metadata": {},
   "outputs": [
    {
     "name": "stdout",
     "output_type": "stream",
     "text": [
      "deque([3, 2, 1, 4, 5])\n"
     ]
    }
   ],
   "source": [
    "# Reverse Elements Of Queue\n",
    "A = [1, 2, 3, 4, 5]\n",
    "B = 3\n",
    "cnt = B\n",
    "# A = [5,17,100,11]\n",
    "# B = 2\n",
    "que = deque()\n",
    "i = 0\n",
    "while(cnt>0):\n",
    "    que.appendleft(A[i])\n",
    "#     A.remove(A[0])\n",
    "    cnt -= 1\n",
    "    i += 1\n",
    "# print(que)\n",
    "for j in range(B,len(A),1):\n",
    "#     print(A[j])\n",
    "    que.append(A[j])\n",
    "print(que)"
   ]
  },
  {
   "cell_type": "code",
   "execution_count": 58,
   "id": "d65e3011",
   "metadata": {},
   "outputs": [
    {
     "name": "stdout",
     "output_type": "stream",
     "text": [
      "deque([1, 2, 3])\n"
     ]
    }
   ],
   "source": [
    "# N integers containing only 1, 2 & 3\n",
    "A = 3\n",
    "que = deque()\n",
    "ans = deque()\n",
    "que.append(1)\n",
    "que.append(2)\n",
    "que.append(3)\n",
    "ans.append(1)\n",
    "ans.append(2)\n",
    "ans.append(3)\n",
    "count = 3\n",
    "while(count<A):\n",
    "    temp = que.popleft()\n",
    "    for i in range(1,4):\n",
    "        num = (temp*10)+i\n",
    "        ans.append(num)\n",
    "        que.append(num)\n",
    "    count += 3\n",
    "while(True):\n",
    "    if(len(ans)>A):\n",
    "        ans.pop()\n",
    "    else:\n",
    "        break\n",
    "print(ans)"
   ]
  },
  {
   "cell_type": "code",
   "execution_count": 102,
   "id": "295ad877",
   "metadata": {},
   "outputs": [
    {
     "name": "stdout",
     "output_type": "stream",
     "text": [
      "deque([10, 1])\n",
      "deque([10, 8, 9, 9, 7, 6, 11, 11])\n"
     ]
    }
   ],
   "source": [
    "# Sliding window maximum\n",
    "A = [10,1,8,9,7,6,5,11,3]\n",
    "k = 2\n",
    "# A = [1, 2, 3, 4, 2, 7, 1, 3, 6]\n",
    "# k = 6\n",
    "n= len(A)\n",
    "ans = deque()\n",
    "window_max = deque()\n",
    "for i in range(k):\n",
    "    if(len(window_max)==0):\n",
    "        window_max.append(A[i])\n",
    "    elif(A[i]>window_max[-1]):\n",
    "        while(len(window_max)!=0 and A[i]>window_max[-1]):\n",
    "            window_max.pop()\n",
    "        window_max.append(A[i])\n",
    "    else:\n",
    "        window_max.append(A[i])\n",
    "# print(window_max)\n",
    "ans.append(window_max[0])\n",
    "for i in range(k,n):\n",
    "    if(len(window_max)!=0 and A[i-k]==window_max[0]):\n",
    "        window_max.popleft()\n",
    "    if(A[i]>window_max[-1]):\n",
    "        while(len(window_max)!=0 and A[i]>window_max[-1]):\n",
    "            window_max.pop()\n",
    "        window_max.append(A[i])\n",
    "    else:\n",
    "        window_max.append(A[i])\n",
    "    ans.append(window_max[0])\n",
    "#     print(window_max,ans)\n",
    "print(ans)"
   ]
  },
  {
   "cell_type": "code",
   "execution_count": 130,
   "id": "ebd82aa9",
   "metadata": {},
   "outputs": [
    {
     "name": "stdout",
     "output_type": "stream",
     "text": [
      "aaabc#\n"
     ]
    }
   ],
   "source": [
    "# First non-repeating character\n",
    "# A = 'abadbc'\n",
    "A = 'abcabc'\n",
    "ans = ''\n",
    "queue = deque()\n",
    "freq = {}\n",
    "for i in range(len(A)):\n",
    "    ch = A[i]\n",
    "    if ch not in freq:\n",
    "        freq[ch] = 1\n",
    "    else:\n",
    "        freq[ch] += 1\n",
    "    queue.append(ch)\n",
    "    while(len(queue)>0 and freq[queue[0]]>1):\n",
    "        queue.popleft()\n",
    "    if(len(queue)==0):\n",
    "        ans += '#'\n",
    "    else:\n",
    "        ans += queue[0]\n",
    "print(ans)"
   ]
  },
  {
   "cell_type": "code",
   "execution_count": 136,
   "id": "0ae56ae8",
   "metadata": {},
   "outputs": [
    {
     "name": "stdout",
     "output_type": "stream",
     "text": [
      "3\n"
     ]
    }
   ],
   "source": [
    "# Sum of min and max\n",
    "# A = [2, 5, -1, 7, -3, -1, -2]\n",
    "# B = 4\n",
    "A = [2,-1,3]\n",
    "B = 2\n",
    "n = len(A)\n",
    "sa_min = deque()\n",
    "sa_max = deque()\n",
    "wind_max = deque()\n",
    "wind_min = deque()\n",
    "ans = 0\n",
    "for i in range(B):\n",
    "    if(len(wind_max)==0):\n",
    "        wind_max.append(A[i])\n",
    "    elif(A[i]>wind_max[-1]):\n",
    "        while(len(wind_max)!=0 and A[i]>wind_max[-1]):\n",
    "            wind_max.pop()\n",
    "        wind_max.append(A[i])\n",
    "    else:\n",
    "        wind_max.append(A[i])\n",
    "    if(len(wind_min)==0):\n",
    "        wind_min.append(A[i])\n",
    "    elif(A[i]<wind_min[-1]):\n",
    "        while(len(wind_min)!=0 and A[i]<wind_min[-1]):\n",
    "            wind_min.pop()\n",
    "        wind_min.append(A[i])\n",
    "    else:\n",
    "        wind_min.append(A[i])\n",
    "ans += wind_max[0]+wind_min[0]\n",
    "for i in range(B,n):\n",
    "    if(len(wind_max)!=0 and A[i-B]==wind_max[0]):\n",
    "        wind_max.popleft()\n",
    "    if(A[i]>wind_max[-1]):\n",
    "        while(len(wind_max)!=0 and A[i]>wind_max[-1]):\n",
    "            wind_max.pop()\n",
    "        wind_max.append(A[i])\n",
    "    else:\n",
    "        wind_max.append(A[i])\n",
    "    if(len(wind_min)!=0 and A[i-B]==wind_min[0]):\n",
    "        wind_min.popleft()\n",
    "    if(A[i]<wind_min[-1]):\n",
    "        while(len(wind_min)!=0 and A[i]<wind_min[-1]):\n",
    "            wind_min.pop()\n",
    "        wind_min.append(A[i])\n",
    "    else:\n",
    "        wind_min.append(A[i])\n",
    "#     print(window_max,ans)\n",
    "    ans += wind_max[0]+wind_min[0]\n",
    "print(ans)"
   ]
  },
  {
   "cell_type": "code",
   "execution_count": null,
   "id": "ac5e6b88",
   "metadata": {},
   "outputs": [],
   "source": []
  }
 ],
 "metadata": {
  "kernelspec": {
   "display_name": "Python 3 (ipykernel)",
   "language": "python",
   "name": "python3"
  },
  "language_info": {
   "codemirror_mode": {
    "name": "ipython",
    "version": 3
   },
   "file_extension": ".py",
   "mimetype": "text/x-python",
   "name": "python",
   "nbconvert_exporter": "python",
   "pygments_lexer": "ipython3",
   "version": "3.9.7"
  }
 },
 "nbformat": 4,
 "nbformat_minor": 5
}
