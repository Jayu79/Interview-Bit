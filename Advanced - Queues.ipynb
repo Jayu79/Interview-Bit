{
 "cells": [
  {
   "cell_type": "code",
   "execution_count": 13,
   "id": "e3dc3543",
   "metadata": {},
   "outputs": [
    {
     "name": "stdout",
     "output_type": "stream",
     "text": [
      "11\n",
      "22\n",
      "1111\n",
      "1221\n",
      "1221\n"
     ]
    }
   ],
   "source": [
    "# Perfect Numbers\n",
    "from collections import deque\n",
    "A = 4\n",
    "que = deque()\n",
    "que.append(1)\n",
    "que.append(2)\n",
    "while A > 0:\n",
    "    temp = que.popleft()\n",
    "    ans = str(temp) + str(temp)[::-1]\n",
    "    print(ans)\n",
    "    for i in range(1,3):\n",
    "        que.append((temp * 10) + i)\n",
    "    A -= 1\n",
    "print(ans)"
   ]
  },
  {
   "cell_type": "code",
   "execution_count": 8,
   "id": "0480c2c3",
   "metadata": {},
   "outputs": [
    {
     "name": "stdout",
     "output_type": "stream",
     "text": [
      "10\n"
     ]
    }
   ],
   "source": [
    "# Task Scheduling\n",
    "A = [2, 3, 1, 5, 4]\n",
    "B = [1, 3, 5, 4, 2]\n",
    "cnt = 0\n",
    "que = deque(A)\n",
    "for i in range(len(B)):\n",
    "    while(que[0]!=B[i]):\n",
    "        temp = que.popleft()\n",
    "        que.append(temp)\n",
    "        cnt += 1\n",
    "    que.popleft()\n",
    "    cnt += 1\n",
    "print(cnt)"
   ]
  },
  {
   "cell_type": "code",
   "execution_count": 45,
   "id": "2d2131a3",
   "metadata": {},
   "outputs": [
    {
     "name": "stdout",
     "output_type": "stream",
     "text": [
      "deque([3, 2, 1, 4, 5])\n"
     ]
    }
   ],
   "source": [
    "# Reverse Elements Of Queue\n",
    "A = [1, 2, 3, 4, 5]\n",
    "B = 3\n",
    "cnt = B\n",
    "# A = [5,17,100,11]\n",
    "# B = 2\n",
    "que = deque()\n",
    "i = 0\n",
    "while(cnt>0):\n",
    "    que.appendleft(A[i])\n",
    "#     A.remove(A[0])\n",
    "    cnt -= 1\n",
    "    i += 1\n",
    "# print(que)\n",
    "for j in range(B,len(A),1):\n",
    "#     print(A[j])\n",
    "    que.append(A[j])\n",
    "print(que)"
   ]
  },
  {
   "cell_type": "code",
   "execution_count": 58,
   "id": "21633a6c",
   "metadata": {},
   "outputs": [
    {
     "name": "stdout",
     "output_type": "stream",
     "text": [
      "deque([1, 2, 3])\n"
     ]
    }
   ],
   "source": [
    "# N integers containing only 1, 2 & 3\n",
    "A = 3\n",
    "que = deque()\n",
    "ans = deque()\n",
    "que.append(1)\n",
    "que.append(2)\n",
    "que.append(3)\n",
    "ans.append(1)\n",
    "ans.append(2)\n",
    "ans.append(3)\n",
    "count = 3\n",
    "while(count<A):\n",
    "    temp = que.popleft()\n",
    "    for i in range(1,4):\n",
    "        num = (temp*10)+i\n",
    "        ans.append(num)\n",
    "        que.append(num)\n",
    "    count += 3\n",
    "while(True):\n",
    "    if(len(ans)>A):\n",
    "        ans.pop()\n",
    "    else:\n",
    "        break\n",
    "print(ans)"
   ]
  },
  {
   "cell_type": "code",
   "execution_count": null,
   "id": "bf3bd25f",
   "metadata": {},
   "outputs": [],
   "source": []
  }
 ],
 "metadata": {
  "kernelspec": {
   "display_name": "Python 3 (ipykernel)",
   "language": "python",
   "name": "python3"
  },
  "language_info": {
   "codemirror_mode": {
    "name": "ipython",
    "version": 3
   },
   "file_extension": ".py",
   "mimetype": "text/x-python",
   "name": "python",
   "nbconvert_exporter": "python",
   "pygments_lexer": "ipython3",
   "version": "3.9.7"
  }
 },
 "nbformat": 4,
 "nbformat_minor": 5
}
