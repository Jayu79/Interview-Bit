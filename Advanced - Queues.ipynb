{
 "cells": [
  {
   "cell_type": "code",
   "execution_count": 13,
   "id": "e3dc3543",
   "metadata": {},
   "outputs": [
    {
     "name": "stdout",
     "output_type": "stream",
     "text": [
      "11\n",
      "22\n",
      "1111\n",
      "1221\n",
      "1221\n"
     ]
    }
   ],
   "source": [
    "# Perfect Numbers\n",
    "from collections import deque\n",
    "A = 4\n",
    "que = deque()\n",
    "que.append(1)\n",
    "que.append(2)\n",
    "while A > 0:\n",
    "    temp = que.popleft()\n",
    "    ans = str(temp) + str(temp)[::-1]\n",
    "    print(ans)\n",
    "    for i in range(1,3):\n",
    "        que.append((temp * 10) + i)\n",
    "    A -= 1\n",
    "print(ans)"
   ]
  },
  {
   "cell_type": "code",
   "execution_count": 8,
   "id": "0480c2c3",
   "metadata": {},
   "outputs": [
    {
     "name": "stdout",
     "output_type": "stream",
     "text": [
      "10\n"
     ]
    }
   ],
   "source": [
    "# Task Scheduling\n",
    "A = [2, 3, 1, 5, 4]\n",
    "B = [1, 3, 5, 4, 2]\n",
    "cnt = 0\n",
    "que = deque(A)\n",
    "for i in range(len(B)):\n",
    "    while(que[0]!=B[i]):\n",
    "        temp = que.popleft()\n",
    "        que.append(temp)\n",
    "        cnt += 1\n",
    "    que.popleft()\n",
    "    cnt += 1\n",
    "print(cnt)"
   ]
  },
  {
   "cell_type": "code",
   "execution_count": 45,
   "id": "2d2131a3",
   "metadata": {},
   "outputs": [
    {
     "name": "stdout",
     "output_type": "stream",
     "text": [
      "deque([3, 2, 1, 4, 5])\n"
     ]
    }
   ],
   "source": [
    "# Reverse Elements Of Queue\n",
    "A = [1, 2, 3, 4, 5]\n",
    "B = 3\n",
    "cnt = B\n",
    "# A = [5,17,100,11]\n",
    "# B = 2\n",
    "que = deque()\n",
    "i = 0\n",
    "while(cnt>0):\n",
    "    que.appendleft(A[i])\n",
    "#     A.remove(A[0])\n",
    "    cnt -= 1\n",
    "    i += 1\n",
    "# print(que)\n",
    "for j in range(B,len(A),1):\n",
    "#     print(A[j])\n",
    "    que.append(A[j])\n",
    "print(que)"
   ]
  },
  {
   "cell_type": "code",
   "execution_count": 58,
   "id": "a61d8aa9",
   "metadata": {},
   "outputs": [
    {
     "name": "stdout",
     "output_type": "stream",
     "text": [
      "deque([1, 2, 3])\n"
     ]
    }
   ],
   "source": [
    "# N integers containing only 1, 2 & 3\n",
    "A = 3\n",
    "que = deque()\n",
    "ans = deque()\n",
    "que.append(1)\n",
    "que.append(2)\n",
    "que.append(3)\n",
    "ans.append(1)\n",
    "ans.append(2)\n",
    "ans.append(3)\n",
    "count = 3\n",
    "while(count<A):\n",
    "    temp = que.popleft()\n",
    "    for i in range(1,4):\n",
    "        num = (temp*10)+i\n",
    "        ans.append(num)\n",
    "        que.append(num)\n",
    "    count += 3\n",
    "while(True):\n",
    "    if(len(ans)>A):\n",
    "        ans.pop()\n",
    "    else:\n",
    "        break\n",
    "print(ans)"
   ]
  },
  {
   "cell_type": "code",
   "execution_count": 102,
   "id": "2c074e78",
   "metadata": {},
   "outputs": [
    {
     "name": "stdout",
     "output_type": "stream",
     "text": [
      "deque([10, 1])\n",
      "deque([10, 8, 9, 9, 7, 6, 11, 11])\n"
     ]
    }
   ],
   "source": [
    "# Sliding window maximum\n",
    "A = [10,1,8,9,7,6,5,11,3]\n",
    "k = 2\n",
    "# A = [1, 2, 3, 4, 2, 7, 1, 3, 6]\n",
    "# k = 6\n",
    "n= len(A)\n",
    "ans = deque()\n",
    "window_max = deque()\n",
    "for i in range(k):\n",
    "    if(len(window_max)==0):\n",
    "        window_max.append(A[i])\n",
    "    elif(A[i]>window_max[-1]):\n",
    "        while(len(window_max)!=0 and A[i]>window_max[-1]):\n",
    "            window_max.pop()\n",
    "        window_max.append(A[i])\n",
    "    else:\n",
    "        window_max.append(A[i])\n",
    "# print(window_max)\n",
    "ans.append(window_max[0])\n",
    "for i in range(k,n):\n",
    "    if(len(window_max)!=0 and A[i-k]==window_max[0]):\n",
    "        window_max.popleft()\n",
    "    if(A[i]>window_max[-1]):\n",
    "        while(len(window_max)!=0 and A[i]>window_max[-1]):\n",
    "            window_max.pop()\n",
    "        window_max.append(A[i])\n",
    "    else:\n",
    "        window_max.append(A[i])\n",
    "    ans.append(window_max[0])\n",
    "#     print(window_max,ans)\n",
    "print(ans)"
   ]
  },
  {
   "cell_type": "code",
   "execution_count": 130,
   "id": "161414e5",
   "metadata": {},
   "outputs": [
    {
     "name": "stdout",
     "output_type": "stream",
     "text": [
      "aaabc#\n"
     ]
    }
   ],
   "source": [
    "# First non-repeating character\n",
    "# A = 'abadbc'\n",
    "A = 'abcabc'\n",
    "ans = ''\n",
    "queue = deque()\n",
    "freq = {}\n",
    "for i in range(len(A)):\n",
    "    ch = A[i]\n",
    "    if ch not in freq:\n",
    "        freq[ch] = 1\n",
    "    else:\n",
    "        freq[ch] += 1\n",
    "    queue.append(ch)\n",
    "    while(len(queue)>0 and freq[queue[0]]>1):\n",
    "        queue.popleft()\n",
    "    if(len(queue)==0):\n",
    "        ans += '#'\n",
    "    else:\n",
    "        ans += queue[0]\n",
    "print(ans)"
   ]
  },
  {
   "cell_type": "code",
   "execution_count": 136,
   "id": "6b6dee23",
   "metadata": {},
   "outputs": [
    {
     "name": "stdout",
     "output_type": "stream",
     "text": [
      "3\n"
     ]
    }
   ],
   "source": [
    "# Sum of min and max\n",
    "# A = [2, 5, -1, 7, -3, -1, -2]\n",
    "# B = 4\n",
    "A = [2,-1,3]\n",
    "B = 2\n",
    "n = len(A)\n",
    "sa_min = deque()\n",
    "sa_max = deque()\n",
    "wind_max = deque()\n",
    "wind_min = deque()\n",
    "ans = 0\n",
    "for i in range(B):\n",
    "    if(len(wind_max)==0):\n",
    "        wind_max.append(A[i])\n",
    "    elif(A[i]>wind_max[-1]):\n",
    "        while(len(wind_max)!=0 and A[i]>wind_max[-1]):\n",
    "            wind_max.pop()\n",
    "        wind_max.append(A[i])\n",
    "    else:\n",
    "        wind_max.append(A[i])\n",
    "    if(len(wind_min)==0):\n",
    "        wind_min.append(A[i])\n",
    "    elif(A[i]<wind_min[-1]):\n",
    "        while(len(wind_min)!=0 and A[i]<wind_min[-1]):\n",
    "            wind_min.pop()\n",
    "        wind_min.append(A[i])\n",
    "    else:\n",
    "        wind_min.append(A[i])\n",
    "ans += wind_max[0]+wind_min[0]\n",
    "for i in range(B,n):\n",
    "    if(len(wind_max)!=0 and A[i-B]==wind_max[0]):\n",
    "        wind_max.popleft()\n",
    "    if(A[i]>wind_max[-1]):\n",
    "        while(len(wind_max)!=0 and A[i]>wind_max[-1]):\n",
    "            wind_max.pop()\n",
    "        wind_max.append(A[i])\n",
    "    else:\n",
    "        wind_max.append(A[i])\n",
    "    if(len(wind_min)!=0 and A[i-B]==wind_min[0]):\n",
    "        wind_min.popleft()\n",
    "    if(A[i]<wind_min[-1]):\n",
    "        while(len(wind_min)!=0 and A[i]<wind_min[-1]):\n",
    "            wind_min.pop()\n",
    "        wind_min.append(A[i])\n",
    "    else:\n",
    "        wind_min.append(A[i])\n",
    "#     print(window_max,ans)\n",
    "    ans += wind_max[0]+wind_min[0]\n",
    "print(ans)"
   ]
  },
  {
   "cell_type": "code",
   "execution_count": 1,
   "id": "af39b057",
   "metadata": {},
   "outputs": [],
   "source": [
    "from collections import deque"
   ]
  },
  {
   "cell_type": "code",
   "execution_count": 3,
   "id": "d0a2d2fc",
   "metadata": {},
   "outputs": [],
   "source": [
    "que = []\n",
    "que.append(1)\n",
    "que.append(2)\n",
    "que.append(3)"
   ]
  },
  {
   "cell_type": "code",
   "execution_count": 4,
   "id": "52914c79",
   "metadata": {},
   "outputs": [
    {
     "name": "stdout",
     "output_type": "stream",
     "text": [
      "[1, 2, 3]\n"
     ]
    }
   ],
   "source": [
    "print(que)"
   ]
  },
  {
   "cell_type": "code",
   "execution_count": 5,
   "id": "40e7e5d5",
   "metadata": {},
   "outputs": [
    {
     "name": "stdout",
     "output_type": "stream",
     "text": [
      "1\n"
     ]
    }
   ],
   "source": [
    "x = que.pop(0)\n",
    "print(x)"
   ]
  },
  {
   "cell_type": "code",
   "execution_count": 6,
   "id": "d42695b7",
   "metadata": {},
   "outputs": [
    {
     "ename": "FileNotFoundError",
     "evalue": "[Errno 2] No such file or directory: '-f'",
     "output_type": "error",
     "traceback": [
      "\u001b[0;31m---------------------------------------------------------------------------\u001b[0m",
      "\u001b[0;31mFileNotFoundError\u001b[0m                         Traceback (most recent call last)",
      "\u001b[0;32m/var/folders/sp/db53lvqn0yj19k4cjcz37j5h0000gn/T/ipykernel_95036/1260874563.py\u001b[0m in \u001b[0;36m<module>\u001b[0;34m\u001b[0m\n\u001b[1;32m      5\u001b[0m \u001b[0;34m\u001b[0m\u001b[0m\n\u001b[1;32m      6\u001b[0m \u001b[0;31m# Open input file\u001b[0m\u001b[0;34m\u001b[0m\u001b[0;34m\u001b[0m\u001b[0m\n\u001b[0;32m----> 7\u001b[0;31m \u001b[0;32mwith\u001b[0m \u001b[0mopen\u001b[0m\u001b[0;34m(\u001b[0m\u001b[0minput_file_name\u001b[0m\u001b[0;34m,\u001b[0m \u001b[0;34m'r'\u001b[0m\u001b[0;34m)\u001b[0m \u001b[0;32mas\u001b[0m \u001b[0minput_file\u001b[0m\u001b[0;34m:\u001b[0m\u001b[0;34m\u001b[0m\u001b[0;34m\u001b[0m\u001b[0m\n\u001b[0m\u001b[1;32m      8\u001b[0m     \u001b[0;31m# Read first line of input file and extract field size\u001b[0m\u001b[0;34m\u001b[0m\u001b[0;34m\u001b[0m\u001b[0m\n\u001b[1;32m      9\u001b[0m     \u001b[0mfield_size\u001b[0m \u001b[0;34m=\u001b[0m \u001b[0mint\u001b[0m\u001b[0;34m(\u001b[0m\u001b[0minput_file\u001b[0m\u001b[0;34m.\u001b[0m\u001b[0mreadline\u001b[0m\u001b[0;34m(\u001b[0m\u001b[0;34m)\u001b[0m\u001b[0;34m.\u001b[0m\u001b[0mstrip\u001b[0m\u001b[0;34m(\u001b[0m\u001b[0;34m)\u001b[0m\u001b[0;34m)\u001b[0m\u001b[0;34m\u001b[0m\u001b[0;34m\u001b[0m\u001b[0m\n",
      "\u001b[0;31mFileNotFoundError\u001b[0m: [Errno 2] No such file or directory: '-f'"
     ]
    }
   ],
   "source": [
    "import sys\n",
    "\n",
    "# # Read input file name from command line arguments\n",
    "# input_file_name = sys.argv[1]\n",
    "\n",
    "# # Open input file\n",
    "# with open(input_file_name, 'r') as input_file:\n",
    "#     # Read first line of input file and extract field size\n",
    "#     field_size = int(input_file.readline().strip())\n",
    "\n",
    "#     # Read the rest of the input file and store the field as a list of lists\n",
    "#     field = [list(line.strip()) for line in input_file]\n",
    "\n",
    "\n",
    "# Count number of hay bales\n",
    "hay_num = sum(row.count('@') for row in field)\n",
    "\n",
    "# Define functions to check if a cell is in bounds and if two cells are adjacent\n",
    "def isInBounds(row, col):\n",
    "    return 0 <= row < field_size and 0 <= col < field_size\n",
    "\n",
    "def areAdjacent(r1, c1, r2, c2):\n",
    "    return (r1 == r2 and abs(c1 - c2) == 1) or (c1 == c2 and abs(r1 - r2) == 1)\n",
    "\n",
    "# Define function to calculate the score of a field\n",
    "def getScore(field):\n",
    "    score = 0\n",
    "    for r in range(field_size):\n",
    "        for c in range(field_size):\n",
    "            if field[r][c] == 'C':\n",
    "                cow_found = False\n",
    "                hay_found = False\n",
    "                pond_found = False\n",
    "                for dr, dc in [(-1, -1), (-1, 0), (-1, 1), (0, -1), (0, 1), (1, -1), (1, 0), (1, 1)]:\n",
    "                    nr, nc = r + dr, c + dc\n",
    "                    if isInBounds(nr, nc):\n",
    "                        if field[nr][nc] == 'C':\n",
    "                            cow_found = True\n",
    "                        elif field[nr][nc] == '@' and areAdjacent(r, c, nr, nc):\n",
    "                            hay_found = True\n",
    "                        elif field[nr][nc] == '#' and areAdjacent(r, c, nr, nc):\n",
    "                            pond_found = True\n",
    "                if cow_found:\n",
    "                    score -= 3\n",
    "                if hay_found:\n",
    "                    score += 1\n",
    "                    if pond_found:\n",
    "                        score += 2\n",
    "    return score\n",
    "\n",
    "# Define IDDFS to find a valid placement of the cow that maximizes the score\n",
    "def iddfs():\n",
    "    for depth in range(1, field_size * field_size + 1):\n",
    "        visited = set()\n",
    "        found = dfs(field, depth, visited)\n",
    "        if found is not None:\n",
    "            return found\n",
    "    return None\n",
    "\n",
    "# Define DFS to recursively search for a valid cow placement\n",
    "def dfs(field, depth, visited):\n",
    "    if depth == 0:\n",
    "        return None\n",
    "    visited.add(str(field))\n",
    "    for r in range(field_size):\n",
    "        for c in range(field_size):\n",
    "            if field[r][c] == '.':\n",
    "                new_field = [row[:] for row in field]\n",
    "                new_field[r][c] = 'C'\n",
    "                if str(new_field) not in visited:\n",
    "                    if getScore(new_field) >= 7:\n",
    "                        return new_field\n",
    "                    found = dfs(new_field, depth - 1, visited)\n",
    "                    if found is not None:\n",
    "                        return found\n",
    "    return None\n",
    "\n",
    "# Run IDDFS to find a valid cow placement\n",
    "placement = iddfs()\n",
    "\n",
    "# Calculate score of placement\n",
    "score = getScore(placement)\n",
    "\n",
    "# Read output file name from command line arguments\n",
    "output_file_name = sys.argv[2]\n",
    "\n",
    "# Open output file and write placement and score to it\n",
    "with open(output_file_name, 'w') as output_file:\n",
    "    if placement is None:\n",
    "        output_file.write('No valid cow placement found.\\n')\n",
    "    else:\n",
    "        output_file.write('\\n'.join(''.join(row) for row in placement))\n",
    "        output_file.write('\\nScore: {}\\n'.format(score))"
   ]
  },
  {
   "cell_type": "code",
   "execution_count": null,
   "id": "ee05bb2e",
   "metadata": {},
   "outputs": [],
   "source": []
  }
 ],
 "metadata": {
  "kernelspec": {
   "display_name": "Python 3 (ipykernel)",
   "language": "python",
   "name": "python3"
  },
  "language_info": {
   "codemirror_mode": {
    "name": "ipython",
    "version": 3
   },
   "file_extension": ".py",
   "mimetype": "text/x-python",
   "name": "python",
   "nbconvert_exporter": "python",
   "pygments_lexer": "ipython3",
   "version": "3.9.7"
  }
 },
 "nbformat": 4,
 "nbformat_minor": 5
}
