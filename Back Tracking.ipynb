{
 "cells": [
  {
   "cell_type": "code",
   "execution_count": 86,
   "id": "29b9fd42",
   "metadata": {},
   "outputs": [
    {
     "name": "stdout",
     "output_type": "stream",
     "text": [
      "[[], [1], [1, 2], [1, 2, 3], [1, 3], [2], [2, 3], [3]]\n"
     ]
    }
   ],
   "source": [
    "# Subset\n",
    "def subsets(A,li,idx):\n",
    "    if(idx==len(A)):\n",
    "#         print(li)\n",
    "        temp = []\n",
    "        for i in li:\n",
    "            temp.append(i)\n",
    "        ans.append(temp)\n",
    "        return \n",
    "    li.append(A[idx])\n",
    "    subsets(A,li,idx+1)\n",
    "    li.pop()\n",
    "    subsets(A,li,idx+1)\n",
    "A = [1,2,3]\n",
    "n = len(A)\n",
    "li = []\n",
    "idx = 0\n",
    "ans = []\n",
    "subsets(A,li,idx)\n",
    "# print(ans)\n",
    "ans.sort()\n",
    "print(ans)"
   ]
  },
  {
   "cell_type": "code",
   "execution_count": 51,
   "id": "8b933c70",
   "metadata": {},
   "outputs": [
    {
     "name": "stdout",
     "output_type": "stream",
     "text": [
      "[[1, 2, 3], [1, 3, 2], [2, 1, 3], [2, 3, 1], [3, 2, 1], [3, 1, 2]]\n"
     ]
    }
   ],
   "source": [
    "# Permutations\n",
    "def allPermutaions(A,N,pos,ans):\n",
    "    if(pos == N):\n",
    "        temp = []\n",
    "        for i in A:\n",
    "            temp.append(i)\n",
    "        ans.append(temp)\n",
    "        return\n",
    "    for i in range(pos,N):\n",
    "        A[i],A[pos] = A[pos],A[i]\n",
    "        allPermutaions(A,N,pos+1,ans)\n",
    "        A[i],A[pos] = A[pos],A[i]\n",
    "A = [1,2,3]\n",
    "N = len(A)\n",
    "pos = 0\n",
    "ans = []\n",
    "allPermutaions(A,N,pos,ans)\n",
    "print(ans)"
   ]
  },
  {
   "cell_type": "code",
   "execution_count": 71,
   "id": "dcb36c47",
   "metadata": {},
   "outputs": [
    {
     "name": "stdout",
     "output_type": "stream",
     "text": [
      "[[1, 1, 3], [1, 3, 1], [3, 1, 1]]\n"
     ]
    }
   ],
   "source": [
    "#  All Unique Permutations\n",
    "def allUniquePermutaions(A,N,pos,ans):\n",
    "    if(pos == N):\n",
    "        temp = []\n",
    "        for i in A:\n",
    "            temp.append(i)\n",
    "        ans.append(temp)\n",
    "        return\n",
    "    for i in range(pos,N):\n",
    "        A[i],A[pos] = A[pos],A[i]\n",
    "        allUniquePermutaions(A,N,pos+1,ans)\n",
    "        A[i],A[pos] = A[pos],A[i]\n",
    "A = [1,1,3]\n",
    "pos = 0\n",
    "ans = []\n",
    "N = len(A)\n",
    "allUniquePermutaions(A,N,pos,ans)\n",
    "print(ans)"
   ]
  },
  {
   "cell_type": "code",
   "execution_count": 85,
   "id": "2aa0ddf1",
   "metadata": {},
   "outputs": [
    {
     "name": "stdout",
     "output_type": "stream",
     "text": [
      "[[1, 2, 2], [2, 1, 2], [2, 2, 1]]\n"
     ]
    }
   ],
   "source": [
    "def unqpermutations(counter,res,n,ans):\n",
    "    if len(res) == n:\n",
    "        temp = []\n",
    "        for i in res:\n",
    "            temp.append(i)\n",
    "        ans.append(temp)\n",
    "        return\n",
    "    for key in counter:\n",
    "        if(counter[key]):\n",
    "            counter[key] -= 1\n",
    "            unqpermutations(counter,res+[key],n,ans)\n",
    "            counter[key] += 1\n",
    "A = [1,2,2]\n",
    "counter = Counter(A)\n",
    "n = len(A)\n",
    "res = []\n",
    "ans = []\n",
    "unqpermutations(counter,res,n,ans)\n",
    "print(ans)"
   ]
  },
  {
   "cell_type": "code",
   "execution_count": 113,
   "id": "404adacb",
   "metadata": {},
   "outputs": [
    {
     "data": {
      "text/plain": [
       "[(), (1,), (1, 2), (1, 2, 2), (2,), (2, 2)]"
      ]
     },
     "execution_count": 113,
     "metadata": {},
     "output_type": "execute_result"
    }
   ],
   "source": [
    "# Subset\n",
    "class Solution:\n",
    "\t# @param A : list of integers\n",
    "\t# @return a list of list of integers\n",
    "    def __init__(self):\n",
    "        self.ans = set()\n",
    "\n",
    "    def generate(A, temp, idx):\n",
    "        if idx == len(A):\n",
    "            ans.add(tuple(sorted(temp)))\n",
    "            return\n",
    "        # CASE 1: we don’t pick an element\n",
    "        Solution.generate(A, temp, idx + 1)\n",
    "\n",
    "        # CASE 2: we pick an element\n",
    "        temp.append(A[idx])\n",
    "        Solution.generate(A, temp, idx + 1)\n",
    "        temp.pop()\n",
    "    def subsetsWithDup(A):\n",
    "        temp = []\n",
    "        Solution.generate(A, temp, 0)        \n",
    "        return sorted(ans)\n",
    "A = [1,2,2]\n",
    "Solution.subsetsWithDup(A)"
   ]
  },
  {
   "cell_type": "code",
   "execution_count": 119,
   "id": "8c50fa01",
   "metadata": {},
   "outputs": [
    {
     "name": "stdout",
     "output_type": "stream",
     "text": [
      "abcd\n",
      "abc\n"
     ]
    }
   ],
   "source": [
    "S = 'abc'\n",
    "S = S +'d'\n",
    "print(S)\n",
    "S = S[:-1]\n",
    "print(S)"
   ]
  },
  {
   "cell_type": "code",
   "execution_count": 132,
   "id": "78787fa5",
   "metadata": {},
   "outputs": [
    {
     "name": "stdout",
     "output_type": "stream",
     "text": [
      "['pt', 'pu', 'pv', 'qt', 'qu', 'qv', 'rt', 'ru', 'rv', 'st', 'su', 'sv']\n"
     ]
    }
   ],
   "source": [
    "# Letter Phone\n",
    "\n",
    "def letter_phone(hm,n,A,ans,k,li):\n",
    "    if(len(ans)==n):\n",
    "        li.append(ans)\n",
    "        return\n",
    "    temp = int(A[k])\n",
    "#     print(hm)\n",
    "    for i in hm[temp]:\n",
    "        ans = ans + i\n",
    "        letter_phone(hm,n,A,ans,k+1,li)\n",
    "        ans = ans[:-1]\n",
    "    \n",
    "hm = {}\n",
    "for i in range(10):\n",
    "    if(i==0):\n",
    "        hm[i] = '0'\n",
    "    elif(i==1):\n",
    "        hm[i] = '1'\n",
    "    elif(i==2):\n",
    "        hm[i] = 'abc'\n",
    "    elif(i==3):\n",
    "        hm[i] = 'def'\n",
    "    elif(i==4):\n",
    "        hm[i] = 'ghi'\n",
    "    elif(i==5):\n",
    "        hm[i] = 'jkl'\n",
    "    elif(i==6):\n",
    "        hm[i] = 'mno'\n",
    "    elif(i==7):\n",
    "        hm[i] = 'pqrs'\n",
    "    elif(i==8):\n",
    "        hm[i] = 'tuv'\n",
    "    elif(i==9):\n",
    "        hm[i] = 'wxyz'\n",
    "ans = ''\n",
    "A = '78'\n",
    "n = len(A)\n",
    "k = 0\n",
    "li = []\n",
    "letter_phone(hm,n,A,ans,k,li)\n",
    "print(li)"
   ]
  },
  {
   "cell_type": "code",
   "execution_count": 170,
   "id": "bc4b636b",
   "metadata": {},
   "outputs": [
    {
     "name": "stdout",
     "output_type": "stream",
     "text": [
      "[0]\n"
     ]
    }
   ],
   "source": [
    "# Number of Squareful Arrays\n",
    "def check_square(num1,num2):\n",
    "    num = (num1+num2)**0.5\n",
    "    num_int = int(num)\n",
    "    if(num*num==num1+num2 and num_int==num):\n",
    "        return True\n",
    "    else:\n",
    "        return False\n",
    "\n",
    "def squarefulArrays(counter,res,n,count,flag):\n",
    "    if len(res) == n:\n",
    "        if(len(res)>1):\n",
    "            num1 = res[-1]\n",
    "            num2 = res[-2]\n",
    "            if(check_square(num1,num2) and flag is True):\n",
    "                count[0] += 1\n",
    "#                 print(res,count)\n",
    "        return\n",
    "    if(len(res)>1):\n",
    "        num1 = res[-1]\n",
    "        num2 = res[-2]\n",
    "        if(not check_square(num1,num2)):\n",
    "            flag = False\n",
    "            return\n",
    "    for key in counter:\n",
    "        if(counter[key]):\n",
    "            counter[key] -= 1\n",
    "            squarefulArrays(counter,res+[key],n,count,flag)\n",
    "            counter[key] += 1\n",
    "# A = [1,17,8]\n",
    "# A = [42,72,76]\n",
    "# A = [ 861623468, 361474260, 657794791, 992545490, 921729504, 818255817, 866864601, 925498858, 921493879 ]\n",
    "A = [99,62,10,47,53,9,83,33,15,24]\n",
    "counter = Counter(A)\n",
    "n = len(A)\n",
    "res = []\n",
    "count = [0]\n",
    "flag = True\n",
    "squarefulArrays(counter,res,n,count,flag)\n",
    "print(count)"
   ]
  },
  {
   "cell_type": "code",
   "execution_count": 247,
   "id": "530042e7",
   "metadata": {},
   "outputs": [
    {
     "name": "stdout",
     "output_type": "stream",
     "text": [
      "['.Q.....QQ.....Q.', '..Q.Q......Q.Q..']\n"
     ]
    }
   ],
   "source": [
    "# NQueens\n",
    "\n",
    "def queens(matx,A,left,right,C,r,ans):\n",
    "    if(r>=A*A):\n",
    "        temp = []\n",
    "        for i in range(len(matx)):\n",
    "            temp.append(matx[i])\n",
    "        ans.append(temp)\n",
    "#         print(matx)\n",
    "        return\n",
    "    row = r//A\n",
    "    for i in range(A):\n",
    "        if(C[i]==False and left[row-i+A-1]==False and right[row+i]==False):\n",
    "            C[i] = True\n",
    "            left[row-i+A-1] = True\n",
    "            right[row+i] = True\n",
    "            matx[r+i] = 'Q'\n",
    "            queens(matx,A,left,right,C,r+A,ans)\n",
    "            matx[r+i] = '.'\n",
    "            C[i] = False\n",
    "            left[row-i+A-1] = False\n",
    "            right[row+i] = False\n",
    "\n",
    "\n",
    "A = 4\n",
    "matx = ['.']*(A*A)\n",
    "left = [False]*((A*2)-1)\n",
    "right = [False]*((A*2)-1)\n",
    "C = [False]*A\n",
    "r = 0\n",
    "ans = []\n",
    "queens(matx,A,left,right,C,r,ans)\n",
    "# print(ans)\n",
    "final_ans = []\n",
    "for i in ans:\n",
    "    S = ''.join(i)\n",
    "    final_ans.append(S)\n",
    "print(final_ans)"
   ]
  },
  {
   "cell_type": "code",
   "execution_count": 304,
   "id": "fee22c5f",
   "metadata": {},
   "outputs": [
    {
     "name": "stdout",
     "output_type": "stream",
     "text": [
      "[['5', '3', '4', '6', '7', '8', '9', '1', '2'], ['6', '7', '2', '1', '9', '5', '3', '4', '8'], ['1', '9', '8', '3', '4', '2', '5', '6', '7'], ['8', '5', '9', '7', '6', '1', '4', '2', '3'], ['4', '2', '6', '8', '5', '3', '7', '9', '1'], ['7', '1', '3', '9', '2', '4', '8', '5', '6'], ['9', '6', '1', '5', '3', '7', '2', '8', '4'], ['2', '8', '7', '4', '1', '9', '6', '3', '5'], ['3', '4', '5', '2', '8', '6', '1', '7', '9']]\n"
     ]
    }
   ],
   "source": [
    "# Sudoku\n",
    "\n",
    "def check(A,r,c,k):\n",
    "    for m in range(0,9):\n",
    "        if(A[m][c]==k):\n",
    "            return False\n",
    "    for n in range(0,9):\n",
    "        if(A[r][n]==k):\n",
    "            return False\n",
    "    row = r - r%3\n",
    "    col = c - c%3\n",
    "    for m in range(row,row+3):\n",
    "        for n in range(col,col+3):\n",
    "            if(A[m][n]==k):\n",
    "                return False\n",
    "    return True\n",
    "\n",
    "\n",
    "def sudoku(A,i):\n",
    "    if(i==81):\n",
    "        return True\n",
    "    r = i//9\n",
    "    c = i%9\n",
    "    if(A[r][c]!='.'):\n",
    "        return sudoku(A,i+1)\n",
    "    for k in range(1,10):\n",
    "        if(check(A,r,c,str(k))):\n",
    "            A[r][c] = str(k)\n",
    "            if(sudoku(A,i+1)):\n",
    "                return True\n",
    "            A[r][c] = '.'\n",
    "    return False\n",
    "            \n",
    "# A = [[53..7....], [6..195...], [.98....6.], [8...6...3], [4..8.3..1], [7...2...6], [.6....28.], [...419..5], [....8..79]]\n",
    "A = []\n",
    "B = [['53..7....'], ['6..195...'], ['.98....6.'], ['8...6...3'], ['4..8.3..1'], ['7...2...6'], ['.6....28.'], ['...419..5'], ['....8..79']]\n",
    "for i in range(len(B)):\n",
    "    temp = []\n",
    "    S = str(B[i][0])\n",
    "    for j in range(len(S)):\n",
    "        temp.append(S[j])\n",
    "    A.append(temp)\n",
    "# print(A)\n",
    "i = 0\n",
    "sudoku(A,i)\n",
    "print(A)"
   ]
  },
  {
   "cell_type": "code",
   "execution_count": 299,
   "id": "fcb9f19e",
   "metadata": {},
   "outputs": [
    {
     "name": "stdout",
     "output_type": "stream",
     "text": [
      "3 6\n",
      "3 7\n",
      "3 8\n",
      "4 6\n",
      "4 7\n",
      "4 8\n",
      "5 6\n",
      "5 7\n",
      "5 8\n"
     ]
    }
   ],
   "source": [
    "row = 5\n",
    "col = 7\n",
    "r = row - row%3\n",
    "c = col - col%3\n",
    "for m in range(r,r+3):\n",
    "    for n in range(c,c+3):\n",
    "        print(m,n)"
   ]
  },
  {
   "cell_type": "code",
   "execution_count": 295,
   "id": "af458467",
   "metadata": {},
   "outputs": [
    {
     "name": "stdout",
     "output_type": "stream",
     "text": [
      "[['5', '3', '.', '.', '7', '.', '.', '.', '.'], ['6', '.', '.', '1', '9', '5', '.', '.', '.'], ['.', '9', '8', '.', '.', '.', '.', '6', '.'], ['8', '.', '.', '.', '6', '.', '.', '.', '3'], ['4', '.', '.', '8', '.', '3', '.', '.', '1'], ['7', '.', '.', '.', '2', '.', '.', '.', '6'], ['.', '6', '.', '.', '.', '.', '2', '8', '.'], ['.', '.', '.', '4', '1', '9', '.', '.', '5'], ['.', '.', '.', '.', '8', '.', '.', '7', '9']]\n"
     ]
    }
   ],
   "source": [
    "A = []\n",
    "B = [['53..7....'], ['6..195...'], ['.98....6.'], ['8...6...3'], ['4..8.3..1'], ['7...2...6'], ['.6....28.'], ['...419..5'], ['....8..79']]\n",
    "for i in range(len(B)):\n",
    "    temp = []\n",
    "    S = str(B[i][0])\n",
    "    for j in range(len(S)):\n",
    "        temp.append(S[j])\n",
    "    A.append(temp)\n",
    "print(A)"
   ]
  },
  {
   "cell_type": "code",
   "execution_count": null,
   "id": "7693477c",
   "metadata": {},
   "outputs": [],
   "source": []
  }
 ],
 "metadata": {
  "kernelspec": {
   "display_name": "Python 3 (ipykernel)",
   "language": "python",
   "name": "python3"
  },
  "language_info": {
   "codemirror_mode": {
    "name": "ipython",
    "version": 3
   },
   "file_extension": ".py",
   "mimetype": "text/x-python",
   "name": "python",
   "nbconvert_exporter": "python",
   "pygments_lexer": "ipython3",
   "version": "3.9.7"
  }
 },
 "nbformat": 4,
 "nbformat_minor": 5
}
