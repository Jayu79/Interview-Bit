{
 "cells": [
  {
   "cell_type": "code",
   "execution_count": 86,
   "id": "72e83278",
   "metadata": {},
   "outputs": [
    {
     "name": "stdout",
     "output_type": "stream",
     "text": [
      "[[], [1], [1, 2], [1, 2, 3], [1, 3], [2], [2, 3], [3]]\n"
     ]
    }
   ],
   "source": [
    "# Subset\n",
    "def subsets(A,li,idx):\n",
    "    if(idx==len(A)):\n",
    "#         print(li)\n",
    "        temp = []\n",
    "        for i in li:\n",
    "            temp.append(i)\n",
    "        ans.append(temp)\n",
    "        return \n",
    "    li.append(A[idx])\n",
    "    subsets(A,li,idx+1)\n",
    "    li.pop()\n",
    "    subsets(A,li,idx+1)\n",
    "A = [1,2,3]\n",
    "n = len(A)\n",
    "li = []\n",
    "idx = 0\n",
    "ans = []\n",
    "subsets(A,li,idx)\n",
    "# print(ans)\n",
    "ans.sort()\n",
    "print(ans)"
   ]
  },
  {
   "cell_type": "code",
   "execution_count": 51,
   "id": "ab01289e",
   "metadata": {},
   "outputs": [
    {
     "name": "stdout",
     "output_type": "stream",
     "text": [
      "[[1, 2, 3], [1, 3, 2], [2, 1, 3], [2, 3, 1], [3, 2, 1], [3, 1, 2]]\n"
     ]
    }
   ],
   "source": [
    "# Permutations\n",
    "def allPermutaions(A,N,pos,ans):\n",
    "    if(pos == N):\n",
    "        temp = []\n",
    "        for i in A:\n",
    "            temp.append(i)\n",
    "        ans.append(temp)\n",
    "        return\n",
    "    for i in range(pos,N):\n",
    "        A[i],A[pos] = A[pos],A[i]\n",
    "        allPermutaions(A,N,pos+1,ans)\n",
    "        A[i],A[pos] = A[pos],A[i]\n",
    "A = [1,2,3]\n",
    "N = len(A)\n",
    "pos = 0\n",
    "ans = []\n",
    "allPermutaions(A,N,pos,ans)\n",
    "print(ans)"
   ]
  },
  {
   "cell_type": "code",
   "execution_count": 71,
   "id": "b39dad38",
   "metadata": {},
   "outputs": [
    {
     "name": "stdout",
     "output_type": "stream",
     "text": [
      "[[1, 1, 3], [1, 3, 1], [3, 1, 1]]\n"
     ]
    }
   ],
   "source": [
    "#  All Unique Permutations\n",
    "def allUniquePermutaions(A,N,pos,ans):\n",
    "    if(pos == N):\n",
    "        temp = []\n",
    "        for i in A:\n",
    "            temp.append(i)\n",
    "        ans.append(temp)\n",
    "        return\n",
    "    for i in range(pos,N):\n",
    "        A[i],A[pos] = A[pos],A[i]\n",
    "        allUniquePermutaions(A,N,pos+1,ans)\n",
    "        A[i],A[pos] = A[pos],A[i]\n",
    "A = [1,1,3]\n",
    "pos = 0\n",
    "ans = []\n",
    "N = len(A)\n",
    "allUniquePermutaions(A,N,pos,ans)\n",
    "print(ans)"
   ]
  },
  {
   "cell_type": "code",
   "execution_count": 85,
   "id": "6556d4cb",
   "metadata": {},
   "outputs": [
    {
     "name": "stdout",
     "output_type": "stream",
     "text": [
      "[[1, 2, 2], [2, 1, 2], [2, 2, 1]]\n"
     ]
    }
   ],
   "source": [
    "def unqpermutations(counter,res,n,ans):\n",
    "    if len(res) == n:\n",
    "        temp = []\n",
    "        for i in res:\n",
    "            temp.append(i)\n",
    "        ans.append(temp)\n",
    "        return\n",
    "    for key in counter:\n",
    "        if(counter[key]):\n",
    "            counter[key] -= 1\n",
    "            unqpermutations(counter,res+[key],n,ans)\n",
    "            counter[key] += 1\n",
    "A = [1,2,2]\n",
    "counter = Counter(A)\n",
    "n = len(A)\n",
    "res = []\n",
    "ans = []\n",
    "unqpermutations(counter,res,n,ans)\n",
    "print(ans)"
   ]
  },
  {
   "cell_type": "code",
   "execution_count": 113,
   "id": "2c044c1a",
   "metadata": {},
   "outputs": [
    {
     "data": {
      "text/plain": [
       "[(), (1,), (1, 2), (1, 2, 2), (2,), (2, 2)]"
      ]
     },
     "execution_count": 113,
     "metadata": {},
     "output_type": "execute_result"
    }
   ],
   "source": [
    "# Subset\n",
    "class Solution:\n",
    "\t# @param A : list of integers\n",
    "\t# @return a list of list of integers\n",
    "    def __init__(self):\n",
    "        self.ans = set()\n",
    "\n",
    "    def generate(A, temp, idx):\n",
    "        if idx == len(A):\n",
    "            ans.add(tuple(sorted(temp)))\n",
    "            return\n",
    "        # CASE 1: we don’t pick an element\n",
    "        Solution.generate(A, temp, idx + 1)\n",
    "\n",
    "        # CASE 2: we pick an element\n",
    "        temp.append(A[idx])\n",
    "        Solution.generate(A, temp, idx + 1)\n",
    "        temp.pop()\n",
    "    def subsetsWithDup(A):\n",
    "        temp = []\n",
    "        Solution.generate(A, temp, 0)        \n",
    "        return sorted(ans)\n",
    "A = [1,2,2]\n",
    "Solution.subsetsWithDup(A)"
   ]
  },
  {
   "cell_type": "code",
   "execution_count": 119,
   "id": "ed03487a",
   "metadata": {},
   "outputs": [
    {
     "name": "stdout",
     "output_type": "stream",
     "text": [
      "abcd\n",
      "abc\n"
     ]
    }
   ],
   "source": [
    "S = 'abc'\n",
    "S = S +'d'\n",
    "print(S)\n",
    "S = S[:-1]\n",
    "print(S)"
   ]
  },
  {
   "cell_type": "code",
   "execution_count": 132,
   "id": "ab3e7eae",
   "metadata": {},
   "outputs": [
    {
     "name": "stdout",
     "output_type": "stream",
     "text": [
      "['pt', 'pu', 'pv', 'qt', 'qu', 'qv', 'rt', 'ru', 'rv', 'st', 'su', 'sv']\n"
     ]
    }
   ],
   "source": [
    "# Letter Phone\n",
    "\n",
    "def letter_phone(hm,n,A,ans,k,li):\n",
    "    if(len(ans)==n):\n",
    "        li.append(ans)\n",
    "        return\n",
    "    temp = int(A[k])\n",
    "#     print(hm)\n",
    "    for i in hm[temp]:\n",
    "        ans = ans + i\n",
    "        letter_phone(hm,n,A,ans,k+1,li)\n",
    "        ans = ans[:-1]\n",
    "    \n",
    "hm = {}\n",
    "for i in range(10):\n",
    "    if(i==0):\n",
    "        hm[i] = '0'\n",
    "    elif(i==1):\n",
    "        hm[i] = '1'\n",
    "    elif(i==2):\n",
    "        hm[i] = 'abc'\n",
    "    elif(i==3):\n",
    "        hm[i] = 'def'\n",
    "    elif(i==4):\n",
    "        hm[i] = 'ghi'\n",
    "    elif(i==5):\n",
    "        hm[i] = 'jkl'\n",
    "    elif(i==6):\n",
    "        hm[i] = 'mno'\n",
    "    elif(i==7):\n",
    "        hm[i] = 'pqrs'\n",
    "    elif(i==8):\n",
    "        hm[i] = 'tuv'\n",
    "    elif(i==9):\n",
    "        hm[i] = 'wxyz'\n",
    "ans = ''\n",
    "A = '78'\n",
    "n = len(A)\n",
    "k = 0\n",
    "li = []\n",
    "letter_phone(hm,n,A,ans,k,li)\n",
    "print(li)"
   ]
  },
  {
   "cell_type": "code",
   "execution_count": null,
   "id": "1b57ff10",
   "metadata": {},
   "outputs": [],
   "source": []
  }
 ],
 "metadata": {
  "kernelspec": {
   "display_name": "Python 3 (ipykernel)",
   "language": "python",
   "name": "python3"
  },
  "language_info": {
   "codemirror_mode": {
    "name": "ipython",
    "version": 3
   },
   "file_extension": ".py",
   "mimetype": "text/x-python",
   "name": "python",
   "nbconvert_exporter": "python",
   "pygments_lexer": "ipython3",
   "version": "3.9.7"
  }
 },
 "nbformat": 4,
 "nbformat_minor": 5
}
