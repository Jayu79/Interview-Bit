{
 "cells": [
  {
   "cell_type": "code",
   "execution_count": 86,
   "id": "29b9fd42",
   "metadata": {},
   "outputs": [
    {
     "name": "stdout",
     "output_type": "stream",
     "text": [
      "[[], [1], [1, 2], [1, 2, 3], [1, 3], [2], [2, 3], [3]]\n"
     ]
    }
   ],
   "source": [
    "# Subset\n",
    "def subsets(A,li,idx):\n",
    "    if(idx==len(A)):\n",
    "#         print(li)\n",
    "        temp = []\n",
    "        for i in li:\n",
    "            temp.append(i)\n",
    "        ans.append(temp)\n",
    "        return \n",
    "    li.append(A[idx])\n",
    "    subsets(A,li,idx+1)\n",
    "    li.pop()\n",
    "    subsets(A,li,idx+1)\n",
    "A = [1,2,3]\n",
    "n = len(A)\n",
    "li = []\n",
    "idx = 0\n",
    "ans = []\n",
    "subsets(A,li,idx)\n",
    "# print(ans)\n",
    "ans.sort()\n",
    "print(ans)"
   ]
  },
  {
   "cell_type": "code",
   "execution_count": 51,
   "id": "8b933c70",
   "metadata": {},
   "outputs": [
    {
     "name": "stdout",
     "output_type": "stream",
     "text": [
      "[[1, 2, 3], [1, 3, 2], [2, 1, 3], [2, 3, 1], [3, 2, 1], [3, 1, 2]]\n"
     ]
    }
   ],
   "source": [
    "# Permutations\n",
    "def allPermutaions(A,N,pos,ans):\n",
    "    if(pos == N):\n",
    "        temp = []\n",
    "        for i in A:\n",
    "            temp.append(i)\n",
    "        ans.append(temp)\n",
    "        return\n",
    "    for i in range(pos,N):\n",
    "        A[i],A[pos] = A[pos],A[i]\n",
    "        allPermutaions(A,N,pos+1,ans)\n",
    "        A[i],A[pos] = A[pos],A[i]\n",
    "A = [1,2,3]\n",
    "N = len(A)\n",
    "pos = 0\n",
    "ans = []\n",
    "allPermutaions(A,N,pos,ans)\n",
    "print(ans)"
   ]
  },
  {
   "cell_type": "code",
   "execution_count": 19,
   "id": "dcb36c47",
   "metadata": {},
   "outputs": [
    {
     "name": "stdout",
     "output_type": "stream",
     "text": [
      "[[1, 1, 2], [1, 2, 1], [1, 1, 2], [1, 2, 1], [2, 1, 1], [2, 1, 1]]\n"
     ]
    }
   ],
   "source": [
    "#  All Unique Permutations\n",
    "def allUniquePermutaions(A,N,pos,ans):\n",
    "    if(pos == N):\n",
    "        temp = []\n",
    "        for i in A:\n",
    "            temp.append(i)\n",
    "        ans.append(temp)\n",
    "        return\n",
    "    for i in range(pos,N):\n",
    "        A[i],A[pos] = A[pos],A[i]\n",
    "        allUniquePermutaions(A,N,pos+1,ans)\n",
    "        A[i],A[pos] = A[pos],A[i]\n",
    "A = [1,1,2]\n",
    "pos = 0\n",
    "ans = []\n",
    "N = len(A)\n",
    "allUniquePermutaions(A,N,pos,ans)\n",
    "print(ans)"
   ]
  },
  {
   "cell_type": "code",
   "execution_count": 85,
   "id": "2aa0ddf1",
   "metadata": {},
   "outputs": [
    {
     "name": "stdout",
     "output_type": "stream",
     "text": [
      "[[1, 2, 2], [2, 1, 2], [2, 2, 1]]\n"
     ]
    }
   ],
   "source": [
    "def unqpermutations(counter,res,n,ans):\n",
    "    if len(res) == n:\n",
    "        temp = []\n",
    "        for i in res:\n",
    "            temp.append(i)\n",
    "        ans.append(temp)\n",
    "        return\n",
    "    for key in counter:\n",
    "        if(counter[key]):\n",
    "            counter[key] -= 1\n",
    "            unqpermutations(counter,res+[key],n,ans)\n",
    "            counter[key] += 1\n",
    "A = [1,2,2]\n",
    "counter = Counter(A)\n",
    "n = len(A)\n",
    "res = []\n",
    "ans = []\n",
    "unqpermutations(counter,res,n,ans)\n",
    "print(ans)"
   ]
  },
  {
   "cell_type": "code",
   "execution_count": 113,
   "id": "404adacb",
   "metadata": {},
   "outputs": [
    {
     "data": {
      "text/plain": [
       "[(), (1,), (1, 2), (1, 2, 2), (2,), (2, 2)]"
      ]
     },
     "execution_count": 113,
     "metadata": {},
     "output_type": "execute_result"
    }
   ],
   "source": [
    "# Subset\n",
    "class Solution:\n",
    "\t# @param A : list of integers\n",
    "\t# @return a list of list of integers\n",
    "    def __init__(self):\n",
    "        self.ans = set()\n",
    "\n",
    "    def generate(A, temp, idx):\n",
    "        if idx == len(A):\n",
    "            ans.add(tuple(sorted(temp)))\n",
    "            return\n",
    "        # CASE 1: we don’t pick an element\n",
    "        Solution.generate(A, temp, idx + 1)\n",
    "\n",
    "        # CASE 2: we pick an element\n",
    "        temp.append(A[idx])\n",
    "        Solution.generate(A, temp, idx + 1)\n",
    "        temp.pop()\n",
    "    def subsetsWithDup(A):\n",
    "        temp = []\n",
    "        Solution.generate(A, temp, 0)        \n",
    "        return sorted(ans)\n",
    "A = [1,2,2]\n",
    "Solution.subsetsWithDup(A)"
   ]
  },
  {
   "cell_type": "code",
   "execution_count": 119,
   "id": "8c50fa01",
   "metadata": {},
   "outputs": [
    {
     "name": "stdout",
     "output_type": "stream",
     "text": [
      "abcd\n",
      "abc\n"
     ]
    }
   ],
   "source": [
    "S = 'abc'\n",
    "S = S +'d'\n",
    "print(S)\n",
    "S = S[:-1]\n",
    "print(S)"
   ]
  },
  {
   "cell_type": "code",
   "execution_count": 132,
   "id": "78787fa5",
   "metadata": {},
   "outputs": [
    {
     "name": "stdout",
     "output_type": "stream",
     "text": [
      "['pt', 'pu', 'pv', 'qt', 'qu', 'qv', 'rt', 'ru', 'rv', 'st', 'su', 'sv']\n"
     ]
    }
   ],
   "source": [
    "# Letter Phone\n",
    "\n",
    "def letter_phone(hm,n,A,ans,k,li):\n",
    "    if(len(ans)==n):\n",
    "        li.append(ans)\n",
    "        return\n",
    "    temp = int(A[k])\n",
    "#     print(hm)\n",
    "    for i in hm[temp]:\n",
    "        ans = ans + i\n",
    "        letter_phone(hm,n,A,ans,k+1,li)\n",
    "        ans = ans[:-1]\n",
    "    \n",
    "hm = {}\n",
    "for i in range(10):\n",
    "    if(i==0):\n",
    "        hm[i] = '0'\n",
    "    elif(i==1):\n",
    "        hm[i] = '1'\n",
    "    elif(i==2):\n",
    "        hm[i] = 'abc'\n",
    "    elif(i==3):\n",
    "        hm[i] = 'def'\n",
    "    elif(i==4):\n",
    "        hm[i] = 'ghi'\n",
    "    elif(i==5):\n",
    "        hm[i] = 'jkl'\n",
    "    elif(i==6):\n",
    "        hm[i] = 'mno'\n",
    "    elif(i==7):\n",
    "        hm[i] = 'pqrs'\n",
    "    elif(i==8):\n",
    "        hm[i] = 'tuv'\n",
    "    elif(i==9):\n",
    "        hm[i] = 'wxyz'\n",
    "ans = ''\n",
    "A = '78'\n",
    "n = len(A)\n",
    "k = 0\n",
    "li = []\n",
    "letter_phone(hm,n,A,ans,k,li)\n",
    "print(li)"
   ]
  },
  {
   "cell_type": "code",
   "execution_count": 170,
   "id": "bc4b636b",
   "metadata": {},
   "outputs": [
    {
     "name": "stdout",
     "output_type": "stream",
     "text": [
      "[0]\n"
     ]
    }
   ],
   "source": [
    "# Number of Squareful Arrays\n",
    "def check_square(num1,num2):\n",
    "    num = (num1+num2)**0.5\n",
    "    num_int = int(num)\n",
    "    if(num*num==num1+num2 and num_int==num):\n",
    "        return True\n",
    "    else:\n",
    "        return False\n",
    "\n",
    "def squarefulArrays(counter,res,n,count,flag):\n",
    "    if len(res) == n:\n",
    "        if(len(res)>1):\n",
    "            num1 = res[-1]\n",
    "            num2 = res[-2]\n",
    "            if(check_square(num1,num2) and flag is True):\n",
    "                count[0] += 1\n",
    "#                 print(res,count)\n",
    "        return\n",
    "    if(len(res)>1):\n",
    "        num1 = res[-1]\n",
    "        num2 = res[-2]\n",
    "        if(not check_square(num1,num2)):\n",
    "            flag = False\n",
    "            return\n",
    "    for key in counter:\n",
    "        if(counter[key]):\n",
    "            counter[key] -= 1\n",
    "            squarefulArrays(counter,res+[key],n,count,flag)\n",
    "            counter[key] += 1\n",
    "# A = [1,17,8]\n",
    "# A = [42,72,76]\n",
    "# A = [ 861623468, 361474260, 657794791, 992545490, 921729504, 818255817, 866864601, 925498858, 921493879 ]\n",
    "A = [99,62,10,47,53,9,83,33,15,24]\n",
    "counter = Counter(A)\n",
    "n = len(A)\n",
    "res = []\n",
    "count = [0]\n",
    "flag = True\n",
    "squarefulArrays(counter,res,n,count,flag)\n",
    "print(count)"
   ]
  },
  {
   "cell_type": "code",
   "execution_count": 22,
   "id": "530042e7",
   "metadata": {},
   "outputs": [
    {
     "name": "stdout",
     "output_type": "stream",
     "text": [
      "[['.Q..', '...Q', 'Q...', '..Q.'], ['..Q.', 'Q...', '...Q', '.Q..']]\n"
     ]
    }
   ],
   "source": [
    "# NQueens\n",
    "\n",
    "def queens(matx,A,left,right,C,r,ans):\n",
    "    if(r>=A*A):\n",
    "        temp = []\n",
    "        for i in range(len(matx)):\n",
    "            temp.append(matx[i])\n",
    "        ans.append(temp)\n",
    "#         print(matx)\n",
    "        return\n",
    "    row = r//A\n",
    "    for i in range(A):\n",
    "        if(C[i]==False and left[row-i+A-1]==False and right[row+i]==False):\n",
    "            C[i] = True\n",
    "            left[row-i+A-1] = True\n",
    "            right[row+i] = True\n",
    "            matx[r+i] = 'Q'\n",
    "            queens(matx,A,left,right,C,r+A,ans)\n",
    "            matx[r+i] = '.'\n",
    "            C[i] = False\n",
    "            left[row-i+A-1] = False\n",
    "            right[row+i] = False\n",
    "\n",
    "\n",
    "A = 4\n",
    "matx = ['.']*(A*A)\n",
    "left = [False]*((A*2)-1)\n",
    "right = [False]*((A*2)-1)\n",
    "C = [False]*A\n",
    "r = 0\n",
    "ans = []\n",
    "queens(matx,A,left,right,C,r,ans)\n",
    "# print(ans)\n",
    "final_ans = []\n",
    "for i in ans:\n",
    "#     print(i)\n",
    "    temp = []\n",
    "    S = ''\n",
    "    count = 0\n",
    "    for j in range(len(i)):\n",
    "        if(count!=A):\n",
    "            S+=i[j]\n",
    "            count += 1\n",
    "        else:\n",
    "            count = 1\n",
    "            temp.append(S)\n",
    "            S = i[j]\n",
    "    temp.append(S)\n",
    "    final_ans.append(temp)\n",
    "#     S = ''.join(i)\n",
    "#     final_ans.append(S)\n",
    "print(final_ans)"
   ]
  },
  {
   "cell_type": "code",
   "execution_count": 304,
   "id": "fee22c5f",
   "metadata": {},
   "outputs": [
    {
     "name": "stdout",
     "output_type": "stream",
     "text": [
      "[['5', '3', '4', '6', '7', '8', '9', '1', '2'], ['6', '7', '2', '1', '9', '5', '3', '4', '8'], ['1', '9', '8', '3', '4', '2', '5', '6', '7'], ['8', '5', '9', '7', '6', '1', '4', '2', '3'], ['4', '2', '6', '8', '5', '3', '7', '9', '1'], ['7', '1', '3', '9', '2', '4', '8', '5', '6'], ['9', '6', '1', '5', '3', '7', '2', '8', '4'], ['2', '8', '7', '4', '1', '9', '6', '3', '5'], ['3', '4', '5', '2', '8', '6', '1', '7', '9']]\n"
     ]
    }
   ],
   "source": [
    "# Sudoku\n",
    "\n",
    "def check(A,r,c,k):\n",
    "    for m in range(0,9):\n",
    "        if(A[m][c]==k):\n",
    "            return False\n",
    "    for n in range(0,9):\n",
    "        if(A[r][n]==k):\n",
    "            return False\n",
    "    row = r - r%3\n",
    "    col = c - c%3\n",
    "    for m in range(row,row+3):\n",
    "        for n in range(col,col+3):\n",
    "            if(A[m][n]==k):\n",
    "                return False\n",
    "    return True\n",
    "\n",
    "\n",
    "def sudoku(A,i):\n",
    "    if(i==81):\n",
    "        return True\n",
    "    r = i//9\n",
    "    c = i%9\n",
    "    if(A[r][c]!='.'):\n",
    "        return sudoku(A,i+1)\n",
    "    for k in range(1,10):\n",
    "        if(check(A,r,c,str(k))):\n",
    "            A[r][c] = str(k)\n",
    "            if(sudoku(A,i+1)):\n",
    "                return True\n",
    "            A[r][c] = '.'\n",
    "    return False\n",
    "            \n",
    "# A = [[53..7....], [6..195...], [.98....6.], [8...6...3], [4..8.3..1], [7...2...6], [.6....28.], [...419..5], [....8..79]]\n",
    "A = []\n",
    "B = [['53..7....'], ['6..195...'], ['.98....6.'], ['8...6...3'], ['4..8.3..1'], ['7...2...6'], ['.6....28.'], ['...419..5'], ['....8..79']]\n",
    "for i in range(len(B)):\n",
    "    temp = []\n",
    "    S = str(B[i][0])\n",
    "    for j in range(len(S)):\n",
    "        temp.append(S[j])\n",
    "    A.append(temp)\n",
    "# print(A)\n",
    "i = 0\n",
    "sudoku(A,i)\n",
    "print(A)"
   ]
  },
  {
   "cell_type": "code",
   "execution_count": 25,
   "id": "7693477c",
   "metadata": {},
   "outputs": [
    {
     "name": "stdout",
     "output_type": "stream",
     "text": [
      "[(1, 6, 10, 11), (1, 8, 8, 11), (1, 11, 16)]\n"
     ]
    }
   ],
   "source": [
    "#  Combination Sum II\n",
    "\n",
    "def combination(A,idx,s,B,ans,li):\n",
    "    if(idx==len(A)):\n",
    "        if(s==B):\n",
    "            ans.add(tuple(sorted(li)))\n",
    "            return  \n",
    "        return\n",
    "    if(s==B):\n",
    "        ans.add(tuple(sorted(li)))\n",
    "        return \n",
    "    li.append(A[idx])\n",
    "    s += A[idx]\n",
    "    combination(A,idx+1,s,B,ans,li)\n",
    "    s -= A[idx]\n",
    "    li.pop()\n",
    "    combination(A,idx+1,s,B,ans,li)\n",
    "\n",
    "\n",
    "A = [ 8, 10, 6, 11, 1, 16, 8 ]\n",
    "B = 28\n",
    "li = []\n",
    "ans = set()\n",
    "s = 0\n",
    "idx = 0\n",
    "A.sort()\n",
    "combination(A,idx,s,B,ans,li)\n",
    "print(sorted(ans))"
   ]
  },
  {
   "cell_type": "code",
   "execution_count": 17,
   "id": "63ce6aab",
   "metadata": {},
   "outputs": [
    {
     "name": "stdout",
     "output_type": "stream",
     "text": [
      "[(1, 1, 1, 1, 1, 1, 1, 1, 1, 1, 1, 1, 1, 1, 1, 1, 1, 1, 1, 1, 1, 1, 1, 1, 1, 1, 1, 1), (1, 1, 1, 1, 1, 1, 1, 1, 1, 1, 1, 1, 1, 1, 1, 1, 1, 1, 1, 1, 1, 1, 6), (1, 1, 1, 1, 1, 1, 1, 1, 1, 1, 1, 1, 1, 1, 1, 1, 1, 1, 1, 1, 8), (1, 1, 1, 1, 1, 1, 1, 1, 1, 1, 1, 1, 1, 1, 1, 1, 1, 1, 10), (1, 1, 1, 1, 1, 1, 1, 1, 1, 1, 1, 1, 1, 1, 1, 1, 1, 11), (1, 1, 1, 1, 1, 1, 1, 1, 1, 1, 1, 1, 1, 1, 1, 1, 6, 6), (1, 1, 1, 1, 1, 1, 1, 1, 1, 1, 1, 1, 1, 1, 6, 8), (1, 1, 1, 1, 1, 1, 1, 1, 1, 1, 1, 1, 6, 10), (1, 1, 1, 1, 1, 1, 1, 1, 1, 1, 1, 1, 8, 8), (1, 1, 1, 1, 1, 1, 1, 1, 1, 1, 1, 1, 16), (1, 1, 1, 1, 1, 1, 1, 1, 1, 1, 1, 6, 11), (1, 1, 1, 1, 1, 1, 1, 1, 1, 1, 6, 6, 6), (1, 1, 1, 1, 1, 1, 1, 1, 1, 1, 8, 10), (1, 1, 1, 1, 1, 1, 1, 1, 1, 8, 11), (1, 1, 1, 1, 1, 1, 1, 1, 6, 6, 8), (1, 1, 1, 1, 1, 1, 1, 1, 10, 10), (1, 1, 1, 1, 1, 1, 1, 10, 11), (1, 1, 1, 1, 1, 1, 6, 6, 10), (1, 1, 1, 1, 1, 1, 6, 8, 8), (1, 1, 1, 1, 1, 1, 6, 16), (1, 1, 1, 1, 1, 1, 11, 11), (1, 1, 1, 1, 1, 6, 6, 11), (1, 1, 1, 1, 6, 6, 6, 6), (1, 1, 1, 1, 6, 8, 10), (1, 1, 1, 1, 8, 8, 8), (1, 1, 1, 1, 8, 16), (1, 1, 1, 6, 8, 11), (1, 1, 6, 6, 6, 8), (1, 1, 6, 10, 10), (1, 1, 8, 8, 10), (1, 1, 10, 16), (1, 6, 10, 11), (1, 8, 8, 11), (1, 11, 16), (6, 6, 6, 10), (6, 6, 8, 8), (6, 6, 16), (6, 11, 11), (8, 10, 10)]\n"
     ]
    }
   ],
   "source": [
    "# Combination Sum\n",
    "\n",
    "def combination_sum(A,B,li):\n",
    "    if(B<0):\n",
    "        return\n",
    "    if(B==0):\n",
    "        ans.add(tuple(sorted(li)))\n",
    "        return\n",
    "    for i in A:\n",
    "        li.append(i)\n",
    "        B -= i\n",
    "        combination_sum(A,B,li)\n",
    "        li.pop()\n",
    "        B += i\n",
    "\n",
    "\n",
    "A = [ 8, 10, 6, 11, 1, 16, 8 ]\n",
    "B = 28\n",
    "li = []\n",
    "ans = set()\n",
    "A.sort()\n",
    "A = set(A)\n",
    "combination_sum(A,B,li)\n",
    "print(sorted(ans))"
   ]
  },
  {
   "cell_type": "code",
   "execution_count": 42,
   "id": "156c662b",
   "metadata": {},
   "outputs": [
    {
     "data": {
      "text/plain": [
       "0"
      ]
     },
     "execution_count": 42,
     "metadata": {},
     "output_type": "execute_result"
    }
   ],
   "source": [
    "# Unique Paths\n",
    "\n",
    "def unq_paths(start,end,visit,x,y):\n",
    "    if (x,y)==end:\n",
    "        return len(visit)==0\n",
    "    result = 0\n",
    "    if (x+1,y) in visit:\n",
    "        visit.remove((x+1,y))\n",
    "        result+=unq_paths(start,end,visit,x+1,y)\n",
    "        visit.add((x+1,y))\n",
    "    if (x-1,y) in visit:\n",
    "        visit.remove((x-1,y))\n",
    "        result+=unq_paths(start,end,visit,x-1,y)\n",
    "        visit.add((x-1,y))\n",
    "    if (x,y+1) in visit:\n",
    "        visit.remove((x,y+1))\n",
    "        result+=unq_paths(start,end,visit,x,y+1)\n",
    "        visit.add((x,y+1))\n",
    "    if (x,y-1) in visit:\n",
    "        visit.remove((x,y-1))\n",
    "        result+=unq_paths(start,end,visit,x,y-1)\n",
    "        visit.add((x,y-1))\n",
    "    return result\n",
    "\n",
    "\n",
    "# A = [   [1, 0, 0, 0],\n",
    "#         [0, 0, 0, 0],\n",
    "#         [0, 0, 2, -1]   ]\n",
    "A = [   [0, 1],\n",
    "        [2, 0]    ]\n",
    "\n",
    "start = end = None\n",
    "visit = set()\n",
    "for i in range(len(A)):\n",
    "    for j in range(len(A[0])):\n",
    "        if(A[i][j]==0):\n",
    "            visit.add((i,j))\n",
    "        if(A[i][j]==1):\n",
    "            start = (i,j)\n",
    "        if(A[i][j]==2):\n",
    "            end = (i,j)\n",
    "            visit.add((i,j))\n",
    "unq_paths(start,end,visit,start[0],start[1])"
   ]
  },
  {
   "cell_type": "code",
   "execution_count": 1,
   "id": "60196990",
   "metadata": {},
   "outputs": [],
   "source": [
    "class Solution:\n",
    "    # @param A : list of list of integers\n",
    "    # @return an integer\n",
    "    def unq_paths(self,start,end,visit,x,y):\n",
    "        if (x,y)==end:\n",
    "            return len(visit)==0\n",
    "        result = 0\n",
    "        if (x+1,y) in visit:\n",
    "            visit.remove((x+1,y))\n",
    "            result+=self.unq_paths(start,end,visit,x+1,y)\n",
    "            visit.add((x+1,y))\n",
    "        if (x-1,y) in visit:\n",
    "            visit.remove((x-1,y))\n",
    "            result+=self.unq_paths(start,end,visit,x-1,y)\n",
    "            visit.add((x-1,y))\n",
    "        if (x,y+1) in visit:\n",
    "            visit.remove((x,y+1))\n",
    "            result+=self.unq_paths(start,end,visit,x,y+1)\n",
    "            visit.add((x,y+1))\n",
    "        if (x,y-1) in visit:\n",
    "            visit.remove((x,y-1))\n",
    "            result+=self.unq_paths(start,end,visit,x,y-1)\n",
    "            visit.add((x,y-1))\n",
    "        return result\n",
    "\n",
    "    def solve(self, A):\n",
    "        start = end = None\n",
    "        visit = set()\n",
    "        for i in range(len(A)):\n",
    "            for j in range(len(A[0])):\n",
    "                if(A[i][j]==0):\n",
    "                    visit.add((i,j))\n",
    "                if(A[i][j]==1):\n",
    "                    start = (i,j)\n",
    "                if(A[i][j]==2):\n",
    "                    end = (i,j)\n",
    "                    visit.add((i,j))\n",
    "        return self.unq_paths(start,end,visit,start[0],start[1])"
   ]
  },
  {
   "cell_type": "code",
   "execution_count": 16,
   "id": "efbba03a",
   "metadata": {},
   "outputs": [
    {
     "name": "stdout",
     "output_type": "stream",
     "text": [
      "['(())()', '()()()']\n"
     ]
    }
   ],
   "source": [
    "#  Remove Invalid Parentheses\n",
    "\n",
    "def isvalid(s):\n",
    "    count = 0\n",
    "    for char in s:\n",
    "        if(char=='('):\n",
    "            count += 1\n",
    "        elif(char==')'):\n",
    "            count -= 1\n",
    "        if(count<0):\n",
    "            return False\n",
    "    return count==0\n",
    "\n",
    "\n",
    "def back_track(li,start,left,right):\n",
    "    \n",
    "    curr_str = ''.join(li)\n",
    "#     print(curr_str,l,r)\n",
    "    if(left==0 and right==0 and isvalid(curr_str)):\n",
    "#         print(\"inside if\")\n",
    "        ans.append(curr_str)\n",
    "        return\n",
    "    \n",
    "    for i in range(start,len(s)):\n",
    "        if(s[i] != '(' and s[i] != ')'):\n",
    "            continue\n",
    "        \n",
    "        if(i!=start and s[i]==s[i-1]):\n",
    "            continue\n",
    "        \n",
    "        if(right>0 and s[i]==')'):\n",
    "            li[i] = ''\n",
    "            back_track(li,i+1,left,right-1)\n",
    "            li[i] = s[i]\n",
    "        \n",
    "        elif(left>0 and s[i]=='('):\n",
    "#             print(\"inside elif\")\n",
    "            li[i] = ''\n",
    "            back_track(li,i+1,left-1,right)\n",
    "            li[i] = s[i]\n",
    "        \n",
    "    \n",
    "\n",
    "\n",
    "\n",
    "s = \"()())()\"\n",
    "\n",
    "l,r = 0,0\n",
    "\n",
    "for char in s:\n",
    "    l += (char=='(')\n",
    "    if(l==0):\n",
    "        r += (char==')')\n",
    "    else:\n",
    "        l -= (char==')')\n",
    "    \n",
    "# print(l,r)\n",
    "\n",
    "ans = []\n",
    "back_track(list(s),0,l,r)\n",
    "print(ans)"
   ]
  },
  {
   "cell_type": "code",
   "execution_count": 24,
   "id": "2f2a724c",
   "metadata": {},
   "outputs": [
    {
     "name": "stdout",
     "output_type": "stream",
     "text": [
      "[(7, 7), (4, 6), (4, 7, 7), (6, 7), (6, 7, 7), (4, 6, 7), (4, 6, 7, 7), (4, 7)]\n"
     ]
    }
   ],
   "source": [
    "# Non-decreasing Subsequences\n",
    "\n",
    "def subseq(arr,temp,n):\n",
    "#     print(temp,n)\n",
    "    if(n==len(arr)):\n",
    "        if(len(temp)>1):\n",
    "#             ans.append(temp.copy())\n",
    "            ans.add(tuple(temp))\n",
    "        return\n",
    "    \n",
    "    if(len(temp)==0):\n",
    "        temp.append(arr[n])\n",
    "        subseq(arr,temp,n+1)\n",
    "        temp.pop()\n",
    "        subseq(arr,temp,n+1)\n",
    "    elif(arr[n]>=temp[-1]):\n",
    "        temp.append(arr[n])\n",
    "        subseq(arr,temp,n+1)\n",
    "        temp.pop()\n",
    "        subseq(arr,temp,n+1)\n",
    "    \n",
    "    else:\n",
    "        subseq(arr,temp,n+1)\n",
    "    \n",
    "    \n",
    "        \n",
    "    \n",
    "arr = [4,6,7,7]  \n",
    "ans = set()\n",
    "temp = []\n",
    "subseq(arr,temp,0)\n",
    "print(list(ans))"
   ]
  },
  {
   "cell_type": "code",
   "execution_count": 35,
   "id": "e03b8571",
   "metadata": {},
   "outputs": [
    {
     "name": "stdout",
     "output_type": "stream",
     "text": [
      "['1.0.10.23', '1.0.102.3', '10.1.0.23', '10.10.2.3', '101.0.2.3']\n"
     ]
    }
   ],
   "source": [
    "# Restore IP Addresses\n",
    "\n",
    "def backtrack(idx,dots,curIp):\n",
    "    if(dots==4 and idx==len(s)):\n",
    "        res.append(curIp[:-1])\n",
    "    if(dots>4):\n",
    "        return\n",
    "#     print(idx,curIp)\n",
    "    for j in range(idx,min(idx+3,len(s))):\n",
    "        if(int(s[idx:j+1])<256 and (idx==j or s[idx]!= '0')):\n",
    "            backtrack(j+1,dots+1,curIp+s[idx:j+1]+'.')\n",
    "\n",
    "\n",
    "s = \"101023\"\n",
    "res = []\n",
    "backtrack(0,0,\"\")\n",
    "print(res)"
   ]
  },
  {
   "cell_type": "code",
   "execution_count": 43,
   "id": "3b9f395a",
   "metadata": {},
   "outputs": [
    {
     "name": "stdout",
     "output_type": "stream",
     "text": [
      "[True]\n"
     ]
    }
   ],
   "source": [
    "# Check if Point Is Reachable\n",
    "\n",
    "\n",
    "def recheable(curX,curY,ans):\n",
    "    \n",
    "    if(ans[0] is True):\n",
    "        return\n",
    "    \n",
    "    if(curX==targetX and curY == targetY):\n",
    "        ans[0] = True\n",
    "        return\n",
    "    \n",
    "    recheable(x+1,y+1,ans)\n",
    "\n",
    "\n",
    "ans = [False]\n",
    "x,y = 1,1\n",
    "targetX = 2\n",
    "targetY = 2\n",
    "recheable(x,y,ans)\n",
    "print(ans)"
   ]
  },
  {
   "cell_type": "code",
   "execution_count": 47,
   "id": "de8286b1",
   "metadata": {},
   "outputs": [
    {
     "name": "stdout",
     "output_type": "stream",
     "text": [
      "0\n"
     ]
    }
   ],
   "source": [
    "# Min operations to make equal\n",
    "\n",
    "# nums1 = [4,3,1,4]\n",
    "# nums2 = [1,3,7,1]\n",
    "# k = 3\n",
    "\n",
    "# nums1 = [3,8,5,2]\n",
    "# nums2 = [2,4,1,6]\n",
    "# k = 1\n",
    "\n",
    "nums1 = [4,3,1,4]\n",
    "nums2 = [2,3,6,1]\n",
    "k = 10\n",
    "\n",
    "diff = 0\n",
    "\n",
    "for i in range(len(nums1)):\n",
    "    \n",
    "    absol = abs(nums1[i]-nums2[i])\n",
    "    if(absol%k==0):\n",
    "        diff += absol//k\n",
    "\n",
    "print(diff)\n"
   ]
  },
  {
   "cell_type": "code",
   "execution_count": 83,
   "id": "429a66f4",
   "metadata": {},
   "outputs": [
    {
     "name": "stdout",
     "output_type": "stream",
     "text": [
      "11 11 11\n",
      "SummaryRanges   []   None\n",
      "addNum   [1]   None\n",
      "getIntervals   []   [[1, 1]]\n",
      "addNum   [3]   None\n",
      "getIntervals   []   [[1, 1], [3, 3]]\n",
      "addNum   [7]   None\n",
      "getIntervals   []   [[1, 1], [3, 3], [7, 7]]\n",
      "addNum   [2]   None\n",
      "getIntervals   []   [[1, 3], [7, 7]]\n",
      "addNum   [6]   None\n",
      "getIntervals   []   [[1, 3], [6, 7]]\n"
     ]
    }
   ],
   "source": [
    "A = [\"SummaryRanges\", \"addNum\", \"getIntervals\", \"addNum\", \"getIntervals\", \"addNum\", \"getIntervals\", \"addNum\", \"getIntervals\", \"addNum\", \"getIntervals\"]\n",
    "B = [[], [1], [], [3], [], [7], [], [2], [], [6], []]\n",
    "C = [None, None, [[1, 1]], None, [[1, 1], [3, 3]], None, [[1, 1], [3, 3], [7, 7]], None, [[1, 3], [7, 7]], None, [[1, 3], [6, 7]]]\n",
    "\n",
    "\n",
    "print(len(A),len(B),len(C))\n",
    "\n",
    "for i in range(len(A)):\n",
    "    print(A[i],\" \",B[i],\" \",C[i])"
   ]
  },
  {
   "cell_type": "code",
   "execution_count": 107,
   "id": "66eb203d",
   "metadata": {},
   "outputs": [
    {
     "name": "stdout",
     "output_type": "stream",
     "text": [
      "['((()))', '(()())', '(())()', '()(())', '()()()']\n"
     ]
    }
   ],
   "source": [
    "# Generate Parentheses\n",
    "\n",
    "def check_valid(s):\n",
    "    \n",
    "    stack = []\n",
    "    for i in s:\n",
    "        if(i=='('):\n",
    "            stack.append(i)\n",
    "        elif(len(stack)==0 and i==')'):\n",
    "            return False\n",
    "        else:\n",
    "            stack.pop()\n",
    "    \n",
    "    if(len(stack)==0):\n",
    "        return True\n",
    "    else:\n",
    "        return False\n",
    "    \n",
    "\n",
    "def generate_paranthesis(n,ans,string):\n",
    "    if(len(string)==length*2):\n",
    "        if(check_valid(string)):\n",
    "            ans.append(string)\n",
    "        return\n",
    "    \n",
    "    string += '('\n",
    "    generate_paranthesis(n+1,ans,string)\n",
    "    string = string[:-1]\n",
    "    if(n!=0):\n",
    "        string += ')'\n",
    "        generate_paranthesis(n+1,ans,string)\n",
    "    return\n",
    "\n",
    "\n",
    "length = 3\n",
    "ans = []\n",
    "string = \"\"\n",
    "count = 0\n",
    "generate_paranthesis(0,ans,string)\n",
    "print(ans)\n",
    "# check_valid('))))')"
   ]
  },
  {
   "cell_type": "code",
   "execution_count": null,
   "id": "4055a6e6",
   "metadata": {},
   "outputs": [],
   "source": []
  }
 ],
 "metadata": {
  "kernelspec": {
   "display_name": "Python 3 (ipykernel)",
   "language": "python",
   "name": "python3"
  },
  "language_info": {
   "codemirror_mode": {
    "name": "ipython",
    "version": 3
   },
   "file_extension": ".py",
   "mimetype": "text/x-python",
   "name": "python",
   "nbconvert_exporter": "python",
   "pygments_lexer": "ipython3",
   "version": "3.9.7"
  }
 },
 "nbformat": 4,
 "nbformat_minor": 5
}
