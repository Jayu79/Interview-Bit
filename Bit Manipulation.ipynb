{
 "cells": [
  {
   "cell_type": "code",
   "execution_count": 24,
   "id": "d5439704",
   "metadata": {},
   "outputs": [
    {
     "name": "stdout",
     "output_type": "stream",
     "text": [
      "3221225472\n",
      "['0', '0', '0', '0', '0', '0', '0', '0', '0', '0', '0', '0', '0', '0', '0', '0', '0', '0', '0', '0', '0', '0', '0', '0', '0', '0', '0', '0', '0', '0', 1, 1]\n"
     ]
    }
   ],
   "source": [
    "#Reverse Bits\n",
    "string = list(\"00000000000000000000000000000000\")\n",
    "count = 31\n",
    "A = 3\n",
    "while(count > -1):\n",
    "    if(A%2 == 1):\n",
    "        string[count] = 1\n",
    "    A = int(A/2)\n",
    "    count = count - 1\n",
    "num = 0\n",
    "c = 31\n",
    "while(c > -1):\n",
    "    num = num + (int(string[c])*pow(2,c))\n",
    "    c = c-1\n",
    "print(num)\n",
    "print(string)"
   ]
  },
  {
   "cell_type": "code",
   "execution_count": 32,
   "id": "1e505fa1",
   "metadata": {},
   "outputs": [
    {
     "name": "stdout",
     "output_type": "stream",
     "text": [
      "1\n"
     ]
    }
   ],
   "source": [
    "#Help for Sam \n",
    "#Finding Good Days\n",
    "N = 4\n",
    "count = 0\n",
    "while(N>0):\n",
    "    if(N&1==1):\n",
    "        count = count + 1\n",
    "    N = N>>1\n",
    "print(count)"
   ]
  },
  {
   "cell_type": "code",
   "execution_count": 38,
   "id": "10f5e86c",
   "metadata": {},
   "outputs": [
    {
     "name": "stdout",
     "output_type": "stream",
     "text": [
      "[1, 1, 1]\n",
      "1\n"
     ]
    }
   ],
   "source": [
    "#Bit Compression\n",
    "A = [1,1,1]\n",
    "ans = 0\n",
    "for i in range(0,len(A)):\n",
    "    for j in range(i+1,len(A)):\n",
    "        temp_i = A[i]\n",
    "        temp_j = A[j]\n",
    "        A[i] = temp_i&temp_j\n",
    "        A[j] = temp_i|temp_j\n",
    "for i in A:\n",
    "    ans = ans^i\n",
    "print(A)\n",
    "print(ans)"
   ]
  },
  {
   "cell_type": "code",
   "execution_count": 75,
   "id": "4237cf92",
   "metadata": {},
   "outputs": [
    {
     "name": "stdout",
     "output_type": "stream",
     "text": [
      "0 0\n",
      "1 2\n",
      "1 3\n",
      "0 3\n",
      "1 5\n",
      "13\n"
     ]
    }
   ],
   "source": [
    "#Sub arrays with Bitwise OR 1\n",
    "B = [0,1,1,0,1]\n",
    "A = 5\n",
    "last = 0\n",
    "ans = 0\n",
    "for i in range(A):\n",
    "    if B[i] == 1: last = i+1\n",
    "    print(B[i],last)\n",
    "    ans += last\n",
    "print(ans)"
   ]
  },
  {
   "cell_type": "code",
   "execution_count": 79,
   "id": "5f5fdbb1",
   "metadata": {},
   "outputs": [
    {
     "name": "stdout",
     "output_type": "stream",
     "text": [
      "80\n"
     ]
    }
   ],
   "source": [
    "#Unset X bits from right\n",
    "A = 93\n",
    "B = 4\n",
    "C = A>>B\n",
    "print(C<<B)"
   ]
  },
  {
   "cell_type": "code",
   "execution_count": null,
   "id": "f88382da",
   "metadata": {},
   "outputs": [],
   "source": []
  }
 ],
 "metadata": {
  "kernelspec": {
   "display_name": "Python 3 (ipykernel)",
   "language": "python",
   "name": "python3"
  },
  "language_info": {
   "codemirror_mode": {
    "name": "ipython",
    "version": 3
   },
   "file_extension": ".py",
   "mimetype": "text/x-python",
   "name": "python",
   "nbconvert_exporter": "python",
   "pygments_lexer": "ipython3",
   "version": "3.9.7"
  }
 },
 "nbformat": 4,
 "nbformat_minor": 5
}
