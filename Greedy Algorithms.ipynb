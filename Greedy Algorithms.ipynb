{
 "cells": [
  {
   "cell_type": "code",
   "execution_count": 9,
   "id": "7843ba95",
   "metadata": {},
   "outputs": [
    {
     "name": "stdout",
     "output_type": "stream",
     "text": [
      "[1, 3, 2, 1, 2, 3, 4, 2, 1]\n"
     ]
    }
   ],
   "source": [
    "# Distribute Candy\n",
    "A = [2,6,3,1,10,12,20,5,2]\n",
    "n = len(A)\n",
    "l = [0]*n\n",
    "r = [0]*n\n",
    "ans = [0]*n\n",
    "l[0] = 1\n",
    "r[n-1] = 1\n",
    "for i in range(1,n):\n",
    "    if(A[i]>A[i-1]):\n",
    "        l[i] = l[i-1] + 1\n",
    "    else:\n",
    "        l[i] = 1\n",
    "for i in range(n-2,-1,-1):\n",
    "    if(A[i]>A[i+1]):\n",
    "        r[i] = r[i+1] + 1\n",
    "    else:\n",
    "        r[i] = 1\n",
    "for i in range(n):\n",
    "    ans[i] = max(l[i],r[i])\n",
    "print(ans)"
   ]
  },
  {
   "cell_type": "code",
   "execution_count": 13,
   "id": "13b76049",
   "metadata": {},
   "outputs": [
    {
     "name": "stdout",
     "output_type": "stream",
     "text": [
      "[(1, 7), (5, 8), (7, 8), (1, 8)]\n",
      "[(1, 7), (5, 8), (7, 8), (1, 8)]\n",
      "2\n"
     ]
    }
   ],
   "source": [
    "# Finish Maximum Jobs\n",
    "A = [1, 5, 7, 1]\n",
    "B = [7, 8, 8, 8]\n",
    "n = len(A)\n",
    "intervals = []\n",
    "for i in range(n):\n",
    "    intervals.append((A[i],B[i]))\n",
    "print(intervals)\n",
    "intervals.sort(key = lambda x:x[1])\n",
    "print(intervals)\n",
    "start,end = -1,-1\n",
    "count = 0\n",
    "for i in range(n):\n",
    "    if(end<intervals[i][1]):\n",
    "        if(intervals[i][0]>=end):\n",
    "            start,end = intervals[i]\n",
    "            count += 1\n",
    "        else:\n",
    "            continue\n",
    "print(count)"
   ]
  },
  {
   "cell_type": "code",
   "execution_count": 11,
   "id": "cacf53e6",
   "metadata": {},
   "outputs": [
    {
     "name": "stdout",
     "output_type": "stream",
     "text": [
      "[(5, 0), (1, 1), (6, 2), (3, 2), (9, 2)]\n",
      "4 [] (9, 2)\n",
      "3 [] (9, 2)\n",
      "2 [9] (3, 2)\n",
      "1 [9, 3] (6, 2)\n",
      "0 [9, 3, 6] (1, 1)\n",
      "[9, 3, 6]\n"
     ]
    }
   ],
   "source": [
    "# Free Cars\n",
    "A = [1, 3, 2, 3, 3]\n",
    "B = [5, 6, 1, 3, 9]\n",
    "n = len(A)\n",
    "for i in range(n):\n",
    "    A[i] = A[i]-1\n",
    "pairs = []\n",
    "for i in range(n):\n",
    "    pairs.append((B[i],A[i]))\n",
    "pairs.sort(key = lambda x:x[1])\n",
    "print(pairs)\n",
    "end = n-1\n",
    "ans = []\n",
    "for i in range(n-1,-1,-1):\n",
    "    pair = pairs[end]\n",
    "    while(pair[1]>=i):\n",
    "        if(pair[1]>=i):\n",
    "            ans.append(pair[0])\n",
    "            end -= 1\n",
    "            pair = pairs[end]\n",
    "            break\n",
    "        else:\n",
    "            end -= 1\n",
    "            pair = pairs[end]\n",
    "    print(i,ans,pair)\n",
    "print(ans)"
   ]
  },
  {
   "cell_type": "code",
   "execution_count": 25,
   "id": "670a8f00",
   "metadata": {},
   "outputs": [
    {
     "name": "stdout",
     "output_type": "stream",
     "text": [
      "[5]\n",
      "[1, 5]\n",
      "[1, 5, 6]\n",
      "[3, 6, 5]\n",
      "[5, 6, 9]\n",
      "20\n"
     ]
    }
   ],
   "source": [
    "from heapq import heappop,heappush,heapify\n",
    "class Pair:\n",
    "    def __init__(self,time,profit):\n",
    "        self.time = time\n",
    "        self.profit = profit\n",
    "\n",
    "A = [1, 3, 2, 3, 3]\n",
    "B = [5, 6, 1, 3, 9]\n",
    "MinHeap = []\n",
    "heapify(MinHeap)\n",
    "n = len(A)\n",
    "hunt = []\n",
    "for i in range(n):\n",
    "    hunt.append(Pair(A[i],B[i]))\n",
    "hunt.sort(key = lambda x: x.time)\n",
    "for i in range(n):\n",
    "    if hunt[i].time>len(MinHeap):\n",
    "        heappush(MinHeap,hunt[i].profit)\n",
    "    elif(hunt[i].profit>MinHeap[0]):\n",
    "        heappop(MinHeap)\n",
    "        heappush(MinHeap,hunt[i].profit)\n",
    "    print(MinHeap)\n",
    "ans = 0\n",
    "for i in MinHeap:\n",
    "    ans += i\n",
    "print(ans)"
   ]
  },
  {
   "cell_type": "code",
   "execution_count": 5,
   "id": "b047de9f",
   "metadata": {},
   "outputs": [
    {
     "name": "stdout",
     "output_type": "stream",
     "text": [
      "[4, 6, 6, 9, 12]\n",
      "6\n",
      "11\n"
     ]
    }
   ],
   "source": [
    "# Seats\n",
    "\n",
    "A = \"....x..xx...x...x..\"\n",
    "\n",
    "position = []\n",
    "count = 0\n",
    "l = len(A)\n",
    "ans = 0\n",
    "\n",
    "for i in range(l):\n",
    "    if(A[i]=='x'):\n",
    "        position.append(i-count)\n",
    "        count += 1\n",
    "\n",
    "print(position)\n",
    "\n",
    "if(count==l or count==0):\n",
    "    ans = 0\n",
    "    \n",
    "med_idx = (count-1)//2\n",
    "med_val = position[med_idx]\n",
    "\n",
    "print(med_val)\n",
    "\n",
    "for i in range(len(position)):\n",
    "    \n",
    "    ans += abs(position[i]-med_val)\n",
    "    \n",
    "print(ans)"
   ]
  },
  {
   "cell_type": "code",
   "execution_count": 6,
   "id": "c58e5edb",
   "metadata": {},
   "outputs": [
    {
     "name": "stdout",
     "output_type": "stream",
     "text": [
      "4\n"
     ]
    }
   ],
   "source": [
    "# IPO\n",
    "from heapq import heapify,heappush,heappop\n",
    "\n",
    "\n",
    "k = 2\n",
    "w = 0\n",
    "profits = [1,2,3]\n",
    "capital = [0,1,1]\n",
    "\n",
    "projects = []\n",
    "for i in range(len(profits)):\n",
    "    projects.append((capital[i],profits[i]))\n",
    "\n",
    "projects.sort()\n",
    "\n",
    "available_projects = []\n",
    "heapify(available_projects)\n",
    "\n",
    "i = 0\n",
    "while(k):\n",
    "    while(i<len(projects) and projects[i][0]<=w):\n",
    "        heappush(available_projects,-projects[i][1])\n",
    "        i+=1\n",
    "    \n",
    "    if(len(available_projects)==0):\n",
    "        break\n",
    "    \n",
    "    w -= heappop(available_projects)\n",
    "    k -= 1\n",
    "\n",
    "print(w)"
   ]
  },
  {
   "cell_type": "code",
   "execution_count": 5,
   "id": "5c73b2c3",
   "metadata": {},
   "outputs": [
    {
     "name": "stdout",
     "output_type": "stream",
     "text": [
      "[-2, 1, 4, 1]\n",
      "1\n"
     ]
    }
   ],
   "source": [
    "n = 8\n",
    "arr = [5,7,7,6,8,4,5,4]\n",
    "pairs = []\n",
    "for i in range(n):\n",
    "    if(i%2==1):\n",
    "        continue\n",
    "    else:\n",
    "        a = arr[i]\n",
    "        b = arr[i+1]\n",
    "        pairs.append([a,b])\n",
    "\n",
    "diff = []\n",
    "for i in pairs:\n",
    "    a = i[0]\n",
    "    b = i[1]\n",
    "    diff.append(a-b)\n",
    "print(diff)\n",
    "pf_sum = 0\n",
    "for i in range(len(diff)):\n",
    "    pf_sum += diff[i]\n",
    "    if(pf_sum>=0):\n",
    "        break\n",
    "\n",
    "print(i-1)"
   ]
  },
  {
   "cell_type": "code",
   "execution_count": null,
   "id": "c0d6fbe4",
   "metadata": {},
   "outputs": [],
   "source": []
  }
 ],
 "metadata": {
  "kernelspec": {
   "display_name": "Python 3 (ipykernel)",
   "language": "python",
   "name": "python3"
  },
  "language_info": {
   "codemirror_mode": {
    "name": "ipython",
    "version": 3
   },
   "file_extension": ".py",
   "mimetype": "text/x-python",
   "name": "python",
   "nbconvert_exporter": "python",
   "pygments_lexer": "ipython3",
   "version": "3.9.7"
  }
 },
 "nbformat": 4,
 "nbformat_minor": 5
}
