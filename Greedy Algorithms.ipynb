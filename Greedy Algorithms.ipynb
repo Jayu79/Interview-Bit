{
 "cells": [
  {
   "cell_type": "code",
   "execution_count": 9,
   "id": "7843ba95",
   "metadata": {},
   "outputs": [
    {
     "name": "stdout",
     "output_type": "stream",
     "text": [
      "[1, 3, 2, 1, 2, 3, 4, 2, 1]\n"
     ]
    }
   ],
   "source": [
    "# Distribute Candy\n",
    "A = [2,6,3,1,10,12,20,5,2]\n",
    "n = len(A)\n",
    "l = [0]*n\n",
    "r = [0]*n\n",
    "ans = [0]*n\n",
    "l[0] = 1\n",
    "r[n-1] = 1\n",
    "for i in range(1,n):\n",
    "    if(A[i]>A[i-1]):\n",
    "        l[i] = l[i-1] + 1\n",
    "    else:\n",
    "        l[i] = 1\n",
    "for i in range(n-2,-1,-1):\n",
    "    if(A[i]>A[i+1]):\n",
    "        r[i] = r[i+1] + 1\n",
    "    else:\n",
    "        r[i] = 1\n",
    "for i in range(n):\n",
    "    ans[i] = max(l[i],r[i])\n",
    "print(ans)"
   ]
  },
  {
   "cell_type": "code",
   "execution_count": 13,
   "id": "13b76049",
   "metadata": {},
   "outputs": [
    {
     "name": "stdout",
     "output_type": "stream",
     "text": [
      "[(1, 7), (5, 8), (7, 8), (1, 8)]\n",
      "[(1, 7), (5, 8), (7, 8), (1, 8)]\n",
      "2\n"
     ]
    }
   ],
   "source": [
    "# Finish Maximum Jobs\n",
    "A = [1, 5, 7, 1]\n",
    "B = [7, 8, 8, 8]\n",
    "n = len(A)\n",
    "intervals = []\n",
    "for i in range(n):\n",
    "    intervals.append((A[i],B[i]))\n",
    "print(intervals)\n",
    "intervals.sort(key = lambda x:x[1])\n",
    "print(intervals)\n",
    "start,end = -1,-1\n",
    "count = 0\n",
    "for i in range(n):\n",
    "    if(end<intervals[i][1]):\n",
    "        if(intervals[i][0]>=end):\n",
    "            start,end = intervals[i]\n",
    "            count += 1\n",
    "        else:\n",
    "            continue\n",
    "print(count)"
   ]
  },
  {
   "cell_type": "code",
   "execution_count": null,
   "id": "cacf53e6",
   "metadata": {},
   "outputs": [],
   "source": []
  }
 ],
 "metadata": {
  "kernelspec": {
   "display_name": "Python 3 (ipykernel)",
   "language": "python",
   "name": "python3"
  },
  "language_info": {
   "codemirror_mode": {
    "name": "ipython",
    "version": 3
   },
   "file_extension": ".py",
   "mimetype": "text/x-python",
   "name": "python",
   "nbconvert_exporter": "python",
   "pygments_lexer": "ipython3",
   "version": "3.9.7"
  }
 },
 "nbformat": 4,
 "nbformat_minor": 5
}
