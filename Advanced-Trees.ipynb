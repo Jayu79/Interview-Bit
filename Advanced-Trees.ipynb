{
 "cells": [
  {
   "cell_type": "code",
   "execution_count": 68,
   "id": "bba2fb89",
   "metadata": {},
   "outputs": [],
   "source": [
    "class TreeNode:\n",
    "    def __init__(self, x):\n",
    "        self.val = x\n",
    "        self.left = None\n",
    "        self.right = None     \n",
    "root = TreeNode(1)\n",
    "root.left = TreeNode(6)\n",
    "root.right = TreeNode(2)\n",
    "root.right.left = TreeNode(3)\n",
    "# root.right.right = TreeNode(4)\n",
    "# root.left.left = TreeNode(5)\n",
    "# root.left.right = TreeNode(9)"
   ]
  },
  {
   "cell_type": "code",
   "execution_count": null,
   "id": "c0bf3016",
   "metadata": {},
   "outputs": [],
   "source": [
    "#      1 \n",
    "\n",
    "#   6     2\n",
    "\n",
    "#      3   \n",
    "# \n",
    "# "
   ]
  },
  {
   "cell_type": "code",
   "execution_count": 69,
   "id": "29562991",
   "metadata": {},
   "outputs": [
    {
     "name": "stdout",
     "output_type": "stream",
     "text": [
      "[6, 1, 3, 2]\n"
     ]
    }
   ],
   "source": [
    "# Inorder Traversal\n",
    "def inorder_traversal(A,li):\n",
    "    if(A is None):\n",
    "        return\n",
    "    inorder_traversal(A.left,li)\n",
    "    li.append(A.val)\n",
    "    inorder_traversal(A.right,li)\n",
    "li = []\n",
    "inorder_traversal(root,li)\n",
    "print(li)"
   ]
  },
  {
   "cell_type": "code",
   "execution_count": 6,
   "id": "cb175bec",
   "metadata": {},
   "outputs": [
    {
     "name": "stdout",
     "output_type": "stream",
     "text": [
      "[1, 6, 2, 3]\n"
     ]
    }
   ],
   "source": [
    "# Pre order Traversal\n",
    "def preorder_traversal(A,li):\n",
    "    if(A is None):\n",
    "        return\n",
    "    li.append(A.val)\n",
    "    preorder_traversal(A.left,li)\n",
    "    preorder_traversal(A.right,li)\n",
    "li = []\n",
    "preorder_traversal(root,li)\n",
    "print(li)"
   ]
  },
  {
   "cell_type": "code",
   "execution_count": 8,
   "id": "3bae5d0c",
   "metadata": {},
   "outputs": [
    {
     "name": "stdout",
     "output_type": "stream",
     "text": [
      "[6, 3, 2, 1]\n"
     ]
    }
   ],
   "source": [
    "# Post order Traversal\n",
    "def postorder_traversal(A,li):\n",
    "    if(A is None):\n",
    "        return\n",
    "    postorder_traversal(A.left,li)\n",
    "    postorder_traversal(A.right,li)\n",
    "    li.append(A.val)\n",
    "li = []\n",
    "postorder_traversal(root,li)\n",
    "print(li)"
   ]
  },
  {
   "cell_type": "code",
   "execution_count": 19,
   "id": "03e595b5",
   "metadata": {},
   "outputs": [
    {
     "name": "stdout",
     "output_type": "stream",
     "text": [
      "1\n",
      "\n",
      "6\n",
      "2\n",
      "\n",
      "3\n",
      "[[1], [6, 2], [3]]\n"
     ]
    }
   ],
   "source": [
    "# Level Order\n",
    "from collections import deque\n",
    "que = deque()\n",
    "que.append(root)\n",
    "que.append(None)\n",
    "# print(len(que))\n",
    "ans = []\n",
    "temp = []\n",
    "while(len(que)>1):\n",
    "    f = que.popleft()\n",
    "#     print(f)\n",
    "    if(f is None):\n",
    "        print('')\n",
    "        ans.append(temp)\n",
    "        temp = []\n",
    "        que.append(None)\n",
    "    else:\n",
    "        print(f.val)\n",
    "        temp.append(f.val)\n",
    "        if(f.left is not None):\n",
    "            que.append(f.left)\n",
    "        if(f.right is not None):\n",
    "            que.append(f.right)\n",
    "ans.append(temp)\n",
    "print(ans)"
   ]
  },
  {
   "cell_type": "code",
   "execution_count": 26,
   "id": "3512f449",
   "metadata": {},
   "outputs": [
    {
     "name": "stdout",
     "output_type": "stream",
     "text": [
      "[1, 6, 2, -1, -1, 3, -1, -1, -1]\n"
     ]
    }
   ],
   "source": [
    "# Serialize Binary Tree\n",
    "que = deque()\n",
    "que.append(root)\n",
    "que.append(None)\n",
    "# print(len(que))\n",
    "ans = []\n",
    "ans.append(root.val)\n",
    "while(len(que)>1):\n",
    "    f = que.popleft()\n",
    "    if(f is None):\n",
    "        que.append(None)\n",
    "    else:\n",
    "        if(f.left is not None):\n",
    "            ans.append(f.left.val)\n",
    "            que.append(f.left)\n",
    "        else:\n",
    "            ans.append(-1)\n",
    "        if(f.right is not None):\n",
    "            ans.append(f.right.val)\n",
    "            que.append(f.right)\n",
    "        else:\n",
    "            ans.append(-1)\n",
    "print(ans)"
   ]
  },
  {
   "cell_type": "code",
   "execution_count": 34,
   "id": "c6b2e983",
   "metadata": {},
   "outputs": [
    {
     "name": "stdout",
     "output_type": "stream",
     "text": [
      "[1, 6, 3]\n"
     ]
    }
   ],
   "source": [
    "# Left view of a Binary Tree\n",
    "from collections import deque\n",
    "que = deque()\n",
    "que.append(root)\n",
    "que.append(None)\n",
    "ans = []\n",
    "temp = []\n",
    "ans.append(root.val)\n",
    "while(len(que)>1):\n",
    "    f = que.popleft()\n",
    "    if(f is None):\n",
    "        que.append(None)\n",
    "        t = que[0]\n",
    "        ans.append(t.val)\n",
    "    else:\n",
    "        temp.append(f.val)\n",
    "        if(f.left is not None):\n",
    "            que.append(f.left)\n",
    "        if(f.right is not None):\n",
    "            que.append(f.right)\n",
    "print(ans)"
   ]
  },
  {
   "cell_type": "code",
   "execution_count": 35,
   "id": "c0976815",
   "metadata": {},
   "outputs": [
    {
     "name": "stdout",
     "output_type": "stream",
     "text": [
      "[1, 2, 3]\n"
     ]
    }
   ],
   "source": [
    "# Right View of a Binary Tree\n",
    "from collections import deque\n",
    "que = deque()\n",
    "que.append(root)\n",
    "que.append(None)\n",
    "ans = []\n",
    "temp = []\n",
    "ans.append(root.val)\n",
    "while(len(que)>1):\n",
    "    f = que.popleft()\n",
    "    if(f is None):\n",
    "        que.append(None)\n",
    "        t = que[0]\n",
    "        ans.append(t.val)\n",
    "    else:\n",
    "        temp.append(f.val)\n",
    "        if(f.right is not None):\n",
    "            que.append(f.right)\n",
    "        if(f.left is not None):\n",
    "            que.append(f.left)\n",
    "print(ans)"
   ]
  },
  {
   "cell_type": "code",
   "execution_count": 46,
   "id": "b8095ea1",
   "metadata": {},
   "outputs": [
    {
     "name": "stdout",
     "output_type": "stream",
     "text": [
      "12\n"
     ]
    }
   ],
   "source": [
    "# Nodes Sum\n",
    "def nodes_sum(A,S):\n",
    "    if A is None:\n",
    "        return S\n",
    "    l = nodes_sum(A.left,S)\n",
    "    r = nodes_sum(A.right,S)\n",
    "    return l + r + A.val\n",
    "S = 0\n",
    "summ = nodes_sum(root,S)\n",
    "print(summ)"
   ]
  },
  {
   "cell_type": "code",
   "execution_count": 47,
   "id": "2031e814",
   "metadata": {},
   "outputs": [
    {
     "data": {
      "text/plain": [
       "6"
      ]
     },
     "execution_count": 47,
     "metadata": {},
     "output_type": "execute_result"
    }
   ],
   "source": [
    "# Nodes Max\n",
    "def nodes_max(A,maxx):\n",
    "    if A is None:\n",
    "        return maxx\n",
    "    l = nodes_max(A.left,maxx)\n",
    "    r = nodes_max(A.right,maxx)\n",
    "    return max(l,r,A.val)\n",
    "maxx = float('-inf')\n",
    "nodes_max(root,maxx)"
   ]
  },
  {
   "cell_type": "code",
   "execution_count": 50,
   "id": "215368e5",
   "metadata": {},
   "outputs": [
    {
     "data": {
      "text/plain": [
       "4"
      ]
     },
     "execution_count": 50,
     "metadata": {},
     "output_type": "execute_result"
    }
   ],
   "source": [
    "# Nodes Count\n",
    "def nodes_count(A,count):\n",
    "    if A is None:\n",
    "        return count\n",
    "    l = nodes_count(A.left,count)\n",
    "    r = nodes_count(A.right,count)\n",
    "    return l + r + 1\n",
    "count = 0\n",
    "nodes_count(root,count)"
   ]
  },
  {
   "cell_type": "code",
   "execution_count": 67,
   "id": "0b6cc157",
   "metadata": {},
   "outputs": [
    {
     "name": "stdout",
     "output_type": "stream",
     "text": [
      "[0, True] [0, True] 5\n",
      "[1, True] [0, True] 6\n",
      "[2, False] [0, True] 1\n"
     ]
    },
    {
     "data": {
      "text/plain": [
       "[3, False]"
      ]
     },
     "execution_count": 67,
     "metadata": {},
     "output_type": "execute_result"
    }
   ],
   "source": [
    "# Balanced Binary Tree\n",
    "def balanced_tree(A,flag):\n",
    "    if A is None:\n",
    "        return [0,flag]\n",
    "    l = balanced_tree(A.left,flag)\n",
    "    r = balanced_tree(A.right,flag)\n",
    "    print(l,r,A.val)\n",
    "    if(l!=r):\n",
    "        flag = False\n",
    "    return [1+max(l[0],r[0]),flag]\n",
    "\n",
    "flag = True\n",
    "balanced_tree(root,flag)"
   ]
  },
  {
   "cell_type": "code",
   "execution_count": 84,
   "id": "cee8f2ba",
   "metadata": {},
   "outputs": [
    {
     "name": "stdout",
     "output_type": "stream",
     "text": [
      "[[6], [1, 3], [2]]\n"
     ]
    }
   ],
   "source": [
    "# Vertical order traversal\n",
    "nodes = {}\n",
    "que = deque()\n",
    "minL = 0\n",
    "maxL = 0\n",
    "que.append([root,0])\n",
    "ans = []\n",
    "while(len(que)>0):\n",
    "    f = que.popleft()\n",
    "#     print(f)\n",
    "    t = f[0]\n",
    "    l = f[1]\n",
    "    minL = min(minL,l)\n",
    "    maxL = max(maxL,l)\n",
    "    if(l not in nodes):\n",
    "        nodes[l] = [t]\n",
    "    else:\n",
    "        nodes[l].append(t)\n",
    "    if(t.left is not None):\n",
    "        que.append([t.left,l-1])\n",
    "    if(t.right is not None):\n",
    "        que.append([t.right,l+1])\n",
    "# print(nodes,minL,maxL)\n",
    "for i in range(minL,maxL+1):\n",
    "    temp = []\n",
    "    for j in range(len(nodes[i])):\n",
    "        temp.append(nodes[i][j].val)\n",
    "    ans.append(temp)\n",
    "print(ans)"
   ]
  },
  {
   "cell_type": "code",
   "execution_count": 85,
   "id": "db401b99",
   "metadata": {},
   "outputs": [
    {
     "name": "stdout",
     "output_type": "stream",
     "text": [
      "[6, 1, 2]\n"
     ]
    }
   ],
   "source": [
    "# Top View of Binary Tree\n",
    "nodes = {}\n",
    "que = deque()\n",
    "minL = 0\n",
    "maxL = 0\n",
    "que.append([root,0])\n",
    "ans = []\n",
    "while(len(que)>0):\n",
    "    f = que.popleft()\n",
    "#     print(f)\n",
    "    t = f[0]\n",
    "    l = f[1]\n",
    "    minL = min(minL,l)\n",
    "    maxL = max(maxL,l)\n",
    "    if(l not in nodes):\n",
    "        nodes[l] = [t]\n",
    "    else:\n",
    "        nodes[l].append(t)\n",
    "    if(t.left is not None):\n",
    "        que.append([t.left,l-1])\n",
    "    if(t.right is not None):\n",
    "        que.append([t.right,l+1])\n",
    "for i in range(minL,maxL+1):\n",
    "    ans.append(nodes[i][0].val)\n",
    "print(ans)"
   ]
  },
  {
   "cell_type": "code",
   "execution_count": 86,
   "id": "6a4127dc",
   "metadata": {},
   "outputs": [],
   "source": [
    "# Valid Binary Search Tree\n",
    "def valid_bst(self,A,l,r):\n",
    "    if A is None:\n",
    "        return True\n",
    "    if(A.val >=l and A.val <= r):\n",
    "        return (self.valid_bst(A.left,l,A.val - 1) and self.valid_bst(A.right,A.val+1,r))\n",
    "    else:\n",
    "        return False\n",
    "def isValidBST(self, A):\n",
    "    l = float('-inf')\n",
    "    r = float('inf')\n",
    "    flag = self.valid_bst(A,l,r)\n",
    "    if flag is True:\n",
    "        return 1\n",
    "    else:\n",
    "        return 0"
   ]
  },
  {
   "cell_type": "code",
   "execution_count": 87,
   "id": "3dfc8ff5",
   "metadata": {},
   "outputs": [],
   "source": [
    "# Floor and Ceil of a BST\n",
    "def floor(self,A , k):\n",
    "    ans = -1\n",
    "    temp = A\n",
    "    while(temp is not None):\n",
    "        if(temp.val==k):\n",
    "            ans = temp.val\n",
    "            return ans\n",
    "        if(temp.val>k):\n",
    "            temp = temp.left\n",
    "        elif(temp.val<k):\n",
    "            ans = temp.val\n",
    "            temp = temp.right\n",
    "    return ans\n",
    "\n",
    "def ceil(self,A, k):\n",
    "    ans = -1\n",
    "    temp = A\n",
    "    while(temp is not None):\n",
    "        if(temp.val == k):\n",
    "            ans = temp.val\n",
    "            return ans\n",
    "        if(temp.val>k):\n",
    "            ans = temp.val\n",
    "            temp = temp.left\n",
    "        elif(temp.val<k):\n",
    "            temp = temp.right\n",
    "    return ans\n",
    "\n",
    "def solve(self, A, B):\n",
    "    ans = []\n",
    "    for i in range(len(B)):\n",
    "        fl = self.floor(A,B[i])\n",
    "        cl = self.ceil(A,B[i])\n",
    "        ans.append([fl,cl])\n",
    "    return ans"
   ]
  },
  {
   "cell_type": "code",
   "execution_count": 88,
   "id": "431bd5cc",
   "metadata": {},
   "outputs": [],
   "source": [
    "# BST nodes in range\n",
    "def inorder(self,A,li):\n",
    "    if A is None:\n",
    "        return\n",
    "    self.inorder(A.left,li)\n",
    "    li.append(A.val)\n",
    "    self.inorder(A.right,li)\n",
    "\n",
    "def solve(self, A, B, C):\n",
    "    ans = 0\n",
    "    li = []\n",
    "    self.inorder(A,li)\n",
    "    # print(li)\n",
    "    for i in li:\n",
    "        if(i>=B and i<=C):\n",
    "            ans += 1\n",
    "    return ans"
   ]
  },
  {
   "cell_type": "code",
   "execution_count": null,
   "id": "59cf31cb",
   "metadata": {},
   "outputs": [],
   "source": []
  }
 ],
 "metadata": {
  "kernelspec": {
   "display_name": "Python 3 (ipykernel)",
   "language": "python",
   "name": "python3"
  },
  "language_info": {
   "codemirror_mode": {
    "name": "ipython",
    "version": 3
   },
   "file_extension": ".py",
   "mimetype": "text/x-python",
   "name": "python",
   "nbconvert_exporter": "python",
   "pygments_lexer": "ipython3",
   "version": "3.9.7"
  }
 },
 "nbformat": 4,
 "nbformat_minor": 5
}
