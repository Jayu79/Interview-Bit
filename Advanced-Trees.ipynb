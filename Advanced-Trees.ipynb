{
 "cells": [
  {
   "cell_type": "code",
   "execution_count": 1,
   "id": "dc9a28ab",
   "metadata": {},
   "outputs": [],
   "source": [
    "class TreeNode:\n",
    "    def __init__(self, x):\n",
    "        self.val = x\n",
    "        self.left = None\n",
    "        self.right = None\n",
    "root = TreeNode(1)\n",
    "root.left = TreeNode(6)\n",
    "root.right = TreeNode(2)\n",
    "root.right.left = TreeNode(3)"
   ]
  },
  {
   "cell_type": "code",
   "execution_count": 5,
   "id": "0d7172b5",
   "metadata": {},
   "outputs": [
    {
     "name": "stdout",
     "output_type": "stream",
     "text": [
      "[6, 1, 3, 2]\n"
     ]
    }
   ],
   "source": [
    "# Inorder Traversal\n",
    "def inorder_traversal(A,li):\n",
    "    if(A is None):\n",
    "        return\n",
    "    inorder_traversal(A.left,li)\n",
    "    li.append(A.val)\n",
    "    inorder_traversal(A.right,li)\n",
    "li = []\n",
    "inorder_traversal(root,li)\n",
    "print(li)"
   ]
  },
  {
   "cell_type": "code",
   "execution_count": 6,
   "id": "291f681c",
   "metadata": {},
   "outputs": [
    {
     "name": "stdout",
     "output_type": "stream",
     "text": [
      "[1, 6, 2, 3]\n"
     ]
    }
   ],
   "source": [
    "# Pre order Traversal\n",
    "def preorder_traversal(A,li):\n",
    "    if(A is None):\n",
    "        return\n",
    "    li.append(A.val)\n",
    "    preorder_traversal(A.left,li)\n",
    "    preorder_traversal(A.right,li)\n",
    "li = []\n",
    "preorder_traversal(root,li)\n",
    "print(li)"
   ]
  },
  {
   "cell_type": "code",
   "execution_count": 7,
   "id": "daee159a",
   "metadata": {},
   "outputs": [
    {
     "name": "stdout",
     "output_type": "stream",
     "text": [
      "[6, 3, 2, 1]\n"
     ]
    }
   ],
   "source": [
    "# Post order Traversal\n",
    "def postorder_traversal(A,li):\n",
    "    if(A is None):\n",
    "        return\n",
    "    postorder_traversal(A.left,li)\n",
    "    postorder_traversal(A.right,li)\n",
    "    li.append(A.val)\n",
    "li = []\n",
    "postorder_traversal(root,li)\n",
    "print(li)"
   ]
  },
  {
   "cell_type": "code",
   "execution_count": null,
   "id": "70561a8f",
   "metadata": {},
   "outputs": [],
   "source": [
    "# Level Order\n",
    "def level_order(A,ans):\n",
    "    if A is None:\n",
    "        return\n",
    "    li = []\n",
    "    "
   ]
  }
 ],
 "metadata": {
  "kernelspec": {
   "display_name": "Python 3 (ipykernel)",
   "language": "python",
   "name": "python3"
  },
  "language_info": {
   "codemirror_mode": {
    "name": "ipython",
    "version": 3
   },
   "file_extension": ".py",
   "mimetype": "text/x-python",
   "name": "python",
   "nbconvert_exporter": "python",
   "pygments_lexer": "ipython3",
   "version": "3.9.7"
  }
 },
 "nbformat": 4,
 "nbformat_minor": 5
}
