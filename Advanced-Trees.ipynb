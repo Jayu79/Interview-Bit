{
 "cells": [
  {
   "cell_type": "code",
   "execution_count": 98,
   "id": "85b35452",
   "metadata": {},
   "outputs": [],
   "source": [
    "class TreeNode:\n",
    "    def __init__(self, x):\n",
    "        self.val = x\n",
    "        self.left = None\n",
    "        self.right = None     \n",
    "# root = TreeNode(1)\n",
    "# root.left = TreeNode(6)\n",
    "# root.right = TreeNode(2)\n",
    "# root.right.left = TreeNode(3)\n",
    "# root.right.right = TreeNode(4)\n",
    "# root = TreeNode(3)\n",
    "# root.left = TreeNode(9)\n",
    "# root.right = TreeNode(20)\n",
    "# root.right.left = TreeNode(15)\n",
    "# root.right.right = TreeNode(7)\n",
    "# root.left.right = TreeNode(21)\n",
    "# root.left.left = TreeNode(22)\n",
    "# root.left.right.left = TreeNode(23)\n",
    "# root.left.right.right = TreeNode(24)\n",
    "# root.right.right.left = TreeNode(25)\n",
    "# root.right.right.right = TreeNode(26)\n",
    "# root.right.left.right = TreeNode(27)\n",
    "root = TreeNode(5)\n",
    "root.right = TreeNode(8)\n",
    "root.right.right = TreeNode(11)\n",
    "root.right.left = TreeNode(6)\n",
    "root.left = TreeNode(2)\n",
    "root.left.left = TreeNode(1)\n",
    "root.left.right = TreeNode(4)"
   ]
  },
  {
   "cell_type": "code",
   "execution_count": 62,
   "id": "cf2d381d",
   "metadata": {},
   "outputs": [],
   "source": [
    "#      1 \n",
    "\n",
    "#   6      2\n",
    "\n",
    "#        3   4\n",
    "# \n",
    "# "
   ]
  },
  {
   "cell_type": "code",
   "execution_count": 63,
   "id": "66dd4555",
   "metadata": {},
   "outputs": [
    {
     "name": "stdout",
     "output_type": "stream",
     "text": [
      "[6, 1, 3, 2, 4]\n"
     ]
    }
   ],
   "source": [
    "# Inorder Traversal\n",
    "def inorder_traversal(A,li):\n",
    "    if(A is None):\n",
    "        return\n",
    "    inorder_traversal(A.left,li)\n",
    "    li.append(A.val)\n",
    "    inorder_traversal(A.right,li)\n",
    "li = []\n",
    "inorder_traversal(root,li)\n",
    "print(li)"
   ]
  },
  {
   "cell_type": "code",
   "execution_count": 4,
   "id": "1234b9bf",
   "metadata": {},
   "outputs": [
    {
     "name": "stdout",
     "output_type": "stream",
     "text": [
      "[1, 6, 2, 3]\n"
     ]
    }
   ],
   "source": [
    "# Pre order Traversal\n",
    "def preorder_traversal(A,li):\n",
    "    if(A is None):\n",
    "        return\n",
    "    li.append(A.val)\n",
    "    preorder_traversal(A.left,li)\n",
    "    preorder_traversal(A.right,li)\n",
    "li = []\n",
    "preorder_traversal(root,li)\n",
    "print(li)"
   ]
  },
  {
   "cell_type": "code",
   "execution_count": 5,
   "id": "943adf93",
   "metadata": {},
   "outputs": [
    {
     "name": "stdout",
     "output_type": "stream",
     "text": [
      "[6, 3, 2, 1]\n"
     ]
    }
   ],
   "source": [
    "# Post order Traversal\n",
    "def postorder_traversal(A,li):\n",
    "    if(A is None):\n",
    "        return\n",
    "    postorder_traversal(A.left,li)\n",
    "    postorder_traversal(A.right,li)\n",
    "    li.append(A.val)\n",
    "li = []\n",
    "postorder_traversal(root,li)\n",
    "print(li)"
   ]
  },
  {
   "cell_type": "code",
   "execution_count": 6,
   "id": "81ca2024",
   "metadata": {},
   "outputs": [
    {
     "name": "stdout",
     "output_type": "stream",
     "text": [
      "1\n",
      "\n",
      "6\n",
      "2\n",
      "\n",
      "3\n",
      "[[1], [6, 2], [3]]\n"
     ]
    }
   ],
   "source": [
    "# Level Order\n",
    "from collections import deque\n",
    "que = deque()\n",
    "que.append(root)\n",
    "que.append(None)\n",
    "# print(len(que))\n",
    "ans = []\n",
    "temp = []\n",
    "while(len(que)>1):\n",
    "    f = que.popleft()\n",
    "#     print(f)\n",
    "    if(f is None):\n",
    "        print('')\n",
    "        ans.append(temp)\n",
    "        temp = []\n",
    "        que.append(None)\n",
    "    else:\n",
    "        print(f.val)\n",
    "        temp.append(f.val)\n",
    "        if(f.left is not None):\n",
    "            que.append(f.left)\n",
    "        if(f.right is not None):\n",
    "            que.append(f.right)\n",
    "ans.append(temp)\n",
    "print(ans)"
   ]
  },
  {
   "cell_type": "code",
   "execution_count": 7,
   "id": "7f4faaa9",
   "metadata": {},
   "outputs": [
    {
     "name": "stdout",
     "output_type": "stream",
     "text": [
      "[1, 6, 2, -1, -1, 3, -1, -1, -1]\n"
     ]
    }
   ],
   "source": [
    "# Serialize Binary Tree\n",
    "que = deque()\n",
    "que.append(root)\n",
    "que.append(None)\n",
    "# print(len(que))\n",
    "ans = []\n",
    "ans.append(root.val)\n",
    "while(len(que)>1):\n",
    "    f = que.popleft()\n",
    "    if(f is None):\n",
    "        que.append(None)\n",
    "    else:\n",
    "        if(f.left is not None):\n",
    "            ans.append(f.left.val)\n",
    "            que.append(f.left)\n",
    "        else:\n",
    "            ans.append(-1)\n",
    "        if(f.right is not None):\n",
    "            ans.append(f.right.val)\n",
    "            que.append(f.right)\n",
    "        else:\n",
    "            ans.append(-1)\n",
    "print(ans)"
   ]
  },
  {
   "cell_type": "code",
   "execution_count": 8,
   "id": "d856e98c",
   "metadata": {},
   "outputs": [
    {
     "name": "stdout",
     "output_type": "stream",
     "text": [
      "[1, 6, 3]\n"
     ]
    }
   ],
   "source": [
    "# Left view of a Binary Tree\n",
    "from collections import deque\n",
    "que = deque()\n",
    "que.append(root)\n",
    "que.append(None)\n",
    "ans = []\n",
    "temp = []\n",
    "ans.append(root.val)\n",
    "while(len(que)>1):\n",
    "    f = que.popleft()\n",
    "    if(f is None):\n",
    "        que.append(None)\n",
    "        t = que[0]\n",
    "        ans.append(t.val)\n",
    "    else:\n",
    "        temp.append(f.val)\n",
    "        if(f.left is not None):\n",
    "            que.append(f.left)\n",
    "        if(f.right is not None):\n",
    "            que.append(f.right)\n",
    "print(ans)"
   ]
  },
  {
   "cell_type": "code",
   "execution_count": 9,
   "id": "e3139513",
   "metadata": {},
   "outputs": [
    {
     "name": "stdout",
     "output_type": "stream",
     "text": [
      "[1, 2, 3]\n"
     ]
    }
   ],
   "source": [
    "# Right View of a Binary Tree\n",
    "from collections import deque\n",
    "que = deque()\n",
    "que.append(root)\n",
    "que.append(None)\n",
    "ans = []\n",
    "temp = []\n",
    "ans.append(root.val)\n",
    "while(len(que)>1):\n",
    "    f = que.popleft()\n",
    "    if(f is None):\n",
    "        que.append(None)\n",
    "        t = que[0]\n",
    "        ans.append(t.val)\n",
    "    else:\n",
    "        temp.append(f.val)\n",
    "        if(f.right is not None):\n",
    "            que.append(f.right)\n",
    "        if(f.left is not None):\n",
    "            que.append(f.left)\n",
    "print(ans)"
   ]
  },
  {
   "cell_type": "code",
   "execution_count": 10,
   "id": "c37027fd",
   "metadata": {},
   "outputs": [
    {
     "name": "stdout",
     "output_type": "stream",
     "text": [
      "12\n"
     ]
    }
   ],
   "source": [
    "# Nodes Sum\n",
    "def nodes_sum(A,S):\n",
    "    if A is None:\n",
    "        return S\n",
    "    l = nodes_sum(A.left,S)\n",
    "    r = nodes_sum(A.right,S)\n",
    "    return l + r + A.val\n",
    "S = 0\n",
    "summ = nodes_sum(root,S)\n",
    "print(summ)"
   ]
  },
  {
   "cell_type": "code",
   "execution_count": 11,
   "id": "b19e63d0",
   "metadata": {},
   "outputs": [
    {
     "data": {
      "text/plain": [
       "6"
      ]
     },
     "execution_count": 11,
     "metadata": {},
     "output_type": "execute_result"
    }
   ],
   "source": [
    "# Nodes Max\n",
    "def nodes_max(A,maxx):\n",
    "    if A is None:\n",
    "        return maxx\n",
    "    l = nodes_max(A.left,maxx)\n",
    "    r = nodes_max(A.right,maxx)\n",
    "    return max(l,r,A.val)\n",
    "maxx = float('-inf')\n",
    "nodes_max(root,maxx)"
   ]
  },
  {
   "cell_type": "code",
   "execution_count": 12,
   "id": "e1c666d8",
   "metadata": {},
   "outputs": [
    {
     "data": {
      "text/plain": [
       "4"
      ]
     },
     "execution_count": 12,
     "metadata": {},
     "output_type": "execute_result"
    }
   ],
   "source": [
    "# Nodes Count\n",
    "def nodes_count(A,count):\n",
    "    if A is None:\n",
    "        return count\n",
    "    l = nodes_count(A.left,count)\n",
    "    r = nodes_count(A.right,count)\n",
    "    return l + r + 1\n",
    "count = 0\n",
    "nodes_count(root,count)"
   ]
  },
  {
   "cell_type": "code",
   "execution_count": 13,
   "id": "b7f4f4fc",
   "metadata": {},
   "outputs": [
    {
     "name": "stdout",
     "output_type": "stream",
     "text": [
      "[0, True] [0, True] 6\n",
      "[0, True] [0, True] 3\n",
      "[1, True] [0, True] 2\n",
      "[1, True] [2, False] 1\n"
     ]
    },
    {
     "data": {
      "text/plain": [
       "[3, False]"
      ]
     },
     "execution_count": 13,
     "metadata": {},
     "output_type": "execute_result"
    }
   ],
   "source": [
    "# Balanced Binary Tree\n",
    "def balanced_tree(A,flag):\n",
    "    if A is None:\n",
    "        return [0,flag]\n",
    "    l = balanced_tree(A.left,flag)\n",
    "    r = balanced_tree(A.right,flag)\n",
    "    print(l,r,A.val)\n",
    "    if(l!=r):\n",
    "        flag = False\n",
    "    return [1+max(l[0],r[0]),flag]\n",
    "\n",
    "flag = True\n",
    "balanced_tree(root,flag)"
   ]
  },
  {
   "cell_type": "code",
   "execution_count": 14,
   "id": "a81b778c",
   "metadata": {},
   "outputs": [
    {
     "name": "stdout",
     "output_type": "stream",
     "text": [
      "[[6], [1, 3], [2]]\n"
     ]
    }
   ],
   "source": [
    "# Vertical order traversal\n",
    "nodes = {}\n",
    "que = deque()\n",
    "minL = 0\n",
    "maxL = 0\n",
    "que.append([root,0])\n",
    "ans = []\n",
    "while(len(que)>0):\n",
    "    f = que.popleft()\n",
    "#     print(f)\n",
    "    t = f[0]\n",
    "    l = f[1]\n",
    "    minL = min(minL,l)\n",
    "    maxL = max(maxL,l)\n",
    "    if(l not in nodes):\n",
    "        nodes[l] = [t]\n",
    "    else:\n",
    "        nodes[l].append(t)\n",
    "    if(t.left is not None):\n",
    "        que.append([t.left,l-1])\n",
    "    if(t.right is not None):\n",
    "        que.append([t.right,l+1])\n",
    "# print(nodes,minL,maxL)\n",
    "for i in range(minL,maxL+1):\n",
    "    temp = []\n",
    "    for j in range(len(nodes[i])):\n",
    "        temp.append(nodes[i][j].val)\n",
    "    ans.append(temp)\n",
    "print(ans)"
   ]
  },
  {
   "cell_type": "code",
   "execution_count": 15,
   "id": "df814771",
   "metadata": {},
   "outputs": [
    {
     "name": "stdout",
     "output_type": "stream",
     "text": [
      "[6, 1, 2]\n"
     ]
    }
   ],
   "source": [
    "# Top View of Binary Tree\n",
    "nodes = {}\n",
    "que = deque()\n",
    "minL = 0\n",
    "maxL = 0\n",
    "que.append([root,0])\n",
    "ans = []\n",
    "while(len(que)>0):\n",
    "    f = que.popleft()\n",
    "#     print(f)\n",
    "    t = f[0]\n",
    "    l = f[1]\n",
    "    minL = min(minL,l)\n",
    "    maxL = max(maxL,l)\n",
    "    if(l not in nodes):\n",
    "        nodes[l] = [t]\n",
    "    else:\n",
    "        nodes[l].append(t)\n",
    "    if(t.left is not None):\n",
    "        que.append([t.left,l-1])\n",
    "    if(t.right is not None):\n",
    "        que.append([t.right,l+1])\n",
    "for i in range(minL,maxL+1):\n",
    "    ans.append(nodes[i][0].val)\n",
    "print(ans)"
   ]
  },
  {
   "cell_type": "code",
   "execution_count": 16,
   "id": "782fd666",
   "metadata": {},
   "outputs": [],
   "source": [
    "# Valid Binary Search Tree\n",
    "def valid_bst(self,A,l,r):\n",
    "    if A is None:\n",
    "        return True\n",
    "    if(A.val >=l and A.val <= r):\n",
    "        return (self.valid_bst(A.left,l,A.val - 1) and self.valid_bst(A.right,A.val+1,r))\n",
    "    else:\n",
    "        return False\n",
    "def isValidBST(self, A):\n",
    "    l = float('-inf')\n",
    "    r = float('inf')\n",
    "    flag = self.valid_bst(A,l,r)\n",
    "    if flag is True:\n",
    "        return 1\n",
    "    else:\n",
    "        return 0"
   ]
  },
  {
   "cell_type": "code",
   "execution_count": 17,
   "id": "6661883c",
   "metadata": {},
   "outputs": [],
   "source": [
    "# Floor and Ceil of a BST\n",
    "def floor(self,A , k):\n",
    "    ans = -1\n",
    "    temp = A\n",
    "    while(temp is not None):\n",
    "        if(temp.val==k):\n",
    "            ans = temp.val\n",
    "            return ans\n",
    "        if(temp.val>k):\n",
    "            temp = temp.left\n",
    "        elif(temp.val<k):\n",
    "            ans = temp.val\n",
    "            temp = temp.right\n",
    "    return ans\n",
    "\n",
    "def ceil(self,A, k):\n",
    "    ans = -1\n",
    "    temp = A\n",
    "    while(temp is not None):\n",
    "        if(temp.val == k):\n",
    "            ans = temp.val\n",
    "            return ans\n",
    "        if(temp.val>k):\n",
    "            ans = temp.val\n",
    "            temp = temp.left\n",
    "        elif(temp.val<k):\n",
    "            temp = temp.right\n",
    "    return ans\n",
    "\n",
    "def solve(self, A, B):\n",
    "    ans = []\n",
    "    for i in range(len(B)):\n",
    "        fl = self.floor(A,B[i])\n",
    "        cl = self.ceil(A,B[i])\n",
    "        ans.append([fl,cl])\n",
    "    return ans"
   ]
  },
  {
   "cell_type": "code",
   "execution_count": 18,
   "id": "36ddd38e",
   "metadata": {},
   "outputs": [],
   "source": [
    "# BST nodes in range\n",
    "def inorder(self,A,li):\n",
    "    if A is None:\n",
    "        return\n",
    "    self.inorder(A.left,li)\n",
    "    li.append(A.val)\n",
    "    self.inorder(A.right,li)\n",
    "\n",
    "def solve(self, A, B, C):\n",
    "    ans = 0\n",
    "    li = []\n",
    "    self.inorder(A,li)\n",
    "    # print(li)\n",
    "    for i in li:\n",
    "        if(i>=B and i<=C):\n",
    "            ans += 1\n",
    "    return ans"
   ]
  },
  {
   "cell_type": "code",
   "execution_count": 19,
   "id": "5c000fbe",
   "metadata": {},
   "outputs": [],
   "source": [
    "# Sum Binary Tree or not\n",
    "def __init__(self):\n",
    "    self.ans = 1\n",
    "def sum_binary_tree(self,A):\n",
    "    if(A.left == None and A.right == None):\n",
    "        return A.val\n",
    "    if(A.left is not None):\n",
    "        l = self.sum_binary_tree(A.left)\n",
    "    else:\n",
    "        l = 0\n",
    "    if(A.right is not None):\n",
    "        r = self.sum_binary_tree(A.right)\n",
    "    else:\n",
    "        r = 0\n",
    "    if(A.val != l+r):\n",
    "        self.ans = 0\n",
    "    return l+r+A.val\n",
    "def solve(self, A):\n",
    "    if A is None:\n",
    "        return 0\n",
    "    self.sum_binary_tree(A)\n",
    "    return self.ans"
   ]
  },
  {
   "cell_type": "code",
   "execution_count": 48,
   "id": "e465db1e",
   "metadata": {},
   "outputs": [
    {
     "name": "stdout",
     "output_type": "stream",
     "text": [
      "1\n",
      "\n",
      "6\n",
      "2\n",
      "\n",
      "3\n",
      "[[1], [2, 6], [3]]\n"
     ]
    }
   ],
   "source": [
    "# ZigZag Level Order Traversal BT\n",
    "from collections import deque\n",
    "que = deque()\n",
    "que.append(root)\n",
    "que.append(None)\n",
    "# print(len(que))\n",
    "ans = []\n",
    "temp = []\n",
    "flag = True\n",
    "while(len(que)>1):\n",
    "    f = que.popleft()\n",
    "#     print(f)\n",
    "    if(f is None):\n",
    "        print('')\n",
    "        if(flag is False):\n",
    "            ans.append(temp[::-1])\n",
    "            flag = True\n",
    "        else:\n",
    "            ans.append(temp)\n",
    "            flag = False\n",
    "        temp = []\n",
    "        que.append(None)\n",
    "    else:\n",
    "        print(f.val)\n",
    "        temp.append(f.val)\n",
    "        if(f.left is not None):\n",
    "            que.append(f.left)\n",
    "        if(f.right is not None):\n",
    "            que.append(f.right)\n",
    "if flag is False:\n",
    "    ans.append(temp[::-1])\n",
    "else:\n",
    "    ans.append(temp)\n",
    "# print(temp,flag)\n",
    "print(ans)"
   ]
  },
  {
   "cell_type": "code",
   "execution_count": 56,
   "id": "3de1fb3f",
   "metadata": {},
   "outputs": [
    {
     "name": "stdout",
     "output_type": "stream",
     "text": [
      "[15, 7, 9, 20, 3]\n"
     ]
    }
   ],
   "source": [
    "# Reverse Level Order\n",
    "from collections import deque\n",
    "que = deque()\n",
    "que.append(root)\n",
    "que.append(None)\n",
    "# print(len(que))\n",
    "ans_temp = []\n",
    "temp = []\n",
    "while(len(que)>1):\n",
    "    f = que.popleft()\n",
    "#     print(f)\n",
    "    if(f is None):\n",
    "#         print('')\n",
    "        ans_temp.append(temp)\n",
    "        temp = []\n",
    "        que.append(None)\n",
    "    else:\n",
    "#         print(f.val)\n",
    "        temp.append(f.val)\n",
    "        if(f.left is not None):\n",
    "            que.append(f.left)\n",
    "        if(f.right is not None):\n",
    "            que.append(f.right)\n",
    "ans_temp.append(temp)\n",
    "# print(ans_temp)\n",
    "ans = []\n",
    "for i in range(len(ans_temp)-1,-1,-1):\n",
    "    for j in range(len(ans_temp[i])):\n",
    "        ans.append(ans_temp[i][j])\n",
    "print(ans)"
   ]
  },
  {
   "cell_type": "code",
   "execution_count": 60,
   "id": "6ba5a9bf",
   "metadata": {},
   "outputs": [
    {
     "name": "stdout",
     "output_type": "stream",
     "text": [
      "4 8 -4\n"
     ]
    }
   ],
   "source": [
    "# Odd and Even Levels\n",
    "from collections import deque\n",
    "que = deque()\n",
    "que.append(root)\n",
    "que.append(None)\n",
    "odd = 0\n",
    "even = 0\n",
    "flag = True\n",
    "temp = 0\n",
    "while(len(que)>1):\n",
    "    f = que.popleft()\n",
    "    if f is None:\n",
    "        if flag is True:\n",
    "            odd += temp\n",
    "            flag = False\n",
    "        else:\n",
    "            even += temp\n",
    "            flag = True\n",
    "        que.append(None)\n",
    "        temp = 0\n",
    "    else:\n",
    "        if flag is True:\n",
    "            odd += f.val\n",
    "        else:\n",
    "            even += f.val\n",
    "        if f.left is not None:\n",
    "            que.append(f.left)\n",
    "        if f.right is not None:\n",
    "            que.append(f.right)\n",
    "if flag is True:\n",
    "    odd += temp\n",
    "else:\n",
    "    even += temp\n",
    "print(odd,even,odd-even)"
   ]
  },
  {
   "cell_type": "code",
   "execution_count": 78,
   "id": "5b8764c3",
   "metadata": {},
   "outputs": [
    {
     "name": "stdout",
     "output_type": "stream",
     "text": [
      "[3, 2, 1]\n",
      "[4, 2, 1]\n",
      "3 4 0\n",
      "3 2 0\n",
      "3 1 0\n",
      "2 4 0\n",
      "2 2 0\n",
      "1 4 2\n",
      "2\n"
     ]
    }
   ],
   "source": [
    "# lowest common Ancestor\n",
    "def check(root,k,li):\n",
    "    if root is None:\n",
    "        return False\n",
    "    if root.val == k:\n",
    "        li.append(root.val)\n",
    "        return True\n",
    "    if(check(root.left,k,li) or check(root.right,k,li)):\n",
    "        li.append(root.val)\n",
    "        return True\n",
    "    return False\n",
    "\n",
    "li1 = []\n",
    "li2 = []\n",
    "check(root,3,li1)\n",
    "print(li1)\n",
    "check(root,4,li2)\n",
    "print(li2)\n",
    "ans = 0\n",
    "for i in range(len(li1)):\n",
    "    for j in range(len(li2)):\n",
    "        print(li1[i],li2[j],ans)\n",
    "        if(li1[i]==li2[j]):\n",
    "            ans = li1[i]\n",
    "        if(ans!=0):\n",
    "            break\n",
    "print(ans)"
   ]
  },
  {
   "cell_type": "code",
   "execution_count": 92,
   "id": "89d6a812",
   "metadata": {},
   "outputs": [
    {
     "name": "stdout",
     "output_type": "stream",
     "text": [
      "[4, 7]\n"
     ]
    }
   ],
   "source": [
    "# Diameter of a Tree\n",
    "def left_diameter(root):\n",
    "    if(root is None):\n",
    "        return [-1,0]\n",
    "    l = left_diameter(root.left)\n",
    "    r = left_diameter(root.right)\n",
    "    height = 1 + max(l[0],r[0])\n",
    "    dia = max(max(l[1],r[1]),(l[0]+r[0]+2))\n",
    "    return [height,dia]\n",
    "l = left_diameter(root)\n",
    "print(l)"
   ]
  },
  {
   "cell_type": "code",
   "execution_count": 93,
   "id": "9ea04ef0",
   "metadata": {},
   "outputs": [],
   "source": [
    "# Kth Smallest Element in BST\n",
    "num = 0\n",
    "cnt = 0\n",
    "def inorder(self,A,B):\n",
    "    if A is None:\n",
    "        return\n",
    "    self.inorder(A.left,B)\n",
    "    self.cnt += 1\n",
    "    if(self.cnt==B):\n",
    "        self.num = A.val\n",
    "        return\n",
    "    self.inorder(A.right,B)\n",
    "def kthsmallest(self, A, B):\n",
    "    self.cnt = 0\n",
    "    self.num = 0\n",
    "    self.inorder(A,B)\n",
    "    return self.num"
   ]
  },
  {
   "cell_type": "code",
   "execution_count": 112,
   "id": "2e807e5c",
   "metadata": {},
   "outputs": [],
   "source": [
    "# Lease Common Ancestor\n",
    "def lca(root,B,C):\n",
    "    if root is None:\n",
    "        return None\n",
    "    if(B>root.val and C>root.val):\n",
    "        return lca(root.right,B,C)\n",
    "    if(B<root.val and C<root.val):\n",
    "        return lca(root.left,B,C)\n",
    "    return root"
   ]
  },
  {
   "cell_type": "code",
   "execution_count": 121,
   "id": "07827b56",
   "metadata": {},
   "outputs": [
    {
     "name": "stdout",
     "output_type": "stream",
     "text": [
      "1 2\n"
     ]
    }
   ],
   "source": [
    "# Distance between two nodes in a BST\n",
    "def max_distance(root,key,distance):\n",
    "    if root is None:\n",
    "        return None\n",
    "    \n",
    "    if(root.val == key):\n",
    "        return distance\n",
    "    \n",
    "    if key<root.val:\n",
    "        return max_distance(root.left,key,distance+1)\n",
    "    \n",
    "    if(key>root.val):\n",
    "        return max_distance(root.right,key,distance+1)\n",
    "B = 2\n",
    "C = 11\n",
    "lca_value = lca(root,B,C)\n",
    "distance1 = 0\n",
    "distance2 = 0\n",
    "distance1 = max_distance(lca_value,B,distance1)\n",
    "distance2 = max_distance(lca_root,C,distance2)\n",
    "print(distance1,distance2)"
   ]
  },
  {
   "cell_type": "code",
   "execution_count": null,
   "id": "21ac2037",
   "metadata": {},
   "outputs": [],
   "source": []
  }
 ],
 "metadata": {
  "kernelspec": {
   "display_name": "Python 3 (ipykernel)",
   "language": "python",
   "name": "python3"
  },
  "language_info": {
   "codemirror_mode": {
    "name": "ipython",
    "version": 3
   },
   "file_extension": ".py",
   "mimetype": "text/x-python",
   "name": "python",
   "nbconvert_exporter": "python",
   "pygments_lexer": "ipython3",
   "version": "3.9.7"
  }
 },
 "nbformat": 4,
 "nbformat_minor": 5
}
