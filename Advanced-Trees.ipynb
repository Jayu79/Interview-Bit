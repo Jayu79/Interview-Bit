{
 "cells": [
  {
   "cell_type": "code",
   "execution_count": 66,
   "id": "51774462",
   "metadata": {},
   "outputs": [],
   "source": [
    "class TreeNode:\n",
    "    def __init__(self, x):\n",
    "        self.val = x\n",
    "        self.left = None\n",
    "        self.right = None     \n",
    "root = TreeNode(1)\n",
    "root.left = TreeNode(6)\n",
    "# root.right = TreeNode(2)\n",
    "# root.right.left = TreeNode(3)\n",
    "# root.right.right = TreeNode(4)\n",
    "root.left.left = TreeNode(5)\n",
    "# root.left.right = TreeNode(9)"
   ]
  },
  {
   "cell_type": "code",
   "execution_count": null,
   "id": "0394837e",
   "metadata": {},
   "outputs": [],
   "source": [
    "#      1 \n",
    "\n",
    "#   6     2\n",
    "\n",
    "#      3   \n",
    "# \n",
    "# "
   ]
  },
  {
   "cell_type": "code",
   "execution_count": 5,
   "id": "4da9a033",
   "metadata": {},
   "outputs": [
    {
     "name": "stdout",
     "output_type": "stream",
     "text": [
      "[6, 1, 3, 2]\n"
     ]
    }
   ],
   "source": [
    "# Inorder Traversal\n",
    "def inorder_traversal(A,li):\n",
    "    if(A is None):\n",
    "        return\n",
    "    inorder_traversal(A.left,li)\n",
    "    li.append(A.val)\n",
    "    inorder_traversal(A.right,li)\n",
    "li = []\n",
    "inorder_traversal(root,li)\n",
    "print(li)"
   ]
  },
  {
   "cell_type": "code",
   "execution_count": 6,
   "id": "b150651b",
   "metadata": {},
   "outputs": [
    {
     "name": "stdout",
     "output_type": "stream",
     "text": [
      "[1, 6, 2, 3]\n"
     ]
    }
   ],
   "source": [
    "# Pre order Traversal\n",
    "def preorder_traversal(A,li):\n",
    "    if(A is None):\n",
    "        return\n",
    "    li.append(A.val)\n",
    "    preorder_traversal(A.left,li)\n",
    "    preorder_traversal(A.right,li)\n",
    "li = []\n",
    "preorder_traversal(root,li)\n",
    "print(li)"
   ]
  },
  {
   "cell_type": "code",
   "execution_count": 8,
   "id": "714b6523",
   "metadata": {},
   "outputs": [
    {
     "name": "stdout",
     "output_type": "stream",
     "text": [
      "[6, 3, 2, 1]\n"
     ]
    }
   ],
   "source": [
    "# Post order Traversal\n",
    "def postorder_traversal(A,li):\n",
    "    if(A is None):\n",
    "        return\n",
    "    postorder_traversal(A.left,li)\n",
    "    postorder_traversal(A.right,li)\n",
    "    li.append(A.val)\n",
    "li = []\n",
    "postorder_traversal(root,li)\n",
    "print(li)"
   ]
  },
  {
   "cell_type": "code",
   "execution_count": 19,
   "id": "ffcda10e",
   "metadata": {},
   "outputs": [
    {
     "name": "stdout",
     "output_type": "stream",
     "text": [
      "1\n",
      "\n",
      "6\n",
      "2\n",
      "\n",
      "3\n",
      "[[1], [6, 2], [3]]\n"
     ]
    }
   ],
   "source": [
    "# Level Order\n",
    "from collections import deque\n",
    "que = deque()\n",
    "que.append(root)\n",
    "que.append(None)\n",
    "# print(len(que))\n",
    "ans = []\n",
    "temp = []\n",
    "while(len(que)>1):\n",
    "    f = que.popleft()\n",
    "#     print(f)\n",
    "    if(f is None):\n",
    "        print('')\n",
    "        ans.append(temp)\n",
    "        temp = []\n",
    "        que.append(None)\n",
    "    else:\n",
    "        print(f.val)\n",
    "        temp.append(f.val)\n",
    "        if(f.left is not None):\n",
    "            que.append(f.left)\n",
    "        if(f.right is not None):\n",
    "            que.append(f.right)\n",
    "ans.append(temp)\n",
    "print(ans)"
   ]
  },
  {
   "cell_type": "code",
   "execution_count": 26,
   "id": "849aa59e",
   "metadata": {},
   "outputs": [
    {
     "name": "stdout",
     "output_type": "stream",
     "text": [
      "[1, 6, 2, -1, -1, 3, -1, -1, -1]\n"
     ]
    }
   ],
   "source": [
    "# Serialize Binary Tree\n",
    "que = deque()\n",
    "que.append(root)\n",
    "que.append(None)\n",
    "# print(len(que))\n",
    "ans = []\n",
    "ans.append(root.val)\n",
    "while(len(que)>1):\n",
    "    f = que.popleft()\n",
    "    if(f is None):\n",
    "        que.append(None)\n",
    "    else:\n",
    "        if(f.left is not None):\n",
    "            ans.append(f.left.val)\n",
    "            que.append(f.left)\n",
    "        else:\n",
    "            ans.append(-1)\n",
    "        if(f.right is not None):\n",
    "            ans.append(f.right.val)\n",
    "            que.append(f.right)\n",
    "        else:\n",
    "            ans.append(-1)\n",
    "print(ans)"
   ]
  },
  {
   "cell_type": "code",
   "execution_count": 34,
   "id": "0300a12f",
   "metadata": {},
   "outputs": [
    {
     "name": "stdout",
     "output_type": "stream",
     "text": [
      "[1, 6, 3]\n"
     ]
    }
   ],
   "source": [
    "# Left view of a Binary Tree\n",
    "from collections import deque\n",
    "que = deque()\n",
    "que.append(root)\n",
    "que.append(None)\n",
    "ans = []\n",
    "temp = []\n",
    "ans.append(root.val)\n",
    "while(len(que)>1):\n",
    "    f = que.popleft()\n",
    "    if(f is None):\n",
    "        que.append(None)\n",
    "        t = que[0]\n",
    "        ans.append(t.val)\n",
    "    else:\n",
    "        temp.append(f.val)\n",
    "        if(f.left is not None):\n",
    "            que.append(f.left)\n",
    "        if(f.right is not None):\n",
    "            que.append(f.right)\n",
    "print(ans)"
   ]
  },
  {
   "cell_type": "code",
   "execution_count": 35,
   "id": "808b024e",
   "metadata": {},
   "outputs": [
    {
     "name": "stdout",
     "output_type": "stream",
     "text": [
      "[1, 2, 3]\n"
     ]
    }
   ],
   "source": [
    "# Right View of a Binary Tree\n",
    "from collections import deque\n",
    "que = deque()\n",
    "que.append(root)\n",
    "que.append(None)\n",
    "ans = []\n",
    "temp = []\n",
    "ans.append(root.val)\n",
    "while(len(que)>1):\n",
    "    f = que.popleft()\n",
    "    if(f is None):\n",
    "        que.append(None)\n",
    "        t = que[0]\n",
    "        ans.append(t.val)\n",
    "    else:\n",
    "        temp.append(f.val)\n",
    "        if(f.right is not None):\n",
    "            que.append(f.right)\n",
    "        if(f.left is not None):\n",
    "            que.append(f.left)\n",
    "print(ans)"
   ]
  },
  {
   "cell_type": "code",
   "execution_count": 46,
   "id": "28dbd77d",
   "metadata": {},
   "outputs": [
    {
     "name": "stdout",
     "output_type": "stream",
     "text": [
      "12\n"
     ]
    }
   ],
   "source": [
    "# Nodes Sum\n",
    "def nodes_sum(A,S):\n",
    "    if A is None:\n",
    "        return S\n",
    "    l = nodes_sum(A.left,S)\n",
    "    r = nodes_sum(A.right,S)\n",
    "    return l + r + A.val\n",
    "S = 0\n",
    "summ = nodes_sum(root,S)\n",
    "print(summ)"
   ]
  },
  {
   "cell_type": "code",
   "execution_count": 47,
   "id": "c1727bd1",
   "metadata": {},
   "outputs": [
    {
     "data": {
      "text/plain": [
       "6"
      ]
     },
     "execution_count": 47,
     "metadata": {},
     "output_type": "execute_result"
    }
   ],
   "source": [
    "# Nodes Max\n",
    "def nodes_max(A,maxx):\n",
    "    if A is None:\n",
    "        return maxx\n",
    "    l = nodes_max(A.left,maxx)\n",
    "    r = nodes_max(A.right,maxx)\n",
    "    return max(l,r,A.val)\n",
    "maxx = float('-inf')\n",
    "nodes_max(root,maxx)"
   ]
  },
  {
   "cell_type": "code",
   "execution_count": 50,
   "id": "a4839df1",
   "metadata": {},
   "outputs": [
    {
     "data": {
      "text/plain": [
       "4"
      ]
     },
     "execution_count": 50,
     "metadata": {},
     "output_type": "execute_result"
    }
   ],
   "source": [
    "# Nodes Count\n",
    "def nodes_count(A,count):\n",
    "    if A is None:\n",
    "        return count\n",
    "    l = nodes_count(A.left,count)\n",
    "    r = nodes_count(A.right,count)\n",
    "    return l + r + 1\n",
    "count = 0\n",
    "nodes_count(root,count)"
   ]
  },
  {
   "cell_type": "code",
   "execution_count": 67,
   "id": "14e5d5e6",
   "metadata": {},
   "outputs": [
    {
     "name": "stdout",
     "output_type": "stream",
     "text": [
      "[0, True] [0, True] 5\n",
      "[1, True] [0, True] 6\n",
      "[2, False] [0, True] 1\n"
     ]
    },
    {
     "data": {
      "text/plain": [
       "[3, False]"
      ]
     },
     "execution_count": 67,
     "metadata": {},
     "output_type": "execute_result"
    }
   ],
   "source": [
    "# Balanced Binary Tree\n",
    "def balanced_tree(A,flag):\n",
    "    if A is None:\n",
    "        return [0,flag]\n",
    "    l = balanced_tree(A.left,flag)\n",
    "    r = balanced_tree(A.right,flag)\n",
    "    print(l,r,A.val)\n",
    "    if(l!=r):\n",
    "        flag = False\n",
    "    return [1+max(l[0],r[0]),flag]\n",
    "\n",
    "flag = True\n",
    "balanced_tree(root,flag)"
   ]
  },
  {
   "cell_type": "code",
   "execution_count": null,
   "id": "55011a8e",
   "metadata": {},
   "outputs": [],
   "source": []
  }
 ],
 "metadata": {
  "kernelspec": {
   "display_name": "Python 3 (ipykernel)",
   "language": "python",
   "name": "python3"
  },
  "language_info": {
   "codemirror_mode": {
    "name": "ipython",
    "version": 3
   },
   "file_extension": ".py",
   "mimetype": "text/x-python",
   "name": "python",
   "nbconvert_exporter": "python",
   "pygments_lexer": "ipython3",
   "version": "3.9.7"
  }
 },
 "nbformat": 4,
 "nbformat_minor": 5
}
