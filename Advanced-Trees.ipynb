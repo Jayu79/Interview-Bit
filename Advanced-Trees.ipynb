{
 "cells": [
  {
   "cell_type": "code",
   "execution_count": 1,
   "id": "7b7920d5",
   "metadata": {},
   "outputs": [],
   "source": [
    "class TreeNode:\n",
    "    def __init__(self, x):\n",
    "        self.val = x\n",
    "        self.left = None\n",
    "        self.right = None\n",
    "root = TreeNode(1)\n",
    "root.left = TreeNode(6)\n",
    "root.right = TreeNode(2)\n",
    "root.right.left = TreeNode(3)"
   ]
  },
  {
   "cell_type": "code",
   "execution_count": 5,
   "id": "6ab2b4e2",
   "metadata": {},
   "outputs": [
    {
     "name": "stdout",
     "output_type": "stream",
     "text": [
      "[6, 1, 3, 2]\n"
     ]
    }
   ],
   "source": [
    "# Inorder Traversal\n",
    "def inorder_traversal(A,li):\n",
    "    if(A is None):\n",
    "        return\n",
    "    inorder_traversal(A.left,li)\n",
    "    li.append(A.val)\n",
    "    inorder_traversal(A.right,li)\n",
    "li = []\n",
    "inorder_traversal(root,li)\n",
    "print(li)"
   ]
  },
  {
   "cell_type": "code",
   "execution_count": 6,
   "id": "2400c55d",
   "metadata": {},
   "outputs": [
    {
     "name": "stdout",
     "output_type": "stream",
     "text": [
      "[1, 6, 2, 3]\n"
     ]
    }
   ],
   "source": [
    "# Pre order Traversal\n",
    "def preorder_traversal(A,li):\n",
    "    if(A is None):\n",
    "        return\n",
    "    li.append(A.val)\n",
    "    preorder_traversal(A.left,li)\n",
    "    preorder_traversal(A.right,li)\n",
    "li = []\n",
    "preorder_traversal(root,li)\n",
    "print(li)"
   ]
  },
  {
   "cell_type": "code",
   "execution_count": 8,
   "id": "6ef82df9",
   "metadata": {},
   "outputs": [
    {
     "name": "stdout",
     "output_type": "stream",
     "text": [
      "[6, 3, 2, 1]\n"
     ]
    }
   ],
   "source": [
    "# Post order Traversal\n",
    "def postorder_traversal(A,li):\n",
    "    if(A is None):\n",
    "        return\n",
    "    postorder_traversal(A.left,li)\n",
    "    postorder_traversal(A.right,li)\n",
    "    li.append(A.val)\n",
    "li = []\n",
    "postorder_traversal(root,li)\n",
    "print(li)"
   ]
  },
  {
   "cell_type": "code",
   "execution_count": 19,
   "id": "9e64b95c",
   "metadata": {},
   "outputs": [
    {
     "name": "stdout",
     "output_type": "stream",
     "text": [
      "1\n",
      "\n",
      "6\n",
      "2\n",
      "\n",
      "3\n",
      "[[1], [6, 2], [3]]\n"
     ]
    }
   ],
   "source": [
    "# Level Order\n",
    "from collections import deque\n",
    "que = deque()\n",
    "que.append(root)\n",
    "que.append(None)\n",
    "# print(len(que))\n",
    "ans = []\n",
    "temp = []\n",
    "while(len(que)>1):\n",
    "    f = que.popleft()\n",
    "#     print(f)\n",
    "    if(f is None):\n",
    "        print('')\n",
    "        ans.append(temp)\n",
    "        temp = []\n",
    "        que.append(None)\n",
    "    else:\n",
    "        print(f.val)\n",
    "        temp.append(f.val)\n",
    "        if(f.left is not None):\n",
    "            que.append(f.left)\n",
    "        if(f.right is not None):\n",
    "            que.append(f.right)\n",
    "ans.append(temp)\n",
    "print(ans)"
   ]
  },
  {
   "cell_type": "code",
   "execution_count": 26,
   "id": "5bfc4b8f",
   "metadata": {},
   "outputs": [
    {
     "name": "stdout",
     "output_type": "stream",
     "text": [
      "[1, 6, 2, -1, -1, 3, -1, -1, -1]\n"
     ]
    }
   ],
   "source": [
    "# Serialize Binary Tree\n",
    "que = deque()\n",
    "que.append(root)\n",
    "que.append(None)\n",
    "# print(len(que))\n",
    "ans = []\n",
    "ans.append(root.val)\n",
    "while(len(que)>1):\n",
    "    f = que.popleft()\n",
    "    if(f is None):\n",
    "        que.append(None)\n",
    "    else:\n",
    "        if(f.left is not None):\n",
    "            ans.append(f.left.val)\n",
    "            que.append(f.left)\n",
    "        else:\n",
    "            ans.append(-1)\n",
    "        if(f.right is not None):\n",
    "            ans.append(f.right.val)\n",
    "            que.append(f.right)\n",
    "        else:\n",
    "            ans.append(-1)\n",
    "print(ans)"
   ]
  },
  {
   "cell_type": "code",
   "execution_count": null,
   "id": "ee571303",
   "metadata": {},
   "outputs": [],
   "source": []
  }
 ],
 "metadata": {
  "kernelspec": {
   "display_name": "Python 3 (ipykernel)",
   "language": "python",
   "name": "python3"
  },
  "language_info": {
   "codemirror_mode": {
    "name": "ipython",
    "version": 3
   },
   "file_extension": ".py",
   "mimetype": "text/x-python",
   "name": "python",
   "nbconvert_exporter": "python",
   "pygments_lexer": "ipython3",
   "version": "3.9.7"
  }
 },
 "nbformat": 4,
 "nbformat_minor": 5
}
