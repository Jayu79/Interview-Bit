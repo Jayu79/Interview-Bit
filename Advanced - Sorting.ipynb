{
 "cells": [
  {
   "cell_type": "code",
   "execution_count": null,
   "id": "4bff49d1",
   "metadata": {},
   "outputs": [],
   "source": [
    "#Merge Two Sorted Arrays\n",
    "# A = [4, 7, 9 ]\n",
    "# B = [2, 11, 19 ]\n",
    "A = [1]\n",
    "B = [2]\n",
    "N = len(A)\n",
    "M = len(B)\n",
    "C = [0]*(N+M)\n",
    "p1 = 0\n",
    "p2 = 0\n",
    "p3 = 0\n",
    "while(p1<N and p2<M):\n",
    "    if(A[p1]<B[p2]):\n",
    "        C[p3] = A[p1]\n",
    "        p3 += 1\n",
    "        p1 += 1\n",
    "    else:\n",
    "        C[p3] = B[p2]\n",
    "        p3 += 1\n",
    "        p2 += 1\n",
    "while(p1<N):\n",
    "    C[p3] = A[p1]\n",
    "    p3 += 1\n",
    "    p1 += 1\n",
    "while(p2<M):\n",
    "    C[p3] = B[p2]\n",
    "    p3 += 1\n",
    "    p2 += 1\n",
    "print(C)"
   ]
  },
  {
   "cell_type": "code",
   "execution_count": null,
   "id": "2ee0081d",
   "metadata": {},
   "outputs": [],
   "source": [
    "# Kth smallest\n",
    "A = [2, 1, 4, 3, 2]\n",
    "B = 2\n",
    "A.sort()\n",
    "print(A[B-1])"
   ]
  },
  {
   "cell_type": "code",
   "execution_count": 15,
   "id": "17084428",
   "metadata": {},
   "outputs": [
    {
     "name": "stdout",
     "output_type": "stream",
     "text": [
      "[1, 1, 2, 4, 5, 10]\n"
     ]
    }
   ],
   "source": [
    "#Merge Sort\n",
    "def merge(A,start,mid,end):\n",
    "    C = [0]*(end-start+1)\n",
    "    p1 = start\n",
    "    p2 = mid+1\n",
    "    p3 = 0\n",
    "    while(p1<=mid and p2<=end):\n",
    "        if(A[p1]<A[p2]):\n",
    "            C[p3] = A[p1]\n",
    "            p3 += 1\n",
    "            p1 += 1\n",
    "        else:\n",
    "            C[p3] = A[p2]\n",
    "            p3 += 1\n",
    "            p2 += 1\n",
    "    while(p1<=mid):\n",
    "        C[p3] = A[p1]\n",
    "        p3 += 1\n",
    "        p1 += 1\n",
    "    while(p2<=end):\n",
    "        C[p3] = A[p2]\n",
    "        p3 += 1\n",
    "        p2 += 1\n",
    "    for i in range(0,end-start+1):\n",
    "        A[start+i] = C[i]\n",
    "def merge_sort(A,start,end):\n",
    "    if(start == end):\n",
    "        return \n",
    "    mid = (start + end)//2\n",
    "    merge_sort(A,start,mid)\n",
    "    merge_sort(A,mid+1,end)\n",
    "    merge(A,start,mid,end)\n",
    "    \n",
    "    \n",
    "A = [4, 1, 10, 2, 1, 5]\n",
    "# A = [4,1]\n",
    "start = 0\n",
    "end = len(A) - 1\n",
    "merge_sort(A,start,end)\n",
    "print(A)"
   ]
  },
  {
   "cell_type": "code",
   "execution_count": 22,
   "id": "b5f13c81",
   "metadata": {},
   "outputs": [
    {
     "name": "stdout",
     "output_type": "stream",
     "text": [
      "0\n"
     ]
    }
   ],
   "source": [
    "#Choclate Distribution\n",
    "# A = [3, 4, 1, 9, 56, 7, 9, 12]\n",
    "# B = 5\n",
    "A = [1]\n",
    "B = 1\n",
    "A.sort()\n",
    "ans = float('inf')\n",
    "start = 0\n",
    "window = B-1 \n",
    "end = len(A)\n",
    "while(window<end):\n",
    "#     print(window,end)\n",
    "    if(A[window]-A[start] < ans):\n",
    "        ans = A[window] - A[start]\n",
    "    start += 1\n",
    "    window += 1\n",
    "print(ans)"
   ]
  },
  {
   "cell_type": "code",
   "execution_count": 27,
   "id": "c4b64f82",
   "metadata": {},
   "outputs": [
    {
     "name": "stdout",
     "output_type": "stream",
     "text": [
      "4\n"
     ]
    }
   ],
   "source": [
    "#Array with consecutive elements\n",
    "A = [1,2,3,4,5]\n",
    "A.sort()\n",
    "count = 0\n",
    "a1 = A[0]\n",
    "for i in range(1,len(A)):\n",
    "    if(A[i]-a1==1):\n",
    "        count += 1\n",
    "        a1 = A[i]\n",
    "print(count)"
   ]
  },
  {
   "cell_type": "code",
   "execution_count": 38,
   "id": "b176ea6f",
   "metadata": {},
   "outputs": [
    {
     "name": "stdout",
     "output_type": "stream",
     "text": [
      "[1, 2, 3, 3]\n",
      "2\n"
     ]
    }
   ],
   "source": [
    "#Max mod\n",
    "# A = [ 927, 707, 374, 394, 279, 799, 878, 937, 431, 112 ]\n",
    "A = [1,2,3,3]\n",
    "A.sort()\n",
    "ans = A[-2]\n",
    "p = len(A)-2\n",
    "while(ans == A[-1]):\n",
    "#     print(p)\n",
    "    p = p - 1\n",
    "    ans = A[p]\n",
    "print(ans)"
   ]
  },
  {
   "cell_type": "code",
   "execution_count": 43,
   "id": "00e1e770",
   "metadata": {},
   "outputs": [
    {
     "name": "stdout",
     "output_type": "stream",
     "text": [
      "[2, 5, 6, 6, 7, 8, 9, 10, 10, 13, 14, 14, 14, 14, 15, 16, 17, 18, 18, 18, 20, 21, 22, 22, 23, 23, 23, 24, 25, 26, 30, 31, 31, 32, 32, 34, 35, 36, 37, 39, 41, 45, 46, 47, 48, 48, 51, 51, 51, 53, 54, 54, 54, 55, 56, 56, 56, 60, 61, 62, 66, 66, 66, 67, 68, 69, 69, 71, 72, 73, 73, 75, 76, 76, 79, 80, 81, 81, 81, 83, 83, 85, 85, 85, 85, 86, 88, 92, 95, 97, 98, 99, 100, 100]\n",
      "\n",
      "[2, 5, 6, 7, 8, 9, 10, 11, 10, 13, 14, 15, 14, 15, 16, 17, 18, 19, 18, 19, 20, 21, 22, 23, 24, 23, 24, 25, 26, 27, 30, 31, 32, 33, 32, 34, 35, 36, 37, 39, 41, 45, 46, 47, 48, 49, 51, 52, 51, 53, 54, 55, 54, 55, 56, 57, 56, 60, 61, 62, 66, 67, 66, 67, 68, 69, 70, 71, 72, 73, 74, 75, 76, 77, 79, 80, 81, 82, 81, 83, 84, 85, 86, 85, 86, 87, 88, 92, 95, 97, 98, 99, 100, 101]\n",
      "34\n"
     ]
    }
   ],
   "source": [
    "#Unique Elements\n",
    "# A = [1,1,3]\n",
    "A = [ 51, 6, 10, 8, 22, 61, 56, 48, 88, 85, 21, 98, 81, 76, 71, 68, 18, 6, 14, 23, 72, 18, 56, 30, 97, 100, 81, 5, 99, 2, 85, 67, 46, 32, 66, 51, 76, 53, 36, 31, 81, 56, 26, 75, 69, 54, 54, 54, 83, 41, 86, 48, 7, 32, 85, 23, 47, 23, 18, 45, 79, 95, 73, 15, 55, 16, 66, 73, 13, 85, 14, 80, 39, 92, 66, 20, 22, 25, 34, 14, 51, 14, 17, 10, 100, 35, 9, 83, 31, 60, 24, 37, 69, 62 ]\n",
    "A.sort()\n",
    "print(A)\n",
    "num = A[0]\n",
    "steps = 0\n",
    "for i in range(1,len(A)):\n",
    "    if(A[i]==A[i-1]):\n",
    "        A[i] += 1\n",
    "        steps += 1\n",
    "print()\n",
    "print(A)\n",
    "print(steps)"
   ]
  },
  {
   "cell_type": "code",
   "execution_count": 87,
   "id": "cb19e574",
   "metadata": {},
   "outputs": [
    {
     "name": "stdout",
     "output_type": "stream",
     "text": [
      "[0.0, 1.0, 2.8284271247461903, 3.0, 3.1622776601683795]\n",
      "[[0, 0], [1, 0], [-2, 2], [-3, 0], [1, 3]]\n"
     ]
    }
   ],
   "source": [
    "#B Closest Points to Origin with O(N^2) TC \n",
    "import math\n",
    "A = [ \n",
    "       [1, 3],\n",
    "       [-2, 2],\n",
    "       [1, 4],\n",
    "       [1,0],\n",
    "       [-3,0],\n",
    "       [7,8],\n",
    "       [5,6],\n",
    "       [-3,-2],\n",
    "       [0,0],\n",
    "       [9,-10]\n",
    "     ]\n",
    "B = 5\n",
    "# A = [[-2,-2]]\n",
    "# B = 1\n",
    "ans = [None]*B\n",
    "dist_list = [None]*B\n",
    "for i in range(len(A)):\n",
    "    dist = math.sqrt((A[i][0]**2) + (A[i][1]**2))\n",
    "    if(i>=0 and i < B):\n",
    "        if(i==0):\n",
    "            dist_list[i] = dist\n",
    "            ans[i] = A[i]\n",
    "#             print(dist_list)\n",
    "        else:\n",
    "#             print(dist_list,i,dist)\n",
    "            if(dist<dist_list[i-1]):\n",
    "                j = i\n",
    "                dist_list[i] = dist\n",
    "                ans[i] = A[i]\n",
    "                while(j>0 and (dist_list[j-1]>dist_list[j]) ):\n",
    "#                     print(j)\n",
    "                    dist_list[j] = dist_list[j-1]\n",
    "                    dist_list[j-1] = dist\n",
    "                    ans[j] = ans[j-1]\n",
    "                    ans[j-1] = A[i]\n",
    "                    j -= 1\n",
    "            else:\n",
    "                dist_list[i] = dist\n",
    "                ans[i] = A[i]\n",
    "    else:\n",
    "        if(dist<dist_list[B-1]):\n",
    "            j = B - 1\n",
    "            dist_list[j] = dist\n",
    "            ans[j] = A[i]\n",
    "            while(j>0 and (dist_list[j-1]>dist_list[j])):\n",
    "                dist_list[j] = dist_list[j-1]\n",
    "                dist_list[j-1] = dist\n",
    "                ans[j] = ans[j-1]\n",
    "                ans[j-1] = A[i]\n",
    "                j -= 1\n",
    "                if(dist_list[j-1]<dist_list[j]):\n",
    "                    print(dist_list[j-1],dist_list[j],j)\n",
    "                    break\n",
    "                \n",
    "print(dist_list)\n",
    "print(ans)"
   ]
  },
  {
   "cell_type": "code",
   "execution_count": 97,
   "id": "8011df3a",
   "metadata": {},
   "outputs": [
    {
     "name": "stdout",
     "output_type": "stream",
     "text": [
      "[[0, 0], [1, 0], [-2, 2], [-3, 0], [1, 3]]\n"
     ]
    }
   ],
   "source": [
    "##B Closest Points to Origin using comparator O(NlogN) TC\n",
    "import math\n",
    "class comparator(list):\n",
    "    def __lt__(A,B):\n",
    "#         print(A,B)\n",
    "#         print(A[1],A[1],B[0],B[1])\n",
    "        dist_1 = (A[0]**2) + (A[1]**2)\n",
    "        dist_2 = (B[0]**2) + (B[1]**2)\n",
    "        if(dist_1<dist_2):\n",
    "            return True\n",
    "        else:\n",
    "            return False\n",
    "A = [ \n",
    "       [1, 3],\n",
    "       [-2, 2],\n",
    "       [1, 4],\n",
    "       [1,0],\n",
    "       [-3,0],\n",
    "       [7,8],\n",
    "       [5,6],\n",
    "       [-3,-2],\n",
    "       [0,0],\n",
    "       [9,-10]\n",
    "     ]\n",
    "B = 5\n",
    "C = sorted(A,key = comparator)\n",
    "print(C[:B])"
   ]
  },
  {
   "cell_type": "code",
   "execution_count": null,
   "id": "8d88d8eb",
   "metadata": {},
   "outputs": [],
   "source": []
  }
 ],
 "metadata": {
  "kernelspec": {
   "display_name": "Python 3 (ipykernel)",
   "language": "python",
   "name": "python3"
  },
  "language_info": {
   "codemirror_mode": {
    "name": "ipython",
    "version": 3
   },
   "file_extension": ".py",
   "mimetype": "text/x-python",
   "name": "python",
   "nbconvert_exporter": "python",
   "pygments_lexer": "ipython3",
   "version": "3.9.7"
  }
 },
 "nbformat": 4,
 "nbformat_minor": 5
}
