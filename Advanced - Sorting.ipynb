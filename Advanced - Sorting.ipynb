{
 "cells": [
  {
   "cell_type": "code",
   "execution_count": null,
   "id": "4bff49d1",
   "metadata": {},
   "outputs": [],
   "source": [
    "#Merge Two Sorted Arrays\n",
    "# A = [4, 7, 9 ]\n",
    "# B = [2, 11, 19 ]\n",
    "A = [1]\n",
    "B = [2]\n",
    "N = len(A)\n",
    "M = len(B)\n",
    "C = [0]*(N+M)\n",
    "p1 = 0\n",
    "p2 = 0\n",
    "p3 = 0\n",
    "while(p1<N and p2<M):\n",
    "    if(A[p1]<B[p2]):\n",
    "        C[p3] = A[p1]\n",
    "        p3 += 1\n",
    "        p1 += 1\n",
    "    else:\n",
    "        C[p3] = B[p2]\n",
    "        p3 += 1\n",
    "        p2 += 1\n",
    "while(p1<N):\n",
    "    C[p3] = A[p1]\n",
    "    p3 += 1\n",
    "    p1 += 1\n",
    "while(p2<M):\n",
    "    C[p3] = B[p2]\n",
    "    p3 += 1\n",
    "    p2 += 1\n",
    "print(C)"
   ]
  },
  {
   "cell_type": "code",
   "execution_count": null,
   "id": "2ee0081d",
   "metadata": {},
   "outputs": [],
   "source": [
    "# Kth smallest\n",
    "A = [2, 1, 4, 3, 2]\n",
    "B = 2\n",
    "A.sort()\n",
    "print(A[B-1])"
   ]
  },
  {
   "cell_type": "code",
   "execution_count": 15,
   "id": "17084428",
   "metadata": {},
   "outputs": [
    {
     "name": "stdout",
     "output_type": "stream",
     "text": [
      "[1, 1, 2, 4, 5, 10]\n"
     ]
    }
   ],
   "source": [
    "#Merge Sort\n",
    "def merge(A,start,mid,end):\n",
    "    C = [0]*(end-start+1)\n",
    "    p1 = start\n",
    "    p2 = mid+1\n",
    "    p3 = 0\n",
    "    while(p1<=mid and p2<=end):\n",
    "        if(A[p1]<A[p2]):\n",
    "            C[p3] = A[p1]\n",
    "            p3 += 1\n",
    "            p1 += 1\n",
    "        else:\n",
    "            C[p3] = A[p2]\n",
    "            p3 += 1\n",
    "            p2 += 1\n",
    "    while(p1<=mid):\n",
    "        C[p3] = A[p1]\n",
    "        p3 += 1\n",
    "        p1 += 1\n",
    "    while(p2<=end):\n",
    "        C[p3] = A[p2]\n",
    "        p3 += 1\n",
    "        p2 += 1\n",
    "    for i in range(0,end-start+1):\n",
    "        A[start+i] = C[i]\n",
    "def merge_sort(A,start,end):\n",
    "    if(start == end):\n",
    "        return \n",
    "    mid = (start + end)//2\n",
    "    merge_sort(A,start,mid)\n",
    "    merge_sort(A,mid+1,end)\n",
    "    merge(A,start,mid,end)\n",
    "    \n",
    "    \n",
    "A = [4, 1, 10, 2, 1, 5]\n",
    "# A = [4,1]\n",
    "start = 0\n",
    "end = len(A) - 1\n",
    "merge_sort(A,start,end)\n",
    "print(A)"
   ]
  },
  {
   "cell_type": "code",
   "execution_count": 22,
   "id": "b5f13c81",
   "metadata": {},
   "outputs": [
    {
     "name": "stdout",
     "output_type": "stream",
     "text": [
      "0\n"
     ]
    }
   ],
   "source": [
    "#Choclate Distribution\n",
    "# A = [3, 4, 1, 9, 56, 7, 9, 12]\n",
    "# B = 5\n",
    "A = [1]\n",
    "B = 1\n",
    "A.sort()\n",
    "ans = float('inf')\n",
    "start = 0\n",
    "window = B-1 \n",
    "end = len(A)\n",
    "while(window<end):\n",
    "#     print(window,end)\n",
    "    if(A[window]-A[start] < ans):\n",
    "        ans = A[window] - A[start]\n",
    "    start += 1\n",
    "    window += 1\n",
    "print(ans)"
   ]
  },
  {
   "cell_type": "code",
   "execution_count": 27,
   "id": "c4b64f82",
   "metadata": {},
   "outputs": [
    {
     "name": "stdout",
     "output_type": "stream",
     "text": [
      "4\n"
     ]
    }
   ],
   "source": [
    "#Array with consecutive elements\n",
    "A = [1,2,3,4,5]\n",
    "A.sort()\n",
    "count = 0\n",
    "a1 = A[0]\n",
    "for i in range(1,len(A)):\n",
    "    if(A[i]-a1==1):\n",
    "        count += 1\n",
    "        a1 = A[i]\n",
    "print(count)"
   ]
  },
  {
   "cell_type": "code",
   "execution_count": 38,
   "id": "b176ea6f",
   "metadata": {},
   "outputs": [
    {
     "name": "stdout",
     "output_type": "stream",
     "text": [
      "[1, 2, 3, 3]\n",
      "2\n"
     ]
    }
   ],
   "source": [
    "#Max mod\n",
    "# A = [ 927, 707, 374, 394, 279, 799, 878, 937, 431, 112 ]\n",
    "A = [1,2,3,3]\n",
    "A.sort()\n",
    "ans = A[-2]\n",
    "p = len(A)-2\n",
    "while(ans == A[-1]):\n",
    "#     print(p)\n",
    "    p = p - 1\n",
    "    ans = A[p]\n",
    "print(ans)"
   ]
  },
  {
   "cell_type": "code",
   "execution_count": 43,
   "id": "00e1e770",
   "metadata": {},
   "outputs": [
    {
     "name": "stdout",
     "output_type": "stream",
     "text": [
      "[2, 5, 6, 6, 7, 8, 9, 10, 10, 13, 14, 14, 14, 14, 15, 16, 17, 18, 18, 18, 20, 21, 22, 22, 23, 23, 23, 24, 25, 26, 30, 31, 31, 32, 32, 34, 35, 36, 37, 39, 41, 45, 46, 47, 48, 48, 51, 51, 51, 53, 54, 54, 54, 55, 56, 56, 56, 60, 61, 62, 66, 66, 66, 67, 68, 69, 69, 71, 72, 73, 73, 75, 76, 76, 79, 80, 81, 81, 81, 83, 83, 85, 85, 85, 85, 86, 88, 92, 95, 97, 98, 99, 100, 100]\n",
      "\n",
      "[2, 5, 6, 7, 8, 9, 10, 11, 10, 13, 14, 15, 14, 15, 16, 17, 18, 19, 18, 19, 20, 21, 22, 23, 24, 23, 24, 25, 26, 27, 30, 31, 32, 33, 32, 34, 35, 36, 37, 39, 41, 45, 46, 47, 48, 49, 51, 52, 51, 53, 54, 55, 54, 55, 56, 57, 56, 60, 61, 62, 66, 67, 66, 67, 68, 69, 70, 71, 72, 73, 74, 75, 76, 77, 79, 80, 81, 82, 81, 83, 84, 85, 86, 85, 86, 87, 88, 92, 95, 97, 98, 99, 100, 101]\n",
      "34\n"
     ]
    }
   ],
   "source": [
    "#Unique Elements\n",
    "# A = [1,1,3]\n",
    "A = [ 51, 6, 10, 8, 22, 61, 56, 48, 88, 85, 21, 98, 81, 76, 71, 68, 18, 6, 14, 23, 72, 18, 56, 30, 97, 100, 81, 5, 99, 2, 85, 67, 46, 32, 66, 51, 76, 53, 36, 31, 81, 56, 26, 75, 69, 54, 54, 54, 83, 41, 86, 48, 7, 32, 85, 23, 47, 23, 18, 45, 79, 95, 73, 15, 55, 16, 66, 73, 13, 85, 14, 80, 39, 92, 66, 20, 22, 25, 34, 14, 51, 14, 17, 10, 100, 35, 9, 83, 31, 60, 24, 37, 69, 62 ]\n",
    "A.sort()\n",
    "print(A)\n",
    "num = A[0]\n",
    "steps = 0\n",
    "for i in range(1,len(A)):\n",
    "    if(A[i]==A[i-1]):\n",
    "        A[i] += 1\n",
    "        steps += 1\n",
    "print()\n",
    "print(A)\n",
    "print(steps)"
   ]
  },
  {
   "cell_type": "code",
   "execution_count": 87,
   "id": "a7032d97",
   "metadata": {},
   "outputs": [
    {
     "name": "stdout",
     "output_type": "stream",
     "text": [
      "[0.0, 1.0, 2.8284271247461903, 3.0, 3.1622776601683795]\n",
      "[[0, 0], [1, 0], [-2, 2], [-3, 0], [1, 3]]\n"
     ]
    }
   ],
   "source": [
    "#B Closest Points to Origin with O(N^2) TC \n",
    "import math\n",
    "A = [ \n",
    "       [1, 3],\n",
    "       [-2, 2],\n",
    "       [1, 4],\n",
    "       [1,0],\n",
    "       [-3,0],\n",
    "       [7,8],\n",
    "       [5,6],\n",
    "       [-3,-2],\n",
    "       [0,0],\n",
    "       [9,-10]\n",
    "     ]\n",
    "B = 5\n",
    "# A = [[-2,-2]]\n",
    "# B = 1\n",
    "ans = [None]*B\n",
    "dist_list = [None]*B\n",
    "for i in range(len(A)):\n",
    "    dist = math.sqrt((A[i][0]**2) + (A[i][1]**2))\n",
    "    if(i>=0 and i < B):\n",
    "        if(i==0):\n",
    "            dist_list[i] = dist\n",
    "            ans[i] = A[i]\n",
    "#             print(dist_list)\n",
    "        else:\n",
    "#             print(dist_list,i,dist)\n",
    "            if(dist<dist_list[i-1]):\n",
    "                j = i\n",
    "                dist_list[i] = dist\n",
    "                ans[i] = A[i]\n",
    "                while(j>0 and (dist_list[j-1]>dist_list[j]) ):\n",
    "#                     print(j)\n",
    "                    dist_list[j] = dist_list[j-1]\n",
    "                    dist_list[j-1] = dist\n",
    "                    ans[j] = ans[j-1]\n",
    "                    ans[j-1] = A[i]\n",
    "                    j -= 1\n",
    "            else:\n",
    "                dist_list[i] = dist\n",
    "                ans[i] = A[i]\n",
    "    else:\n",
    "        if(dist<dist_list[B-1]):\n",
    "            j = B - 1\n",
    "            dist_list[j] = dist\n",
    "            ans[j] = A[i]\n",
    "            while(j>0 and (dist_list[j-1]>dist_list[j])):\n",
    "                dist_list[j] = dist_list[j-1]\n",
    "                dist_list[j-1] = dist\n",
    "                ans[j] = ans[j-1]\n",
    "                ans[j-1] = A[i]\n",
    "                j -= 1\n",
    "                if(dist_list[j-1]<dist_list[j]):\n",
    "                    print(dist_list[j-1],dist_list[j],j)\n",
    "                    break\n",
    "                \n",
    "print(dist_list)\n",
    "print(ans)"
   ]
  },
  {
   "cell_type": "code",
   "execution_count": 97,
   "id": "cb0e59c1",
   "metadata": {},
   "outputs": [
    {
     "name": "stdout",
     "output_type": "stream",
     "text": [
      "[[0, 0], [1, 0], [-2, 2], [-3, 0], [1, 3]]\n"
     ]
    }
   ],
   "source": [
    "##B Closest Points to Origin using comparator O(NlogN) TC\n",
    "import math\n",
    "class comparator(list):\n",
    "    def __lt__(A,B):\n",
    "#         print(A,B)\n",
    "#         print(A[1],A[1],B[0],B[1])\n",
    "        dist_1 = (A[0]**2) + (A[1]**2)\n",
    "        dist_2 = (B[0]**2) + (B[1]**2)\n",
    "        if(dist_1<dist_2):\n",
    "            return True\n",
    "        else:\n",
    "            return False\n",
    "A = [ \n",
    "       [1, 3],\n",
    "       [-2, 2],\n",
    "       [1, 4],\n",
    "       [1,0],\n",
    "       [-3,0],\n",
    "       [7,8],\n",
    "       [5,6],\n",
    "       [-3,-2],\n",
    "       [0,0],\n",
    "       [9,-10]\n",
    "     ]\n",
    "B = 5\n",
    "C = sorted(A,key = comparator)\n",
    "print(C[:B])"
   ]
  },
  {
   "cell_type": "code",
   "execution_count": 121,
   "id": "80e82616",
   "metadata": {},
   "outputs": [
    {
     "data": {
      "text/plain": [
       "21"
      ]
     },
     "execution_count": 121,
     "metadata": {},
     "output_type": "execute_result"
    }
   ],
   "source": [
    "def inversion_count(A,start,mid,end):\n",
    "    C = [0]*(end-start+1)\n",
    "    p1 = start\n",
    "    p2 = mid+1\n",
    "    p3 = 0\n",
    "    count = 0\n",
    "    while(p1<=mid and p2<=end):\n",
    "        if(A[p1]<=A[p2]):\n",
    "            C[p3] = A[p1]\n",
    "            p1+=1\n",
    "            p3+=1\n",
    "        else:\n",
    "            C[p3] = A[p2]\n",
    "            p3 += 1\n",
    "            p2 += 1\n",
    "            count += mid - p1 + 1\n",
    "#             print(A,count,end,mid)\n",
    "    while(p1<=mid):\n",
    "        C[p3] = A[p1]\n",
    "        p1+=1\n",
    "        p3+=1\n",
    "    while(p2<=end):\n",
    "        C[p3] = A[p2]\n",
    "        p3 += 1\n",
    "        p2 += 1\n",
    "    for i in range(0,end-start+1):\n",
    "        A[start + i] = C[i]\n",
    "    return count\n",
    "def inverse(A,start,end):\n",
    "    if(start==end):\n",
    "        return 0\n",
    "    mid = (start + end)//2\n",
    "    L = inverse(A,start,mid)\n",
    "    R = inverse(A,mid+1,end)\n",
    "    C = inversion_count(A,start,mid,end)\n",
    "#     print(L,R,start,end,C,A)\n",
    "    return L+R+C\n",
    "A = [ 6, 12, 10, 17, 10, 22, 9, 19, 21, 31, 26, 8 ]\n",
    "start = 0\n",
    "end = len(A)-1\n",
    "inverse(A,start,end)\n",
    "# print(A)"
   ]
  },
  {
   "cell_type": "code",
   "execution_count": 159,
   "id": "1e07ad5b",
   "metadata": {},
   "outputs": [
    {
     "name": "stdout",
     "output_type": "stream",
     "text": [
      "0 5 0 3 7\n",
      "9 12 8 11 14\n",
      "0 8 0 7 14\n",
      "1 9 0 7 14\n",
      "2 10 0 7 14\n",
      "15 19 15 18 22\n",
      "15 23 15 22 29\n",
      "16 24 15 22 29\n",
      "17 25 15 22 29\n",
      "0 15 0 14 29\n",
      "1 15 0 14 29\n",
      "2 18 0 14 29\n",
      "3 18 0 14 29\n",
      "4 19 0 14 29\n",
      "5 19 0 14 29\n",
      "30 35 30 33 37\n",
      "40 41 40 40 41\n",
      "42 43 42 42 43\n",
      "38 43 38 41 44\n",
      "39 43 38 41 44\n",
      "30 39 30 37 44\n",
      "31 41 30 37 44\n",
      "32 42 30 37 44\n",
      "53 54 53 53 54\n",
      "53 55 53 54 56\n",
      "54 55 53 54 56\n",
      "57 58 57 57 58\n",
      "57 59 57 58 59\n",
      "58 59 57 58 59\n",
      "45 56 45 52 59\n",
      "30 45 30 44 59\n",
      "31 47 30 44 59\n",
      "34 48 30 44 59\n",
      "35 48 30 44 59\n",
      "36 48 30 44 59\n",
      "37 48 30 44 59\n",
      "0 30 0 29 59\n",
      "1 30 0 29 59\n",
      "2 30 0 29 59\n",
      "3 33 0 29 59\n",
      "4 35 0 29 59\n",
      "5 37 0 29 59\n",
      "6 39 0 29 59\n",
      "7 39 0 29 59\n",
      "8 39 0 29 59\n",
      "9 42 0 29 59\n",
      "10 42 0 29 59\n",
      "11 42 0 29 59\n",
      "12 42 0 29 59\n"
     ]
    },
    {
     "data": {
      "text/plain": [
       "884"
      ]
     },
     "execution_count": 159,
     "metadata": {},
     "output_type": "execute_result"
    }
   ],
   "source": [
    "#Reverse Pairs\n",
    "def reverse_pairs(A,start,mid,end):\n",
    "    C = [0]*(end-start+1)\n",
    "    p1 = start\n",
    "    p2 = mid+1\n",
    "    p3 = 0\n",
    "    count = 0\n",
    "    while(p1<=mid and p2<=end):\n",
    "        if(A[p1]<=A[p2]):\n",
    "            if(A[p1]>2*A[p2]):\n",
    "                temp_p2 = p2\n",
    "                print(p1,p2,start,mid,end)\n",
    "                while(temp_p2<=end and 2*A[temp_p2]<A[p1]):\n",
    "                    count += 1\n",
    "                    temp_p2+= 1    \n",
    "            C[p3] = A[p1]\n",
    "            p1+=1\n",
    "            p3+=1\n",
    "        elif(A[p1]>2*A[p2]):\n",
    "            count += mid-p1+1\n",
    "            C[p3] = A[p2]\n",
    "            p3 += 1\n",
    "            p2 += 1\n",
    "#             print(A,count)\n",
    "        else:\n",
    "            temp_p1 = p1\n",
    "            while(temp_p1<=mid):\n",
    "                if(A[temp_p1]>2*A[p2]):\n",
    "                    count += mid - temp_p1 + 1\n",
    "                    break\n",
    "                else:\n",
    "                    temp_p1 += 1\n",
    "            C[p3] = A[p2]\n",
    "            p3 += 1\n",
    "            p2 += 1\n",
    "    while(p1<=mid):\n",
    "        C[p3] = A[p1]\n",
    "        p1+=1\n",
    "        p3+=1\n",
    "    while(p2<=end):\n",
    "        C[p3] = A[p2]\n",
    "        p3 += 1\n",
    "        p2 += 1\n",
    "    for i in range(0,end-start+1):\n",
    "        A[start + i] = C[i]\n",
    "    return count\n",
    "def reverse(A,start,end):\n",
    "    if(start==end):\n",
    "        return 0\n",
    "    mid = (start + end)//2\n",
    "    L = reverse(A,start,mid)\n",
    "    R = reverse(A,mid+1,end)\n",
    "    C = reverse_pairs(A,start,mid,end)\n",
    "#     print(L,R,start,end,C,A)\n",
    "    return L+R+C\n",
    "# A = [1, 3, 2, 3, 1]\n",
    "# A = [4,1,2]\n",
    "# A = [-10,-5,-2,0,-9,-7,-3,1]\n",
    "A = [ 759, -881, 1515, -310, 1141, -740, -1885, 1381, 371, 351, -787, -1824, 139, 58, -473, 1978, 711, -1763, 1608, -393, 1524, -1194, 1193, 988, 1957, 387, -757, 983, -1497, -344, 899, -100, -868, 1244, 1865, 651, -1417, -706, -679, 1229, -1165, -1115, -1629, -868, 495, 628, -491, 578, 1994, 717, 739, 1274, 1207, -292, -240, 1715, -195, -1612, -1604, -1357 ]\n",
    "start = 0\n",
    "end = len(A)-1\n",
    "reverse(A,start,end)\n",
    "# print(A)"
   ]
  },
  {
   "cell_type": "code",
   "execution_count": 165,
   "id": "a6c3e557",
   "metadata": {},
   "outputs": [
    {
     "name": "stdout",
     "output_type": "stream",
     "text": [
      "[-10, -9, -7, -3, -2, 0, 1, 5]\n"
     ]
    }
   ],
   "source": [
    "#Reverse Pairs\n",
    "def inversePair(A, start, mid, end):\n",
    "    pointer1 = start\n",
    "    pointer2 = mid + 1\n",
    "    count = 0\n",
    "    while pointer1 <= mid and pointer2 <= end:\n",
    "        if A[pointer1] > A[pointer2] * 2:\n",
    "            count += mid - pointer1 + 1\n",
    "            pointer2 += 1\n",
    "        else: pointer1 += 1\n",
    "    return count\n",
    "\n",
    "\n",
    "def merge(A, start, mid, end):\n",
    "    left = start\n",
    "    right = mid + 1\n",
    "    merge = []\n",
    "\n",
    "    while left <= mid and right <= end:\n",
    "        if A[left] > A[right]:\n",
    "            merge.append(A[right])\n",
    "            right += 1\n",
    "        else:\n",
    "            merge.append(A[left])\n",
    "            left += 1\n",
    "\n",
    "    while left <= mid:\n",
    "        merge.append(A[left])\n",
    "        left += 1\n",
    "\n",
    "    while right <= end:\n",
    "        merge.append(A[right])\n",
    "        right += 1\n",
    "\n",
    "    for index in range(len(merge)):\n",
    "        A[start + index] = merge[index]\n",
    "\n",
    "def mergeSort(A, start, end):\n",
    "    if start == end:\n",
    "        return 0\n",
    "    mid = (start + end) // 2\n",
    "    pair_left = mergeSort(A, start, mid)\n",
    "    pair_right = mergeSort(A, mid + 1, end)\n",
    "    pair_both = inversePair(A, start, mid, end)\n",
    "    merge(A, start, mid, end)\n",
    "    return pair_left + pair_right + pair_both\n",
    "\n",
    "def solve(A):\n",
    "    return mergeSort(A, 0, len(A) - 1)\n",
    "\n",
    "A = [-10,5,-2,0,-9,-7,-3,1]\n",
    "solve(A)\n",
    "print(A)"
   ]
  },
  {
   "cell_type": "code",
   "execution_count": 170,
   "id": "3f2015f5",
   "metadata": {},
   "outputs": [
    {
     "name": "stdout",
     "output_type": "stream",
     "text": [
      "66\n"
     ]
    }
   ],
   "source": [
    "#Sum the difference\n",
    "# A = [5,4,2]\n",
    "A = [4,6,6,7,8]\n",
    "A.sort()\n",
    "ans = 0\n",
    "for i in range(len(A)):\n",
    "    count = 1\n",
    "    for j in range(i+1,len(A)):\n",
    "        ans += count*(A[j] - A[i])\n",
    "        count = count*2\n",
    "print(ans)"
   ]
  },
  {
   "cell_type": "code",
   "execution_count": 22,
   "id": "c17c7929",
   "metadata": {},
   "outputs": [
    {
     "name": "stdout",
     "output_type": "stream",
     "text": [
      "[1, 1, 10, 10, 15, 10, 15, 10, 10, 15, 10, 15]\n",
      "[1, 1, 10, 10, 10, 10, 10, 10, 15, 15, 15, 15]\n",
      "4 10\n"
     ]
    }
   ],
   "source": [
    "# Maximum Unsorted Subarray\n",
    "A = [ 1, 1, 10, 10, 15, 10, 15, 10, 10, 15, 10, 15 ]\n",
    "# A = [1,3,4,2,5]\n",
    "# A = [ 16, 6, 18, 17, 13, 6, 18, 16, 6, 15, 15, 18, 16, 13, 16, 16, 6, 18, 15, 15 ]\n",
    "B = []\n",
    "start = -1\n",
    "end = -1\n",
    "for i in A:\n",
    "    B.append(i)\n",
    "B.sort()\n",
    "print(A)\n",
    "print(B)\n",
    "for i in range(len(A)):\n",
    "    if(start == -1 and A[i]!=B[i]):\n",
    "        start = i\n",
    "    elif(start!= -1 and end==0 and A[i]==B[i]):\n",
    "        end = i-1\n",
    "    elif(start!= -1 and end!=0 and A[i]!=B[i]):\n",
    "        end = i\n",
    "if(start!= -1 and end==-1):\n",
    "    end = len(A)-1\n",
    "print(start,end)"
   ]
  },
  {
   "cell_type": "code",
   "execution_count": null,
   "id": "a3bfc13b",
   "metadata": {},
   "outputs": [],
   "source": []
  }
 ],
 "metadata": {
  "kernelspec": {
   "display_name": "Python 3 (ipykernel)",
   "language": "python",
   "name": "python3"
  },
  "language_info": {
   "codemirror_mode": {
    "name": "ipython",
    "version": 3
   },
   "file_extension": ".py",
   "mimetype": "text/x-python",
   "name": "python",
   "nbconvert_exporter": "python",
   "pygments_lexer": "ipython3",
   "version": "3.9.7"
  }
 },
 "nbformat": 4,
 "nbformat_minor": 5
}
