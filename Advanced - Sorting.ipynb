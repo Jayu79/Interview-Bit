{
 "cells": [
  {
   "cell_type": "code",
   "execution_count": null,
   "id": "4bff49d1",
   "metadata": {},
   "outputs": [],
   "source": [
    "#Merge Two Sorted Arrays\n",
    "# A = [4, 7, 9 ]\n",
    "# B = [2, 11, 19 ]\n",
    "A = [1]\n",
    "B = [2]\n",
    "N = len(A)\n",
    "M = len(B)\n",
    "C = [0]*(N+M)\n",
    "p1 = 0\n",
    "p2 = 0\n",
    "p3 = 0\n",
    "while(p1<N and p2<M):\n",
    "    if(A[p1]<B[p2]):\n",
    "        C[p3] = A[p1]\n",
    "        p3 += 1\n",
    "        p1 += 1\n",
    "    else:\n",
    "        C[p3] = B[p2]\n",
    "        p3 += 1\n",
    "        p2 += 1\n",
    "while(p1<N):\n",
    "    C[p3] = A[p1]\n",
    "    p3 += 1\n",
    "    p1 += 1\n",
    "while(p2<M):\n",
    "    C[p3] = B[p2]\n",
    "    p3 += 1\n",
    "    p2 += 1\n",
    "print(C)"
   ]
  },
  {
   "cell_type": "code",
   "execution_count": null,
   "id": "2ee0081d",
   "metadata": {},
   "outputs": [],
   "source": [
    "# Kth smallest\n",
    "A = [2, 1, 4, 3, 2]\n",
    "B = 2\n",
    "A.sort()\n",
    "print(A[B-1])"
   ]
  },
  {
   "cell_type": "code",
   "execution_count": 15,
   "id": "17084428",
   "metadata": {},
   "outputs": [
    {
     "name": "stdout",
     "output_type": "stream",
     "text": [
      "[1, 1, 2, 4, 5, 10]\n"
     ]
    }
   ],
   "source": [
    "#Merge Sort\n",
    "def merge(A,start,mid,end):\n",
    "    C = [0]*(end-start+1)\n",
    "    p1 = start\n",
    "    p2 = mid+1\n",
    "    p3 = 0\n",
    "    while(p1<=mid and p2<=end):\n",
    "        if(A[p1]<A[p2]):\n",
    "            C[p3] = A[p1]\n",
    "            p3 += 1\n",
    "            p1 += 1\n",
    "        else:\n",
    "            C[p3] = A[p2]\n",
    "            p3 += 1\n",
    "            p2 += 1\n",
    "    while(p1<=mid):\n",
    "        C[p3] = A[p1]\n",
    "        p3 += 1\n",
    "        p1 += 1\n",
    "    while(p2<=end):\n",
    "        C[p3] = A[p2]\n",
    "        p3 += 1\n",
    "        p2 += 1\n",
    "    for i in range(0,end-start+1):\n",
    "        A[start+i] = C[i]\n",
    "def merge_sort(A,start,end):\n",
    "    if(start == end):\n",
    "        return \n",
    "    mid = (start + end)//2\n",
    "    merge_sort(A,start,mid)\n",
    "    merge_sort(A,mid+1,end)\n",
    "    merge(A,start,mid,end)\n",
    "    \n",
    "    \n",
    "A = [4, 1, 10, 2, 1, 5]\n",
    "# A = [4,1]\n",
    "start = 0\n",
    "end = len(A) - 1\n",
    "merge_sort(A,start,end)\n",
    "print(A)"
   ]
  },
  {
   "cell_type": "code",
   "execution_count": 22,
   "id": "b5f13c81",
   "metadata": {},
   "outputs": [
    {
     "name": "stdout",
     "output_type": "stream",
     "text": [
      "0\n"
     ]
    }
   ],
   "source": [
    "#Choclate Distribution\n",
    "# A = [3, 4, 1, 9, 56, 7, 9, 12]\n",
    "# B = 5\n",
    "A = [1]\n",
    "B = 1\n",
    "A.sort()\n",
    "ans = float('inf')\n",
    "start = 0\n",
    "window = B-1 \n",
    "end = len(A)\n",
    "while(window<end):\n",
    "#     print(window,end)\n",
    "    if(A[window]-A[start] < ans):\n",
    "        ans = A[window] - A[start]\n",
    "    start += 1\n",
    "    window += 1\n",
    "print(ans)"
   ]
  },
  {
   "cell_type": "code",
   "execution_count": 27,
   "id": "c4b64f82",
   "metadata": {},
   "outputs": [
    {
     "name": "stdout",
     "output_type": "stream",
     "text": [
      "4\n"
     ]
    }
   ],
   "source": [
    "#Array with consecutive elements\n",
    "A = [1,2,3,4,5]\n",
    "A.sort()\n",
    "count = 0\n",
    "a1 = A[0]\n",
    "for i in range(1,len(A)):\n",
    "    if(A[i]-a1==1):\n",
    "        count += 1\n",
    "        a1 = A[i]\n",
    "print(count)"
   ]
  },
  {
   "cell_type": "code",
   "execution_count": 38,
   "id": "b176ea6f",
   "metadata": {},
   "outputs": [
    {
     "name": "stdout",
     "output_type": "stream",
     "text": [
      "[1, 2, 3, 3]\n",
      "2\n"
     ]
    }
   ],
   "source": [
    "#Max mod\n",
    "# A = [ 927, 707, 374, 394, 279, 799, 878, 937, 431, 112 ]\n",
    "A = [1,2,3,3]\n",
    "A.sort()\n",
    "ans = A[-2]\n",
    "p = len(A)-2\n",
    "while(ans == A[-1]):\n",
    "#     print(p)\n",
    "    p = p - 1\n",
    "    ans = A[p]\n",
    "print(ans)"
   ]
  },
  {
   "cell_type": "code",
   "execution_count": null,
   "id": "00e1e770",
   "metadata": {},
   "outputs": [],
   "source": []
  }
 ],
 "metadata": {
  "kernelspec": {
   "display_name": "Python 3 (ipykernel)",
   "language": "python",
   "name": "python3"
  },
  "language_info": {
   "codemirror_mode": {
    "name": "ipython",
    "version": 3
   },
   "file_extension": ".py",
   "mimetype": "text/x-python",
   "name": "python",
   "nbconvert_exporter": "python",
   "pygments_lexer": "ipython3",
   "version": "3.9.7"
  }
 },
 "nbformat": 4,
 "nbformat_minor": 5
}
