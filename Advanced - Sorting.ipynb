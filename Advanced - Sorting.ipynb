{
 "cells": [
  {
   "cell_type": "code",
   "execution_count": null,
   "id": "6f9e007b",
   "metadata": {},
   "outputs": [],
   "source": [
    "#Merge Two Sorted Arrays\n",
    "# A = [4, 7, 9 ]\n",
    "# B = [2, 11, 19 ]\n",
    "A = [1]\n",
    "B = [2]\n",
    "N = len(A)\n",
    "M = len(B)\n",
    "C = [0]*(N+M)\n",
    "p1 = 0\n",
    "p2 = 0\n",
    "p3 = 0\n",
    "while(p1<N and p2<M):\n",
    "    if(A[p1]<B[p2]):\n",
    "        C[p3] = A[p1]\n",
    "        p3 += 1\n",
    "        p1 += 1\n",
    "    else:\n",
    "        C[p3] = B[p2]\n",
    "        p3 += 1\n",
    "        p2 += 1\n",
    "while(p1<N):\n",
    "    C[p3] = A[p1]\n",
    "    p3 += 1\n",
    "    p1 += 1\n",
    "while(p2<M):\n",
    "    C[p3] = B[p2]\n",
    "    p3 += 1\n",
    "    p2 += 1\n",
    "print(C)"
   ]
  },
  {
   "cell_type": "code",
   "execution_count": null,
   "id": "ed7f61e7",
   "metadata": {},
   "outputs": [],
   "source": [
    "# Kth smallest\n",
    "A = [2, 1, 4, 3, 2]\n",
    "B = 2\n",
    "A.sort()\n",
    "print(A[B-1])"
   ]
  },
  {
   "cell_type": "code",
   "execution_count": 15,
   "id": "2f6d3daa",
   "metadata": {},
   "outputs": [
    {
     "name": "stdout",
     "output_type": "stream",
     "text": [
      "[1, 1, 2, 4, 5, 10]\n"
     ]
    }
   ],
   "source": [
    "#Merge Sort\n",
    "def merge(A,start,mid,end):\n",
    "    C = [0]*(end-start+1)\n",
    "    p1 = start\n",
    "    p2 = mid+1\n",
    "    p3 = 0\n",
    "    while(p1<=mid and p2<=end):\n",
    "        if(A[p1]<A[p2]):\n",
    "            C[p3] = A[p1]\n",
    "            p3 += 1\n",
    "            p1 += 1\n",
    "        else:\n",
    "            C[p3] = A[p2]\n",
    "            p3 += 1\n",
    "            p2 += 1\n",
    "    while(p1<=mid):\n",
    "        C[p3] = A[p1]\n",
    "        p3 += 1\n",
    "        p1 += 1\n",
    "    while(p2<=end):\n",
    "        C[p3] = A[p2]\n",
    "        p3 += 1\n",
    "        p2 += 1\n",
    "    for i in range(0,end-start+1):\n",
    "        A[start+i] = C[i]\n",
    "def merge_sort(A,start,end):\n",
    "    if(start == end):\n",
    "        return \n",
    "    mid = (start + end)//2\n",
    "    merge_sort(A,start,mid)\n",
    "    merge_sort(A,mid+1,end)\n",
    "    merge(A,start,mid,end)\n",
    "    \n",
    "    \n",
    "A = [4, 1, 10, 2, 1, 5]\n",
    "# A = [4,1]\n",
    "start = 0\n",
    "end = len(A) - 1\n",
    "merge_sort(A,start,end)\n",
    "print(A)"
   ]
  },
  {
   "cell_type": "code",
   "execution_count": null,
   "id": "5646d3c8",
   "metadata": {},
   "outputs": [],
   "source": []
  }
 ],
 "metadata": {
  "kernelspec": {
   "display_name": "Python 3 (ipykernel)",
   "language": "python",
   "name": "python3"
  },
  "language_info": {
   "codemirror_mode": {
    "name": "ipython",
    "version": 3
   },
   "file_extension": ".py",
   "mimetype": "text/x-python",
   "name": "python",
   "nbconvert_exporter": "python",
   "pygments_lexer": "ipython3",
   "version": "3.9.7"
  }
 },
 "nbformat": 4,
 "nbformat_minor": 5
}
