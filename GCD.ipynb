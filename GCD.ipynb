{
 "cells": [
  {
   "cell_type": "code",
   "execution_count": 9,
   "id": "3ceaadcd",
   "metadata": {},
   "outputs": [
    {
     "data": {
      "text/plain": [
       "100"
      ]
     },
     "execution_count": 9,
     "metadata": {},
     "output_type": "execute_result"
    }
   ],
   "source": [
    "#Greatest Common Divisor\n",
    "def gcd(A,B):\n",
    "#     print(A,B)\n",
    "    if(B==0):\n",
    "        return A\n",
    "    return gcd(B,A%B)\n",
    "gcd(100,10000)"
   ]
  },
  {
   "cell_type": "code",
   "execution_count": 4,
   "id": "c4f33261",
   "metadata": {},
   "outputs": [
    {
     "name": "stdout",
     "output_type": "stream",
     "text": [
      "1\n"
     ]
    }
   ],
   "source": [
    "#pubg\n",
    "A = [2, 3, 4]\n",
    "ans = 0\n",
    "for i in range(len(A)):\n",
    "    ans = gcd(ans,A[i])\n",
    "print(ans)"
   ]
  },
  {
   "cell_type": "code",
   "execution_count": 15,
   "id": "bd3fb8af",
   "metadata": {},
   "outputs": [
    {
     "name": "stdout",
     "output_type": "stream",
     "text": [
      "[12, 3, 3] [3, 3, 18]\n",
      "6\n"
     ]
    }
   ],
   "source": [
    "#Delete one\n",
    "A = [12, 15, 18]\n",
    "# A = [5,15,30]\n",
    "N = len(A)\n",
    "ans = 0\n",
    "pf_gcd = [0]*N\n",
    "sf_gcd = [0]*N\n",
    "pf_gcd[0] = A[0]\n",
    "sf_gcd[N-1] = A[N-1]\n",
    "for i in range(1,N):\n",
    "    pf_gcd[i] = gcd(pf_gcd[i-1],A[i])\n",
    "for i in range(N-2,-1,-1):\n",
    "    sf_gcd[i] = gcd(sf_gcd[i+1],A[i])\n",
    "# print(pf_gcd,sf_gcd)\n",
    "for i in range(N):\n",
    "    if(i==0):\n",
    "        ans = max(ans,sf_gcd[1])\n",
    "    elif(i==N-1):\n",
    "        ans = max(ans,pf_gcd[N-2])\n",
    "    else:\n",
    "        ans = max(ans,gcd(pf_gcd[i-1],sf_gcd[i+1]))\n",
    "print(ans)"
   ]
  },
  {
   "cell_type": "code",
   "execution_count": null,
   "id": "6a0176e0",
   "metadata": {},
   "outputs": [],
   "source": []
  }
 ],
 "metadata": {
  "kernelspec": {
   "display_name": "Python 3 (ipykernel)",
   "language": "python",
   "name": "python3"
  },
  "language_info": {
   "codemirror_mode": {
    "name": "ipython",
    "version": 3
   },
   "file_extension": ".py",
   "mimetype": "text/x-python",
   "name": "python",
   "nbconvert_exporter": "python",
   "pygments_lexer": "ipython3",
   "version": "3.9.7"
  }
 },
 "nbformat": 4,
 "nbformat_minor": 5
}
