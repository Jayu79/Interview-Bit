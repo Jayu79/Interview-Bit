{
 "cells": [
  {
   "cell_type": "code",
   "execution_count": 9,
   "id": "22c60adc",
   "metadata": {},
   "outputs": [
    {
     "data": {
      "text/plain": [
       "100"
      ]
     },
     "execution_count": 9,
     "metadata": {},
     "output_type": "execute_result"
    }
   ],
   "source": [
    "#Greatest Common Divisor\n",
    "def gcd(A,B):\n",
    "#     print(A,B)\n",
    "    if(B==0):\n",
    "        return A\n",
    "    return gcd(B,A%B)\n",
    "gcd(100,10000)"
   ]
  },
  {
   "cell_type": "code",
   "execution_count": 4,
   "id": "716ddffa",
   "metadata": {},
   "outputs": [
    {
     "name": "stdout",
     "output_type": "stream",
     "text": [
      "1\n"
     ]
    }
   ],
   "source": [
    "#pubg\n",
    "A = [2, 3, 4]\n",
    "ans = 0\n",
    "for i in range(len(A)):\n",
    "    ans = gcd(ans,A[i])\n",
    "print(ans)"
   ]
  },
  {
   "cell_type": "code",
   "execution_count": 15,
   "id": "f5719692",
   "metadata": {},
   "outputs": [
    {
     "name": "stdout",
     "output_type": "stream",
     "text": [
      "[12, 3, 3] [3, 3, 18]\n",
      "6\n"
     ]
    }
   ],
   "source": [
    "#Delete one\n",
    "A = [12, 15, 18]\n",
    "# A = [5,15,30]\n",
    "N = len(A)\n",
    "ans = 0\n",
    "pf_gcd = [0]*N\n",
    "sf_gcd = [0]*N\n",
    "pf_gcd[0] = A[0]\n",
    "sf_gcd[N-1] = A[N-1]\n",
    "for i in range(1,N):\n",
    "    pf_gcd[i] = gcd(pf_gcd[i-1],A[i])\n",
    "for i in range(N-2,-1,-1):\n",
    "    sf_gcd[i] = gcd(sf_gcd[i+1],A[i])\n",
    "# print(pf_gcd,sf_gcd)\n",
    "for i in range(N):\n",
    "    if(i==0):\n",
    "        ans = max(ans,sf_gcd[1])\n",
    "    elif(i==N-1):\n",
    "        ans = max(ans,pf_gcd[N-2])\n",
    "    else:\n",
    "        ans = max(ans,gcd(pf_gcd[i-1],sf_gcd[i+1]))\n",
    "print(ans)"
   ]
  },
  {
   "cell_type": "code",
   "execution_count": 17,
   "id": "ee6756b0",
   "metadata": {},
   "outputs": [
    {
     "name": "stdout",
     "output_type": "stream",
     "text": [
      "1\n"
     ]
    }
   ],
   "source": [
    "#Largest Coprime Divisor\n",
    "A = 5\n",
    "B = 10\n",
    "while(A):\n",
    "    temp = 0\n",
    "    temp = gcd(A,B)\n",
    "    if(temp==1):\n",
    "        break\n",
    "    else:\n",
    "        A = A//temp\n",
    "print(A)"
   ]
  },
  {
   "cell_type": "code",
   "execution_count": 18,
   "id": "2e17662f",
   "metadata": {},
   "outputs": [
    {
     "name": "stdout",
     "output_type": "stream",
     "text": [
      "2\n"
     ]
    }
   ],
   "source": [
    "#Divisor game\n",
    "A = 12\n",
    "B = 3\n",
    "C = 2\n",
    "divisor = B*C\n",
    "i = 1\n",
    "ans = divisor \n",
    "count = 0\n",
    "while(ans<=A):\n",
    "    count += 1\n",
    "    i += 1\n",
    "    ans = divisor*i\n",
    "print(count)"
   ]
  },
  {
   "cell_type": "code",
   "execution_count": 33,
   "id": "e288b194",
   "metadata": {},
   "outputs": [
    {
     "name": "stdout",
     "output_type": "stream",
     "text": [
      "[2, 8, 10]\n"
     ]
    }
   ],
   "source": [
    "#All GCD pair\n",
    "import math\n",
    "# A = [ 1, 31, 1, 1, 1, 1, 14, 2, 1, 1, 1, 2, 22, 1, 11, 1, 1, 1, 1, 23, 1, 1, 11, 1, 11 ]\n",
    "A = [2, 2, 2, 2, 8, 2, 2, 2, 10]\n",
    "N = len(A)\n",
    "# print(N)\n",
    "# print(int(math.sqrt(N)))\n",
    "sq = int(math.sqrt(N))\n",
    "ans = []\n",
    "i = 0\n",
    "while i<N:\n",
    "    count = 0\n",
    "    max_num = 0\n",
    "    while(count<sq):\n",
    "        max_num = max(max_num,A[i+count])\n",
    "        count += 1\n",
    "#     print(count,i)\n",
    "    ans.append(max_num)\n",
    "    i = i + count\n",
    "print(ans)"
   ]
  },
  {
   "cell_type": "code",
   "execution_count": null,
   "id": "e384740c",
   "metadata": {},
   "outputs": [],
   "source": []
  }
 ],
 "metadata": {
  "kernelspec": {
   "display_name": "Python 3 (ipykernel)",
   "language": "python",
   "name": "python3"
  },
  "language_info": {
   "codemirror_mode": {
    "name": "ipython",
    "version": 3
   },
   "file_extension": ".py",
   "mimetype": "text/x-python",
   "name": "python",
   "nbconvert_exporter": "python",
   "pygments_lexer": "ipython3",
   "version": "3.9.7"
  }
 },
 "nbformat": 4,
 "nbformat_minor": 5
}
