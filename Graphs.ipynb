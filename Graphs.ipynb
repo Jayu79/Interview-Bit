{
 "cells": [
  {
   "cell_type": "code",
   "execution_count": 12,
   "id": "7ad7d577",
   "metadata": {},
   "outputs": [
    {
     "name": "stdout",
     "output_type": "stream",
     "text": [
      "True\n"
     ]
    }
   ],
   "source": [
    "# Path in Directed Graph\n",
    "from collections import deque\n",
    "# A = 5\n",
    "# B = [  [1, 2],\n",
    "#     [4, 1],\n",
    "#     [2, 4], \n",
    "#     [3, 4],\n",
    "#     [5, 2],\n",
    "#     [1, 3] ]\n",
    "A = 5\n",
    "B = [  [1, 2],\n",
    "    [2, 3] ,\n",
    "    [3, 4] ,\n",
    "    [4, 5] ]\n",
    "\n",
    "adj_list = [[]for i in range(A+1)]\n",
    "for i in B:\n",
    "    s = i[0]\n",
    "    d = i[1]\n",
    "    adj_list[s].append(d)\n",
    "# print(adj_list)\n",
    "visited = [False]*(A+1)\n",
    "queue = deque()\n",
    "queue.append(B[0][0])\n",
    "visited[B[0][0]] = True\n",
    "# print(queue,visited)\n",
    "while(len(queue)>0):\n",
    "    v = queue.popleft()\n",
    "    for i in range(len(adj_list[v])):\n",
    "        u = adj_list[v][i]\n",
    "        if(visited[u] is False):\n",
    "            visited[u] = True\n",
    "            queue.append(u)\n",
    "print(visited[A])"
   ]
  },
  {
   "cell_type": "code",
   "execution_count": null,
   "id": "0ff414f4",
   "metadata": {},
   "outputs": [],
   "source": []
  }
 ],
 "metadata": {
  "kernelspec": {
   "display_name": "Python 3 (ipykernel)",
   "language": "python",
   "name": "python3"
  },
  "language_info": {
   "codemirror_mode": {
    "name": "ipython",
    "version": 3
   },
   "file_extension": ".py",
   "mimetype": "text/x-python",
   "name": "python",
   "nbconvert_exporter": "python",
   "pygments_lexer": "ipython3",
   "version": "3.9.7"
  }
 },
 "nbformat": 4,
 "nbformat_minor": 5
}
