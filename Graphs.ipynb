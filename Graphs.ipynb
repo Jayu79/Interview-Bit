{
 "cells": [
  {
   "cell_type": "code",
   "execution_count": 12,
   "id": "e98a81ce",
   "metadata": {},
   "outputs": [
    {
     "name": "stdout",
     "output_type": "stream",
     "text": [
      "True\n"
     ]
    }
   ],
   "source": [
    "# Path in Directed Graph\n",
    "from collections import deque\n",
    "# A = 5\n",
    "# B = [  [1, 2],\n",
    "#     [4, 1],\n",
    "#     [2, 4], \n",
    "#     [3, 4],\n",
    "#     [5, 2],\n",
    "#     [1, 3] ]\n",
    "A = 5\n",
    "B = [  [1, 2],\n",
    "    [2, 3] ,\n",
    "    [3, 4] ,\n",
    "    [4, 5] ]\n",
    "\n",
    "adj_list = [[]for i in range(A+1)]\n",
    "for i in B:\n",
    "    s = i[0]\n",
    "    d = i[1]\n",
    "    adj_list[s].append(d)\n",
    "# print(adj_list)\n",
    "visited = [False]*(A+1)\n",
    "queue = deque()\n",
    "queue.append(B[0][0])\n",
    "visited[B[0][0]] = True\n",
    "# print(queue,visited)\n",
    "while(len(queue)>0):\n",
    "    v = queue.popleft()\n",
    "    for i in range(len(adj_list[v])):\n",
    "        u = adj_list[v][i]\n",
    "        if(visited[u] is False):\n",
    "            visited[u] = True\n",
    "            queue.append(u)\n",
    "print(visited[A])"
   ]
  },
  {
   "cell_type": "code",
   "execution_count": 28,
   "id": "55ac5ec8",
   "metadata": {},
   "outputs": [
    {
     "name": "stdout",
     "output_type": "stream",
     "text": [
      "[[], [1, 2], [3], []] 3\n",
      "0\n"
     ]
    }
   ],
   "source": [
    "# First Depth First Search\n",
    "A = [1, 1, 2]\n",
    "B = 1\n",
    "C = 2\n",
    "N = len(A)\n",
    "graph=[[] for x in range(len(A)+1)]\n",
    "for i in range(len(A)):\n",
    "    u=A[i]\n",
    "    v=i+1\n",
    "    graph[u].append(v)\n",
    "visited=[0 for x in range(len(A)+1)]\n",
    "print(graph,v)\n",
    "queue = []\n",
    "queue.append(graph[C])\n",
    "visited[C] = 1\n",
    "while(len(queue)>0):\n",
    "    f = queue.pop(0)\n",
    "    for i in range(len(f)):\n",
    "        u = f[i]\n",
    "        if(visited[u] == 0):\n",
    "            visited[u] = 1\n",
    "            queue.append(graph[u])\n",
    "print(visited[B])"
   ]
  },
  {
   "cell_type": "code",
   "execution_count": 47,
   "id": "0ba3cfa4",
   "metadata": {},
   "outputs": [
    {
     "name": "stdout",
     "output_type": "stream",
     "text": [
      "1\n"
     ]
    }
   ],
   "source": [
    "# Cycle in Undirected Graph \n",
    "\n",
    "def dfs(g,vis,s):\n",
    "    if(vis[s]):\n",
    "        return\n",
    "    vis[s] = True\n",
    "    for i in range(len(g[s])):\n",
    "        v = g[s][i]\n",
    "        dfs(g,vis,v)\n",
    "\n",
    "\n",
    "\n",
    "A = 5\n",
    "B = [[1, 2],[1, 3],[2, 3],[1, 4],[4, 5]]\n",
    "vis = [False]*(A+1)\n",
    "c = 0\n",
    "s = B[0][0]\n",
    "adj_list = [[]for i in range(A+1)]\n",
    "for i in B:\n",
    "    v = i[0]\n",
    "    u = i[1]\n",
    "    adj_list[v].append(u)\n",
    "    adj_list[u].append(v)\n",
    "for i in range(1,A+1):\n",
    "    if(not vis[i]):\n",
    "        dfs(adj_list,vis,i)\n",
    "        c += 1\n",
    "count = 0\n",
    "for i in adj_list:\n",
    "    count += len(i)\n",
    "edges = count//2\n",
    "if(edges == A-c):\n",
    "    print(0)\n",
    "else:\n",
    "    print(1)"
   ]
  },
  {
   "cell_type": "code",
   "execution_count": 70,
   "id": "500d08cc",
   "metadata": {},
   "outputs": [
    {
     "name": "stdout",
     "output_type": "stream",
     "text": [
      "5\n"
     ]
    }
   ],
   "source": [
    "# Number of islands\n",
    "\n",
    "def dfs(A,r,c,N,M,x,y):\n",
    "    if(r<0 or c<0 or r>=N or c>=M or A[r][c]==0):\n",
    "        return\n",
    "    A[r][c] = 0\n",
    "    for i in range(8):\n",
    "        dfs(A,r+x[i],c+y[i],N,M,x,y)\n",
    "\n",
    "\n",
    "# A = [[0, 1, 0],[0, 0, 1],[1, 0, 0]]\n",
    "A =[   \n",
    "       [1, 1, 0, 0, 0],\n",
    "       [0, 1, 0, 0, 0],\n",
    "       [1, 0, 0, 1, 1],\n",
    "       [0, 0, 0, 0, 0],\n",
    "       [1, 0, 1, 0, 1]    \n",
    "     ]\n",
    "N = len(A)\n",
    "M = len(A[0])\n",
    "C = 0\n",
    "x = [-1,-1,1,1,0,-1,0,1]\n",
    "y = [0,-1,-1,0,1,1,-1,1]\n",
    "\n",
    "for i in range(N):\n",
    "    for j in range(M):\n",
    "        if(A[i][j] == 1):\n",
    "            dfs(A,i,j,N,M,x,y)\n",
    "            C += 1\n",
    "print(C)"
   ]
  },
  {
   "cell_type": "code",
   "execution_count": 88,
   "id": "8e166519",
   "metadata": {},
   "outputs": [
    {
     "name": "stdout",
     "output_type": "stream",
     "text": [
      "2\n"
     ]
    }
   ],
   "source": [
    "# Rotten Oranges\n",
    "from collections import deque\n",
    "# A = [   [2, 1, 1],\n",
    "#         [0, 1, 1],\n",
    "#         [1, 0, 1]   ]\n",
    "A = [   [0, 2, 1],\n",
    "        [0, 0, 1],\n",
    "        [0, 0, 0]   ]\n",
    "queue = deque()\n",
    "N = len(A)\n",
    "M = len(A[0])\n",
    "for i in range(N):\n",
    "    for j in range(M):\n",
    "        if(A[i][j] == 2):\n",
    "            queue.append([i,j])\n",
    "queue.append(None)\n",
    "# print(queue)\n",
    "c = 0\n",
    "while(len(queue)>1):\n",
    "    ele = queue.popleft()\n",
    "    if(ele is None):\n",
    "        c += 1\n",
    "        queue.append(None)\n",
    "    else:\n",
    "        \n",
    "        i = ele[0]\n",
    "        j = ele[1]\n",
    "        if(i-1>=0 and A[i-1][j]==1):\n",
    "            A[i-1][j] = 2\n",
    "            queue.append([i-1,j])\n",
    "        if(i+1<N and A[i+1][j]==1):\n",
    "            A[i+1][j] = 2\n",
    "            queue.append([i+1,j])\n",
    "        if(j-1>=0 and A[i][j-1]==1):\n",
    "            A[i][j-1] = 2\n",
    "            queue.append([i,j-1])\n",
    "        if(j+1<M and A[i][j+1]==1):\n",
    "            A[i][j+1] = 2\n",
    "            queue.append([i,j+1])\n",
    "#         print(queue,ele)\n",
    "\n",
    "for i in range(N):\n",
    "    for j in range(M):\n",
    "        if(A[i][j]==1):\n",
    "            print(1)\n",
    "            break\n",
    "print(c)"
   ]
  },
  {
   "cell_type": "code",
   "execution_count": null,
   "id": "6b29a7a5",
   "metadata": {},
   "outputs": [],
   "source": []
  }
 ],
 "metadata": {
  "kernelspec": {
   "display_name": "Python 3 (ipykernel)",
   "language": "python",
   "name": "python3"
  },
  "language_info": {
   "codemirror_mode": {
    "name": "ipython",
    "version": 3
   },
   "file_extension": ".py",
   "mimetype": "text/x-python",
   "name": "python",
   "nbconvert_exporter": "python",
   "pygments_lexer": "ipython3",
   "version": "3.9.7"
  }
 },
 "nbformat": 4,
 "nbformat_minor": 5
}
