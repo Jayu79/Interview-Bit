{
 "cells": [
  {
   "cell_type": "code",
   "execution_count": 1,
   "id": "1b601a76",
   "metadata": {},
   "outputs": [
    {
     "name": "stdout",
     "output_type": "stream",
     "text": [
      "2\n"
     ]
    }
   ],
   "source": [
    "#Majority Element  # Boyer Moore Algorithm\n",
    "A = [2,1,2]  #This is assuming that there is a majority element in the list of elements.\n",
    "ele = 0      # Double check by counting the elements frequency and check if it is greater than N/2\n",
    "freq = 0\n",
    "n = len(A)\n",
    "for i in range(0,n):\n",
    "    if(freq == 0):\n",
    "        ele = A[i]\n",
    "        freq = freq + 1\n",
    "    elif(A[i]==ele):\n",
    "        freq = freq + 1\n",
    "    else:\n",
    "        freq = freq - 1\n",
    "print(ele)"
   ]
  },
  {
   "cell_type": "code",
   "execution_count": 2,
   "id": "00c6568f",
   "metadata": {},
   "outputs": [
    {
     "name": "stdout",
     "output_type": "stream",
     "text": [
      "3900\n"
     ]
    }
   ],
   "source": [
    "#Magic Number\n",
    "po = 1\n",
    "A = 30\n",
    "ans = 0\n",
    "while(A>0):\n",
    "    po = po * 5\n",
    "    if(A&1):\n",
    "        ans = ans + po\n",
    "    A = A>>1\n",
    "print(ans)"
   ]
  },
  {
   "cell_type": "code",
   "execution_count": 19,
   "id": "b79aed24",
   "metadata": {},
   "outputs": [
    {
     "name": "stdout",
     "output_type": "stream",
     "text": [
      "1\n"
     ]
    }
   ],
   "source": [
    "#N/3 Repeat Number\n",
    "import sys\n",
    "A = [1,2,3,1,1]\n",
    "first = sys.maxsize\n",
    "second = sys.maxsize\n",
    "count_1 = 0\n",
    "count_2 = 0\n",
    "n = len(A)\n",
    "for i in range(0,n):\n",
    "    if(first == A[i]):\n",
    "        count_1 = count_1 + 1\n",
    "    elif(second == A[i]):\n",
    "        count_2 = count_2 + 1\n",
    "    elif(count_1 == 0):\n",
    "        first = A[i]\n",
    "        count_1 = count_1 + 1\n",
    "    elif(count_2 == 0):\n",
    "        second = A[i]\n",
    "        count_2 = count_2 + 1\n",
    "    else:\n",
    "        count_1 = count_1 - 1\n",
    "        count_2 = count_2 - 1\n",
    "n_1 = 0\n",
    "n_2 = 0\n",
    "for i in A:\n",
    "    if(i==first):\n",
    "        n_1 = n_1 + 1\n",
    "    elif(i==second):\n",
    "        n_2 = n_2 + 1\n",
    "if(n_1>n/3):\n",
    "    print(first)\n",
    "elif(n_2>n/3):\n",
    "    print(second)\n",
    "else:\n",
    "    print(-1)"
   ]
  },
  {
   "cell_type": "code",
   "execution_count": null,
   "id": "23ae9585",
   "metadata": {},
   "outputs": [],
   "source": []
  }
 ],
 "metadata": {
  "kernelspec": {
   "display_name": "Python 3 (ipykernel)",
   "language": "python",
   "name": "python3"
  },
  "language_info": {
   "codemirror_mode": {
    "name": "ipython",
    "version": 3
   },
   "file_extension": ".py",
   "mimetype": "text/x-python",
   "name": "python",
   "nbconvert_exporter": "python",
   "pygments_lexer": "ipython3",
   "version": "3.9.7"
  }
 },
 "nbformat": 4,
 "nbformat_minor": 5
}
