{
 "cells": [
  {
   "cell_type": "code",
   "execution_count": 56,
   "id": "58ef78a5",
   "metadata": {},
   "outputs": [
    {
     "name": "stdout",
     "output_type": "stream",
     "text": [
      "1\n",
      "1457\n",
      "8\n"
     ]
    }
   ],
   "source": [
    "# A = [3,6,4,4,3,8]\n",
    "A = [1,6,4,7,5]\n",
    "ans = 0\n",
    "for i in range(len(A)):\n",
    "    ans = ans ^ A[i]\n",
    "print(ans)\n",
    "print(880^1729)\n",
    "print(1<<3)"
   ]
  },
  {
   "cell_type": "code",
   "execution_count": 7,
   "id": "c068b918",
   "metadata": {},
   "outputs": [
    {
     "data": {
      "text/plain": [
       "True"
      ]
     },
     "execution_count": 7,
     "metadata": {},
     "output_type": "execute_result"
    }
   ],
   "source": [
    "def check_bit(A,i):\n",
    "    if((A>>i)&1):\n",
    "        return True\n",
    "    else:\n",
    "        return False\n",
    "check_bit(5,2)"
   ]
  },
  {
   "cell_type": "code",
   "execution_count": 42,
   "id": "501cd4cb",
   "metadata": {},
   "outputs": [
    {
     "name": "stdout",
     "output_type": "stream",
     "text": [
      "1\n"
     ]
    }
   ],
   "source": [
    "#Single Number II\n",
    "# A = [1, 2, 4, 3, 3, 2, 2, 3, 1, 1]\n",
    "A = [0, 0, 0, 1]\n",
    "ans = 0\n",
    "for i in range(31):\n",
    "    temp = 0\n",
    "    for j in range(len(A)):\n",
    "        if(check_bit(A[j],i)):\n",
    "            temp += 1\n",
    "#     print(i,temp)\n",
    "    if(temp!=0):\n",
    "        k = temp%3\n",
    "        if(k==1):\n",
    "            ans += (1<<i)\n",
    "print(ans)"
   ]
  },
  {
   "cell_type": "code",
   "execution_count": 67,
   "id": "d8f27104",
   "metadata": {},
   "outputs": [
    {
     "name": "stdout",
     "output_type": "stream",
     "text": [
      "1457\n",
      "0\n",
      "1729 880\n"
     ]
    }
   ],
   "source": [
    "#Single Number III\n",
    "# A = [1, 2, 3, 1, 2, 4]\n",
    "A = [ 2308, 1447, 1918, 1391, 2308, 216, 1391, 410, 1021, 537, 1825, 1021, 1729, 669, 216, \n",
    "     1825, 537, 1995, 805, 410, 805, 602, 1918, 1447, 90, 1995, 90, 1540, 1161, 1540, 2160, \n",
    "     1235, 1161, 602, 880, 2160, 1235, 669 ]\n",
    "xor = 0\n",
    "for i in A:\n",
    "    xor = xor^i\n",
    "bit = 0\n",
    "print(xor)\n",
    "for i in range(0,31):\n",
    "    if(check_bit(xor,i)):\n",
    "        bit = i\n",
    "        break\n",
    "print(bit)\n",
    "ans_1 = 0\n",
    "ans_2 = 0\n",
    "for i in range(len(A)):\n",
    "    if(check_bit(A[i],bit)):\n",
    "        ans_1 = ans_1^A[i]\n",
    "    else:\n",
    "        ans_2 = ans_2^A[i]\n",
    "#     print(A[i],i,ans_1,ans_2)\n",
    "print(ans_1,ans_2)"
   ]
  },
  {
   "cell_type": "code",
   "execution_count": 63,
   "id": "8c86121a",
   "metadata": {},
   "outputs": [
    {
     "data": {
      "text/plain": [
       "True"
      ]
     },
     "execution_count": 63,
     "metadata": {},
     "output_type": "execute_result"
    }
   ],
   "source": [
    "check_bit(1457,0)"
   ]
  },
  {
   "cell_type": "code",
   "execution_count": 52,
   "id": "7700cff8",
   "metadata": {},
   "outputs": [
    {
     "name": "stdout",
     "output_type": "stream",
     "text": [
      "5\n",
      "21\n"
     ]
    }
   ],
   "source": [
    "#Strange Equality\n",
    "def check_msb(A):\n",
    "    if(A==1):\n",
    "        return 1\n",
    "    x = check_msb(A>>1)\n",
    "    return x+1\n",
    "# Num = 3460609\n",
    "Num = 10\n",
    "N = check_msb(Num)\n",
    "small = 0\n",
    "for i in range(N):\n",
    "    if(check_bit(Num,i)==False):\n",
    "        small += 1<<i\n",
    "# print(small)\n",
    "print(small^1<<N)"
   ]
  },
  {
   "cell_type": "code",
   "execution_count": 49,
   "id": "512b6c5f",
   "metadata": {},
   "outputs": [
    {
     "name": "stdout",
     "output_type": "stream",
     "text": [
      "15\n"
     ]
    }
   ],
   "source": [
    "print(10^5)"
   ]
  },
  {
   "cell_type": "code",
   "execution_count": 83,
   "id": "309e48bc",
   "metadata": {},
   "outputs": [
    {
     "name": "stdout",
     "output_type": "stream",
     "text": [
      "0 26\n",
      "26\n"
     ]
    }
   ],
   "source": [
    "#Smallest XOR\n",
    "A = 27\n",
    "B = 3\n",
    "msb = check_msb(A)\n",
    "ans = 0\n",
    "for i in range(msb,-1,-1):\n",
    "    if(B>0 and check_bit(A,i)):\n",
    "        ans += 1<<i\n",
    "        B -= 1\n",
    "# print(B,ans)\n",
    "if(B>0):\n",
    "    j = 0\n",
    "    while(B>0):\n",
    "#         print(B,j)\n",
    "        if(check_bit(A,j)==False):\n",
    "            ans += 1<<j\n",
    "            B-=1\n",
    "        j = j + 1\n",
    "print(ans)"
   ]
  },
  {
   "cell_type": "code",
   "execution_count": 85,
   "id": "b2b5cad5",
   "metadata": {},
   "outputs": [
    {
     "name": "stdout",
     "output_type": "stream",
     "text": [
      "1\n"
     ]
    }
   ],
   "source": [
    "print(1<<0)"
   ]
  },
  {
   "cell_type": "code",
   "execution_count": null,
   "id": "2d9046d4",
   "metadata": {},
   "outputs": [],
   "source": []
  }
 ],
 "metadata": {
  "kernelspec": {
   "display_name": "Python 3 (ipykernel)",
   "language": "python",
   "name": "python3"
  },
  "language_info": {
   "codemirror_mode": {
    "name": "ipython",
    "version": 3
   },
   "file_extension": ".py",
   "mimetype": "text/x-python",
   "name": "python",
   "nbconvert_exporter": "python",
   "pygments_lexer": "ipython3",
   "version": "3.9.7"
  }
 },
 "nbformat": 4,
 "nbformat_minor": 5
}
