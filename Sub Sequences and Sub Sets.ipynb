{
 "cells": [
  {
   "cell_type": "code",
   "execution_count": 17,
   "id": "f25b9aa6",
   "metadata": {},
   "outputs": [
    {
     "name": "stdout",
     "output_type": "stream",
     "text": [
      "[97]\n"
     ]
    }
   ],
   "source": [
    "A = 'ksdjgha'  #a 97 z 122\n",
    "# print(ord(A))\n",
    "l = []\n",
    "for i in range(len(A)):\n",
    "#     print(l,ord(A[i]),ord(A[len(l)-1]))\n",
    "    if(len(l)==0):\n",
    "        l.append(ord(A[i]))\n",
    "    if(ord(A[i])<ord(A[len(l)-1])):\n",
    "        l.pop()\n",
    "        l.append(ord(A[i]))\n",
    "print(l)"
   ]
  },
  {
   "cell_type": "code",
   "execution_count": 47,
   "id": "361094cb",
   "metadata": {},
   "outputs": [
    {
     "name": "stdout",
     "output_type": "stream",
     "text": [
      "1 1\n",
      "3 2\n",
      "3 3\n",
      "7 4\n",
      "7 5\n",
      "2 2\n",
      "3 3\n",
      "7 4\n",
      "7 5\n",
      "3 3\n",
      "7 4\n",
      "7 5\n",
      "4 4\n",
      "5 5\n",
      "5 5\n",
      "71\n"
     ]
    }
   ],
   "source": [
    "#Sub Array OR\n",
    "A = [1,2,3,4,5]\n",
    "ans = 0\n",
    "for i in range(len(A)):\n",
    "    k = 0\n",
    "    for j in range(i,len(A)):\n",
    "        k = k | A[j]\n",
    "        print(k,A[j])\n",
    "        ans = ans + k\n",
    "print(ans)"
   ]
  },
  {
   "cell_type": "code",
   "execution_count": 65,
   "id": "e0374434",
   "metadata": {},
   "outputs": [
    {
     "name": "stdout",
     "output_type": "stream",
     "text": [
      "8\n",
      "1 0\n",
      "2 1\n",
      "3 0\n",
      "3 1\n",
      "4 2\n",
      "5 0\n",
      "5 2\n",
      "6 1\n",
      "6 2\n",
      "7 0\n",
      "7 1\n",
      "7 2\n",
      "[[], [1], [2], [1, 2], [3], [1, 3], [2, 3], [1, 2, 3]]\n"
     ]
    }
   ],
   "source": [
    "#Subset\n",
    "def check_bit(i,j):\n",
    "    temp = i << (j-1)\n",
    "    if 1 & temp:\n",
    "        return 1\n",
    "    else:\n",
    "        return 0\n",
    "\n",
    "A = [1,2,3]\n",
    "ans = []\n",
    "le = pow(2,len(A))\n",
    "print(le)\n",
    "for i in range(0,le):\n",
    "    temp = []\n",
    "    for j in range(len(A)):\n",
    "        if((i&(1<<j))!=0):\n",
    "            print(i,j)\n",
    "            temp.append(A[j])\n",
    "    ans.append(temp)\n",
    "print(ans)"
   ]
  },
  {
   "cell_type": "code",
   "execution_count": null,
   "id": "a5088960",
   "metadata": {},
   "outputs": [],
   "source": []
  }
 ],
 "metadata": {
  "kernelspec": {
   "display_name": "Python 3 (ipykernel)",
   "language": "python",
   "name": "python3"
  },
  "language_info": {
   "codemirror_mode": {
    "name": "ipython",
    "version": 3
   },
   "file_extension": ".py",
   "mimetype": "text/x-python",
   "name": "python",
   "nbconvert_exporter": "python",
   "pygments_lexer": "ipython3",
   "version": "3.9.7"
  }
 },
 "nbformat": 4,
 "nbformat_minor": 5
}
