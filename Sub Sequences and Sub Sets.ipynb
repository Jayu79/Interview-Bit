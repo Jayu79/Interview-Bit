{
 "cells": [
  {
   "cell_type": "code",
   "execution_count": 86,
   "id": "f25b9aa6",
   "metadata": {},
   "outputs": [
    {
     "name": "stdout",
     "output_type": "stream",
     "text": [
      "100 97\n"
     ]
    }
   ],
   "source": [
    "A = 'ksdjgha'  #a 97 z 122\n",
    "# print(ord(A))\n",
    "min_1 = ord(A[0])\n",
    "min_2 = ord(A[1])\n",
    "# print(min_1,min_2)\n",
    "for i in range(2,len(A)):\n",
    "    if(ord(A[i])<min_1 and ord(A[i])<min_2):\n",
    "        if(i==len(A)-1 and (ord(A[i])<min_1 or ord(A[i])<min_2)):\n",
    "            min_2 = ord(A[i])\n",
    "        else:\n",
    "            min_1 = ord(A[i])\n",
    "            min_2 = ord(A[i+1])\n",
    "    if(ord(A[i])>=min_1 and ord(A[i])<=min_2):\n",
    "        min_2 = ord(A[i])\n",
    "print(min_1,min_2)"
   ]
  },
  {
   "cell_type": "code",
   "execution_count": 47,
   "id": "361094cb",
   "metadata": {},
   "outputs": [
    {
     "name": "stdout",
     "output_type": "stream",
     "text": [
      "1 1\n",
      "3 2\n",
      "3 3\n",
      "7 4\n",
      "7 5\n",
      "2 2\n",
      "3 3\n",
      "7 4\n",
      "7 5\n",
      "3 3\n",
      "7 4\n",
      "7 5\n",
      "4 4\n",
      "5 5\n",
      "5 5\n",
      "71\n"
     ]
    }
   ],
   "source": [
    "#Sub Array OR\n",
    "A = [1,2,3,4,5]\n",
    "ans = 0\n",
    "for i in range(len(A)):\n",
    "    k = 0\n",
    "    for j in range(i,len(A)):\n",
    "        k = k | A[j]\n",
    "        print(k,A[j])\n",
    "        ans = ans + k\n",
    "print(ans)"
   ]
  },
  {
   "cell_type": "code",
   "execution_count": 65,
   "id": "e0374434",
   "metadata": {},
   "outputs": [
    {
     "name": "stdout",
     "output_type": "stream",
     "text": [
      "8\n",
      "1 0\n",
      "2 1\n",
      "3 0\n",
      "3 1\n",
      "4 2\n",
      "5 0\n",
      "5 2\n",
      "6 1\n",
      "6 2\n",
      "7 0\n",
      "7 1\n",
      "7 2\n",
      "[[], [1], [2], [1, 2], [3], [1, 3], [2, 3], [1, 2, 3]]\n"
     ]
    }
   ],
   "source": [
    "#Subset\n",
    "def check_bit(i,j):\n",
    "    temp = i << (j-1)\n",
    "    if 1 & temp:\n",
    "        return 1\n",
    "    else:\n",
    "        return 0\n",
    "\n",
    "A = [1,2,3]\n",
    "ans = []\n",
    "le = pow(2,len(A))\n",
    "print(le)\n",
    "for i in range(0,le):\n",
    "    temp = []\n",
    "    for j in range(len(A)):\n",
    "        if((i&(1<<j))!=0):\n",
    "            print(i,j)\n",
    "            temp.append(A[j])\n",
    "    ans.append(temp)\n",
    "print(ans)"
   ]
  },
  {
   "cell_type": "code",
   "execution_count": 89,
   "id": "a5088960",
   "metadata": {},
   "outputs": [
    {
     "name": "stdout",
     "output_type": "stream",
     "text": [
      "True\n"
     ]
    }
   ],
   "source": [
    "print('b'>'a')"
   ]
  },
  {
   "cell_type": "code",
   "execution_count": 118,
   "id": "018d94be",
   "metadata": {},
   "outputs": [
    {
     "name": "stdout",
     "output_type": "stream",
     "text": [
      "h h c\n",
      "c c a\n",
      "a c a\n",
      "ca\n"
     ]
    }
   ],
   "source": [
    "#Little Ponny and 2-Subsequence\n",
    "A = 'iixsrwkhca'  #a 97 z 122\n",
    "# print(ord(A))\n",
    "if(A[1]>A[0]):\n",
    "    min_1 = A[0]\n",
    "    min_2 = A[1]\n",
    "else:\n",
    "    min_1 = A[1]\n",
    "    min_2 = A[0]\n",
    "# print(min_1,min_2)\n",
    "for i in range(2,len(A)):\n",
    "    if(A[i]<min_1 and A[i]<=min_2):\n",
    "        if(i==len(A)-1 and (A[i]<min_1 or A[i]<min_2)):\n",
    "            min_2 = A[i]\n",
    "        else:\n",
    "            min_1 = A[i]\n",
    "            min_2 = A[i+1]\n",
    "        print(A[i],min_1,min_2)\n",
    "    elif(A[i]>min_1 and A[i]<min_2):\n",
    "        min_2 = A[i]\n",
    "        print(A[i],min_1,min_2)\n",
    "    elif(A[i]==min_1):\n",
    "        min_2 = A[i]\n",
    "print(min_1+min_2)"
   ]
  },
  {
   "cell_type": "code",
   "execution_count": 120,
   "id": "458421ab",
   "metadata": {},
   "outputs": [
    {
     "name": "stdout",
     "output_type": "stream",
     "text": [
      "8\n",
      "ca\n"
     ]
    }
   ],
   "source": [
    "# Little Ponny and 2-Subsequence\n",
    "minchar = 'z'\n",
    "A = 'iixsrwkhca'\n",
    "idx = 1000000000\n",
    "for i in range(len(A) - 1):\n",
    "    if A[i] < minchar:\n",
    "        minchar = A[i]\n",
    "        idx = i\n",
    "print(idx)\n",
    "minchar2 = 'z'\n",
    "for i in range(idx + 1, len(A)):\n",
    "    if(A[i] < minchar2):\n",
    "        minchar2 = A[i]\n",
    "\n",
    "ans = minchar + minchar2\n",
    "print(ans)"
   ]
  },
  {
   "cell_type": "code",
   "execution_count": 123,
   "id": "18aeb0a3",
   "metadata": {},
   "outputs": [
    {
     "name": "stdout",
     "output_type": "stream",
     "text": [
      "5\n"
     ]
    }
   ],
   "source": [
    "A = [1,2,3,4,5]\n",
    "print(A[-1])"
   ]
  },
  {
   "cell_type": "code",
   "execution_count": 10,
   "id": "692a2435",
   "metadata": {},
   "outputs": [
    {
     "name": "stdout",
     "output_type": "stream",
     "text": [
      "[0, 1, 0, 1, 0]\n",
      "[2, 1, 1, 1, 1]\n",
      "2\n"
     ]
    }
   ],
   "source": [
    "#Special Subsequences \"AG\"\n",
    "A = \"GABAG\"\n",
    "count_a = [0]*len(A)\n",
    "count_g = [0]*len(A)\n",
    "if(A[0]=='A'):\n",
    "    count_a[0] == 1\n",
    "if(A[len(A)-1]=='G'):\n",
    "    count_g[len(A)-1] = 1\n",
    "for i in range(len(A)):\n",
    "    if(A[i] == 'A'):\n",
    "        count_a[i] = 1\n",
    "print(count_a)\n",
    "for j in range(len(A)-2,-1,-1):\n",
    "    if(A[j]=='G'):\n",
    "        count_g[j] = count_g[j+1]+1\n",
    "    else:\n",
    "        count_g[j] = count_g[j+1]\n",
    "print(count_g)\n",
    "ans = 0\n",
    "for i in range(len(count_a)):\n",
    "    if(count_a[i]==1):\n",
    "        ans = ans+count_g[i]\n",
    "print(ans)"
   ]
  },
  {
   "cell_type": "code",
   "execution_count": 17,
   "id": "28bb644a",
   "metadata": {},
   "outputs": [
    {
     "name": "stdout",
     "output_type": "stream",
     "text": [
      "0\n"
     ]
    }
   ],
   "source": [
    "#Find Sub Sequence\n",
    "A = \"but\"\n",
    "B = \"dfbkjijgbbiihbmmt\"\n",
    "ans = 0\n",
    "count = 0\n",
    "for i in range(len(B)):\n",
    "    if(count == len(A)-1 and A[count]==B[i]):\n",
    "        ans = 1\n",
    "        break\n",
    "    elif(A[count]==B[i]):\n",
    "        count = count + 1\n",
    "print(ans)"
   ]
  },
  {
   "cell_type": "code",
   "execution_count": 19,
   "id": "ca31d879",
   "metadata": {},
   "outputs": [
    {
     "name": "stdout",
     "output_type": "stream",
     "text": [
      "True\n"
     ]
    }
   ],
   "source": [
    "A = 'apple'\n",
    "B = 'apple'\n",
    "print(A==B)"
   ]
  },
  {
   "cell_type": "code",
   "execution_count": null,
   "id": "1c28b701",
   "metadata": {},
   "outputs": [],
   "source": []
  }
 ],
 "metadata": {
  "kernelspec": {
   "display_name": "Python 3 (ipykernel)",
   "language": "python",
   "name": "python3"
  },
  "language_info": {
   "codemirror_mode": {
    "name": "ipython",
    "version": 3
   },
   "file_extension": ".py",
   "mimetype": "text/x-python",
   "name": "python",
   "nbconvert_exporter": "python",
   "pygments_lexer": "ipython3",
   "version": "3.9.7"
  }
 },
 "nbformat": 4,
 "nbformat_minor": 5
}
