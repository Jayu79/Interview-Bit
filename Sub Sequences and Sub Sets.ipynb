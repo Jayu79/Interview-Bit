{
 "cells": [
  {
   "cell_type": "code",
   "execution_count": 86,
   "id": "f25b9aa6",
   "metadata": {},
   "outputs": [
    {
     "name": "stdout",
     "output_type": "stream",
     "text": [
      "100 97\n"
     ]
    }
   ],
   "source": [
    "A = 'ksdjgha'  #a 97 z 122\n",
    "# print(ord(A))\n",
    "min_1 = ord(A[0])\n",
    "min_2 = ord(A[1])\n",
    "# print(min_1,min_2)\n",
    "for i in range(2,len(A)):\n",
    "    if(ord(A[i])<min_1 and ord(A[i])<min_2):\n",
    "        if(i==len(A)-1 and (ord(A[i])<min_1 or ord(A[i])<min_2)):\n",
    "            min_2 = ord(A[i])\n",
    "        else:\n",
    "            min_1 = ord(A[i])\n",
    "            min_2 = ord(A[i+1])\n",
    "    if(ord(A[i])>=min_1 and ord(A[i])<=min_2):\n",
    "        min_2 = ord(A[i])\n",
    "print(min_1,min_2)"
   ]
  },
  {
   "cell_type": "code",
   "execution_count": 47,
   "id": "361094cb",
   "metadata": {},
   "outputs": [
    {
     "name": "stdout",
     "output_type": "stream",
     "text": [
      "1 1\n",
      "3 2\n",
      "3 3\n",
      "7 4\n",
      "7 5\n",
      "2 2\n",
      "3 3\n",
      "7 4\n",
      "7 5\n",
      "3 3\n",
      "7 4\n",
      "7 5\n",
      "4 4\n",
      "5 5\n",
      "5 5\n",
      "71\n"
     ]
    }
   ],
   "source": [
    "#Sub Array OR\n",
    "A = [1,2,3,4,5]\n",
    "ans = 0\n",
    "for i in range(len(A)):\n",
    "    k = 0\n",
    "    for j in range(i,len(A)):\n",
    "        k = k | A[j]\n",
    "        print(k,A[j])\n",
    "        ans = ans + k\n",
    "print(ans)"
   ]
  },
  {
   "cell_type": "code",
   "execution_count": 99,
   "id": "e0374434",
   "metadata": {},
   "outputs": [
    {
     "name": "stdout",
     "output_type": "stream",
     "text": [
      "[1]\n",
      "[2]\n",
      "[1, 2]\n",
      "[3]\n",
      "[1, 3]\n",
      "[2, 3]\n",
      "[1, 2, 3]\n",
      "[4]\n",
      "[1, 4]\n",
      "[2, 4]\n",
      "[1, 2, 4]\n",
      "[3, 4]\n",
      "[1, 3, 4]\n",
      "[2, 3, 4]\n",
      "[1, 2, 3, 4]\n",
      "[5]\n",
      "[1, 5]\n",
      "[2, 5]\n",
      "[1, 2, 5]\n",
      "[3, 5]\n",
      "[1, 3, 5]\n",
      "[2, 3, 5]\n",
      "[1, 2, 3, 5]\n",
      "[4, 5]\n",
      "[1, 4, 5]\n",
      "[2, 4, 5]\n",
      "[1, 2, 4, 5]\n",
      "[3, 4, 5]\n",
      "[1, 3, 4, 5]\n",
      "[2, 3, 4, 5]\n",
      "[1, 2, 3, 4, 5]\n",
      "[[1], [1, 2], [1, 2, 3], [1, 2, 3, 4], [1, 2, 3, 4, 5], [1, 2, 3, 5], [1, 2, 4], [1, 2, 4, 5], [1, 2, 5], [1, 3], [1, 3, 4], [1, 3, 4, 5], [1, 3, 5], [1, 4], [1, 4, 5], [1, 5], [2], [2, 3], [2, 3, 4], [2, 3, 4, 5], [2, 3, 5], [2, 4], [2, 4, 5], [2, 5], [3], [3, 4], [3, 4, 5], [3, 5], [4], [4, 5], [5]]\n"
     ]
    }
   ],
   "source": [
    "#Subset\n",
    "def check_bit(i,j):\n",
    "    temp = i << (j-1)\n",
    "    if 1 & temp:\n",
    "        return 1\n",
    "    else:\n",
    "        return 0\n",
    "\n",
    "A = [1,2,3,4,5]\n",
    "ans = []\n",
    "le = pow(2,len(A))\n",
    "# print(le)\n",
    "for i in range(1,le):\n",
    "    temp = []\n",
    "    for j in range(len(A)):\n",
    "        if((i&(1<<j))!=0):\n",
    "#             print(i,j)\n",
    "            temp.append(A[j])\n",
    "    ans.append(temp)\n",
    "    print(temp)\n",
    "ans.sort()\n",
    "print(ans)"
   ]
  },
  {
   "cell_type": "code",
   "execution_count": 89,
   "id": "a5088960",
   "metadata": {},
   "outputs": [
    {
     "name": "stdout",
     "output_type": "stream",
     "text": [
      "True\n"
     ]
    }
   ],
   "source": [
    "print('b'>'a')"
   ]
  },
  {
   "cell_type": "code",
   "execution_count": 118,
   "id": "018d94be",
   "metadata": {},
   "outputs": [
    {
     "name": "stdout",
     "output_type": "stream",
     "text": [
      "h h c\n",
      "c c a\n",
      "a c a\n",
      "ca\n"
     ]
    }
   ],
   "source": [
    "#Little Ponny and 2-Subsequence\n",
    "A = 'iixsrwkhca'  #a 97 z 122\n",
    "# print(ord(A))\n",
    "if(A[1]>A[0]):\n",
    "    min_1 = A[0]\n",
    "    min_2 = A[1]\n",
    "else:\n",
    "    min_1 = A[1]\n",
    "    min_2 = A[0]\n",
    "# print(min_1,min_2)\n",
    "for i in range(2,len(A)):\n",
    "    if(A[i]<min_1 and A[i]<=min_2):\n",
    "        if(i==len(A)-1 and (A[i]<min_1 or A[i]<min_2)):\n",
    "            min_2 = A[i]\n",
    "        else:\n",
    "            min_1 = A[i]\n",
    "            min_2 = A[i+1]\n",
    "        print(A[i],min_1,min_2)\n",
    "    elif(A[i]>min_1 and A[i]<min_2):\n",
    "        min_2 = A[i]\n",
    "        print(A[i],min_1,min_2)\n",
    "    elif(A[i]==min_1):\n",
    "        min_2 = A[i]\n",
    "print(min_1+min_2)"
   ]
  },
  {
   "cell_type": "code",
   "execution_count": 120,
   "id": "458421ab",
   "metadata": {},
   "outputs": [
    {
     "name": "stdout",
     "output_type": "stream",
     "text": [
      "8\n",
      "ca\n"
     ]
    }
   ],
   "source": [
    "# Little Ponny and 2-Subsequence\n",
    "minchar = 'z'\n",
    "A = 'iixsrwkhca'\n",
    "idx = 1000000000\n",
    "for i in range(len(A) - 1):\n",
    "    if A[i] < minchar:\n",
    "        minchar = A[i]\n",
    "        idx = i\n",
    "print(idx)\n",
    "minchar2 = 'z'\n",
    "for i in range(idx + 1, len(A)):\n",
    "    if(A[i] < minchar2):\n",
    "        minchar2 = A[i]\n",
    "\n",
    "ans = minchar + minchar2\n",
    "print(ans)"
   ]
  },
  {
   "cell_type": "code",
   "execution_count": 123,
   "id": "18aeb0a3",
   "metadata": {},
   "outputs": [
    {
     "name": "stdout",
     "output_type": "stream",
     "text": [
      "5\n"
     ]
    }
   ],
   "source": [
    "A = [1,2,3,4,5]\n",
    "print(A[-1])"
   ]
  },
  {
   "cell_type": "code",
   "execution_count": 10,
   "id": "692a2435",
   "metadata": {},
   "outputs": [
    {
     "name": "stdout",
     "output_type": "stream",
     "text": [
      "[0, 1, 0, 1, 0]\n",
      "[2, 1, 1, 1, 1]\n",
      "2\n"
     ]
    }
   ],
   "source": [
    "#Special Subsequences \"AG\"\n",
    "A = \"GABAG\"\n",
    "count_a = [0]*len(A)\n",
    "count_g = [0]*len(A)\n",
    "if(A[0]=='A'):\n",
    "    count_a[0] == 1\n",
    "if(A[len(A)-1]=='G'):\n",
    "    count_g[len(A)-1] = 1\n",
    "for i in range(len(A)):\n",
    "    if(A[i] == 'A'):\n",
    "        count_a[i] = 1\n",
    "print(count_a)\n",
    "for j in range(len(A)-2,-1,-1):\n",
    "    if(A[j]=='G'):\n",
    "        count_g[j] = count_g[j+1]+1\n",
    "    else:\n",
    "        count_g[j] = count_g[j+1]\n",
    "print(count_g)\n",
    "ans = 0\n",
    "for i in range(len(count_a)):\n",
    "    if(count_a[i]==1):\n",
    "        ans = ans+count_g[i]\n",
    "print(ans)"
   ]
  },
  {
   "cell_type": "code",
   "execution_count": 17,
   "id": "fde96a15",
   "metadata": {},
   "outputs": [
    {
     "name": "stdout",
     "output_type": "stream",
     "text": [
      "0\n"
     ]
    }
   ],
   "source": [
    "#Find Sub Sequence\n",
    "A = \"but\"\n",
    "B = \"dfbkjijgbbiihbmmt\"\n",
    "ans = 0\n",
    "count = 0\n",
    "for i in range(len(B)):\n",
    "    if(count == len(A)-1 and A[count]==B[i]):\n",
    "        ans = 1\n",
    "        break\n",
    "    elif(A[count]==B[i]):\n",
    "        count = count + 1\n",
    "print(ans)"
   ]
  },
  {
   "cell_type": "code",
   "execution_count": 19,
   "id": "2205d95e",
   "metadata": {},
   "outputs": [
    {
     "name": "stdout",
     "output_type": "stream",
     "text": [
      "True\n"
     ]
    }
   ],
   "source": [
    "A = 'apple'\n",
    "B = 'apple'\n",
    "print(A==B)"
   ]
  },
  {
   "cell_type": "code",
   "execution_count": 24,
   "id": "0aefe6b9",
   "metadata": {},
   "outputs": [
    {
     "data": {
      "text/plain": [
       "0"
      ]
     },
     "execution_count": 24,
     "metadata": {},
     "output_type": "execute_result"
    }
   ],
   "source": [
    "#Subsequence-Sum Problem\n",
    "class Solution:\n",
    "    # @param A : list of integers\n",
    "    # @param B : integer\n",
    "    # @return an integer\n",
    "    def solve(A, B):\n",
    "        le = pow(2,len(A))\n",
    "        # print(le)\n",
    "        for i in range(0,le):\n",
    "            temp = 0\n",
    "            for j in range(len(A)):\n",
    "                if((i&(1<<j))!=0):\n",
    "                    # print(i,j)\n",
    "                    temp += A[j]\n",
    "            if(temp == B):\n",
    "                return 1\n",
    "            # ans.append(temp)\n",
    "        # print(ans)\n",
    "        return 0\n",
    "A = [2]\n",
    "B = 3\n",
    "Solution.solve(A,B)"
   ]
  },
  {
   "cell_type": "code",
   "execution_count": 97,
   "id": "bbb65495",
   "metadata": {},
   "outputs": [
    {
     "name": "stdout",
     "output_type": "stream",
     "text": [
      "2 1 1\n",
      "1 1 1\n",
      "2 2 0\n",
      "3 3 1\n",
      "4 4 0\n",
      "5 5 1\n",
      "5 6 0\n",
      "5 6 0\n",
      "6\n"
     ]
    }
   ],
   "source": [
    "#odd even subsequence\n",
    "A = [2,2,1,2,3,4,5,5,5]\n",
    "N = len(A)\n",
    "if N==1:\n",
    "    print(1)\n",
    "count = 1\n",
    "temp = 1-(A[0]%2)\n",
    "for i in range(1,len(A)):\n",
    "    print(A[i],count,temp)\n",
    "    if A[i]%2==temp:\n",
    "        count += 1\n",
    "        temp = 1-(A[i]%2)\n",
    "print(count)"
   ]
  },
  {
   "cell_type": "code",
   "execution_count": 111,
   "id": "bc62e36a",
   "metadata": {},
   "outputs": [
    {
     "name": "stdout",
     "output_type": "stream",
     "text": [
      "[0, 1, 3, 7, 15]\n",
      "1146\n"
     ]
    }
   ],
   "source": [
    "#Sum the difference\n",
    "A = [12,78,45,30,56]\n",
    "A.sort()\n",
    "seq = []\n",
    "c = 0 \n",
    "for i in range(len(A)):\n",
    "    seq.append(c)\n",
    "    c = c + pow(2,i)\n",
    "print(seq)\n",
    "ans = 0\n",
    "for i in range(len(A)):\n",
    "    ans = ans + ((A[i]*seq[i])-(A[i]*seq[len(A)-i-1]))\n",
    "print(ans)"
   ]
  },
  {
   "cell_type": "code",
   "execution_count": null,
   "id": "9953adad",
   "metadata": {},
   "outputs": [],
   "source": [
    "#Sub Aray OR\n",
    "class Solution:\n",
    "    # @param A : list of integers\n",
    "    # @return an integer\n",
    "    def solve(self, A):\n",
    "        ans = 0\n",
    "        n = len(A)\n",
    "        maxElement = max(A)\n",
    "        iterations = int(math.log(maxElement, 2)) + 1\n",
    "        \n",
    "        for i in range(iterations):\n",
    "            setBitTracker = 0\n",
    "            for j in range(n):\n",
    "                if (A[j] >> i) & 1:\n",
    "                    setBitTracker = j + 1\n",
    "                ans += setBitTracker * pow(2, i)\n",
    "                \n",
    "        return ans % (pow(10, 9) + 7)"
   ]
  }
 ],
 "metadata": {
  "kernelspec": {
   "display_name": "Python 3 (ipykernel)",
   "language": "python",
   "name": "python3"
  },
  "language_info": {
   "codemirror_mode": {
    "name": "ipython",
    "version": 3
   },
   "file_extension": ".py",
   "mimetype": "text/x-python",
   "name": "python",
   "nbconvert_exporter": "python",
   "pygments_lexer": "ipython3",
   "version": "3.9.7"
  }
 },
 "nbformat": 4,
 "nbformat_minor": 5
}
