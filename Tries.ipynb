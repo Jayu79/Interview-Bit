{
 "cells": [
  {
   "cell_type": "code",
   "execution_count": 1,
   "id": "12ecd626",
   "metadata": {},
   "outputs": [],
   "source": [
    "class TrieNode:\n",
    "    isEnd = False\n",
    "    def __init__(self,val):\n",
    "        self.val = val\n",
    "        self.hm = {}"
   ]
  },
  {
   "cell_type": "code",
   "execution_count": 16,
   "id": "7448d40c",
   "metadata": {},
   "outputs": [
    {
     "name": "stdout",
     "output_type": "stream",
     "text": [
      "[1, 0]\n"
     ]
    }
   ],
   "source": [
    "# Spelling Checker\n",
    "def insert(curr,word):\n",
    "    for ch in word:\n",
    "        if ch not in curr.hm:\n",
    "            curr.hm[ch] = TrieNode(ch)\n",
    "        curr = curr.hm[ch]\n",
    "    curr.isEnd = True\n",
    "    return\n",
    "\n",
    "def find(curr,prefix):\n",
    "    for ch in prefix:\n",
    "        if ch not in curr.hm:\n",
    "            return 0\n",
    "        curr = curr.hm[ch]\n",
    "    if curr.isEnd:\n",
    "        return 1\n",
    "    else:\n",
    "        return 0\n",
    "\n",
    "A = [ \"hat\", \"cat\", \"rat\"]\n",
    "B = [ \"cat\", \"ball\" ]\n",
    "root = TrieNode('')\n",
    "# print(root.hm)\n",
    "for word in A:\n",
    "    curr = root\n",
    "    insert(curr,word)\n",
    "ans = []\n",
    "for prefix in B:\n",
    "    curr = root\n",
    "    ans.append(find(curr,prefix))\n",
    "print(ans)"
   ]
  },
  {
   "cell_type": "code",
   "execution_count": 31,
   "id": "b75cbfc7",
   "metadata": {},
   "outputs": [
    {
     "name": "stdout",
     "output_type": "stream",
     "text": [
      "['a', 'b', 'c']\n"
     ]
    }
   ],
   "source": [
    "# Shortest Unique Prefix\n",
    "class TrieNodeCnt:\n",
    "    def __init__(self,val):\n",
    "        self.val = val\n",
    "        self.hm = {}\n",
    "        self.counter = 0\n",
    "\n",
    "def insertCnt(curr,word):\n",
    "    for ch in word:\n",
    "        if ch not in curr.hm:\n",
    "            curr.hm[ch] = TrieNodeCnt(ch)\n",
    "        curr = curr.hm[ch]\n",
    "        curr.counter += 1\n",
    "    return\n",
    "\n",
    "def unq_prefix(curr,prefix):\n",
    "    ans = ''\n",
    "    i = 0\n",
    "    for ch in prefix:\n",
    "        curr = curr.hm[ch]\n",
    "        ans += ch\n",
    "        if(curr.counter==1):\n",
    "            break\n",
    "    return ans\n",
    "        \n",
    "\n",
    "# A = [\"zebra\", \"dog\", \"duck\", \"dove\"]\n",
    "A = [\"apple\", \"ball\", \"cat\"]\n",
    "root = TrieNodeCnt('')\n",
    "for word in A:\n",
    "    curr = root\n",
    "    insertCnt(curr,word)\n",
    "# print(root.hm['d'].hm['u'].counter)\n",
    "ans = []\n",
    "for prefix in A:\n",
    "    curr = root\n",
    "    ans.append(unq_prefix(curr,prefix))\n",
    "print(ans)"
   ]
  },
  {
   "cell_type": "code",
   "execution_count": 33,
   "id": "2b8265e1",
   "metadata": {},
   "outputs": [
    {
     "name": "stdout",
     "output_type": "stream",
     "text": [
      "[1]\n"
     ]
    }
   ],
   "source": [
    "# Contact Finder\n",
    "class TrieNodeContact:\n",
    "    def __init__(self,val):\n",
    "        self.val = val\n",
    "        self.hm = {}\n",
    "        self.counter = 0\n",
    "def insert(curr,word):\n",
    "    for ch in word:\n",
    "        if ch not in curr.hm:\n",
    "            curr.hm[ch] = TrieNodeContact(ch)\n",
    "        curr = curr.hm[ch]\n",
    "        curr.counter += 1\n",
    "    return\n",
    "\n",
    "def contactFinder(curr,prefix):\n",
    "    for ch in prefix:\n",
    "        if ch not in curr.hm:\n",
    "            return 0\n",
    "        else:\n",
    "            curr = curr.hm[ch]\n",
    "    return curr.counter\n",
    "\n",
    "# A = [0, 0, 1, 1]\n",
    "# B = [\"hack\", \"hacker\", \"hac\", \"hak\"]\n",
    "A = [0, 1]\n",
    "B = [\"abcde\", \"abc\"]\n",
    "ans = []\n",
    "root = TrieNodeContact('')\n",
    "for i in range(len(A)):\n",
    "    if(A[i]==0):\n",
    "        curr = root\n",
    "        insert(curr,B[i])\n",
    "    else:\n",
    "        curr = root\n",
    "        ans.append(contactFinder(curr,B[i]))\n",
    "print(ans)"
   ]
  },
  {
   "cell_type": "code",
   "execution_count": null,
   "id": "cbe2c406",
   "metadata": {},
   "outputs": [],
   "source": []
  }
 ],
 "metadata": {
  "kernelspec": {
   "display_name": "Python 3 (ipykernel)",
   "language": "python",
   "name": "python3"
  },
  "language_info": {
   "codemirror_mode": {
    "name": "ipython",
    "version": 3
   },
   "file_extension": ".py",
   "mimetype": "text/x-python",
   "name": "python",
   "nbconvert_exporter": "python",
   "pygments_lexer": "ipython3",
   "version": "3.9.7"
  }
 },
 "nbformat": 4,
 "nbformat_minor": 5
}
