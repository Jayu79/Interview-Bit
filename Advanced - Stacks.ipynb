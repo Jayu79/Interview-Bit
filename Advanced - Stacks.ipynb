{
 "cells": [
  {
   "cell_type": "code",
   "execution_count": 4,
   "id": "ed408ff7",
   "metadata": {},
   "outputs": [
    {
     "name": "stdout",
     "output_type": "stream",
     "text": [
      "63\n"
     ]
    }
   ],
   "source": [
    "# Passing game\n",
    "B = 23\n",
    "ans = []\n",
    "ans.append(B)\n",
    "C = [86, 63, 60, 0, 47, 0, 99, 9, 0, 0]\n",
    "for i in range(len(C)):\n",
    "    if(C[i]==0):\n",
    "        ans.pop()\n",
    "    else:\n",
    "        ans.append(C[i])\n",
    "print(ans[-1])"
   ]
  },
  {
   "cell_type": "code",
   "execution_count": 7,
   "id": "f873fefb",
   "metadata": {},
   "outputs": [
    {
     "data": {
      "text/plain": [
       "[-1, 4, -1, 2, 2]"
      ]
     },
     "execution_count": 7,
     "metadata": {},
     "output_type": "execute_result"
    }
   ],
   "source": [
    "# Nearest Smallest Element - Left\n",
    "def nse_left(A):\n",
    "    ans = [0]*len(A)\n",
    "    stack = []\n",
    "    for i in range(len(A)):\n",
    "        while(len(stack)!=0 and stack[-1] >= A[i]):\n",
    "            stack.pop()\n",
    "        if(len(stack)==0):\n",
    "            ans[i] = -1\n",
    "        else:\n",
    "            ans[i] = stack[-1]\n",
    "        stack.append(A[i])\n",
    "    return ans\n",
    "A = [4, 5, 2, 10, 8]\n",
    "nse_left(A)"
   ]
  },
  {
   "cell_type": "code",
   "execution_count": 13,
   "id": "cc4db73e",
   "metadata": {},
   "outputs": [
    {
     "data": {
      "text/plain": [
       "[2, 2, -1, 8, -1]"
      ]
     },
     "execution_count": 13,
     "metadata": {},
     "output_type": "execute_result"
    }
   ],
   "source": [
    "# Nearest Smallest Element - Right  [2,2,-1,8,-1]\n",
    "def nse_right(A):\n",
    "    ans = [0]*len(A)\n",
    "    stack = []\n",
    "    for i in range(len(A)-1,-1,-1):\n",
    "        while(len(stack)!=0 and stack[-1] >= A[i]):\n",
    "            stack.pop()\n",
    "        if(len(stack)==0):\n",
    "            ans[i] = -1\n",
    "        else:\n",
    "            ans[i] = stack[-1]\n",
    "        stack.append(A[i])\n",
    "    return ans\n",
    "A = [4, 5, 2, 10, 8]\n",
    "nse_right(A)"
   ]
  },
  {
   "cell_type": "code",
   "execution_count": 10,
   "id": "ec66509e",
   "metadata": {},
   "outputs": [
    {
     "data": {
      "text/plain": [
       "[-1, -1, 5, -1, 10]"
      ]
     },
     "execution_count": 10,
     "metadata": {},
     "output_type": "execute_result"
    }
   ],
   "source": [
    "# Nearest Greater Element - Left\n",
    "def nge_left(A):\n",
    "    ans = [0]*len(A)\n",
    "    stack = []\n",
    "    for i in range(len(A)):\n",
    "        while(len(stack)!=0 and stack[-1] <= A[i]):\n",
    "            stack.pop()\n",
    "        if(len(stack)==0):\n",
    "            ans[i] = -1\n",
    "        else:\n",
    "            ans[i] = stack[-1]\n",
    "        stack.append(A[i])\n",
    "    return ans\n",
    "A = [4, 5, 2, 10, 8]\n",
    "nge_left(A)"
   ]
  },
  {
   "cell_type": "code",
   "execution_count": 11,
   "id": "bc12cf9c",
   "metadata": {},
   "outputs": [
    {
     "data": {
      "text/plain": [
       "[5, 10, 10, -1, -1]"
      ]
     },
     "execution_count": 11,
     "metadata": {},
     "output_type": "execute_result"
    }
   ],
   "source": [
    "# Nearest Greater Element - Right\n",
    "def nge_right(A):\n",
    "    ans = [0]*len(A)\n",
    "    stack = []\n",
    "    for i in range(len(A)-1,-1,-1):\n",
    "        while(len(stack)!=0 and stack[-1] <= A[i]):\n",
    "            stack.pop()\n",
    "        if(len(stack)==0):\n",
    "            ans[i] = -1\n",
    "        else:\n",
    "            ans[i] = stack[-1]\n",
    "        stack.append(A[i])\n",
    "    return ans\n",
    "A = [4, 5, 2, 10, 8]\n",
    "nge_right(A)"
   ]
  },
  {
   "cell_type": "code",
   "execution_count": 15,
   "id": "6bcdd040",
   "metadata": {},
   "outputs": [
    {
     "data": {
      "text/plain": [
       "[-1, 0, -1, 2, 2]"
      ]
     },
     "execution_count": 15,
     "metadata": {},
     "output_type": "execute_result"
    }
   ],
   "source": [
    "# Nearest Smaller Element(index) - Left\n",
    "def nsei_left(A):\n",
    "    ans = [0]*len(A)\n",
    "    stack = []\n",
    "    for i in range(len(A)):\n",
    "        while(len(stack)!=0 and A[stack[-1]]>=A[i]):\n",
    "            stack.pop()\n",
    "        if(len(stack)==0):\n",
    "            ans[i] = -1\n",
    "        else:\n",
    "            ans[i] = stack[-1]\n",
    "        stack.append(i)\n",
    "    return ans\n",
    "A = [4, 5, 2, 10, 8]\n",
    "nsei_left(A)"
   ]
  },
  {
   "cell_type": "code",
   "execution_count": 32,
   "id": "19c04c7b",
   "metadata": {},
   "outputs": [
    {
     "data": {
      "text/plain": [
       "[2, 2, 5, 4, 5]"
      ]
     },
     "execution_count": 32,
     "metadata": {},
     "output_type": "execute_result"
    }
   ],
   "source": [
    "# Nearest Smaller Element(index) - Right\n",
    "def nsei_right(A):\n",
    "    ans = [0]*len(A)\n",
    "    stack = []\n",
    "    for i in range(len(A)-1,-1,-1):\n",
    "        while(len(stack)!=0 and A[stack[-1]]>=A[i]):\n",
    "            stack.pop()\n",
    "        if(len(stack)==0):\n",
    "            ans[i] = len(A)\n",
    "        else:\n",
    "            ans[i] = stack[-1]\n",
    "        stack.append(i)\n",
    "    return ans\n",
    "A = [4, 5, 2, 10, 8]\n",
    "nsei_right(A)"
   ]
  },
  {
   "cell_type": "code",
   "execution_count": 19,
   "id": "eff155c1",
   "metadata": {},
   "outputs": [
    {
     "data": {
      "text/plain": [
       "[-1, -1, 1, -1, 3]"
      ]
     },
     "execution_count": 19,
     "metadata": {},
     "output_type": "execute_result"
    }
   ],
   "source": [
    "# Nearest Greater Element(index) - Left\n",
    "def ngei_left(A):\n",
    "    ans = [0]*len(A)\n",
    "    stack = []\n",
    "    for i in range(len(A)):\n",
    "        while(len(stack)!=0 and A[stack[-1]]<=A[i]):\n",
    "            stack.pop()\n",
    "        if(len(stack)==0):\n",
    "            ans[i] = -1\n",
    "        else:\n",
    "            ans[i] = stack[-1]\n",
    "        stack.append(i)\n",
    "    return ans\n",
    "A = [4, 5, 2, 10, 8]\n",
    "ngei_left(A)"
   ]
  },
  {
   "cell_type": "code",
   "execution_count": 21,
   "id": "21b80318",
   "metadata": {},
   "outputs": [
    {
     "data": {
      "text/plain": [
       "[1, 3, 3, 5, 5]"
      ]
     },
     "execution_count": 21,
     "metadata": {},
     "output_type": "execute_result"
    }
   ],
   "source": [
    "# Nearest Greater Element(index) - Right\n",
    "def ngei_right(A):\n",
    "    ans = [0]*len(A)\n",
    "    stack = []\n",
    "    for i in range(len(A)-1,-1,-1):\n",
    "        while(len(stack)!=0 and A[stack[-1]]<=A[i]):\n",
    "            stack.pop()\n",
    "        if(len(stack)==0):\n",
    "            ans[i] = len(A)\n",
    "        else:\n",
    "            ans[i] = stack[-1]\n",
    "        stack.append(i)\n",
    "    return ans\n",
    "A = [4, 5, 2, 10, 8]\n",
    "ngei_right(A)"
   ]
  },
  {
   "cell_type": "code",
   "execution_count": 34,
   "id": "95f7f268",
   "metadata": {},
   "outputs": [
    {
     "name": "stdout",
     "output_type": "stream",
     "text": [
      "2\n"
     ]
    }
   ],
   "source": [
    "# Largest Rectangle in Histogram\n",
    "# A = [2, 1, 5, 6, 2, 3]\n",
    "A = [2]\n",
    "ans = 0\n",
    "nsr = nsei_right(A)\n",
    "nsl = nsei_left(A)\n",
    "for i in range(len(A)):\n",
    "    width = nsr[i] - nsl[i] - 1\n",
    "    height = A[i]\n",
    "    ans = max(ans,width*height)\n",
    "print(ans)"
   ]
  },
  {
   "cell_type": "code",
   "execution_count": 36,
   "id": "1fec63da",
   "metadata": {},
   "outputs": [
    {
     "name": "stdout",
     "output_type": "stream",
     "text": [
      "0\n"
     ]
    }
   ],
   "source": [
    "# MAX and MIN\n",
    "# A = [4, 7, 3, 8]\n",
    "A = [1]\n",
    "nseil = nsei_left(A)\n",
    "nseir = nsei_right(A)\n",
    "ngeil = ngei_left(A)\n",
    "ngeir = ngei_right(A)\n",
    "ans = 0\n",
    "for i in range(len(A)):\n",
    "    ans += (i-ngeil[i])*(ngeir[i]-i)*A[i]\n",
    "for i in range(len(A)):\n",
    "    ans -= (i-nseil[i])*(nseir[i]-i)*A[i]\n",
    "print(ans)"
   ]
  },
  {
   "cell_type": "code",
   "execution_count": 47,
   "id": "ad1e9205",
   "metadata": {},
   "outputs": [
    {
     "name": "stdout",
     "output_type": "stream",
     "text": [
      "[14]\n"
     ]
    }
   ],
   "source": [
    "# Evaluate Expression\n",
    "def evaluate(num1,num2,operand):\n",
    "    if(operand == '+'):\n",
    "        return num2+num1\n",
    "    elif(operand == '-'):\n",
    "        return num2-num1\n",
    "    elif(operand == '*'):\n",
    "        return num2*num1\n",
    "    else:\n",
    "        return num2//num1\n",
    "\n",
    "# A =   [\"2\", \"1\", \"+\", \"3\", \"*\"]\n",
    "A = [ \"5\", \"1\", \"2\", \"+\", \"4\", \"*\", \"+\", \"3\", \"-\" ]\n",
    "operands = {'+','-','/','*'}\n",
    "stack = []\n",
    "for i in range(len(A)):\n",
    "    if(A[i] not in operands):\n",
    "        stack.append(int(A[i]))\n",
    "#         print(stack)\n",
    "    elif(len(stack)!=0):\n",
    "        num1 = stack.pop()\n",
    "        num2 = stack.pop()\n",
    "        res = evaluate(num1,num2,A[i])\n",
    "        stack.append(res)\n",
    "#         print(stack)\n",
    "print(stack)"
   ]
  },
  {
   "cell_type": "code",
   "execution_count": null,
   "id": "209bdc2f",
   "metadata": {},
   "outputs": [],
   "source": []
  }
 ],
 "metadata": {
  "kernelspec": {
   "display_name": "Python 3 (ipykernel)",
   "language": "python",
   "name": "python3"
  },
  "language_info": {
   "codemirror_mode": {
    "name": "ipython",
    "version": 3
   },
   "file_extension": ".py",
   "mimetype": "text/x-python",
   "name": "python",
   "nbconvert_exporter": "python",
   "pygments_lexer": "ipython3",
   "version": "3.9.7"
  }
 },
 "nbformat": 4,
 "nbformat_minor": 5
}
