{
 "cells": [
  {
   "cell_type": "code",
   "execution_count": 4,
   "id": "ed408ff7",
   "metadata": {},
   "outputs": [
    {
     "name": "stdout",
     "output_type": "stream",
     "text": [
      "63\n"
     ]
    }
   ],
   "source": [
    "# Passing game\n",
    "B = 23\n",
    "ans = []\n",
    "ans.append(B)\n",
    "C = [86, 63, 60, 0, 47, 0, 99, 9, 0, 0]\n",
    "for i in range(len(C)):\n",
    "    if(C[i]==0):\n",
    "        ans.pop()\n",
    "    else:\n",
    "        ans.append(C[i])\n",
    "print(ans[-1])"
   ]
  },
  {
   "cell_type": "code",
   "execution_count": 7,
   "id": "f873fefb",
   "metadata": {},
   "outputs": [
    {
     "data": {
      "text/plain": [
       "[-1, 4, -1, 2, 2]"
      ]
     },
     "execution_count": 7,
     "metadata": {},
     "output_type": "execute_result"
    }
   ],
   "source": [
    "# Nearest Smallest Element - Left\n",
    "def nse_left(A):\n",
    "    ans = [0]*len(A)\n",
    "    stack = []\n",
    "    for i in range(len(A)):\n",
    "        while(len(stack)!=0 and stack[-1] >= A[i]):\n",
    "            stack.pop()\n",
    "        if(len(stack)==0):\n",
    "            ans[i] = -1\n",
    "        else:\n",
    "            ans[i] = stack[-1]\n",
    "        stack.append(A[i])\n",
    "    return ans\n",
    "A = [4, 5, 2, 10, 8]\n",
    "nse_left(A)"
   ]
  },
  {
   "cell_type": "code",
   "execution_count": 13,
   "id": "cc4db73e",
   "metadata": {},
   "outputs": [
    {
     "data": {
      "text/plain": [
       "[2, 2, -1, 8, -1]"
      ]
     },
     "execution_count": 13,
     "metadata": {},
     "output_type": "execute_result"
    }
   ],
   "source": [
    "# Nearest Smallest Element - Right  [2,2,-1,8,-1]\n",
    "def nse_right(A):\n",
    "    ans = [0]*len(A)\n",
    "    stack = []\n",
    "    for i in range(len(A)-1,-1,-1):\n",
    "        while(len(stack)!=0 and stack[-1] >= A[i]):\n",
    "            stack.pop()\n",
    "        if(len(stack)==0):\n",
    "            ans[i] = -1\n",
    "        else:\n",
    "            ans[i] = stack[-1]\n",
    "        stack.append(A[i])\n",
    "    return ans\n",
    "A = [4, 5, 2, 10, 8]\n",
    "nse_right(A)"
   ]
  },
  {
   "cell_type": "code",
   "execution_count": 10,
   "id": "ec66509e",
   "metadata": {},
   "outputs": [
    {
     "data": {
      "text/plain": [
       "[-1, -1, 5, -1, 10]"
      ]
     },
     "execution_count": 10,
     "metadata": {},
     "output_type": "execute_result"
    }
   ],
   "source": [
    "# Nearest Greater Element - Left\n",
    "def nge_left(A):\n",
    "    ans = [0]*len(A)\n",
    "    stack = []\n",
    "    for i in range(len(A)):\n",
    "        while(len(stack)!=0 and stack[-1] <= A[i]):\n",
    "            stack.pop()\n",
    "        if(len(stack)==0):\n",
    "            ans[i] = -1\n",
    "        else:\n",
    "            ans[i] = stack[-1]\n",
    "        stack.append(A[i])\n",
    "    return ans\n",
    "A = [4, 5, 2, 10, 8]\n",
    "nge_left(A)"
   ]
  },
  {
   "cell_type": "code",
   "execution_count": 11,
   "id": "bc12cf9c",
   "metadata": {},
   "outputs": [
    {
     "data": {
      "text/plain": [
       "[5, 10, 10, -1, -1]"
      ]
     },
     "execution_count": 11,
     "metadata": {},
     "output_type": "execute_result"
    }
   ],
   "source": [
    "# Nearest Greater Element - Right\n",
    "def nge_right(A):\n",
    "    ans = [0]*len(A)\n",
    "    stack = []\n",
    "    for i in range(len(A)-1,-1,-1):\n",
    "        while(len(stack)!=0 and stack[-1] <= A[i]):\n",
    "            stack.pop()\n",
    "        if(len(stack)==0):\n",
    "            ans[i] = -1\n",
    "        else:\n",
    "            ans[i] = stack[-1]\n",
    "        stack.append(A[i])\n",
    "    return ans\n",
    "A = [4, 5, 2, 10, 8]\n",
    "nge_right(A)"
   ]
  },
  {
   "cell_type": "code",
   "execution_count": 15,
   "id": "6bcdd040",
   "metadata": {},
   "outputs": [
    {
     "data": {
      "text/plain": [
       "[-1, 0, -1, 2, 2]"
      ]
     },
     "execution_count": 15,
     "metadata": {},
     "output_type": "execute_result"
    }
   ],
   "source": [
    "# Nearest Smaller Element(index) - Left\n",
    "def nsei_left(A):\n",
    "    ans = [0]*len(A)\n",
    "    stack = []\n",
    "    for i in range(len(A)):\n",
    "        while(len(stack)!=0 and A[stack[-1]]>=A[i]):\n",
    "            stack.pop()\n",
    "        if(len(stack)==0):\n",
    "            ans[i] = -1\n",
    "        else:\n",
    "            ans[i] = stack[-1]\n",
    "        stack.append(i)\n",
    "    return ans\n",
    "A = [4, 5, 2, 10, 8]\n",
    "nsei_left(A)"
   ]
  },
  {
   "cell_type": "code",
   "execution_count": 32,
   "id": "19c04c7b",
   "metadata": {},
   "outputs": [
    {
     "data": {
      "text/plain": [
       "[2, 2, 5, 4, 5]"
      ]
     },
     "execution_count": 32,
     "metadata": {},
     "output_type": "execute_result"
    }
   ],
   "source": [
    "# Nearest Smaller Element(index) - Right\n",
    "def nsei_right(A):\n",
    "    ans = [0]*len(A)\n",
    "    stack = []\n",
    "    for i in range(len(A)-1,-1,-1):\n",
    "        while(len(stack)!=0 and A[stack[-1]]>=A[i]):\n",
    "            stack.pop()\n",
    "        if(len(stack)==0):\n",
    "            ans[i] = len(A)\n",
    "        else:\n",
    "            ans[i] = stack[-1]\n",
    "        stack.append(i)\n",
    "    return ans\n",
    "A = [4, 5, 2, 10, 8]\n",
    "nsei_right(A)"
   ]
  },
  {
   "cell_type": "code",
   "execution_count": 19,
   "id": "eff155c1",
   "metadata": {},
   "outputs": [
    {
     "data": {
      "text/plain": [
       "[-1, -1, 1, -1, 3]"
      ]
     },
     "execution_count": 19,
     "metadata": {},
     "output_type": "execute_result"
    }
   ],
   "source": [
    "# Nearest Greater Element(index) - Left\n",
    "def ngei_left(A):\n",
    "    ans = [0]*len(A)\n",
    "    stack = []\n",
    "    for i in range(len(A)):\n",
    "        while(len(stack)!=0 and A[stack[-1]]<=A[i]):\n",
    "            stack.pop()\n",
    "        if(len(stack)==0):\n",
    "            ans[i] = -1\n",
    "        else:\n",
    "            ans[i] = stack[-1]\n",
    "        stack.append(i)\n",
    "    return ans\n",
    "A = [4, 5, 2, 10, 8]\n",
    "ngei_left(A)"
   ]
  },
  {
   "cell_type": "code",
   "execution_count": 21,
   "id": "21b80318",
   "metadata": {},
   "outputs": [
    {
     "data": {
      "text/plain": [
       "[1, 3, 3, 5, 5]"
      ]
     },
     "execution_count": 21,
     "metadata": {},
     "output_type": "execute_result"
    }
   ],
   "source": [
    "# Nearest Greater Element(index) - Right\n",
    "def ngei_right(A):\n",
    "    ans = [0]*len(A)\n",
    "    stack = []\n",
    "    for i in range(len(A)-1,-1,-1):\n",
    "        while(len(stack)!=0 and A[stack[-1]]<=A[i]):\n",
    "            stack.pop()\n",
    "        if(len(stack)==0):\n",
    "            ans[i] = len(A)\n",
    "        else:\n",
    "            ans[i] = stack[-1]\n",
    "        stack.append(i)\n",
    "    return ans\n",
    "A = [4, 5, 2, 10, 8]\n",
    "ngei_right(A)"
   ]
  },
  {
   "cell_type": "code",
   "execution_count": 11,
   "id": "95f7f268",
   "metadata": {},
   "outputs": [
    {
     "name": "stdout",
     "output_type": "stream",
     "text": [
      "[3, 3, 3] [-1, 0, 1]\n",
      "4\n"
     ]
    }
   ],
   "source": [
    "# Largest Rectangle in Histogram\n",
    "# A = [2, 1, 5, 6, 2, 3]\n",
    "A = [1,2,3]\n",
    "ans = 0\n",
    "nsr = nsei_right(A)\n",
    "nsl = nsei_left(A)\n",
    "print(nsr,nsl)\n",
    "for i in range(len(A)):\n",
    "    width = nsr[i] - nsl[i] - 1\n",
    "    height = A[i]\n",
    "    ans = max(ans,width*height)\n",
    "print(ans)"
   ]
  },
  {
   "cell_type": "code",
   "execution_count": 36,
   "id": "1fec63da",
   "metadata": {},
   "outputs": [
    {
     "name": "stdout",
     "output_type": "stream",
     "text": [
      "0\n"
     ]
    }
   ],
   "source": [
    "# MAX and MIN\n",
    "# A = [4, 7, 3, 8]\n",
    "A = [1]\n",
    "nseil = nsei_left(A)\n",
    "nseir = nsei_right(A)\n",
    "ngeil = ngei_left(A)\n",
    "ngeir = ngei_right(A)\n",
    "ans = 0\n",
    "for i in range(len(A)):\n",
    "    ans += (i-ngeil[i])*(ngeir[i]-i)*A[i]\n",
    "for i in range(len(A)):\n",
    "    ans -= (i-nseil[i])*(nseir[i]-i)*A[i]\n",
    "print(ans)"
   ]
  },
  {
   "cell_type": "code",
   "execution_count": 47,
   "id": "ad1e9205",
   "metadata": {},
   "outputs": [
    {
     "name": "stdout",
     "output_type": "stream",
     "text": [
      "[14]\n"
     ]
    }
   ],
   "source": [
    "# Evaluate Expression\n",
    "def evaluate(num1,num2,operand):\n",
    "    if(operand == '+'):\n",
    "        return num2+num1\n",
    "    elif(operand == '-'):\n",
    "        return num2-num1\n",
    "    elif(operand == '*'):\n",
    "        return num2*num1\n",
    "    else:\n",
    "        return num2//num1\n",
    "\n",
    "# A =   [\"2\", \"1\", \"+\", \"3\", \"*\"]\n",
    "A = [ \"5\", \"1\", \"2\", \"+\", \"4\", \"*\", \"+\", \"3\", \"-\" ]\n",
    "operands = {'+','-','/','*'}\n",
    "stack = []\n",
    "for i in range(len(A)):\n",
    "    if(A[i] not in operands):\n",
    "        stack.append(int(A[i]))\n",
    "#         print(stack)\n",
    "    elif(len(stack)!=0):\n",
    "        num1 = stack.pop()\n",
    "        num2 = stack.pop()\n",
    "        res = evaluate(num1,num2,A[i])\n",
    "        stack.append(res)\n",
    "#         print(stack)\n",
    "print(stack)"
   ]
  },
  {
   "cell_type": "code",
   "execution_count": 20,
   "id": "cad6f39b",
   "metadata": {},
   "outputs": [
    {
     "name": "stdout",
     "output_type": "stream",
     "text": [
      "[-1, -1, -1, -1, -1, -1, 5, 7, 5, 4]\n"
     ]
    }
   ],
   "source": [
    "# Maximum frequency stack\n",
    "A = [[1, 5],[1, 7],[1, 5],[1, 7],[1, 4],[1, 5],[2, 0],[2, 0],[2, 0],[2, 0]]\n",
    "frequency={}\n",
    "stack={}\n",
    "max_freq=0\n",
    "ans=[]\n",
    "for i in range(len(A)):\n",
    "    if A[i][0]==1:\n",
    "        ans.append(-1)\n",
    "        if A[i][1] in frequency:\n",
    "            frequency[A[i][1]]+=1\n",
    "        else:\n",
    "            frequency[A[i][1]]=1\n",
    "#         print(frequency)\n",
    "        if frequency[A[i][1]] in stack:\n",
    "            stack[frequency[A[i][1]]].append(A[i][1])\n",
    "        else:\n",
    "            stack[frequency[A[i][1]]]=[A[i][1]]\n",
    "        max_freq=len(stack)\n",
    "    elif A[i][0]==2:\n",
    "        ans.append(stack[max_freq][-1])\n",
    "        ele=stack[max_freq].pop()\n",
    "        frequency[ele]-=1\n",
    "        if len(stack[max_freq])==0:\n",
    "            del stack[max_freq]\n",
    "            max_freq-=1\n",
    "print(ans)"
   ]
  },
  {
   "cell_type": "code",
   "execution_count": 59,
   "id": "b06c288f",
   "metadata": {},
   "outputs": [
    {
     "name": "stdout",
     "output_type": "stream",
     "text": [
      "[] 0\n",
      "['+', '(', 'b', '*', '(', 'd', '+'] 0\n",
      "['+', '(', 'b', '*'] 0\n",
      "['+'] 0\n",
      "['+'] 0\n"
     ]
    }
   ],
   "source": [
    "# Redundant Braces\n",
    "# A = '(a+(a+b))'\n",
    "# A = '((a+b))'\n",
    "# A = '(a)'\n",
    "A = '(a*b)+(b*(d+(a)))'\n",
    "operands = {'+','-','*','/'}\n",
    "stack = []\n",
    "ans = 0\n",
    "flag = True\n",
    "for i in range(len(A)):\n",
    "    if(A[i]!=')'):\n",
    "        stack.append(A[i])\n",
    "    else:\n",
    "        if(stack[-1]=='('):\n",
    "            ans = 1\n",
    "            break\n",
    "        while(len(stack)!=0 and stack[-1]!='('):\n",
    "#             count = 0\n",
    "            ch = stack.pop()\n",
    "            if(ch in operands):\n",
    "                flag = False\n",
    "        if(flag is True):\n",
    "            ans = 1\n",
    "        stack.pop()\n",
    "        print(stack,count)\n",
    "# print(stack,ans)\n",
    "print(stack,ans)"
   ]
  },
  {
   "cell_type": "code",
   "execution_count": 63,
   "id": "74def1d2",
   "metadata": {},
   "outputs": [
    {
     "name": "stdout",
     "output_type": "stream",
     "text": [
      "['(', 'exp', '(', 'exp', '(']\n"
     ]
    }
   ],
   "source": [
    "# Redundant Braces\n",
    "A = '(a*b)+(b*(d+(a)))'\n",
    "stack = []\n",
    "operators = ['+', '-', '*', '/']\n",
    "for i in range(len(A)):\n",
    "    char = A[i]            \n",
    "    if char == '(':\n",
    "        stack.append(char)\n",
    "    elif char == ')':\n",
    "        if len(stack) > 0 and stack[-1] == '(':\n",
    "            ans = 1\n",
    "            break\n",
    "        stack.pop()  # remove the last expression\n",
    "        stack.pop()  # remove the open paran\n",
    "    else:                \n",
    "        if len(stack) > 0 and stack[-1] == '(' and char in operators:\n",
    "            stack.append('exp')\n",
    "print(stack)"
   ]
  },
  {
   "cell_type": "code",
   "execution_count": 76,
   "id": "cae16e12",
   "metadata": {},
   "outputs": [
    {
     "name": "stdout",
     "output_type": "stream",
     "text": [
      "['', '..', '']\n",
      "/\n"
     ]
    }
   ],
   "source": [
    "# Simplify Directory Path\n",
    "# A = \"/a/./b/../../c/\"\n",
    "A = '/../'\n",
    "stack = []\n",
    "li = A.split('/')\n",
    "print(li)\n",
    "for i in li:\n",
    "    if(i=='..' and len(stack)>0):\n",
    "        stack.pop()\n",
    "    elif(i=='.' or i =='' or i =='..'):\n",
    "        continue\n",
    "    else:\n",
    "        stack.append(i)\n",
    "    print(stack)\n",
    "ans = '/' + '/'.join(stack)\n",
    "print(ans)"
   ]
  },
  {
   "cell_type": "code",
   "execution_count": 122,
   "id": "cdf0fc36",
   "metadata": {},
   "outputs": [
    {
     "name": "stdout",
     "output_type": "stream",
     "text": [
      "-+-+a-b-d+c+q\n",
      "{'a': '+', 'b': '-', 'd': '-', 'c': '+', 'q': '+'}\n"
     ]
    }
   ],
   "source": [
    "# Check two bracket expressions\n",
    "# A = '-(a+b+c)'\n",
    "# A = 'a-b-(c-d)'\n",
    "A = '-(-(-(-a+b)-d+c)-q)'\n",
    "# A = '-a+l-b-(z-(c+t)-x-q)'\n",
    "stack1 = []\n",
    "stack2 = []\n",
    "for i in range(len(A)):\n",
    "    if(A[i]=='(' and len(stack1)>0):\n",
    "        stack2.append(stack1[-1])\n",
    "    if(A[i] == ')' and len(stack2)>0):\n",
    "        stack2.pop()\n",
    "    if(len(stack2)>0 and stack2[-1] == '-' and (A[i] != ')' and A[i] != '(')):\n",
    "        if(A[i] == '+'):\n",
    "            stack1.append('-')\n",
    "        elif(A[i] == '-'):\n",
    "            stack1.append('+')\n",
    "        else:\n",
    "            stack1.append(A[i])\n",
    "    elif(len(stack2)>0 and stack2[-1] == '+' and (A[i] != ')' and A[i] != '(')):\n",
    "        if(A[i] == '-'):\n",
    "            stack1.append('-')\n",
    "        elif(A[i] == '+'):\n",
    "            stack1.append('+')\n",
    "        else:\n",
    "            stack1.append(A[i])\n",
    "    elif(A[i]=='(' or A[i] ==')'):\n",
    "        continue\n",
    "    else:\n",
    "        stack1.append(A[i])\n",
    "ans = ''.join(stack1)\n",
    "print(ans)\n",
    "dict1 = {}\n",
    "for i in range(len(ans)):\n",
    "    if(i==0 and ans[i]!='+' and ans[i]!= '-'):\n",
    "        dict1[ans[i]] = '+'\n",
    "    elif(ans[i]!= '+' and ans[i] != '-'):\n",
    "        dict1[ans[i]] = ans[i-1]\n",
    "print(dict1)\n",
    "# Create 2 dictionaries and compare them"
   ]
  },
  {
   "cell_type": "code",
   "execution_count": 124,
   "id": "1e7ab84a",
   "metadata": {},
   "outputs": [
    {
     "name": "stdout",
     "output_type": "stream",
     "text": [
      "abcd^e-fgh*+^*+i-\n"
     ]
    }
   ],
   "source": [
    "# Infix to Postfix\n",
    "A = \"a+b*(c^d-e)^(f+g*h)-i\"\n",
    "hash_map={}\n",
    "hash_map['^']=1\n",
    "hash_map['/']=2\n",
    "hash_map['*']=2\n",
    "hash_map['+']=3\n",
    "hash_map['-']=3\n",
    "A=list(A)\n",
    "stack=[]\n",
    "ans=''\n",
    "for i in range(len(A)):\n",
    "    if A[i] not in hash_map and (A[i]!='(' and A[i]!=')'):\n",
    "        ans=ans+A[i]\n",
    "    elif A[i] in hash_map:\n",
    "        if len(stack)==0 or stack[-1]=='(':\n",
    "            stack.append(A[i])\n",
    "        else:\n",
    "            while len(stack)>0 and hash_map[A[i]] >= hash_map[stack[-1]]:\n",
    "                x=stack.pop()\n",
    "                ans=ans+x\n",
    "                if len(stack)>0 and stack[-1]=='(':\n",
    "                    break\n",
    "            stack.append(A[i])\n",
    "\n",
    "    elif A[i]=='(':\n",
    "        stack.append(A[i])\n",
    "    elif A[i] ==')':\n",
    "        while stack[-1]!='(':\n",
    "            x=stack.pop()\n",
    "            ans=ans+x\n",
    "        stack.pop()\n",
    "while len(stack)!=0:\n",
    "    x=stack.pop()\n",
    "    ans=ans+x\n",
    "print(ans)"
   ]
  },
  {
   "cell_type": "code",
   "execution_count": 142,
   "id": "be42b4af",
   "metadata": {},
   "outputs": [
    {
     "data": {
      "text/plain": [
       "[100, 17, 11, 5]"
      ]
     },
     "execution_count": 142,
     "metadata": {},
     "output_type": "execute_result"
    }
   ],
   "source": [
    "# Sort stack using another stack\n",
    "def merge(s1,s2):\n",
    "    s = []\n",
    "    while(len(s1)>0 and len(s2)>0):\n",
    "        if(s1[-1]>s2[-1]):\n",
    "            s.append(s2.pop())\n",
    "        else:\n",
    "            s.append(s1.pop())\n",
    "    while(len(s1)>0):\n",
    "        s.append(s1.pop())\n",
    "    while(len(s2)>0):\n",
    "        s.append(s2.pop())\n",
    "    s = s[::-1]\n",
    "    return s\n",
    "\n",
    "def merge_sort(s):\n",
    "    s2 = []\n",
    "    if(len(s)<=1):\n",
    "        return s\n",
    "    for i in range(len(s)//2):\n",
    "        s2.append(s.pop())\n",
    "    s = merge_sort(s)\n",
    "    s2 = merge_sort(s2)\n",
    "    return merge(s,s2)\n",
    "    \n",
    "# A = [1,8,7,2,4,3,5,6]\n",
    "A = [5,17,100,11]\n",
    "merge_sort(A)"
   ]
  },
  {
   "cell_type": "code",
   "execution_count": 24,
   "id": "16914624",
   "metadata": {},
   "outputs": [
    {
     "name": "stdout",
     "output_type": "stream",
     "text": [
      "[True, True, False, True, True]\n",
      "2\n"
     ]
    }
   ],
   "source": [
    "# Valid Paranthesis\n",
    "s = '(()'\n",
    "s1 = list(s)\n",
    "temp_ans = 0\n",
    "ans = 0\n",
    "s2 = []\n",
    "flags = [False]*len(s)\n",
    "for i in range(len(s)):\n",
    "    if(s1[i]=='('):\n",
    "        s2.append(i)\n",
    "    else:\n",
    "        if(s2):\n",
    "            flags[i] = True\n",
    "            flags[s2.pop()] = True\n",
    "print(flags)\n",
    "for i in range(len(flags)):\n",
    "    if flags[i]:\n",
    "        temp_ans += 1\n",
    "    else:\n",
    "        ans = max(ans,temp_ans)\n",
    "        temp_ans = 0\n",
    "print(ans)"
   ]
  },
  {
   "cell_type": "code",
   "execution_count": 14,
   "id": "5aa31914",
   "metadata": {},
   "outputs": [
    {
     "name": "stdout",
     "output_type": "stream",
     "text": [
      "3\n"
     ]
    }
   ],
   "source": [
    "# Maximum Rectangle\n",
    "\n",
    "def nsei_right(arr):\n",
    "    ans = [0]*len(arr)\n",
    "    stack = []\n",
    "    for i in range(len(A)-1,-1,-1):\n",
    "        while(len(stack)!=0 and arr[stack[-1]]>=arr[i]):\n",
    "            stack.pop()\n",
    "        if(len(stack)==0):\n",
    "            ans[i] = len(arr)\n",
    "        else:\n",
    "            ans[i] = stack[-1]\n",
    "        stack.append(i)\n",
    "    return ans\n",
    "\n",
    "def nsei_left(arr):\n",
    "    ans = [0]*len(arr)\n",
    "    stack = []\n",
    "    for i in range(len(arr)):\n",
    "        while(len(stack)!=0 and arr[stack[-1]]>=arr[i]):\n",
    "            stack.pop()\n",
    "        if(len(stack)==0):\n",
    "            ans[i] = -1\n",
    "        else:\n",
    "            ans[i] = stack[-1]\n",
    "        stack.append(i)\n",
    "    return ans\n",
    "\n",
    "\n",
    "A = [   [1, 0, 1],\n",
    "        [0, 0, 1],\n",
    "        [1, 1, 1]]\n",
    "\n",
    "for i in range(len(A)):\n",
    "    for j in range(len(A[0])):\n",
    "        if(i>0 and A[i][j]==1):\n",
    "            A[i][j] = A[i-1][j]+1\n",
    "\n",
    "\n",
    "ans = 0\n",
    "for i in A:\n",
    "    nsr = nsei_right(i)\n",
    "    nsl = nsei_left(i)\n",
    "    for j in range(len(i)):\n",
    "        if(i[j]==0):\n",
    "            continue\n",
    "        width = nsr[j]-nsl[j]-1\n",
    "        height = i[j]\n",
    "        ans = max(ans,width*height)\n",
    "print(ans)"
   ]
  },
  {
   "cell_type": "code",
   "execution_count": 1,
   "id": "57f99d09",
   "metadata": {},
   "outputs": [
    {
     "name": "stdout",
     "output_type": "stream",
     "text": [
      "7\n"
     ]
    }
   ],
   "source": [
    "# All Subarrays\n",
    "\n",
    "A = [2, 3, 1, 4]\n",
    "stack=[0]\n",
    "final_xor=0\n",
    "for i in range(1,len(A)):\n",
    "    while len(stack)!=0:\n",
    "        final_xor = max(final_xor, A[stack[-1]]^A[i])\n",
    "        if A[i]<A[stack[-1]]:\n",
    "            break\n",
    "        stack.pop()\n",
    "    stack.append(i)\n",
    "print(final_xor)"
   ]
  },
  {
   "cell_type": "code",
   "execution_count": null,
   "id": "bee5eee7",
   "metadata": {},
   "outputs": [],
   "source": []
  }
 ],
 "metadata": {
  "kernelspec": {
   "display_name": "Python 3 (ipykernel)",
   "language": "python",
   "name": "python3"
  },
  "language_info": {
   "codemirror_mode": {
    "name": "ipython",
    "version": 3
   },
   "file_extension": ".py",
   "mimetype": "text/x-python",
   "name": "python",
   "nbconvert_exporter": "python",
   "pygments_lexer": "ipython3",
   "version": "3.9.7"
  }
 },
 "nbformat": 4,
 "nbformat_minor": 5
}
