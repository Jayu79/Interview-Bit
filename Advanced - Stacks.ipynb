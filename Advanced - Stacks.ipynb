{
 "cells": [
  {
   "cell_type": "code",
   "execution_count": 4,
   "id": "17a1726e",
   "metadata": {},
   "outputs": [
    {
     "name": "stdout",
     "output_type": "stream",
     "text": [
      "63\n"
     ]
    }
   ],
   "source": [
    "# Passing game\n",
    "B = 23\n",
    "ans = []\n",
    "ans.append(B)\n",
    "C = [86, 63, 60, 0, 47, 0, 99, 9, 0, 0]\n",
    "for i in range(len(C)):\n",
    "    if(C[i]==0):\n",
    "        ans.pop()\n",
    "    else:\n",
    "        ans.append(C[i])\n",
    "print(ans[-1])"
   ]
  },
  {
   "cell_type": "code",
   "execution_count": null,
   "id": "470b6ac3",
   "metadata": {},
   "outputs": [],
   "source": []
  }
 ],
 "metadata": {
  "kernelspec": {
   "display_name": "Python 3 (ipykernel)",
   "language": "python",
   "name": "python3"
  },
  "language_info": {
   "codemirror_mode": {
    "name": "ipython",
    "version": 3
   },
   "file_extension": ".py",
   "mimetype": "text/x-python",
   "name": "python",
   "nbconvert_exporter": "python",
   "pygments_lexer": "ipython3",
   "version": "3.9.7"
  }
 },
 "nbformat": 4,
 "nbformat_minor": 5
}
