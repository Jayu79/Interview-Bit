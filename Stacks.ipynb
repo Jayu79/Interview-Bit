{
 "cells": [
  {
   "cell_type": "code",
   "execution_count": null,
   "id": "7f3d16e9",
   "metadata": {},
   "outputs": [],
   "source": [
    "#Balanced Paranthesis\n",
    "A = \")((())\"\n",
    "l = []\n",
    "if(A[0]==')'):\n",
    "    print(0)\n",
    "for i in range(len(A)):\n",
    "    if(A[i]=='('):\n",
    "        l.append('(')\n",
    "    else:\n",
    "        if(len(l)>0):\n",
    "            l.pop()\n",
    "if(len(l)==0):\n",
    "    print(1)\n",
    "else:\n",
    "    print(0)"
   ]
  },
  {
   "cell_type": "code",
   "execution_count": 11,
   "id": "5b4d1940",
   "metadata": {},
   "outputs": [
    {
     "name": "stdout",
     "output_type": "stream",
     "text": [
      "0 0 []\n",
      "1 1 [')']\n",
      "2 2 [')', '(']\n",
      "1 3 [')']\n",
      "2 4 [')', '[']\n",
      "[')']\n"
     ]
    }
   ],
   "source": [
    "#Balanced Paranthesis\n",
    "A = \")()[]\"\n",
    "l = []\n",
    "for i in range(0,len(A)):\n",
    "    print(len(l),i,l)\n",
    "    if(len(l)==0):\n",
    "        l.append(A[i])\n",
    "    elif(l[len(l)-1]==\"(\" and A[i]==\")\"):\n",
    "        l.pop()\n",
    "    elif(l[len(l)-1]==\"{\" and A[i]==\"}\"):\n",
    "        l.pop()\n",
    "    elif(l[len(l)-1]==\"[\" and A[i]==\"]\"):\n",
    "        l.pop()\n",
    "    else:\n",
    "        l.append(A[i])\n",
    "print(l)"
   ]
  },
  {
   "cell_type": "code",
   "execution_count": null,
   "id": "1a2ef171",
   "metadata": {},
   "outputs": [],
   "source": []
  }
 ],
 "metadata": {
  "kernelspec": {
   "display_name": "Python 3 (ipykernel)",
   "language": "python",
   "name": "python3"
  },
  "language_info": {
   "codemirror_mode": {
    "name": "ipython",
    "version": 3
   },
   "file_extension": ".py",
   "mimetype": "text/x-python",
   "name": "python",
   "nbconvert_exporter": "python",
   "pygments_lexer": "ipython3",
   "version": "3.9.7"
  }
 },
 "nbformat": 4,
 "nbformat_minor": 5
}
