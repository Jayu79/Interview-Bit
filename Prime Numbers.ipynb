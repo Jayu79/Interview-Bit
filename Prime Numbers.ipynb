{
 "cells": [
  {
   "cell_type": "code",
   "execution_count": 22,
   "id": "d3275460",
   "metadata": {},
   "outputs": [
    {
     "name": "stdout",
     "output_type": "stream",
     "text": [
      "2\n",
      "3\n",
      "5\n",
      "7\n"
     ]
    }
   ],
   "source": [
    "#Prime numbers till n\n",
    "N = 10\n",
    "p = [True for i in range(N+1)]\n",
    "p[0] = p[1] = False\n",
    "for i in range(2,N+1):\n",
    "    if(p[i]==True):\n",
    "        for j in range(2*i,N+1,i):\n",
    "            p[j] = False\n",
    "# print(p)\n",
    "for i in range(len(p)):\n",
    "    if(p[i]==True):\n",
    "        print(i)"
   ]
  },
  {
   "cell_type": "code",
   "execution_count": 81,
   "id": "184322f4",
   "metadata": {},
   "outputs": [
    {
     "name": "stdout",
     "output_type": "stream",
     "text": [
      "[0, 1, 2, 3, 4, 5, 6, 7, 8, 9, 10, 11, 12, 13, 14, 15, 16, 17, 18, 19, 20, 21, 22, 23, 24, 25, 26, 27, 28, 29, 30, 31, 32, 33, 34, 35, 36, 37, 38, 39, 40]\n",
      "[0, 1, 2, 3, 2, 5, 2, 7, 2, 3, 2, 11, 2, 13, 2, 3, 2, 17, 2, 19, 2, 3, 2, 23, 2, 5, 2, 3, 2, 29, 2, 31, 2, 3, 2, 5, 2, 37, 2, 3, 2]\n"
     ]
    }
   ],
   "source": [
    "#Smallest prime factor\n",
    "import math\n",
    "N = 40\n",
    "spf = [i for i in range(N+1)]\n",
    "print(spf)\n",
    "for i in range(2,int(math.sqrt(N))+1):\n",
    "    if(i==spf[i]):\n",
    "        for j in range(i**2,N+1,i):\n",
    "            if(spf[j]>i):\n",
    "                spf[j] = i\n",
    "print(spf)"
   ]
  },
  {
   "cell_type": "code",
   "execution_count": 68,
   "id": "5822ed18",
   "metadata": {},
   "outputs": [
    {
     "name": "stdout",
     "output_type": "stream",
     "text": [
      "[2, 2, 3, 2, 4, 2, 4, 3, 4]\n"
     ]
    }
   ],
   "source": [
    "#Prime factors of number\n",
    "def count_divisors(temp):\n",
    "    count = 0\n",
    "    ans = 1\n",
    "    num = temp[0]\n",
    "    for i in range(0,len(temp)):\n",
    "#         print(temp[i],num)\n",
    "        if(temp[i]==num):\n",
    "            count += 1\n",
    "        else:\n",
    "            num = temp[i]\n",
    "            ans = ans*(count+1)\n",
    "#             print(count,ans)\n",
    "            count = 1\n",
    "    ans = ans*(count+1)\n",
    "    return ans\n",
    "\n",
    "ans = []\n",
    "N = 10\n",
    "for i in range(2,N+1):\n",
    "    temp = []\n",
    "    x = i\n",
    "    while(x>1):\n",
    "        temp.append(spf[x])\n",
    "        x = x//spf[x]\n",
    "#     print(i,temp,count_divisors(temp))\n",
    "    ans.append(count_divisors(temp))\n",
    "print(ans)"
   ]
  },
  {
   "cell_type": "code",
   "execution_count": 72,
   "id": "e7e0ec02",
   "metadata": {},
   "outputs": [
    {
     "name": "stdout",
     "output_type": "stream",
     "text": [
      "2 2\n",
      "3 3\n",
      "4 2\n",
      "5 5\n",
      "100 5\n",
      "20 2\n",
      "5 5\n",
      "50 5\n",
      "10 2\n",
      "5 5\n",
      "[2, 2, 3, 2, 12, 8]\n"
     ]
    }
   ],
   "source": [
    "def count_divisors1(x):\n",
    "    ans = 1\n",
    "    while(spf[x]>1):\n",
    "        cnt = 1\n",
    "        u = spf[x]\n",
    "        print(x,u)\n",
    "        while(spf[x]==u):\n",
    "            cnt+=1\n",
    "            x = x//u\n",
    "        ans *= cnt\n",
    "    return ans\n",
    "\n",
    "ans1 = []\n",
    "A = [2,3,4,5,100,50]\n",
    "N = len(A)\n",
    "for i in range(N):\n",
    "    ans1.append(count_divisors1(A[i]))\n",
    "print(ans1)"
   ]
  },
  {
   "cell_type": "code",
   "execution_count": 96,
   "id": "42080e40",
   "metadata": {},
   "outputs": [
    {
     "name": "stdout",
     "output_type": "stream",
     "text": [
      "[True, True, True, True, False, True, False, True, False, False, False, True, False, True, False, False, False, True, False, True, False, False, False, True, False, False, False, False, False, True, False, True, False, False, False, False, False, True, False, False, False, True, False, True, False, False, False, True, False, False, False, False, False, True, False, False, False]\n",
      "[3, 53]\n"
     ]
    }
   ],
   "source": [
    "#Prime Sum\n",
    "N = 56\n",
    "p = [True for i in range(N+1)]\n",
    "ans = []\n",
    "# print(p)\n",
    "for i in range(2,N+1):\n",
    "    if(p[i]==True):\n",
    "        for j in range(2*i,N+1,i):\n",
    "            p[j] = False\n",
    "# print(p)\n",
    "for i in range(2,(N//2)+1):\n",
    "    if(p[i]==True):\n",
    "        num1 = i\n",
    "        num2 = N-i\n",
    "    if(p[num2]==True):\n",
    "        ans.append(num1)\n",
    "        ans.append(num2)\n",
    "        break\n",
    "print(ans)"
   ]
  },
  {
   "cell_type": "code",
   "execution_count": null,
   "id": "1f936acb",
   "metadata": {},
   "outputs": [],
   "source": [
    "a,b = ans[0],ans[1]\n",
    "c,d = num1,num2"
   ]
  }
 ],
 "metadata": {
  "kernelspec": {
   "display_name": "Python 3 (ipykernel)",
   "language": "python",
   "name": "python3"
  },
  "language_info": {
   "codemirror_mode": {
    "name": "ipython",
    "version": 3
   },
   "file_extension": ".py",
   "mimetype": "text/x-python",
   "name": "python",
   "nbconvert_exporter": "python",
   "pygments_lexer": "ipython3",
   "version": "3.9.7"
  }
 },
 "nbformat": 4,
 "nbformat_minor": 5
}
