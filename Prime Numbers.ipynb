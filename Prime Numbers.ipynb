{
 "cells": [
  {
   "cell_type": "code",
   "execution_count": null,
   "id": "41bef663",
   "metadata": {},
   "outputs": [],
   "source": [
    "#Prime numbers till n\n",
    "N = 10\n",
    "p = [True for i in range(N+1)]\n",
    "p[0] = p[1] = False\n",
    "for i in range(2,N+1):\n",
    "    if(p[i]==True):\n",
    "        for j in range(2*i,N+1,i):\n",
    "            p[j] = False\n",
    "# print(p)\n",
    "for i in range(len(p)):\n",
    "    if(p[i]==True):\n",
    "        print(i)"
   ]
  },
  {
   "cell_type": "code",
   "execution_count": null,
   "id": "37db244a",
   "metadata": {},
   "outputs": [],
   "source": [
    "#Smallest prime factor\n",
    "import math\n",
    "N = 40\n",
    "spf = [i for i in range(N+1)]\n",
    "print(spf)\n",
    "for i in range(2,int(math.sqrt(N))+1):\n",
    "    if(i==spf[i]):\n",
    "        for j in range(i**2,N+1,i):\n",
    "            if(spf[j]>i):\n",
    "                spf[j] = i\n",
    "print(spf)"
   ]
  },
  {
   "cell_type": "code",
   "execution_count": null,
   "id": "7615f44d",
   "metadata": {},
   "outputs": [],
   "source": [
    "#Prime factors of number\n",
    "def count_divisors(temp):\n",
    "    count = 0\n",
    "    ans = 1\n",
    "    num = temp[0]\n",
    "    for i in range(0,len(temp)):\n",
    "#         print(temp[i],num)\n",
    "        if(temp[i]==num):\n",
    "            count += 1\n",
    "        else:\n",
    "            num = temp[i]\n",
    "            ans = ans*(count+1)\n",
    "#             print(count,ans)\n",
    "            count = 1\n",
    "    ans = ans*(count+1)\n",
    "    return ans\n",
    "\n",
    "ans = []\n",
    "N = 10\n",
    "for i in range(2,N+1):\n",
    "    temp = []\n",
    "    x = i\n",
    "    while(x>1):\n",
    "        temp.append(spf[x])\n",
    "        x = x//spf[x]\n",
    "#     print(i,temp,count_divisors(temp))\n",
    "    ans.append(count_divisors(temp))\n",
    "print(ans)"
   ]
  },
  {
   "cell_type": "code",
   "execution_count": null,
   "id": "7d702aa4",
   "metadata": {},
   "outputs": [],
   "source": [
    "def count_divisors1(x):\n",
    "    ans = 1\n",
    "    while(spf[x]>1):\n",
    "        cnt = 1\n",
    "        u = spf[x]\n",
    "        print(x,u)\n",
    "        while(spf[x]==u):\n",
    "            cnt+=1\n",
    "            x = x//u\n",
    "        ans *= cnt\n",
    "    return ans\n",
    "\n",
    "ans1 = []\n",
    "A = [2,3,4,5,100,50]\n",
    "N = len(A)\n",
    "for i in range(N):\n",
    "    ans1.append(count_divisors1(A[i]))\n",
    "print(ans1)"
   ]
  },
  {
   "cell_type": "code",
   "execution_count": null,
   "id": "c8f7ca01",
   "metadata": {},
   "outputs": [],
   "source": [
    "#Prime Sum\n",
    "N = 56\n",
    "p = [True for i in range(N+1)]\n",
    "ans = []\n",
    "# print(p)\n",
    "for i in range(2,N+1):\n",
    "    if(p[i]==True):\n",
    "        for j in range(2*i,N+1,i):\n",
    "            p[j] = False\n",
    "# print(p)\n",
    "for i in range(2,(N//2)+1):\n",
    "    if(p[i]==True):\n",
    "        num1 = i\n",
    "        num2 = N-i\n",
    "    if(p[num2]==True):\n",
    "        ans.append(num1)\n",
    "        ans.append(num2)\n",
    "        break\n",
    "print(ans)"
   ]
  },
  {
   "cell_type": "code",
   "execution_count": 16,
   "id": "9a57239c",
   "metadata": {},
   "outputs": [
    {
     "name": "stdout",
     "output_type": "stream",
     "text": [
      "3\n"
     ]
    }
   ],
   "source": [
    "#Lucky Numbers\n",
    "import math\n",
    "def spf(A):\n",
    "    spf = [i for i in range(A+1)]\n",
    "    for i in range(2,int(math.sqrt(A)+1)):\n",
    "        if(i==spf[i]):\n",
    "            for j in range(i**2,A+1,i):\n",
    "                if(spf[j]>i):\n",
    "                    spf[j] = i\n",
    "    return spf\n",
    "A = 12\n",
    "spf = spf(A)\n",
    "ans = 0\n",
    "for i in range(6,A+1):\n",
    "    x = i\n",
    "    num = spf[x]\n",
    "    count = 0\n",
    "    while(x>1):\n",
    "        if(num!=spf[x]):\n",
    "            count += 1\n",
    "        num = spf[x]\n",
    "        x = x//spf[x]\n",
    "#         print(i,x,count)\n",
    "        if(count>1):\n",
    "            break\n",
    "#     print(i,count)\n",
    "#     print()\n",
    "    if(count==1):\n",
    "        ans += 1\n",
    "print(ans)"
   ]
  },
  {
   "cell_type": "code",
   "execution_count": null,
   "id": "94f5a6ab",
   "metadata": {},
   "outputs": [],
   "source": []
  }
 ],
 "metadata": {
  "kernelspec": {
   "display_name": "Python 3 (ipykernel)",
   "language": "python",
   "name": "python3"
  },
  "language_info": {
   "codemirror_mode": {
    "name": "ipython",
    "version": 3
   },
   "file_extension": ".py",
   "mimetype": "text/x-python",
   "name": "python",
   "nbconvert_exporter": "python",
   "pygments_lexer": "ipython3",
   "version": "3.9.7"
  }
 },
 "nbformat": 4,
 "nbformat_minor": 5
}
