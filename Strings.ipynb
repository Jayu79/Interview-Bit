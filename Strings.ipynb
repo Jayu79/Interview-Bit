{
 "cells": [
  {
   "cell_type": "code",
   "execution_count": 46,
   "id": "d2522a9b",
   "metadata": {},
   "outputs": [
    {
     "name": "stdout",
     "output_type": "stream",
     "text": [
      "['h', 'v', ' ', 'x', 'd', 'q', ' ', 'o', 'p', ' ', 'q', 'o', 'd', 'd', 'p', 't', 'o', 'k', 'k', 'z', ' ', 'v', 'e', 'm', 'm', 'o', 'x', 'r', 'g', 'f', ' ', 'o', 'm', 'b', 't', ' ', 'g', 'g', ' ', 'c', 'r', 'u', 'l', 'g', 'z', 'f', 'k', 'i', 'f', ' ']\n",
      "hv xdq op qoddptokkz vemmoxrgf ombt gg crulgzfkif\n"
     ]
    }
   ],
   "source": [
    "#Reverse the String\n",
    "def reverse(A,start,end):\n",
    "    while(start<end):\n",
    "        A[start],A[end] = A[end],A[start]\n",
    "        start = start + 1\n",
    "        end = end - 1\n",
    "#     print(A)\n",
    "    return A\n",
    "A = \"crulgzfkif gg ombt vemmoxrgf qoddptokkz op xdq hv \"\n",
    "if(A[len(A)-1] == ' '):\n",
    "    A = reverse(list(A),0,len(A)-2)\n",
    "else:\n",
    "    A = reverse(list(A),0,len(A)-1)\n",
    "# print(\"\".join(A))\n",
    "start = 0\n",
    "end = 0\n",
    "while(start<len(A)):\n",
    "    while(end<len(A) and A[end]!= ' '):\n",
    "        end = end + 1\n",
    "#     print(start,end)\n",
    "    reverse(A,start,end-1)\n",
    "    start = end + 1\n",
    "    end = start\n",
    "print(A)\n",
    "print(\"\".join(A[:len(A)-1]))"
   ]
  },
  {
   "cell_type": "code",
   "execution_count": 59,
   "id": "7846a8f5",
   "metadata": {},
   "outputs": [
    {
     "name": "stdout",
     "output_type": "stream",
     "text": [
      "['s', 'c', 'a', 'l', 'e', 'r', '#', '2', '0', '2', '0']\n"
     ]
    }
   ],
   "source": [
    "#To Lower Case\n",
    "A = ['S', 'c', 'a', 'L', 'e', 'r', '#', '2', '0', '2', '0']\n",
    "for i in range(0,len(A)):\n",
    "    if(ord(A[i])>=65 and ord(A[i])<=90):\n",
    "        A[i] = chr(ord(A[i])+32)\n",
    "print(A)"
   ]
  },
  {
   "cell_type": "code",
   "execution_count": 61,
   "id": "f36d7646",
   "metadata": {},
   "outputs": [
    {
     "name": "stdout",
     "output_type": "stream",
     "text": [
      "['S', 'C', 'A', 'L', 'E', 'R', 'Z', '#', '2', '0', '2', '0']\n"
     ]
    }
   ],
   "source": [
    "#To Upper\n",
    "A = ['S', 'c', 'a', 'L', 'e', 'r','z','#', '2', '0', '2', '0']\n",
    "for i in range(0,len(A)):\n",
    "    if(ord(A[i])>=97 and ord(A[i])<=122):\n",
    "        A[i] = chr(ord(A[i])-32)\n",
    "print(A)"
   ]
  },
  {
   "cell_type": "code",
   "execution_count": 67,
   "id": "d6ca01a2",
   "metadata": {},
   "outputs": [
    {
     "name": "stdout",
     "output_type": "stream",
     "text": [
      "1\n"
     ]
    }
   ],
   "source": [
    "#Isalnum\n",
    "A = ['S', 'c', 'a', 'l', 'e', 'r', 'A', 'c', 'a', 'd', 'e', 'm', 'y', '2', '0', '2', '0']\n",
    "count = 0\n",
    "for i in range(0,len(A)):\n",
    "    if((ord(A[i])>=97 and ord(A[i])<=122) or (ord(A[i])>=65 and ord(A[i])<=90) or (ord(A[i])>=48 and ord(A[i])<=57)):\n",
    "        count = count + 1\n",
    "if(count == len(A)):\n",
    "    print(1)\n",
    "else:\n",
    "    print(0)"
   ]
  },
  {
   "cell_type": "code",
   "execution_count": 68,
   "id": "63cd9399",
   "metadata": {},
   "outputs": [
    {
     "name": "stdout",
     "output_type": "stream",
     "text": [
      "6\n"
     ]
    }
   ],
   "source": [
    "#Amazing Sub Arrays\n",
    "count = 0\n",
    "A = 'ABEC'\n",
    "for i in range(len(A)):\n",
    "    if(A[i] == 'A' or A[i] == 'E' or A[i] == 'I' or A[i] == 'O' or A[i] == 'U' or A[i] == 'a' or A[i] == 'e' or A[i] == 'i' or A[i] == 'o' or A[i] == 'u'):\n",
    "        count = count + (len(A)-i)\n",
    "print(count%10003)"
   ]
  },
  {
   "cell_type": "code",
   "execution_count": 86,
   "id": "80a9d3ea",
   "metadata": {},
   "outputs": [
    {
     "name": "stdout",
     "output_type": "stream",
     "text": [
      "bc###bc###\n"
     ]
    }
   ],
   "source": [
    "#String Operations\n",
    "A=\"AbcaZeoB\"\n",
    "A = A + A\n",
    "A = list(A)\n",
    "# print(A)\n",
    "C = []\n",
    "for i in range(0,len(A)):\n",
    "    if(ord(A[i])>=97 and ord(A[i])<=122):\n",
    "        if(A[i] == 'a' or A[i] == 'e' or A[i] == 'i' or A[i] == 'o' or A[i] == 'u'):\n",
    "            C.append('#')\n",
    "        else:\n",
    "            C.append(A[i])\n",
    "#         print(C)\n",
    "print(''.join(C))"
   ]
  },
  {
   "cell_type": "code",
   "execution_count": 125,
   "id": "f5c5f39c",
   "metadata": {},
   "outputs": [
    {
     "name": "stdout",
     "output_type": "stream",
     "text": [
      "ab\n"
     ]
    }
   ],
   "source": [
    "#Longest Common Prefix\n",
    "A = [\"abab\", \"ab\", \"abcd\"]\n",
    "# print(A[2][0])\n",
    "if len(A) == 0:\n",
    "    print('') \n",
    "res = ''\n",
    "A = sorted(A)\n",
    "for i in A[0]:\n",
    "    if A[-1].startswith(res+i):\n",
    "        res += i\n",
    "    else:\n",
    "        break\n",
    "print(res)"
   ]
  },
  {
   "cell_type": "code",
   "execution_count": 155,
   "id": "47e5fdfb",
   "metadata": {},
   "outputs": [
    {
     "name": "stdout",
     "output_type": "stream",
     "text": [
      "[0, 1, 2, 1, 0, 1, 2, 0, 1, 0, 1, 0, 0, 1, 0, 0, 1, 1, 1, 0, 0, 1, 1, 1, 0, 0]\n",
      "[2, 2, 1, 1, 1, 1, 1, 1, 1, 1, 1, 1, 1, 1, 0, 0, 0, 0, 0, 0, 0, 0, 0, 0, 0, 0]\n",
      "14 2 12\n"
     ]
    }
   ],
   "source": [
    "#Change Character\n",
    "A = \"ircvscxggbwkfnqd\"\n",
    "B = 2\n",
    "li_A = [0]*26\n",
    "for i in range(0,len(A)):\n",
    "    k = ord(A[i]) - ord('a')\n",
    "    li_A[k] = li_A[k] + 1\n",
    "print(li_A)\n",
    "li_A.sort(reverse = True)\n",
    "print(li_A)\n",
    "count = 0\n",
    "dist = 0\n",
    "for i in li_A:\n",
    "    if(i!=0):\n",
    "        dist = dist + 1\n",
    "    if(i!=0 and B>0):\n",
    "        B = B - i\n",
    "        count = count + i\n",
    "print(dist,count,dist-count)"
   ]
  },
  {
   "cell_type": "code",
   "execution_count": 176,
   "id": "9dc69f07",
   "metadata": {},
   "outputs": [
    {
     "name": "stdout",
     "output_type": "stream",
     "text": [
      "5 3 8\n",
      "m g madam\n"
     ]
    }
   ],
   "source": [
    "#Max Length Paliandrome\n",
    "\n",
    "def extend(A,start,end):\n",
    "    while(start>=0 and end<len(A) and A[start] == A[end]):\n",
    "        start = start - 1\n",
    "        end = end + 1\n",
    "    return end - start -1,start+1,end\n",
    "\n",
    "ans = 0\n",
    "cur_ans = 0\n",
    "A = \"aermadamghc\"\n",
    "# A = \"aaabaaa\"\n",
    "sp = 0\n",
    "ep = 0\n",
    "for i in range(len(A)):\n",
    "    start = i\n",
    "    end = i\n",
    "    ex = extend(A,start,end)\n",
    "    cur_ans = max(cur_ans,ex[0])\n",
    "    if(cur_ans>ans):\n",
    "        ans = cur_ans\n",
    "        sp = ex[1]\n",
    "        ep = ex[2]\n",
    "for i in range(len(A)-1):\n",
    "    start = i\n",
    "    end = i + 1\n",
    "    ex = extend(A,start,end)\n",
    "    cur_ans = max(cur_ans,ex[0])\n",
    "    if(cur_ans>ans):\n",
    "        ans = cur_ans\n",
    "        sp = ex[1]\n",
    "        ep = ex[2]\n",
    "print(ans,sp,ep)\n",
    "print(A[sp],A[ep],A[sp:ep])"
   ]
  },
  {
   "cell_type": "code",
   "execution_count": null,
   "id": "70657c49",
   "metadata": {},
   "outputs": [],
   "source": []
  }
 ],
 "metadata": {
  "kernelspec": {
   "display_name": "Python 3 (ipykernel)",
   "language": "python",
   "name": "python3"
  },
  "language_info": {
   "codemirror_mode": {
    "name": "ipython",
    "version": 3
   },
   "file_extension": ".py",
   "mimetype": "text/x-python",
   "name": "python",
   "nbconvert_exporter": "python",
   "pygments_lexer": "ipython3",
   "version": "3.9.7"
  }
 },
 "nbformat": 4,
 "nbformat_minor": 5
}
