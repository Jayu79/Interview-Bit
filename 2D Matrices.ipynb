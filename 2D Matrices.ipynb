{
 "cells": [
  {
   "cell_type": "code",
   "execution_count": null,
   "id": "e3c60205",
   "metadata": {},
   "outputs": [],
   "source": [
    "#column sum\n",
    "list_a = [[1,2,3,4],\n",
    "         [5,6,7,8],\n",
    "         [9,2,3,4]]\n",
    "ans = []\n",
    "for i in range(0,len(list_a[1])):\n",
    "    count = 0\n",
    "    for j in range(0,len(list_a)):\n",
    "        print(list_a[j][i])\n",
    "        count = count + list_a[j][i]\n",
    "    ans.append(count)\n",
    "print(ans)"
   ]
  },
  {
   "cell_type": "code",
   "execution_count": null,
   "id": "130c36b1",
   "metadata": {},
   "outputs": [],
   "source": [
    "#Matrix Addition\n",
    "A = [[1, 2, 3],\n",
    "     [4, 5, 6],\n",
    "     [7, 8, 9]]\n",
    "\n",
    "B = [[9, 8, 7],\n",
    "     [6, 5, 4],\n",
    "     [3, 2, 1]]\n",
    "\n",
    "C = A\n",
    "\n",
    "for i in range(len(A)):\n",
    "    for j in range(len(A[0])):\n",
    "        print(i,j)\n",
    "        print(A[i][j],B[i][j])\n",
    "        C[i][j] = A[i][j] + B[i][j]\n",
    "print(C)"
   ]
  },
  {
   "cell_type": "code",
   "execution_count": null,
   "id": "16f855c6",
   "metadata": {},
   "outputs": [],
   "source": [
    "#Matrix Multiplication\n",
    "A =[[94, 91]]\n",
    "\n",
    "B =[[35, -52, -12, 26, -93, -61],[29, -20, -36, -9, 66, 15]]\n",
    "\n",
    "\n",
    "C = []\n",
    "for row in range(p):\n",
    "    curr_row = []\n",
    "    for col in range(r):\n",
    "        curr_row.append(0)\n",
    "    C.append(curr_row)\n",
    "print(C)\n",
    "\n",
    "p = len(A)\n",
    "q = len(A[0])\n",
    " \n",
    "t = len(B)\n",
    "r = len(B[0])\n",
    "\n",
    "for i in range(p):\n",
    "    for j in range(r):\n",
    "        cur_val = 0\n",
    "        for k in range(q):\n",
    "            cur_val += A[i][k]*B[k][j]\n",
    "        C[i][j] = cur_val\n",
    "print(C)"
   ]
  },
  {
   "cell_type": "code",
   "execution_count": null,
   "id": "3bbac2f6",
   "metadata": {},
   "outputs": [],
   "source": [
    "#Matrix Transpose\n",
    "A = [[1, 2, 3],[4, 5, 6],[7, 8, 9]]\n",
    "res = [[0,0,0],[0,0,0],[0,0,0]]\n",
    "# print(res[1])\n",
    "for i in range(len(A)):\n",
    "    for j in range(len(A[0])):\n",
    "        print(i,j,A[i][j],res)\n",
    "        res[j][i] = A[i][j]\n",
    "print(res)\n",
    "# print(res[2][1])"
   ]
  },
  {
   "cell_type": "code",
   "execution_count": null,
   "id": "1bb18b24",
   "metadata": {},
   "outputs": [],
   "source": [
    "M_A = []\n",
    "for i in range(3):\n",
    "    a = []\n",
    "    for j in range(3):\n",
    "        a.append(0)\n",
    "    M_A.append(a)\n",
    "print(M_A)"
   ]
  },
  {
   "cell_type": "code",
   "execution_count": null,
   "id": "572347b2",
   "metadata": {},
   "outputs": [],
   "source": [
    "A = [ [ 1, 2, 3, 4 ],\n",
    "        [ 5, 6, 7, 8 ],\n",
    "        [ 9, 10, 11, 12 ],\n",
    "        [ 13, 14, 15, 16 ] ]\n",
    "m = len(A)\n",
    "result = [[0]*m for _ in range(2*m-1)]\n",
    "for i in range(m):\n",
    "    for k in range(i+1):\n",
    "        print(\"A of\",k,\",\",i-k,\"has become result of\",i,k)\n",
    "        result[i][k] = A[k][i-k]\n",
    "for i in range(0,m-1):\n",
    "    for k in range(m-1-i):\n",
    "        print(\"A of\",i+k+1,\",\",m-1-k,\"has become result of\",m+i,k)\n",
    "        result[m+i][k] = A[i+k+1][m-1-k]\n",
    "print(result)"
   ]
  },
  {
   "cell_type": "code",
   "execution_count": null,
   "id": "93dbbe78",
   "metadata": {},
   "outputs": [],
   "source": [
    "#Check Paliandrome\n",
    "def pal(A,start,end):\n",
    "    if(start>=end):\n",
    "        return 1\n",
    "    if(A[start]==A[end] and pal(A,start+1,end-1)):\n",
    "        return 1\n",
    "    else:\n",
    "        return 0\n",
    "A = 'abcba'\n",
    "end = len(A) - 1\n",
    "start = 0 \n",
    "print(pal(A,start,end))"
   ]
  },
  {
   "cell_type": "code",
   "execution_count": null,
   "id": "838dce67",
   "metadata": {},
   "outputs": [],
   "source": [
    "#power function\n",
    "def power(A,B,C):\n",
    "    if(A==0):\n",
    "        return 0\n",
    "    if(B==0):\n",
    "        return 1\n",
    "    P = power(A,B/2,C)\n",
    "    if(B%2 == 0):\n",
    "        return ((P%C)*(P%C))%C\n",
    "    else:\n",
    "        return (A*((P*P)))%C\n",
    "\n",
    "A = 71045970\n",
    "B = 41535484\n",
    "C = 64735492\n",
    "power(A,B,C)"
   ]
  },
  {
   "cell_type": "code",
   "execution_count": null,
   "id": "d57ed52b",
   "metadata": {},
   "outputs": [],
   "source": [
    "#Spiral order matrix \n",
    "A = 4\n",
    "matrix = [[0]*A for _ in range(A)]\n",
    "# print(matrix)\n",
    "val = 1\n",
    "for layer in range((A+1)//2):\n",
    "    for right in range(layer,A-layer):\n",
    "        matrix[layer][right] = val\n",
    "        val += 1\n",
    "    for down in range(layer+1,A-layer):\n",
    "        matrix[down][A-layer-1] = val\n",
    "        val += 1\n",
    "    for left in range(layer+1,A-layer):\n",
    "        matrix[A-layer-1][A-left-1] = val\n",
    "        val += 1\n",
    "    for up in range(layer+1,A-layer-1):\n",
    "        matrix[A-up-1][layer] = val\n",
    "        val += 1\n",
    "print(matrix)"
   ]
  },
  {
   "cell_type": "code",
   "execution_count": null,
   "id": "864ab3b9",
   "metadata": {},
   "outputs": [],
   "source": [
    "#Minor Diagnol Sum\n",
    "# A = [[1, -2, -3],[-4, 5, -6],[-7, -8, 9]]\n",
    "A = [[3, 2],[2, 3]]\n",
    "ans = 0\n",
    "x = len(A)+1\n",
    "# print(x,len(A),len(A[0]))\n",
    "for i in range(1,len(A)+1):\n",
    "    for j in range(1,len(A[0])+1):\n",
    "        if(i+j==x):\n",
    "            print(i,j,A[i-1][j-1])\n",
    "            ans += A[i-1][j-1]\n",
    "print(ans)"
   ]
  },
  {
   "cell_type": "code",
   "execution_count": null,
   "id": "2bdd4c04",
   "metadata": {},
   "outputs": [],
   "source": [
    "#Main Diagnol Sum\n",
    "A = [[1, -2, -3],[-4, 5, -6],[-7, -8, 9]]\n",
    "ans = 0\n",
    "for i in range(len(A)):\n",
    "    ans += A[i][i]\n",
    "print(ans)"
   ]
  },
  {
   "cell_type": "code",
   "execution_count": null,
   "id": "97cbe33f",
   "metadata": {},
   "outputs": [],
   "source": [
    "#Are Matrices Same\n",
    "A = [[1, 2, 3],[4, 5, 6],[7, 8, 9]]\n",
    "B = [[1, 2, 3],[7, 5, 6],[7, 8, 9]]\n",
    "print(A==B)"
   ]
  },
  {
   "cell_type": "code",
   "execution_count": null,
   "id": "3358babc",
   "metadata": {},
   "outputs": [],
   "source": [
    "#Row Sum\n",
    "A = [[1,2,3,4],\n",
    "[5,6,7,8],\n",
    "[9,2,3,4]]\n",
    "ans = []\n",
    "for i in range(len(A)):\n",
    "    k = 0\n",
    "    for j in range(len(A[0])):\n",
    "        k = k + A[i][j]\n",
    "    ans.append(k)\n",
    "print(ans)"
   ]
  },
  {
   "cell_type": "code",
   "execution_count": null,
   "id": "c670d103",
   "metadata": {},
   "outputs": [],
   "source": [
    "#Matrix scaler product\n",
    "A = [[1, 2, 3],[4, 5, 6],[7, 8, 9]]\n",
    "B = 2\n",
    "for i in range(len(A)):\n",
    "    for j in range(len(A[0])):\n",
    "        A[i][j] = A[i][j]*2\n",
    "print(A)"
   ]
  },
  {
   "cell_type": "code",
   "execution_count": 18,
   "id": "b7802f9a",
   "metadata": {},
   "outputs": [
    {
     "name": "stdout",
     "output_type": "stream",
     "text": [
      "10 10\n",
      "[[0, 7], [5, 0]]\n",
      "[[0, 0, 0, 0, 0, 0, 0, 0, 0, 0], [0, 14, 75, 54, 11, 0, 54, 95, 33, 23], [0, 11, 2, 80, 6, 0, 67, 82, 73, 4], [0, 22, 23, 68, 23, 0, 85, 91, 25, 7], [0, 83, 22, 81, 89, 0, 56, 43, 32, 89], [0, 6, 1, 69, 86, 0, 64, 5, 90, 37], [0, 3, 11, 33, 71, 0, 6, 56, 78, 31], [0, 0, 0, 0, 0, 0, 0, 0, 0, 0], [0, 18, 65, 68, 87, 0, 28, 52, 9, 70], [0, 19, 73, 5, 52, 0, 91, 10, 52, 21]]\n"
     ]
    }
   ],
   "source": [
    "#Row to column zero\n",
    "A = [\n",
    "  [97, 18, 55, 1, 50, 17, 16, 0, 22, 14],\n",
    "  [58, 14, 75, 54, 11, 23, 54, 95, 33, 23],\n",
    "  [73, 11, 2, 80, 6, 43, 67, 82, 73, 4],\n",
    "  [61, 22, 23, 68, 23, 73, 85, 91, 25, 7],\n",
    "  [6, 83, 22, 81, 89, 85, 56, 43, 32, 89],\n",
    "  [0, 6, 1, 69, 86, 7, 64, 5, 90, 37],\n",
    "  [10, 3, 11, 33, 71, 86, 6, 56, 78, 31],\n",
    "  [16, 36, 66, 90, 17, 55, 27, 26, 99, 59],\n",
    "  [67, 18, 65, 68, 87, 3, 28, 52, 9, 70],\n",
    "  [41, 19, 73, 5, 52, 96, 91, 10, 52, 21]\n",
    "]\n",
    "B = []\n",
    "print(len(A),len(A[0]))\n",
    "for i in range(len(A)):\n",
    "    for j in range(len(A[0])):\n",
    "#         print(i,j,B[i][j])\n",
    "         if(A[i][j]==0):\n",
    "            B.append([i,j])\n",
    "# #             print(A[i][j],B[i][j])\n",
    "#             for l in range(len(A)):\n",
    "#                 A[l][j] = 0\n",
    "#             for m in range(len(A[0])):\n",
    "# #                 print(\"inside m\",i,l)\n",
    "#                 A[i][m] = 0\n",
    "print(B)\n",
    "for k in range(len(B)):\n",
    "    for m in range(len(A[0])):\n",
    "#         print(B,B[0][k],m)\n",
    "        A[B[k][0]][m] = 0\n",
    "    for n in range(len(A)):\n",
    "        A[n][B[k][1]] = 0\n",
    "print(A)"
   ]
  },
  {
   "cell_type": "code",
   "execution_count": 19,
   "id": "166b2677",
   "metadata": {},
   "outputs": [
    {
     "name": "stdout",
     "output_type": "stream",
     "text": [
      "[[9, 12, 15], [24, 33, 42], [39, 54, 69]]\n"
     ]
    }
   ],
   "source": [
    "# Matrix Multiplication\n",
    "\n",
    "mat1 = [[1,2],\n",
    "        [4,5],\n",
    "        [7,8]]\n",
    "\n",
    "mat2 = [[1,2,3],\n",
    "        [4,5,6]]\n",
    "\n",
    "\n",
    "rows = len(mat1)\n",
    "cols = len(mat2[0])\n",
    "\n",
    "# print(rows,cols)\n",
    "\n",
    "res = [[0 for i in range(rows)]for j in range(cols)]\n",
    "\n",
    "\n",
    "for i in range(rows):\n",
    "    for j in range(cols):\n",
    "        summ = 0\n",
    "        for k in range(len(mat2)):\n",
    "            summ += mat1[i][k]*mat2[k][j]\n",
    "#             print(mat1[i][k],' ',mat2[k][j],' ',summ)\n",
    "        res[i][j] = summ\n",
    "\n",
    "print(res)"
   ]
  },
  {
   "cell_type": "code",
   "execution_count": 52,
   "id": "81c3e9bb",
   "metadata": {},
   "outputs": [
    {
     "name": "stdout",
     "output_type": "stream",
     "text": [
      "0 2 0 3\n",
      "1 1 1 2\n",
      "[1, 2, 3, 4, 8, 12, 11, 10, 9, 5, 6, 7]\n"
     ]
    }
   ],
   "source": [
    "# Spiral Matrix\n",
    "\n",
    "# matrix = [[1,2,3],[4,5,6],[7,8,9]]\n",
    "matrix = [[1,2,3,4],[5,6,7,8],[9,10,11,12]]\n",
    "# matrix = [[2,3,4],[5,6,7],[8,9,10],[11,12,13],[14,15,16]]\n",
    "\n",
    "# left = cs, right = ce, bottom = re, top = rs\n",
    "\n",
    "rs = 0\n",
    "cs = 0\n",
    "re = len(matrix)-1\n",
    "ce = len(matrix[0])-1\n",
    "ans= []\n",
    "\n",
    "while(rs<=re and cs<=ce):\n",
    "    \n",
    "    if(rs==re==cs==ce):\n",
    "        ans.append(matrix[rs][cs])\n",
    "        break\n",
    "    \n",
    "    for i in range(cs,ce+1):\n",
    "        ans.append(matrix[rs][i])\n",
    "    rs += 1\n",
    "    \n",
    "    for i in range(rs,re+1):\n",
    "        ans.append(matrix[i][ce])\n",
    "    ce -= 1\n",
    "    \n",
    "    if(rs<=re):\n",
    "        for i in range(ce,cs-1,-1):\n",
    "            ans.append(matrix[re][i])\n",
    "        re -= 1\n",
    "    \n",
    "    if(cs<=ce):\n",
    "        for i in range(re,rs-1,-1):\n",
    "            ans.append(matrix[i][cs])\n",
    "        cs += 1\n",
    "\n",
    "print(ans)"
   ]
  },
  {
   "cell_type": "code",
   "execution_count": 51,
   "id": "69ce2e2c",
   "metadata": {},
   "outputs": [
    {
     "name": "stdout",
     "output_type": "stream",
     "text": [
      "[1, 2, 3, 4]\n",
      "[5, 6, 7, 8]\n",
      "[9, 10, 11, 12]\n"
     ]
    }
   ],
   "source": [
    "for line in matrix:\n",
    "    print(line)"
   ]
  },
  {
   "cell_type": "code",
   "execution_count": null,
   "id": "b7a244b2",
   "metadata": {},
   "outputs": [],
   "source": []
  }
 ],
 "metadata": {
  "kernelspec": {
   "display_name": "Python 3 (ipykernel)",
   "language": "python",
   "name": "python3"
  },
  "language_info": {
   "codemirror_mode": {
    "name": "ipython",
    "version": 3
   },
   "file_extension": ".py",
   "mimetype": "text/x-python",
   "name": "python",
   "nbconvert_exporter": "python",
   "pygments_lexer": "ipython3",
   "version": "3.9.7"
  }
 },
 "nbformat": 4,
 "nbformat_minor": 5
}
