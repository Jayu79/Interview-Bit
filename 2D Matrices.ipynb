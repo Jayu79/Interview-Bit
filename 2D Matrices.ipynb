{
 "cells": [
  {
   "cell_type": "code",
   "execution_count": null,
   "id": "e3c60205",
   "metadata": {},
   "outputs": [],
   "source": [
    "#column sum\n",
    "list_a = [[1,2,3,4],\n",
    "         [5,6,7,8],\n",
    "         [9,2,3,4]]\n",
    "ans = []\n",
    "for i in range(0,len(list_a[1])):\n",
    "    count = 0\n",
    "    for j in range(0,len(list_a)):\n",
    "        print(list_a[j][i])\n",
    "        count = count + list_a[j][i]\n",
    "    ans.append(count)\n",
    "print(ans)"
   ]
  },
  {
   "cell_type": "code",
   "execution_count": null,
   "id": "130c36b1",
   "metadata": {},
   "outputs": [],
   "source": [
    "#Matrix Addition\n",
    "A = [[1, 2, 3],\n",
    "     [4, 5, 6],\n",
    "     [7, 8, 9]]\n",
    "\n",
    "B = [[9, 8, 7],\n",
    "     [6, 5, 4],\n",
    "     [3, 2, 1]]\n",
    "\n",
    "C = A\n",
    "\n",
    "for i in range(len(A)):\n",
    "    for j in range(len(A[0])):\n",
    "        print(i,j)\n",
    "        print(A[i][j],B[i][j])\n",
    "        C[i][j] = A[i][j] + B[i][j]\n",
    "print(C)"
   ]
  },
  {
   "cell_type": "code",
   "execution_count": null,
   "id": "16f855c6",
   "metadata": {},
   "outputs": [],
   "source": [
    "#Matrix Multiplication\n",
    "A =[[94, 91]]\n",
    "\n",
    "B =[[35, -52, -12, 26, -93, -61],[29, -20, -36, -9, 66, 15]]\n",
    "\n",
    "\n",
    "C = []\n",
    "for row in range(p):\n",
    "    curr_row = []\n",
    "    for col in range(r):\n",
    "        curr_row.append(0)\n",
    "    C.append(curr_row)\n",
    "print(C)\n",
    "\n",
    "p = len(A)\n",
    "q = len(A[0])\n",
    " \n",
    "t = len(B)\n",
    "r = len(B[0])\n",
    "\n",
    "for i in range(p):\n",
    "    for j in range(r):\n",
    "        cur_val = 0\n",
    "        for k in range(q):\n",
    "            cur_val += A[i][k]*B[k][j]\n",
    "        C[i][j] = cur_val\n",
    "print(C)"
   ]
  },
  {
   "cell_type": "code",
   "execution_count": null,
   "id": "3bbac2f6",
   "metadata": {},
   "outputs": [],
   "source": [
    "#Matrix Transpose\n",
    "A = [[1, 2, 3],[4, 5, 6],[7, 8, 9]]\n",
    "res = [[0,0,0],[0,0,0],[0,0,0]]\n",
    "# print(res[1])\n",
    "for i in range(len(A)):\n",
    "    for j in range(len(A[0])):\n",
    "        print(i,j,A[i][j],res)\n",
    "        res[j][i] = A[i][j]\n",
    "print(res)\n",
    "# print(res[2][1])"
   ]
  },
  {
   "cell_type": "code",
   "execution_count": 5,
   "id": "85ed9293",
   "metadata": {},
   "outputs": [
    {
     "name": "stdout",
     "output_type": "stream",
     "text": [
      "[[0, 0, 0], [0, 0, 0], [0, 0, 0]]\n"
     ]
    }
   ],
   "source": [
    "M_A = []\n",
    "for i in range(3):\n",
    "    a = []\n",
    "    for j in range(3):\n",
    "        a.append(0)\n",
    "    M_A.append(a)\n",
    "print(M_A)"
   ]
  },
  {
   "cell_type": "code",
   "execution_count": 29,
   "id": "7f2a3a34",
   "metadata": {},
   "outputs": [
    {
     "name": "stdout",
     "output_type": "stream",
     "text": [
      "A of 0 , 0 has become result of 0 0\n",
      "A of 0 , 1 has become result of 1 0\n",
      "A of 1 , 0 has become result of 1 1\n",
      "A of 0 , 2 has become result of 2 0\n",
      "A of 1 , 1 has become result of 2 1\n",
      "A of 2 , 0 has become result of 2 2\n",
      "A of 0 , 3 has become result of 3 0\n",
      "A of 1 , 2 has become result of 3 1\n",
      "A of 2 , 1 has become result of 3 2\n",
      "A of 3 , 0 has become result of 3 3\n",
      "A of 1 , 3 has become result of 4 0\n",
      "A of 2 , 2 has become result of 4 1\n",
      "A of 3 , 1 has become result of 4 2\n",
      "A of 2 , 3 has become result of 5 0\n",
      "A of 3 , 2 has become result of 5 1\n",
      "A of 3 , 3 has become result of 6 0\n",
      "[[1, 0, 0, 0], [2, 5, 0, 0], [3, 6, 9, 0], [4, 7, 10, 13], [8, 11, 14, 0], [12, 15, 0, 0], [16, 0, 0, 0]]\n"
     ]
    }
   ],
   "source": [
    "A = [ [ 1, 2, 3, 4 ],\n",
    "        [ 5, 6, 7, 8 ],\n",
    "        [ 9, 10, 11, 12 ],\n",
    "        [ 13, 14, 15, 16 ] ]\n",
    "m = len(A)\n",
    "result = [[0]*m for _ in range(2*m-1)]\n",
    "for i in range(m):\n",
    "    for k in range(i+1):\n",
    "        print(\"A of\",k,\",\",i-k,\"has become result of\",i,k)\n",
    "        result[i][k] = A[k][i-k]\n",
    "for i in range(0,m-1):\n",
    "    for k in range(m-1-i):\n",
    "        print(\"A of\",i+k+1,\",\",m-1-k,\"has become result of\",m+i,k)\n",
    "        result[m+i][k] = A[i+k+1][m-1-k]\n",
    "print(result)"
   ]
  },
  {
   "cell_type": "code",
   "execution_count": null,
   "id": "bbd85929",
   "metadata": {},
   "outputs": [],
   "source": []
  }
 ],
 "metadata": {
  "kernelspec": {
   "display_name": "Python 3 (ipykernel)",
   "language": "python",
   "name": "python3"
  },
  "language_info": {
   "codemirror_mode": {
    "name": "ipython",
    "version": 3
   },
   "file_extension": ".py",
   "mimetype": "text/x-python",
   "name": "python",
   "nbconvert_exporter": "python",
   "pygments_lexer": "ipython3",
   "version": "3.9.7"
  }
 },
 "nbformat": 4,
 "nbformat_minor": 5
}
