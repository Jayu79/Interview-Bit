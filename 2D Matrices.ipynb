{
 "cells": [
  {
   "cell_type": "code",
   "execution_count": 11,
   "id": "2da7af94",
   "metadata": {},
   "outputs": [
    {
     "name": "stdout",
     "output_type": "stream",
     "text": [
      "1\n",
      "5\n",
      "9\n",
      "2\n",
      "6\n",
      "2\n",
      "3\n",
      "7\n",
      "3\n",
      "4\n",
      "8\n",
      "4\n",
      "[15, 10, 13, 16]\n"
     ]
    }
   ],
   "source": [
    "#column sum\n",
    "list_a = [[1,2,3,4],\n",
    "         [5,6,7,8],\n",
    "         [9,2,3,4]]\n",
    "ans = []\n",
    "for i in range(0,len(list_a[1])):\n",
    "    count = 0\n",
    "    for j in range(0,len(list_a)):\n",
    "        print(list_a[j][i])\n",
    "        count = count + list_a[j][i]\n",
    "    ans.append(count)\n",
    "print(ans)"
   ]
  },
  {
   "cell_type": "code",
   "execution_count": null,
   "id": "1c7f316b",
   "metadata": {},
   "outputs": [],
   "source": []
  }
 ],
 "metadata": {
  "kernelspec": {
   "display_name": "Python 3 (ipykernel)",
   "language": "python",
   "name": "python3"
  },
  "language_info": {
   "codemirror_mode": {
    "name": "ipython",
    "version": 3
   },
   "file_extension": ".py",
   "mimetype": "text/x-python",
   "name": "python",
   "nbconvert_exporter": "python",
   "pygments_lexer": "ipython3",
   "version": "3.9.7"
  }
 },
 "nbformat": 4,
 "nbformat_minor": 5
}
