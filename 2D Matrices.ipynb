{
 "cells": [
  {
   "cell_type": "code",
   "execution_count": 11,
   "id": "e3c60205",
   "metadata": {},
   "outputs": [
    {
     "name": "stdout",
     "output_type": "stream",
     "text": [
      "1\n",
      "5\n",
      "9\n",
      "2\n",
      "6\n",
      "2\n",
      "3\n",
      "7\n",
      "3\n",
      "4\n",
      "8\n",
      "4\n",
      "[15, 10, 13, 16]\n"
     ]
    }
   ],
   "source": [
    "#column sum\n",
    "list_a = [[1,2,3,4],\n",
    "         [5,6,7,8],\n",
    "         [9,2,3,4]]\n",
    "ans = []\n",
    "for i in range(0,len(list_a[1])):\n",
    "    count = 0\n",
    "    for j in range(0,len(list_a)):\n",
    "        print(list_a[j][i])\n",
    "        count = count + list_a[j][i]\n",
    "    ans.append(count)\n",
    "print(ans)"
   ]
  },
  {
   "cell_type": "code",
   "execution_count": 7,
   "id": "130c36b1",
   "metadata": {},
   "outputs": [
    {
     "name": "stdout",
     "output_type": "stream",
     "text": [
      "0 0\n",
      "1 9\n",
      "0 1\n",
      "2 8\n",
      "0 2\n",
      "3 7\n",
      "1 0\n",
      "4 6\n",
      "1 1\n",
      "5 5\n",
      "1 2\n",
      "6 4\n",
      "2 0\n",
      "7 3\n",
      "2 1\n",
      "8 2\n",
      "2 2\n",
      "9 1\n",
      "[[10, 10, 10], [10, 10, 10], [10, 10, 10]]\n"
     ]
    }
   ],
   "source": [
    "#Matrix Addition\n",
    "A = [[1, 2, 3],\n",
    "     [4, 5, 6],\n",
    "     [7, 8, 9]]\n",
    "\n",
    "B = [[9, 8, 7],\n",
    "     [6, 5, 4],\n",
    "     [3, 2, 1]]\n",
    "\n",
    "C = A\n",
    "\n",
    "for i in range(len(A)):\n",
    "    for j in range(len(A[0])):\n",
    "        print(i,j)\n",
    "        print(A[i][j],B[i][j])\n",
    "        C[i][j] = A[i][j] + B[i][j]\n",
    "print(C)"
   ]
  },
  {
   "cell_type": "code",
   "execution_count": null,
   "id": "16f855c6",
   "metadata": {},
   "outputs": [],
   "source": []
  }
 ],
 "metadata": {
  "kernelspec": {
   "display_name": "Python 3 (ipykernel)",
   "language": "python",
   "name": "python3"
  },
  "language_info": {
   "codemirror_mode": {
    "name": "ipython",
    "version": 3
   },
   "file_extension": ".py",
   "mimetype": "text/x-python",
   "name": "python",
   "nbconvert_exporter": "python",
   "pygments_lexer": "ipython3",
   "version": "3.9.7"
  }
 },
 "nbformat": 4,
 "nbformat_minor": 5
}
