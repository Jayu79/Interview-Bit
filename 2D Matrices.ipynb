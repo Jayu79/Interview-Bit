{
 "cells": [
  {
   "cell_type": "code",
   "execution_count": null,
   "id": "e3c60205",
   "metadata": {},
   "outputs": [],
   "source": [
    "#column sum\n",
    "list_a = [[1,2,3,4],\n",
    "         [5,6,7,8],\n",
    "         [9,2,3,4]]\n",
    "ans = []\n",
    "for i in range(0,len(list_a[1])):\n",
    "    count = 0\n",
    "    for j in range(0,len(list_a)):\n",
    "        print(list_a[j][i])\n",
    "        count = count + list_a[j][i]\n",
    "    ans.append(count)\n",
    "print(ans)"
   ]
  },
  {
   "cell_type": "code",
   "execution_count": null,
   "id": "130c36b1",
   "metadata": {},
   "outputs": [],
   "source": [
    "#Matrix Addition\n",
    "A = [[1, 2, 3],\n",
    "     [4, 5, 6],\n",
    "     [7, 8, 9]]\n",
    "\n",
    "B = [[9, 8, 7],\n",
    "     [6, 5, 4],\n",
    "     [3, 2, 1]]\n",
    "\n",
    "C = A\n",
    "\n",
    "for i in range(len(A)):\n",
    "    for j in range(len(A[0])):\n",
    "        print(i,j)\n",
    "        print(A[i][j],B[i][j])\n",
    "        C[i][j] = A[i][j] + B[i][j]\n",
    "print(C)"
   ]
  },
  {
   "cell_type": "code",
   "execution_count": null,
   "id": "16f855c6",
   "metadata": {},
   "outputs": [],
   "source": [
    "#Matrix Multiplication\n",
    "A =[[94, 91]]\n",
    "\n",
    "B =[[35, -52, -12, 26, -93, -61],[29, -20, -36, -9, 66, 15]]\n",
    "\n",
    "\n",
    "C = []\n",
    "for row in range(p):\n",
    "    curr_row = []\n",
    "    for col in range(r):\n",
    "        curr_row.append(0)\n",
    "    C.append(curr_row)\n",
    "print(C)\n",
    "\n",
    "p = len(A)\n",
    "q = len(A[0])\n",
    " \n",
    "t = len(B)\n",
    "r = len(B[0])\n",
    "\n",
    "for i in range(p):\n",
    "    for j in range(r):\n",
    "        cur_val = 0\n",
    "        for k in range(q):\n",
    "            cur_val += A[i][k]*B[k][j]\n",
    "        C[i][j] = cur_val\n",
    "print(C)"
   ]
  },
  {
   "cell_type": "code",
   "execution_count": null,
   "id": "3bbac2f6",
   "metadata": {},
   "outputs": [],
   "source": [
    "#Matrix Transpose\n",
    "A = [[1, 2, 3],[4, 5, 6],[7, 8, 9]]\n",
    "res = [[0,0,0],[0,0,0],[0,0,0]]\n",
    "# print(res[1])\n",
    "for i in range(len(A)):\n",
    "    for j in range(len(A[0])):\n",
    "        print(i,j,A[i][j],res)\n",
    "        res[j][i] = A[i][j]\n",
    "print(res)\n",
    "# print(res[2][1])"
   ]
  },
  {
   "cell_type": "code",
   "execution_count": 5,
   "id": "1bb18b24",
   "metadata": {},
   "outputs": [
    {
     "name": "stdout",
     "output_type": "stream",
     "text": [
      "[[0, 0, 0], [0, 0, 0], [0, 0, 0]]\n"
     ]
    }
   ],
   "source": [
    "M_A = []\n",
    "for i in range(3):\n",
    "    a = []\n",
    "    for j in range(3):\n",
    "        a.append(0)\n",
    "    M_A.append(a)\n",
    "print(M_A)"
   ]
  },
  {
   "cell_type": "code",
   "execution_count": 29,
   "id": "572347b2",
   "metadata": {},
   "outputs": [
    {
     "name": "stdout",
     "output_type": "stream",
     "text": [
      "A of 0 , 0 has become result of 0 0\n",
      "A of 0 , 1 has become result of 1 0\n",
      "A of 1 , 0 has become result of 1 1\n",
      "A of 0 , 2 has become result of 2 0\n",
      "A of 1 , 1 has become result of 2 1\n",
      "A of 2 , 0 has become result of 2 2\n",
      "A of 0 , 3 has become result of 3 0\n",
      "A of 1 , 2 has become result of 3 1\n",
      "A of 2 , 1 has become result of 3 2\n",
      "A of 3 , 0 has become result of 3 3\n",
      "A of 1 , 3 has become result of 4 0\n",
      "A of 2 , 2 has become result of 4 1\n",
      "A of 3 , 1 has become result of 4 2\n",
      "A of 2 , 3 has become result of 5 0\n",
      "A of 3 , 2 has become result of 5 1\n",
      "A of 3 , 3 has become result of 6 0\n",
      "[[1, 0, 0, 0], [2, 5, 0, 0], [3, 6, 9, 0], [4, 7, 10, 13], [8, 11, 14, 0], [12, 15, 0, 0], [16, 0, 0, 0]]\n"
     ]
    }
   ],
   "source": [
    "A = [ [ 1, 2, 3, 4 ],\n",
    "        [ 5, 6, 7, 8 ],\n",
    "        [ 9, 10, 11, 12 ],\n",
    "        [ 13, 14, 15, 16 ] ]\n",
    "m = len(A)\n",
    "result = [[0]*m for _ in range(2*m-1)]\n",
    "for i in range(m):\n",
    "    for k in range(i+1):\n",
    "        print(\"A of\",k,\",\",i-k,\"has become result of\",i,k)\n",
    "        result[i][k] = A[k][i-k]\n",
    "for i in range(0,m-1):\n",
    "    for k in range(m-1-i):\n",
    "        print(\"A of\",i+k+1,\",\",m-1-k,\"has become result of\",m+i,k)\n",
    "        result[m+i][k] = A[i+k+1][m-1-k]\n",
    "print(result)"
   ]
  },
  {
   "cell_type": "code",
   "execution_count": 31,
   "id": "93dbbe78",
   "metadata": {},
   "outputs": [
    {
     "name": "stdout",
     "output_type": "stream",
     "text": [
      "1\n"
     ]
    }
   ],
   "source": [
    "#Check Paliandrome\n",
    "def pal(A,start,end):\n",
    "    if(start>=end):\n",
    "        return 1\n",
    "    if(A[start]==A[end] and pal(A,start+1,end-1)):\n",
    "        return 1\n",
    "    else:\n",
    "        return 0\n",
    "A = 'abcba'\n",
    "end = len(A) - 1\n",
    "start = 0 \n",
    "print(pal(A,start,end))"
   ]
  },
  {
   "cell_type": "code",
   "execution_count": 42,
   "id": "838dce67",
   "metadata": {},
   "outputs": [
    {
     "data": {
      "text/plain": [
       "12250128"
      ]
     },
     "execution_count": 42,
     "metadata": {},
     "output_type": "execute_result"
    }
   ],
   "source": [
    "#power function\n",
    "def power(A,B,C):\n",
    "    if(A==0):\n",
    "        return 0\n",
    "    if(B==0):\n",
    "        return 1\n",
    "    P = power(A,B/2,C)\n",
    "    if(B%2 == 0):\n",
    "        return ((P%C)*(P%C))%C\n",
    "    else:\n",
    "        return (A*((P*P)))%C\n",
    "\n",
    "A = 71045970\n",
    "B = 41535484\n",
    "C = 64735492\n",
    "power(A,B,C)"
   ]
  },
  {
   "cell_type": "code",
   "execution_count": 48,
   "id": "d57ed52b",
   "metadata": {},
   "outputs": [
    {
     "name": "stdout",
     "output_type": "stream",
     "text": [
      "[[1, 2, 3, 4], [12, 13, 14, 5], [11, 16, 15, 6], [10, 9, 8, 7]]\n"
     ]
    }
   ],
   "source": [
    "#Spiral order matrix \n",
    "A = 4\n",
    "matrix = [[0]*A for _ in range(A)]\n",
    "# print(matrix)\n",
    "val = 1\n",
    "for layer in range((A+1)//2):\n",
    "    for right in range(layer,A-layer):\n",
    "        matrix[layer][right] = val\n",
    "        val += 1\n",
    "    for down in range(layer+1,A-layer):\n",
    "        matrix[down][A-layer-1] = val\n",
    "        val += 1\n",
    "    for left in range(layer+1,A-layer):\n",
    "        matrix[A-layer-1][A-left-1] = val\n",
    "        val += 1\n",
    "    for up in range(layer+1,A-layer-1):\n",
    "        matrix[A-up-1][layer] = val\n",
    "        val += 1\n",
    "print(matrix)"
   ]
  },
  {
   "cell_type": "code",
   "execution_count": 10,
   "id": "864ab3b9",
   "metadata": {},
   "outputs": [
    {
     "name": "stdout",
     "output_type": "stream",
     "text": [
      "3 2 2\n",
      "1 2 2\n",
      "2 1 2\n",
      "4\n"
     ]
    }
   ],
   "source": [
    "#Minor Diagnol Sum\n",
    "# A = [[1, -2, -3],[-4, 5, -6],[-7, -8, 9]]\n",
    "A = [[3, 2],[2, 3]]\n",
    "ans = 0\n",
    "x = len(A)+1\n",
    "# print(x,len(A),len(A[0]))\n",
    "for i in range(1,len(A)+1):\n",
    "    for j in range(1,len(A[0])+1):\n",
    "        if(i+j==x):\n",
    "            print(i,j,A[i-1][j-1])\n",
    "            ans += A[i-1][j-1]\n",
    "print(ans)"
   ]
  },
  {
   "cell_type": "code",
   "execution_count": null,
   "id": "1b21a917",
   "metadata": {},
   "outputs": [],
   "source": []
  }
 ],
 "metadata": {
  "kernelspec": {
   "display_name": "Python 3 (ipykernel)",
   "language": "python",
   "name": "python3"
  },
  "language_info": {
   "codemirror_mode": {
    "name": "ipython",
    "version": 3
   },
   "file_extension": ".py",
   "mimetype": "text/x-python",
   "name": "python",
   "nbconvert_exporter": "python",
   "pygments_lexer": "ipython3",
   "version": "3.9.7"
  }
 },
 "nbformat": 4,
 "nbformat_minor": 5
}
