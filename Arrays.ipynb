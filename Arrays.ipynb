{
 "cells": [
  {
   "cell_type": "code",
   "execution_count": 2,
   "id": "479bae55",
   "metadata": {},
   "outputs": [
    {
     "name": "stdout",
     "output_type": "stream",
     "text": [
      "6\n"
     ]
    }
   ],
   "source": [
    "#Max Sum Contiguous Subarray\n",
    "A = [-2, 1, -3, 4, -1, 2, 1, -5, 4]\n",
    "S = 0\n",
    "ans = float('-inf')\n",
    "for i in range(len(A)):\n",
    "    S = S + A[i]\n",
    "    ans = max(ans,S)\n",
    "    if(S<0):\n",
    "        S = 0\n",
    "print(ans)"
   ]
  },
  {
   "cell_type": "code",
   "execution_count": 3,
   "id": "744920d4",
   "metadata": {},
   "outputs": [
    {
     "name": "stdout",
     "output_type": "stream",
     "text": [
      "[10, 55, 45, 25, 25]\n"
     ]
    }
   ],
   "source": [
    "#Beggars Outside Temple\n",
    "A = 5\n",
    "B = [[1, 2, 10], [2, 3, 20], [2, 5, 25]]\n",
    "ans = [0]*A\n",
    "for i in range(len(B)):\n",
    "    if(ans[B[i][0]-1]==None):\n",
    "        ans[B[i][0]-1] = B[i][2]\n",
    "    else:\n",
    "        ans[B[i][0]-1] += B[i][2]\n",
    "    if(B[i][1]<A):\n",
    "        if(ans[B[i][1]]==None):\n",
    "            ans[B[i][1]] = -B[i][2]\n",
    "        else:\n",
    "            ans[B[i][1]] -= B[i][2]\n",
    "for i in range(1,len(ans)):\n",
    "    ans[i] = ans[i-1] + ans[i]\n",
    "print(ans)"
   ]
  },
  {
   "cell_type": "code",
   "execution_count": null,
   "id": "ce0ed2fd",
   "metadata": {},
   "outputs": [],
   "source": []
  }
 ],
 "metadata": {
  "kernelspec": {
   "display_name": "Python 3 (ipykernel)",
   "language": "python",
   "name": "python3"
  },
  "language_info": {
   "codemirror_mode": {
    "name": "ipython",
    "version": 3
   },
   "file_extension": ".py",
   "mimetype": "text/x-python",
   "name": "python",
   "nbconvert_exporter": "python",
   "pygments_lexer": "ipython3",
   "version": "3.9.7"
  }
 },
 "nbformat": 4,
 "nbformat_minor": 5
}
