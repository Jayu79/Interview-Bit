{
 "cells": [
  {
   "cell_type": "code",
   "execution_count": 2,
   "id": "c996e02c",
   "metadata": {},
   "outputs": [
    {
     "name": "stdout",
     "output_type": "stream",
     "text": [
      "6\n"
     ]
    }
   ],
   "source": [
    "#Max Sum Contiguous Subarray\n",
    "A = [-2, 1, -3, 4, -1, 2, 1, -5, 4]\n",
    "S = 0\n",
    "ans = float('-inf')\n",
    "for i in range(len(A)):\n",
    "    S = S + A[i]\n",
    "    ans = max(ans,S)\n",
    "    if(S<0):\n",
    "        S = 0\n",
    "print(ans)"
   ]
  },
  {
   "cell_type": "code",
   "execution_count": 3,
   "id": "602a8065",
   "metadata": {},
   "outputs": [
    {
     "name": "stdout",
     "output_type": "stream",
     "text": [
      "[10, 55, 45, 25, 25]\n"
     ]
    }
   ],
   "source": [
    "#Beggars Outside Temple\n",
    "A = 5\n",
    "B = [[1, 2, 10], [2, 3, 20], [2, 5, 25]]\n",
    "ans = [0]*A\n",
    "for i in range(len(B)):\n",
    "    if(ans[B[i][0]-1]==None):\n",
    "        ans[B[i][0]-1] = B[i][2]\n",
    "    else:\n",
    "        ans[B[i][0]-1] += B[i][2]\n",
    "    if(B[i][1]<A):\n",
    "        if(ans[B[i][1]]==None):\n",
    "            ans[B[i][1]] = -B[i][2]\n",
    "        else:\n",
    "            ans[B[i][1]] -= B[i][2]\n",
    "for i in range(1,len(ans)):\n",
    "    ans[i] = ans[i-1] + ans[i]\n",
    "print(ans)"
   ]
  },
  {
   "cell_type": "code",
   "execution_count": 9,
   "id": "aebecb90",
   "metadata": {},
   "outputs": [
    {
     "name": "stdout",
     "output_type": "stream",
     "text": [
      "0\n"
     ]
    }
   ],
   "source": [
    "#Rain Trapped Water\n",
    "# A = [0, 1, 0, 2]\n",
    "A = [1,2]\n",
    "left = [None]*len(A)\n",
    "right = [None]*len(A)\n",
    "left[0] = A[0]\n",
    "ans = 0\n",
    "right[len(right)-1] = A[len(A)-1]\n",
    "for i in range(1,len(A)):\n",
    "    if(A[i]>left[i-1]):\n",
    "        left[i] = A[i]\n",
    "    else:\n",
    "        left[i] = left[i-1]\n",
    "for j in range(len(A)-2,-1,-1):\n",
    "    if(A[j]>right[j+1]):\n",
    "        right[j] = A[j]\n",
    "    else:\n",
    "        right[j] = right[j+1]\n",
    "for k in range(len(A)):\n",
    "    S = 0\n",
    "    num = min(left[k],right[k])\n",
    "    S = num - A[k]\n",
    "    water = max(S,0)\n",
    "    ans = ans + water\n",
    "#     print(S,ans,A[k])\n",
    "print(ans)"
   ]
  },
  {
   "cell_type": "code",
   "execution_count": 37,
   "id": "8c258b51",
   "metadata": {},
   "outputs": [
    {
     "name": "stdout",
     "output_type": "stream",
     "text": [
      "1\n",
      "[1]\n"
     ]
    }
   ],
   "source": [
    "#Add one to number\n",
    "ans = []\n",
    "num = 0\n",
    "A = [0]\n",
    "for i in range(len(A)-1,-1,-1):\n",
    "    num += A[i]*pow(10,len(A)-i-1)\n",
    "num = num + 1\n",
    "print(num)\n",
    "while(num!=0):\n",
    "    ans.append(num%10)\n",
    "    num = num // 10\n",
    "ans.reverse()\n",
    "print(ans)"
   ]
  },
  {
   "cell_type": "code",
   "execution_count": null,
   "id": "85d998e5",
   "metadata": {},
   "outputs": [],
   "source": []
  }
 ],
 "metadata": {
  "kernelspec": {
   "display_name": "Python 3 (ipykernel)",
   "language": "python",
   "name": "python3"
  },
  "language_info": {
   "codemirror_mode": {
    "name": "ipython",
    "version": 3
   },
   "file_extension": ".py",
   "mimetype": "text/x-python",
   "name": "python",
   "nbconvert_exporter": "python",
   "pygments_lexer": "ipython3",
   "version": "3.9.7"
  }
 },
 "nbformat": 4,
 "nbformat_minor": 5
}
