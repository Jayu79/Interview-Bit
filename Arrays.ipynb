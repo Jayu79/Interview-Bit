{
 "cells": [
  {
   "cell_type": "code",
   "execution_count": null,
   "id": "a15b4a33",
   "metadata": {},
   "outputs": [],
   "source": [
    "#Max Sum Contiguous Subarray\n",
    "A = [-2, 1, -3, 4, -1, 2, 1, -5, 4]\n",
    "S = 0\n",
    "ans = float('-inf')\n",
    "for i in range(len(A)):\n",
    "    S = S + A[i]\n",
    "    ans = max(ans,S)\n",
    "    if(S<0):\n",
    "        S = 0\n",
    "print(ans)"
   ]
  },
  {
   "cell_type": "code",
   "execution_count": null,
   "id": "cc840b6f",
   "metadata": {},
   "outputs": [],
   "source": [
    "#Beggars Outside Temple\n",
    "A = 5\n",
    "B = [[1, 2, 10], [2, 3, 20], [2, 5, 25]]\n",
    "ans = [0]*A\n",
    "for i in range(len(B)):\n",
    "    if(ans[B[i][0]-1]==None):\n",
    "        ans[B[i][0]-1] = B[i][2]\n",
    "    else:\n",
    "        ans[B[i][0]-1] += B[i][2]\n",
    "    if(B[i][1]<A):\n",
    "        if(ans[B[i][1]]==None):\n",
    "            ans[B[i][1]] = -B[i][2]\n",
    "        else:\n",
    "            ans[B[i][1]] -= B[i][2]\n",
    "for i in range(1,len(ans)):\n",
    "    ans[i] = ans[i-1] + ans[i]\n",
    "print(ans)"
   ]
  },
  {
   "cell_type": "code",
   "execution_count": null,
   "id": "fb5118da",
   "metadata": {},
   "outputs": [],
   "source": [
    "#Rain Trapped Water\n",
    "# A = [0, 1, 0, 2]\n",
    "A = [1,2]\n",
    "left = [None]*len(A)\n",
    "right = [None]*len(A)\n",
    "left[0] = A[0]\n",
    "ans = 0\n",
    "right[len(right)-1] = A[len(A)-1]\n",
    "for i in range(1,len(A)):\n",
    "    if(A[i]>left[i-1]):\n",
    "        left[i] = A[i]\n",
    "    else:\n",
    "        left[i] = left[i-1]\n",
    "for j in range(len(A)-2,-1,-1):\n",
    "    if(A[j]>right[j+1]):\n",
    "        right[j] = A[j]\n",
    "    else:\n",
    "        right[j] = right[j+1]\n",
    "for k in range(len(A)):\n",
    "    S = 0\n",
    "    num = min(left[k],right[k])\n",
    "    S = num - A[k]\n",
    "    water = max(S,0)\n",
    "    ans = ans + water\n",
    "#     print(S,ans,A[k])\n",
    "print(ans)"
   ]
  },
  {
   "cell_type": "code",
   "execution_count": null,
   "id": "cf538d44",
   "metadata": {},
   "outputs": [],
   "source": [
    "#Add one to number\n",
    "ans = []\n",
    "num = 0\n",
    "A = [0]\n",
    "for i in range(len(A)-1,-1,-1):\n",
    "    num += A[i]*pow(10,len(A)-i-1)\n",
    "num = num + 1\n",
    "print(num)\n",
    "while(num!=0):\n",
    "    ans.append(num%10)\n",
    "    num = num // 10\n",
    "ans.reverse()\n",
    "print(ans)"
   ]
  },
  {
   "cell_type": "code",
   "execution_count": null,
   "id": "07d6a603",
   "metadata": {},
   "outputs": [],
   "source": [
    "#Add one to number\n",
    "A= [0,0,0,1,9,9,9,9,9]\n",
    "n = len(A)\n",
    "A[n-1] = A[n-1] + 1\n",
    "carry = A[n-1]//10\n",
    "A[n-1] = A[n-1]%10\n",
    "# print(A,carry)\n",
    "for i in range(n-2,-1,-1):\n",
    "    A[i] = A[i] + carry\n",
    "    carry = A[i]//10\n",
    "    A[i] = A[i]%10\n",
    "if(carry==1):\n",
    "    A.insert(0,1)\n",
    "while(A[0]==0):\n",
    "    A.remove(0)\n",
    "# print(A,carry)"
   ]
  },
  {
   "cell_type": "code",
   "execution_count": null,
   "id": "c64e2007",
   "metadata": {},
   "outputs": [],
   "source": [
    "#Max Non Negative SubArray\n",
    "# A = [10,45,63,78,20, -1, 2, 3, -4, 100,10,20]\n",
    "A = [0,0,-1,0]\n",
    "st = -1\n",
    "en = -1\n",
    "S = 0\n",
    "max_s = -1\n",
    "m_st = -1\n",
    "m_en = -1\n",
    "for i in range(len(A)):\n",
    "    if(A[i]<0):\n",
    "        if(S>max_s):\n",
    "            m_st = st\n",
    "            m_en = en\n",
    "            max_s = S\n",
    "        st = -1\n",
    "        en = -1\n",
    "        S = 0\n",
    "    else:\n",
    "        if(st == -1):\n",
    "            st = i\n",
    "        S = S + A[i]\n",
    "        en = i\n",
    "#     print(i,A[i],S,st,en)\n",
    "if(S>max_s):\n",
    "    max_s = S\n",
    "    m_st = st\n",
    "    m_en = en\n",
    "print(max_s,m_st,m_en,A[m_st:m_en+1])\n",
    "# print(S,st,en)"
   ]
  },
  {
   "cell_type": "code",
   "execution_count": 18,
   "id": "f5fa0cff",
   "metadata": {},
   "outputs": [
    {
     "name": "stdout",
     "output_type": "stream",
     "text": [
      "3 2\n"
     ]
    }
   ],
   "source": [
    "#Flip\n",
    "# A = [0,1,1,0,0,0,0,0,0,0,1,1,1,1,1,1,1,0,0,0,0,0,0,0,1,1]\n",
    "A = [0,1,1]\n",
    "diff = -1\n",
    "max_diff = -1\n",
    "end = -1\n",
    "start = 0\n",
    "c_0 = 0\n",
    "c_1 = 0\n",
    "for i in range(len(A)):\n",
    "    if(A[i]==0):\n",
    "        c_0 += 1\n",
    "    else:\n",
    "        c_1 += 1\n",
    "    diff = c_0 - c_1\n",
    "    if(diff<0):\n",
    "        c_0 = 0\n",
    "        c_1 = 0\n",
    "#         end = i+1\n",
    "        start = i+1\n",
    "        max_diff = -1\n",
    "    if(diff==0):\n",
    "        end = i\n",
    "    if(diff>=max_diff):\n",
    "        end = i\n",
    "        max_diff = diff\n",
    "print(start,end)"
   ]
  },
  {
   "cell_type": "code",
   "execution_count": null,
   "id": "8dd0af41",
   "metadata": {},
   "outputs": [],
   "source": []
  }
 ],
 "metadata": {
  "kernelspec": {
   "display_name": "Python 3 (ipykernel)",
   "language": "python",
   "name": "python3"
  },
  "language_info": {
   "codemirror_mode": {
    "name": "ipython",
    "version": 3
   },
   "file_extension": ".py",
   "mimetype": "text/x-python",
   "name": "python",
   "nbconvert_exporter": "python",
   "pygments_lexer": "ipython3",
   "version": "3.9.7"
  }
 },
 "nbformat": 4,
 "nbformat_minor": 5
}
