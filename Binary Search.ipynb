{
 "cells": [
  {
   "cell_type": "code",
   "execution_count": 48,
   "id": "a1adc8c8",
   "metadata": {},
   "outputs": [
    {
     "data": {
      "text/plain": [
       "2"
      ]
     },
     "execution_count": 48,
     "metadata": {},
     "output_type": "execute_result"
    }
   ],
   "source": [
    "#Sorted Insert Position\n",
    "def binary_search(A,B):\n",
    "    start = 0\n",
    "    end = len(A)-1\n",
    "    if(B>A[end]):\n",
    "        return len(A)\n",
    "    while(start<=end):\n",
    "        mid = (start + end)//2\n",
    "        if(A[mid]==B):\n",
    "            return mid\n",
    "        elif(A[mid]<B):\n",
    "            start = mid+1\n",
    "        else:\n",
    "            end = mid-1\n",
    "    if(A[mid]<B):\n",
    "        return mid+1\n",
    "    else:\n",
    "        return mid\n",
    "A = [1,2,4,6,7]\n",
    "B = 3\n",
    "# A = [ 17, 30, 32, 69, 94, 96, 106, 118, 127, 159, 169, 170, 178, 183, 209, 238, 242, 247,\n",
    "#      253, 261, 265, 279, 288, 302, 305, 316, 352, 357, 374, 376, 392, 402, 410, 421, 439,\n",
    "#      442, 444, 446, 454, 458, 464, 467, 468, 498, 500, 513, 523, 541, 545, 556, 575, 608,\n",
    "#      616, 629, 631, 635, 669, 674, 682, 686, 693, 695, 719, 733, 754, 755, 756, 778, 802,\n",
    "#      822, 824, 828, 835, 847, 848, 862, 864, 878, 883, 885, 904, 908, 928, 934 ]\n",
    "# B = 106\n",
    "binary_search(A,B)"
   ]
  },
  {
   "cell_type": "code",
   "execution_count": null,
   "id": "aab82a6d",
   "metadata": {},
   "outputs": [],
   "source": [
    "#Search for range\n",
    "def start_index(A,B):\n",
    "    start = 0\n",
    "    end = len(A)-1\n",
    "    start_idx = -1\n",
    "    while(start<=end):\n",
    "        mid = (start+end)//2\n",
    "        if(A[mid]==B):\n",
    "            start_idx = mid\n",
    "            end = mid - 1\n",
    "        elif(A[mid]<B):\n",
    "            start = mid+1\n",
    "        else:\n",
    "            end = mid-1\n",
    "    return start_idx\n",
    "def end_index(A,B):\n",
    "    start = 0\n",
    "    end = len(A)-1\n",
    "    end_idx = -1\n",
    "    while(start<=end):\n",
    "        mid = (start+end)//2\n",
    "        if(A[mid]==B):\n",
    "            end_idx = mid\n",
    "            start = mid + 1\n",
    "        elif(A[mid]<B):\n",
    "            start = mid + 1\n",
    "        else:\n",
    "            end = mid - 1\n",
    "    return end_idx\n",
    "A = [5, 7, 8, 8, 8, 10]\n",
    "B = 7\n",
    "s = start_index(A,B)\n",
    "e = end_index(A,B)\n",
    "print(s,e)"
   ]
  },
  {
   "cell_type": "code",
   "execution_count": null,
   "id": "db38b49e",
   "metadata": {},
   "outputs": [],
   "source": [
    "#Matrix Search\n",
    "def column_search(A,B):\n",
    "    start = 0\n",
    "    end = len(A)-1\n",
    "    col_len = len(A[0])-1\n",
    "    if(end==0):\n",
    "        return 0\n",
    "    while(start<=end):\n",
    "        mid = (start+end)//2\n",
    "#         print(start,end,mid,A[mid][col_len],B)\n",
    "#         print()\n",
    "        if(A[mid][col_len]==B):\n",
    "            return mid\n",
    "        elif(A[mid][col_len]<B):\n",
    "            start = mid + 1\n",
    "        else:\n",
    "            end = mid - 1\n",
    "    if(mid==len(A)-1):\n",
    "        return mid\n",
    "    elif(A[mid][col_len]<B and A[mid+1][col_len]>B):\n",
    "        mid += 1\n",
    "        return mid\n",
    "    else:\n",
    "        return mid\n",
    "def row_search(A,B,col):\n",
    "    start = 0\n",
    "    end = len(A[0])-1\n",
    "    while(start<=end):\n",
    "        mid = (start+end)//2\n",
    "        if(A[col][mid]==B):\n",
    "            return mid\n",
    "        elif(A[col][mid]<B):\n",
    "            start = mid + 1\n",
    "        else:\n",
    "            end = mid - 1\n",
    "    return mid\n",
    "    \n",
    "A = [\n",
    "  [3, 4, 9, 10, 14, 17, 18, 20, 29, 32],\n",
    "  [33, 36, 38, 46, 51, 52, 56, 56, 56, 58],\n",
    "  [66, 72, 72, 76, 76, 76, 82, 85, 90, 96]\n",
    "]\n",
    "B = 56\n",
    "# A = [[22,32,67]]\n",
    "# B = 67\n",
    "col = column_search(A,B)\n",
    "print(column_search(A,B))\n",
    "row = row_search(A,B,col)\n",
    "print(row_search(A,B,col))\n",
    "print(A[col][row])"
   ]
  },
  {
   "cell_type": "code",
   "execution_count": null,
   "id": "3fc38d9b",
   "metadata": {},
   "outputs": [],
   "source": [
    "#Ceiling in a sorted array\n",
    "def ceiling(A,B):\n",
    "    start = 0\n",
    "    end = len(A)-1\n",
    "    ans = -1\n",
    "    while(start<=end):\n",
    "        mid = (start+end)//2\n",
    "        if(A[mid]==B):\n",
    "            return A[mid]\n",
    "        elif(A[mid]>B):\n",
    "            ans = A[mid]\n",
    "            end = mid - 1\n",
    "        else:\n",
    "            start = mid + 1\n",
    "    return ans\n",
    "A = [2,5,6,9,18]\n",
    "B = 22\n",
    "ceiling(A,B)"
   ]
  },
  {
   "cell_type": "code",
   "execution_count": null,
   "id": "3b1404dc",
   "metadata": {},
   "outputs": [],
   "source": [
    "#Bitonic Array\n",
    "def bitonic(A):\n",
    "    start = 0\n",
    "    end = len(A)-1\n",
    "    n = len(A)\n",
    "    while(start<=end):\n",
    "        mid = (start+end)//2\n",
    "#         print(mid,A[mid])\n",
    "        if(mid>0 and mid<n-1 and A[mid]>A[mid-1] and A[mid+1]<A[mid] ):\n",
    "            return mid\n",
    "        elif(A[mid-1]<A[mid]<A[mid+1]):\n",
    "            start = mid + 1\n",
    "        else:\n",
    "            end = mid - 1\n",
    "    return mid\n",
    "\n",
    "def left(A,B,start,end):\n",
    "    while(start<=end):\n",
    "        mid = (start+end)//2\n",
    "        if(A[mid]==B):\n",
    "            return mid\n",
    "        elif(A[mid]<B):\n",
    "            start = mid + 1\n",
    "        else:\n",
    "            end = mid - 1\n",
    "    return -1\n",
    "\n",
    "def right(A,B,start,end):\n",
    "    while(start<=end):\n",
    "        mid = (start+end)//2\n",
    "#         print(mid,A[mid])\n",
    "        if(A[mid]==B):\n",
    "            return mid\n",
    "        elif(A[mid]<B):\n",
    "            end = mid - 1\n",
    "        else:\n",
    "            start = mid + 1\n",
    "    return -1\n",
    "\n",
    "A = [ 1, 2, 3, 4, 5, 6, 7, 8, 9, 10, 20, 19, 18, 17, 16, 15, 14, 13, 12, 11 ]\n",
    "B = 3\n",
    "start = 0\n",
    "end = len(A)-1\n",
    "# A = [3, 9, 10, 20, 17, 5, 1]\n",
    "knot = bitonic(A)\n",
    "if(A[knot]==B):\n",
    "    print(knot)\n",
    "left_ans = left(A,B,start,knot)\n",
    "right_ans = right(A,B,knot+1,end)\n",
    "print(knot,left_ans,right_ans)"
   ]
  },
  {
   "cell_type": "code",
   "execution_count": null,
   "id": "862b7781",
   "metadata": {},
   "outputs": [],
   "source": [
    "#Rotated Sorted Array Search\n",
    "def pivot(A):\n",
    "    start = 0\n",
    "    end = len(A)-1\n",
    "    n = len(A)\n",
    "    while(start<=end):\n",
    "        mid = (start+end)//2\n",
    "        if(mid>0 and mid<n-1 and A[mid-1]>A[mid] and A[mid+1]>A[mid]):\n",
    "            return mid\n",
    "        elif(A[mid]>A[end]):\n",
    "            start = mid + 1\n",
    "        else:\n",
    "            end = mid - 1\n",
    "    return mid\n",
    "\n",
    "def search(A,B,start,end):\n",
    "    while(start<=end):\n",
    "        mid = (start+end)//2\n",
    "        if(A[mid]==B):\n",
    "            return mid\n",
    "        elif(A[mid]<B):\n",
    "            start = mid + 1\n",
    "        else:\n",
    "            end = mid - 1\n",
    "    return -1\n",
    "\n",
    "# A = [4,5,6,7,0,1,2,3]\n",
    "# B = 8\n",
    "A = [1,2,3,4,0]\n",
    "B = 0\n",
    "start = 0\n",
    "end = len(A)-1\n",
    "center = pivot(A)\n",
    "# print(center)\n",
    "if(B<=A[center-1] and B>=A[0] and center != 0):\n",
    "    ans = search(A,B,start,center-1)\n",
    "else:\n",
    "    ans = search(A,B,center,end)\n",
    "print(ans)"
   ]
  },
  {
   "cell_type": "code",
   "execution_count": null,
   "id": "56d37965",
   "metadata": {},
   "outputs": [],
   "source": [
    "#Square root of a Number\n",
    "def square_root(A,start,end):\n",
    "    while(start<=end):\n",
    "        mid = (start+end)//2\n",
    "#         print(start,end,mid)\n",
    "        if(mid*mid==A):\n",
    "            ans = mid\n",
    "            return ans\n",
    "        elif(mid*mid<A):\n",
    "            ans = mid\n",
    "            start = mid + 1\n",
    "        else:\n",
    "            end = mid - 1\n",
    "    return ans\n",
    "A = 16\n",
    "start = 0\n",
    "end = A\n",
    "square_root(A,start,end)"
   ]
  },
  {
   "cell_type": "code",
   "execution_count": null,
   "id": "637c892d",
   "metadata": {},
   "outputs": [],
   "source": [
    "#Special Integer\n",
    "def max_sum(A,k):\n",
    "    start = 0\n",
    "    end = k\n",
    "    max_sum = 0\n",
    "    for i in range(0,k):\n",
    "        max_sum = max_sum + A[i]\n",
    "    temp_sum = max_sum\n",
    "    while(end<len(A)):\n",
    "        temp_sum = temp_sum - A[start]\n",
    "        temp_sum = temp_sum + A[end]\n",
    "        max_sum = max(max_sum,temp_sum)\n",
    "        start += 1\n",
    "        end += 1\n",
    "    return max_sum\n",
    "# A = [7,8,9,10,3,4,5,6]\n",
    "A = [1,2,3,4,5]\n",
    "B = 19\n",
    "# A = [1,1000000000]\n",
    "# B = 10000000002\n",
    "start = 0\n",
    "end = len(A)-1\n",
    "while(start<=end):\n",
    "    mid = (start+end)//2\n",
    "#     print(start,end,mid)\n",
    "    ans_sum = max_sum(A,mid)\n",
    "    if(ans_sum<=B):\n",
    "        ans = mid\n",
    "        start = mid + 1\n",
    "    else:\n",
    "        end = mid -1\n",
    "if(B>ans_sum and ans == len(A)-1):\n",
    "    ans += 1\n",
    "print(ans,ans_sum)"
   ]
  },
  {
   "cell_type": "code",
   "execution_count": null,
   "id": "9502768f",
   "metadata": {},
   "outputs": [],
   "source": [
    "#Kth Price\n",
    "def check_price(A,m,B):\n",
    "    count = 0\n",
    "    for i in A:\n",
    "        if(i<=m):\n",
    "            count += 1\n",
    "    return True if count>= B else False\n",
    "A = [2,1,4,3,2]\n",
    "start = 0\n",
    "B = 3\n",
    "end = max(A)\n",
    "while(start<=end):\n",
    "    mid = (start+end)//2\n",
    "#     print(mid)\n",
    "    if(not check_price(A,mid,B)):\n",
    "#         print(\"inside if\",start,end,mid)\n",
    "        start = mid + 1\n",
    "    else:\n",
    "        end = mid - 1\n",
    "print(start)"
   ]
  },
  {
   "cell_type": "code",
   "execution_count": 40,
   "id": "e93d51af",
   "metadata": {},
   "outputs": [
    {
     "name": "stdout",
     "output_type": "stream",
     "text": [
      "18670\n"
     ]
    }
   ],
   "source": [
    "#Painter's Partition Problem\n",
    "def workers(C,A,B,mid):\n",
    "    S = 0\n",
    "    count = 0\n",
    "    for i in range(len(C)):\n",
    "        S = S + B*C[i]\n",
    "        if(S>mid):\n",
    "            count += 1\n",
    "            S = B*C[i]\n",
    "            if(count==A):\n",
    "                return False\n",
    "    return True\n",
    "\n",
    "# C = [1,8,11,3]\n",
    "# A = 10\n",
    "# B = 1\n",
    "A = 3\n",
    "B = 10\n",
    "C = [ 185, 186, 938, 558, 655, 461, 441, 234, 902, 681 ]\n",
    "start  = B*max(C)\n",
    "end = B*sum(C)\n",
    "ans = 0\n",
    "while(start<=end):\n",
    "    mid = (start+end)//2\n",
    "#     print(mid,start,end)\n",
    "    if(workers(C,A,B,mid)):\n",
    "        ans = mid\n",
    "        end = mid-1\n",
    "    else:\n",
    "        start = mid + 1\n",
    "print(ans)"
   ]
  },
  {
   "cell_type": "code",
   "execution_count": 39,
   "id": "5fe16fb6",
   "metadata": {},
   "outputs": [
    {
     "data": {
      "text/plain": [
       "True"
      ]
     },
     "execution_count": 39,
     "metadata": {},
     "output_type": "execute_result"
    }
   ],
   "source": [
    "def workers(C,A,B,mid):\n",
    "    S = 0\n",
    "    count = 0\n",
    "    for i in range(len(C)):\n",
    "        S = S + B*C[i]\n",
    "        if(S>mid):\n",
    "#             print(S,mid)\n",
    "            count += 1\n",
    "            S = B*C[i]\n",
    "#             print(S)\n",
    "            if(count==A):\n",
    "                return False\n",
    "    return True\n",
    "\n",
    "A = 3\n",
    "B = 10\n",
    "C = [ 185, 186, 938, 558, 655, 461, 441, 234, 902, 681 ]\n",
    "workers(C,A,B,18670)"
   ]
  },
  {
   "cell_type": "code",
   "execution_count": 7,
   "id": "dafedd26",
   "metadata": {},
   "outputs": [
    {
     "name": "stdout",
     "output_type": "stream",
     "text": [
      "7\n"
     ]
    }
   ],
   "source": [
    "#Aggressive Cows\n",
    "def check(A,B,mid):\n",
    "    last_placed = A[0]\n",
    "    count = 1\n",
    "    for i in range(len(A)):\n",
    "        if(A[i]-last_placed>=mid):\n",
    "            count += 1\n",
    "            last_placed = A[i]\n",
    "            if(count==B):\n",
    "                return True\n",
    "    return False\n",
    "\n",
    "\n",
    "A = [ 82, 61, 38, 88, 12, 7, 6, 12, 48, 8, 31, 90, 35, 5, 88, 2, 66, 19, 5, 96, 84, 95 ]\n",
    "B = 8\n",
    "# A = [1, 2, 3, 4, 5]\n",
    "# B = 3\n",
    "# A = [5,17,100,11]\n",
    "# B = 2\n",
    "# A = [ 6939, 2057, 3094, 9698, 6214, 9667, 8682, 6309, 928, 1603, 3194, 6188, 1170, 923, 7887, 3932, 9083, 1924, 2795, 1686, 3189, 303, 2254, 1148, 3312, 7357, 6162, 8194, 2923, 4763, 5314, 5499, 1271, 4919, 1067, 9698, 8553, 8097, 1883, 3478, 3542, 1702, 1872, 9795, 4593, 8876, 9385, 4873, 1747, 3290, 6890, 9086, 9782, 4590, 6903, 9879, 9490, 4179, 2588, 8976, 7187, 4223, 5784, 6836, 553, 3685, 9665, 943, 2222, 3969, 8065, 953, 1269, 3293, 8518, 2915, 6713, 3349, 1516, 6851, 6451, 3950, 4186, 6825, 9691, 1418, 2594, 286, 836, 4261, 3261, 3971, 8077, 5323, 1081, 6916, 429, 3074, 7832, 7264, 2915, 5905, 2719, 8433, 669, 2423, 3997, 1971, 9329, 7601, 8609, 8946, 828, 9315, 4980, 9069, 842, 2360, 2675, 6945, 6568, 7320, 1389, 7780, 1267, 9794, 983, 699, 5054, 1474, 3659, 6423, 9781, 8294, 9193, 7450, 9549, 2426, 4218, 3161, 7385, 4354, 6944, 9244, 2901, 8350, 9416, 756, 5405, 9802, 457, 755, 1838, 5560, 3746, 1929, 9178, 9181, 7151, 6960, 6477, 1342, 1417, 4424, 2615, 2008, 8543, 995, 1974, 4946, 2798, 7389, 1793, 7131, 243, 5081, 1721, 5231, 5777, 3159, 8234, 8907, 326, 9823, 4002, 5947, 4584, 1060, 5042, 7445, 9860, 9781, 6533, 2109, 1103, 2320, 1568, 7620, 1883, 5632, 5780, 3461, 6230, 7700, 4753, 4094, 7644, 5788, 497, 3490, 1282, 1934, 7819, 2077, 1345, 2823, 1375, 4980, 2051, 1604, 9482, 6038, 7226, 2550, 1218, 5572, 479, 5516, 9335, 1104, 5248, 6113, 2576, 9313, 1545, 9210, 7574, 4387, 4176, 7933, 2239, 2668, 5373, 7687, 9732, 5922, 3351, 4871, 4493, 5973, 7109, 2969, 9577, 1498, 6939, 4454, 7583, 3801, 9612, 5576, 5851, 2065, 6935, 2507, 264, 228, 6487, 1535, 1001, 6966, 3742, 3066, 7882, 7464, 5503, 9020, 2575, 712, 5570, 5891, 9871, 8824, 4944, 1216, 441, 5537, 483, 9469, 3112, 9539, 7917, 4533, 5496, 4435, 7368, 9814, 8041, 1349, 2166, 3730, 8035, 1940, 4595, 7965, 6930, 9387, 5433, 8094, 6429, 2350, 7709, 1485, 6264, 2295, 8888, 5246, 9291, 7625, 9878, 7856, 7611, 9097, 3697, 1693, 6786, 9698, 1441, 79, 3908, 8752, 8239, 1713, 9252, 4414, 7319, 7377, 586, 903, 6019, 8688, 3795, 6827, 3566, 6304, 3428, 8786, 6831, 5478, 2020, 78, 6889, 161, 7588, 7762, 6186, 2941, 4572, 2596, 3384, 7024, 4687, 5476, 560, 8199, 630, 817, 5304, 9265, 7389, 2093, 8507, 6748, 3047, 7190, 7136, 9913, 3375, 1609, 141, 5033, 2271, 5654, 4775, 3702, 3145, 7692, 85, 2551, 4737, 9347, 4104, 3152, 8527, 50, 1362, 5132, 3869, 7750, 7729, 2549, 1345, 9795, 316, 3450, 4378, 3004, 1204, 5163, 4141, 4765, 5076, 3412, 3008, 7628, 2505, 1564, 7356, 8318, 2610, 7490, 1396 ]\n",
    "# B = 385\n",
    "A.sort()\n",
    "# start = A[1]-A[0]\n",
    "start = 1\n",
    "end = max(A) - min(A)\n",
    "# print(A)\n",
    "while(start<=end):\n",
    "    mid = (start+end)//2\n",
    "    if(check(A,B,mid)):\n",
    "        ans = mid\n",
    "        start = mid + 1\n",
    "    else:   \n",
    "        end = mid-1\n",
    "print(ans)"
   ]
  },
  {
   "cell_type": "code",
   "execution_count": 105,
   "id": "443ed1d4",
   "metadata": {},
   "outputs": [
    {
     "name": "stdout",
     "output_type": "stream",
     "text": [
      "5\n"
     ]
    }
   ],
   "source": [
    "#Matrix Median\n",
    "def check_median(A,location,mid):\n",
    "    count = 0\n",
    "    for i in range(len(A)):\n",
    "        for j in range(len(A[0])):\n",
    "            if(A[i][j]<mid):\n",
    "                count += 1\n",
    "            if(count>location):\n",
    "                return False\n",
    "    return True\n",
    "\n",
    "\n",
    "A = [[1, 3, 5],[2, 6, 9],[3, 6, 9]] \n",
    "# A = [[5,17,100]]\n",
    "start = min(min(A))\n",
    "end = max(max(A))\n",
    "location = (len(A[0])*len(A))//2\n",
    "while(start<=end):\n",
    "    mid = (start+end)//2\n",
    "    if(check_median(A,location,mid)):\n",
    "        ans = mid\n",
    "        start = mid+1\n",
    "    else:\n",
    "        end = mid-1\n",
    "print(ans)"
   ]
  },
  {
   "cell_type": "code",
   "execution_count": 99,
   "id": "f2dace49",
   "metadata": {},
   "outputs": [
    {
     "name": "stdout",
     "output_type": "stream",
     "text": [
      "4\n"
     ]
    },
    {
     "data": {
      "text/plain": [
       "False"
      ]
     },
     "execution_count": 99,
     "metadata": {},
     "output_type": "execute_result"
    }
   ],
   "source": [
    "def check_median(A,location,mid):\n",
    "    count = 0\n",
    "    for i in range(len(A)):\n",
    "        for j in range(len(A[0])):\n",
    "            if(A[i][j]<mid):\n",
    "                count += 1\n",
    "#                 print(A[i][j],count,location)\n",
    "            if(count>location):\n",
    "                return False\n",
    "    return True\n",
    "\n",
    "A = [[1, 3, 5],[2, 6, 9],[3, 6, 9]]\n",
    "# A = [[5,17,100]]\n",
    "# print(len(A[0]))\n",
    "location = ((len(A[0])*len(A)))//2\n",
    "# print(location)\n",
    "check_median(A,location,6)"
   ]
  },
  {
   "cell_type": "code",
   "execution_count": 107,
   "id": "71fd09b1",
   "metadata": {},
   "outputs": [
    {
     "name": "stdout",
     "output_type": "stream",
     "text": [
      "6\n"
     ]
    }
   ],
   "source": [
    "#Ath magical \n",
    "def gcd(B, C):\n",
    "    if C == 0:\n",
    "        return B\n",
    "    return gcd(C, B % C)\n",
    "\n",
    "def magic_num_count(A, B, C, LCM):\n",
    "    return (A // B) + (A // C) - (A // LCM)\n",
    "\n",
    "\n",
    "A = 4\n",
    "B = 2\n",
    "C = 3\n",
    "GCD = gcd(B, C)\n",
    "LCM = (B * C) // GCD\n",
    "low = 1\n",
    "high = min(B, C) * A\n",
    "floor = 0\n",
    "while low <= high:\n",
    "    mid = (low + high) // 2\n",
    "    magic = magic_num_count(mid, B, C, LCM)\n",
    "    if magic >= A:\n",
    "        floor = mid\n",
    "        high = mid - 1\n",
    "    else:\n",
    "        low = mid + 1\n",
    "print(floor)"
   ]
  },
  {
   "cell_type": "code",
   "execution_count": 8,
   "id": "24614410",
   "metadata": {},
   "outputs": [
    {
     "name": "stdout",
     "output_type": "stream",
     "text": [
      "1000000000\n"
     ]
    }
   ],
   "source": [
    "# Find a peak element\n",
    "# A = [5, 17, 100, 11]\n",
    "# A = [1, 2, 3, 4, 5]\n",
    "A = [ 1, 1000000000, 1000000000 ]\n",
    "ans = 0\n",
    "n = len(A)\n",
    "if(A[0]>=A[1]):\n",
    "    ans = A[0]\n",
    "elif(A[n-1]>=A[n-2]):\n",
    "    ans = A[n-1]\n",
    "else:\n",
    "    start = 0\n",
    "    end = n-1\n",
    "    print(\"Inside else\",start,end)\n",
    "    while(start<=end):\n",
    "        mid = start + (end-start)//2\n",
    "        if(A[mid-1]<=A[mid]>=A[mid+1]):\n",
    "            ans = A[mid]\n",
    "            break\n",
    "        elif(A[mid-1]<A[mid]<A[mid+1]):\n",
    "            start = mid + 1\n",
    "        elif(A[mid-1]>A[mid]>A[mid+1]):\n",
    "            end = mid - 1\n",
    "        else:\n",
    "            start = mid + 1\n",
    "print(ans)"
   ]
  },
  {
   "cell_type": "code",
   "execution_count": 2,
   "id": "0501fb6d",
   "metadata": {},
   "outputs": [
    {
     "name": "stdout",
     "output_type": "stream",
     "text": [
      "113\n"
     ]
    }
   ],
   "source": [
    "# Allocate Books\n",
    "\n",
    "def reading_possible(A,B,mid):\n",
    "    pages = 0\n",
    "    students = 1\n",
    "    for i in range(len(A)):\n",
    "        if(pages+A[i]<=mid):\n",
    "            pages += A[i]\n",
    "        elif(students<B):\n",
    "            students += 1\n",
    "            pages = A[i]\n",
    "        else:\n",
    "            return False\n",
    "    return True\n",
    "\n",
    "A = [12,34,67,90]\n",
    "B = 2\n",
    "start = max(A)\n",
    "end = sum(A)\n",
    "ans = 0\n",
    "while(start<=end):\n",
    "    mid = (start+end)//2\n",
    "    if(reading_possible(A,B,mid)):\n",
    "        ans = mid\n",
    "        end = mid -1\n",
    "    else:\n",
    "        start = mid + 1\n",
    "print(ans)"
   ]
  },
  {
   "cell_type": "code",
   "execution_count": 2,
   "id": "38ff9085",
   "metadata": {},
   "outputs": [
    {
     "name": "stdout",
     "output_type": "stream",
     "text": [
      "1\n"
     ]
    }
   ],
   "source": [
    "# Family of Strings\n",
    "\n",
    "A = 3\n",
    "B = 4\n",
    "\n",
    "low = 0\n",
    "high = (2**(A+1))-2\n",
    "ans = 0\n",
    "while(low<=high):\n",
    "    mid = low +((high-low)>>1)\n",
    "    if(mid==B):\n",
    "        break\n",
    "\n",
    "    elif(mid<B):\n",
    "        ans = 1 - ans\n",
    "        low = mid + 1\n",
    "\n",
    "    else:\n",
    "        high = mid - 1\n",
    "    \n",
    "print(ans)"
   ]
  },
  {
   "cell_type": "code",
   "execution_count": 2,
   "id": "23dfc394",
   "metadata": {},
   "outputs": [
    {
     "name": "stdout",
     "output_type": "stream",
     "text": [
      "1\n"
     ]
    }
   ],
   "source": [
    "# nums = [0,1,7,4,4,5]\n",
    "# lower = 3\n",
    "# upper = 6\n",
    "\n",
    "nums = [1,7,9,2,5]\n",
    "lower = 11\n",
    "upper = 11\n",
    "\n",
    "\n",
    "nums.sort()\n",
    "n = len(nums)\n",
    "count = 0\n",
    "for i in range(n-1):\n",
    "    left, right = i+1, n-1\n",
    "    while left <= right:\n",
    "        mid = (left + right) // 2\n",
    "        if nums[i] + nums[mid] < lower:\n",
    "            left = mid + 1\n",
    "        else:\n",
    "            right = mid - 1\n",
    "    j = left\n",
    "    left, right = i+1, n-1\n",
    "    while left <= right:\n",
    "        mid = (left + right) // 2\n",
    "        if nums[i] + nums[mid] <= upper:\n",
    "            left = mid + 1\n",
    "        else:\n",
    "            right = mid - 1\n",
    "    k = left\n",
    "    count += k - j\n",
    "print(count)"
   ]
  },
  {
   "cell_type": "code",
   "execution_count": 12,
   "id": "8b9cb1cc",
   "metadata": {},
   "outputs": [
    {
     "name": "stdout",
     "output_type": "stream",
     "text": [
      "2\n"
     ]
    }
   ],
   "source": [
    "print(4^6)"
   ]
  },
  {
   "cell_type": "code",
   "execution_count": 10,
   "id": "3c7b1eb9",
   "metadata": {},
   "outputs": [],
   "source": [
    "s = \"101101\"\n",
    "pattern = '1010'\n",
    "\n",
    "if(pattern in s):\n",
    "    print(1)"
   ]
  },
  {
   "cell_type": "code",
   "execution_count": 47,
   "id": "685555ef",
   "metadata": {},
   "outputs": [
    {
     "name": "stdout",
     "output_type": "stream",
     "text": [
      "[[0, inf, inf, inf, inf], [0, inf, inf, inf, inf], [0, 0, 1, 2, 3], [0, 1, 2, 1, 2], [0, 2, 3, 2, 3], [0, 3, 4, 3, 2], [0, 0, 1, 2, 3], [0, 1, 2, 1, 2]]\n",
      "1\n"
     ]
    }
   ],
   "source": [
    "s = \"abacaba\"\n",
    "t = \"bzaa\"\n",
    "\n",
    "# s = \"cde\"\n",
    "# t = \"xyz\"\n",
    "\n",
    "# s = \"abecdebe\"\n",
    "# t = \"eaebceae\"\n",
    "\n",
    "n = len(s)\n",
    "m = len(t)\n",
    "dp = [[float('inf')] * (m+1) for _ in range(n+1)]\n",
    "\n",
    "for i in range(n+1):\n",
    "    dp[i][0] = 0\n",
    "\n",
    "for i in range(1, n+1):\n",
    "    for j in range(1, m+1):\n",
    "        if s[i-1] == t[j-1]:\n",
    "            dp[i][j] = dp[i-1][j-1]\n",
    "        else:\n",
    "            dp[i][j] = dp[i-1][j] + 1\n",
    "            if j > 1:\n",
    "                dp[i][j] = min(dp[i][j], dp[i][j-1] + 1)\n",
    "\n",
    "print(dp)\n",
    "ans = float('inf')\n",
    "for j in range(1, m+1):\n",
    "    ans = min(ans, dp[n][j])\n",
    "print(ans)"
   ]
  },
  {
   "cell_type": "code",
   "execution_count": null,
   "id": "aca255e9",
   "metadata": {},
   "outputs": [],
   "source": []
  }
 ],
 "metadata": {
  "kernelspec": {
   "display_name": "Python 3 (ipykernel)",
   "language": "python",
   "name": "python3"
  },
  "language_info": {
   "codemirror_mode": {
    "name": "ipython",
    "version": 3
   },
   "file_extension": ".py",
   "mimetype": "text/x-python",
   "name": "python",
   "nbconvert_exporter": "python",
   "pygments_lexer": "ipython3",
   "version": "3.9.7"
  }
 },
 "nbformat": 4,
 "nbformat_minor": 5
}
