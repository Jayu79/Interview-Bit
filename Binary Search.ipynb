{
 "cells": [
  {
   "cell_type": "code",
   "execution_count": 15,
   "id": "a1adc8c8",
   "metadata": {},
   "outputs": [
    {
     "data": {
      "text/plain": [
       "3"
      ]
     },
     "execution_count": 15,
     "metadata": {},
     "output_type": "execute_result"
    }
   ],
   "source": [
    "#Sorted Insert Position\n",
    "def binary_search(A,B):\n",
    "    start = 0\n",
    "    end = len(A)-1\n",
    "    if(B>A[end]):\n",
    "        return len(A)\n",
    "    while(start<=end):\n",
    "        mid = (start + end)//2\n",
    "        if(A[mid]==B):\n",
    "            return mid\n",
    "        elif(A[mid]<B):\n",
    "            start = mid+1\n",
    "        else:\n",
    "            end = mid-1\n",
    "    if(A[mid]<B):\n",
    "        return mid+1\n",
    "    else:\n",
    "        return mid\n",
    "A = [1,3,5,7]\n",
    "B = 6\n",
    "# A = [ 17, 30, 32, 69, 94, 96, 106, 118, 127, 159, 169, 170, 178, 183, 209, 238, 242, 247,\n",
    "#      253, 261, 265, 279, 288, 302, 305, 316, 352, 357, 374, 376, 392, 402, 410, 421, 439,\n",
    "#      442, 444, 446, 454, 458, 464, 467, 468, 498, 500, 513, 523, 541, 545, 556, 575, 608,\n",
    "#      616, 629, 631, 635, 669, 674, 682, 686, 693, 695, 719, 733, 754, 755, 756, 778, 802,\n",
    "#      822, 824, 828, 835, 847, 848, 862, 864, 878, 883, 885, 904, 908, 928, 934 ]\n",
    "# B = 106\n",
    "binary_search(A,B)"
   ]
  },
  {
   "cell_type": "code",
   "execution_count": 52,
   "id": "aab82a6d",
   "metadata": {},
   "outputs": [
    {
     "name": "stdout",
     "output_type": "stream",
     "text": [
      "1 1\n"
     ]
    }
   ],
   "source": [
    "#Search for range\n",
    "def start_index(A,B):\n",
    "    start = 0\n",
    "    end = len(A)-1\n",
    "    start_idx = -1\n",
    "    while(start<=end):\n",
    "        mid = (start+end)//2\n",
    "        if(A[mid]==B):\n",
    "            start_idx = mid\n",
    "            end = mid - 1\n",
    "        elif(A[mid]<B):\n",
    "            start = mid+1\n",
    "        else:\n",
    "            end = mid-1\n",
    "    return start_idx\n",
    "def end_index(A,B):\n",
    "    start = 0\n",
    "    end = len(A)-1\n",
    "    end_idx = -1\n",
    "    while(start<=end):\n",
    "        mid = (start+end)//2\n",
    "        if(A[mid]==B):\n",
    "            end_idx = mid\n",
    "            start = mid + 1\n",
    "        elif(A[mid]<B):\n",
    "            start = mid + 1\n",
    "        else:\n",
    "            end = mid - 1\n",
    "    return end_idx\n",
    "A = [5, 7, 8, 8, 8, 10]\n",
    "B = 7\n",
    "s = start_index(A,B)\n",
    "e = end_index(A,B)\n",
    "print(s,e)"
   ]
  },
  {
   "cell_type": "code",
   "execution_count": 111,
   "id": "db38b49e",
   "metadata": {},
   "outputs": [
    {
     "name": "stdout",
     "output_type": "stream",
     "text": [
      "1\n",
      "7\n",
      "56\n"
     ]
    }
   ],
   "source": [
    "#Matrix Search\n",
    "def column_search(A,B):\n",
    "    start = 0\n",
    "    end = len(A)-1\n",
    "    col_len = len(A[0])-1\n",
    "    if(end==0):\n",
    "        return 0\n",
    "    while(start<=end):\n",
    "        mid = (start+end)//2\n",
    "#         print(start,end,mid,A[mid][col_len],B)\n",
    "#         print()\n",
    "        if(A[mid][col_len]==B):\n",
    "            return mid\n",
    "        elif(A[mid][col_len]<B):\n",
    "            start = mid + 1\n",
    "        else:\n",
    "            end = mid - 1\n",
    "    if(mid==len(A)-1):\n",
    "        return mid\n",
    "    elif(A[mid][col_len]<B and A[mid+1][col_len]>B):\n",
    "        mid += 1\n",
    "        return mid\n",
    "    else:\n",
    "        return mid\n",
    "def row_search(A,B,col):\n",
    "    start = 0\n",
    "    end = len(A[0])-1\n",
    "    while(start<=end):\n",
    "        mid = (start+end)//2\n",
    "        if(A[col][mid]==B):\n",
    "            return mid\n",
    "        elif(A[col][mid]<B):\n",
    "            start = mid + 1\n",
    "        else:\n",
    "            end = mid - 1\n",
    "    return mid\n",
    "    \n",
    "A = [\n",
    "  [3, 4, 9, 10, 14, 17, 18, 20, 29, 32],\n",
    "  [33, 36, 38, 46, 51, 52, 56, 56, 56, 58],\n",
    "  [66, 72, 72, 76, 76, 76, 82, 85, 90, 96]\n",
    "]\n",
    "B = 56\n",
    "# A = [[22,32,67]]\n",
    "# B = 67\n",
    "col = column_search(A,B)\n",
    "print(column_search(A,B))\n",
    "row = row_search(A,B,col)\n",
    "print(row_search(A,B,col))\n",
    "print(A[col][row])"
   ]
  },
  {
   "cell_type": "code",
   "execution_count": 119,
   "id": "3fc38d9b",
   "metadata": {},
   "outputs": [
    {
     "data": {
      "text/plain": [
       "-1"
      ]
     },
     "execution_count": 119,
     "metadata": {},
     "output_type": "execute_result"
    }
   ],
   "source": [
    "#Ceiling in a sorted array\n",
    "def ceiling(A,B):\n",
    "    start = 0\n",
    "    end = len(A)-1\n",
    "    ans = -1\n",
    "    while(start<=end):\n",
    "        mid = (start+end)//2\n",
    "        if(A[mid]==B):\n",
    "            return A[mid]\n",
    "        elif(A[mid]>B):\n",
    "            ans = A[mid]\n",
    "            end = mid - 1\n",
    "        else:\n",
    "            start = mid + 1\n",
    "    return ans\n",
    "A = [2,5,6,9,18]\n",
    "B = 22\n",
    "ceiling(A,B)"
   ]
  },
  {
   "cell_type": "code",
   "execution_count": 145,
   "id": "3b1404dc",
   "metadata": {},
   "outputs": [
    {
     "name": "stdout",
     "output_type": "stream",
     "text": [
      "10 2 -1\n"
     ]
    }
   ],
   "source": [
    "#Bitonic Array\n",
    "def bitonic(A):\n",
    "    start = 0\n",
    "    end = len(A)-1\n",
    "    n = len(A)\n",
    "    while(start<=end):\n",
    "        mid = (start+end)//2\n",
    "#         print(mid,A[mid])\n",
    "        if(mid>0 and mid<n-1 and A[mid]>A[mid-1] and A[mid+1]<A[mid] ):\n",
    "            return mid\n",
    "        elif(A[mid-1]<A[mid]<A[mid+1]):\n",
    "            start = mid + 1\n",
    "        else:\n",
    "            end = mid - 1\n",
    "    return mid\n",
    "\n",
    "def left(A,B,start,end):\n",
    "    while(start<=end):\n",
    "        mid = (start+end)//2\n",
    "        if(A[mid]==B):\n",
    "            return mid\n",
    "        elif(A[mid]<B):\n",
    "            start = mid + 1\n",
    "        else:\n",
    "            end = mid - 1\n",
    "    return -1\n",
    "\n",
    "def right(A,B,start,end):\n",
    "    while(start<=end):\n",
    "        mid = (start+end)//2\n",
    "#         print(mid,A[mid])\n",
    "        if(A[mid]==B):\n",
    "            return mid\n",
    "        elif(A[mid]<B):\n",
    "            end = mid - 1\n",
    "        else:\n",
    "            start = mid + 1\n",
    "    return -1\n",
    "\n",
    "A = [ 1, 2, 3, 4, 5, 6, 7, 8, 9, 10, 20, 19, 18, 17, 16, 15, 14, 13, 12, 11 ]\n",
    "B = 3\n",
    "start = 0\n",
    "end = len(A)-1\n",
    "# A = [3, 9, 10, 20, 17, 5, 1]\n",
    "knot = bitonic(A)\n",
    "if(A[knot]==B):\n",
    "    print(knot)\n",
    "left_ans = left(A,B,start,knot)\n",
    "right_ans = right(A,B,knot+1,end)\n",
    "print(knot,left_ans,right_ans)"
   ]
  },
  {
   "cell_type": "code",
   "execution_count": 185,
   "id": "862b7781",
   "metadata": {},
   "outputs": [
    {
     "name": "stdout",
     "output_type": "stream",
     "text": [
      "4\n",
      "4\n"
     ]
    }
   ],
   "source": [
    "#Rotated Sorted Array Search\n",
    "def pivot(A):\n",
    "    start = 0\n",
    "    end = len(A)-1\n",
    "    n = len(A)\n",
    "    while(start<=end):\n",
    "        mid = (start+end)//2\n",
    "        if(mid>0 and mid<n-1 and A[mid-1]>A[mid] and A[mid+1]>A[mid]):\n",
    "            return mid\n",
    "        elif(A[mid]>A[end]):\n",
    "            start = mid + 1\n",
    "        else:\n",
    "            end = mid - 1\n",
    "    return mid\n",
    "\n",
    "def search(A,B,start,end):\n",
    "    while(start<=end):\n",
    "        mid = (start+end)//2\n",
    "        if(A[mid]==B):\n",
    "            return mid\n",
    "        elif(A[mid]<B):\n",
    "            start = mid + 1\n",
    "        else:\n",
    "            end = mid - 1\n",
    "    return -1\n",
    "\n",
    "# A = [4,5,6,7,0,1,2,3]\n",
    "# B = 8\n",
    "A = [1,2,3,4,0]\n",
    "B = 0\n",
    "start = 0\n",
    "end = len(A)-1\n",
    "center = pivot(A)\n",
    "# print(center)\n",
    "if(B<=A[center-1] and B>=A[0] and center != 0):\n",
    "    ans = search(A,B,start,center-1)\n",
    "else:\n",
    "    ans = search(A,B,center,end)\n",
    "print(ans)"
   ]
  },
  {
   "cell_type": "code",
   "execution_count": 8,
   "id": "56d37965",
   "metadata": {},
   "outputs": [
    {
     "data": {
      "text/plain": [
       "4"
      ]
     },
     "execution_count": 8,
     "metadata": {},
     "output_type": "execute_result"
    }
   ],
   "source": [
    "#Square root of a Number\n",
    "def square_root(A,start,end):\n",
    "    while(start<=end):\n",
    "        mid = (start+end)//2\n",
    "#         print(start,end,mid)\n",
    "        if(mid*mid==A):\n",
    "            ans = mid\n",
    "            return ans\n",
    "        elif(mid*mid<A):\n",
    "            ans = mid\n",
    "            start = mid + 1\n",
    "        else:\n",
    "            end = mid - 1\n",
    "    return ans\n",
    "A = 16\n",
    "start = 0\n",
    "end = A\n",
    "square_root(A,start,end)"
   ]
  },
  {
   "cell_type": "code",
   "execution_count": 59,
   "id": "07607a82",
   "metadata": {},
   "outputs": [
    {
     "name": "stdout",
     "output_type": "stream",
     "text": [
      "5 14\n"
     ]
    }
   ],
   "source": [
    "#Special Integer\n",
    "def max_sum(A,k):\n",
    "    start = 0\n",
    "    end = k\n",
    "    max_sum = 0\n",
    "    for i in range(0,k):\n",
    "        max_sum = max_sum + A[i]\n",
    "    temp_sum = max_sum\n",
    "    while(end<len(A)):\n",
    "        temp_sum = temp_sum - A[start]\n",
    "        temp_sum = temp_sum + A[end]\n",
    "        max_sum = max(max_sum,temp_sum)\n",
    "        start += 1\n",
    "        end += 1\n",
    "    return max_sum\n",
    "# A = [7,8,9,10,3,4,5,6]\n",
    "A = [1,2,3,4,5]\n",
    "B = 19\n",
    "# A = [1,1000000000]\n",
    "# B = 10000000002\n",
    "start = 0\n",
    "end = len(A)-1\n",
    "while(start<=end):\n",
    "    mid = (start+end)//2\n",
    "#     print(start,end,mid)\n",
    "    ans_sum = max_sum(A,mid)\n",
    "    if(ans_sum<=B):\n",
    "        ans = mid\n",
    "        start = mid + 1\n",
    "    else:\n",
    "        end = mid -1\n",
    "if(B>ans_sum and ans == len(A)-1):\n",
    "    ans += 1\n",
    "print(ans,ans_sum)"
   ]
  },
  {
   "cell_type": "code",
   "execution_count": 80,
   "id": "816c3b85",
   "metadata": {},
   "outputs": [
    {
     "name": "stdout",
     "output_type": "stream",
     "text": [
      "2\n"
     ]
    }
   ],
   "source": [
    "#Kth Price\n",
    "def check_price(A,m,B):\n",
    "    count = 0\n",
    "    for i in A:\n",
    "        if(i<=m):\n",
    "            count += 1\n",
    "    return True if count>= B else False\n",
    "A = [2,1,4,3,2]\n",
    "start = 0\n",
    "B = 3\n",
    "end = max(A)\n",
    "while(start<=end):\n",
    "    mid = (start+end)//2\n",
    "#     print(mid)\n",
    "    if(not check_price(A,mid,B)):\n",
    "#         print(\"inside if\",start,end,mid)\n",
    "        start = mid + 1\n",
    "    else:\n",
    "        end = mid - 1\n",
    "print(start)"
   ]
  },
  {
   "cell_type": "code",
   "execution_count": null,
   "id": "febb3231",
   "metadata": {},
   "outputs": [],
   "source": []
  }
 ],
 "metadata": {
  "kernelspec": {
   "display_name": "Python 3 (ipykernel)",
   "language": "python",
   "name": "python3"
  },
  "language_info": {
   "codemirror_mode": {
    "name": "ipython",
    "version": 3
   },
   "file_extension": ".py",
   "mimetype": "text/x-python",
   "name": "python",
   "nbconvert_exporter": "python",
   "pygments_lexer": "ipython3",
   "version": "3.9.7"
  }
 },
 "nbformat": 4,
 "nbformat_minor": 5
}
