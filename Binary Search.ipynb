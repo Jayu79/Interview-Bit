{
 "cells": [
  {
   "cell_type": "code",
   "execution_count": 15,
   "id": "33f47e5f",
   "metadata": {},
   "outputs": [
    {
     "data": {
      "text/plain": [
       "3"
      ]
     },
     "execution_count": 15,
     "metadata": {},
     "output_type": "execute_result"
    }
   ],
   "source": [
    "#Sorted Insert Position\n",
    "def binary_search(A,B):\n",
    "    start = 0\n",
    "    end = len(A)-1\n",
    "    if(B>A[end]):\n",
    "        return len(A)\n",
    "    while(start<=end):\n",
    "        mid = (start + end)//2\n",
    "        if(A[mid]==B):\n",
    "            return mid\n",
    "        elif(A[mid]<B):\n",
    "            start = mid+1\n",
    "        else:\n",
    "            end = mid-1\n",
    "    if(A[mid]<B):\n",
    "        return mid+1\n",
    "    else:\n",
    "        return mid\n",
    "A = [1,3,5,7]\n",
    "B = 6\n",
    "# A = [ 17, 30, 32, 69, 94, 96, 106, 118, 127, 159, 169, 170, 178, 183, 209, 238, 242, 247,\n",
    "#      253, 261, 265, 279, 288, 302, 305, 316, 352, 357, 374, 376, 392, 402, 410, 421, 439,\n",
    "#      442, 444, 446, 454, 458, 464, 467, 468, 498, 500, 513, 523, 541, 545, 556, 575, 608,\n",
    "#      616, 629, 631, 635, 669, 674, 682, 686, 693, 695, 719, 733, 754, 755, 756, 778, 802,\n",
    "#      822, 824, 828, 835, 847, 848, 862, 864, 878, 883, 885, 904, 908, 928, 934 ]\n",
    "# B = 106\n",
    "binary_search(A,B)"
   ]
  },
  {
   "cell_type": "code",
   "execution_count": 52,
   "id": "0fb20848",
   "metadata": {},
   "outputs": [
    {
     "name": "stdout",
     "output_type": "stream",
     "text": [
      "1 1\n"
     ]
    }
   ],
   "source": [
    "#Search for range\n",
    "def start_index(A,B):\n",
    "    start = 0\n",
    "    end = len(A)-1\n",
    "    start_idx = -1\n",
    "    while(start<=end):\n",
    "        mid = (start+end)//2\n",
    "        if(A[mid]==B):\n",
    "            start_idx = mid\n",
    "            end = mid - 1\n",
    "        elif(A[mid]<B):\n",
    "            start = mid+1\n",
    "        else:\n",
    "            end = mid-1\n",
    "    return start_idx\n",
    "def end_index(A,B):\n",
    "    start = 0\n",
    "    end = len(A)-1\n",
    "    end_idx = -1\n",
    "    while(start<=end):\n",
    "        mid = (start+end)//2\n",
    "        if(A[mid]==B):\n",
    "            end_idx = mid\n",
    "            start = mid + 1\n",
    "        elif(A[mid]<B):\n",
    "            start = mid + 1\n",
    "        else:\n",
    "            end = mid - 1\n",
    "    return end_idx\n",
    "A = [5, 7, 8, 8, 8, 10]\n",
    "B = 7\n",
    "s = start_index(A,B)\n",
    "e = end_index(A,B)\n",
    "print(s,e)"
   ]
  },
  {
   "cell_type": "code",
   "execution_count": 111,
   "id": "d3a93f0f",
   "metadata": {},
   "outputs": [
    {
     "name": "stdout",
     "output_type": "stream",
     "text": [
      "1\n",
      "7\n",
      "56\n"
     ]
    }
   ],
   "source": [
    "#Matrix Search\n",
    "def column_search(A,B):\n",
    "    start = 0\n",
    "    end = len(A)-1\n",
    "    col_len = len(A[0])-1\n",
    "    if(end==0):\n",
    "        return 0\n",
    "    while(start<=end):\n",
    "        mid = (start+end)//2\n",
    "#         print(start,end,mid,A[mid][col_len],B)\n",
    "#         print()\n",
    "        if(A[mid][col_len]==B):\n",
    "            return mid\n",
    "        elif(A[mid][col_len]<B):\n",
    "            start = mid + 1\n",
    "        else:\n",
    "            end = mid - 1\n",
    "    if(mid==len(A)-1):\n",
    "        return mid\n",
    "    elif(A[mid][col_len]<B and A[mid+1][col_len]>B):\n",
    "        mid += 1\n",
    "        return mid\n",
    "    else:\n",
    "        return mid\n",
    "def row_search(A,B,col):\n",
    "    start = 0\n",
    "    end = len(A[0])-1\n",
    "    while(start<=end):\n",
    "        mid = (start+end)//2\n",
    "        if(A[col][mid]==B):\n",
    "            return mid\n",
    "        elif(A[col][mid]<B):\n",
    "            start = mid + 1\n",
    "        else:\n",
    "            end = mid - 1\n",
    "    return mid\n",
    "    \n",
    "A = [\n",
    "  [3, 4, 9, 10, 14, 17, 18, 20, 29, 32],\n",
    "  [33, 36, 38, 46, 51, 52, 56, 56, 56, 58],\n",
    "  [66, 72, 72, 76, 76, 76, 82, 85, 90, 96]\n",
    "]\n",
    "B = 56\n",
    "# A = [[22,32,67]]\n",
    "# B = 67\n",
    "col = column_search(A,B)\n",
    "print(column_search(A,B))\n",
    "row = row_search(A,B,col)\n",
    "print(row_search(A,B,col))\n",
    "print(A[col][row])"
   ]
  },
  {
   "cell_type": "code",
   "execution_count": 119,
   "id": "f264c801",
   "metadata": {},
   "outputs": [
    {
     "data": {
      "text/plain": [
       "-1"
      ]
     },
     "execution_count": 119,
     "metadata": {},
     "output_type": "execute_result"
    }
   ],
   "source": [
    "#Ceiling in a sorted array\n",
    "def ceiling(A,B):\n",
    "    start = 0\n",
    "    end = len(A)-1\n",
    "    ans = -1\n",
    "    while(start<=end):\n",
    "        mid = (start+end)//2\n",
    "        if(A[mid]==B):\n",
    "            return A[mid]\n",
    "        elif(A[mid]>B):\n",
    "            ans = A[mid]\n",
    "            end = mid - 1\n",
    "        else:\n",
    "            start = mid + 1\n",
    "    return ans\n",
    "A = [2,5,6,9,18]\n",
    "B = 22\n",
    "ceiling(A,B)"
   ]
  },
  {
   "cell_type": "code",
   "execution_count": null,
   "id": "e76dc0e2",
   "metadata": {},
   "outputs": [],
   "source": []
  }
 ],
 "metadata": {
  "kernelspec": {
   "display_name": "Python 3 (ipykernel)",
   "language": "python",
   "name": "python3"
  },
  "language_info": {
   "codemirror_mode": {
    "name": "ipython",
    "version": 3
   },
   "file_extension": ".py",
   "mimetype": "text/x-python",
   "name": "python",
   "nbconvert_exporter": "python",
   "pygments_lexer": "ipython3",
   "version": "3.9.7"
  }
 },
 "nbformat": 4,
 "nbformat_minor": 5
}
