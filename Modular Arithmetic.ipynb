{
 "cells": [
  {
   "cell_type": "code",
   "execution_count": null,
   "id": "e91631b7",
   "metadata": {},
   "outputs": [],
   "source": [
    "# Divisible by 8\n",
    "A = '123'\n",
    "n = len(A)\n",
    "s = \"\"\n",
    "if n <= 3:\n",
    "    s = A\n",
    "    num = int(s)\n",
    "else:\n",
    "    s = A[n-3] + A[n-2] + A[n-1]\n",
    "    num = int(s)\n",
    "if num%8 == 0:\n",
    "    print(1)\n",
    "else:\n",
    "    print(0)"
   ]
  },
  {
   "cell_type": "code",
   "execution_count": null,
   "id": "e3935e32",
   "metadata": {},
   "outputs": [],
   "source": [
    "# A B and modulo\n",
    "A =10\n",
    "B =5\n",
    "if(A>B):\n",
    "    print(A-B)\n",
    "else:\n",
    "    print(B-A)"
   ]
  },
  {
   "cell_type": "code",
   "execution_count": null,
   "id": "780eb844",
   "metadata": {},
   "outputs": [],
   "source": [
    "#Excel column number\n",
    "result = 0\n",
    "A = 'AAB'\n",
    "for i in range(0,len(A)):\n",
    "    result = result*26\n",
    "    result = result + ord(A[i]) - ord('A') + 1\n",
    "print(result)"
   ]
  },
  {
   "cell_type": "code",
   "execution_count": null,
   "id": "ba42b97d",
   "metadata": {},
   "outputs": [],
   "source": [
    "#Mod String\n",
    "fans = 0\n",
    "ans = 1\n",
    "A = '43535321'\n",
    "P = 47\n",
    "n = len(A)\n",
    "for i in range(n-1,-1,-1):\n",
    "    fans = fans + (((int(A[i])%P)*(ans%P))%P)\n",
    "    fans = fans % P\n",
    "    ans = (ans*10)%P\n",
    "print(fans)"
   ]
  },
  {
   "cell_type": "code",
   "execution_count": 18,
   "id": "f6e1fa4d",
   "metadata": {},
   "outputs": [
    {
     "name": "stdout",
     "output_type": "stream",
     "text": [
      "144966\n"
     ]
    }
   ],
   "source": [
    "#concatenate 3 numbers\n",
    "A = 49\n",
    "B = 14\n",
    "C = 66\n",
    "if(A <= B and B <= C):\n",
    "    print(A*10000 + B*100 + C)\n",
    "elif(A <= C and C <= B):\n",
    "    print(A*10000 + C*100 + B)\n",
    "elif(B <= A and A <= C):\n",
    "    print(B*10000 + A*100 + C)\n",
    "elif(B <= C and C <= A):\n",
    "    print(B*10000 + C*100 + A)\n",
    "elif(C <= A and A <= B):\n",
    "    print(C*10000 + A*100 + B)\n",
    "else:\n",
    "    print(C*10000 + B*100 + A)"
   ]
  },
  {
   "cell_type": "code",
   "execution_count": 23,
   "id": "66374f06",
   "metadata": {},
   "outputs": [
    {
     "name": "stdout",
     "output_type": "stream",
     "text": [
      "18\n"
     ]
    }
   ],
   "source": [
    "#LCM\n",
    "A = 9\n",
    "B = 6\n",
    "greater = max(A,B)\n",
    "ans = greater\n",
    "while(1):\n",
    "    if(ans%A == 0 and ans%B == 0):\n",
    "        break\n",
    "    ans = ans + 1\n",
    "print(ans)"
   ]
  },
  {
   "cell_type": "code",
   "execution_count": 29,
   "id": "5cc30707",
   "metadata": {},
   "outputs": [
    {
     "name": "stdout",
     "output_type": "stream",
     "text": [
      "91.0 21.0\n",
      "3.0 6.0\n"
     ]
    }
   ],
   "source": [
    "# Repeat and missing number array\n",
    "A = [1,2,3,3,4,5]\n",
    "n =len(A)\n",
    "tss = ((n*(n+1)*((2*n)+1)))/6\n",
    "css = 0\n",
    "ts = (n*(n+1))/2\n",
    "cs = 0\n",
    "# print(tss,ts)\n",
    "for i in A:\n",
    "    cs = cs + i\n",
    "    css = css + (i*i)\n",
    "X = (tss-css)/(ts-cs) # X = B+A\n",
    "Y = (ts - cs)  # Y = B-A\n",
    "C = (X + Y)/2\n",
    "A = X - B\n",
    "print(A,B)"
   ]
  },
  {
   "cell_type": "code",
   "execution_count": 32,
   "id": "f1558db9",
   "metadata": {},
   "outputs": [
    {
     "name": "stdout",
     "output_type": "stream",
     "text": [
      "1\n"
     ]
    }
   ],
   "source": [
    "#Find if 2 Rectangles Overlad\n",
    "A = 0   \n",
    "B = 0\n",
    "C = 4   \n",
    "D = 4\n",
    "E = 2   \n",
    "F = 2\n",
    "G = 6   \n",
    "H = 6\n",
    "if(A<G and B<H and E<C and F<D):\n",
    "    print(1)\n",
    "else:\n",
    "    print(0)"
   ]
  },
  {
   "cell_type": "code",
   "execution_count": null,
   "id": "46790d8b",
   "metadata": {},
   "outputs": [],
   "source": []
  }
 ],
 "metadata": {
  "kernelspec": {
   "display_name": "Python 3 (ipykernel)",
   "language": "python",
   "name": "python3"
  },
  "language_info": {
   "codemirror_mode": {
    "name": "ipython",
    "version": 3
   },
   "file_extension": ".py",
   "mimetype": "text/x-python",
   "name": "python",
   "nbconvert_exporter": "python",
   "pygments_lexer": "ipython3",
   "version": "3.9.7"
  }
 },
 "nbformat": 4,
 "nbformat_minor": 5
}
