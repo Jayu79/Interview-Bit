{
 "cells": [
  {
   "cell_type": "code",
   "execution_count": 14,
   "id": "c82d7a83",
   "metadata": {},
   "outputs": [
    {
     "name": "stdout",
     "output_type": "stream",
     "text": [
      "[0, 0, 0, 1, 1, 2, 2]\n"
     ]
    }
   ],
   "source": [
    "#Sort By Colour\n",
    "A = [0,1,2,0,1,2,0]\n",
    "ans = []\n",
    "count_0 = 0\n",
    "count_1 = 0\n",
    "count_2 = 0\n",
    "for i in A:\n",
    "    if(i==0):\n",
    "        count_0 = count_0 + 1\n",
    "    elif(i==1):\n",
    "        count_1 = count_1 + 1\n",
    "    elif(i==2):\n",
    "        count_2 = count_2 + 1\n",
    "ans.extend([0]*(count_0))\n",
    "ans.extend([1]*(count_1))\n",
    "ans.extend([2]*(count_2))\n",
    "print(ans)"
   ]
  },
  {
   "cell_type": "code",
   "execution_count": 29,
   "id": "17eaf326",
   "metadata": {},
   "outputs": [
    {
     "name": "stdout",
     "output_type": "stream",
     "text": [
      "[0, 0, 0, -1, -2, -3]\n",
      "0 0\n",
      "0 0\n",
      "-1 3\n",
      "-2 4\n",
      "-3 5\n",
      "3\n"
     ]
    }
   ],
   "source": [
    "#Noble Integer\n",
    "A = [ -1, -2, 0, 0, 0, -3 ]\n",
    "A.sort(reverse = True)\n",
    "c = 0\n",
    "ans = 0\n",
    "print(A)\n",
    "if(A[0] == 0):\n",
    "    ans = 1\n",
    "for i in range(1,len(A)):\n",
    "    if(A[i]!=A[i-1]):\n",
    "        c = i\n",
    "    if(A[i]==c):\n",
    "        ans = ans + 1\n",
    "    print(A[i],c)\n",
    "print(ans)"
   ]
  },
  {
   "cell_type": "code",
   "execution_count": 42,
   "id": "19932180",
   "metadata": {},
   "outputs": [
    {
     "name": "stdout",
     "output_type": "stream",
     "text": [
      "1 1\n",
      "1 1\n",
      "1 1\n",
      "1 2\n",
      "0\n"
     ]
    }
   ],
   "source": [
    "#Arithmetic Progression\n",
    "A = [2,3,1,4,5,7]\n",
    "A.sort()\n",
    "count = 0\n",
    "for i in range(1,len(A)-1):\n",
    "    print((A[i]-A[i-1]),(A[i+1]-A[i]))\n",
    "    if((A[i]-A[i-1])!=(A[i+1]-A[i])):\n",
    "        count = count + 1\n",
    "if(count == 0):\n",
    "    print(1)\n",
    "else:\n",
    "    print(0)"
   ]
  },
  {
   "cell_type": "code",
   "execution_count": 47,
   "id": "6e11d9ad",
   "metadata": {},
   "outputs": [
    {
     "name": "stdout",
     "output_type": "stream",
     "text": [
      "1 4\n",
      "2 3\n",
      "3 2\n",
      "4 1\n",
      "20\n"
     ]
    }
   ],
   "source": [
    "#Elements removal\n",
    "A = [3,4,2,1]\n",
    "A.sort(reverse = True)\n",
    "ans = 0\n",
    "for i in range(0,len(A)):\n",
    "    ans = ans + ((i+1)*A[i])\n",
    "print(ans)"
   ]
  },
  {
   "cell_type": "code",
   "execution_count": 58,
   "id": "64aa4d50",
   "metadata": {},
   "outputs": [
    {
     "name": "stdout",
     "output_type": "stream",
     "text": [
      "['3', '30', '34', '5', '9']\n",
      "['34', '30', '3', '5', '9']\n",
      "['5', '30', '3', '34', '9']\n",
      "['9', '30', '3', '34', '5']\n",
      "After 0 Iteration ['9', '30', '3', '34', '5']\n",
      "['9', '3', '30', '34', '5']\n",
      "['9', '34', '30', '3', '5']\n",
      "['9', '5', '30', '3', '34']\n",
      "After 1 Iteration ['9', '5', '30', '3', '34']\n",
      "['9', '5', '3', '30', '34']\n",
      "['9', '5', '34', '30', '3']\n",
      "After 2 Iteration ['9', '5', '34', '30', '3']\n",
      "['9', '5', '34', '3', '30']\n",
      "After 3 Iteration ['9', '5', '34', '3', '30']\n",
      "After 4 Iteration ['9', '5', '34', '3', '30']\n",
      "9534330\n"
     ]
    }
   ],
   "source": [
    "#Largest Number\n",
    "A = (3, 30, 34, 5, 9)\n",
    "A = list(A)\n",
    "if(len(A) == 1):\n",
    "    print(str(A[0]))\n",
    "for i in range(len(A)):\n",
    "    A[i] = str(A[i])\n",
    "for j in range(len(A)):\n",
    "    for k in range(j+1,len(A)):\n",
    "#         print(\"Inside K\",A[j],A[k])\n",
    "        if(int(A[k]+A[j])>int(A[j]+A[k])):\n",
    "#             print(A[i],A[k])\n",
    "            A[j],A[k] = A[k],A[j]\n",
    "        print(A)\n",
    "    print(\"After\",j,\"Iteration\",A)\n",
    "ans = ''.join(A)\n",
    "print(ans)"
   ]
  },
  {
   "cell_type": "code",
   "execution_count": 84,
   "id": "6fd0995d",
   "metadata": {},
   "outputs": [
    {
     "name": "stdout",
     "output_type": "stream",
     "text": [
      "00 00\n",
      "00\n",
      "00 00\n",
      "00\n",
      "00 00\n",
      "00\n",
      "0000\n"
     ]
    }
   ],
   "source": [
    "#Largest Number\n",
    "class your_comparator(str):\n",
    "    def __lt__(a,b):\n",
    "        A = a+b\n",
    "        B = b+a\n",
    "        print(A,B)\n",
    "        if(A>B):\n",
    "            print(A)\n",
    "            return True\n",
    "        else:\n",
    "            print(B)\n",
    "            return False\n",
    "#         print(a+b>b+a)\n",
    "#         return a+b > b+a\n",
    "# A = (3, 30, 34, 5, 9)\n",
    "A = (0,0,0,0)\n",
    "A = list(A)\n",
    "if(len(A) == 1):\n",
    "    print(str(A[0]))\n",
    "for i in range(len(A)):\n",
    "    A[i] = str(A[i])\n",
    "largest_sum = ''.join(sorted(A,key = your_comparator))\n",
    "print(largest_sum)"
   ]
  },
  {
   "cell_type": "code",
   "execution_count": null,
   "id": "ec2b24b3",
   "metadata": {},
   "outputs": [],
   "source": []
  }
 ],
 "metadata": {
  "kernelspec": {
   "display_name": "Python 3 (ipykernel)",
   "language": "python",
   "name": "python3"
  },
  "language_info": {
   "codemirror_mode": {
    "name": "ipython",
    "version": 3
   },
   "file_extension": ".py",
   "mimetype": "text/x-python",
   "name": "python",
   "nbconvert_exporter": "python",
   "pygments_lexer": "ipython3",
   "version": "3.9.7"
  }
 },
 "nbformat": 4,
 "nbformat_minor": 5
}
